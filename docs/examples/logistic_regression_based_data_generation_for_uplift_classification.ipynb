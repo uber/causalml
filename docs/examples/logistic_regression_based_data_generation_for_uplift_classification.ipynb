{
 "cells": [
  {
   "cell_type": "markdown",
   "metadata": {},
   "source": [
    "# Logistic Regression Based Data Generation Function for Uplift Classification Problem\n",
    "This Data Generation Function uses Logistic Regression as the underlying data generation model.\n",
    "This function enables better control of feature patterns: how feature is associated with outcome baseline and treatment effect. It enables 6 differernt patterns: Linear, Quadratic, Cubic, Relu, Sine, and Cosine. \n",
    "\n",
    "This notebook shows how to use this data generation function to generate data, with a visualization of the feature patterns.\n"
   ]
  },
  {
   "cell_type": "code",
   "execution_count": 1,
   "metadata": {},
   "outputs": [],
   "source": [
    "import matplotlib.pyplot as plt\n",
    "import seaborn as sns\n",
    "import numpy as np\n",
    "\n",
    "%matplotlib inline"
   ]
  },
  {
   "cell_type": "markdown",
   "metadata": {},
   "source": [
    "### Import Data Generation Function"
   ]
  },
  {
   "cell_type": "code",
   "execution_count": 2,
   "metadata": {},
   "outputs": [
    {
     "name": "stderr",
     "output_type": "stream",
     "text": [
      "The sklearn.utils.testing module is  deprecated in version 0.22 and will be removed in version 0.24. The corresponding classes / functions should instead be imported from sklearn.utils. Anything that cannot be imported from sklearn.utils is now part of the private API.\n"
     ]
    }
   ],
   "source": [
    "from causalml.dataset import make_uplift_classification_logistic"
   ]
  },
  {
   "cell_type": "markdown",
   "metadata": {},
   "source": [
    "### Generate Data"
   ]
  },
  {
   "cell_type": "code",
   "execution_count": 47,
   "metadata": {},
   "outputs": [],
   "source": [
    "df, feature_name = make_uplift_classification_logistic( n_samples=100000,\n",
    "                                                        treatment_name=['control', 'treatment1', 'treatment2', 'treatment3'],\n",
    "                                                        y_name='conversion',\n",
    "                                                        n_classification_features=10,\n",
    "                                                        n_classification_informative=5,\n",
    "                                                        n_classification_redundant=0,\n",
    "                                                        n_classification_repeated=0,\n",
    "                                                        n_uplift_dict={'treatment1': 2, 'treatment2': 2, 'treatment3': 3},\n",
    "                                                        n_mix_informative_uplift_dict={'treatment1': 1, 'treatment2': 1, 'treatment3': 0},\n",
    "                                                        delta_uplift_dict={'treatment1': 0.05, 'treatment2': 0.02, 'treatment3': -0.05},\n",
    "                                                       feature_association_list = ['linear','quadratic','cubic','relu','sin','cos'],\n",
    "                                                       random_select_association = False,\n",
    "                                                       random_seed=20200416\n",
    "                                                        \n",
    "                                                      )"
   ]
  },
  {
   "cell_type": "code",
   "execution_count": 48,
   "metadata": {},
   "outputs": [
    {
     "data": {
      "text/html": [
       "<div>\n",
       "<style scoped>\n",
       "    .dataframe tbody tr th:only-of-type {\n",
       "        vertical-align: middle;\n",
       "    }\n",
       "\n",
       "    .dataframe tbody tr th {\n",
       "        vertical-align: top;\n",
       "    }\n",
       "\n",
       "    .dataframe thead th {\n",
       "        text-align: right;\n",
       "    }\n",
       "</style>\n",
       "<table border=\"1\" class=\"dataframe\">\n",
       "  <thead>\n",
       "    <tr style=\"text-align: right;\">\n",
       "      <th></th>\n",
       "      <th>treatment_group_key</th>\n",
       "      <th>x1_informative</th>\n",
       "      <th>x1_informative_transformed</th>\n",
       "      <th>x2_informative</th>\n",
       "      <th>x2_informative_transformed</th>\n",
       "      <th>x3_informative</th>\n",
       "      <th>x3_informative_transformed</th>\n",
       "      <th>x4_informative</th>\n",
       "      <th>x4_informative_transformed</th>\n",
       "      <th>x5_informative</th>\n",
       "      <th>...</th>\n",
       "      <th>conversion_prob</th>\n",
       "      <th>control_conversion_prob</th>\n",
       "      <th>control_true_effect</th>\n",
       "      <th>treatment1_conversion_prob</th>\n",
       "      <th>treatment1_true_effect</th>\n",
       "      <th>treatment2_conversion_prob</th>\n",
       "      <th>treatment2_true_effect</th>\n",
       "      <th>treatment3_conversion_prob</th>\n",
       "      <th>treatment3_true_effect</th>\n",
       "      <th>conversion</th>\n",
       "    </tr>\n",
       "  </thead>\n",
       "  <tbody>\n",
       "    <tr>\n",
       "      <th>0</th>\n",
       "      <td>treatment1</td>\n",
       "      <td>-0.194205</td>\n",
       "      <td>-0.192043</td>\n",
       "      <td>1.791408</td>\n",
       "      <td>1.572609</td>\n",
       "      <td>0.678028</td>\n",
       "      <td>0.080696</td>\n",
       "      <td>-0.169306</td>\n",
       "      <td>-0.683035</td>\n",
       "      <td>-1.837155</td>\n",
       "      <td>...</td>\n",
       "      <td>0.126770</td>\n",
       "      <td>0.076138</td>\n",
       "      <td>0.0</td>\n",
       "      <td>0.126770</td>\n",
       "      <td>0.050632</td>\n",
       "      <td>0.087545</td>\n",
       "      <td>0.011407</td>\n",
       "      <td>0.029396</td>\n",
       "      <td>-0.046742</td>\n",
       "      <td>0</td>\n",
       "    </tr>\n",
       "    <tr>\n",
       "      <th>1</th>\n",
       "      <td>treatment1</td>\n",
       "      <td>-0.898070</td>\n",
       "      <td>-0.894462</td>\n",
       "      <td>0.252125</td>\n",
       "      <td>-0.663393</td>\n",
       "      <td>-0.842844</td>\n",
       "      <td>-0.156004</td>\n",
       "      <td>-0.047769</td>\n",
       "      <td>-0.683035</td>\n",
       "      <td>-0.251752</td>\n",
       "      <td>...</td>\n",
       "      <td>0.064278</td>\n",
       "      <td>0.070799</td>\n",
       "      <td>0.0</td>\n",
       "      <td>0.064278</td>\n",
       "      <td>-0.006522</td>\n",
       "      <td>0.101076</td>\n",
       "      <td>0.030277</td>\n",
       "      <td>0.050778</td>\n",
       "      <td>-0.020021</td>\n",
       "      <td>0</td>\n",
       "    </tr>\n",
       "    <tr>\n",
       "      <th>2</th>\n",
       "      <td>treatment1</td>\n",
       "      <td>0.701002</td>\n",
       "      <td>0.701325</td>\n",
       "      <td>0.239320</td>\n",
       "      <td>-0.667867</td>\n",
       "      <td>1.700766</td>\n",
       "      <td>1.278676</td>\n",
       "      <td>-0.734568</td>\n",
       "      <td>-0.683035</td>\n",
       "      <td>-1.130113</td>\n",
       "      <td>...</td>\n",
       "      <td>0.018480</td>\n",
       "      <td>0.014947</td>\n",
       "      <td>0.0</td>\n",
       "      <td>0.018480</td>\n",
       "      <td>0.003534</td>\n",
       "      <td>0.018055</td>\n",
       "      <td>0.003109</td>\n",
       "      <td>0.019327</td>\n",
       "      <td>0.004380</td>\n",
       "      <td>0</td>\n",
       "    </tr>\n",
       "    <tr>\n",
       "      <th>3</th>\n",
       "      <td>control</td>\n",
       "      <td>-1.653684</td>\n",
       "      <td>-1.648524</td>\n",
       "      <td>-0.119123</td>\n",
       "      <td>-0.698492</td>\n",
       "      <td>-0.037645</td>\n",
       "      <td>-0.000355</td>\n",
       "      <td>0.687429</td>\n",
       "      <td>0.495943</td>\n",
       "      <td>-1.427400</td>\n",
       "      <td>...</td>\n",
       "      <td>0.102799</td>\n",
       "      <td>0.102799</td>\n",
       "      <td>0.0</td>\n",
       "      <td>0.101410</td>\n",
       "      <td>-0.001390</td>\n",
       "      <td>0.040230</td>\n",
       "      <td>-0.062569</td>\n",
       "      <td>0.030753</td>\n",
       "      <td>-0.072046</td>\n",
       "      <td>0</td>\n",
       "    </tr>\n",
       "    <tr>\n",
       "      <th>4</th>\n",
       "      <td>treatment3</td>\n",
       "      <td>1.057909</td>\n",
       "      <td>1.057498</td>\n",
       "      <td>-2.019523</td>\n",
       "      <td>2.190564</td>\n",
       "      <td>-0.950180</td>\n",
       "      <td>-0.223370</td>\n",
       "      <td>-1.505741</td>\n",
       "      <td>-0.683035</td>\n",
       "      <td>-0.399457</td>\n",
       "      <td>...</td>\n",
       "      <td>0.012964</td>\n",
       "      <td>0.106241</td>\n",
       "      <td>0.0</td>\n",
       "      <td>0.171309</td>\n",
       "      <td>0.065068</td>\n",
       "      <td>0.114526</td>\n",
       "      <td>0.008285</td>\n",
       "      <td>0.012964</td>\n",
       "      <td>-0.093277</td>\n",
       "      <td>0</td>\n",
       "    </tr>\n",
       "  </tbody>\n",
       "</table>\n",
       "<p>5 rows × 47 columns</p>\n",
       "</div>"
      ],
      "text/plain": [
       "  treatment_group_key  x1_informative  x1_informative_transformed  \\\n",
       "0          treatment1       -0.194205                   -0.192043   \n",
       "1          treatment1       -0.898070                   -0.894462   \n",
       "2          treatment1        0.701002                    0.701325   \n",
       "3             control       -1.653684                   -1.648524   \n",
       "4          treatment3        1.057909                    1.057498   \n",
       "\n",
       "   x2_informative  x2_informative_transformed  x3_informative  \\\n",
       "0        1.791408                    1.572609        0.678028   \n",
       "1        0.252125                   -0.663393       -0.842844   \n",
       "2        0.239320                   -0.667867        1.700766   \n",
       "3       -0.119123                   -0.698492       -0.037645   \n",
       "4       -2.019523                    2.190564       -0.950180   \n",
       "\n",
       "   x3_informative_transformed  x4_informative  x4_informative_transformed  \\\n",
       "0                    0.080696       -0.169306                   -0.683035   \n",
       "1                   -0.156004       -0.047769                   -0.683035   \n",
       "2                    1.278676       -0.734568                   -0.683035   \n",
       "3                   -0.000355        0.687429                    0.495943   \n",
       "4                   -0.223370       -1.505741                   -0.683035   \n",
       "\n",
       "   x5_informative  ...  conversion_prob  control_conversion_prob  \\\n",
       "0       -1.837155  ...         0.126770                 0.076138   \n",
       "1       -0.251752  ...         0.064278                 0.070799   \n",
       "2       -1.130113  ...         0.018480                 0.014947   \n",
       "3       -1.427400  ...         0.102799                 0.102799   \n",
       "4       -0.399457  ...         0.012964                 0.106241   \n",
       "\n",
       "   control_true_effect  treatment1_conversion_prob  treatment1_true_effect  \\\n",
       "0                  0.0                    0.126770                0.050632   \n",
       "1                  0.0                    0.064278               -0.006522   \n",
       "2                  0.0                    0.018480                0.003534   \n",
       "3                  0.0                    0.101410               -0.001390   \n",
       "4                  0.0                    0.171309                0.065068   \n",
       "\n",
       "   treatment2_conversion_prob  treatment2_true_effect  \\\n",
       "0                    0.087545                0.011407   \n",
       "1                    0.101076                0.030277   \n",
       "2                    0.018055                0.003109   \n",
       "3                    0.040230               -0.062569   \n",
       "4                    0.114526                0.008285   \n",
       "\n",
       "   treatment3_conversion_prob  treatment3_true_effect  conversion  \n",
       "0                    0.029396               -0.046742           0  \n",
       "1                    0.050778               -0.020021           0  \n",
       "2                    0.019327                0.004380           0  \n",
       "3                    0.030753               -0.072046           0  \n",
       "4                    0.012964               -0.093277           0  \n",
       "\n",
       "[5 rows x 47 columns]"
      ]
     },
     "execution_count": 48,
     "metadata": {},
     "output_type": "execute_result"
    }
   ],
   "source": [
    "df.head()"
   ]
  },
  {
   "cell_type": "code",
   "execution_count": 49,
   "metadata": {},
   "outputs": [
    {
     "data": {
      "text/html": [
       "['x1_informative', 'x2_informative', 'x3_informative', 'x4_informative', 'x5_informative', 'x6_irrelevant', 'x7_irrelevant', 'x8_irrelevant', 'x9_irrelevant', 'x10_irrelevant', 'x11_uplift', 'x12_uplift', 'x13_uplift', 'x14_uplift', 'x15_uplift', 'x16_uplift', 'x17_uplift', 'x18_mix', 'x19_mix']"
      ],
      "text/plain": [
       "['x1_informative',\n",
       " 'x2_informative',\n",
       " 'x3_informative',\n",
       " 'x4_informative',\n",
       " 'x5_informative',\n",
       " 'x6_irrelevant',\n",
       " 'x7_irrelevant',\n",
       " 'x8_irrelevant',\n",
       " 'x9_irrelevant',\n",
       " 'x10_irrelevant',\n",
       " 'x11_uplift',\n",
       " 'x12_uplift',\n",
       " 'x13_uplift',\n",
       " 'x14_uplift',\n",
       " 'x15_uplift',\n",
       " 'x16_uplift',\n",
       " 'x17_uplift',\n",
       " 'x18_mix',\n",
       " 'x19_mix']"
      ]
     },
     "execution_count": 49,
     "metadata": {},
     "output_type": "execute_result"
    }
   ],
   "source": [
    "feature_name"
   ]
  },
  {
   "cell_type": "markdown",
   "metadata": {},
   "source": [
    "### Experiment Group Mean"
   ]
  },
  {
   "cell_type": "code",
   "execution_count": 50,
   "metadata": {},
   "outputs": [
    {
     "data": {
      "text/plain": [
       "treatment_group_key\n",
       "control       0.09896\n",
       "treatment1    0.15088\n",
       "treatment2    0.12042\n",
       "treatment3    0.04972\n",
       "Name: conversion, dtype: float64"
      ]
     },
     "execution_count": 50,
     "metadata": {},
     "output_type": "execute_result"
    }
   ],
   "source": [
    "df.groupby(['treatment_group_key'])['conversion'].mean()"
   ]
  },
  {
   "cell_type": "markdown",
   "metadata": {},
   "source": [
    "### Visualize Feature Pattern"
   ]
  },
  {
   "cell_type": "code",
   "execution_count": 51,
   "metadata": {},
   "outputs": [
    {
     "data": {
      "text/plain": [
       "treatment_group_key\n",
       "control       0.09896\n",
       "treatment1    0.15088\n",
       "Name: conversion, dtype: float64"
      ]
     },
     "execution_count": 51,
     "metadata": {},
     "output_type": "execute_result"
    }
   ],
   "source": [
    "# Extract control and treatment1 for illustration\n",
    "treatment_group_keys = ['control','treatment1']\n",
    "y_name='conversion'\n",
    "df1 = df[df['treatment_group_key'].isin(treatment_group_keys)].reset_index(drop=True)\n",
    "df1.groupby(['treatment_group_key'])['conversion'].mean()"
   ]
  },
  {
   "cell_type": "code",
   "execution_count": 53,
   "metadata": {},
   "outputs": [
    {
     "data": {
      "image/png": "[encoded data removed]",
      "text/plain": [
       "<Figure size 1440x216 with 4 Axes>"
      ]
     },
     "metadata": {},
     "output_type": "display_data"
    }
   ],
   "source": [
    "color_dict = {'control':'#2471a3','treatment1':'#FF5733','treatment2':'#5D6D7E'\n",
    "             ,'treatment3':'#34495E','treatment4':'#283747'}\n",
    "\n",
    "hatch_dict = {'control':'','treatment1':'//'}\n",
    "\n",
    "x_name_plot = ['x11_uplift', 'x12_uplift', 'x2_informative', 'x5_informative']\n",
    "\n",
    "x_new_name_plot = ['Uplift Feature 1', 'Uplift Feature 2', 'Classification Feature 1','Classification Feature 2']\n",
    "opacity = 0.8\n",
    "\n",
    "plt.figure(figsize=(20, 3))\n",
    "subplot_list = [141,142,143,144]\n",
    "counter = 0\n",
    "bar_width = 0.9/len(treatment_group_keys)\n",
    "for x_name_i in x_name_plot:\n",
    "    bins = np.percentile(df1[x_name_i].values, np.linspace(0, 100, 11))[:-1]\n",
    "    df1['x_bin'] = np.digitize(df1[x_name_i].values, bins)\n",
    "    df_gb = df1.groupby(['treatment_group_key','x_bin'],as_index=False)[y_name].mean()\n",
    "    plt.subplot(subplot_list[counter])\n",
    "    for ti in range(len(treatment_group_keys)):\n",
    "        x_index = [ti * bar_width - len(treatment_group_keys)/2*bar_width + xi for xi in range(10)]\n",
    "        plt.bar(x_index, \n",
    "                df_gb[df_gb['treatment_group_key']==treatment_group_keys[ti]][y_name].values, \n",
    "                bar_width,\n",
    "                alpha=opacity,\n",
    "                color=color_dict[treatment_group_keys[ti]],\n",
    "                hatch = hatch_dict[treatment_group_keys[ti]],\n",
    "                label=treatment_group_keys[ti]\n",
    "               )\n",
    "    plt.xticks(range(10), [int(xi+10) for xi in np.linspace(0, 100, 11)[:-1]])\n",
    "    plt.xlabel(x_new_name_plot[counter],fontsize=16)\n",
    "    plt.ylabel('Conversion',fontsize=16)\n",
    "    #plt.title(x_name_i)\n",
    "    if counter == 0:\n",
    "        plt.legend(treatment_group_keys, loc=2,fontsize=16)\n",
    "    plt.ylim([0.,0.3])\n",
    "    counter+=1\n",
    "    "
   ]
  },
  {
   "cell_type": "markdown",
   "metadata": {},
   "source": [
    "In the figure above, Uplift Feature 1 has a linear pattern on treatment effect, Uplift Feature 2 has a quadratic pattern on treatment effect, Classification Feature 1 has a quadratic pattern on baseline for both treatment and control, and Classification Feature 2 has a Sine pattern on baseline for both treatment and control."
   ]
  },
  {
   "cell_type": "code",
   "execution_count": null,
   "metadata": {},
   "outputs": [],
   "source": []
  }
 ],
 "metadata": {
  "kernelspec": {
   "display_name": "Python 3",
   "language": "python",
   "name": "python3"
  },
  "language_info": {
   "codemirror_mode": {
    "name": "ipython",
    "version": 3
   },
   "file_extension": ".py",
   "mimetype": "text/x-python",
   "name": "python",
   "nbconvert_exporter": "python",
   "pygments_lexer": "ipython3",
   "version": "3.7.3"
  }
 },
 "nbformat": 4,
 "nbformat_minor": 4
}
