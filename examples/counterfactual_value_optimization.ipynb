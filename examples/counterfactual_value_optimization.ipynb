{
 "cells": [
  {
   "cell_type": "markdown",
   "metadata": {},
   "source": [
    "# Counterfactual value estimation using outcome imputation"
   ]
  },
  {
   "cell_type": "markdown",
   "metadata": {},
   "source": [
    "## Introduction\n",
    "The goal in uplift modeling is usually to predict the best treatment condition for an individual. Most of the time, the best treatment condition is assumed to be the one that has the highest probability of some \"conversion event\" such as the individual's purchasing a product. This is the traditional approach in which the goal is to maximize conversion.\n",
    "\n",
    "However, if the goal of uplift modeling is to maximize value, then it is not safe to assume that the best treatment group is the one with the highest expected conversion. For example, it might be that the payoff from conversion is not sufficient to offset the cost of the treatment, or it might be that the treatment targets individuals who would convert anyway [(Li and Pearl 2019)](https://ftp.cs.ucla.edu/pub/stat_ser/r488.pdf). Therefore, it is often important to conduct some kind of value optimization together with uplift modeling, in order to determine the treatment group with the best value, not just the best lift.\n",
    "\n",
    "The Causal ML package includes the CounterfactualValueEstimator class to conduct simple imputation-based value optimization. This notebook demonstrates the use of CounterfactualValueEstimator to determine the best treatment group when the costs of treatments are taken into account. We consider two kinds of costs:\n",
    "\n",
    "* **Conversion costs** are those that we must endure if an individual who is in the treatment group converts. A typical example would be the cost of a promotional voucher.\n",
    "* **Impression costs** are those that we need to pay for each individual in the treatment group irrespective of whether they convert. A typical example would be the cost associated with sending an SMS or email.\n",
    "\n",
    "The proposed method takes two inputs: the CATE estimate $\\hat{\\tau}$ learned by any suitable method, and the predicted outcome for an individual learned by what we call the conversion probability model that estimates the conditional probability of conversion $P(Y=1 \\mid X=x, W=x)$ where $W$ is the treatment group indicator. That is, the model estimates the probability of conversion for each individual using their observed pre-treatment features $X$. The output of this model is then combined with the predicted CATE in order to impute the expected conversion probability for each individual under \\textit{each treatment condition} as follows:\n",
    "\n",
    "\\begin{equation}\n",
    "\\hat{Y}_i^0 = \n",
    "    \\begin{cases}\n",
    "    \\hat{m}(X_i, W_i) & \\text{for } W_i = 0 \\\\\n",
    "    \\hat{m}(X_i, W_i) - \\hat{\\tau}_t(X_i) & \\text{for } W_i = t \\\\\n",
    "    \\end{cases}\n",
    "\\end{equation}\n",
    "\n",
    "\\begin{equation}\n",
    "\\hat{Y}_i^t = \n",
    "    \\begin{cases}\n",
    "    \\hat{m}(X_i, W_i) + \\hat{\\tau}_t(X_i) & \\text{for } W_i = 0 \\\\\n",
    "    \\hat{m}(X_i, W_i) & \\text{for } W_i = t \\\\\n",
    "    \\end{cases}\n",
    "\\end{equation}\n",
    "\n",
    "The fact that we impute the conversion probability under each experimental condition--the actual as well as the counterfactual--gives our method its name. Using the estimated conversion probabilities, we then compute the expected payoff under each treatment condition while taking into account the value of conversion and the conversion and impression costs associated with each treatment, as follows (see [Zhao and Harinen (2019)](https://arxiv.org/abs/1908.05372) for more details):\n",
    "\n",
    "\\begin{equation}\n",
    "    \\mathbb{E}[(v - cc_t)Y_t - ic_t]\n",
    "\\end{equation}\n",
    "\n",
    "where $cc_t$ and $ic_t$ are the conversion costs and impression costs, respectively."
   ]
  },
  {
   "cell_type": "code",
   "execution_count": 2,
   "metadata": {},
   "outputs": [
    {
     "name": "stderr",
     "output_type": "stream",
     "text": [
      "The sklearn.utils.testing module is  deprecated in version 0.22 and will be removed in version 0.24. The corresponding classes / functions should instead be imported from sklearn.utils. Anything that cannot be imported from sklearn.utils is now part of the private API.\n",
      "sklearn.tree._criterion.RegressionCriterion size changed, may indicate binary incompatibility. Expected 168 from C header, got 360 from PyObject\n",
      "sklearn.tree._criterion.Criterion size changed, may indicate binary incompatibility. Expected 160 from C header, got 352 from PyObject\n",
      "sklearn.tree._criterion.ClassificationCriterion size changed, may indicate binary incompatibility. Expected 176 from C header, got 368 from PyObject\n"
     ]
    }
   ],
   "source": [
    "import numpy as np\n",
    "import pandas as pd\n",
    "\n",
    "from sklearn.model_selection import train_test_split\n",
    "\n",
    "import xgboost as xgb\n",
    "\n",
    "from causalml.dataset import make_uplift_classification\n",
    "from causalml.inference.meta import BaseTClassifier\n",
    "from causalml.optimize import CounterfactualValueEstimator\n",
    "from causalml.optimize import get_treatment_costs\n",
    "from causalml.optimize import get_actual_value\n",
    "\n",
    "import matplotlib.pyplot as plt\n",
    "import seaborn as sns\n",
    "sns.set_style('whitegrid')\n",
    "\n",
    "%matplotlib inline"
   ]
  },
  {
   "cell_type": "markdown",
   "metadata": {},
   "source": [
    "## Data generation"
   ]
  },
  {
   "cell_type": "markdown",
   "metadata": {},
   "source": [
    "First, we simulate some heterogeneous treatment data using the built-in function."
   ]
  },
  {
   "cell_type": "code",
   "execution_count": 3,
   "metadata": {},
   "outputs": [],
   "source": [
    "df, X_names = make_uplift_classification(\n",
    "    n_samples=5000, treatment_name=['control', 'treatment1', 'treatment2'])"
   ]
  },
  {
   "cell_type": "markdown",
   "metadata": {},
   "source": [
    "In this example, we assume there are no costs associated with assigning units into the control group, and that for the two treatment groups the conversion cost are \\\\$2.5 and \\\\$5, respectively. We assume the impression costs to be zero for one of the treatments and \\\\$0.02 for the other. We also specify the payoff, which we here assume to be the same for everyone, \\\\$20. However, these values could vary from individual to individual."
   ]
  },
  {
   "cell_type": "code",
   "execution_count": 4,
   "metadata": {},
   "outputs": [],
   "source": [
    "# Put costs into dicts\n",
    "conversion_cost_dict = {'control': 0, 'treatment1': 2.5, 'treatment2': 5}\n",
    "impression_cost_dict = {'control': 0, 'treatment1': 0, 'treatment2': 0.02}\n",
    "\n",
    "# Use a helper function to put treatment costs to array\n",
    "cc_array, ic_array, conditions = get_treatment_costs(treatment=df['treatment_group_key'],\n",
    "                                                     control_name='control',\n",
    "                                                     cc_dict=conversion_cost_dict,\n",
    "                                                     ic_dict=impression_cost_dict)\n",
    "\n",
    "# Put the conversion value into an array\n",
    "conversion_value_array = np.full(df.shape[0], 20)"
   ]
  },
  {
   "cell_type": "markdown",
   "metadata": {},
   "source": [
    "Next we calculate the value of actually having an individual in their actual treatment group using the equation for expected value under a treatment, ie:\n",
    "\n",
    "\\begin{equation}\n",
    "    \\mathbb{E}[(v - cc_t)Y_t - ic_t]\n",
    "\\end{equation}"
   ]
  },
  {
   "cell_type": "code",
   "execution_count": 5,
   "metadata": {},
   "outputs": [],
   "source": [
    "# Use a helper function to obtain the value of actual treatment\n",
    "actual_value = get_actual_value(treatment=df['treatment_group_key'],\n",
    "                                observed_outcome=df['conversion'],\n",
    "                                conversion_value=conversion_value_array,\n",
    "                                conditions=conditions,\n",
    "                                conversion_cost=cc_array,\n",
    "                                impression_cost=ic_array)"
   ]
  },
  {
   "cell_type": "code",
   "execution_count": 6,
   "metadata": {},
   "outputs": [
    {
     "data": {
      "image/png": "[encoded data removed]",
      "text/plain": [
       "<Figure size 432x288 with 1 Axes>"
      ]
     },
     "metadata": {
      "needs_background": "light"
     },
     "output_type": "display_data"
    }
   ],
   "source": [
    "plt.hist(actual_value)\n",
    "plt.show()"
   ]
  },
  {
   "cell_type": "markdown",
   "metadata": {},
   "source": [
    "## Model evaluation"
   ]
  },
  {
   "cell_type": "markdown",
   "metadata": {},
   "source": [
    "A common problem in the uplift modeling literature is that of evaluating the quality of the treatment recommendations produced by a model. The evaluation of uplift models is tricky because we do not observe treatment effects at an individual level directly in non-simulated data, so it is not possible to use standard model evaluation metrics such as mean squared error. Consequently, various authors have proposed various ways to work around this issue. For example, [Schuler et al (2018)](https://arxiv.org/abs/1804.05146) identify seven different evaluation strategies used in the literature. \n",
    "\n",
    "Below, we use the approach of model evaluation put forward by [Kaepelner et al (2014)](https://arxiv.org/abs/1404.7844). The idea in this method is to evaluate the improvement we would gain if we targeted some as-yet untreated future population by using the recommendations produced by a particular model. To do so, we split the data into disjoint training and testing sets, and train our model on the training data. We then use the model to predict the best treatment group for units in the testing data, which in a simple two-arm trial is either treatment or control. In order to estimate the outcome for the future population if the model were to be used, we then select a subset of the testing data based on whether their observed treatment allocation happens to be the same as the one recommended by the model. This population is called \"lucky\"."
   ]
  },
  {
   "cell_type": "markdown",
   "metadata": {},
   "source": [
    "| Predicted best treatment | Actual treatment | Lucky |\n",
    "|--------------------------|------------------|-------|\n",
    "| Control | Control | Yes |\n",
    "| Control | Treatment | No |\n",
    "| Treatment | Treatment | Yes |\n",
    "| Treatment | Control | No |"
   ]
  },
  {
   "cell_type": "markdown",
   "metadata": {},
   "source": [
    "The average outcome for the \"lucky\" population can be taken to represent what the outcome would be for a future untreated population if we were to use the uplift model in question to allocate treatments. Recall that in all of the experiments the treatments are assumed to have been allocated randomly across the total population, so there should be no selection bias. The average outcome under a given model can then be compared with alternative treatment allocation strategies. As [Kaepelner et al (2014)](https://arxiv.org/abs/1404.7844) point out, two common strategies are random allocation and \"best treatment\" allocation. To estimate what the outcome for a future population would be under random allocation, we can simply look at the sample mean across the total test population. To estimate the same for the \"best treatment\" assignment, we can look at those units in the test set whose observed treatment assignment corresponds to the treatment group with the best average treatment effect. These alternative targeting strategies are interesting because they are a common practice in industry applications and elsewhere."
   ]
  },
  {
   "cell_type": "markdown",
   "metadata": {},
   "source": [
    "### Performance against benchmarks\n",
    "\n",
    "In this section, we compare four different targeting strategies:\n",
    "\n",
    "* Random treatment allocation under which all units in the testing set are randomly assigned to treatments\n",
    "* The \"best treatment\" allocation under which all units in the testing set are assigned to the treatment with the best conversion in the training set\n",
    "* Allocation under an uplift model in which all units in the testing set are assigned to the treatment which is predicted to have the highest conversion rate according to an uplift model trained on the training set\n",
    "* Allocation under the counterfactual value estimator model in which all units are assigned to the treatment group with the best predicted payoff"
   ]
  },
  {
   "cell_type": "code",
   "execution_count": 7,
   "metadata": {},
   "outputs": [],
   "source": [
    "df_train, df_test = train_test_split(df)\n",
    "train_idx = df_train.index\n",
    "test_idx = df_test.index"
   ]
  },
  {
   "cell_type": "code",
   "execution_count": 8,
   "metadata": {},
   "outputs": [],
   "source": [
    "# Calculate the benchmark value according to the random allocation\n",
    "# and best treatment schemes\n",
    "random_allocation_value = actual_value.loc[test_idx].mean()\n",
    "\n",
    "best_ate = df_train.groupby(\n",
    "    'treatment_group_key')['conversion'].mean().idxmax()\n",
    "\n",
    "actual_is_best_ate = df_test['treatment_group_key'] == best_ate\n",
    "\n",
    "best_ate_value = actual_value.loc[test_idx][actual_is_best_ate].mean()"
   ]
  },
  {
   "cell_type": "code",
   "execution_count": 9,
   "metadata": {},
   "outputs": [],
   "source": [
    "# Calculate the value under an uplift model \n",
    "tm = BaseTClassifier(control_learner=xgb.XGBClassifier(),\n",
    "                     treatment_learner=xgb.XGBClassifier(),\n",
    "                     control_name='control')\n",
    "\n",
    "tm.fit(df_train[X_names].values,\n",
    "       df_train['treatment_group_key'],\n",
    "       df_train['conversion'])\n",
    "\n",
    "tm_pred = tm.predict(df_test[X_names].values)\n",
    "\n",
    "pred_df = pd.DataFrame(tm_pred, columns=tm._classes)\n",
    "tm_best = pred_df.idxmax(axis=1)\n",
    "actual_is_tm_best = df_test['treatment_group_key'] == tm_best.ravel()\n",
    "tm_value = actual_value.loc[test_idx][actual_is_tm_best].mean()"
   ]
  },
  {
   "cell_type": "code",
   "execution_count": 10,
   "metadata": {},
   "outputs": [],
   "source": [
    "# Estimate the conditional mean model; this is a pure curve\n",
    "# fitting exercise\n",
    "proba_model = xgb.XGBClassifier()\n",
    "\n",
    "W_dummies = pd.get_dummies(df['treatment_group_key'])\n",
    "XW = np.c_[df[X_names], W_dummies]\n",
    "\n",
    "proba_model.fit(XW[train_idx], df_train['conversion'])\n",
    "y_proba = proba_model.predict_proba(XW[test_idx])[:, 1]"
   ]
  },
  {
   "cell_type": "code",
   "execution_count": 11,
   "metadata": {},
   "outputs": [],
   "source": [
    "# Run the counterfactual calculation with TwoModel prediction\n",
    "cve = CounterfactualValueEstimator(treatment=df_test['treatment_group_key'],\n",
    "                                   control_name='control',\n",
    "                                   treatment_names=conditions[1:],\n",
    "                                   y_proba=y_proba,\n",
    "                                   cate=tm_pred,\n",
    "                                   value=conversion_value_array[test_idx],\n",
    "                                   conversion_cost=cc_array[test_idx],\n",
    "                                   impression_cost=ic_array[test_idx])\n",
    "\n",
    "cve_best_idx = cve.predict_best()\n",
    "cve_best = [conditions[idx] for idx in cve_best_idx]\n",
    "actual_is_cve_best = df.loc[test_idx, 'treatment_group_key'] == cve_best\n",
    "cve_value = actual_value.loc[test_idx][actual_is_cve_best].mean()"
   ]
  },
  {
   "cell_type": "code",
   "execution_count": 12,
   "metadata": {},
   "outputs": [
    {
     "data": {
      "image/png": "[encoded data removed]",
      "text/plain": [
       "<Figure size 432x288 with 1 Axes>"
      ]
     },
     "metadata": {
      "needs_background": "light"
     },
     "output_type": "display_data"
    }
   ],
   "source": [
    "labels = [\n",
    "    'Random allocation',\n",
    "    'Best treatment',\n",
    "    'T-Learner',\n",
    "    'CounterfactualValueEstimator'\n",
    "]\n",
    "\n",
    "values = [\n",
    "    random_allocation_value,\n",
    "    best_ate_value,\n",
    "    tm_value,\n",
    "    cve_value\n",
    "]\n",
    "\n",
    "plt.bar(labels, values)\n",
    "plt.ylabel('Mean actual value in testing set')\n",
    "plt.xticks(rotation=45)\n",
    "plt.show()"
   ]
  },
  {
   "cell_type": "markdown",
   "metadata": {},
   "source": [
    "Here, only CounterfactualValueEstimator improves upon random targeting. The \"best treatment\" and T-Learner approaches likely perform worse because they recommend costly treatments to individuals who would convert anyway."
   ]
  }
 ],
 "metadata": {
  "kernelspec": {
   "display_name": "Python 3",
   "language": "python",
   "name": "python3"
  },
  "language_info": {
   "codemirror_mode": {
    "name": "ipython",
    "version": 3
   },
   "file_extension": ".py",
   "mimetype": "text/x-python",
   "name": "python",
   "nbconvert_exporter": "python",
   "pygments_lexer": "ipython3",
   "version": "3.7.2"
  }
 },
 "nbformat": 4,
 "nbformat_minor": 2
}
