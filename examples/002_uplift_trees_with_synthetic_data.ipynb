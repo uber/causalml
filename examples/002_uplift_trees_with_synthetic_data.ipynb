{
 "cells": [
  {
   "cell_type": "markdown",
   "metadata": {},
   "source": [
    "# Introduction\n",
    "\n",
    "CausalML is a Python package that provides a suite of uplift modeling and causal inference methods using machine learning algorithms based on recent research. The package currently supports the following methods:\n",
    "\n",
    "Tree-based algorithms\n",
    "* Uplift tree/random forests on KL divergence, Euclidean Distance, and Chi-Square\n",
    "* Uplift tree/random forests on Contextual Treatment Selection\n",
    "\n",
    "Meta-learner algorithms\n",
    "* S-learner\n",
    "* T-learner\n",
    "* X-learner\n",
    "* R-learner\n",
    "\n",
    "In this notebook, we use synthetic data to demonstrate the use of the tree-based algorithms."
   ]
  },
  {
   "cell_type": "code",
   "execution_count": 1,
   "metadata": {
    "ExecuteTime": {
     "end_time": "2021-11-29T22:50:05.320170Z",
     "start_time": "2021-11-29T22:50:01.628054Z"
    }
   },
   "outputs": [
    {
     "name": "stderr",
     "output_type": "stream",
     "text": [
      "Using `tqdm.autonotebook.tqdm` in notebook mode. Use `tqdm.tqdm` instead to force console mode (e.g. in jupyter console)\n",
      "Failed to import duecredit due to No module named 'duecredit'\n"
     ]
    }
   ],
   "source": [
    "import numpy as np\n",
    "import pandas as pd\n",
    "\n",
    "from causalml.dataset import make_uplift_classification\n",
    "from causalml.inference.tree import UpliftRandomForestClassifier\n",
    "from causalml.metrics import plot_gain\n",
    "\n",
    "from sklearn.model_selection import train_test_split"
   ]
  },
  {
   "cell_type": "code",
   "execution_count": 2,
   "metadata": {
    "ExecuteTime": {
     "end_time": "2021-11-29T22:50:05.333761Z",
     "start_time": "2021-11-29T22:50:05.324150Z"
    }
   },
   "outputs": [
    {
     "name": "stdout",
     "output_type": "stream",
     "text": [
      "0.14.0\n"
     ]
    }
   ],
   "source": [
    "import importlib\n",
    "print(importlib.metadata.version('causalml') )"
   ]
  },
  {
   "cell_type": "markdown",
   "metadata": {},
   "source": [
    "# Generate synthetic dataset\n",
    "\n",
    "The CausalML package contains various functions to generate synthetic datasets for uplift modeling. Here we generate a classification dataset using the make_uplift_classification() function."
   ]
  },
  {
   "cell_type": "code",
   "execution_count": 3,
   "metadata": {
    "ExecuteTime": {
     "end_time": "2021-11-29T22:50:05.418771Z",
     "start_time": "2021-11-29T22:50:05.356908Z"
    }
   },
   "outputs": [],
   "source": [
    "df, x_names = make_uplift_classification()"
   ]
  },
  {
   "cell_type": "code",
   "execution_count": 4,
   "metadata": {
    "ExecuteTime": {
     "end_time": "2021-11-29T22:50:05.625345Z",
     "start_time": "2021-11-29T22:50:05.422220Z"
    }
   },
   "outputs": [
    {
     "data": {
      "text/html": [
       "<div>\n",
       "<style scoped>\n",
       "    .dataframe tbody tr th:only-of-type {\n",
       "        vertical-align: middle;\n",
       "    }\n",
       "\n",
       "    .dataframe tbody tr th {\n",
       "        vertical-align: top;\n",
       "    }\n",
       "\n",
       "    .dataframe thead th {\n",
       "        text-align: right;\n",
       "    }\n",
       "</style>\n",
       "<table border=\"1\" class=\"dataframe\">\n",
       "  <thead>\n",
       "    <tr style=\"text-align: right;\">\n",
       "      <th></th>\n",
       "      <th>treatment_group_key</th>\n",
       "      <th>x1_informative</th>\n",
       "      <th>x2_informative</th>\n",
       "      <th>x3_informative</th>\n",
       "      <th>x4_informative</th>\n",
       "      <th>x5_informative</th>\n",
       "      <th>x6_irrelevant</th>\n",
       "      <th>x7_irrelevant</th>\n",
       "      <th>x8_irrelevant</th>\n",
       "      <th>x9_irrelevant</th>\n",
       "      <th>...</th>\n",
       "      <th>x12_uplift_increase</th>\n",
       "      <th>x13_increase_mix</th>\n",
       "      <th>x14_uplift_increase</th>\n",
       "      <th>x15_uplift_increase</th>\n",
       "      <th>x16_increase_mix</th>\n",
       "      <th>x17_uplift_increase</th>\n",
       "      <th>x18_uplift_increase</th>\n",
       "      <th>x19_increase_mix</th>\n",
       "      <th>conversion</th>\n",
       "      <th>treatment_effect</th>\n",
       "    </tr>\n",
       "  </thead>\n",
       "  <tbody>\n",
       "    <tr>\n",
       "      <th>0</th>\n",
       "      <td>control</td>\n",
       "      <td>-0.542888</td>\n",
       "      <td>1.976361</td>\n",
       "      <td>-0.531359</td>\n",
       "      <td>-2.354211</td>\n",
       "      <td>-0.380629</td>\n",
       "      <td>-2.614321</td>\n",
       "      <td>-0.128893</td>\n",
       "      <td>0.448689</td>\n",
       "      <td>-2.275192</td>\n",
       "      <td>...</td>\n",
       "      <td>-1.315304</td>\n",
       "      <td>0.742654</td>\n",
       "      <td>1.891699</td>\n",
       "      <td>-2.428395</td>\n",
       "      <td>1.541875</td>\n",
       "      <td>-0.817705</td>\n",
       "      <td>-0.610194</td>\n",
       "      <td>-0.591581</td>\n",
       "      <td>0</td>\n",
       "      <td>0</td>\n",
       "    </tr>\n",
       "    <tr>\n",
       "      <th>1</th>\n",
       "      <td>treatment3</td>\n",
       "      <td>0.258654</td>\n",
       "      <td>0.552412</td>\n",
       "      <td>1.434239</td>\n",
       "      <td>-1.422311</td>\n",
       "      <td>0.089131</td>\n",
       "      <td>0.790293</td>\n",
       "      <td>1.159513</td>\n",
       "      <td>1.578868</td>\n",
       "      <td>0.166540</td>\n",
       "      <td>...</td>\n",
       "      <td>-1.391878</td>\n",
       "      <td>-0.623243</td>\n",
       "      <td>2.443972</td>\n",
       "      <td>-2.889253</td>\n",
       "      <td>2.018585</td>\n",
       "      <td>-1.109296</td>\n",
       "      <td>-0.380362</td>\n",
       "      <td>-1.667606</td>\n",
       "      <td>0</td>\n",
       "      <td>0</td>\n",
       "    </tr>\n",
       "    <tr>\n",
       "      <th>2</th>\n",
       "      <td>treatment1</td>\n",
       "      <td>1.697012</td>\n",
       "      <td>-2.762600</td>\n",
       "      <td>-0.662874</td>\n",
       "      <td>-1.682340</td>\n",
       "      <td>1.217443</td>\n",
       "      <td>0.837982</td>\n",
       "      <td>1.042981</td>\n",
       "      <td>0.177398</td>\n",
       "      <td>-0.112409</td>\n",
       "      <td>...</td>\n",
       "      <td>-1.132497</td>\n",
       "      <td>1.050179</td>\n",
       "      <td>1.573054</td>\n",
       "      <td>-1.788427</td>\n",
       "      <td>1.341609</td>\n",
       "      <td>-0.749227</td>\n",
       "      <td>-2.091521</td>\n",
       "      <td>-0.471386</td>\n",
       "      <td>0</td>\n",
       "      <td>0</td>\n",
       "    </tr>\n",
       "    <tr>\n",
       "      <th>3</th>\n",
       "      <td>treatment2</td>\n",
       "      <td>-1.441644</td>\n",
       "      <td>1.823648</td>\n",
       "      <td>0.789423</td>\n",
       "      <td>-0.295398</td>\n",
       "      <td>0.718509</td>\n",
       "      <td>-0.492993</td>\n",
       "      <td>0.947824</td>\n",
       "      <td>-1.307887</td>\n",
       "      <td>0.123340</td>\n",
       "      <td>...</td>\n",
       "      <td>-2.084619</td>\n",
       "      <td>0.058481</td>\n",
       "      <td>1.369439</td>\n",
       "      <td>0.422538</td>\n",
       "      <td>1.087176</td>\n",
       "      <td>-0.966666</td>\n",
       "      <td>-1.785592</td>\n",
       "      <td>-1.268379</td>\n",
       "      <td>1</td>\n",
       "      <td>1</td>\n",
       "    </tr>\n",
       "    <tr>\n",
       "      <th>4</th>\n",
       "      <td>control</td>\n",
       "      <td>-0.625074</td>\n",
       "      <td>3.002388</td>\n",
       "      <td>-0.096288</td>\n",
       "      <td>1.938235</td>\n",
       "      <td>3.392424</td>\n",
       "      <td>-0.465860</td>\n",
       "      <td>-0.919897</td>\n",
       "      <td>-1.072592</td>\n",
       "      <td>-1.331181</td>\n",
       "      <td>...</td>\n",
       "      <td>-1.403984</td>\n",
       "      <td>0.760430</td>\n",
       "      <td>1.917635</td>\n",
       "      <td>-2.347675</td>\n",
       "      <td>1.560946</td>\n",
       "      <td>-0.833067</td>\n",
       "      <td>-1.407884</td>\n",
       "      <td>-0.781343</td>\n",
       "      <td>0</td>\n",
       "      <td>0</td>\n",
       "    </tr>\n",
       "  </tbody>\n",
       "</table>\n",
       "<p>5 rows × 22 columns</p>\n",
       "</div>"
      ],
      "text/plain": [
       "  treatment_group_key  x1_informative  x2_informative  x3_informative  \\\n",
       "0             control       -0.542888        1.976361       -0.531359   \n",
       "1          treatment3        0.258654        0.552412        1.434239   \n",
       "2          treatment1        1.697012       -2.762600       -0.662874   \n",
       "3          treatment2       -1.441644        1.823648        0.789423   \n",
       "4             control       -0.625074        3.002388       -0.096288   \n",
       "\n",
       "   x4_informative  x5_informative  x6_irrelevant  x7_irrelevant  \\\n",
       "0       -2.354211       -0.380629      -2.614321      -0.128893   \n",
       "1       -1.422311        0.089131       0.790293       1.159513   \n",
       "2       -1.682340        1.217443       0.837982       1.042981   \n",
       "3       -0.295398        0.718509      -0.492993       0.947824   \n",
       "4        1.938235        3.392424      -0.465860      -0.919897   \n",
       "\n",
       "   x8_irrelevant  x9_irrelevant  ...  x12_uplift_increase  x13_increase_mix  \\\n",
       "0       0.448689      -2.275192  ...            -1.315304          0.742654   \n",
       "1       1.578868       0.166540  ...            -1.391878         -0.623243   \n",
       "2       0.177398      -0.112409  ...            -1.132497          1.050179   \n",
       "3      -1.307887       0.123340  ...            -2.084619          0.058481   \n",
       "4      -1.072592      -1.331181  ...            -1.403984          0.760430   \n",
       "\n",
       "   x14_uplift_increase  x15_uplift_increase  x16_increase_mix  \\\n",
       "0             1.891699            -2.428395          1.541875   \n",
       "1             2.443972            -2.889253          2.018585   \n",
       "2             1.573054            -1.788427          1.341609   \n",
       "3             1.369439             0.422538          1.087176   \n",
       "4             1.917635            -2.347675          1.560946   \n",
       "\n",
       "   x17_uplift_increase  x18_uplift_increase  x19_increase_mix  conversion  \\\n",
       "0            -0.817705            -0.610194         -0.591581           0   \n",
       "1            -1.109296            -0.380362         -1.667606           0   \n",
       "2            -0.749227            -2.091521         -0.471386           0   \n",
       "3            -0.966666            -1.785592         -1.268379           1   \n",
       "4            -0.833067            -1.407884         -0.781343           0   \n",
       "\n",
       "   treatment_effect  \n",
       "0                 0  \n",
       "1                 0  \n",
       "2                 0  \n",
       "3                 1  \n",
       "4                 0  \n",
       "\n",
       "[5 rows x 22 columns]"
      ]
     },
     "execution_count": 4,
     "metadata": {},
     "output_type": "execute_result"
    }
   ],
   "source": [
    "df.head()"
   ]
  },
  {
   "cell_type": "code",
   "execution_count": 5,
   "metadata": {
    "ExecuteTime": {
     "end_time": "2021-11-29T22:50:05.706496Z",
     "start_time": "2021-11-29T22:50:05.628896Z"
    }
   },
   "outputs": [
    {
     "data": {
      "text/html": [
       "<div>\n",
       "<style scoped>\n",
       "    .dataframe tbody tr th:only-of-type {\n",
       "        vertical-align: middle;\n",
       "    }\n",
       "\n",
       "    .dataframe tbody tr th {\n",
       "        vertical-align: top;\n",
       "    }\n",
       "\n",
       "    .dataframe thead tr th {\n",
       "        text-align: left;\n",
       "    }\n",
       "\n",
       "    .dataframe thead tr:last-of-type th {\n",
       "        text-align: right;\n",
       "    }\n",
       "</style>\n",
       "<table border=\"1\" class=\"dataframe\">\n",
       "  <thead>\n",
       "    <tr>\n",
       "      <th></th>\n",
       "      <th>mean</th>\n",
       "      <th>size</th>\n",
       "    </tr>\n",
       "    <tr>\n",
       "      <th></th>\n",
       "      <th>conversion</th>\n",
       "      <th>conversion</th>\n",
       "    </tr>\n",
       "    <tr>\n",
       "      <th>treatment_group_key</th>\n",
       "      <th></th>\n",
       "      <th></th>\n",
       "    </tr>\n",
       "  </thead>\n",
       "  <tbody>\n",
       "    <tr>\n",
       "      <th>control</th>\n",
       "      <td>0.511</td>\n",
       "      <td>1000</td>\n",
       "    </tr>\n",
       "    <tr>\n",
       "      <th>treatment1</th>\n",
       "      <td>0.514</td>\n",
       "      <td>1000</td>\n",
       "    </tr>\n",
       "    <tr>\n",
       "      <th>treatment2</th>\n",
       "      <td>0.559</td>\n",
       "      <td>1000</td>\n",
       "    </tr>\n",
       "    <tr>\n",
       "      <th>treatment3</th>\n",
       "      <td>0.600</td>\n",
       "      <td>1000</td>\n",
       "    </tr>\n",
       "    <tr>\n",
       "      <th>All</th>\n",
       "      <td>0.546</td>\n",
       "      <td>4000</td>\n",
       "    </tr>\n",
       "  </tbody>\n",
       "</table>\n",
       "</div>"
      ],
      "text/plain": [
       "                          mean       size\n",
       "                    conversion conversion\n",
       "treatment_group_key                      \n",
       "control                  0.511       1000\n",
       "treatment1               0.514       1000\n",
       "treatment2               0.559       1000\n",
       "treatment3               0.600       1000\n",
       "All                      0.546       4000"
      ]
     },
     "execution_count": 5,
     "metadata": {},
     "output_type": "execute_result"
    }
   ],
   "source": [
    "# Look at the conversion rate and sample size in each group\n",
    "df.pivot_table(values='conversion',\n",
    "               index='treatment_group_key',\n",
    "               aggfunc=[np.mean, np.size],\n",
    "               margins=True)"
   ]
  },
  {
   "cell_type": "markdown",
   "metadata": {},
   "source": [
    "# Run the uplift random forest classifier\n",
    "\n",
    "In this section, we first fit the uplift random forest classifier using training data. We then use the fitted model to make a prediction using testing data. The prediction returns an ndarray in which each column contains the predicted uplift if the unit was in the corresponding treatment group."
   ]
  },
  {
   "cell_type": "code",
   "execution_count": 6,
   "metadata": {
    "ExecuteTime": {
     "end_time": "2021-11-29T22:50:05.718980Z",
     "start_time": "2021-11-29T22:50:05.709984Z"
    }
   },
   "outputs": [],
   "source": [
    "# Split data to training and testing samples for model validation (next section)\n",
    "df_train, df_test = train_test_split(df, test_size=0.2, random_state=111)"
   ]
  },
  {
   "cell_type": "code",
   "execution_count": 7,
   "metadata": {
    "ExecuteTime": {
     "end_time": "2021-11-29T22:50:05.730508Z",
     "start_time": "2021-11-29T22:50:05.726345Z"
    }
   },
   "outputs": [],
   "source": [
    "from causalml.inference.tree import UpliftTreeClassifier"
   ]
  },
  {
   "cell_type": "code",
   "execution_count": 8,
   "metadata": {
    "ExecuteTime": {
     "end_time": "2021-11-29T22:50:07.480838Z",
     "start_time": "2021-11-29T22:50:05.735710Z"
    }
   },
   "outputs": [],
   "source": [
    "clf = UpliftTreeClassifier(control_name='control')\n",
    "clf.fit(df_train[x_names].values,\n",
    "         treatment=df_train['treatment_group_key'].values,\n",
    "         y=df_train['conversion'].values)\n",
    "p = clf.predict(df_test[x_names].values)"
   ]
  },
  {
   "cell_type": "code",
   "execution_count": 9,
   "metadata": {
    "ExecuteTime": {
     "end_time": "2021-11-29T22:50:07.501614Z",
     "start_time": "2021-11-29T22:50:07.484453Z"
    }
   },
   "outputs": [
    {
     "data": {
      "text/html": [
       "<div>\n",
       "<style scoped>\n",
       "    .dataframe tbody tr th:only-of-type {\n",
       "        vertical-align: middle;\n",
       "    }\n",
       "\n",
       "    .dataframe tbody tr th {\n",
       "        vertical-align: top;\n",
       "    }\n",
       "\n",
       "    .dataframe thead th {\n",
       "        text-align: right;\n",
       "    }\n",
       "</style>\n",
       "<table border=\"1\" class=\"dataframe\">\n",
       "  <thead>\n",
       "    <tr style=\"text-align: right;\">\n",
       "      <th></th>\n",
       "      <th>control</th>\n",
       "      <th>treatment1</th>\n",
       "      <th>treatment2</th>\n",
       "      <th>treatment3</th>\n",
       "    </tr>\n",
       "  </thead>\n",
       "  <tbody>\n",
       "    <tr>\n",
       "      <th>0</th>\n",
       "      <td>0.506394</td>\n",
       "      <td>0.511811</td>\n",
       "      <td>0.573935</td>\n",
       "      <td>0.503778</td>\n",
       "    </tr>\n",
       "    <tr>\n",
       "      <th>1</th>\n",
       "      <td>0.506394</td>\n",
       "      <td>0.511811</td>\n",
       "      <td>0.573935</td>\n",
       "      <td>0.503778</td>\n",
       "    </tr>\n",
       "    <tr>\n",
       "      <th>2</th>\n",
       "      <td>0.580838</td>\n",
       "      <td>0.458824</td>\n",
       "      <td>0.508982</td>\n",
       "      <td>0.452381</td>\n",
       "    </tr>\n",
       "    <tr>\n",
       "      <th>3</th>\n",
       "      <td>0.482558</td>\n",
       "      <td>0.572327</td>\n",
       "      <td>0.556757</td>\n",
       "      <td>0.961538</td>\n",
       "    </tr>\n",
       "    <tr>\n",
       "      <th>4</th>\n",
       "      <td>0.482558</td>\n",
       "      <td>0.572327</td>\n",
       "      <td>0.556757</td>\n",
       "      <td>0.961538</td>\n",
       "    </tr>\n",
       "  </tbody>\n",
       "</table>\n",
       "</div>"
      ],
      "text/plain": [
       "    control  treatment1  treatment2  treatment3\n",
       "0  0.506394    0.511811    0.573935    0.503778\n",
       "1  0.506394    0.511811    0.573935    0.503778\n",
       "2  0.580838    0.458824    0.508982    0.452381\n",
       "3  0.482558    0.572327    0.556757    0.961538\n",
       "4  0.482558    0.572327    0.556757    0.961538"
      ]
     },
     "execution_count": 9,
     "metadata": {},
     "output_type": "execute_result"
    }
   ],
   "source": [
    "df_res = pd.DataFrame(p, columns=clf.classes_)\n",
    "df_res.head()"
   ]
  },
  {
   "cell_type": "code",
   "execution_count": 10,
   "metadata": {
    "ExecuteTime": {
     "end_time": "2021-11-29T22:50:07.512472Z",
     "start_time": "2021-11-29T22:50:07.506400Z"
    }
   },
   "outputs": [],
   "source": [
    "uplift_model = UpliftRandomForestClassifier(control_name='control')"
   ]
  },
  {
   "cell_type": "code",
   "execution_count": 11,
   "metadata": {
    "ExecuteTime": {
     "end_time": "2021-11-29T22:50:15.933473Z",
     "start_time": "2021-11-29T22:50:07.517749Z"
    }
   },
   "outputs": [],
   "source": [
    "uplift_model.fit(df_train[x_names].values,\n",
    "                 treatment=df_train['treatment_group_key'].values,\n",
    "                 y=df_train['conversion'].values)"
   ]
  },
  {
   "cell_type": "code",
   "execution_count": 12,
   "metadata": {
    "ExecuteTime": {
     "end_time": "2021-11-29T22:50:16.165287Z",
     "start_time": "2021-11-29T22:50:15.938369Z"
    }
   },
   "outputs": [
    {
     "name": "stdout",
     "output_type": "stream",
     "text": [
      "(800, 9)\n"
     ]
    },
    {
     "data": {
      "text/html": [
       "<div>\n",
       "<style scoped>\n",
       "    .dataframe tbody tr th:only-of-type {\n",
       "        vertical-align: middle;\n",
       "    }\n",
       "\n",
       "    .dataframe tbody tr th {\n",
       "        vertical-align: top;\n",
       "    }\n",
       "\n",
       "    .dataframe thead th {\n",
       "        text-align: right;\n",
       "    }\n",
       "</style>\n",
       "<table border=\"1\" class=\"dataframe\">\n",
       "  <thead>\n",
       "    <tr style=\"text-align: right;\">\n",
       "      <th></th>\n",
       "      <th>control</th>\n",
       "      <th>treatment1</th>\n",
       "      <th>treatment2</th>\n",
       "      <th>treatment3</th>\n",
       "      <th>recommended_treatment</th>\n",
       "      <th>delta_treatment1</th>\n",
       "      <th>delta_treatment2</th>\n",
       "      <th>delta_treatment3</th>\n",
       "      <th>max_delta</th>\n",
       "    </tr>\n",
       "  </thead>\n",
       "  <tbody>\n",
       "    <tr>\n",
       "      <th>0</th>\n",
       "      <td>0.465040</td>\n",
       "      <td>0.486539</td>\n",
       "      <td>0.478824</td>\n",
       "      <td>0.505152</td>\n",
       "      <td>3</td>\n",
       "      <td>0.021499</td>\n",
       "      <td>0.013784</td>\n",
       "      <td>0.040111</td>\n",
       "      <td>0.040111</td>\n",
       "    </tr>\n",
       "    <tr>\n",
       "      <th>1</th>\n",
       "      <td>0.444785</td>\n",
       "      <td>0.452068</td>\n",
       "      <td>0.529353</td>\n",
       "      <td>0.493128</td>\n",
       "      <td>2</td>\n",
       "      <td>0.007283</td>\n",
       "      <td>0.084568</td>\n",
       "      <td>0.048343</td>\n",
       "      <td>0.084568</td>\n",
       "    </tr>\n",
       "    <tr>\n",
       "      <th>2</th>\n",
       "      <td>0.518872</td>\n",
       "      <td>0.576617</td>\n",
       "      <td>0.577938</td>\n",
       "      <td>0.573603</td>\n",
       "      <td>2</td>\n",
       "      <td>0.057745</td>\n",
       "      <td>0.059066</td>\n",
       "      <td>0.054731</td>\n",
       "      <td>0.059066</td>\n",
       "    </tr>\n",
       "    <tr>\n",
       "      <th>3</th>\n",
       "      <td>0.425488</td>\n",
       "      <td>0.464641</td>\n",
       "      <td>0.442554</td>\n",
       "      <td>0.867118</td>\n",
       "      <td>3</td>\n",
       "      <td>0.039153</td>\n",
       "      <td>0.017067</td>\n",
       "      <td>0.441630</td>\n",
       "      <td>0.441630</td>\n",
       "    </tr>\n",
       "    <tr>\n",
       "      <th>4</th>\n",
       "      <td>0.520411</td>\n",
       "      <td>0.565095</td>\n",
       "      <td>0.592740</td>\n",
       "      <td>0.790936</td>\n",
       "      <td>3</td>\n",
       "      <td>0.044685</td>\n",
       "      <td>0.072329</td>\n",
       "      <td>0.270526</td>\n",
       "      <td>0.270526</td>\n",
       "    </tr>\n",
       "  </tbody>\n",
       "</table>\n",
       "</div>"
      ],
      "text/plain": [
       "    control  treatment1  treatment2  treatment3  recommended_treatment  \\\n",
       "0  0.465040    0.486539    0.478824    0.505152                      3   \n",
       "1  0.444785    0.452068    0.529353    0.493128                      2   \n",
       "2  0.518872    0.576617    0.577938    0.573603                      2   \n",
       "3  0.425488    0.464641    0.442554    0.867118                      3   \n",
       "4  0.520411    0.565095    0.592740    0.790936                      3   \n",
       "\n",
       "   delta_treatment1  delta_treatment2  delta_treatment3  max_delta  \n",
       "0          0.021499          0.013784          0.040111   0.040111  \n",
       "1          0.007283          0.084568          0.048343   0.084568  \n",
       "2          0.057745          0.059066          0.054731   0.059066  \n",
       "3          0.039153          0.017067          0.441630   0.441630  \n",
       "4          0.044685          0.072329          0.270526   0.270526  "
      ]
     },
     "execution_count": 12,
     "metadata": {},
     "output_type": "execute_result"
    }
   ],
   "source": [
    "df_res = uplift_model.predict(df_test[x_names].values, full_output=True)\n",
    "print(df_res.shape)\n",
    "df_res.head()"
   ]
  },
  {
   "cell_type": "code",
   "execution_count": 13,
   "metadata": {
    "ExecuteTime": {
     "end_time": "2021-11-29T22:50:16.335654Z",
     "start_time": "2021-11-29T22:50:16.168633Z"
    }
   },
   "outputs": [],
   "source": [
    "y_pred = uplift_model.predict(df_test[x_names].values)"
   ]
  },
  {
   "cell_type": "code",
   "execution_count": 14,
   "metadata": {
    "ExecuteTime": {
     "end_time": "2021-11-29T22:50:16.345724Z",
     "start_time": "2021-11-29T22:50:16.339770Z"
    }
   },
   "outputs": [
    {
     "data": {
      "text/plain": [
       "(800, 3)"
      ]
     },
     "execution_count": 14,
     "metadata": {},
     "output_type": "execute_result"
    }
   ],
   "source": [
    "y_pred.shape"
   ]
  },
  {
   "cell_type": "code",
   "execution_count": 15,
   "metadata": {
    "ExecuteTime": {
     "end_time": "2021-11-29T22:50:16.366023Z",
     "start_time": "2021-11-29T22:50:16.349715Z"
    }
   },
   "outputs": [
    {
     "data": {
      "text/html": [
       "<div>\n",
       "<style scoped>\n",
       "    .dataframe tbody tr th:only-of-type {\n",
       "        vertical-align: middle;\n",
       "    }\n",
       "\n",
       "    .dataframe tbody tr th {\n",
       "        vertical-align: top;\n",
       "    }\n",
       "\n",
       "    .dataframe thead th {\n",
       "        text-align: right;\n",
       "    }\n",
       "</style>\n",
       "<table border=\"1\" class=\"dataframe\">\n",
       "  <thead>\n",
       "    <tr style=\"text-align: right;\">\n",
       "      <th></th>\n",
       "      <th>treatment1</th>\n",
       "      <th>treatment2</th>\n",
       "      <th>treatment3</th>\n",
       "    </tr>\n",
       "  </thead>\n",
       "  <tbody>\n",
       "    <tr>\n",
       "      <th>0</th>\n",
       "      <td>0.021499</td>\n",
       "      <td>0.013784</td>\n",
       "      <td>0.040111</td>\n",
       "    </tr>\n",
       "    <tr>\n",
       "      <th>1</th>\n",
       "      <td>0.007283</td>\n",
       "      <td>0.084568</td>\n",
       "      <td>0.048343</td>\n",
       "    </tr>\n",
       "    <tr>\n",
       "      <th>2</th>\n",
       "      <td>0.057745</td>\n",
       "      <td>0.059066</td>\n",
       "      <td>0.054731</td>\n",
       "    </tr>\n",
       "    <tr>\n",
       "      <th>3</th>\n",
       "      <td>0.039153</td>\n",
       "      <td>0.017067</td>\n",
       "      <td>0.441630</td>\n",
       "    </tr>\n",
       "    <tr>\n",
       "      <th>4</th>\n",
       "      <td>0.044685</td>\n",
       "      <td>0.072329</td>\n",
       "      <td>0.270526</td>\n",
       "    </tr>\n",
       "  </tbody>\n",
       "</table>\n",
       "</div>"
      ],
      "text/plain": [
       "   treatment1  treatment2  treatment3\n",
       "0    0.021499    0.013784    0.040111\n",
       "1    0.007283    0.084568    0.048343\n",
       "2    0.057745    0.059066    0.054731\n",
       "3    0.039153    0.017067    0.441630\n",
       "4    0.044685    0.072329    0.270526"
      ]
     },
     "execution_count": 15,
     "metadata": {},
     "output_type": "execute_result"
    }
   ],
   "source": [
    "# Put the predictions to a DataFrame for a neater presentation\n",
    "# The output of `predict()` is a numpy array with the shape of [n_sample, n_treatment] excluding the\n",
    "# predictions for the control group.\n",
    "result = pd.DataFrame(y_pred,\n",
    "                      columns=uplift_model.classes_[1:])\n",
    "result.head()"
   ]
  },
  {
   "cell_type": "markdown",
   "metadata": {},
   "source": [
    "# Create the uplift curve\n",
    "\n",
    "The performance of the model can be evaluated with the help of the [uplift curve](http://proceedings.mlr.press/v67/gutierrez17a/gutierrez17a.pdf). "
   ]
  },
  {
   "cell_type": "markdown",
   "metadata": {},
   "source": [
    "## Create a synthetic population\n",
    "\n",
    "The uplift curve is calculated on a synthetic population that consists of those that were in the control group and those who happened to be in the treatment group recommended by the model. We use the synthetic population to calculate the _actual_ treatment effect within _predicted_ treatment effect quantiles. Because the data is randomized, we have a roughly equal number of treatment and control observations in the predicted quantiles and there is no self selection to treatment groups."
   ]
  },
  {
   "cell_type": "code",
   "execution_count": 16,
   "metadata": {
    "ExecuteTime": {
     "end_time": "2021-11-29T22:50:16.383725Z",
     "start_time": "2021-11-29T22:50:16.369277Z"
    }
   },
   "outputs": [],
   "source": [
    "# If all deltas are negative, assing to control; otherwise assign to the treatment\n",
    "# with the highest delta\n",
    "best_treatment = np.where((result < 0).all(axis=1),\n",
    "                           'control',\n",
    "                           result.idxmax(axis=1))\n",
    "\n",
    "# Create indicator variables for whether a unit happened to have the\n",
    "# recommended treatment or was in the control group\n",
    "actual_is_best = np.where(df_test['treatment_group_key'] == best_treatment, 1, 0)\n",
    "actual_is_control = np.where(df_test['treatment_group_key'] == 'control', 1, 0)"
   ]
  },
  {
   "cell_type": "code",
   "execution_count": 17,
   "metadata": {
    "ExecuteTime": {
     "end_time": "2021-11-29T22:50:16.394029Z",
     "start_time": "2021-11-29T22:50:16.388132Z"
    }
   },
   "outputs": [],
   "source": [
    "synthetic = (actual_is_best == 1) | (actual_is_control == 1)\n",
    "synth = result[synthetic]"
   ]
  },
  {
   "cell_type": "markdown",
   "metadata": {},
   "source": [
    "## Calculate the observed treatment effect per predicted treatment effect quantile\n",
    "\n",
    "We use the observed treatment effect to calculate the uplift curve, which answers the question: how much of the total cumulative uplift could we have captured by targeting a subset of the population sorted according to the predicted uplift, from highest to lowest?\n",
    "\n",
    "CausalML has the plot_gain() function which calculates the uplift curve given a DataFrame containing the treatment assignment, observed outcome and the predicted treatment effect."
   ]
  },
  {
   "cell_type": "code",
   "execution_count": 18,
   "metadata": {
    "ExecuteTime": {
     "end_time": "2021-11-29T22:50:16.410032Z",
     "start_time": "2021-11-29T22:50:16.397723Z"
    }
   },
   "outputs": [],
   "source": [
    "auuc_metrics = (synth.assign(is_treated = 1 - actual_is_control[synthetic],\n",
    "                             conversion = df_test.loc[synthetic, 'conversion'].values,\n",
    "                             uplift_tree = synth.max(axis=1))\n",
    "                     .drop(columns=list(uplift_model.classes_[1:])))"
   ]
  },
  {
   "cell_type": "code",
   "execution_count": 19,
   "metadata": {
    "ExecuteTime": {
     "end_time": "2021-11-29T22:50:16.939274Z",
     "start_time": "2021-11-29T22:50:16.413940Z"
    }
   },
   "outputs": [
    {
     "data": {
      "image/png": "[encoded data removed]",
      "text/plain": [
       "<Figure size 800x800 with 1 Axes>"
      ]
     },
     "metadata": {},
     "output_type": "display_data"
    }
   ],
   "source": [
    "plot_gain(auuc_metrics, outcome_col='conversion', treatment_col='is_treated')"
   ]
  },
  {
   "cell_type": "code",
   "execution_count": null,
   "metadata": {},
   "outputs": [],
   "source": []
  }
 ],
 "metadata": {
  "kernelspec": {
   "display_name": "causal3.9",
   "language": "python",
   "name": "causal3.9"
  },
  "language_info": {
   "codemirror_mode": {
    "name": "ipython",
    "version": 3
   },
   "file_extension": ".py",
   "mimetype": "text/x-python",
   "name": "python",
   "nbconvert_exporter": "python",
   "pygments_lexer": "ipython3",
   "version": "3.9.5"
  },
  "toc": {
   "base_numbering": 1,
   "nav_menu": {},
   "number_sections": true,
   "sideBar": true,
   "skip_h1_title": false,
   "title_cell": "Table of Contents",
   "title_sidebar": "Contents",
   "toc_cell": false,
   "toc_position": {},
   "toc_section_display": true,
   "toc_window_display": false
  }
 },
 "nbformat": 4,
 "nbformat_minor": 2
}
