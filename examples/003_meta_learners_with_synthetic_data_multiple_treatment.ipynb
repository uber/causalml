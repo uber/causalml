{
 "cells": [
  {
   "cell_type": "markdown",
   "metadata": {},
   "source": [
    "# `causalml` - Meta-Learner Example Notebook\n",
    "This notebook only contains regression examples."
   ]
  },
  {
   "cell_type": "code",
   "execution_count": 1,
   "metadata": {
    "ExecuteTime": {
     "end_time": "2020-04-14T18:47:09.085819Z",
     "start_time": "2020-04-14T18:47:09.066588Z"
    }
   },
   "outputs": [],
   "source": [
    "%reload_ext autoreload\n",
    "%autoreload 2"
   ]
  },
  {
   "cell_type": "code",
   "execution_count": 2,
   "metadata": {
    "ExecuteTime": {
     "end_time": "2020-04-14T18:47:12.227097Z",
     "start_time": "2020-04-14T18:47:09.088487Z"
    }
   },
   "outputs": [
    {
     "name": "stderr",
     "output_type": "stream",
     "text": [
      "Using `tqdm.autonotebook.tqdm` in notebook mode. Use `tqdm.tqdm` instead to force console mode (e.g. in jupyter console)\n",
      "Failed to import duecredit due to No module named 'duecredit'\n"
     ]
    }
   ],
   "source": [
    "import pandas as pd\n",
    "import numpy as np\n",
    "from matplotlib import pyplot as plt\n",
    "from sklearn.linear_model import LinearRegression, LogisticRegression\n",
    "from sklearn.model_selection import train_test_split\n",
    "import statsmodels.api as sm\n",
    "from xgboost import XGBRegressor, XGBClassifier\n",
    "import warnings\n",
    "\n",
    "# from causalml.inference.meta import XGBTLearner, MLPTLearner\n",
    "from causalml.inference.meta import BaseSRegressor, BaseTRegressor, BaseXRegressor, BaseRRegressor\n",
    "from causalml.inference.meta import BaseSClassifier, BaseTClassifier, BaseXClassifier, BaseRClassifier\n",
    "from causalml.inference.meta import LRSRegressor\n",
    "from causalml.match import NearestNeighborMatch, MatchOptimizer, create_table_one\n",
    "from causalml.propensity import ElasticNetPropensityModel\n",
    "from causalml.dataset import *\n",
    "from causalml.metrics import *\n",
    "\n",
    "warnings.filterwarnings('ignore')\n",
    "plt.style.use('fivethirtyeight')\n",
    "pd.set_option('display.float_format', lambda x: '%.4f' % x)\n",
    "\n",
    "# imports from package\n",
    "import logging\n",
    "from sklearn.dummy import DummyRegressor\n",
    "from sklearn.metrics import mean_squared_error as mse\n",
    "from sklearn.metrics import mean_absolute_error as mae\n",
    "import statsmodels.api as sm\n",
    "from copy import deepcopy\n",
    "\n",
    "logger = logging.getLogger('causalml')\n",
    "logging.basicConfig(level=logging.INFO)\n",
    "\n",
    "%matplotlib inline"
   ]
  },
  {
   "cell_type": "markdown",
   "metadata": {},
   "source": [
    "# Single Treatment Case"
   ]
  },
  {
   "cell_type": "markdown",
   "metadata": {},
   "source": [
    "### Generate synthetic data"
   ]
  },
  {
   "cell_type": "code",
   "execution_count": 3,
   "metadata": {
    "ExecuteTime": {
     "end_time": "2020-04-14T18:47:12.283931Z",
     "start_time": "2020-04-14T18:47:12.230839Z"
    }
   },
   "outputs": [],
   "source": [
    "# Generate synthetic data using mode 1\n",
    "y, X, treatment, tau, b, e = synthetic_data(mode=1, n=10000, p=8, sigma=1.0)\n",
    "\n",
    "treatment = np.array(['treatment_a' if val==1 else 'control' for val in treatment])"
   ]
  },
  {
   "cell_type": "markdown",
   "metadata": {},
   "source": [
    "## S-Learner"
   ]
  },
  {
   "cell_type": "markdown",
   "metadata": {},
   "source": [
    "### ATE"
   ]
  },
  {
   "cell_type": "code",
   "execution_count": 4,
   "metadata": {
    "ExecuteTime": {
     "end_time": "2020-04-14T18:47:13.857975Z",
     "start_time": "2020-04-14T18:47:12.286727Z"
    }
   },
   "outputs": [
    {
     "name": "stderr",
     "output_type": "stream",
     "text": [
      "INFO:causalml:Error metrics for group treatment_a\n",
      "INFO:causalml:    RMSE   (Control):     0.6715\n",
      "INFO:causalml:    RMSE (Treatment):     0.6761\n",
      "INFO:causalml:   sMAPE   (Control):     0.6516\n",
      "INFO:causalml:   sMAPE (Treatment):     0.3686\n",
      "INFO:causalml:    Gini   (Control):     0.8223\n",
      "INFO:causalml:    Gini (Treatment):     0.8173\n"
     ]
    }
   ],
   "source": [
    "learner_s = BaseSRegressor(XGBRegressor(), control_name='control')\n",
    "ate_s = learner_s.estimate_ate(X=X, treatment=treatment, y=y, return_ci=False, bootstrap_ci=False)"
   ]
  },
  {
   "cell_type": "code",
   "execution_count": 5,
   "metadata": {
    "ExecuteTime": {
     "end_time": "2020-04-14T18:47:13.912096Z",
     "start_time": "2020-04-14T18:47:13.861042Z"
    }
   },
   "outputs": [
    {
     "data": {
      "text/plain": [
       "array([0.553453])"
      ]
     },
     "execution_count": 5,
     "metadata": {},
     "output_type": "execute_result"
    }
   ],
   "source": [
    "ate_s"
   ]
  },
  {
   "cell_type": "markdown",
   "metadata": {},
   "source": [
    "### ATE w/ Confidence Intervals"
   ]
  },
  {
   "cell_type": "code",
   "execution_count": 6,
   "metadata": {
    "ExecuteTime": {
     "end_time": "2020-04-14T18:47:15.541087Z",
     "start_time": "2020-04-14T18:47:13.914579Z"
    }
   },
   "outputs": [
    {
     "name": "stderr",
     "output_type": "stream",
     "text": [
      "INFO:causalml:Error metrics for group treatment_a\n",
      "INFO:causalml:    RMSE   (Control):     0.6715\n",
      "INFO:causalml:    RMSE (Treatment):     0.6761\n",
      "INFO:causalml:   sMAPE   (Control):     0.6516\n",
      "INFO:causalml:   sMAPE (Treatment):     0.3686\n",
      "INFO:causalml:    Gini   (Control):     0.8223\n",
      "INFO:causalml:    Gini (Treatment):     0.8173\n"
     ]
    }
   ],
   "source": [
    "alpha = 0.05\n",
    "learner_s = BaseSRegressor(XGBRegressor(), ate_alpha=alpha, control_name='control')\n",
    "ate_s, ate_s_lb, ate_s_ub = learner_s.estimate_ate(X=X, treatment=treatment, y=y, return_ci=True,\n",
    "                                                   bootstrap_ci=False)"
   ]
  },
  {
   "cell_type": "code",
   "execution_count": 7,
   "metadata": {
    "ExecuteTime": {
     "end_time": "2020-04-14T18:47:15.593203Z",
     "start_time": "2020-04-14T18:47:15.545759Z"
    }
   },
   "outputs": [
    {
     "data": {
      "text/plain": [
       "array([[0.52589949],\n",
       "       [0.553453  ],\n",
       "       [0.58100652]])"
      ]
     },
     "execution_count": 7,
     "metadata": {},
     "output_type": "execute_result"
    }
   ],
   "source": [
    "np.vstack((ate_s_lb, ate_s, ate_s_ub))"
   ]
  },
  {
   "cell_type": "markdown",
   "metadata": {},
   "source": [
    "### ATE w/ Boostrap Confidence Intervals"
   ]
  },
  {
   "cell_type": "code",
   "execution_count": 8,
   "metadata": {
    "ExecuteTime": {
     "end_time": "2020-04-14T18:48:31.923961Z",
     "start_time": "2020-04-14T18:47:15.597096Z"
    }
   },
   "outputs": [
    {
     "name": "stderr",
     "output_type": "stream",
     "text": [
      "INFO:causalml:Error metrics for group treatment_a\n",
      "INFO:causalml:    RMSE   (Control):     0.6715\n",
      "INFO:causalml:    RMSE (Treatment):     0.6761\n",
      "INFO:causalml:   sMAPE   (Control):     0.6516\n",
      "INFO:causalml:   sMAPE (Treatment):     0.3686\n",
      "INFO:causalml:    Gini   (Control):     0.8223\n",
      "INFO:causalml:    Gini (Treatment):     0.8173\n",
      "INFO:causalml:Bootstrap Confidence Intervals for ATE\n",
      "100%|██████████| 100/100 [02:20<00:00,  1.41s/it]\n"
     ]
    }
   ],
   "source": [
    "ate_s_b, ate_s_lb_b, ate_s_ub_b = learner_s.estimate_ate(X=X, treatment=treatment, y=y, return_ci=True,\n",
    "                                                         bootstrap_ci=True, n_bootstraps=100, bootstrap_size=5000)"
   ]
  },
  {
   "cell_type": "code",
   "execution_count": 9,
   "metadata": {
    "ExecuteTime": {
     "end_time": "2020-04-14T18:48:31.965447Z",
     "start_time": "2020-04-14T18:48:31.926284Z"
    }
   },
   "outputs": [
    {
     "data": {
      "text/plain": [
       "array([[0.4853624 ],\n",
       "       [0.553453  ],\n",
       "       [0.62330767]])"
      ]
     },
     "execution_count": 9,
     "metadata": {},
     "output_type": "execute_result"
    }
   ],
   "source": [
    "np.vstack((ate_s_lb_b, ate_s_b, ate_s_ub_b))"
   ]
  },
  {
   "cell_type": "markdown",
   "metadata": {},
   "source": [
    "### CATE"
   ]
  },
  {
   "cell_type": "code",
   "execution_count": 10,
   "metadata": {
    "ExecuteTime": {
     "end_time": "2020-04-14T18:48:33.309900Z",
     "start_time": "2020-04-14T18:48:31.968542Z"
    }
   },
   "outputs": [
    {
     "name": "stderr",
     "output_type": "stream",
     "text": [
      "INFO:causalml:Error metrics for group treatment_a\n",
      "INFO:causalml:    RMSE   (Control):     0.6715\n",
      "INFO:causalml:    RMSE (Treatment):     0.6761\n",
      "INFO:causalml:   sMAPE   (Control):     0.6516\n",
      "INFO:causalml:   sMAPE (Treatment):     0.3686\n",
      "INFO:causalml:    Gini   (Control):     0.8223\n",
      "INFO:causalml:    Gini (Treatment):     0.8173\n"
     ]
    }
   ],
   "source": [
    "learner_s = BaseSRegressor(XGBRegressor(), control_name='control')\n",
    "cate_s = learner_s.fit_predict(X=X, treatment=treatment, y=y, return_ci=False)"
   ]
  },
  {
   "cell_type": "code",
   "execution_count": 11,
   "metadata": {
    "ExecuteTime": {
     "end_time": "2020-04-14T18:48:33.349476Z",
     "start_time": "2020-04-14T18:48:33.311840Z"
    }
   },
   "outputs": [
    {
     "data": {
      "text/plain": [
       "array([[ 0.19388527],\n",
       "       [ 0.53801417],\n",
       "       [ 0.58157051],\n",
       "       ...,\n",
       "       [ 0.81142545],\n",
       "       [ 0.21532393],\n",
       "       [-0.25809848]])"
      ]
     },
     "execution_count": 11,
     "metadata": {},
     "output_type": "execute_result"
    }
   ],
   "source": [
    "cate_s"
   ]
  },
  {
   "cell_type": "markdown",
   "metadata": {},
   "source": [
    "### CATE w/ Confidence Intervals"
   ]
  },
  {
   "cell_type": "code",
   "execution_count": 12,
   "metadata": {
    "ExecuteTime": {
     "end_time": "2020-04-14T18:49:37.587994Z",
     "start_time": "2020-04-14T18:48:33.351595Z"
    }
   },
   "outputs": [
    {
     "name": "stderr",
     "output_type": "stream",
     "text": [
      "INFO:causalml:Error metrics for group treatment_a\n",
      "INFO:causalml:    RMSE   (Control):     0.6715\n",
      "INFO:causalml:    RMSE (Treatment):     0.6761\n",
      "INFO:causalml:   sMAPE   (Control):     0.6516\n",
      "INFO:causalml:   sMAPE (Treatment):     0.3686\n",
      "INFO:causalml:    Gini   (Control):     0.8223\n",
      "INFO:causalml:    Gini (Treatment):     0.8173\n",
      "INFO:causalml:Bootstrap Confidence Intervals\n",
      "100%|██████████| 100/100 [01:44<00:00,  1.04s/it]\n"
     ]
    }
   ],
   "source": [
    "alpha = 0.05\n",
    "learner_s = BaseSRegressor(XGBRegressor(), ate_alpha=alpha, control_name='control')\n",
    "cate_s, cate_s_lb, cate_s_ub = learner_s.fit_predict(X=X, treatment=treatment, y=y, return_ci=True,\n",
    "                               n_bootstraps=100, bootstrap_size=5000)"
   ]
  },
  {
   "cell_type": "code",
   "execution_count": 13,
   "metadata": {
    "ExecuteTime": {
     "end_time": "2020-04-14T18:49:37.669038Z",
     "start_time": "2020-04-14T18:49:37.591481Z"
    }
   },
   "outputs": [
    {
     "data": {
      "text/plain": [
       "array([[ 0.19388527],\n",
       "       [ 0.53801417],\n",
       "       [ 0.58157051],\n",
       "       ...,\n",
       "       [ 0.81142545],\n",
       "       [ 0.21532393],\n",
       "       [-0.25809848]])"
      ]
     },
     "execution_count": 13,
     "metadata": {},
     "output_type": "execute_result"
    }
   ],
   "source": [
    "cate_s"
   ]
  },
  {
   "cell_type": "code",
   "execution_count": 14,
   "metadata": {
    "ExecuteTime": {
     "end_time": "2020-04-14T18:49:37.759221Z",
     "start_time": "2020-04-14T18:49:37.674451Z"
    }
   },
   "outputs": [
    {
     "data": {
      "text/plain": [
       "array([[-0.17045946],\n",
       "       [ 0.35809874],\n",
       "       [-0.1705403 ],\n",
       "       ...,\n",
       "       [ 0.14650098],\n",
       "       [-0.27509055],\n",
       "       [-0.56130544]])"
      ]
     },
     "execution_count": 14,
     "metadata": {},
     "output_type": "execute_result"
    }
   ],
   "source": [
    "cate_s_lb"
   ]
  },
  {
   "cell_type": "code",
   "execution_count": 15,
   "metadata": {
    "ExecuteTime": {
     "end_time": "2020-04-14T18:49:37.856614Z",
     "start_time": "2020-04-14T18:49:37.764939Z"
    }
   },
   "outputs": [
    {
     "data": {
      "text/plain": [
       "array([[1.16604015],\n",
       "       [1.56744029],\n",
       "       [0.89933195],\n",
       "       ...,\n",
       "       [1.11732626],\n",
       "       [1.32394142],\n",
       "       [0.87057412]])"
      ]
     },
     "execution_count": 15,
     "metadata": {},
     "output_type": "execute_result"
    }
   ],
   "source": [
    "cate_s_ub"
   ]
  },
  {
   "cell_type": "markdown",
   "metadata": {},
   "source": [
    "## T-Learner"
   ]
  },
  {
   "cell_type": "markdown",
   "metadata": {},
   "source": [
    "### ATE w/ Confidence Intervals"
   ]
  },
  {
   "cell_type": "code",
   "execution_count": 16,
   "metadata": {
    "ExecuteTime": {
     "end_time": "2020-04-14T18:49:39.262164Z",
     "start_time": "2020-04-14T18:49:37.860129Z"
    }
   },
   "outputs": [
    {
     "name": "stderr",
     "output_type": "stream",
     "text": [
      "INFO:causalml:Error metrics for group treatment_a\n",
      "INFO:causalml:    RMSE   (Control):     0.4743\n",
      "INFO:causalml:    RMSE (Treatment):     0.5123\n",
      "INFO:causalml:   sMAPE   (Control):     0.5042\n",
      "INFO:causalml:   sMAPE (Treatment):     0.2969\n",
      "INFO:causalml:    Gini   (Control):     0.9290\n",
      "INFO:causalml:    Gini (Treatment):     0.9106\n"
     ]
    }
   ],
   "source": [
    "learner_t = BaseTRegressor(XGBRegressor(), control_name='control')\n",
    "ate_t, ate_t_lb, ate_t_ub = learner_t.estimate_ate(X=X, treatment=treatment, y=y)"
   ]
  },
  {
   "cell_type": "code",
   "execution_count": 17,
   "metadata": {
    "ExecuteTime": {
     "end_time": "2020-04-14T18:49:39.304936Z",
     "start_time": "2020-04-14T18:49:39.264017Z"
    }
   },
   "outputs": [
    {
     "data": {
      "text/plain": [
       "array([[0.51587201],\n",
       "       [0.54098956],\n",
       "       [0.56610712]])"
      ]
     },
     "execution_count": 17,
     "metadata": {},
     "output_type": "execute_result"
    }
   ],
   "source": [
    "np.vstack((ate_t_lb, ate_t, ate_t_ub))"
   ]
  },
  {
   "cell_type": "markdown",
   "metadata": {},
   "source": [
    "### ATE w/ Boostrap Confidence Intervals"
   ]
  },
  {
   "cell_type": "code",
   "execution_count": 18,
   "metadata": {
    "ExecuteTime": {
     "end_time": "2020-04-14T18:50:40.797544Z",
     "start_time": "2020-04-14T18:49:39.307236Z"
    }
   },
   "outputs": [
    {
     "name": "stderr",
     "output_type": "stream",
     "text": [
      "INFO:causalml:Error metrics for group treatment_a\n",
      "INFO:causalml:    RMSE   (Control):     0.4743\n",
      "INFO:causalml:    RMSE (Treatment):     0.5123\n",
      "INFO:causalml:   sMAPE   (Control):     0.5042\n",
      "INFO:causalml:   sMAPE (Treatment):     0.2969\n",
      "INFO:causalml:    Gini   (Control):     0.9290\n",
      "INFO:causalml:    Gini (Treatment):     0.9106\n",
      "INFO:causalml:Bootstrap Confidence Intervals for ATE\n",
      "100%|██████████| 100/100 [04:10<00:00,  2.51s/it]\n"
     ]
    }
   ],
   "source": [
    "ate_t_b, ate_t_lb_b, ate_t_ub_b = learner_t.estimate_ate(X=X, treatment=treatment, y=y, bootstrap_ci=True,\n",
    "                                                   n_bootstraps=100, bootstrap_size=5000)"
   ]
  },
  {
   "cell_type": "code",
   "execution_count": 19,
   "metadata": {
    "ExecuteTime": {
     "end_time": "2020-04-14T18:50:40.836006Z",
     "start_time": "2020-04-14T18:50:40.799256Z"
    }
   },
   "outputs": [
    {
     "data": {
      "text/plain": [
       "array([[0.46532569],\n",
       "       [0.54098956],\n",
       "       [0.61520053]])"
      ]
     },
     "execution_count": 19,
     "metadata": {},
     "output_type": "execute_result"
    }
   ],
   "source": [
    "np.vstack((ate_t_lb_b, ate_t_b, ate_t_ub_b))"
   ]
  },
  {
   "cell_type": "markdown",
   "metadata": {},
   "source": [
    "### CATE"
   ]
  },
  {
   "cell_type": "code",
   "execution_count": 20,
   "metadata": {
    "ExecuteTime": {
     "end_time": "2020-04-14T18:50:41.916753Z",
     "start_time": "2020-04-14T18:50:40.837869Z"
    }
   },
   "outputs": [
    {
     "name": "stderr",
     "output_type": "stream",
     "text": [
      "INFO:causalml:Error metrics for group treatment_a\n",
      "INFO:causalml:    RMSE   (Control):     0.4743\n",
      "INFO:causalml:    RMSE (Treatment):     0.5123\n",
      "INFO:causalml:   sMAPE   (Control):     0.5042\n",
      "INFO:causalml:   sMAPE (Treatment):     0.2969\n",
      "INFO:causalml:    Gini   (Control):     0.9290\n",
      "INFO:causalml:    Gini (Treatment):     0.9106\n"
     ]
    }
   ],
   "source": [
    "learner_t = BaseTRegressor(XGBRegressor(), control_name='control')\n",
    "cate_t = learner_t.fit_predict(X=X, treatment=treatment, y=y)"
   ]
  },
  {
   "cell_type": "code",
   "execution_count": 21,
   "metadata": {
    "ExecuteTime": {
     "end_time": "2020-04-14T18:50:41.956040Z",
     "start_time": "2020-04-14T18:50:41.918664Z"
    }
   },
   "outputs": [
    {
     "data": {
      "text/plain": [
       "array([[-0.7817564 ],\n",
       "       [ 1.96460402],\n",
       "       [-0.11471784],\n",
       "       ...,\n",
       "       [ 0.50215238],\n",
       "       [ 1.94092751],\n",
       "       [ 0.50172436]])"
      ]
     },
     "execution_count": 21,
     "metadata": {},
     "output_type": "execute_result"
    }
   ],
   "source": [
    "cate_t"
   ]
  },
  {
   "cell_type": "markdown",
   "metadata": {},
   "source": [
    "### CATE w/ Confidence Intervals"
   ]
  },
  {
   "cell_type": "code",
   "execution_count": 22,
   "metadata": {
    "ExecuteTime": {
     "end_time": "2020-04-14T18:51:42.554430Z",
     "start_time": "2020-04-14T18:50:41.963277Z"
    }
   },
   "outputs": [
    {
     "name": "stderr",
     "output_type": "stream",
     "text": [
      "INFO:causalml:Error metrics for group treatment_a\n",
      "INFO:causalml:    RMSE   (Control):     0.4743\n",
      "INFO:causalml:    RMSE (Treatment):     0.5123\n",
      "INFO:causalml:   sMAPE   (Control):     0.5042\n",
      "INFO:causalml:   sMAPE (Treatment):     0.2969\n",
      "INFO:causalml:    Gini   (Control):     0.9290\n",
      "INFO:causalml:    Gini (Treatment):     0.9106\n",
      "INFO:causalml:Bootstrap Confidence Intervals\n",
      "100%|██████████| 100/100 [07:33<00:00,  4.53s/it]\n"
     ]
    }
   ],
   "source": [
    "learner_t = BaseTRegressor(XGBRegressor(), control_name='control')\n",
    "cate_t, cate_t_lb, cate_t_ub = learner_t.fit_predict(X=X, treatment=treatment, y=y, return_ci=True, n_bootstraps=100,\n",
    "                                                    bootstrap_size=5000)"
   ]
  },
  {
   "cell_type": "code",
   "execution_count": 23,
   "metadata": {
    "ExecuteTime": {
     "end_time": "2020-04-14T18:51:42.599599Z",
     "start_time": "2020-04-14T18:51:42.559391Z"
    }
   },
   "outputs": [
    {
     "data": {
      "text/plain": [
       "array([[-0.7817564 ],\n",
       "       [ 1.96460402],\n",
       "       [-0.11471784],\n",
       "       ...,\n",
       "       [ 0.50215238],\n",
       "       [ 1.94092751],\n",
       "       [ 0.50172436]])"
      ]
     },
     "execution_count": 23,
     "metadata": {},
     "output_type": "execute_result"
    }
   ],
   "source": [
    "cate_t"
   ]
  },
  {
   "cell_type": "code",
   "execution_count": 24,
   "metadata": {
    "ExecuteTime": {
     "end_time": "2020-04-14T18:51:42.639342Z",
     "start_time": "2020-04-14T18:51:42.601624Z"
    }
   },
   "outputs": [
    {
     "data": {
      "text/plain": [
       "array([[-1.3958913 ],\n",
       "       [-0.86684363],\n",
       "       [-1.10340049],\n",
       "       ...,\n",
       "       [-0.40302873],\n",
       "       [-1.02907973],\n",
       "       [-0.87140086]])"
      ]
     },
     "execution_count": 24,
     "metadata": {},
     "output_type": "execute_result"
    }
   ],
   "source": [
    "cate_t_lb"
   ]
  },
  {
   "cell_type": "code",
   "execution_count": 25,
   "metadata": {
    "ExecuteTime": {
     "end_time": "2020-04-14T18:51:42.678368Z",
     "start_time": "2020-04-14T18:51:42.641296Z"
    }
   },
   "outputs": [
    {
     "data": {
      "text/plain": [
       "array([[1.34554911],\n",
       "       [2.36166096],\n",
       "       [1.39806437],\n",
       "       ...,\n",
       "       [1.45734572],\n",
       "       [2.66094267],\n",
       "       [2.05946385]])"
      ]
     },
     "execution_count": 25,
     "metadata": {},
     "output_type": "execute_result"
    }
   ],
   "source": [
    "cate_t_ub"
   ]
  },
  {
   "cell_type": "markdown",
   "metadata": {
    "toc-hr-collapsed": false
   },
   "source": [
    "## X-Learner"
   ]
  },
  {
   "cell_type": "markdown",
   "metadata": {},
   "source": [
    "### ATE w/ Confidence Intervals"
   ]
  },
  {
   "cell_type": "markdown",
   "metadata": {},
   "source": [
    "#### With Propensity Score Input"
   ]
  },
  {
   "cell_type": "code",
   "execution_count": 26,
   "metadata": {
    "ExecuteTime": {
     "end_time": "2020-04-14T18:51:44.935095Z",
     "start_time": "2020-04-14T18:51:42.680407Z"
    }
   },
   "outputs": [
    {
     "name": "stderr",
     "output_type": "stream",
     "text": [
      "INFO:causalml:Error metrics for group treatment_a\n",
      "INFO:causalml:    RMSE   (Control):     0.4743\n",
      "INFO:causalml:    RMSE (Treatment):     0.5123\n",
      "INFO:causalml:   sMAPE   (Control):     0.5042\n",
      "INFO:causalml:   sMAPE (Treatment):     0.2969\n",
      "INFO:causalml:    Gini   (Control):     0.9290\n",
      "INFO:causalml:    Gini (Treatment):     0.9106\n"
     ]
    }
   ],
   "source": [
    "learner_x = BaseXRegressor(XGBRegressor(), control_name='control')\n",
    "ate_x, ate_x_lb, ate_x_ub = learner_x.estimate_ate(X=X, treatment=treatment, y=y, p=e)"
   ]
  },
  {
   "cell_type": "code",
   "execution_count": 27,
   "metadata": {
    "ExecuteTime": {
     "end_time": "2020-04-14T18:51:44.972119Z",
     "start_time": "2020-04-14T18:51:44.936710Z"
    }
   },
   "outputs": [
    {
     "data": {
      "text/plain": [
       "array([[0.47304206],\n",
       "       [0.49512369],\n",
       "       [0.51720531]])"
      ]
     },
     "execution_count": 27,
     "metadata": {},
     "output_type": "execute_result"
    }
   ],
   "source": [
    "np.vstack((ate_x_lb, ate_x, ate_x_ub))"
   ]
  },
  {
   "cell_type": "markdown",
   "metadata": {},
   "source": [
    "#### Without Propensity Score input"
   ]
  },
  {
   "cell_type": "code",
   "execution_count": 28,
   "metadata": {
    "ExecuteTime": {
     "end_time": "2020-04-14T18:51:47.712668Z",
     "start_time": "2020-04-14T18:51:44.974067Z"
    }
   },
   "outputs": [
    {
     "name": "stderr",
     "output_type": "stream",
     "text": [
      "INFO:causalml:Generating propensity score\n",
      "INFO:causalml:Calibrating propensity scores.\n",
      "INFO:causalml:Error metrics for group treatment_a\n",
      "INFO:causalml:    RMSE   (Control):     0.4743\n",
      "INFO:causalml:    RMSE (Treatment):     0.5123\n",
      "INFO:causalml:   sMAPE   (Control):     0.5042\n",
      "INFO:causalml:   sMAPE (Treatment):     0.2969\n",
      "INFO:causalml:    Gini   (Control):     0.9290\n",
      "INFO:causalml:    Gini (Treatment):     0.9106\n"
     ]
    }
   ],
   "source": [
    "ate_x_no_p, ate_x_lb_no_p, ate_x_ub_no_p = learner_x.estimate_ate(X=X, treatment=treatment, y=y)"
   ]
  },
  {
   "cell_type": "code",
   "execution_count": 29,
   "metadata": {
    "ExecuteTime": {
     "end_time": "2020-04-14T18:51:47.750441Z",
     "start_time": "2020-04-14T18:51:47.714685Z"
    }
   },
   "outputs": [
    {
     "data": {
      "text/plain": [
       "array([[0.47770923],\n",
       "       [0.49976967],\n",
       "       [0.52183012]])"
      ]
     },
     "execution_count": 29,
     "metadata": {},
     "output_type": "execute_result"
    }
   ],
   "source": [
    "np.vstack((ate_x_lb_no_p, ate_x_no_p, ate_x_ub_no_p))"
   ]
  },
  {
   "cell_type": "code",
   "execution_count": 30,
   "metadata": {
    "ExecuteTime": {
     "end_time": "2020-04-14T18:51:47.793093Z",
     "start_time": "2020-04-14T18:51:47.752418Z"
    }
   },
   "outputs": [
    {
     "data": {
      "text/plain": [
       "{'treatment_a': LogisticRegressionCV(Cs=array([1.00230524, 2.15608891, 4.63802765, 9.97700064]),\n",
       "                      cv=StratifiedKFold(n_splits=4, random_state=42, shuffle=True),\n",
       "                      l1_ratios=array([0.001     , 0.33366667, 0.66633333, 0.999     ]),\n",
       "                      penalty='elasticnet', random_state=42, solver='saga')}"
      ]
     },
     "execution_count": 30,
     "metadata": {},
     "output_type": "execute_result"
    }
   ],
   "source": [
    "learner_x.propensity_model"
   ]
  },
  {
   "cell_type": "markdown",
   "metadata": {},
   "source": [
    "### ATE w/ Boostrap Confidence Intervals"
   ]
  },
  {
   "cell_type": "markdown",
   "metadata": {},
   "source": [
    "#### With Propensity Score Input"
   ]
  },
  {
   "cell_type": "code",
   "execution_count": 31,
   "metadata": {
    "ExecuteTime": {
     "end_time": "2020-04-14T18:53:45.532120Z",
     "start_time": "2020-04-14T18:51:47.795412Z"
    }
   },
   "outputs": [
    {
     "name": "stderr",
     "output_type": "stream",
     "text": [
      "INFO:causalml:Error metrics for group treatment_a\n",
      "INFO:causalml:    RMSE   (Control):     0.4743\n",
      "INFO:causalml:    RMSE (Treatment):     0.5123\n",
      "INFO:causalml:   sMAPE   (Control):     0.5042\n",
      "INFO:causalml:   sMAPE (Treatment):     0.2969\n",
      "INFO:causalml:    Gini   (Control):     0.9290\n",
      "INFO:causalml:    Gini (Treatment):     0.9106\n",
      "INFO:causalml:Bootstrap Confidence Intervals for ATE\n",
      "100%|██████████| 100/100 [07:35<00:00,  4.55s/it]\n"
     ]
    }
   ],
   "source": [
    "ate_x_b, ate_x_lb_b, ate_x_ub_b = learner_x.estimate_ate(X=X, treatment=treatment, y=y, p=e, bootstrap_ci=True,\n",
    "                                                   n_bootstraps=100, bootstrap_size=5000)"
   ]
  },
  {
   "cell_type": "code",
   "execution_count": 32,
   "metadata": {
    "ExecuteTime": {
     "end_time": "2020-04-14T18:53:45.570961Z",
     "start_time": "2020-04-14T18:53:45.534229Z"
    }
   },
   "outputs": [
    {
     "data": {
      "text/plain": [
       "array([[0.41452946],\n",
       "       [0.49512369],\n",
       "       [0.5586011 ]])"
      ]
     },
     "execution_count": 32,
     "metadata": {},
     "output_type": "execute_result"
    }
   ],
   "source": [
    "np.vstack((ate_x_lb_b, ate_x_b, ate_x_ub_b))"
   ]
  },
  {
   "cell_type": "markdown",
   "metadata": {},
   "source": [
    "#### Without Propensity Score Input"
   ]
  },
  {
   "cell_type": "code",
   "execution_count": 33,
   "metadata": {
    "ExecuteTime": {
     "end_time": "2020-04-14T18:55:44.972969Z",
     "start_time": "2020-04-14T18:53:45.572878Z"
    }
   },
   "outputs": [
    {
     "name": "stderr",
     "output_type": "stream",
     "text": [
      "INFO:causalml:Generating propensity score\n"
     ]
    },
    {
     "name": "stderr",
     "output_type": "stream",
     "text": [
      "INFO:causalml:Calibrating propensity scores.\n",
      "INFO:causalml:Error metrics for group treatment_a\n",
      "INFO:causalml:    RMSE   (Control):     0.4743\n",
      "INFO:causalml:    RMSE (Treatment):     0.5123\n",
      "INFO:causalml:   sMAPE   (Control):     0.5042\n",
      "INFO:causalml:   sMAPE (Treatment):     0.2969\n",
      "INFO:causalml:    Gini   (Control):     0.9290\n",
      "INFO:causalml:    Gini (Treatment):     0.9106\n",
      "INFO:causalml:Bootstrap Confidence Intervals for ATE\n",
      "100%|██████████| 100/100 [05:47<00:00,  3.48s/it]\n"
     ]
    }
   ],
   "source": [
    "ate_x_b_no_p, ate_x_lb_b_no_p, ate_x_ub_b_no_p = learner_x.estimate_ate(X=X, treatment=treatment, y=y, bootstrap_ci=True,\n",
    "                                                   n_bootstraps=100, bootstrap_size=5000)"
   ]
  },
  {
   "cell_type": "code",
   "execution_count": 34,
   "metadata": {
    "ExecuteTime": {
     "end_time": "2020-04-14T18:55:45.012081Z",
     "start_time": "2020-04-14T18:55:44.975086Z"
    }
   },
   "outputs": [
    {
     "data": {
      "text/plain": [
       "array([[0.42577051],\n",
       "       [0.49976967],\n",
       "       [0.59197433]])"
      ]
     },
     "execution_count": 34,
     "metadata": {},
     "output_type": "execute_result"
    }
   ],
   "source": [
    "np.vstack((ate_x_lb_b_no_p, ate_x_b_no_p, ate_x_ub_b_no_p))"
   ]
  },
  {
   "cell_type": "markdown",
   "metadata": {},
   "source": [
    "### CATE"
   ]
  },
  {
   "cell_type": "markdown",
   "metadata": {},
   "source": [
    "#### With Propensity Score Input"
   ]
  },
  {
   "cell_type": "code",
   "execution_count": 35,
   "metadata": {
    "ExecuteTime": {
     "end_time": "2020-04-14T18:55:47.269808Z",
     "start_time": "2020-04-14T18:55:45.013958Z"
    }
   },
   "outputs": [
    {
     "name": "stderr",
     "output_type": "stream",
     "text": [
      "INFO:causalml:Error metrics for group treatment_a\n",
      "INFO:causalml:    RMSE   (Control):     0.4743\n",
      "INFO:causalml:    RMSE (Treatment):     0.5123\n",
      "INFO:causalml:   sMAPE   (Control):     0.5042\n",
      "INFO:causalml:   sMAPE (Treatment):     0.2969\n",
      "INFO:causalml:    Gini   (Control):     0.9290\n",
      "INFO:causalml:    Gini (Treatment):     0.9106\n"
     ]
    }
   ],
   "source": [
    "learner_x = BaseXRegressor(XGBRegressor(), control_name='control')\n",
    "cate_x = learner_x.fit_predict(X=X, treatment=treatment, y=y, p=e)"
   ]
  },
  {
   "cell_type": "code",
   "execution_count": 36,
   "metadata": {
    "ExecuteTime": {
     "end_time": "2020-04-14T18:55:47.308060Z",
     "start_time": "2020-04-14T18:55:47.271872Z"
    }
   },
   "outputs": [
    {
     "data": {
      "text/plain": [
       "array([[-0.47097521],\n",
       "       [ 1.13250971],\n",
       "       [ 0.07736126],\n",
       "       ...,\n",
       "       [ 0.37328167],\n",
       "       [ 1.69502912],\n",
       "       [ 0.10810449]])"
      ]
     },
     "execution_count": 36,
     "metadata": {},
     "output_type": "execute_result"
    }
   ],
   "source": [
    "cate_x"
   ]
  },
  {
   "cell_type": "markdown",
   "metadata": {},
   "source": [
    "#### Without Propensity Score Input"
   ]
  },
  {
   "cell_type": "code",
   "execution_count": 37,
   "metadata": {
    "ExecuteTime": {
     "end_time": "2020-04-14T18:55:50.057658Z",
     "start_time": "2020-04-14T18:55:47.310097Z"
    }
   },
   "outputs": [
    {
     "name": "stderr",
     "output_type": "stream",
     "text": [
      "INFO:causalml:Generating propensity score\n"
     ]
    },
    {
     "name": "stderr",
     "output_type": "stream",
     "text": [
      "INFO:causalml:Calibrating propensity scores.\n",
      "INFO:causalml:Error metrics for group treatment_a\n",
      "INFO:causalml:    RMSE   (Control):     0.4743\n",
      "INFO:causalml:    RMSE (Treatment):     0.5123\n",
      "INFO:causalml:   sMAPE   (Control):     0.5042\n",
      "INFO:causalml:   sMAPE (Treatment):     0.2969\n",
      "INFO:causalml:    Gini   (Control):     0.9290\n",
      "INFO:causalml:    Gini (Treatment):     0.9106\n"
     ]
    }
   ],
   "source": [
    "cate_x_no_p = learner_x.fit_predict(X=X, treatment=treatment, y=y)"
   ]
  },
  {
   "cell_type": "code",
   "execution_count": 38,
   "metadata": {
    "ExecuteTime": {
     "end_time": "2020-04-14T18:55:50.095258Z",
     "start_time": "2020-04-14T18:55:50.059363Z"
    }
   },
   "outputs": [
    {
     "data": {
      "text/plain": [
       "array([[-0.451564  ],\n",
       "       [ 1.129093  ],\n",
       "       [ 0.08056108],\n",
       "       ...,\n",
       "       [ 0.34153235],\n",
       "       [ 1.61119016],\n",
       "       [ 0.11391069]])"
      ]
     },
     "execution_count": 38,
     "metadata": {},
     "output_type": "execute_result"
    }
   ],
   "source": [
    "cate_x_no_p"
   ]
  },
  {
   "cell_type": "markdown",
   "metadata": {},
   "source": [
    "### CATE w/ Confidence Intervals"
   ]
  },
  {
   "cell_type": "markdown",
   "metadata": {},
   "source": [
    "#### With Propensity Score Input"
   ]
  },
  {
   "cell_type": "code",
   "execution_count": 39,
   "metadata": {
    "ExecuteTime": {
     "end_time": "2020-04-14T18:57:07.153422Z",
     "start_time": "2020-04-14T18:55:50.097185Z"
    }
   },
   "outputs": [
    {
     "name": "stderr",
     "output_type": "stream",
     "text": [
      "INFO:causalml:Error metrics for group treatment_a\n",
      "INFO:causalml:    RMSE   (Control):     0.4743\n",
      "INFO:causalml:    RMSE (Treatment):     0.5123\n",
      "INFO:causalml:   sMAPE   (Control):     0.5042\n",
      "INFO:causalml:   sMAPE (Treatment):     0.2969\n",
      "INFO:causalml:    Gini   (Control):     0.9290\n",
      "INFO:causalml:    Gini (Treatment):     0.9106\n",
      "INFO:causalml:Bootstrap Confidence Intervals\n",
      "100%|██████████| 100/100 [04:43<00:00,  2.83s/it]\n"
     ]
    }
   ],
   "source": [
    "learner_x = BaseXRegressor(XGBRegressor(), control_name='control')\n",
    "cate_x, cate_x_lb, cate_x_ub = learner_x.fit_predict(X=X, treatment=treatment, y=y, p=e, return_ci=True,\n",
    "                                                     n_bootstraps=100, bootstrap_size=3000)"
   ]
  },
  {
   "cell_type": "code",
   "execution_count": 40,
   "metadata": {
    "ExecuteTime": {
     "end_time": "2020-04-14T18:57:07.202131Z",
     "start_time": "2020-04-14T18:57:07.155610Z"
    }
   },
   "outputs": [
    {
     "data": {
      "text/plain": [
       "array([[-0.47097521],\n",
       "       [ 1.13250971],\n",
       "       [ 0.07736126],\n",
       "       ...,\n",
       "       [ 0.37328167],\n",
       "       [ 1.69502912],\n",
       "       [ 0.10810449]])"
      ]
     },
     "execution_count": 40,
     "metadata": {},
     "output_type": "execute_result"
    }
   ],
   "source": [
    "cate_x"
   ]
  },
  {
   "cell_type": "code",
   "execution_count": 41,
   "metadata": {
    "ExecuteTime": {
     "end_time": "2020-04-14T18:57:07.252726Z",
     "start_time": "2020-04-14T18:57:07.205064Z"
    }
   },
   "outputs": [
    {
     "data": {
      "text/plain": [
       "array([[-0.64204219],\n",
       "       [-0.30093444],\n",
       "       [-0.51922675],\n",
       "       ...,\n",
       "       [-0.06288861],\n",
       "       [-0.60912464],\n",
       "       [-0.75679027]])"
      ]
     },
     "execution_count": 41,
     "metadata": {},
     "output_type": "execute_result"
    }
   ],
   "source": [
    "cate_x_lb"
   ]
  },
  {
   "cell_type": "code",
   "execution_count": 42,
   "metadata": {
    "ExecuteTime": {
     "end_time": "2020-04-14T18:57:07.298204Z",
     "start_time": "2020-04-14T18:57:07.254908Z"
    }
   },
   "outputs": [
    {
     "data": {
      "text/plain": [
       "array([[1.57674491],\n",
       "       [1.68459269],\n",
       "       [1.11518906],\n",
       "       ...,\n",
       "       [1.40088332],\n",
       "       [1.80225242],\n",
       "       [1.54807597]])"
      ]
     },
     "execution_count": 42,
     "metadata": {},
     "output_type": "execute_result"
    }
   ],
   "source": [
    "cate_x_ub"
   ]
  },
  {
   "cell_type": "markdown",
   "metadata": {},
   "source": [
    "#### Without Propensity Score Input"
   ]
  },
  {
   "cell_type": "code",
   "execution_count": 43,
   "metadata": {
    "ExecuteTime": {
     "end_time": "2020-04-14T18:58:26.822473Z",
     "start_time": "2020-04-14T18:57:07.300843Z"
    }
   },
   "outputs": [
    {
     "name": "stderr",
     "output_type": "stream",
     "text": [
      "INFO:causalml:Generating propensity score\n"
     ]
    },
    {
     "name": "stderr",
     "output_type": "stream",
     "text": [
      "INFO:causalml:Calibrating propensity scores.\n",
      "INFO:causalml:Error metrics for group treatment_a\n",
      "INFO:causalml:    RMSE   (Control):     0.4743\n",
      "INFO:causalml:    RMSE (Treatment):     0.5123\n",
      "INFO:causalml:   sMAPE   (Control):     0.5042\n",
      "INFO:causalml:   sMAPE (Treatment):     0.2969\n",
      "INFO:causalml:    Gini   (Control):     0.9290\n",
      "INFO:causalml:    Gini (Treatment):     0.9106\n",
      "INFO:causalml:Bootstrap Confidence Intervals\n",
      "100%|██████████| 100/100 [04:52<00:00,  2.92s/it]\n"
     ]
    }
   ],
   "source": [
    "cate_x_no_p, cate_x_lb_no_p, cate_x_ub_no_p = learner_x.fit_predict(X=X, treatment=treatment, y=y, return_ci=True,\n",
    "                                                     n_bootstraps=100, bootstrap_size=3000)"
   ]
  },
  {
   "cell_type": "code",
   "execution_count": 44,
   "metadata": {
    "ExecuteTime": {
     "end_time": "2020-04-14T18:58:26.864389Z",
     "start_time": "2020-04-14T18:58:26.824577Z"
    }
   },
   "outputs": [
    {
     "data": {
      "text/plain": [
       "array([[-0.451564  ],\n",
       "       [ 1.129093  ],\n",
       "       [ 0.08056108],\n",
       "       ...,\n",
       "       [ 0.34153235],\n",
       "       [ 1.61119016],\n",
       "       [ 0.11391069]])"
      ]
     },
     "execution_count": 44,
     "metadata": {},
     "output_type": "execute_result"
    }
   ],
   "source": [
    "cate_x_no_p"
   ]
  },
  {
   "cell_type": "code",
   "execution_count": 45,
   "metadata": {
    "ExecuteTime": {
     "end_time": "2020-04-14T18:58:26.906146Z",
     "start_time": "2020-04-14T18:58:26.866620Z"
    }
   },
   "outputs": [
    {
     "data": {
      "text/plain": [
       "array([[-1.13864854],\n",
       "       [-0.42270605],\n",
       "       [-0.39454174],\n",
       "       ...,\n",
       "       [-0.15806432],\n",
       "       [-0.69719693],\n",
       "       [-0.66722489]])"
      ]
     },
     "execution_count": 45,
     "metadata": {},
     "output_type": "execute_result"
    }
   ],
   "source": [
    "cate_x_lb_no_p"
   ]
  },
  {
   "cell_type": "code",
   "execution_count": 46,
   "metadata": {
    "ExecuteTime": {
     "end_time": "2020-04-14T18:58:26.945545Z",
     "start_time": "2020-04-14T18:58:26.908137Z"
    }
   },
   "outputs": [
    {
     "data": {
      "text/plain": [
       "array([[1.61421556],\n",
       "       [1.69973035],\n",
       "       [1.1341171 ],\n",
       "       ...,\n",
       "       [1.16627774],\n",
       "       [1.86392105],\n",
       "       [1.02637874]])"
      ]
     },
     "execution_count": 46,
     "metadata": {},
     "output_type": "execute_result"
    }
   ],
   "source": [
    "cate_x_ub_no_p"
   ]
  },
  {
   "cell_type": "markdown",
   "metadata": {},
   "source": [
    "## R-Learner"
   ]
  },
  {
   "cell_type": "markdown",
   "metadata": {},
   "source": [
    "### ATE w/ Confidence Intervals"
   ]
  },
  {
   "cell_type": "markdown",
   "metadata": {},
   "source": [
    "#### With Propensity Score Input"
   ]
  },
  {
   "cell_type": "code",
   "execution_count": 47,
   "metadata": {
    "ExecuteTime": {
     "end_time": "2020-04-14T18:58:33.047158Z",
     "start_time": "2020-04-14T18:58:26.947521Z"
    }
   },
   "outputs": [
    {
     "name": "stderr",
     "output_type": "stream",
     "text": [
      "INFO:causalml:generating out-of-fold CV outcome estimates\n",
      "INFO:causalml:training the treatment effect model for treatment_a with R-loss\n"
     ]
    }
   ],
   "source": [
    "learner_r = BaseRRegressor(XGBRegressor(), control_name='control')\n",
    "ate_r, ate_r_lb, ate_r_ub = learner_r.estimate_ate(X=X, treatment=treatment, y=y, p=e)"
   ]
  },
  {
   "cell_type": "code",
   "execution_count": 48,
   "metadata": {
    "ExecuteTime": {
     "end_time": "2020-04-14T18:58:33.087239Z",
     "start_time": "2020-04-14T18:58:33.049284Z"
    }
   },
   "outputs": [
    {
     "data": {
      "text/plain": [
       "array([[0.49650136],\n",
       "       [0.4969706 ],\n",
       "       [0.49743984]])"
      ]
     },
     "execution_count": 48,
     "metadata": {},
     "output_type": "execute_result"
    }
   ],
   "source": [
    "np.vstack((ate_r_lb, ate_r, ate_r_ub))"
   ]
  },
  {
   "cell_type": "markdown",
   "metadata": {},
   "source": [
    "#### Without Propensity Score Input"
   ]
  },
  {
   "cell_type": "code",
   "execution_count": 49,
   "metadata": {
    "ExecuteTime": {
     "end_time": "2020-04-14T18:58:38.036497Z",
     "start_time": "2020-04-14T18:58:33.089093Z"
    }
   },
   "outputs": [
    {
     "name": "stderr",
     "output_type": "stream",
     "text": [
      "INFO:causalml:Generating propensity score\n",
      "INFO:causalml:Calibrating propensity scores.\n",
      "INFO:causalml:generating out-of-fold CV outcome estimates\n",
      "INFO:causalml:training the treatment effect model for treatment_a with R-loss\n"
     ]
    }
   ],
   "source": [
    "ate_r_no_p, ate_r_lb_no_p, ate_r_ub_no_p = learner_r.estimate_ate(X=X, treatment=treatment, y=y)"
   ]
  },
  {
   "cell_type": "code",
   "execution_count": 50,
   "metadata": {
    "ExecuteTime": {
     "end_time": "2020-04-14T18:58:38.072770Z",
     "start_time": "2020-04-14T18:58:38.038825Z"
    }
   },
   "outputs": [
    {
     "data": {
      "text/plain": [
       "array([[0.4638673 ],\n",
       "       [0.46433703],\n",
       "       [0.46480676]])"
      ]
     },
     "execution_count": 50,
     "metadata": {},
     "output_type": "execute_result"
    }
   ],
   "source": [
    "np.vstack((ate_r_lb_no_p, ate_r_no_p, ate_r_ub_no_p))"
   ]
  },
  {
   "cell_type": "code",
   "execution_count": 51,
   "metadata": {
    "ExecuteTime": {
     "end_time": "2020-04-14T18:58:38.109243Z",
     "start_time": "2020-04-14T18:58:38.074501Z"
    }
   },
   "outputs": [
    {
     "data": {
      "text/plain": [
       "{'treatment_a': LogisticRegressionCV(Cs=array([1.00230524, 2.15608891, 4.63802765, 9.97700064]),\n",
       "                      cv=StratifiedKFold(n_splits=4, random_state=42, shuffle=True),\n",
       "                      l1_ratios=array([0.001     , 0.33366667, 0.66633333, 0.999     ]),\n",
       "                      penalty='elasticnet', random_state=42, solver='saga')}"
      ]
     },
     "execution_count": 51,
     "metadata": {},
     "output_type": "execute_result"
    }
   ],
   "source": [
    "learner_r.propensity_model"
   ]
  },
  {
   "cell_type": "markdown",
   "metadata": {},
   "source": [
    "### ATE w/ Boostrap Confidence Intervals"
   ]
  },
  {
   "cell_type": "markdown",
   "metadata": {},
   "source": [
    "#### With Propensity Score Input"
   ]
  },
  {
   "cell_type": "code",
   "execution_count": 52,
   "metadata": {
    "ExecuteTime": {
     "end_time": "2020-04-14T19:00:38.045754Z",
     "start_time": "2020-04-14T18:58:38.111041Z"
    }
   },
   "outputs": [
    {
     "name": "stderr",
     "output_type": "stream",
     "text": [
      "INFO:causalml:generating out-of-fold CV outcome estimates\n",
      "INFO:causalml:training the treatment effect model for treatment_a with R-loss\n",
      "INFO:causalml:Bootstrap Confidence Intervals for ATE\n",
      "  0%|          | 0/100 [00:00<?, ?it/s]INFO:causalml:generating out-of-fold CV outcome estimates\n",
      "INFO:causalml:training the treatment effect model for treatment_a with R-loss\n",
      "  1%|          | 1/100 [00:05<08:31,  5.16s/it]INFO:causalml:generating out-of-fold CV outcome estimates\n",
      "INFO:causalml:training the treatment effect model for treatment_a with R-loss\n",
      "  2%|▏         | 2/100 [00:10<08:58,  5.50s/it]INFO:causalml:generating out-of-fold CV outcome estimates\n",
      "INFO:causalml:training the treatment effect model for treatment_a with R-loss\n",
      "  3%|▎         | 3/100 [00:14<07:16,  4.50s/it]INFO:causalml:generating out-of-fold CV outcome estimates\n",
      "INFO:causalml:training the treatment effect model for treatment_a with R-loss\n",
      "  4%|▍         | 4/100 [00:20<08:09,  5.10s/it]INFO:causalml:generating out-of-fold CV outcome estimates\n",
      "INFO:causalml:training the treatment effect model for treatment_a with R-loss\n",
      "  5%|▌         | 5/100 [00:24<07:32,  4.76s/it]INFO:causalml:generating out-of-fold CV outcome estimates\n",
      "INFO:causalml:training the treatment effect model for treatment_a with R-loss\n",
      "  6%|▌         | 6/100 [00:28<06:53,  4.40s/it]INFO:causalml:generating out-of-fold CV outcome estimates\n",
      "INFO:causalml:training the treatment effect model for treatment_a with R-loss\n",
      "  7%|▋         | 7/100 [00:30<05:54,  3.81s/it]INFO:causalml:generating out-of-fold CV outcome estimates\n",
      "INFO:causalml:training the treatment effect model for treatment_a with R-loss\n",
      "  8%|▊         | 8/100 [00:33<05:08,  3.35s/it]INFO:causalml:generating out-of-fold CV outcome estimates\n",
      "INFO:causalml:training the treatment effect model for treatment_a with R-loss\n",
      "  9%|▉         | 9/100 [00:36<05:04,  3.34s/it]INFO:causalml:generating out-of-fold CV outcome estimates\n",
      "INFO:causalml:training the treatment effect model for treatment_a with R-loss\n",
      " 10%|█         | 10/100 [00:39<04:50,  3.23s/it]INFO:causalml:generating out-of-fold CV outcome estimates\n",
      "INFO:causalml:training the treatment effect model for treatment_a with R-loss\n",
      " 11%|█         | 11/100 [00:45<05:56,  4.00s/it]INFO:causalml:generating out-of-fold CV outcome estimates\n",
      "INFO:causalml:training the treatment effect model for treatment_a with R-loss\n",
      " 12%|█▏        | 12/100 [00:50<06:17,  4.29s/it]INFO:causalml:generating out-of-fold CV outcome estimates\n",
      "INFO:causalml:training the treatment effect model for treatment_a with R-loss\n",
      " 13%|█▎        | 13/100 [00:53<05:57,  4.11s/it]INFO:causalml:generating out-of-fold CV outcome estimates\n",
      "INFO:causalml:training the treatment effect model for treatment_a with R-loss\n",
      " 14%|█▍        | 14/100 [00:57<05:35,  3.90s/it]INFO:causalml:generating out-of-fold CV outcome estimates\n",
      "INFO:causalml:training the treatment effect model for treatment_a with R-loss\n",
      " 15%|█▌        | 15/100 [01:01<05:43,  4.05s/it]INFO:causalml:generating out-of-fold CV outcome estimates\n",
      "INFO:causalml:training the treatment effect model for treatment_a with R-loss\n",
      " 16%|█▌        | 16/100 [01:07<06:25,  4.59s/it]INFO:causalml:generating out-of-fold CV outcome estimates\n",
      "INFO:causalml:training the treatment effect model for treatment_a with R-loss\n",
      " 17%|█▋        | 17/100 [01:12<06:40,  4.82s/it]INFO:causalml:generating out-of-fold CV outcome estimates\n",
      "INFO:causalml:training the treatment effect model for treatment_a with R-loss\n",
      " 18%|█▊        | 18/100 [01:18<07:03,  5.16s/it]INFO:causalml:generating out-of-fold CV outcome estimates\n",
      "INFO:causalml:training the treatment effect model for treatment_a with R-loss\n",
      " 19%|█▉        | 19/100 [01:23<06:41,  4.96s/it]INFO:causalml:generating out-of-fold CV outcome estimates\n",
      "INFO:causalml:training the treatment effect model for treatment_a with R-loss\n",
      " 20%|██        | 20/100 [01:27<06:15,  4.69s/it]INFO:causalml:generating out-of-fold CV outcome estimates\n",
      "INFO:causalml:training the treatment effect model for treatment_a with R-loss\n",
      " 21%|██        | 21/100 [01:30<05:35,  4.24s/it]INFO:causalml:generating out-of-fold CV outcome estimates\n",
      "INFO:causalml:training the treatment effect model for treatment_a with R-loss\n",
      " 22%|██▏       | 22/100 [01:33<04:57,  3.82s/it]INFO:causalml:generating out-of-fold CV outcome estimates\n",
      "INFO:causalml:training the treatment effect model for treatment_a with R-loss\n",
      " 23%|██▎       | 23/100 [01:36<04:38,  3.61s/it]INFO:causalml:generating out-of-fold CV outcome estimates\n",
      "INFO:causalml:training the treatment effect model for treatment_a with R-loss\n",
      " 24%|██▍       | 24/100 [01:39<04:27,  3.52s/it]INFO:causalml:generating out-of-fold CV outcome estimates\n",
      "INFO:causalml:training the treatment effect model for treatment_a with R-loss\n",
      " 25%|██▌       | 25/100 [01:43<04:20,  3.47s/it]INFO:causalml:generating out-of-fold CV outcome estimates\n",
      "INFO:causalml:training the treatment effect model for treatment_a with R-loss\n",
      " 26%|██▌       | 26/100 [01:46<04:09,  3.37s/it]INFO:causalml:generating out-of-fold CV outcome estimates\n",
      "INFO:causalml:training the treatment effect model for treatment_a with R-loss\n",
      " 27%|██▋       | 27/100 [01:48<03:43,  3.06s/it]INFO:causalml:generating out-of-fold CV outcome estimates\n",
      "INFO:causalml:training the treatment effect model for treatment_a with R-loss\n",
      " 28%|██▊       | 28/100 [01:51<03:42,  3.09s/it]INFO:causalml:generating out-of-fold CV outcome estimates\n",
      "INFO:causalml:training the treatment effect model for treatment_a with R-loss\n",
      " 29%|██▉       | 29/100 [01:53<03:16,  2.77s/it]INFO:causalml:generating out-of-fold CV outcome estimates\n",
      "INFO:causalml:training the treatment effect model for treatment_a with R-loss\n",
      " 30%|███       | 30/100 [01:55<02:58,  2.54s/it]INFO:causalml:generating out-of-fold CV outcome estimates\n",
      "INFO:causalml:training the treatment effect model for treatment_a with R-loss\n",
      " 31%|███       | 31/100 [01:57<02:44,  2.39s/it]INFO:causalml:generating out-of-fold CV outcome estimates\n",
      "INFO:causalml:training the treatment effect model for treatment_a with R-loss\n",
      " 32%|███▏      | 32/100 [02:00<02:54,  2.57s/it]INFO:causalml:generating out-of-fold CV outcome estimates\n",
      "INFO:causalml:training the treatment effect model for treatment_a with R-loss\n",
      " 33%|███▎      | 33/100 [02:03<02:57,  2.65s/it]INFO:causalml:generating out-of-fold CV outcome estimates\n",
      "INFO:causalml:training the treatment effect model for treatment_a with R-loss\n",
      " 34%|███▍      | 34/100 [02:06<03:02,  2.77s/it]INFO:causalml:generating out-of-fold CV outcome estimates\n",
      "INFO:causalml:training the treatment effect model for treatment_a with R-loss\n",
      " 35%|███▌      | 35/100 [02:09<03:03,  2.82s/it]INFO:causalml:generating out-of-fold CV outcome estimates\n",
      "INFO:causalml:training the treatment effect model for treatment_a with R-loss\n",
      " 36%|███▌      | 36/100 [02:13<03:16,  3.07s/it]INFO:causalml:generating out-of-fold CV outcome estimates\n",
      "INFO:causalml:training the treatment effect model for treatment_a with R-loss\n",
      " 37%|███▋      | 37/100 [02:16<03:12,  3.05s/it]INFO:causalml:generating out-of-fold CV outcome estimates\n",
      "INFO:causalml:training the treatment effect model for treatment_a with R-loss\n",
      " 38%|███▊      | 38/100 [02:19<03:08,  3.04s/it]INFO:causalml:generating out-of-fold CV outcome estimates\n",
      "INFO:causalml:training the treatment effect model for treatment_a with R-loss\n",
      " 39%|███▉      | 39/100 [02:22<03:06,  3.05s/it]INFO:causalml:generating out-of-fold CV outcome estimates\n",
      "INFO:causalml:training the treatment effect model for treatment_a with R-loss\n",
      " 40%|████      | 40/100 [02:25<02:59,  2.99s/it]INFO:causalml:generating out-of-fold CV outcome estimates\n",
      "INFO:causalml:training the treatment effect model for treatment_a with R-loss\n",
      " 41%|████      | 41/100 [02:27<02:52,  2.92s/it]INFO:causalml:generating out-of-fold CV outcome estimates\n",
      "INFO:causalml:training the treatment effect model for treatment_a with R-loss\n",
      " 42%|████▏     | 42/100 [02:31<02:55,  3.02s/it]INFO:causalml:generating out-of-fold CV outcome estimates\n",
      "INFO:causalml:training the treatment effect model for treatment_a with R-loss\n",
      " 43%|████▎     | 43/100 [02:33<02:48,  2.96s/it]INFO:causalml:generating out-of-fold CV outcome estimates\n",
      "INFO:causalml:training the treatment effect model for treatment_a with R-loss\n",
      " 44%|████▍     | 44/100 [02:37<02:49,  3.02s/it]INFO:causalml:generating out-of-fold CV outcome estimates\n",
      "INFO:causalml:training the treatment effect model for treatment_a with R-loss\n",
      " 45%|████▌     | 45/100 [02:39<02:36,  2.85s/it]INFO:causalml:generating out-of-fold CV outcome estimates\n",
      "INFO:causalml:training the treatment effect model for treatment_a with R-loss\n",
      " 46%|████▌     | 46/100 [02:42<02:28,  2.75s/it]INFO:causalml:generating out-of-fold CV outcome estimates\n",
      "INFO:causalml:training the treatment effect model for treatment_a with R-loss\n",
      " 47%|████▋     | 47/100 [02:44<02:19,  2.62s/it]INFO:causalml:generating out-of-fold CV outcome estimates\n",
      "INFO:causalml:training the treatment effect model for treatment_a with R-loss\n",
      " 48%|████▊     | 48/100 [02:47<02:27,  2.84s/it]INFO:causalml:generating out-of-fold CV outcome estimates\n",
      "INFO:causalml:training the treatment effect model for treatment_a with R-loss\n",
      " 49%|████▉     | 49/100 [02:50<02:23,  2.82s/it]INFO:causalml:generating out-of-fold CV outcome estimates\n",
      "INFO:causalml:training the treatment effect model for treatment_a with R-loss\n",
      " 50%|█████     | 50/100 [02:52<02:11,  2.64s/it]INFO:causalml:generating out-of-fold CV outcome estimates\n",
      "INFO:causalml:training the treatment effect model for treatment_a with R-loss\n",
      " 51%|█████     | 51/100 [02:56<02:17,  2.81s/it]INFO:causalml:generating out-of-fold CV outcome estimates\n",
      "INFO:causalml:training the treatment effect model for treatment_a with R-loss\n",
      " 52%|█████▏    | 52/100 [02:58<02:17,  2.85s/it]INFO:causalml:generating out-of-fold CV outcome estimates\n",
      "INFO:causalml:training the treatment effect model for treatment_a with R-loss\n",
      " 53%|█████▎    | 53/100 [03:02<02:20,  2.99s/it]INFO:causalml:generating out-of-fold CV outcome estimates\n",
      "INFO:causalml:training the treatment effect model for treatment_a with R-loss\n",
      " 54%|█████▍    | 54/100 [03:05<02:19,  3.04s/it]INFO:causalml:generating out-of-fold CV outcome estimates\n",
      "INFO:causalml:training the treatment effect model for treatment_a with R-loss\n",
      " 55%|█████▌    | 55/100 [03:09<02:25,  3.23s/it]INFO:causalml:generating out-of-fold CV outcome estimates\n",
      "INFO:causalml:training the treatment effect model for treatment_a with R-loss\n",
      " 56%|█████▌    | 56/100 [03:12<02:27,  3.35s/it]INFO:causalml:generating out-of-fold CV outcome estimates\n",
      "INFO:causalml:training the treatment effect model for treatment_a with R-loss\n",
      " 57%|█████▋    | 57/100 [03:16<02:25,  3.39s/it]INFO:causalml:generating out-of-fold CV outcome estimates\n",
      "INFO:causalml:training the treatment effect model for treatment_a with R-loss\n",
      " 58%|█████▊    | 58/100 [03:20<02:28,  3.53s/it]INFO:causalml:generating out-of-fold CV outcome estimates\n",
      "INFO:causalml:training the treatment effect model for treatment_a with R-loss\n",
      " 59%|█████▉    | 59/100 [03:23<02:20,  3.43s/it]INFO:causalml:generating out-of-fold CV outcome estimates\n",
      "INFO:causalml:training the treatment effect model for treatment_a with R-loss\n",
      " 60%|██████    | 60/100 [03:26<02:12,  3.32s/it]INFO:causalml:generating out-of-fold CV outcome estimates\n",
      "INFO:causalml:training the treatment effect model for treatment_a with R-loss\n",
      " 61%|██████    | 61/100 [03:29<02:05,  3.21s/it]INFO:causalml:generating out-of-fold CV outcome estimates\n",
      "INFO:causalml:training the treatment effect model for treatment_a with R-loss\n",
      " 62%|██████▏   | 62/100 [03:32<02:00,  3.18s/it]INFO:causalml:generating out-of-fold CV outcome estimates\n",
      "INFO:causalml:training the treatment effect model for treatment_a with R-loss\n",
      " 63%|██████▎   | 63/100 [03:35<01:52,  3.05s/it]INFO:causalml:generating out-of-fold CV outcome estimates\n",
      "INFO:causalml:training the treatment effect model for treatment_a with R-loss\n",
      " 64%|██████▍   | 64/100 [03:39<02:07,  3.55s/it]INFO:causalml:generating out-of-fold CV outcome estimates\n",
      "INFO:causalml:training the treatment effect model for treatment_a with R-loss\n",
      " 65%|██████▌   | 65/100 [03:41<01:48,  3.11s/it]INFO:causalml:generating out-of-fold CV outcome estimates\n",
      "INFO:causalml:training the treatment effect model for treatment_a with R-loss\n",
      " 66%|██████▌   | 66/100 [03:44<01:36,  2.83s/it]INFO:causalml:generating out-of-fold CV outcome estimates\n",
      "INFO:causalml:training the treatment effect model for treatment_a with R-loss\n",
      " 67%|██████▋   | 67/100 [03:46<01:25,  2.59s/it]INFO:causalml:generating out-of-fold CV outcome estimates\n",
      "INFO:causalml:training the treatment effect model for treatment_a with R-loss\n",
      " 68%|██████▊   | 68/100 [03:48<01:19,  2.49s/it]INFO:causalml:generating out-of-fold CV outcome estimates\n",
      "INFO:causalml:training the treatment effect model for treatment_a with R-loss\n",
      " 69%|██████▉   | 69/100 [03:50<01:18,  2.52s/it]INFO:causalml:generating out-of-fold CV outcome estimates\n",
      "INFO:causalml:training the treatment effect model for treatment_a with R-loss\n",
      " 70%|███████   | 70/100 [03:53<01:16,  2.54s/it]INFO:causalml:generating out-of-fold CV outcome estimates\n",
      "INFO:causalml:training the treatment effect model for treatment_a with R-loss\n",
      " 71%|███████   | 71/100 [03:56<01:17,  2.66s/it]INFO:causalml:generating out-of-fold CV outcome estimates\n",
      "INFO:causalml:training the treatment effect model for treatment_a with R-loss\n",
      " 72%|███████▏  | 72/100 [03:59<01:17,  2.76s/it]INFO:causalml:generating out-of-fold CV outcome estimates\n",
      "INFO:causalml:training the treatment effect model for treatment_a with R-loss\n",
      " 73%|███████▎  | 73/100 [04:02<01:16,  2.82s/it]INFO:causalml:generating out-of-fold CV outcome estimates\n",
      "INFO:causalml:training the treatment effect model for treatment_a with R-loss\n",
      " 74%|███████▍  | 74/100 [04:06<01:23,  3.23s/it]INFO:causalml:generating out-of-fold CV outcome estimates\n",
      "INFO:causalml:training the treatment effect model for treatment_a with R-loss\n",
      " 75%|███████▌  | 75/100 [04:09<01:17,  3.10s/it]INFO:causalml:generating out-of-fold CV outcome estimates\n",
      "INFO:causalml:training the treatment effect model for treatment_a with R-loss\n",
      " 76%|███████▌  | 76/100 [04:12<01:10,  2.94s/it]INFO:causalml:generating out-of-fold CV outcome estimates\n",
      "INFO:causalml:training the treatment effect model for treatment_a with R-loss\n",
      " 77%|███████▋  | 77/100 [04:14<01:06,  2.89s/it]INFO:causalml:generating out-of-fold CV outcome estimates\n",
      "INFO:causalml:training the treatment effect model for treatment_a with R-loss\n",
      " 78%|███████▊  | 78/100 [04:17<01:01,  2.79s/it]INFO:causalml:generating out-of-fold CV outcome estimates\n",
      "INFO:causalml:training the treatment effect model for treatment_a with R-loss\n",
      " 79%|███████▉  | 79/100 [04:20<01:00,  2.86s/it]INFO:causalml:generating out-of-fold CV outcome estimates\n",
      "INFO:causalml:training the treatment effect model for treatment_a with R-loss\n",
      " 80%|████████  | 80/100 [04:23<00:58,  2.93s/it]INFO:causalml:generating out-of-fold CV outcome estimates\n",
      "INFO:causalml:training the treatment effect model for treatment_a with R-loss\n",
      " 81%|████████  | 81/100 [04:26<00:54,  2.86s/it]INFO:causalml:generating out-of-fold CV outcome estimates\n",
      "INFO:causalml:training the treatment effect model for treatment_a with R-loss\n",
      " 82%|████████▏ | 82/100 [04:29<00:51,  2.88s/it]INFO:causalml:generating out-of-fold CV outcome estimates\n",
      "INFO:causalml:training the treatment effect model for treatment_a with R-loss\n",
      " 83%|████████▎ | 83/100 [04:31<00:44,  2.61s/it]INFO:causalml:generating out-of-fold CV outcome estimates\n",
      "INFO:causalml:training the treatment effect model for treatment_a with R-loss\n",
      " 84%|████████▍ | 84/100 [04:33<00:39,  2.47s/it]INFO:causalml:generating out-of-fold CV outcome estimates\n",
      "INFO:causalml:training the treatment effect model for treatment_a with R-loss\n",
      " 85%|████████▌ | 85/100 [04:35<00:35,  2.36s/it]INFO:causalml:generating out-of-fold CV outcome estimates\n",
      "INFO:causalml:training the treatment effect model for treatment_a with R-loss\n",
      " 86%|████████▌ | 86/100 [04:37<00:31,  2.25s/it]INFO:causalml:generating out-of-fold CV outcome estimates\n",
      "INFO:causalml:training the treatment effect model for treatment_a with R-loss\n",
      " 87%|████████▋ | 87/100 [04:39<00:28,  2.22s/it]INFO:causalml:generating out-of-fold CV outcome estimates\n",
      "INFO:causalml:training the treatment effect model for treatment_a with R-loss\n",
      " 88%|████████▊ | 88/100 [04:41<00:26,  2.18s/it]INFO:causalml:generating out-of-fold CV outcome estimates\n",
      "INFO:causalml:training the treatment effect model for treatment_a with R-loss\n",
      " 89%|████████▉ | 89/100 [04:44<00:26,  2.41s/it]INFO:causalml:generating out-of-fold CV outcome estimates\n",
      "INFO:causalml:training the treatment effect model for treatment_a with R-loss\n",
      " 90%|█████████ | 90/100 [04:47<00:25,  2.57s/it]INFO:causalml:generating out-of-fold CV outcome estimates\n",
      "INFO:causalml:training the treatment effect model for treatment_a with R-loss\n",
      " 91%|█████████ | 91/100 [04:50<00:23,  2.64s/it]INFO:causalml:generating out-of-fold CV outcome estimates\n",
      "INFO:causalml:training the treatment effect model for treatment_a with R-loss\n",
      " 92%|█████████▏| 92/100 [04:52<00:20,  2.62s/it]INFO:causalml:generating out-of-fold CV outcome estimates\n",
      "INFO:causalml:training the treatment effect model for treatment_a with R-loss\n",
      " 93%|█████████▎| 93/100 [04:55<00:18,  2.60s/it]INFO:causalml:generating out-of-fold CV outcome estimates\n",
      "INFO:causalml:training the treatment effect model for treatment_a with R-loss\n",
      " 94%|█████████▍| 94/100 [04:57<00:15,  2.58s/it]INFO:causalml:generating out-of-fold CV outcome estimates\n",
      "INFO:causalml:training the treatment effect model for treatment_a with R-loss\n",
      " 95%|█████████▌| 95/100 [05:00<00:13,  2.67s/it]INFO:causalml:generating out-of-fold CV outcome estimates\n",
      "INFO:causalml:training the treatment effect model for treatment_a with R-loss\n",
      " 96%|█████████▌| 96/100 [05:03<00:10,  2.63s/it]INFO:causalml:generating out-of-fold CV outcome estimates\n",
      "INFO:causalml:training the treatment effect model for treatment_a with R-loss\n",
      " 97%|█████████▋| 97/100 [05:06<00:08,  2.75s/it]INFO:causalml:generating out-of-fold CV outcome estimates\n",
      "INFO:causalml:training the treatment effect model for treatment_a with R-loss\n",
      " 98%|█████████▊| 98/100 [05:08<00:05,  2.70s/it]INFO:causalml:generating out-of-fold CV outcome estimates\n",
      "INFO:causalml:training the treatment effect model for treatment_a with R-loss\n",
      " 99%|█████████▉| 99/100 [05:11<00:02,  2.72s/it]INFO:causalml:generating out-of-fold CV outcome estimates\n",
      "INFO:causalml:training the treatment effect model for treatment_a with R-loss\n",
      "100%|██████████| 100/100 [05:13<00:00,  3.14s/it]\n"
     ]
    }
   ],
   "source": [
    "ate_r_b, ate_r_lb_b, ate_r_ub_b = learner_r.estimate_ate(X=X, treatment=treatment, y=y, p=e, bootstrap_ci=True,\n",
    "                                                   n_bootstraps=100, bootstrap_size=5000)"
   ]
  },
  {
   "cell_type": "code",
   "execution_count": 53,
   "metadata": {
    "ExecuteTime": {
     "end_time": "2020-04-14T19:00:38.089296Z",
     "start_time": "2020-04-14T19:00:38.047834Z"
    }
   },
   "outputs": [
    {
     "data": {
      "text/plain": [
       "array([[0.35126952],\n",
       "       [0.49067895],\n",
       "       [0.52199466]])"
      ]
     },
     "execution_count": 53,
     "metadata": {},
     "output_type": "execute_result"
    }
   ],
   "source": [
    "np.vstack((ate_r_lb_b, ate_r_b, ate_r_ub_b))"
   ]
  },
  {
   "cell_type": "markdown",
   "metadata": {},
   "source": [
    "#### Without Propensity Score Input"
   ]
  },
  {
   "cell_type": "code",
   "execution_count": 54,
   "metadata": {
    "ExecuteTime": {
     "end_time": "2020-04-14T19:03:24.546297Z",
     "start_time": "2020-04-14T19:00:38.091485Z"
    }
   },
   "outputs": [
    {
     "name": "stderr",
     "output_type": "stream",
     "text": [
      "INFO:causalml:Generating propensity score\n",
      "INFO:causalml:Calibrating propensity scores.\n",
      "INFO:causalml:generating out-of-fold CV outcome estimates\n",
      "INFO:causalml:training the treatment effect model for treatment_a with R-loss\n",
      "INFO:causalml:Bootstrap Confidence Intervals for ATE\n",
      "  0%|          | 0/100 [00:00<?, ?it/s]INFO:causalml:generating out-of-fold CV outcome estimates\n",
      "INFO:causalml:training the treatment effect model for treatment_a with R-loss\n",
      "  1%|          | 1/100 [00:01<03:13,  1.95s/it]INFO:causalml:generating out-of-fold CV outcome estimates\n",
      "INFO:causalml:training the treatment effect model for treatment_a with R-loss\n",
      "  2%|▏         | 2/100 [00:04<03:23,  2.08s/it]INFO:causalml:generating out-of-fold CV outcome estimates\n",
      "INFO:causalml:training the treatment effect model for treatment_a with R-loss\n",
      "  3%|▎         | 3/100 [00:06<03:33,  2.20s/it]INFO:causalml:generating out-of-fold CV outcome estimates\n",
      "INFO:causalml:training the treatment effect model for treatment_a with R-loss\n",
      "  4%|▍         | 4/100 [00:09<03:44,  2.34s/it]INFO:causalml:generating out-of-fold CV outcome estimates\n",
      "INFO:causalml:training the treatment effect model for treatment_a with R-loss\n",
      "  5%|▌         | 5/100 [00:12<04:07,  2.61s/it]INFO:causalml:generating out-of-fold CV outcome estimates\n",
      "INFO:causalml:training the treatment effect model for treatment_a with R-loss\n",
      "  6%|▌         | 6/100 [00:15<04:29,  2.87s/it]INFO:causalml:generating out-of-fold CV outcome estimates\n",
      "INFO:causalml:training the treatment effect model for treatment_a with R-loss\n",
      "  7%|▋         | 7/100 [00:18<04:35,  2.96s/it]INFO:causalml:generating out-of-fold CV outcome estimates\n",
      "INFO:causalml:training the treatment effect model for treatment_a with R-loss\n",
      "  8%|▊         | 8/100 [00:21<04:24,  2.88s/it]INFO:causalml:generating out-of-fold CV outcome estimates\n",
      "INFO:causalml:training the treatment effect model for treatment_a with R-loss\n",
      "  9%|▉         | 9/100 [00:23<04:15,  2.81s/it]INFO:causalml:generating out-of-fold CV outcome estimates\n",
      "INFO:causalml:training the treatment effect model for treatment_a with R-loss\n",
      " 10%|█         | 10/100 [00:27<04:29,  2.99s/it]INFO:causalml:generating out-of-fold CV outcome estimates\n",
      "INFO:causalml:training the treatment effect model for treatment_a with R-loss\n",
      " 11%|█         | 11/100 [00:30<04:41,  3.16s/it]INFO:causalml:generating out-of-fold CV outcome estimates\n",
      "INFO:causalml:training the treatment effect model for treatment_a with R-loss\n",
      " 12%|█▏        | 12/100 [00:33<04:27,  3.04s/it]INFO:causalml:generating out-of-fold CV outcome estimates\n",
      "INFO:causalml:training the treatment effect model for treatment_a with R-loss\n",
      " 13%|█▎        | 13/100 [00:37<04:46,  3.29s/it]INFO:causalml:generating out-of-fold CV outcome estimates\n",
      "INFO:causalml:training the treatment effect model for treatment_a with R-loss\n",
      " 14%|█▍        | 14/100 [00:43<05:56,  4.15s/it]INFO:causalml:generating out-of-fold CV outcome estimates\n",
      "INFO:causalml:training the treatment effect model for treatment_a with R-loss\n",
      " 15%|█▌        | 15/100 [00:46<05:12,  3.68s/it]INFO:causalml:generating out-of-fold CV outcome estimates\n",
      "INFO:causalml:training the treatment effect model for treatment_a with R-loss\n",
      " 16%|█▌        | 16/100 [00:48<04:33,  3.25s/it]INFO:causalml:generating out-of-fold CV outcome estimates\n",
      "INFO:causalml:training the treatment effect model for treatment_a with R-loss\n",
      " 17%|█▋        | 17/100 [00:50<03:56,  2.85s/it]INFO:causalml:generating out-of-fold CV outcome estimates\n",
      "INFO:causalml:training the treatment effect model for treatment_a with R-loss\n",
      " 18%|█▊        | 18/100 [00:52<03:37,  2.65s/it]INFO:causalml:generating out-of-fold CV outcome estimates\n",
      "INFO:causalml:training the treatment effect model for treatment_a with R-loss\n",
      " 19%|█▉        | 19/100 [00:54<03:19,  2.46s/it]INFO:causalml:generating out-of-fold CV outcome estimates\n",
      "INFO:causalml:training the treatment effect model for treatment_a with R-loss\n",
      " 20%|██        | 20/100 [00:56<03:06,  2.33s/it]INFO:causalml:generating out-of-fold CV outcome estimates\n",
      "INFO:causalml:training the treatment effect model for treatment_a with R-loss\n",
      " 21%|██        | 21/100 [00:59<03:14,  2.46s/it]INFO:causalml:generating out-of-fold CV outcome estimates\n",
      "INFO:causalml:training the treatment effect model for treatment_a with R-loss\n",
      " 22%|██▏       | 22/100 [01:01<03:01,  2.33s/it]INFO:causalml:generating out-of-fold CV outcome estimates\n",
      "INFO:causalml:training the treatment effect model for treatment_a with R-loss\n",
      " 23%|██▎       | 23/100 [01:04<03:03,  2.39s/it]INFO:causalml:generating out-of-fold CV outcome estimates\n",
      "INFO:causalml:training the treatment effect model for treatment_a with R-loss\n",
      " 24%|██▍       | 24/100 [01:07<03:18,  2.61s/it]INFO:causalml:generating out-of-fold CV outcome estimates\n",
      "INFO:causalml:training the treatment effect model for treatment_a with R-loss\n",
      " 25%|██▌       | 25/100 [01:09<03:11,  2.56s/it]INFO:causalml:generating out-of-fold CV outcome estimates\n",
      "INFO:causalml:training the treatment effect model for treatment_a with R-loss\n",
      " 26%|██▌       | 26/100 [01:12<03:09,  2.56s/it]INFO:causalml:generating out-of-fold CV outcome estimates\n",
      "INFO:causalml:training the treatment effect model for treatment_a with R-loss\n",
      " 27%|██▋       | 27/100 [01:14<03:05,  2.54s/it]INFO:causalml:generating out-of-fold CV outcome estimates\n",
      "INFO:causalml:training the treatment effect model for treatment_a with R-loss\n",
      " 28%|██▊       | 28/100 [01:17<03:04,  2.56s/it]INFO:causalml:generating out-of-fold CV outcome estimates\n",
      "INFO:causalml:training the treatment effect model for treatment_a with R-loss\n",
      " 29%|██▉       | 29/100 [01:19<03:02,  2.58s/it]INFO:causalml:generating out-of-fold CV outcome estimates\n",
      "INFO:causalml:training the treatment effect model for treatment_a with R-loss\n",
      " 30%|███       | 30/100 [01:22<02:58,  2.56s/it]INFO:causalml:generating out-of-fold CV outcome estimates\n",
      "INFO:causalml:training the treatment effect model for treatment_a with R-loss\n",
      " 31%|███       | 31/100 [01:25<03:02,  2.65s/it]INFO:causalml:generating out-of-fold CV outcome estimates\n",
      "INFO:causalml:training the treatment effect model for treatment_a with R-loss\n",
      " 32%|███▏      | 32/100 [01:28<03:07,  2.76s/it]INFO:causalml:generating out-of-fold CV outcome estimates\n",
      "INFO:causalml:training the treatment effect model for treatment_a with R-loss\n",
      " 33%|███▎      | 33/100 [01:30<03:04,  2.75s/it]INFO:causalml:generating out-of-fold CV outcome estimates\n",
      "INFO:causalml:training the treatment effect model for treatment_a with R-loss\n",
      " 34%|███▍      | 34/100 [01:32<02:39,  2.42s/it]INFO:causalml:generating out-of-fold CV outcome estimates\n",
      "INFO:causalml:training the treatment effect model for treatment_a with R-loss\n",
      " 35%|███▌      | 35/100 [01:34<02:25,  2.24s/it]INFO:causalml:generating out-of-fold CV outcome estimates\n",
      "INFO:causalml:training the treatment effect model for treatment_a with R-loss\n",
      " 36%|███▌      | 36/100 [01:36<02:15,  2.12s/it]INFO:causalml:generating out-of-fold CV outcome estimates\n",
      "INFO:causalml:training the treatment effect model for treatment_a with R-loss\n",
      " 37%|███▋      | 37/100 [01:38<02:07,  2.03s/it]INFO:causalml:generating out-of-fold CV outcome estimates\n",
      "INFO:causalml:training the treatment effect model for treatment_a with R-loss\n",
      " 38%|███▊      | 38/100 [01:39<02:01,  1.95s/it]INFO:causalml:generating out-of-fold CV outcome estimates\n",
      "INFO:causalml:training the treatment effect model for treatment_a with R-loss\n",
      " 39%|███▉      | 39/100 [01:42<02:19,  2.29s/it]INFO:causalml:generating out-of-fold CV outcome estimates\n",
      "INFO:causalml:training the treatment effect model for treatment_a with R-loss\n",
      " 40%|████      | 40/100 [01:46<02:39,  2.66s/it]INFO:causalml:generating out-of-fold CV outcome estimates\n",
      "INFO:causalml:training the treatment effect model for treatment_a with R-loss\n",
      " 41%|████      | 41/100 [01:51<03:15,  3.31s/it]INFO:causalml:generating out-of-fold CV outcome estimates\n",
      "INFO:causalml:training the treatment effect model for treatment_a with R-loss\n",
      " 42%|████▏     | 42/100 [01:54<03:10,  3.29s/it]INFO:causalml:generating out-of-fold CV outcome estimates\n",
      "INFO:causalml:training the treatment effect model for treatment_a with R-loss\n",
      " 43%|████▎     | 43/100 [01:57<03:05,  3.26s/it]INFO:causalml:generating out-of-fold CV outcome estimates\n",
      "INFO:causalml:training the treatment effect model for treatment_a with R-loss\n",
      " 44%|████▍     | 44/100 [02:01<03:12,  3.44s/it]INFO:causalml:generating out-of-fold CV outcome estimates\n",
      "INFO:causalml:training the treatment effect model for treatment_a with R-loss\n",
      " 45%|████▌     | 45/100 [02:04<03:00,  3.28s/it]INFO:causalml:generating out-of-fold CV outcome estimates\n",
      "INFO:causalml:training the treatment effect model for treatment_a with R-loss\n",
      " 46%|████▌     | 46/100 [02:07<02:52,  3.19s/it]INFO:causalml:generating out-of-fold CV outcome estimates\n",
      "INFO:causalml:training the treatment effect model for treatment_a with R-loss\n",
      " 47%|████▋     | 47/100 [02:10<02:44,  3.10s/it]INFO:causalml:generating out-of-fold CV outcome estimates\n",
      "INFO:causalml:training the treatment effect model for treatment_a with R-loss\n",
      " 48%|████▊     | 48/100 [02:13<02:37,  3.03s/it]INFO:causalml:generating out-of-fold CV outcome estimates\n",
      "INFO:causalml:training the treatment effect model for treatment_a with R-loss\n",
      " 49%|████▉     | 49/100 [02:16<02:31,  2.97s/it]INFO:causalml:generating out-of-fold CV outcome estimates\n",
      "INFO:causalml:training the treatment effect model for treatment_a with R-loss\n",
      " 50%|█████     | 50/100 [02:18<02:23,  2.86s/it]INFO:causalml:generating out-of-fold CV outcome estimates\n",
      "INFO:causalml:training the treatment effect model for treatment_a with R-loss\n",
      " 51%|█████     | 51/100 [02:21<02:21,  2.90s/it]INFO:causalml:generating out-of-fold CV outcome estimates\n",
      "INFO:causalml:training the treatment effect model for treatment_a with R-loss\n",
      " 52%|█████▏    | 52/100 [02:24<02:13,  2.77s/it]INFO:causalml:generating out-of-fold CV outcome estimates\n",
      "INFO:causalml:training the treatment effect model for treatment_a with R-loss\n",
      " 53%|█████▎    | 53/100 [02:26<02:10,  2.78s/it]INFO:causalml:generating out-of-fold CV outcome estimates\n",
      "INFO:causalml:training the treatment effect model for treatment_a with R-loss\n",
      " 54%|█████▍    | 54/100 [02:28<01:52,  2.45s/it]INFO:causalml:generating out-of-fold CV outcome estimates\n",
      "INFO:causalml:training the treatment effect model for treatment_a with R-loss\n",
      " 55%|█████▌    | 55/100 [02:30<01:43,  2.29s/it]INFO:causalml:generating out-of-fold CV outcome estimates\n",
      "INFO:causalml:training the treatment effect model for treatment_a with R-loss\n",
      " 56%|█████▌    | 56/100 [02:33<01:44,  2.37s/it]INFO:causalml:generating out-of-fold CV outcome estimates\n",
      "INFO:causalml:training the treatment effect model for treatment_a with R-loss\n",
      " 57%|█████▋    | 57/100 [02:35<01:36,  2.25s/it]INFO:causalml:generating out-of-fold CV outcome estimates\n",
      "INFO:causalml:training the treatment effect model for treatment_a with R-loss\n",
      " 58%|█████▊    | 58/100 [02:36<01:28,  2.12s/it]INFO:causalml:generating out-of-fold CV outcome estimates\n",
      "INFO:causalml:training the treatment effect model for treatment_a with R-loss\n",
      " 59%|█████▉    | 59/100 [02:38<01:21,  1.99s/it]INFO:causalml:generating out-of-fold CV outcome estimates\n",
      "INFO:causalml:training the treatment effect model for treatment_a with R-loss\n",
      " 60%|██████    | 60/100 [02:42<01:37,  2.43s/it]INFO:causalml:generating out-of-fold CV outcome estimates\n",
      "INFO:causalml:training the treatment effect model for treatment_a with R-loss\n",
      " 61%|██████    | 61/100 [02:45<01:42,  2.64s/it]INFO:causalml:generating out-of-fold CV outcome estimates\n",
      "INFO:causalml:training the treatment effect model for treatment_a with R-loss\n",
      " 62%|██████▏   | 62/100 [02:47<01:38,  2.60s/it]INFO:causalml:generating out-of-fold CV outcome estimates\n",
      "INFO:causalml:training the treatment effect model for treatment_a with R-loss\n",
      " 63%|██████▎   | 63/100 [02:50<01:35,  2.58s/it]INFO:causalml:generating out-of-fold CV outcome estimates\n",
      "INFO:causalml:training the treatment effect model for treatment_a with R-loss\n",
      " 64%|██████▍   | 64/100 [02:52<01:32,  2.57s/it]INFO:causalml:generating out-of-fold CV outcome estimates\n",
      "INFO:causalml:training the treatment effect model for treatment_a with R-loss\n",
      " 65%|██████▌   | 65/100 [02:55<01:28,  2.52s/it]INFO:causalml:generating out-of-fold CV outcome estimates\n",
      "INFO:causalml:training the treatment effect model for treatment_a with R-loss\n",
      " 66%|██████▌   | 66/100 [02:57<01:25,  2.53s/it]INFO:causalml:generating out-of-fold CV outcome estimates\n",
      "INFO:causalml:training the treatment effect model for treatment_a with R-loss\n",
      " 67%|██████▋   | 67/100 [03:00<01:26,  2.61s/it]INFO:causalml:generating out-of-fold CV outcome estimates\n",
      "INFO:causalml:training the treatment effect model for treatment_a with R-loss\n",
      " 68%|██████▊   | 68/100 [03:03<01:24,  2.63s/it]INFO:causalml:generating out-of-fold CV outcome estimates\n",
      "INFO:causalml:training the treatment effect model for treatment_a with R-loss\n",
      " 69%|██████▉   | 69/100 [03:05<01:20,  2.58s/it]INFO:causalml:generating out-of-fold CV outcome estimates\n",
      "INFO:causalml:training the treatment effect model for treatment_a with R-loss\n",
      " 70%|███████   | 70/100 [03:08<01:18,  2.63s/it]INFO:causalml:generating out-of-fold CV outcome estimates\n",
      "INFO:causalml:training the treatment effect model for treatment_a with R-loss\n",
      " 71%|███████   | 71/100 [03:10<01:08,  2.36s/it]INFO:causalml:generating out-of-fold CV outcome estimates\n",
      "INFO:causalml:training the treatment effect model for treatment_a with R-loss\n",
      " 72%|███████▏  | 72/100 [03:11<01:00,  2.16s/it]INFO:causalml:generating out-of-fold CV outcome estimates\n",
      "INFO:causalml:training the treatment effect model for treatment_a with R-loss\n",
      " 73%|███████▎  | 73/100 [03:13<00:54,  2.04s/it]INFO:causalml:generating out-of-fold CV outcome estimates\n",
      "INFO:causalml:training the treatment effect model for treatment_a with R-loss\n",
      " 74%|███████▍  | 74/100 [03:15<00:52,  2.00s/it]INFO:causalml:generating out-of-fold CV outcome estimates\n",
      "INFO:causalml:training the treatment effect model for treatment_a with R-loss\n",
      " 75%|███████▌  | 75/100 [03:17<00:49,  1.99s/it]INFO:causalml:generating out-of-fold CV outcome estimates\n",
      "INFO:causalml:training the treatment effect model for treatment_a with R-loss\n",
      " 76%|███████▌  | 76/100 [03:19<00:45,  1.91s/it]INFO:causalml:generating out-of-fold CV outcome estimates\n",
      "INFO:causalml:training the treatment effect model for treatment_a with R-loss\n",
      " 77%|███████▋  | 77/100 [03:21<00:45,  1.97s/it]INFO:causalml:generating out-of-fold CV outcome estimates\n",
      "INFO:causalml:training the treatment effect model for treatment_a with R-loss\n",
      " 78%|███████▊  | 78/100 [03:23<00:46,  2.12s/it]INFO:causalml:generating out-of-fold CV outcome estimates\n",
      "INFO:causalml:training the treatment effect model for treatment_a with R-loss\n",
      " 79%|███████▉  | 79/100 [03:26<00:48,  2.31s/it]INFO:causalml:generating out-of-fold CV outcome estimates\n",
      "INFO:causalml:training the treatment effect model for treatment_a with R-loss\n",
      " 80%|████████  | 80/100 [03:29<00:48,  2.41s/it]INFO:causalml:generating out-of-fold CV outcome estimates\n",
      "INFO:causalml:training the treatment effect model for treatment_a with R-loss\n",
      " 81%|████████  | 81/100 [03:32<00:51,  2.70s/it]INFO:causalml:generating out-of-fold CV outcome estimates\n",
      "INFO:causalml:training the treatment effect model for treatment_a with R-loss\n",
      " 82%|████████▏ | 82/100 [03:35<00:52,  2.90s/it]INFO:causalml:generating out-of-fold CV outcome estimates\n",
      "INFO:causalml:training the treatment effect model for treatment_a with R-loss\n",
      " 83%|████████▎ | 83/100 [03:39<00:51,  3.05s/it]INFO:causalml:generating out-of-fold CV outcome estimates\n",
      "INFO:causalml:training the treatment effect model for treatment_a with R-loss\n",
      " 84%|████████▍ | 84/100 [03:42<00:47,  3.00s/it]INFO:causalml:generating out-of-fold CV outcome estimates\n",
      "INFO:causalml:training the treatment effect model for treatment_a with R-loss\n",
      " 85%|████████▌ | 85/100 [03:45<00:46,  3.11s/it]INFO:causalml:generating out-of-fold CV outcome estimates\n",
      "INFO:causalml:training the treatment effect model for treatment_a with R-loss\n",
      " 86%|████████▌ | 86/100 [03:48<00:42,  3.02s/it]INFO:causalml:generating out-of-fold CV outcome estimates\n",
      "INFO:causalml:training the treatment effect model for treatment_a with R-loss\n",
      " 87%|████████▋ | 87/100 [03:51<00:39,  3.02s/it]INFO:causalml:generating out-of-fold CV outcome estimates\n",
      "INFO:causalml:training the treatment effect model for treatment_a with R-loss\n",
      " 88%|████████▊ | 88/100 [03:53<00:34,  2.86s/it]INFO:causalml:generating out-of-fold CV outcome estimates\n",
      "INFO:causalml:training the treatment effect model for treatment_a with R-loss\n",
      " 89%|████████▉ | 89/100 [03:56<00:32,  2.91s/it]INFO:causalml:generating out-of-fold CV outcome estimates\n",
      "INFO:causalml:training the treatment effect model for treatment_a with R-loss\n",
      " 90%|█████████ | 90/100 [03:59<00:27,  2.75s/it]INFO:causalml:generating out-of-fold CV outcome estimates\n",
      "INFO:causalml:training the treatment effect model for treatment_a with R-loss\n",
      " 91%|█████████ | 91/100 [04:00<00:21,  2.42s/it]INFO:causalml:generating out-of-fold CV outcome estimates\n",
      "INFO:causalml:training the treatment effect model for treatment_a with R-loss\n",
      " 92%|█████████▏| 92/100 [04:02<00:18,  2.30s/it]INFO:causalml:generating out-of-fold CV outcome estimates\n",
      "INFO:causalml:training the treatment effect model for treatment_a with R-loss\n",
      " 93%|█████████▎| 93/100 [04:04<00:15,  2.23s/it]INFO:causalml:generating out-of-fold CV outcome estimates\n",
      "INFO:causalml:training the treatment effect model for treatment_a with R-loss\n",
      " 94%|█████████▍| 94/100 [04:06<00:12,  2.16s/it]INFO:causalml:generating out-of-fold CV outcome estimates\n",
      "INFO:causalml:training the treatment effect model for treatment_a with R-loss\n",
      " 95%|█████████▌| 95/100 [04:09<00:11,  2.24s/it]INFO:causalml:generating out-of-fold CV outcome estimates\n",
      "INFO:causalml:training the treatment effect model for treatment_a with R-loss\n",
      " 96%|█████████▌| 96/100 [04:11<00:08,  2.23s/it]INFO:causalml:generating out-of-fold CV outcome estimates\n",
      "INFO:causalml:training the treatment effect model for treatment_a with R-loss\n",
      " 97%|█████████▋| 97/100 [04:14<00:06,  2.33s/it]INFO:causalml:generating out-of-fold CV outcome estimates\n",
      "INFO:causalml:training the treatment effect model for treatment_a with R-loss\n",
      " 98%|█████████▊| 98/100 [04:16<00:04,  2.42s/it]INFO:causalml:generating out-of-fold CV outcome estimates\n",
      "INFO:causalml:training the treatment effect model for treatment_a with R-loss\n",
      " 99%|█████████▉| 99/100 [04:19<00:02,  2.44s/it]INFO:causalml:generating out-of-fold CV outcome estimates\n",
      "INFO:causalml:training the treatment effect model for treatment_a with R-loss\n",
      "100%|██████████| 100/100 [04:22<00:00,  2.62s/it]\n"
     ]
    }
   ],
   "source": [
    "ate_r_b_no_p, ate_r_lb_b_no_p, ate_r_ub_b_no_p = learner_r.estimate_ate(X=X, treatment=treatment, y=y, bootstrap_ci=True,\n",
    "                                                   n_bootstraps=100, bootstrap_size=5000)"
   ]
  },
  {
   "cell_type": "code",
   "execution_count": 55,
   "metadata": {
    "ExecuteTime": {
     "end_time": "2020-04-14T19:03:24.617403Z",
     "start_time": "2020-04-14T19:03:24.549832Z"
    }
   },
   "outputs": [
    {
     "data": {
      "text/plain": [
       "array([[0.34642705],\n",
       "       [0.47147059],\n",
       "       [0.51159666]])"
      ]
     },
     "execution_count": 55,
     "metadata": {},
     "output_type": "execute_result"
    }
   ],
   "source": [
    "np.vstack((ate_r_lb_b_no_p, ate_r_b_no_p, ate_r_ub_b_no_p))"
   ]
  },
  {
   "cell_type": "markdown",
   "metadata": {},
   "source": [
    "### CATE"
   ]
  },
  {
   "cell_type": "markdown",
   "metadata": {},
   "source": [
    "#### With Propensity Score Input"
   ]
  },
  {
   "cell_type": "code",
   "execution_count": 56,
   "metadata": {
    "ExecuteTime": {
     "end_time": "2020-04-14T19:03:29.033458Z",
     "start_time": "2020-04-14T19:03:24.621209Z"
    }
   },
   "outputs": [
    {
     "name": "stderr",
     "output_type": "stream",
     "text": [
      "INFO:causalml:generating out-of-fold CV outcome estimates\n",
      "INFO:causalml:training the treatment effect model for treatment_a with R-loss\n"
     ]
    }
   ],
   "source": [
    "learner_r = BaseRRegressor(XGBRegressor(), control_name='control')\n",
    "cate_r = learner_r.fit_predict(X=X, treatment=treatment, y=y, p=e)"
   ]
  },
  {
   "cell_type": "code",
   "execution_count": 57,
   "metadata": {
    "ExecuteTime": {
     "end_time": "2020-04-14T19:03:29.087607Z",
     "start_time": "2020-04-14T19:03:29.036023Z"
    }
   },
   "outputs": [
    {
     "data": {
      "text/plain": [
       "array([[-0.14502913],\n",
       "       [ 2.20173955],\n",
       "       [ 0.53709263],\n",
       "       ...,\n",
       "       [ 0.25299761],\n",
       "       [ 3.23873138],\n",
       "       [ 1.06599319]])"
      ]
     },
     "execution_count": 57,
     "metadata": {},
     "output_type": "execute_result"
    }
   ],
   "source": [
    "cate_r"
   ]
  },
  {
   "cell_type": "markdown",
   "metadata": {},
   "source": [
    "#### Without Propensity Score Input"
   ]
  },
  {
   "cell_type": "code",
   "execution_count": 58,
   "metadata": {
    "ExecuteTime": {
     "end_time": "2020-04-14T19:03:33.641108Z",
     "start_time": "2020-04-14T19:03:29.090259Z"
    }
   },
   "outputs": [
    {
     "name": "stderr",
     "output_type": "stream",
     "text": [
      "INFO:causalml:Generating propensity score\n",
      "INFO:causalml:Calibrating propensity scores.\n",
      "INFO:causalml:generating out-of-fold CV outcome estimates\n",
      "INFO:causalml:training the treatment effect model for treatment_a with R-loss\n"
     ]
    }
   ],
   "source": [
    "cate_r_no_p = learner_r.fit_predict(X=X, treatment=treatment, y=y)"
   ]
  },
  {
   "cell_type": "code",
   "execution_count": 59,
   "metadata": {
    "ExecuteTime": {
     "end_time": "2020-04-14T19:03:33.692456Z",
     "start_time": "2020-04-14T19:03:33.644376Z"
    }
   },
   "outputs": [
    {
     "data": {
      "text/plain": [
       "array([[-1.75479043],\n",
       "       [ 1.94762349],\n",
       "       [ 0.29624853],\n",
       "       ...,\n",
       "       [-0.06071158],\n",
       "       [ 4.19073296],\n",
       "       [ 1.59144044]])"
      ]
     },
     "execution_count": 59,
     "metadata": {},
     "output_type": "execute_result"
    }
   ],
   "source": [
    "cate_r_no_p"
   ]
  },
  {
   "cell_type": "markdown",
   "metadata": {},
   "source": [
    "### CATE w/ Confidence Intervals"
   ]
  },
  {
   "cell_type": "markdown",
   "metadata": {},
   "source": [
    "#### With Propensity Score Input"
   ]
  },
  {
   "cell_type": "code",
   "execution_count": 60,
   "metadata": {
    "ExecuteTime": {
     "end_time": "2020-04-14T19:04:23.515500Z",
     "start_time": "2020-04-14T19:03:33.694879Z"
    }
   },
   "outputs": [
    {
     "name": "stderr",
     "output_type": "stream",
     "text": [
      "INFO:causalml:generating out-of-fold CV outcome estimates\n",
      "INFO:causalml:training the treatment effect model for treatment_a with R-loss\n",
      "INFO:causalml:Bootstrap Confidence Intervals\n",
      "  0%|          | 0/100 [00:00<?, ?it/s]INFO:causalml:generating out-of-fold CV outcome estimates\n",
      "INFO:causalml:training the treatment effect model for treatment_a with R-loss\n",
      "  1%|          | 1/100 [00:00<01:13,  1.35it/s]INFO:causalml:generating out-of-fold CV outcome estimates\n",
      "INFO:causalml:training the treatment effect model for treatment_a with R-loss\n",
      "  2%|▏         | 2/100 [00:01<01:05,  1.49it/s]INFO:causalml:generating out-of-fold CV outcome estimates\n",
      "INFO:causalml:training the treatment effect model for treatment_a with R-loss\n",
      "  3%|▎         | 3/100 [00:01<01:03,  1.54it/s]INFO:causalml:generating out-of-fold CV outcome estimates\n",
      "INFO:causalml:training the treatment effect model for treatment_a with R-loss\n",
      "  4%|▍         | 4/100 [00:02<01:02,  1.53it/s]INFO:causalml:generating out-of-fold CV outcome estimates\n",
      "INFO:causalml:training the treatment effect model for treatment_a with R-loss\n",
      "  5%|▌         | 5/100 [00:03<01:02,  1.53it/s]INFO:causalml:generating out-of-fold CV outcome estimates\n",
      "INFO:causalml:training the treatment effect model for treatment_a with R-loss\n",
      "  6%|▌         | 6/100 [00:04<01:03,  1.48it/s]INFO:causalml:generating out-of-fold CV outcome estimates\n",
      "INFO:causalml:training the treatment effect model for treatment_a with R-loss\n",
      "  7%|▋         | 7/100 [00:04<01:07,  1.37it/s]INFO:causalml:generating out-of-fold CV outcome estimates\n",
      "INFO:causalml:training the treatment effect model for treatment_a with R-loss\n",
      "  8%|▊         | 8/100 [00:05<01:17,  1.19it/s]INFO:causalml:generating out-of-fold CV outcome estimates\n",
      "INFO:causalml:training the treatment effect model for treatment_a with R-loss\n",
      "  9%|▉         | 9/100 [00:07<01:46,  1.17s/it]INFO:causalml:generating out-of-fold CV outcome estimates\n",
      "INFO:causalml:training the treatment effect model for treatment_a with R-loss\n",
      " 10%|█         | 10/100 [00:08<01:40,  1.11s/it]INFO:causalml:generating out-of-fold CV outcome estimates\n",
      "INFO:causalml:training the treatment effect model for treatment_a with R-loss\n",
      " 11%|█         | 11/100 [00:09<01:37,  1.10s/it]INFO:causalml:generating out-of-fold CV outcome estimates\n",
      "INFO:causalml:training the treatment effect model for treatment_a with R-loss\n",
      " 12%|█▏        | 12/100 [00:10<01:27,  1.00it/s]INFO:causalml:generating out-of-fold CV outcome estimates\n",
      "INFO:causalml:training the treatment effect model for treatment_a with R-loss\n",
      " 13%|█▎        | 13/100 [00:11<01:21,  1.07it/s]INFO:causalml:generating out-of-fold CV outcome estimates\n",
      "INFO:causalml:training the treatment effect model for treatment_a with R-loss\n",
      " 14%|█▍        | 14/100 [00:12<01:12,  1.19it/s]INFO:causalml:generating out-of-fold CV outcome estimates\n",
      "INFO:causalml:training the treatment effect model for treatment_a with R-loss\n",
      " 15%|█▌        | 15/100 [00:12<01:10,  1.21it/s]INFO:causalml:generating out-of-fold CV outcome estimates\n",
      "INFO:causalml:training the treatment effect model for treatment_a with R-loss\n",
      " 16%|█▌        | 16/100 [00:13<01:15,  1.12it/s]INFO:causalml:generating out-of-fold CV outcome estimates\n",
      "INFO:causalml:training the treatment effect model for treatment_a with R-loss\n",
      " 17%|█▋        | 17/100 [00:14<01:14,  1.11it/s]INFO:causalml:generating out-of-fold CV outcome estimates\n",
      "INFO:causalml:training the treatment effect model for treatment_a with R-loss\n",
      " 18%|█▊        | 18/100 [00:15<01:15,  1.08it/s]INFO:causalml:generating out-of-fold CV outcome estimates\n",
      "INFO:causalml:training the treatment effect model for treatment_a with R-loss\n",
      " 19%|█▉        | 19/100 [00:16<01:20,  1.01it/s]INFO:causalml:generating out-of-fold CV outcome estimates\n",
      "INFO:causalml:training the treatment effect model for treatment_a with R-loss\n",
      " 20%|██        | 20/100 [00:18<01:28,  1.10s/it]INFO:causalml:generating out-of-fold CV outcome estimates\n",
      "INFO:causalml:training the treatment effect model for treatment_a with R-loss\n",
      " 21%|██        | 21/100 [00:19<01:25,  1.08s/it]INFO:causalml:generating out-of-fold CV outcome estimates\n",
      "INFO:causalml:training the treatment effect model for treatment_a with R-loss\n",
      " 22%|██▏       | 22/100 [00:20<01:22,  1.06s/it]INFO:causalml:generating out-of-fold CV outcome estimates\n",
      "INFO:causalml:training the treatment effect model for treatment_a with R-loss\n",
      " 23%|██▎       | 23/100 [00:21<01:19,  1.04s/it]INFO:causalml:generating out-of-fold CV outcome estimates\n",
      "INFO:causalml:training the treatment effect model for treatment_a with R-loss\n",
      " 24%|██▍       | 24/100 [00:22<01:20,  1.06s/it]INFO:causalml:generating out-of-fold CV outcome estimates\n",
      "INFO:causalml:training the treatment effect model for treatment_a with R-loss\n",
      " 25%|██▌       | 25/100 [00:23<01:19,  1.05s/it]INFO:causalml:generating out-of-fold CV outcome estimates\n",
      "INFO:causalml:training the treatment effect model for treatment_a with R-loss\n",
      " 26%|██▌       | 26/100 [00:24<01:15,  1.03s/it]INFO:causalml:generating out-of-fold CV outcome estimates\n",
      "INFO:causalml:training the treatment effect model for treatment_a with R-loss\n",
      " 27%|██▋       | 27/100 [00:25<01:15,  1.03s/it]INFO:causalml:generating out-of-fold CV outcome estimates\n",
      "INFO:causalml:training the treatment effect model for treatment_a with R-loss\n",
      " 28%|██▊       | 28/100 [00:26<01:13,  1.02s/it]INFO:causalml:generating out-of-fold CV outcome estimates\n",
      "INFO:causalml:training the treatment effect model for treatment_a with R-loss\n",
      " 29%|██▉       | 29/100 [00:27<01:14,  1.05s/it]INFO:causalml:generating out-of-fold CV outcome estimates\n",
      "INFO:causalml:training the treatment effect model for treatment_a with R-loss\n",
      " 30%|███       | 30/100 [00:28<01:15,  1.07s/it]INFO:causalml:generating out-of-fold CV outcome estimates\n",
      "INFO:causalml:training the treatment effect model for treatment_a with R-loss\n",
      " 31%|███       | 31/100 [00:30<01:28,  1.29s/it]INFO:causalml:generating out-of-fold CV outcome estimates\n",
      "INFO:causalml:training the treatment effect model for treatment_a with R-loss\n",
      " 32%|███▏      | 32/100 [00:31<01:26,  1.28s/it]INFO:causalml:generating out-of-fold CV outcome estimates\n",
      "INFO:causalml:training the treatment effect model for treatment_a with R-loss\n",
      " 33%|███▎      | 33/100 [00:32<01:19,  1.19s/it]INFO:causalml:generating out-of-fold CV outcome estimates\n",
      "INFO:causalml:training the treatment effect model for treatment_a with R-loss\n",
      " 34%|███▍      | 34/100 [00:33<01:13,  1.11s/it]INFO:causalml:generating out-of-fold CV outcome estimates\n",
      "INFO:causalml:training the treatment effect model for treatment_a with R-loss\n",
      " 35%|███▌      | 35/100 [00:34<01:14,  1.14s/it]INFO:causalml:generating out-of-fold CV outcome estimates\n",
      "INFO:causalml:training the treatment effect model for treatment_a with R-loss\n",
      " 36%|███▌      | 36/100 [00:36<01:27,  1.37s/it]INFO:causalml:generating out-of-fold CV outcome estimates\n",
      "INFO:causalml:training the treatment effect model for treatment_a with R-loss\n",
      " 37%|███▋      | 37/100 [00:38<01:26,  1.38s/it]INFO:causalml:generating out-of-fold CV outcome estimates\n",
      "INFO:causalml:training the treatment effect model for treatment_a with R-loss\n",
      " 38%|███▊      | 38/100 [00:39<01:23,  1.34s/it]INFO:causalml:generating out-of-fold CV outcome estimates\n",
      "INFO:causalml:training the treatment effect model for treatment_a with R-loss\n",
      " 39%|███▉      | 39/100 [00:40<01:23,  1.38s/it]INFO:causalml:generating out-of-fold CV outcome estimates\n",
      "INFO:causalml:training the treatment effect model for treatment_a with R-loss\n",
      " 40%|████      | 40/100 [00:41<01:15,  1.26s/it]INFO:causalml:generating out-of-fold CV outcome estimates\n",
      "INFO:causalml:training the treatment effect model for treatment_a with R-loss\n",
      " 41%|████      | 41/100 [00:43<01:15,  1.28s/it]INFO:causalml:generating out-of-fold CV outcome estimates\n",
      "INFO:causalml:training the treatment effect model for treatment_a with R-loss\n",
      " 42%|████▏     | 42/100 [00:43<01:05,  1.13s/it]INFO:causalml:generating out-of-fold CV outcome estimates\n",
      "INFO:causalml:training the treatment effect model for treatment_a with R-loss\n",
      " 43%|████▎     | 43/100 [00:44<00:59,  1.05s/it]INFO:causalml:generating out-of-fold CV outcome estimates\n",
      "INFO:causalml:training the treatment effect model for treatment_a with R-loss\n",
      " 44%|████▍     | 44/100 [00:45<00:59,  1.06s/it]INFO:causalml:generating out-of-fold CV outcome estimates\n",
      "INFO:causalml:training the treatment effect model for treatment_a with R-loss\n",
      " 45%|████▌     | 45/100 [00:46<00:57,  1.05s/it]INFO:causalml:generating out-of-fold CV outcome estimates\n",
      "INFO:causalml:training the treatment effect model for treatment_a with R-loss\n",
      " 46%|████▌     | 46/100 [00:47<00:54,  1.02s/it]INFO:causalml:generating out-of-fold CV outcome estimates\n",
      "INFO:causalml:training the treatment effect model for treatment_a with R-loss\n",
      " 47%|████▋     | 47/100 [00:48<00:50,  1.06it/s]INFO:causalml:generating out-of-fold CV outcome estimates\n",
      "INFO:causalml:training the treatment effect model for treatment_a with R-loss\n",
      " 48%|████▊     | 48/100 [00:49<00:50,  1.02it/s]INFO:causalml:generating out-of-fold CV outcome estimates\n",
      "INFO:causalml:training the treatment effect model for treatment_a with R-loss\n",
      " 49%|████▉     | 49/100 [00:50<00:47,  1.07it/s]INFO:causalml:generating out-of-fold CV outcome estimates\n",
      "INFO:causalml:training the treatment effect model for treatment_a with R-loss\n",
      " 50%|█████     | 50/100 [00:51<00:48,  1.04it/s]INFO:causalml:generating out-of-fold CV outcome estimates\n",
      "INFO:causalml:training the treatment effect model for treatment_a with R-loss\n",
      " 51%|█████     | 51/100 [00:52<00:43,  1.12it/s]INFO:causalml:generating out-of-fold CV outcome estimates\n",
      "INFO:causalml:training the treatment effect model for treatment_a with R-loss\n",
      " 52%|█████▏    | 52/100 [00:53<00:40,  1.19it/s]INFO:causalml:generating out-of-fold CV outcome estimates\n",
      "INFO:causalml:training the treatment effect model for treatment_a with R-loss\n",
      " 53%|█████▎    | 53/100 [00:54<00:44,  1.05it/s]INFO:causalml:generating out-of-fold CV outcome estimates\n",
      "INFO:causalml:training the treatment effect model for treatment_a with R-loss\n",
      " 54%|█████▍    | 54/100 [00:55<00:45,  1.02it/s]INFO:causalml:generating out-of-fold CV outcome estimates\n",
      "INFO:causalml:training the treatment effect model for treatment_a with R-loss\n",
      " 55%|█████▌    | 55/100 [00:56<00:44,  1.01it/s]INFO:causalml:generating out-of-fold CV outcome estimates\n",
      "INFO:causalml:training the treatment effect model for treatment_a with R-loss\n",
      " 56%|█████▌    | 56/100 [00:57<00:43,  1.02it/s]INFO:causalml:generating out-of-fold CV outcome estimates\n",
      "INFO:causalml:training the treatment effect model for treatment_a with R-loss\n",
      " 57%|█████▋    | 57/100 [00:59<00:52,  1.22s/it]INFO:causalml:generating out-of-fold CV outcome estimates\n",
      "INFO:causalml:training the treatment effect model for treatment_a with R-loss\n",
      " 58%|█████▊    | 58/100 [01:00<00:57,  1.37s/it]INFO:causalml:generating out-of-fold CV outcome estimates\n",
      "INFO:causalml:training the treatment effect model for treatment_a with R-loss\n",
      " 59%|█████▉    | 59/100 [01:02<01:01,  1.49s/it]INFO:causalml:generating out-of-fold CV outcome estimates\n",
      "INFO:causalml:training the treatment effect model for treatment_a with R-loss\n",
      " 60%|██████    | 60/100 [01:03<00:54,  1.37s/it]INFO:causalml:generating out-of-fold CV outcome estimates\n",
      "INFO:causalml:training the treatment effect model for treatment_a with R-loss\n",
      " 61%|██████    | 61/100 [01:04<00:49,  1.28s/it]INFO:causalml:generating out-of-fold CV outcome estimates\n",
      "INFO:causalml:training the treatment effect model for treatment_a with R-loss\n",
      " 62%|██████▏   | 62/100 [01:05<00:48,  1.28s/it]INFO:causalml:generating out-of-fold CV outcome estimates\n",
      "INFO:causalml:training the treatment effect model for treatment_a with R-loss\n",
      " 63%|██████▎   | 63/100 [01:07<00:44,  1.21s/it]INFO:causalml:generating out-of-fold CV outcome estimates\n",
      "INFO:causalml:training the treatment effect model for treatment_a with R-loss\n",
      " 64%|██████▍   | 64/100 [01:08<00:42,  1.19s/it]INFO:causalml:generating out-of-fold CV outcome estimates\n",
      "INFO:causalml:training the treatment effect model for treatment_a with R-loss\n",
      " 65%|██████▌   | 65/100 [01:09<00:40,  1.17s/it]INFO:causalml:generating out-of-fold CV outcome estimates\n",
      "INFO:causalml:training the treatment effect model for treatment_a with R-loss\n",
      " 66%|██████▌   | 66/100 [01:10<00:38,  1.13s/it]INFO:causalml:generating out-of-fold CV outcome estimates\n",
      "INFO:causalml:training the treatment effect model for treatment_a with R-loss\n",
      " 67%|██████▋   | 67/100 [01:11<00:37,  1.13s/it]INFO:causalml:generating out-of-fold CV outcome estimates\n",
      "INFO:causalml:training the treatment effect model for treatment_a with R-loss\n",
      " 68%|██████▊   | 68/100 [01:12<00:37,  1.17s/it]INFO:causalml:generating out-of-fold CV outcome estimates\n",
      "INFO:causalml:training the treatment effect model for treatment_a with R-loss\n",
      " 69%|██████▉   | 69/100 [01:13<00:34,  1.13s/it]INFO:causalml:generating out-of-fold CV outcome estimates\n",
      "INFO:causalml:training the treatment effect model for treatment_a with R-loss\n",
      " 70%|███████   | 70/100 [01:14<00:32,  1.10s/it]INFO:causalml:generating out-of-fold CV outcome estimates\n",
      "INFO:causalml:training the treatment effect model for treatment_a with R-loss\n",
      " 71%|███████   | 71/100 [01:15<00:31,  1.08s/it]INFO:causalml:generating out-of-fold CV outcome estimates\n",
      "INFO:causalml:training the treatment effect model for treatment_a with R-loss\n",
      " 72%|███████▏  | 72/100 [01:16<00:30,  1.08s/it]INFO:causalml:generating out-of-fold CV outcome estimates\n",
      "INFO:causalml:training the treatment effect model for treatment_a with R-loss\n",
      " 73%|███████▎  | 73/100 [01:18<00:34,  1.27s/it]INFO:causalml:generating out-of-fold CV outcome estimates\n",
      "INFO:causalml:training the treatment effect model for treatment_a with R-loss\n",
      " 74%|███████▍  | 74/100 [01:19<00:32,  1.24s/it]INFO:causalml:generating out-of-fold CV outcome estimates\n",
      "INFO:causalml:training the treatment effect model for treatment_a with R-loss\n",
      " 75%|███████▌  | 75/100 [01:20<00:30,  1.22s/it]INFO:causalml:generating out-of-fold CV outcome estimates\n",
      "INFO:causalml:training the treatment effect model for treatment_a with R-loss\n",
      " 76%|███████▌  | 76/100 [01:22<00:28,  1.18s/it]INFO:causalml:generating out-of-fold CV outcome estimates\n",
      "INFO:causalml:training the treatment effect model for treatment_a with R-loss\n",
      " 77%|███████▋  | 77/100 [01:23<00:26,  1.15s/it]INFO:causalml:generating out-of-fold CV outcome estimates\n",
      "INFO:causalml:training the treatment effect model for treatment_a with R-loss\n",
      " 78%|███████▊  | 78/100 [01:24<00:25,  1.16s/it]INFO:causalml:generating out-of-fold CV outcome estimates\n",
      "INFO:causalml:training the treatment effect model for treatment_a with R-loss\n",
      " 79%|███████▉  | 79/100 [01:25<00:23,  1.13s/it]INFO:causalml:generating out-of-fold CV outcome estimates\n",
      "INFO:causalml:training the treatment effect model for treatment_a with R-loss\n",
      " 80%|████████  | 80/100 [01:26<00:23,  1.15s/it]INFO:causalml:generating out-of-fold CV outcome estimates\n",
      "INFO:causalml:training the treatment effect model for treatment_a with R-loss\n",
      " 81%|████████  | 81/100 [01:27<00:22,  1.16s/it]INFO:causalml:generating out-of-fold CV outcome estimates\n",
      "INFO:causalml:training the treatment effect model for treatment_a with R-loss\n",
      " 82%|████████▏ | 82/100 [01:28<00:20,  1.16s/it]INFO:causalml:generating out-of-fold CV outcome estimates\n",
      "INFO:causalml:training the treatment effect model for treatment_a with R-loss\n",
      " 83%|████████▎ | 83/100 [01:29<00:18,  1.11s/it]INFO:causalml:generating out-of-fold CV outcome estimates\n",
      "INFO:causalml:training the treatment effect model for treatment_a with R-loss\n",
      " 84%|████████▍ | 84/100 [01:31<00:20,  1.25s/it]INFO:causalml:generating out-of-fold CV outcome estimates\n",
      "INFO:causalml:training the treatment effect model for treatment_a with R-loss\n",
      " 85%|████████▌ | 85/100 [01:32<00:16,  1.09s/it]INFO:causalml:generating out-of-fold CV outcome estimates\n",
      "INFO:causalml:training the treatment effect model for treatment_a with R-loss\n",
      " 86%|████████▌ | 86/100 [01:32<00:13,  1.02it/s]INFO:causalml:generating out-of-fold CV outcome estimates\n",
      "INFO:causalml:training the treatment effect model for treatment_a with R-loss\n",
      " 87%|████████▋ | 87/100 [01:33<00:11,  1.15it/s]INFO:causalml:generating out-of-fold CV outcome estimates\n",
      "INFO:causalml:training the treatment effect model for treatment_a with R-loss\n",
      " 88%|████████▊ | 88/100 [01:34<00:09,  1.26it/s]INFO:causalml:generating out-of-fold CV outcome estimates\n",
      "INFO:causalml:training the treatment effect model for treatment_a with R-loss\n",
      " 89%|████████▉ | 89/100 [01:34<00:08,  1.36it/s]INFO:causalml:generating out-of-fold CV outcome estimates\n",
      "INFO:causalml:training the treatment effect model for treatment_a with R-loss\n",
      " 90%|█████████ | 90/100 [01:35<00:07,  1.39it/s]INFO:causalml:generating out-of-fold CV outcome estimates\n",
      "INFO:causalml:training the treatment effect model for treatment_a with R-loss\n",
      " 91%|█████████ | 91/100 [01:36<00:06,  1.43it/s]INFO:causalml:generating out-of-fold CV outcome estimates\n",
      "INFO:causalml:training the treatment effect model for treatment_a with R-loss\n",
      " 92%|█████████▏| 92/100 [01:36<00:05,  1.43it/s]INFO:causalml:generating out-of-fold CV outcome estimates\n",
      "INFO:causalml:training the treatment effect model for treatment_a with R-loss\n",
      " 93%|█████████▎| 93/100 [01:37<00:04,  1.48it/s]INFO:causalml:generating out-of-fold CV outcome estimates\n",
      "INFO:causalml:training the treatment effect model for treatment_a with R-loss\n",
      " 94%|█████████▍| 94/100 [01:38<00:04,  1.49it/s]INFO:causalml:generating out-of-fold CV outcome estimates\n",
      "INFO:causalml:training the treatment effect model for treatment_a with R-loss\n",
      " 95%|█████████▌| 95/100 [01:38<00:03,  1.47it/s]INFO:causalml:generating out-of-fold CV outcome estimates\n",
      "INFO:causalml:training the treatment effect model for treatment_a with R-loss\n",
      " 96%|█████████▌| 96/100 [01:39<00:02,  1.43it/s]INFO:causalml:generating out-of-fold CV outcome estimates\n",
      "INFO:causalml:training the treatment effect model for treatment_a with R-loss\n",
      " 97%|█████████▋| 97/100 [01:40<00:02,  1.41it/s]INFO:causalml:generating out-of-fold CV outcome estimates\n",
      "INFO:causalml:training the treatment effect model for treatment_a with R-loss\n",
      " 98%|█████████▊| 98/100 [01:40<00:01,  1.41it/s]INFO:causalml:generating out-of-fold CV outcome estimates\n",
      "INFO:causalml:training the treatment effect model for treatment_a with R-loss\n",
      " 99%|█████████▉| 99/100 [01:41<00:00,  1.43it/s]INFO:causalml:generating out-of-fold CV outcome estimates\n",
      "INFO:causalml:training the treatment effect model for treatment_a with R-loss\n",
      "100%|██████████| 100/100 [01:42<00:00,  1.02s/it]\n"
     ]
    }
   ],
   "source": [
    "learner_r = BaseRRegressor(XGBRegressor(), control_name='control')\n",
    "cate_r, cate_r_lb, cate_r_ub = learner_r.fit_predict(X=X, treatment=treatment, y=y, p=e, return_ci=True,\n",
    "                                                     n_bootstraps=100, bootstrap_size=1000)"
   ]
  },
  {
   "cell_type": "code",
   "execution_count": 61,
   "metadata": {
    "ExecuteTime": {
     "end_time": "2020-04-14T19:04:23.561881Z",
     "start_time": "2020-04-14T19:04:23.517576Z"
    }
   },
   "outputs": [
    {
     "data": {
      "text/plain": [
       "array([[-1.22698724],\n",
       "       [ 2.71953249],\n",
       "       [-0.13756624],\n",
       "       ...,\n",
       "       [ 0.5618239 ],\n",
       "       [ 2.58041811],\n",
       "       [ 0.81730705]])"
      ]
     },
     "execution_count": 61,
     "metadata": {},
     "output_type": "execute_result"
    }
   ],
   "source": [
    "cate_r"
   ]
  },
  {
   "cell_type": "code",
   "execution_count": 62,
   "metadata": {
    "ExecuteTime": {
     "end_time": "2020-04-14T19:04:23.608087Z",
     "start_time": "2020-04-14T19:04:23.564124Z"
    }
   },
   "outputs": [
    {
     "data": {
      "text/plain": [
       "array([[-3.43615302],\n",
       "       [-2.147553  ],\n",
       "       [-2.81021295],\n",
       "       ...,\n",
       "       [-2.11117566],\n",
       "       [-2.01934255],\n",
       "       [-1.76639521]])"
      ]
     },
     "execution_count": 62,
     "metadata": {},
     "output_type": "execute_result"
    }
   ],
   "source": [
    "cate_r_lb"
   ]
  },
  {
   "cell_type": "code",
   "execution_count": 63,
   "metadata": {
    "ExecuteTime": {
     "end_time": "2020-04-14T19:04:23.655535Z",
     "start_time": "2020-04-14T19:04:23.610212Z"
    }
   },
   "outputs": [
    {
     "data": {
      "text/plain": [
       "array([[3.68913299],\n",
       "       [4.59937366],\n",
       "       [2.79808745],\n",
       "       ...,\n",
       "       [3.04937114],\n",
       "       [4.2900426 ],\n",
       "       [3.79833399]])"
      ]
     },
     "execution_count": 63,
     "metadata": {},
     "output_type": "execute_result"
    }
   ],
   "source": [
    "cate_r_ub"
   ]
  },
  {
   "cell_type": "markdown",
   "metadata": {},
   "source": [
    "#### Without Propensity Score Input"
   ]
  },
  {
   "cell_type": "code",
   "execution_count": 64,
   "metadata": {
    "ExecuteTime": {
     "end_time": "2020-04-14T19:04:58.689399Z",
     "start_time": "2020-04-14T19:04:23.658096Z"
    }
   },
   "outputs": [
    {
     "name": "stderr",
     "output_type": "stream",
     "text": [
      "INFO:causalml:Generating propensity score\n"
     ]
    },
    {
     "name": "stderr",
     "output_type": "stream",
     "text": [
      "INFO:causalml:Calibrating propensity scores.\n",
      "INFO:causalml:generating out-of-fold CV outcome estimates\n",
      "INFO:causalml:training the treatment effect model for treatment_a with R-loss\n",
      "INFO:causalml:Bootstrap Confidence Intervals\n",
      "  0%|          | 0/100 [00:00<?, ?it/s]INFO:causalml:generating out-of-fold CV outcome estimates\n",
      "INFO:causalml:training the treatment effect model for treatment_a with R-loss\n",
      "  1%|          | 1/100 [00:01<02:04,  1.26s/it]INFO:causalml:generating out-of-fold CV outcome estimates\n",
      "INFO:causalml:training the treatment effect model for treatment_a with R-loss\n",
      "  2%|▏         | 2/100 [00:02<01:57,  1.20s/it]INFO:causalml:generating out-of-fold CV outcome estimates\n",
      "INFO:causalml:training the treatment effect model for treatment_a with R-loss\n",
      "  3%|▎         | 3/100 [00:03<01:46,  1.09s/it]INFO:causalml:generating out-of-fold CV outcome estimates\n",
      "INFO:causalml:training the treatment effect model for treatment_a with R-loss\n",
      "  4%|▍         | 4/100 [00:04<01:37,  1.01s/it]INFO:causalml:generating out-of-fold CV outcome estimates\n",
      "INFO:causalml:training the treatment effect model for treatment_a with R-loss\n",
      "  5%|▌         | 5/100 [00:05<01:37,  1.03s/it]INFO:causalml:generating out-of-fold CV outcome estimates\n",
      "INFO:causalml:training the treatment effect model for treatment_a with R-loss\n",
      "  6%|▌         | 6/100 [00:06<01:34,  1.00s/it]INFO:causalml:generating out-of-fold CV outcome estimates\n",
      "INFO:causalml:training the treatment effect model for treatment_a with R-loss\n",
      "  7%|▋         | 7/100 [00:07<01:31,  1.02it/s]INFO:causalml:generating out-of-fold CV outcome estimates\n",
      "INFO:causalml:training the treatment effect model for treatment_a with R-loss\n",
      "  8%|▊         | 8/100 [00:08<01:28,  1.04it/s]INFO:causalml:generating out-of-fold CV outcome estimates\n",
      "INFO:causalml:training the treatment effect model for treatment_a with R-loss\n",
      "  9%|▉         | 9/100 [00:09<01:26,  1.06it/s]INFO:causalml:generating out-of-fold CV outcome estimates\n",
      "INFO:causalml:training the treatment effect model for treatment_a with R-loss\n",
      " 10%|█         | 10/100 [00:10<01:26,  1.04it/s]INFO:causalml:generating out-of-fold CV outcome estimates\n",
      "INFO:causalml:training the treatment effect model for treatment_a with R-loss\n",
      " 11%|█         | 11/100 [00:10<01:24,  1.05it/s]INFO:causalml:generating out-of-fold CV outcome estimates\n",
      "INFO:causalml:training the treatment effect model for treatment_a with R-loss\n",
      " 12%|█▏        | 12/100 [00:11<01:25,  1.02it/s]INFO:causalml:generating out-of-fold CV outcome estimates\n",
      "INFO:causalml:training the treatment effect model for treatment_a with R-loss\n",
      " 13%|█▎        | 13/100 [00:12<01:23,  1.04it/s]INFO:causalml:generating out-of-fold CV outcome estimates\n",
      "INFO:causalml:training the treatment effect model for treatment_a with R-loss\n",
      " 14%|█▍        | 14/100 [00:13<01:23,  1.03it/s]INFO:causalml:generating out-of-fold CV outcome estimates\n",
      "INFO:causalml:training the treatment effect model for treatment_a with R-loss\n",
      " 15%|█▌        | 15/100 [00:15<01:26,  1.02s/it]INFO:causalml:generating out-of-fold CV outcome estimates\n",
      "INFO:causalml:training the treatment effect model for treatment_a with R-loss\n",
      " 16%|█▌        | 16/100 [00:15<01:21,  1.02it/s]INFO:causalml:generating out-of-fold CV outcome estimates\n",
      "INFO:causalml:training the treatment effect model for treatment_a with R-loss\n",
      " 17%|█▋        | 17/100 [00:16<01:21,  1.02it/s]INFO:causalml:generating out-of-fold CV outcome estimates\n",
      "INFO:causalml:training the treatment effect model for treatment_a with R-loss\n",
      " 18%|█▊        | 18/100 [00:17<01:19,  1.04it/s]INFO:causalml:generating out-of-fold CV outcome estimates\n",
      "INFO:causalml:training the treatment effect model for treatment_a with R-loss\n",
      " 19%|█▉        | 19/100 [00:18<01:18,  1.03it/s]INFO:causalml:generating out-of-fold CV outcome estimates\n",
      "INFO:causalml:training the treatment effect model for treatment_a with R-loss\n",
      " 20%|██        | 20/100 [00:19<01:17,  1.03it/s]INFO:causalml:generating out-of-fold CV outcome estimates\n",
      "INFO:causalml:training the treatment effect model for treatment_a with R-loss\n",
      " 21%|██        | 21/100 [00:20<01:13,  1.07it/s]INFO:causalml:generating out-of-fold CV outcome estimates\n",
      "INFO:causalml:training the treatment effect model for treatment_a with R-loss\n",
      " 22%|██▏       | 22/100 [00:21<01:09,  1.12it/s]INFO:causalml:generating out-of-fold CV outcome estimates\n",
      "INFO:causalml:training the treatment effect model for treatment_a with R-loss\n",
      " 23%|██▎       | 23/100 [00:22<01:03,  1.22it/s]INFO:causalml:generating out-of-fold CV outcome estimates\n",
      "INFO:causalml:training the treatment effect model for treatment_a with R-loss\n",
      " 24%|██▍       | 24/100 [00:23<01:04,  1.18it/s]INFO:causalml:generating out-of-fold CV outcome estimates\n",
      "INFO:causalml:training the treatment effect model for treatment_a with R-loss\n",
      " 25%|██▌       | 25/100 [00:23<00:59,  1.26it/s]INFO:causalml:generating out-of-fold CV outcome estimates\n",
      "INFO:causalml:training the treatment effect model for treatment_a with R-loss\n",
      " 26%|██▌       | 26/100 [00:24<00:55,  1.33it/s]INFO:causalml:generating out-of-fold CV outcome estimates\n",
      "INFO:causalml:training the treatment effect model for treatment_a with R-loss\n",
      " 27%|██▋       | 27/100 [00:24<00:52,  1.40it/s]INFO:causalml:generating out-of-fold CV outcome estimates\n",
      "INFO:causalml:training the treatment effect model for treatment_a with R-loss\n",
      " 28%|██▊       | 28/100 [00:25<00:50,  1.44it/s]INFO:causalml:generating out-of-fold CV outcome estimates\n",
      "INFO:causalml:training the treatment effect model for treatment_a with R-loss\n",
      " 29%|██▉       | 29/100 [00:26<00:47,  1.49it/s]INFO:causalml:generating out-of-fold CV outcome estimates\n",
      "INFO:causalml:training the treatment effect model for treatment_a with R-loss\n",
      " 30%|███       | 30/100 [00:26<00:46,  1.52it/s]INFO:causalml:generating out-of-fold CV outcome estimates\n",
      "INFO:causalml:training the treatment effect model for treatment_a with R-loss\n",
      " 31%|███       | 31/100 [00:27<00:46,  1.48it/s]INFO:causalml:generating out-of-fold CV outcome estimates\n",
      "INFO:causalml:training the treatment effect model for treatment_a with R-loss\n",
      " 32%|███▏      | 32/100 [00:28<00:46,  1.45it/s]INFO:causalml:generating out-of-fold CV outcome estimates\n",
      "INFO:causalml:training the treatment effect model for treatment_a with R-loss\n",
      " 33%|███▎      | 33/100 [00:30<01:07,  1.01s/it]INFO:causalml:generating out-of-fold CV outcome estimates\n",
      "INFO:causalml:training the treatment effect model for treatment_a with R-loss\n",
      " 34%|███▍      | 34/100 [00:30<01:03,  1.05it/s]INFO:causalml:generating out-of-fold CV outcome estimates\n",
      "INFO:causalml:training the treatment effect model for treatment_a with R-loss\n",
      " 35%|███▌      | 35/100 [00:31<00:57,  1.12it/s]INFO:causalml:generating out-of-fold CV outcome estimates\n",
      "INFO:causalml:training the treatment effect model for treatment_a with R-loss\n",
      " 36%|███▌      | 36/100 [00:32<00:52,  1.22it/s]INFO:causalml:generating out-of-fold CV outcome estimates\n",
      "INFO:causalml:training the treatment effect model for treatment_a with R-loss\n",
      " 37%|███▋      | 37/100 [00:33<00:56,  1.11it/s]INFO:causalml:generating out-of-fold CV outcome estimates\n",
      "INFO:causalml:training the treatment effect model for treatment_a with R-loss\n",
      " 38%|███▊      | 38/100 [00:34<00:56,  1.10it/s]INFO:causalml:generating out-of-fold CV outcome estimates\n",
      "INFO:causalml:training the treatment effect model for treatment_a with R-loss\n",
      " 39%|███▉      | 39/100 [00:35<00:57,  1.06it/s]INFO:causalml:generating out-of-fold CV outcome estimates\n",
      "INFO:causalml:training the treatment effect model for treatment_a with R-loss\n",
      " 40%|████      | 40/100 [00:36<00:57,  1.04it/s]INFO:causalml:generating out-of-fold CV outcome estimates\n",
      "INFO:causalml:training the treatment effect model for treatment_a with R-loss\n",
      " 41%|████      | 41/100 [00:37<00:57,  1.02it/s]INFO:causalml:generating out-of-fold CV outcome estimates\n",
      "INFO:causalml:training the treatment effect model for treatment_a with R-loss\n",
      " 42%|████▏     | 42/100 [00:38<00:56,  1.02it/s]INFO:causalml:generating out-of-fold CV outcome estimates\n",
      "INFO:causalml:training the treatment effect model for treatment_a with R-loss\n",
      " 43%|████▎     | 43/100 [00:39<00:55,  1.03it/s]INFO:causalml:generating out-of-fold CV outcome estimates\n",
      "INFO:causalml:training the treatment effect model for treatment_a with R-loss\n",
      " 44%|████▍     | 44/100 [00:40<00:55,  1.01it/s]INFO:causalml:generating out-of-fold CV outcome estimates\n",
      "INFO:causalml:training the treatment effect model for treatment_a with R-loss\n",
      " 45%|████▌     | 45/100 [00:41<00:59,  1.07s/it]INFO:causalml:generating out-of-fold CV outcome estimates\n",
      "INFO:causalml:training the treatment effect model for treatment_a with R-loss\n",
      " 46%|████▌     | 46/100 [00:44<01:25,  1.59s/it]INFO:causalml:generating out-of-fold CV outcome estimates\n",
      "INFO:causalml:training the treatment effect model for treatment_a with R-loss\n",
      " 47%|████▋     | 47/100 [00:45<01:19,  1.49s/it]INFO:causalml:generating out-of-fold CV outcome estimates\n",
      "INFO:causalml:training the treatment effect model for treatment_a with R-loss\n",
      " 48%|████▊     | 48/100 [00:46<01:09,  1.34s/it]INFO:causalml:generating out-of-fold CV outcome estimates\n",
      "INFO:causalml:training the treatment effect model for treatment_a with R-loss\n",
      " 49%|████▉     | 49/100 [00:47<01:05,  1.28s/it]INFO:causalml:generating out-of-fold CV outcome estimates\n",
      "INFO:causalml:training the treatment effect model for treatment_a with R-loss\n",
      " 50%|█████     | 50/100 [00:48<01:00,  1.21s/it]INFO:causalml:generating out-of-fold CV outcome estimates\n",
      "INFO:causalml:training the treatment effect model for treatment_a with R-loss\n",
      " 51%|█████     | 51/100 [00:50<01:02,  1.27s/it]INFO:causalml:generating out-of-fold CV outcome estimates\n",
      "INFO:causalml:training the treatment effect model for treatment_a with R-loss\n",
      " 52%|█████▏    | 52/100 [00:51<00:59,  1.23s/it]INFO:causalml:generating out-of-fold CV outcome estimates\n",
      "INFO:causalml:training the treatment effect model for treatment_a with R-loss\n",
      " 53%|█████▎    | 53/100 [00:52<00:53,  1.15s/it]INFO:causalml:generating out-of-fold CV outcome estimates\n",
      "INFO:causalml:training the treatment effect model for treatment_a with R-loss\n",
      " 54%|█████▍    | 54/100 [00:53<00:51,  1.12s/it]INFO:causalml:generating out-of-fold CV outcome estimates\n",
      "INFO:causalml:training the treatment effect model for treatment_a with R-loss\n",
      " 55%|█████▌    | 55/100 [00:54<00:50,  1.12s/it]INFO:causalml:generating out-of-fold CV outcome estimates\n",
      "INFO:causalml:training the treatment effect model for treatment_a with R-loss\n",
      " 56%|█████▌    | 56/100 [00:55<00:50,  1.14s/it]INFO:causalml:generating out-of-fold CV outcome estimates\n",
      "INFO:causalml:training the treatment effect model for treatment_a with R-loss\n",
      " 57%|█████▋    | 57/100 [00:56<00:47,  1.11s/it]INFO:causalml:generating out-of-fold CV outcome estimates\n",
      "INFO:causalml:training the treatment effect model for treatment_a with R-loss\n",
      " 58%|█████▊    | 58/100 [00:57<00:44,  1.06s/it]INFO:causalml:generating out-of-fold CV outcome estimates\n",
      "INFO:causalml:training the treatment effect model for treatment_a with R-loss\n",
      " 59%|█████▉    | 59/100 [00:58<00:43,  1.06s/it]INFO:causalml:generating out-of-fold CV outcome estimates\n",
      "INFO:causalml:training the treatment effect model for treatment_a with R-loss\n",
      " 60%|██████    | 60/100 [00:59<00:41,  1.05s/it]INFO:causalml:generating out-of-fold CV outcome estimates\n",
      "INFO:causalml:training the treatment effect model for treatment_a with R-loss\n",
      " 61%|██████    | 61/100 [01:00<00:41,  1.08s/it]INFO:causalml:generating out-of-fold CV outcome estimates\n",
      "INFO:causalml:training the treatment effect model for treatment_a with R-loss\n",
      " 62%|██████▏   | 62/100 [01:01<00:36,  1.05it/s]INFO:causalml:generating out-of-fold CV outcome estimates\n",
      "INFO:causalml:training the treatment effect model for treatment_a with R-loss\n",
      " 63%|██████▎   | 63/100 [01:02<00:31,  1.16it/s]INFO:causalml:generating out-of-fold CV outcome estimates\n",
      "INFO:causalml:training the treatment effect model for treatment_a with R-loss\n",
      " 64%|██████▍   | 64/100 [01:02<00:28,  1.25it/s]INFO:causalml:generating out-of-fold CV outcome estimates\n",
      "INFO:causalml:training the treatment effect model for treatment_a with R-loss\n",
      " 65%|██████▌   | 65/100 [01:03<00:25,  1.35it/s]INFO:causalml:generating out-of-fold CV outcome estimates\n",
      "INFO:causalml:training the treatment effect model for treatment_a with R-loss\n",
      " 66%|██████▌   | 66/100 [01:04<00:24,  1.41it/s]INFO:causalml:generating out-of-fold CV outcome estimates\n",
      "INFO:causalml:training the treatment effect model for treatment_a with R-loss\n",
      " 67%|██████▋   | 67/100 [01:04<00:23,  1.42it/s]INFO:causalml:generating out-of-fold CV outcome estimates\n",
      "INFO:causalml:training the treatment effect model for treatment_a with R-loss\n",
      " 68%|██████▊   | 68/100 [01:05<00:22,  1.44it/s]INFO:causalml:generating out-of-fold CV outcome estimates\n",
      "INFO:causalml:training the treatment effect model for treatment_a with R-loss\n",
      " 69%|██████▉   | 69/100 [01:06<00:21,  1.42it/s]INFO:causalml:generating out-of-fold CV outcome estimates\n",
      "INFO:causalml:training the treatment effect model for treatment_a with R-loss\n",
      " 70%|███████   | 70/100 [01:06<00:20,  1.44it/s]INFO:causalml:generating out-of-fold CV outcome estimates\n",
      "INFO:causalml:training the treatment effect model for treatment_a with R-loss\n",
      " 71%|███████   | 71/100 [01:07<00:19,  1.46it/s]INFO:causalml:generating out-of-fold CV outcome estimates\n",
      "INFO:causalml:training the treatment effect model for treatment_a with R-loss\n",
      " 72%|███████▏  | 72/100 [01:08<00:19,  1.46it/s]INFO:causalml:generating out-of-fold CV outcome estimates\n",
      "INFO:causalml:training the treatment effect model for treatment_a with R-loss\n",
      " 73%|███████▎  | 73/100 [01:08<00:19,  1.39it/s]INFO:causalml:generating out-of-fold CV outcome estimates\n",
      "INFO:causalml:training the treatment effect model for treatment_a with R-loss\n",
      " 74%|███████▍  | 74/100 [01:09<00:18,  1.40it/s]INFO:causalml:generating out-of-fold CV outcome estimates\n",
      "INFO:causalml:training the treatment effect model for treatment_a with R-loss\n",
      " 75%|███████▌  | 75/100 [01:10<00:17,  1.40it/s]INFO:causalml:generating out-of-fold CV outcome estimates\n",
      "INFO:causalml:training the treatment effect model for treatment_a with R-loss\n",
      " 76%|███████▌  | 76/100 [01:11<00:16,  1.45it/s]INFO:causalml:generating out-of-fold CV outcome estimates\n",
      "INFO:causalml:training the treatment effect model for treatment_a with R-loss\n",
      " 77%|███████▋  | 77/100 [01:11<00:16,  1.41it/s]INFO:causalml:generating out-of-fold CV outcome estimates\n",
      "INFO:causalml:training the treatment effect model for treatment_a with R-loss\n",
      " 78%|███████▊  | 78/100 [01:12<00:15,  1.43it/s]INFO:causalml:generating out-of-fold CV outcome estimates\n",
      "INFO:causalml:training the treatment effect model for treatment_a with R-loss\n",
      " 79%|███████▉  | 79/100 [01:13<00:15,  1.33it/s]INFO:causalml:generating out-of-fold CV outcome estimates\n",
      "INFO:causalml:training the treatment effect model for treatment_a with R-loss\n",
      " 80%|████████  | 80/100 [01:14<00:16,  1.20it/s]INFO:causalml:generating out-of-fold CV outcome estimates\n",
      "INFO:causalml:training the treatment effect model for treatment_a with R-loss\n",
      " 81%|████████  | 81/100 [01:15<00:17,  1.09it/s]INFO:causalml:generating out-of-fold CV outcome estimates\n",
      "INFO:causalml:training the treatment effect model for treatment_a with R-loss\n",
      " 82%|████████▏ | 82/100 [01:16<00:18,  1.01s/it]INFO:causalml:generating out-of-fold CV outcome estimates\n",
      "INFO:causalml:training the treatment effect model for treatment_a with R-loss\n",
      " 83%|████████▎ | 83/100 [01:17<00:17,  1.06s/it]INFO:causalml:generating out-of-fold CV outcome estimates\n",
      "INFO:causalml:training the treatment effect model for treatment_a with R-loss\n",
      " 84%|████████▍ | 84/100 [01:18<00:16,  1.03s/it]INFO:causalml:generating out-of-fold CV outcome estimates\n",
      "INFO:causalml:training the treatment effect model for treatment_a with R-loss\n",
      " 85%|████████▌ | 85/100 [01:19<00:15,  1.03s/it]INFO:causalml:generating out-of-fold CV outcome estimates\n",
      "INFO:causalml:training the treatment effect model for treatment_a with R-loss\n",
      " 86%|████████▌ | 86/100 [01:20<00:14,  1.03s/it]INFO:causalml:generating out-of-fold CV outcome estimates\n",
      "INFO:causalml:training the treatment effect model for treatment_a with R-loss\n",
      " 87%|████████▋ | 87/100 [01:21<00:13,  1.01s/it]INFO:causalml:generating out-of-fold CV outcome estimates\n",
      "INFO:causalml:training the treatment effect model for treatment_a with R-loss\n",
      " 88%|████████▊ | 88/100 [01:23<00:15,  1.29s/it]INFO:causalml:generating out-of-fold CV outcome estimates\n",
      "INFO:causalml:training the treatment effect model for treatment_a with R-loss\n",
      " 89%|████████▉ | 89/100 [01:24<00:13,  1.23s/it]INFO:causalml:generating out-of-fold CV outcome estimates\n",
      "INFO:causalml:training the treatment effect model for treatment_a with R-loss\n",
      " 90%|█████████ | 90/100 [01:25<00:11,  1.14s/it]INFO:causalml:generating out-of-fold CV outcome estimates\n",
      "INFO:causalml:training the treatment effect model for treatment_a with R-loss\n",
      " 91%|█████████ | 91/100 [01:26<00:09,  1.08s/it]INFO:causalml:generating out-of-fold CV outcome estimates\n",
      "INFO:causalml:training the treatment effect model for treatment_a with R-loss\n",
      " 92%|█████████▏| 92/100 [01:27<00:08,  1.04s/it]INFO:causalml:generating out-of-fold CV outcome estimates\n",
      "INFO:causalml:training the treatment effect model for treatment_a with R-loss\n",
      " 93%|█████████▎| 93/100 [01:28<00:07,  1.04s/it]INFO:causalml:generating out-of-fold CV outcome estimates\n",
      "INFO:causalml:training the treatment effect model for treatment_a with R-loss\n",
      " 94%|█████████▍| 94/100 [01:29<00:06,  1.07s/it]INFO:causalml:generating out-of-fold CV outcome estimates\n",
      "INFO:causalml:training the treatment effect model for treatment_a with R-loss\n",
      " 95%|█████████▌| 95/100 [01:30<00:05,  1.06s/it]INFO:causalml:generating out-of-fold CV outcome estimates\n",
      "INFO:causalml:training the treatment effect model for treatment_a with R-loss\n",
      " 96%|█████████▌| 96/100 [01:32<00:04,  1.07s/it]INFO:causalml:generating out-of-fold CV outcome estimates\n",
      "INFO:causalml:training the treatment effect model for treatment_a with R-loss\n",
      " 97%|█████████▋| 97/100 [01:33<00:03,  1.06s/it]INFO:causalml:generating out-of-fold CV outcome estimates\n",
      "INFO:causalml:training the treatment effect model for treatment_a with R-loss\n",
      " 98%|█████████▊| 98/100 [01:34<00:02,  1.05s/it]INFO:causalml:generating out-of-fold CV outcome estimates\n",
      "INFO:causalml:training the treatment effect model for treatment_a with R-loss\n",
      " 99%|█████████▉| 99/100 [01:35<00:01,  1.02s/it]INFO:causalml:generating out-of-fold CV outcome estimates\n",
      "INFO:causalml:training the treatment effect model for treatment_a with R-loss\n",
      "100%|██████████| 100/100 [01:35<00:00,  1.04it/s]\n"
     ]
    }
   ],
   "source": [
    "learner_r = BaseRRegressor(XGBRegressor(), control_name='control')\n",
    "cate_r_no_p, cate_r_lb_no_p, cate_r_ub_no_p = learner_r.fit_predict(X=X, treatment=treatment, y=y, return_ci=True,\n",
    "                                                     n_bootstraps=100, bootstrap_size=1000)"
   ]
  },
  {
   "cell_type": "code",
   "execution_count": 65,
   "metadata": {
    "ExecuteTime": {
     "end_time": "2020-04-14T19:04:58.736814Z",
     "start_time": "2020-04-14T19:04:58.691749Z"
    }
   },
   "outputs": [
    {
     "data": {
      "text/plain": [
       "array([[-0.52747166],\n",
       "       [ 1.25635076],\n",
       "       [-0.25144646],\n",
       "       ...,\n",
       "       [ 0.49343434],\n",
       "       [ 2.96903896],\n",
       "       [ 1.06650448]])"
      ]
     },
     "execution_count": 65,
     "metadata": {},
     "output_type": "execute_result"
    }
   ],
   "source": [
    "cate_r_no_p"
   ]
  },
  {
   "cell_type": "code",
   "execution_count": 66,
   "metadata": {
    "ExecuteTime": {
     "end_time": "2020-04-14T19:04:58.783181Z",
     "start_time": "2020-04-14T19:04:58.739229Z"
    }
   },
   "outputs": [
    {
     "data": {
      "text/plain": [
       "array([[-2.44348627],\n",
       "       [-3.01379174],\n",
       "       [-3.16465318],\n",
       "       ...,\n",
       "       [-1.69092604],\n",
       "       [-2.00299096],\n",
       "       [-2.8464227 ]])"
      ]
     },
     "execution_count": 66,
     "metadata": {},
     "output_type": "execute_result"
    }
   ],
   "source": [
    "cate_r_lb_no_p"
   ]
  },
  {
   "cell_type": "code",
   "execution_count": 67,
   "metadata": {
    "ExecuteTime": {
     "end_time": "2020-04-14T19:04:58.843766Z",
     "start_time": "2020-04-14T19:04:58.798145Z"
    }
   },
   "outputs": [
    {
     "data": {
      "text/plain": [
       "array([[3.35444879],\n",
       "       [4.58988643],\n",
       "       [3.41727435],\n",
       "       ...,\n",
       "       [3.04357766],\n",
       "       [4.56808878],\n",
       "       [2.50545568]])"
      ]
     },
     "execution_count": 67,
     "metadata": {},
     "output_type": "execute_result"
    }
   ],
   "source": [
    "cate_r_ub_no_p"
   ]
  },
  {
   "cell_type": "markdown",
   "metadata": {},
   "source": [
    "# Visualize"
   ]
  },
  {
   "cell_type": "code",
   "execution_count": 68,
   "metadata": {
    "ExecuteTime": {
     "end_time": "2020-04-14T19:04:59.305207Z",
     "start_time": "2020-04-14T19:04:58.849620Z"
    }
   },
   "outputs": [
    {
     "data": {
      "image/png": "[encoded data removed]",
      "text/plain": [
       "<Figure size 1200x800 with 1 Axes>"
      ]
     },
     "metadata": {},
     "output_type": "display_data"
    }
   ],
   "source": [
    "groups = learner_r._classes\n",
    "\n",
    "alpha = 1\n",
    "linewidth = 2\n",
    "bins = 30\n",
    "for group,idx in sorted(groups.items(), key=lambda x: x[1]):\n",
    "    plt.figure(figsize=(12,8))\n",
    "    plt.hist(cate_t[:,idx], alpha=alpha, bins=bins, label='T Learner ({})'.format(group),\n",
    "             histtype='step', linewidth=linewidth, density=True)\n",
    "    plt.hist(cate_x[:,idx], alpha=alpha, bins=bins, label='X Learner ({})'.format(group),\n",
    "             histtype='step', linewidth=linewidth, density=True)\n",
    "    plt.hist(cate_r[:,idx], alpha=alpha, bins=bins, label='R Learner ({})'.format(group),\n",
    "             histtype='step', linewidth=linewidth, density=True)\n",
    "    plt.hist(tau, alpha=alpha, bins=bins, label='Actual ATE distr',\n",
    "             histtype='step', linewidth=linewidth, color='green', density=True)\n",
    "    plt.vlines(cate_s[0,idx], 0, plt.axes().get_ylim()[1], label='S Learner ({})'.format(group),\n",
    "               linestyles='dotted', linewidth=linewidth)\n",
    "    plt.vlines(tau.mean(), 0, plt.axes().get_ylim()[1], label='Actual ATE',\n",
    "               linestyles='dotted', linewidth=linewidth, color='green')\n",
    "    \n",
    "    plt.title('Distribution of CATE Predictions for {}'.format(group))\n",
    "    plt.xlabel('Individual Treatment Effect (ITE/CATE)')\n",
    "    plt.ylabel('# of Samples')\n",
    "    _=plt.legend()"
   ]
  },
  {
   "cell_type": "markdown",
   "metadata": {},
   "source": [
    "---\n",
    "# Multiple Treatment Case"
   ]
  },
  {
   "cell_type": "markdown",
   "metadata": {},
   "source": [
    "### Generate synthetic data\n",
    "Note: we randomize the assignment of treatment flag AFTER the synthetic data generation process, so it doesn't make sense to measure accuracy metrics here. Next steps would be to include multi-treatment in the DGP itself."
   ]
  },
  {
   "cell_type": "code",
   "execution_count": 69,
   "metadata": {
    "ExecuteTime": {
     "end_time": "2020-04-14T19:04:59.357345Z",
     "start_time": "2020-04-14T19:04:59.307042Z"
    }
   },
   "outputs": [],
   "source": [
    "# Generate synthetic data using mode 1\n",
    "y, X, treatment, tau, b, e = synthetic_data(mode=1, n=10000, p=8, sigma=1.0)\n",
    "\n",
    "treatment = np.array([('treatment_a' if np.random.random() > 0.2 else 'treatment_b') \n",
    "                      if val==1 else 'control' for val in treatment])\n",
    "\n",
    "e = {group: e for group in np.unique(treatment)}"
   ]
  },
  {
   "cell_type": "code",
   "execution_count": 70,
   "metadata": {
    "ExecuteTime": {
     "end_time": "2020-04-14T19:04:59.412822Z",
     "start_time": "2020-04-14T19:04:59.359396Z"
    }
   },
   "outputs": [
    {
     "data": {
      "text/plain": [
       "control        4901\n",
       "treatment_a    4094\n",
       "treatment_b    1005\n",
       "dtype: int64"
      ]
     },
     "execution_count": 70,
     "metadata": {},
     "output_type": "execute_result"
    }
   ],
   "source": [
    "pd.Series(treatment).value_counts()"
   ]
  },
  {
   "cell_type": "markdown",
   "metadata": {
    "toc-hr-collapsed": true
   },
   "source": [
    "## S-Learner"
   ]
  },
  {
   "cell_type": "markdown",
   "metadata": {},
   "source": [
    "### ATE"
   ]
  },
  {
   "cell_type": "code",
   "execution_count": 71,
   "metadata": {
    "ExecuteTime": {
     "end_time": "2020-04-14T19:05:01.278019Z",
     "start_time": "2020-04-14T19:04:59.415228Z"
    }
   },
   "outputs": [
    {
     "name": "stderr",
     "output_type": "stream",
     "text": [
      "INFO:causalml:Error metrics for group treatment_a\n",
      "INFO:causalml:    RMSE   (Control):     0.6428\n",
      "INFO:causalml:    RMSE (Treatment):     0.6576\n",
      "INFO:causalml:   sMAPE   (Control):     0.6389\n",
      "INFO:causalml:   sMAPE (Treatment):     0.3529\n",
      "INFO:causalml:    Gini   (Control):     0.8336\n",
      "INFO:causalml:    Gini (Treatment):     0.8341\n",
      "INFO:causalml:Error metrics for group treatment_b\n",
      "INFO:causalml:    RMSE   (Control):     0.5434\n",
      "INFO:causalml:    RMSE (Treatment):     0.4928\n",
      "INFO:causalml:   sMAPE   (Control):     0.5670\n",
      "INFO:causalml:   sMAPE (Treatment):     0.2852\n",
      "INFO:causalml:    Gini   (Control):     0.8941\n",
      "INFO:causalml:    Gini (Treatment):     0.9046\n"
     ]
    }
   ],
   "source": [
    "learner_s = BaseSRegressor(XGBRegressor(), control_name='control')\n",
    "ate_s = learner_s.estimate_ate(X=X, treatment=treatment, y=y, return_ci=False, bootstrap_ci=False)"
   ]
  },
  {
   "cell_type": "code",
   "execution_count": 72,
   "metadata": {
    "ExecuteTime": {
     "end_time": "2020-04-14T19:05:01.320962Z",
     "start_time": "2020-04-14T19:05:01.279909Z"
    }
   },
   "outputs": [
    {
     "data": {
      "text/plain": [
       "array([0.56130834, 0.48720214])"
      ]
     },
     "execution_count": 72,
     "metadata": {},
     "output_type": "execute_result"
    }
   ],
   "source": [
    "ate_s"
   ]
  },
  {
   "cell_type": "code",
   "execution_count": 73,
   "metadata": {
    "ExecuteTime": {
     "end_time": "2020-04-14T19:05:01.368038Z",
     "start_time": "2020-04-14T19:05:01.323307Z"
    }
   },
   "outputs": [
    {
     "data": {
      "text/plain": [
       "{'treatment_a': 0, 'treatment_b': 1}"
      ]
     },
     "execution_count": 73,
     "metadata": {},
     "output_type": "execute_result"
    }
   ],
   "source": [
    "learner_s._classes"
   ]
  },
  {
   "cell_type": "markdown",
   "metadata": {},
   "source": [
    "### ATE w/ Confidence Intervals"
   ]
  },
  {
   "cell_type": "code",
   "execution_count": 74,
   "metadata": {
    "ExecuteTime": {
     "end_time": "2020-04-14T19:05:03.211605Z",
     "start_time": "2020-04-14T19:05:01.370785Z"
    }
   },
   "outputs": [
    {
     "name": "stderr",
     "output_type": "stream",
     "text": [
      "INFO:causalml:Error metrics for group treatment_a\n",
      "INFO:causalml:    RMSE   (Control):     0.6428\n",
      "INFO:causalml:    RMSE (Treatment):     0.6576\n",
      "INFO:causalml:   sMAPE   (Control):     0.6389\n",
      "INFO:causalml:   sMAPE (Treatment):     0.3529\n",
      "INFO:causalml:    Gini   (Control):     0.8336\n",
      "INFO:causalml:    Gini (Treatment):     0.8341\n",
      "INFO:causalml:Error metrics for group treatment_b\n",
      "INFO:causalml:    RMSE   (Control):     0.5434\n",
      "INFO:causalml:    RMSE (Treatment):     0.4928\n",
      "INFO:causalml:   sMAPE   (Control):     0.5670\n",
      "INFO:causalml:   sMAPE (Treatment):     0.2852\n",
      "INFO:causalml:    Gini   (Control):     0.8941\n",
      "INFO:causalml:    Gini (Treatment):     0.9046\n"
     ]
    }
   ],
   "source": [
    "alpha = 0.05\n",
    "learner_s = BaseSRegressor(XGBRegressor(), ate_alpha=alpha, control_name='control')\n",
    "ate_s, ate_s_lb, ate_s_ub = learner_s.estimate_ate(X=X, treatment=treatment, y=y, return_ci=True,\n",
    "                                                   bootstrap_ci=False)"
   ]
  },
  {
   "cell_type": "code",
   "execution_count": 75,
   "metadata": {
    "ExecuteTime": {
     "end_time": "2020-04-14T19:05:03.255641Z",
     "start_time": "2020-04-14T19:05:03.213558Z"
    }
   },
   "outputs": [
    {
     "data": {
      "text/plain": [
       "array([[0.53337063, 0.45148332],\n",
       "       [0.56130834, 0.48720214],\n",
       "       [0.58924604, 0.52292097]])"
      ]
     },
     "execution_count": 75,
     "metadata": {},
     "output_type": "execute_result"
    }
   ],
   "source": [
    "np.vstack((ate_s_lb, ate_s, ate_s_ub))"
   ]
  },
  {
   "cell_type": "markdown",
   "metadata": {},
   "source": [
    "### ATE w/ Boostrap Confidence Intervals"
   ]
  },
  {
   "cell_type": "code",
   "execution_count": 76,
   "metadata": {
    "ExecuteTime": {
     "end_time": "2020-04-14T19:06:45.403405Z",
     "start_time": "2020-04-14T19:05:03.258090Z"
    }
   },
   "outputs": [
    {
     "name": "stderr",
     "output_type": "stream",
     "text": [
      "INFO:causalml:Error metrics for group treatment_a\n",
      "INFO:causalml:    RMSE   (Control):     0.6428\n",
      "INFO:causalml:    RMSE (Treatment):     0.6576\n",
      "INFO:causalml:   sMAPE   (Control):     0.6389\n",
      "INFO:causalml:   sMAPE (Treatment):     0.3529\n",
      "INFO:causalml:    Gini   (Control):     0.8336\n",
      "INFO:causalml:    Gini (Treatment):     0.8341\n",
      "INFO:causalml:Error metrics for group treatment_b\n",
      "INFO:causalml:    RMSE   (Control):     0.5434\n",
      "INFO:causalml:    RMSE (Treatment):     0.4928\n",
      "INFO:causalml:   sMAPE   (Control):     0.5670\n",
      "INFO:causalml:   sMAPE (Treatment):     0.2852\n",
      "INFO:causalml:    Gini   (Control):     0.8941\n",
      "INFO:causalml:    Gini (Treatment):     0.9046\n",
      "INFO:causalml:Bootstrap Confidence Intervals for ATE\n",
      "100%|██████████| 100/100 [02:18<00:00,  1.38s/it]\n"
     ]
    }
   ],
   "source": [
    "ate_s_b, ate_s_lb_b, ate_s_ub_b = learner_s.estimate_ate(X=X, treatment=treatment, y=y, return_ci=True,\n",
    "                                                         bootstrap_ci=True, n_bootstraps=100, bootstrap_size=5000)"
   ]
  },
  {
   "cell_type": "code",
   "execution_count": 77,
   "metadata": {
    "ExecuteTime": {
     "end_time": "2020-04-14T19:06:45.442749Z",
     "start_time": "2020-04-14T19:06:45.405407Z"
    }
   },
   "outputs": [
    {
     "data": {
      "text/plain": [
       "array([[0.45649675, 0.45649675],\n",
       "       [0.56130834, 0.48720214],\n",
       "       [0.59095697, 0.59095697]])"
      ]
     },
     "execution_count": 77,
     "metadata": {},
     "output_type": "execute_result"
    }
   ],
   "source": [
    "np.vstack((ate_s_lb_b, ate_s_b, ate_s_ub_b))"
   ]
  },
  {
   "cell_type": "markdown",
   "metadata": {},
   "source": [
    "### CATE"
   ]
  },
  {
   "cell_type": "code",
   "execution_count": 78,
   "metadata": {
    "ExecuteTime": {
     "end_time": "2020-04-14T19:06:47.149107Z",
     "start_time": "2020-04-14T19:06:45.444724Z"
    }
   },
   "outputs": [
    {
     "name": "stderr",
     "output_type": "stream",
     "text": [
      "INFO:causalml:Error metrics for group treatment_a\n",
      "INFO:causalml:    RMSE   (Control):     0.6428\n",
      "INFO:causalml:    RMSE (Treatment):     0.6576\n",
      "INFO:causalml:   sMAPE   (Control):     0.6389\n",
      "INFO:causalml:   sMAPE (Treatment):     0.3529\n",
      "INFO:causalml:    Gini   (Control):     0.8336\n",
      "INFO:causalml:    Gini (Treatment):     0.8341\n",
      "INFO:causalml:Error metrics for group treatment_b\n",
      "INFO:causalml:    RMSE   (Control):     0.5434\n",
      "INFO:causalml:    RMSE (Treatment):     0.4928\n",
      "INFO:causalml:   sMAPE   (Control):     0.5670\n",
      "INFO:causalml:   sMAPE (Treatment):     0.2852\n",
      "INFO:causalml:    Gini   (Control):     0.8941\n",
      "INFO:causalml:    Gini (Treatment):     0.9046\n"
     ]
    }
   ],
   "source": [
    "learner_s = BaseSRegressor(XGBRegressor(), control_name='control')\n",
    "cate_s = learner_s.fit_predict(X=X, treatment=treatment, y=y, return_ci=False)"
   ]
  },
  {
   "cell_type": "code",
   "execution_count": 79,
   "metadata": {
    "ExecuteTime": {
     "end_time": "2020-04-14T19:06:47.187393Z",
     "start_time": "2020-04-14T19:06:47.150866Z"
    }
   },
   "outputs": [
    {
     "data": {
      "text/plain": [
       "array([[ 0.50269127,  0.28148568],\n",
       "       [ 0.49630618, -0.272879  ],\n",
       "       [ 0.31074429, -0.22502005],\n",
       "       ...,\n",
       "       [-0.23943236,  0.17926455],\n",
       "       [ 0.04366732,  0.39293075],\n",
       "       [ 0.48549354, -0.19117212]])"
      ]
     },
     "execution_count": 79,
     "metadata": {},
     "output_type": "execute_result"
    }
   ],
   "source": [
    "cate_s"
   ]
  },
  {
   "cell_type": "markdown",
   "metadata": {},
   "source": [
    "### CATE w/ Confidence Intervals"
   ]
  },
  {
   "cell_type": "code",
   "execution_count": 80,
   "metadata": {
    "ExecuteTime": {
     "end_time": "2020-04-14T19:07:52.420017Z",
     "start_time": "2020-04-14T19:06:47.189370Z"
    }
   },
   "outputs": [
    {
     "name": "stderr",
     "output_type": "stream",
     "text": [
      "INFO:causalml:Error metrics for group treatment_a\n",
      "INFO:causalml:    RMSE   (Control):     0.6428\n",
      "INFO:causalml:    RMSE (Treatment):     0.6576\n",
      "INFO:causalml:   sMAPE   (Control):     0.6389\n",
      "INFO:causalml:   sMAPE (Treatment):     0.3529\n",
      "INFO:causalml:    Gini   (Control):     0.8336\n",
      "INFO:causalml:    Gini (Treatment):     0.8341\n",
      "INFO:causalml:Error metrics for group treatment_b\n",
      "INFO:causalml:    RMSE   (Control):     0.5434\n",
      "INFO:causalml:    RMSE (Treatment):     0.4928\n",
      "INFO:causalml:   sMAPE   (Control):     0.5670\n",
      "INFO:causalml:   sMAPE (Treatment):     0.2852\n",
      "INFO:causalml:    Gini   (Control):     0.8941\n",
      "INFO:causalml:    Gini (Treatment):     0.9046\n",
      "INFO:causalml:Bootstrap Confidence Intervals\n",
      "100%|██████████| 100/100 [02:17<00:00,  1.38s/it]\n"
     ]
    }
   ],
   "source": [
    "alpha = 0.05\n",
    "learner_s = BaseSRegressor(XGBRegressor(), ate_alpha=alpha, control_name='control')\n",
    "cate_s, cate_s_lb, cate_s_ub = learner_s.fit_predict(X=X, treatment=treatment, y=y, return_ci=True,\n",
    "                               n_bootstraps=100, bootstrap_size=3000)"
   ]
  },
  {
   "cell_type": "code",
   "execution_count": 81,
   "metadata": {
    "ExecuteTime": {
     "end_time": "2020-04-14T19:07:52.463305Z",
     "start_time": "2020-04-14T19:07:52.422192Z"
    }
   },
   "outputs": [
    {
     "data": {
      "text/plain": [
       "array([[ 0.50269127,  0.28148568],\n",
       "       [ 0.49630618, -0.272879  ],\n",
       "       [ 0.31074429, -0.22502005],\n",
       "       ...,\n",
       "       [-0.23943236,  0.17926455],\n",
       "       [ 0.04366732,  0.39293075],\n",
       "       [ 0.48549354, -0.19117212]])"
      ]
     },
     "execution_count": 81,
     "metadata": {},
     "output_type": "execute_result"
    }
   ],
   "source": [
    "cate_s"
   ]
  },
  {
   "cell_type": "code",
   "execution_count": 82,
   "metadata": {
    "ExecuteTime": {
     "end_time": "2020-04-14T19:07:52.503242Z",
     "start_time": "2020-04-14T19:07:52.465394Z"
    }
   },
   "outputs": [
    {
     "data": {
      "text/plain": [
       "array([[ 0.29459754,  0.16337148],\n",
       "       [-0.14487143, -0.24886316],\n",
       "       [-0.25559233, -0.50857609],\n",
       "       ...,\n",
       "       [-0.69400408, -0.76724518],\n",
       "       [-0.40098217, -0.31653938],\n",
       "       [-0.22512058, -0.38316111]])"
      ]
     },
     "execution_count": 82,
     "metadata": {},
     "output_type": "execute_result"
    }
   ],
   "source": [
    "cate_s_lb"
   ]
  },
  {
   "cell_type": "code",
   "execution_count": 83,
   "metadata": {
    "ExecuteTime": {
     "end_time": "2020-04-14T19:07:52.543787Z",
     "start_time": "2020-04-14T19:07:52.505112Z"
    }
   },
   "outputs": [
    {
     "data": {
      "text/plain": [
       "array([[1.19039717, 1.44045162],\n",
       "       [1.50682622, 1.14070666],\n",
       "       [1.31162786, 1.3884688 ],\n",
       "       ...,\n",
       "       [0.82887924, 1.00939197],\n",
       "       [1.24055386, 1.49877841],\n",
       "       [1.0960682 , 1.26828566]])"
      ]
     },
     "execution_count": 83,
     "metadata": {},
     "output_type": "execute_result"
    }
   ],
   "source": [
    "cate_s_ub"
   ]
  },
  {
   "cell_type": "markdown",
   "metadata": {
    "toc-hr-collapsed": true
   },
   "source": [
    "## T-Learner"
   ]
  },
  {
   "cell_type": "markdown",
   "metadata": {},
   "source": [
    "### ATE w/ Confidence Intervals"
   ]
  },
  {
   "cell_type": "code",
   "execution_count": 84,
   "metadata": {
    "ExecuteTime": {
     "end_time": "2020-04-14T19:07:54.253387Z",
     "start_time": "2020-04-14T19:07:52.545793Z"
    }
   },
   "outputs": [
    {
     "name": "stderr",
     "output_type": "stream",
     "text": [
      "INFO:causalml:Error metrics for group treatment_a\n",
      "INFO:causalml:    RMSE   (Control):     0.5037\n",
      "INFO:causalml:    RMSE (Treatment):     0.4666\n",
      "INFO:causalml:   sMAPE   (Control):     0.5466\n",
      "INFO:causalml:   sMAPE (Treatment):     0.2684\n",
      "INFO:causalml:    Gini   (Control):     0.9109\n",
      "INFO:causalml:    Gini (Treatment):     0.9294\n",
      "INFO:causalml:Error metrics for group treatment_b\n",
      "INFO:causalml:    RMSE   (Control):     0.5037\n",
      "INFO:causalml:    RMSE (Treatment):     0.0762\n",
      "INFO:causalml:   sMAPE   (Control):     0.5466\n",
      "INFO:causalml:   sMAPE (Treatment):     0.0668\n",
      "INFO:causalml:    Gini   (Control):     0.9109\n",
      "INFO:causalml:    Gini (Treatment):     0.9984\n"
     ]
    }
   ],
   "source": [
    "learner_t = BaseTRegressor(XGBRegressor(), control_name='control')\n",
    "ate_t, ate_t_lb, ate_t_ub = learner_t.estimate_ate(X=X, treatment=treatment, y=y)"
   ]
  },
  {
   "cell_type": "code",
   "execution_count": 85,
   "metadata": {
    "ExecuteTime": {
     "end_time": "2020-04-14T19:07:54.292831Z",
     "start_time": "2020-04-14T19:07:54.255519Z"
    }
   },
   "outputs": [
    {
     "data": {
      "text/plain": [
       "array([[0.53529178, 0.42444792],\n",
       "       [0.56116837, 0.45119056],\n",
       "       [0.58704496, 0.4779332 ]])"
      ]
     },
     "execution_count": 85,
     "metadata": {},
     "output_type": "execute_result"
    }
   ],
   "source": [
    "np.vstack((ate_t_lb, ate_t, ate_t_ub))"
   ]
  },
  {
   "cell_type": "markdown",
   "metadata": {},
   "source": [
    "### ATE w/ Boostrap Confidence Intervals"
   ]
  },
  {
   "cell_type": "code",
   "execution_count": 86,
   "metadata": {
    "ExecuteTime": {
     "end_time": "2020-04-14T19:09:28.986981Z",
     "start_time": "2020-04-14T19:07:54.294826Z"
    }
   },
   "outputs": [
    {
     "name": "stderr",
     "output_type": "stream",
     "text": [
      "INFO:causalml:Error metrics for group treatment_a\n",
      "INFO:causalml:    RMSE   (Control):     0.5037\n",
      "INFO:causalml:    RMSE (Treatment):     0.4666\n",
      "INFO:causalml:   sMAPE   (Control):     0.5466\n",
      "INFO:causalml:   sMAPE (Treatment):     0.2684\n",
      "INFO:causalml:    Gini   (Control):     0.9109\n",
      "INFO:causalml:    Gini (Treatment):     0.9294\n",
      "INFO:causalml:Error metrics for group treatment_b\n",
      "INFO:causalml:    RMSE   (Control):     0.5037\n",
      "INFO:causalml:    RMSE (Treatment):     0.0762\n",
      "INFO:causalml:   sMAPE   (Control):     0.5466\n",
      "INFO:causalml:   sMAPE (Treatment):     0.0668\n",
      "INFO:causalml:    Gini   (Control):     0.9109\n",
      "INFO:causalml:    Gini (Treatment):     0.9984\n",
      "INFO:causalml:Bootstrap Confidence Intervals for ATE\n",
      "100%|██████████| 100/100 [01:37<00:00,  1.02it/s]\n"
     ]
    }
   ],
   "source": [
    "ate_t_b, ate_t_lb_b, ate_t_ub_b = learner_t.estimate_ate(X=X, treatment=treatment, y=y, bootstrap_ci=True,\n",
    "                                                   n_bootstraps=100, bootstrap_size=5000)"
   ]
  },
  {
   "cell_type": "code",
   "execution_count": 87,
   "metadata": {
    "ExecuteTime": {
     "end_time": "2020-04-14T19:09:29.025336Z",
     "start_time": "2020-04-14T19:09:28.988777Z"
    }
   },
   "outputs": [
    {
     "data": {
      "text/plain": [
       "array([[0.47689478, 0.47689478],\n",
       "       [0.56116837, 0.45119056],\n",
       "       [0.6455047 , 0.6455047 ]])"
      ]
     },
     "execution_count": 87,
     "metadata": {},
     "output_type": "execute_result"
    }
   ],
   "source": [
    "np.vstack((ate_t_lb_b, ate_t_b, ate_t_ub_b))"
   ]
  },
  {
   "cell_type": "markdown",
   "metadata": {},
   "source": [
    "### CATE"
   ]
  },
  {
   "cell_type": "code",
   "execution_count": 88,
   "metadata": {
    "ExecuteTime": {
     "end_time": "2020-04-14T19:09:30.687586Z",
     "start_time": "2020-04-14T19:09:29.027317Z"
    }
   },
   "outputs": [
    {
     "name": "stderr",
     "output_type": "stream",
     "text": [
      "INFO:causalml:Error metrics for group treatment_a\n",
      "INFO:causalml:    RMSE   (Control):     0.5037\n",
      "INFO:causalml:    RMSE (Treatment):     0.4666\n",
      "INFO:causalml:   sMAPE   (Control):     0.5466\n",
      "INFO:causalml:   sMAPE (Treatment):     0.2684\n",
      "INFO:causalml:    Gini   (Control):     0.9109\n",
      "INFO:causalml:    Gini (Treatment):     0.9294\n",
      "INFO:causalml:Error metrics for group treatment_b\n",
      "INFO:causalml:    RMSE   (Control):     0.5037\n",
      "INFO:causalml:    RMSE (Treatment):     0.0762\n",
      "INFO:causalml:   sMAPE   (Control):     0.5466\n",
      "INFO:causalml:   sMAPE (Treatment):     0.0668\n",
      "INFO:causalml:    Gini   (Control):     0.9109\n",
      "INFO:causalml:    Gini (Treatment):     0.9984\n"
     ]
    }
   ],
   "source": [
    "learner_t = BaseTRegressor(XGBRegressor(), control_name='control')\n",
    "cate_t = learner_t.fit_predict(X=X, treatment=treatment, y=y)"
   ]
  },
  {
   "cell_type": "code",
   "execution_count": 89,
   "metadata": {
    "ExecuteTime": {
     "end_time": "2020-04-14T19:09:30.724632Z",
     "start_time": "2020-04-14T19:09:30.689302Z"
    }
   },
   "outputs": [
    {
     "data": {
      "text/plain": [
       "array([[ 0.8710196 ,  1.05108261],\n",
       "       [ 0.78783238,  0.47293699],\n",
       "       [-0.60484207, -1.58841085],\n",
       "       ...,\n",
       "       [ 0.20689231,  0.23559123],\n",
       "       [-0.43815756,  0.02434623],\n",
       "       [ 0.49013877,  0.07333577]])"
      ]
     },
     "execution_count": 89,
     "metadata": {},
     "output_type": "execute_result"
    }
   ],
   "source": [
    "cate_t"
   ]
  },
  {
   "cell_type": "markdown",
   "metadata": {},
   "source": [
    "### CATE w/ Confidence Intervals"
   ]
  },
  {
   "cell_type": "code",
   "execution_count": 90,
   "metadata": {
    "ExecuteTime": {
     "end_time": "2020-04-14T19:10:38.696792Z",
     "start_time": "2020-04-14T19:09:30.726511Z"
    }
   },
   "outputs": [
    {
     "name": "stderr",
     "output_type": "stream",
     "text": [
      "INFO:causalml:Error metrics for group treatment_a\n",
      "INFO:causalml:    RMSE   (Control):     0.5037\n",
      "INFO:causalml:    RMSE (Treatment):     0.4666\n",
      "INFO:causalml:   sMAPE   (Control):     0.5466\n",
      "INFO:causalml:   sMAPE (Treatment):     0.2684\n",
      "INFO:causalml:    Gini   (Control):     0.9109\n",
      "INFO:causalml:    Gini (Treatment):     0.9294\n",
      "INFO:causalml:Error metrics for group treatment_b\n",
      "INFO:causalml:    RMSE   (Control):     0.5037\n",
      "INFO:causalml:    RMSE (Treatment):     0.0762\n",
      "INFO:causalml:   sMAPE   (Control):     0.5466\n",
      "INFO:causalml:   sMAPE (Treatment):     0.0668\n",
      "INFO:causalml:    Gini   (Control):     0.9109\n",
      "INFO:causalml:    Gini (Treatment):     0.9984\n",
      "INFO:causalml:Bootstrap Confidence Intervals\n",
      "100%|██████████| 100/100 [01:09<00:00,  1.43it/s]\n"
     ]
    }
   ],
   "source": [
    "learner_t = BaseTRegressor(XGBRegressor(), control_name='control')\n",
    "cate_t, cate_t_lb, cate_t_ub = learner_t.fit_predict(X=X, treatment=treatment, y=y, return_ci=True, n_bootstraps=100,\n",
    "                                                    bootstrap_size=3000)"
   ]
  },
  {
   "cell_type": "code",
   "execution_count": 91,
   "metadata": {
    "ExecuteTime": {
     "end_time": "2020-04-14T19:10:38.738058Z",
     "start_time": "2020-04-14T19:10:38.698876Z"
    }
   },
   "outputs": [
    {
     "data": {
      "text/plain": [
       "array([[ 0.8710196 ,  1.05108261],\n",
       "       [ 0.78783238,  0.47293699],\n",
       "       [-0.60484207, -1.58841085],\n",
       "       ...,\n",
       "       [ 0.20689231,  0.23559123],\n",
       "       [-0.43815756,  0.02434623],\n",
       "       [ 0.49013877,  0.07333577]])"
      ]
     },
     "execution_count": 91,
     "metadata": {},
     "output_type": "execute_result"
    }
   ],
   "source": [
    "cate_t"
   ]
  },
  {
   "cell_type": "code",
   "execution_count": 92,
   "metadata": {
    "ExecuteTime": {
     "end_time": "2020-04-14T19:10:38.778042Z",
     "start_time": "2020-04-14T19:10:38.739946Z"
    }
   },
   "outputs": [
    {
     "data": {
      "text/plain": [
       "array([[-0.20293337, -0.38047023],\n",
       "       [-0.54715382, -0.71124427],\n",
       "       [-1.0054347 , -1.45525059],\n",
       "       ...,\n",
       "       [-1.06487394, -1.13718721],\n",
       "       [-1.15750725, -0.84369106],\n",
       "       [-0.80103379, -1.01834091]])"
      ]
     },
     "execution_count": 92,
     "metadata": {},
     "output_type": "execute_result"
    }
   ],
   "source": [
    "cate_t_lb"
   ]
  },
  {
   "cell_type": "code",
   "execution_count": 93,
   "metadata": {
    "ExecuteTime": {
     "end_time": "2020-04-14T19:10:38.817236Z",
     "start_time": "2020-04-14T19:10:38.780066Z"
    }
   },
   "outputs": [
    {
     "data": {
      "text/plain": [
       "array([[1.7434435 , 2.01678751],\n",
       "       [1.88592992, 1.7763956 ],\n",
       "       [2.08014303, 1.7153545 ],\n",
       "       ...,\n",
       "       [1.50827478, 1.56319493],\n",
       "       [1.21899557, 1.90980104],\n",
       "       [1.67495072, 1.50348173]])"
      ]
     },
     "execution_count": 93,
     "metadata": {},
     "output_type": "execute_result"
    }
   ],
   "source": [
    "cate_t_ub"
   ]
  },
  {
   "cell_type": "markdown",
   "metadata": {},
   "source": [
    "## X-Learner"
   ]
  },
  {
   "cell_type": "markdown",
   "metadata": {},
   "source": [
    "### ATE w/ Confidence Intervals"
   ]
  },
  {
   "cell_type": "markdown",
   "metadata": {},
   "source": [
    "#### With Propensity Score Input"
   ]
  },
  {
   "cell_type": "code",
   "execution_count": 94,
   "metadata": {
    "ExecuteTime": {
     "end_time": "2020-04-14T19:10:42.153573Z",
     "start_time": "2020-04-14T19:10:38.819233Z"
    }
   },
   "outputs": [
    {
     "name": "stderr",
     "output_type": "stream",
     "text": [
      "INFO:causalml:Error metrics for group treatment_a\n",
      "INFO:causalml:    RMSE   (Control):     0.5037\n",
      "INFO:causalml:    RMSE (Treatment):     0.4666\n",
      "INFO:causalml:   sMAPE   (Control):     0.5466\n",
      "INFO:causalml:   sMAPE (Treatment):     0.2684\n",
      "INFO:causalml:    Gini   (Control):     0.9109\n",
      "INFO:causalml:    Gini (Treatment):     0.9294\n",
      "INFO:causalml:Error metrics for group treatment_b\n",
      "INFO:causalml:    RMSE   (Control):     0.5037\n",
      "INFO:causalml:    RMSE (Treatment):     0.0762\n",
      "INFO:causalml:   sMAPE   (Control):     0.5466\n",
      "INFO:causalml:   sMAPE (Treatment):     0.0668\n",
      "INFO:causalml:    Gini   (Control):     0.9109\n",
      "INFO:causalml:    Gini (Treatment):     0.9984\n"
     ]
    }
   ],
   "source": [
    "learner_x = BaseXRegressor(XGBRegressor(), control_name='control')\n",
    "ate_x, ate_x_lb, ate_x_ub = learner_x.estimate_ate(X=X, treatment=treatment, y=y, p=e)"
   ]
  },
  {
   "cell_type": "code",
   "execution_count": 95,
   "metadata": {
    "ExecuteTime": {
     "end_time": "2020-04-14T19:10:42.191367Z",
     "start_time": "2020-04-14T19:10:42.155488Z"
    }
   },
   "outputs": [
    {
     "data": {
      "text/plain": [
       "array([[0.52135082, 0.40763892],\n",
       "       [0.54410916, 0.4282452 ],\n",
       "       [0.56686751, 0.44885148]])"
      ]
     },
     "execution_count": 95,
     "metadata": {},
     "output_type": "execute_result"
    }
   ],
   "source": [
    "np.vstack((ate_x_lb, ate_x, ate_x_ub))"
   ]
  },
  {
   "cell_type": "markdown",
   "metadata": {},
   "source": [
    "#### Without Propensity Score Input"
   ]
  },
  {
   "cell_type": "code",
   "execution_count": 96,
   "metadata": {
    "ExecuteTime": {
     "end_time": "2020-04-14T19:10:46.431322Z",
     "start_time": "2020-04-14T19:10:42.193271Z"
    }
   },
   "outputs": [
    {
     "name": "stderr",
     "output_type": "stream",
     "text": [
      "INFO:causalml:Generating propensity score\n",
      "INFO:causalml:Calibrating propensity scores.\n",
      "INFO:causalml:Calibrating propensity scores.\n",
      "INFO:causalml:Error metrics for group treatment_a\n",
      "INFO:causalml:    RMSE   (Control):     0.5037\n",
      "INFO:causalml:    RMSE (Treatment):     0.4666\n",
      "INFO:causalml:   sMAPE   (Control):     0.5466\n",
      "INFO:causalml:   sMAPE (Treatment):     0.2684\n",
      "INFO:causalml:    Gini   (Control):     0.9109\n",
      "INFO:causalml:    Gini (Treatment):     0.9294\n",
      "INFO:causalml:Error metrics for group treatment_b\n",
      "INFO:causalml:    RMSE   (Control):     0.5037\n",
      "INFO:causalml:    RMSE (Treatment):     0.0762\n",
      "INFO:causalml:   sMAPE   (Control):     0.5466\n",
      "INFO:causalml:   sMAPE (Treatment):     0.0668\n",
      "INFO:causalml:    Gini   (Control):     0.9109\n",
      "INFO:causalml:    Gini (Treatment):     0.9984\n"
     ]
    }
   ],
   "source": [
    "ate_x_no_p, ate_x_lb_no_p, ate_x_ub_no_p = learner_x.estimate_ate(X=X, treatment=treatment, y=y)"
   ]
  },
  {
   "cell_type": "code",
   "execution_count": 97,
   "metadata": {
    "ExecuteTime": {
     "end_time": "2020-04-14T19:10:46.467980Z",
     "start_time": "2020-04-14T19:10:46.433128Z"
    }
   },
   "outputs": [
    {
     "data": {
      "text/plain": [
       "array([[0.52745731, 0.44514185],\n",
       "       [0.5502046 , 0.46688824],\n",
       "       [0.5729519 , 0.48863463]])"
      ]
     },
     "execution_count": 97,
     "metadata": {},
     "output_type": "execute_result"
    }
   ],
   "source": [
    "np.vstack((ate_x_lb_no_p, ate_x_no_p, ate_x_ub_no_p))"
   ]
  },
  {
   "cell_type": "markdown",
   "metadata": {},
   "source": [
    "### ATE w/ Boostrap Confidence Intervals"
   ]
  },
  {
   "cell_type": "markdown",
   "metadata": {},
   "source": [
    "#### With Propensity Score Input"
   ]
  },
  {
   "cell_type": "code",
   "execution_count": 98,
   "metadata": {
    "ExecuteTime": {
     "end_time": "2020-04-14T19:13:45.310480Z",
     "start_time": "2020-04-14T19:10:46.469940Z"
    }
   },
   "outputs": [
    {
     "name": "stderr",
     "output_type": "stream",
     "text": [
      "INFO:causalml:Error metrics for group treatment_a\n",
      "INFO:causalml:    RMSE   (Control):     0.5037\n",
      "INFO:causalml:    RMSE (Treatment):     0.4666\n",
      "INFO:causalml:   sMAPE   (Control):     0.5466\n",
      "INFO:causalml:   sMAPE (Treatment):     0.2684\n",
      "INFO:causalml:    Gini   (Control):     0.9109\n",
      "INFO:causalml:    Gini (Treatment):     0.9294\n",
      "INFO:causalml:Error metrics for group treatment_b\n",
      "INFO:causalml:    RMSE   (Control):     0.5037\n",
      "INFO:causalml:    RMSE (Treatment):     0.0762\n",
      "INFO:causalml:   sMAPE   (Control):     0.5466\n",
      "INFO:causalml:   sMAPE (Treatment):     0.0668\n",
      "INFO:causalml:    Gini   (Control):     0.9109\n",
      "INFO:causalml:    Gini (Treatment):     0.9984\n",
      "INFO:causalml:Bootstrap Confidence Intervals for ATE\n",
      "100%|██████████| 100/100 [03:37<00:00,  2.18s/it]\n"
     ]
    }
   ],
   "source": [
    "ate_x_b, ate_x_lb_b, ate_x_ub_b = learner_x.estimate_ate(X=X, treatment=treatment, y=y, p=e, bootstrap_ci=True,\n",
    "                                                   n_bootstraps=100, bootstrap_size=5000)"
   ]
  },
  {
   "cell_type": "code",
   "execution_count": 99,
   "metadata": {
    "ExecuteTime": {
     "end_time": "2020-04-14T19:13:45.355233Z",
     "start_time": "2020-04-14T19:13:45.312425Z"
    }
   },
   "outputs": [
    {
     "data": {
      "text/plain": [
       "array([[0.43867581, 0.43867581],\n",
       "       [0.54410916, 0.4282452 ],\n",
       "       [0.59360317, 0.59360317]])"
      ]
     },
     "execution_count": 99,
     "metadata": {},
     "output_type": "execute_result"
    }
   ],
   "source": [
    "np.vstack((ate_x_lb_b, ate_x_b, ate_x_ub_b))"
   ]
  },
  {
   "cell_type": "markdown",
   "metadata": {},
   "source": [
    "#### Without Propensity Score Input"
   ]
  },
  {
   "cell_type": "code",
   "execution_count": 100,
   "metadata": {
    "ExecuteTime": {
     "end_time": "2020-04-14T19:16:44.130037Z",
     "start_time": "2020-04-14T19:13:45.357393Z"
    }
   },
   "outputs": [
    {
     "name": "stderr",
     "output_type": "stream",
     "text": [
      "INFO:causalml:Generating propensity score\n",
      "INFO:causalml:Calibrating propensity scores.\n",
      "INFO:causalml:Calibrating propensity scores.\n",
      "INFO:causalml:Error metrics for group treatment_a\n",
      "INFO:causalml:    RMSE   (Control):     0.5037\n",
      "INFO:causalml:    RMSE (Treatment):     0.4666\n",
      "INFO:causalml:   sMAPE   (Control):     0.5466\n",
      "INFO:causalml:   sMAPE (Treatment):     0.2684\n",
      "INFO:causalml:    Gini   (Control):     0.9109\n",
      "INFO:causalml:    Gini (Treatment):     0.9294\n",
      "INFO:causalml:Error metrics for group treatment_b\n",
      "INFO:causalml:    RMSE   (Control):     0.5037\n",
      "INFO:causalml:    RMSE (Treatment):     0.0762\n",
      "INFO:causalml:   sMAPE   (Control):     0.5466\n",
      "INFO:causalml:   sMAPE (Treatment):     0.0668\n",
      "INFO:causalml:    Gini   (Control):     0.9109\n",
      "INFO:causalml:    Gini (Treatment):     0.9984\n",
      "INFO:causalml:Bootstrap Confidence Intervals for ATE\n",
      "100%|██████████| 100/100 [04:01<00:00,  2.41s/it]\n"
     ]
    }
   ],
   "source": [
    "ate_x_b_no_p, ate_x_lb_b_no_p, ate_x_ub_b_no_p = learner_x.estimate_ate(X=X, treatment=treatment, y=y, bootstrap_ci=True,\n",
    "                                                   n_bootstraps=100, bootstrap_size=5000)"
   ]
  },
  {
   "cell_type": "code",
   "execution_count": 101,
   "metadata": {
    "ExecuteTime": {
     "end_time": "2020-04-14T19:16:44.187331Z",
     "start_time": "2020-04-14T19:16:44.132067Z"
    }
   },
   "outputs": [
    {
     "data": {
      "text/plain": [
       "array([[0.44339043, 0.44339043],\n",
       "       [0.5502046 , 0.46688824],\n",
       "       [0.6086471 , 0.6086471 ]])"
      ]
     },
     "execution_count": 101,
     "metadata": {},
     "output_type": "execute_result"
    }
   ],
   "source": [
    "np.vstack((ate_x_lb_b_no_p, ate_x_b_no_p, ate_x_ub_b_no_p))"
   ]
  },
  {
   "cell_type": "markdown",
   "metadata": {},
   "source": [
    "### CATE"
   ]
  },
  {
   "cell_type": "markdown",
   "metadata": {},
   "source": [
    "#### With Propensity Score Input"
   ]
  },
  {
   "cell_type": "code",
   "execution_count": 102,
   "metadata": {
    "ExecuteTime": {
     "end_time": "2020-04-14T19:16:47.515109Z",
     "start_time": "2020-04-14T19:16:44.189448Z"
    }
   },
   "outputs": [
    {
     "name": "stderr",
     "output_type": "stream",
     "text": [
      "INFO:causalml:Error metrics for group treatment_a\n",
      "INFO:causalml:    RMSE   (Control):     0.5037\n",
      "INFO:causalml:    RMSE (Treatment):     0.4666\n",
      "INFO:causalml:   sMAPE   (Control):     0.5466\n",
      "INFO:causalml:   sMAPE (Treatment):     0.2684\n",
      "INFO:causalml:    Gini   (Control):     0.9109\n",
      "INFO:causalml:    Gini (Treatment):     0.9294\n",
      "INFO:causalml:Error metrics for group treatment_b\n",
      "INFO:causalml:    RMSE   (Control):     0.5037\n",
      "INFO:causalml:    RMSE (Treatment):     0.0762\n",
      "INFO:causalml:   sMAPE   (Control):     0.5466\n",
      "INFO:causalml:   sMAPE (Treatment):     0.0668\n",
      "INFO:causalml:    Gini   (Control):     0.9109\n",
      "INFO:causalml:    Gini (Treatment):     0.9984\n"
     ]
    }
   ],
   "source": [
    "learner_x = BaseXRegressor(XGBRegressor(), control_name='control')\n",
    "cate_x = learner_x.fit_predict(X=X, treatment=treatment, y=y, p=e)"
   ]
  },
  {
   "cell_type": "code",
   "execution_count": 103,
   "metadata": {
    "ExecuteTime": {
     "end_time": "2020-04-14T19:16:47.556487Z",
     "start_time": "2020-04-14T19:16:47.516863Z"
    }
   },
   "outputs": [
    {
     "data": {
      "text/plain": [
       "array([[ 0.92429681,  1.16918001],\n",
       "       [ 0.24184712,  0.13899262],\n",
       "       [ 0.40760215, -0.39269372],\n",
       "       ...,\n",
       "       [-0.11447318,  0.79922857],\n",
       "       [-0.03428511,  0.74230705],\n",
       "       [ 0.78902056,  0.14734143]])"
      ]
     },
     "execution_count": 103,
     "metadata": {},
     "output_type": "execute_result"
    }
   ],
   "source": [
    "cate_x"
   ]
  },
  {
   "cell_type": "markdown",
   "metadata": {},
   "source": [
    "#### Without Propensity Score Input"
   ]
  },
  {
   "cell_type": "code",
   "execution_count": 104,
   "metadata": {
    "ExecuteTime": {
     "end_time": "2020-04-14T19:16:51.907370Z",
     "start_time": "2020-04-14T19:16:47.558866Z"
    }
   },
   "outputs": [
    {
     "name": "stderr",
     "output_type": "stream",
     "text": [
      "INFO:causalml:Generating propensity score\n",
      "INFO:causalml:Calibrating propensity scores.\n",
      "INFO:causalml:Calibrating propensity scores.\n",
      "INFO:causalml:Error metrics for group treatment_a\n",
      "INFO:causalml:    RMSE   (Control):     0.5037\n",
      "INFO:causalml:    RMSE (Treatment):     0.4666\n",
      "INFO:causalml:   sMAPE   (Control):     0.5466\n",
      "INFO:causalml:   sMAPE (Treatment):     0.2684\n",
      "INFO:causalml:    Gini   (Control):     0.9109\n",
      "INFO:causalml:    Gini (Treatment):     0.9294\n",
      "INFO:causalml:Error metrics for group treatment_b\n",
      "INFO:causalml:    RMSE   (Control):     0.5037\n",
      "INFO:causalml:    RMSE (Treatment):     0.0762\n",
      "INFO:causalml:   sMAPE   (Control):     0.5466\n",
      "INFO:causalml:   sMAPE (Treatment):     0.0668\n",
      "INFO:causalml:    Gini   (Control):     0.9109\n",
      "INFO:causalml:    Gini (Treatment):     0.9984\n"
     ]
    }
   ],
   "source": [
    "cate_x_no_p = learner_x.fit_predict(X=X, treatment=treatment, y=y)"
   ]
  },
  {
   "cell_type": "code",
   "execution_count": 105,
   "metadata": {
    "ExecuteTime": {
     "end_time": "2020-04-14T19:16:51.951219Z",
     "start_time": "2020-04-14T19:16:51.909187Z"
    }
   },
   "outputs": [
    {
     "data": {
      "text/plain": [
       "array([[ 0.8849927 ,  1.41021664],\n",
       "       [ 0.2106727 , -0.05873892],\n",
       "       [ 0.49473852, -1.34930939],\n",
       "       ...,\n",
       "       [-0.11901176,  0.84048279],\n",
       "       [-0.03282562,  0.8382304 ],\n",
       "       [ 0.8505627 ,  0.11556134]])"
      ]
     },
     "execution_count": 105,
     "metadata": {},
     "output_type": "execute_result"
    }
   ],
   "source": [
    "cate_x_no_p"
   ]
  },
  {
   "cell_type": "markdown",
   "metadata": {},
   "source": [
    "### CATE w/ Confidence Intervals"
   ]
  },
  {
   "cell_type": "markdown",
   "metadata": {},
   "source": [
    "#### With Propensity Score Input"
   ]
  },
  {
   "cell_type": "code",
   "execution_count": 106,
   "metadata": {
    "ExecuteTime": {
     "end_time": "2020-04-14T19:17:46.988230Z",
     "start_time": "2020-04-14T19:16:51.953440Z"
    }
   },
   "outputs": [
    {
     "name": "stderr",
     "output_type": "stream",
     "text": [
      "INFO:causalml:Error metrics for group treatment_a\n",
      "INFO:causalml:    RMSE   (Control):     0.5037\n",
      "INFO:causalml:    RMSE (Treatment):     0.4666\n",
      "INFO:causalml:   sMAPE   (Control):     0.5466\n",
      "INFO:causalml:   sMAPE (Treatment):     0.2684\n",
      "INFO:causalml:    Gini   (Control):     0.9109\n",
      "INFO:causalml:    Gini (Treatment):     0.9294\n",
      "INFO:causalml:Error metrics for group treatment_b\n",
      "INFO:causalml:    RMSE   (Control):     0.5037\n",
      "INFO:causalml:    RMSE (Treatment):     0.0762\n",
      "INFO:causalml:   sMAPE   (Control):     0.5466\n",
      "INFO:causalml:   sMAPE (Treatment):     0.0668\n",
      "INFO:causalml:    Gini   (Control):     0.9109\n",
      "INFO:causalml:    Gini (Treatment):     0.9984\n",
      "INFO:causalml:Bootstrap Confidence Intervals\n",
      "100%|██████████| 100/100 [01:35<00:00,  1.05it/s]\n"
     ]
    }
   ],
   "source": [
    "learner_x = BaseXRegressor(XGBRegressor(), control_name='control')\n",
    "cate_x, cate_x_lb, cate_x_ub = learner_x.fit_predict(X=X, treatment=treatment, y=y, p=e, return_ci=True,\n",
    "                                                     n_bootstraps=100, bootstrap_size=1000)"
   ]
  },
  {
   "cell_type": "code",
   "execution_count": 107,
   "metadata": {
    "ExecuteTime": {
     "end_time": "2020-04-14T19:17:47.035158Z",
     "start_time": "2020-04-14T19:17:46.990429Z"
    }
   },
   "outputs": [
    {
     "data": {
      "text/plain": [
       "{'treatment_a': 0, 'treatment_b': 1}"
      ]
     },
     "execution_count": 107,
     "metadata": {},
     "output_type": "execute_result"
    }
   ],
   "source": [
    "learner_x._classes"
   ]
  },
  {
   "cell_type": "code",
   "execution_count": 108,
   "metadata": {
    "ExecuteTime": {
     "end_time": "2020-04-14T19:17:47.080571Z",
     "start_time": "2020-04-14T19:17:47.037415Z"
    }
   },
   "outputs": [
    {
     "data": {
      "text/plain": [
       "array([[ 0.92429681,  1.16918001],\n",
       "       [ 0.24184712,  0.13899262],\n",
       "       [ 0.40760215, -0.39269372],\n",
       "       ...,\n",
       "       [-0.11447318,  0.79922857],\n",
       "       [-0.03428511,  0.74230705],\n",
       "       [ 0.78902056,  0.14734143]])"
      ]
     },
     "execution_count": 108,
     "metadata": {},
     "output_type": "execute_result"
    }
   ],
   "source": [
    "cate_x"
   ]
  },
  {
   "cell_type": "code",
   "execution_count": 109,
   "metadata": {
    "ExecuteTime": {
     "end_time": "2020-04-14T19:17:47.125458Z",
     "start_time": "2020-04-14T19:17:47.082758Z"
    }
   },
   "outputs": [
    {
     "data": {
      "text/plain": [
       "array([[-0.18673712, -0.32953741],\n",
       "       [-0.43782282, -0.72505721],\n",
       "       [-1.00106195, -0.76799021],\n",
       "       ...,\n",
       "       [-1.20705917, -1.36107737],\n",
       "       [-0.34698897, -0.34203255],\n",
       "       [-0.63917928, -0.99268518]])"
      ]
     },
     "execution_count": 109,
     "metadata": {},
     "output_type": "execute_result"
    }
   ],
   "source": [
    "cate_x_lb"
   ]
  },
  {
   "cell_type": "code",
   "execution_count": 110,
   "metadata": {
    "ExecuteTime": {
     "end_time": "2020-04-14T19:17:47.171213Z",
     "start_time": "2020-04-14T19:17:47.127785Z"
    }
   },
   "outputs": [
    {
     "data": {
      "text/plain": [
       "array([[1.65268745, 1.60491722],\n",
       "       [1.86838738, 1.72666198],\n",
       "       [1.43481716, 1.56935688],\n",
       "       ...,\n",
       "       [1.1893953 , 1.48822278],\n",
       "       [1.33727868, 1.76713081],\n",
       "       [1.52999187, 1.46798457]])"
      ]
     },
     "execution_count": 110,
     "metadata": {},
     "output_type": "execute_result"
    }
   ],
   "source": [
    "cate_x_ub"
   ]
  },
  {
   "cell_type": "markdown",
   "metadata": {},
   "source": [
    "#### Without Propensity Score Input"
   ]
  },
  {
   "cell_type": "code",
   "execution_count": 111,
   "metadata": {
    "ExecuteTime": {
     "end_time": "2020-04-14T19:18:43.066112Z",
     "start_time": "2020-04-14T19:17:47.173533Z"
    }
   },
   "outputs": [
    {
     "name": "stderr",
     "output_type": "stream",
     "text": [
      "INFO:causalml:Generating propensity score\n",
      "INFO:causalml:Calibrating propensity scores.\n",
      "INFO:causalml:Calibrating propensity scores.\n",
      "INFO:causalml:Error metrics for group treatment_a\n",
      "INFO:causalml:    RMSE   (Control):     0.5037\n",
      "INFO:causalml:    RMSE (Treatment):     0.4666\n",
      "INFO:causalml:   sMAPE   (Control):     0.5466\n",
      "INFO:causalml:   sMAPE (Treatment):     0.2684\n",
      "INFO:causalml:    Gini   (Control):     0.9109\n",
      "INFO:causalml:    Gini (Treatment):     0.9294\n",
      "INFO:causalml:Error metrics for group treatment_b\n",
      "INFO:causalml:    RMSE   (Control):     0.5037\n",
      "INFO:causalml:    RMSE (Treatment):     0.0762\n",
      "INFO:causalml:   sMAPE   (Control):     0.5466\n",
      "INFO:causalml:   sMAPE (Treatment):     0.0668\n",
      "INFO:causalml:    Gini   (Control):     0.9109\n",
      "INFO:causalml:    Gini (Treatment):     0.9984\n",
      "INFO:causalml:Bootstrap Confidence Intervals\n",
      "100%|██████████| 100/100 [01:28<00:00,  1.13it/s]\n"
     ]
    }
   ],
   "source": [
    "cate_x_no_p, cate_x_lb_no_p, cate_x_ub_no_p = learner_x.fit_predict(X=X, treatment=treatment, y=y, return_ci=True,\n",
    "                                                     n_bootstraps=100, bootstrap_size=1000)"
   ]
  },
  {
   "cell_type": "code",
   "execution_count": 112,
   "metadata": {
    "ExecuteTime": {
     "end_time": "2020-04-14T19:18:43.114297Z",
     "start_time": "2020-04-14T19:18:43.068442Z"
    }
   },
   "outputs": [
    {
     "data": {
      "text/plain": [
       "{'treatment_a': 0, 'treatment_b': 1}"
      ]
     },
     "execution_count": 112,
     "metadata": {},
     "output_type": "execute_result"
    }
   ],
   "source": [
    "learner_x._classes"
   ]
  },
  {
   "cell_type": "code",
   "execution_count": 113,
   "metadata": {
    "ExecuteTime": {
     "end_time": "2020-04-14T19:18:43.159279Z",
     "start_time": "2020-04-14T19:18:43.116452Z"
    }
   },
   "outputs": [
    {
     "data": {
      "text/plain": [
       "array([[ 0.8849927 ,  1.41021664],\n",
       "       [ 0.2106727 , -0.05873892],\n",
       "       [ 0.49473852, -1.34930939],\n",
       "       ...,\n",
       "       [-0.11901176,  0.84048279],\n",
       "       [-0.03282562,  0.8382304 ],\n",
       "       [ 0.8505627 ,  0.11556134]])"
      ]
     },
     "execution_count": 113,
     "metadata": {},
     "output_type": "execute_result"
    }
   ],
   "source": [
    "cate_x_no_p"
   ]
  },
  {
   "cell_type": "code",
   "execution_count": 114,
   "metadata": {
    "ExecuteTime": {
     "end_time": "2020-04-14T19:18:43.206463Z",
     "start_time": "2020-04-14T19:18:43.162141Z"
    }
   },
   "outputs": [
    {
     "data": {
      "text/plain": [
       "array([[-0.12018011, -0.11233023],\n",
       "       [-0.77945061, -0.73538064],\n",
       "       [-0.47392431, -0.70754141],\n",
       "       ...,\n",
       "       [-0.85895971, -0.93429837],\n",
       "       [-0.414727  , -0.74518244],\n",
       "       [-0.72130947, -0.98566436]])"
      ]
     },
     "execution_count": 114,
     "metadata": {},
     "output_type": "execute_result"
    }
   ],
   "source": [
    "cate_x_lb_no_p"
   ]
  },
  {
   "cell_type": "code",
   "execution_count": 115,
   "metadata": {
    "ExecuteTime": {
     "end_time": "2020-04-14T19:18:43.251400Z",
     "start_time": "2020-04-14T19:18:43.208825Z"
    }
   },
   "outputs": [
    {
     "data": {
      "text/plain": [
       "array([[1.61259223, 1.97972922],\n",
       "       [1.53680045, 1.59421014],\n",
       "       [1.62171704, 2.11348523],\n",
       "       ...,\n",
       "       [1.42519529, 1.43087704],\n",
       "       [1.41314802, 1.76657001],\n",
       "       [1.32913125, 1.48764182]])"
      ]
     },
     "execution_count": 115,
     "metadata": {},
     "output_type": "execute_result"
    }
   ],
   "source": [
    "cate_x_ub_no_p"
   ]
  },
  {
   "cell_type": "markdown",
   "metadata": {},
   "source": [
    "## R-Learner"
   ]
  },
  {
   "cell_type": "markdown",
   "metadata": {},
   "source": [
    "### ATE w/ Confidence Intervals"
   ]
  },
  {
   "cell_type": "markdown",
   "metadata": {},
   "source": [
    "#### With Propensity Score Input"
   ]
  },
  {
   "cell_type": "code",
   "execution_count": 116,
   "metadata": {
    "ExecuteTime": {
     "end_time": "2020-04-14T19:18:49.522197Z",
     "start_time": "2020-04-14T19:18:43.253881Z"
    }
   },
   "outputs": [
    {
     "name": "stderr",
     "output_type": "stream",
     "text": [
      "INFO:causalml:generating out-of-fold CV outcome estimates\n"
     ]
    },
    {
     "name": "stderr",
     "output_type": "stream",
     "text": [
      "INFO:causalml:training the treatment effect model for treatment_a with R-loss\n",
      "INFO:causalml:training the treatment effect model for treatment_b with R-loss\n"
     ]
    }
   ],
   "source": [
    "learner_r = BaseRRegressor(XGBRegressor(), control_name='control')\n",
    "ate_r, ate_r_lb, ate_r_ub = learner_r.estimate_ate(X=X, treatment=treatment, y=y, p=e)"
   ]
  },
  {
   "cell_type": "code",
   "execution_count": 117,
   "metadata": {
    "ExecuteTime": {
     "end_time": "2020-04-14T19:18:49.569287Z",
     "start_time": "2020-04-14T19:18:49.524357Z"
    }
   },
   "outputs": [
    {
     "data": {
      "text/plain": [
       "array([[0.5124421 , 0.45701203],\n",
       "       [0.51291047, 0.4577127 ],\n",
       "       [0.51337884, 0.45841336]])"
      ]
     },
     "execution_count": 117,
     "metadata": {},
     "output_type": "execute_result"
    }
   ],
   "source": [
    "np.vstack((ate_r_lb, ate_r, ate_r_ub))"
   ]
  },
  {
   "cell_type": "markdown",
   "metadata": {},
   "source": [
    "#### Without Propensity Score Input"
   ]
  },
  {
   "cell_type": "code",
   "execution_count": 118,
   "metadata": {
    "ExecuteTime": {
     "end_time": "2020-04-14T19:18:54.689767Z",
     "start_time": "2020-04-14T19:18:49.571426Z"
    }
   },
   "outputs": [
    {
     "name": "stderr",
     "output_type": "stream",
     "text": [
      "INFO:causalml:Generating propensity score\n",
      "INFO:causalml:Calibrating propensity scores.\n",
      "INFO:causalml:Calibrating propensity scores.\n",
      "INFO:causalml:generating out-of-fold CV outcome estimates\n",
      "INFO:causalml:training the treatment effect model for treatment_a with R-loss\n",
      "INFO:causalml:training the treatment effect model for treatment_b with R-loss\n"
     ]
    }
   ],
   "source": [
    "learner_r = BaseRRegressor(XGBRegressor(), control_name='control')\n",
    "ate_r_no_p, ate_r_lb_no_p, ate_r_ub_no_p = learner_r.estimate_ate(X=X, treatment=treatment, y=y)"
   ]
  },
  {
   "cell_type": "code",
   "execution_count": 119,
   "metadata": {
    "ExecuteTime": {
     "end_time": "2020-04-14T19:18:54.730346Z",
     "start_time": "2020-04-14T19:18:54.691652Z"
    }
   },
   "outputs": [
    {
     "data": {
      "text/plain": [
       "array([[0.44162624, 0.57781926],\n",
       "       [0.44209413, 0.57851711],\n",
       "       [0.44256202, 0.57921496]])"
      ]
     },
     "execution_count": 119,
     "metadata": {},
     "output_type": "execute_result"
    }
   ],
   "source": [
    "np.vstack((ate_r_lb_no_p, ate_r_no_p, ate_r_ub_no_p))"
   ]
  },
  {
   "cell_type": "code",
   "execution_count": 120,
   "metadata": {
    "ExecuteTime": {
     "end_time": "2020-04-14T19:18:54.779756Z",
     "start_time": "2020-04-14T19:18:54.732335Z"
    }
   },
   "outputs": [
    {
     "data": {
      "text/plain": [
       "{'treatment_a': LogisticRegressionCV(Cs=array([1.00230524, 2.15608891, 4.63802765, 9.97700064]),\n",
       "                      cv=StratifiedKFold(n_splits=4, random_state=42, shuffle=True),\n",
       "                      l1_ratios=array([0.001     , 0.33366667, 0.66633333, 0.999     ]),\n",
       "                      penalty='elasticnet', random_state=42, solver='saga'),\n",
       " 'treatment_b': LogisticRegressionCV(Cs=array([1.00230524, 2.15608891, 4.63802765, 9.97700064]),\n",
       "                      cv=StratifiedKFold(n_splits=4, random_state=42, shuffle=True),\n",
       "                      l1_ratios=array([0.001     , 0.33366667, 0.66633333, 0.999     ]),\n",
       "                      penalty='elasticnet', random_state=42, solver='saga')}"
      ]
     },
     "execution_count": 120,
     "metadata": {},
     "output_type": "execute_result"
    }
   ],
   "source": [
    "learner_r.propensity_model"
   ]
  },
  {
   "cell_type": "markdown",
   "metadata": {},
   "source": [
    "### ATE w/ Boostrap Confidence Intervals"
   ]
  },
  {
   "cell_type": "markdown",
   "metadata": {},
   "source": [
    "#### With Propensity Score Input"
   ]
  },
  {
   "cell_type": "code",
   "execution_count": 121,
   "metadata": {
    "ExecuteTime": {
     "end_time": "2020-04-14T19:21:17.612601Z",
     "start_time": "2020-04-14T19:18:54.781916Z"
    }
   },
   "outputs": [
    {
     "name": "stderr",
     "output_type": "stream",
     "text": [
      "INFO:causalml:generating out-of-fold CV outcome estimates\n",
      "INFO:causalml:training the treatment effect model for treatment_a with R-loss\n",
      "INFO:causalml:training the treatment effect model for treatment_b with R-loss\n",
      "INFO:causalml:Bootstrap Confidence Intervals for ATE\n",
      "  0%|          | 0/100 [00:00<?, ?it/s]INFO:causalml:generating out-of-fold CV outcome estimates\n",
      "INFO:causalml:training the treatment effect model for treatment_a with R-loss\n",
      "INFO:causalml:training the treatment effect model for treatment_b with R-loss\n",
      "  1%|          | 1/100 [00:01<02:16,  1.38s/it]INFO:causalml:generating out-of-fold CV outcome estimates\n",
      "INFO:causalml:training the treatment effect model for treatment_a with R-loss\n",
      "INFO:causalml:training the treatment effect model for treatment_b with R-loss\n",
      "  2%|▏         | 2/100 [00:02<02:15,  1.39s/it]INFO:causalml:generating out-of-fold CV outcome estimates\n",
      "INFO:causalml:training the treatment effect model for treatment_a with R-loss\n",
      "INFO:causalml:training the treatment effect model for treatment_b with R-loss\n",
      "  3%|▎         | 3/100 [00:05<03:03,  1.90s/it]INFO:causalml:generating out-of-fold CV outcome estimates\n",
      "INFO:causalml:training the treatment effect model for treatment_a with R-loss\n",
      "INFO:causalml:training the treatment effect model for treatment_b with R-loss\n",
      "  4%|▍         | 4/100 [00:06<02:44,  1.72s/it]INFO:causalml:generating out-of-fold CV outcome estimates\n",
      "INFO:causalml:training the treatment effect model for treatment_a with R-loss\n",
      "INFO:causalml:training the treatment effect model for treatment_b with R-loss\n",
      "  5%|▌         | 5/100 [00:08<03:02,  1.92s/it]INFO:causalml:generating out-of-fold CV outcome estimates\n",
      "INFO:causalml:training the treatment effect model for treatment_a with R-loss\n",
      "INFO:causalml:training the treatment effect model for treatment_b with R-loss\n",
      "  6%|▌         | 6/100 [00:10<02:46,  1.77s/it]INFO:causalml:generating out-of-fold CV outcome estimates\n",
      "INFO:causalml:training the treatment effect model for treatment_a with R-loss\n",
      "INFO:causalml:training the treatment effect model for treatment_b with R-loss\n",
      "  7%|▋         | 7/100 [00:12<03:00,  1.94s/it]INFO:causalml:generating out-of-fold CV outcome estimates\n",
      "INFO:causalml:training the treatment effect model for treatment_a with R-loss\n",
      "INFO:causalml:training the treatment effect model for treatment_b with R-loss\n",
      "  8%|▊         | 8/100 [00:14<02:52,  1.87s/it]INFO:causalml:generating out-of-fold CV outcome estimates\n",
      "INFO:causalml:training the treatment effect model for treatment_a with R-loss\n",
      "INFO:causalml:training the treatment effect model for treatment_b with R-loss\n",
      "  9%|▉         | 9/100 [00:16<02:57,  1.95s/it]INFO:causalml:generating out-of-fold CV outcome estimates\n",
      "INFO:causalml:training the treatment effect model for treatment_a with R-loss\n",
      "INFO:causalml:training the treatment effect model for treatment_b with R-loss\n",
      " 10%|█         | 10/100 [00:18<02:51,  1.91s/it]INFO:causalml:generating out-of-fold CV outcome estimates\n",
      "INFO:causalml:training the treatment effect model for treatment_a with R-loss\n",
      "INFO:causalml:training the treatment effect model for treatment_b with R-loss\n",
      " 11%|█         | 11/100 [00:20<02:48,  1.90s/it]INFO:causalml:generating out-of-fold CV outcome estimates\n",
      "INFO:causalml:training the treatment effect model for treatment_a with R-loss\n",
      "INFO:causalml:training the treatment effect model for treatment_b with R-loss\n",
      " 12%|█▏        | 12/100 [00:22<02:48,  1.92s/it]INFO:causalml:generating out-of-fold CV outcome estimates\n",
      "INFO:causalml:training the treatment effect model for treatment_a with R-loss\n",
      "INFO:causalml:training the treatment effect model for treatment_b with R-loss\n",
      " 13%|█▎        | 13/100 [00:25<03:09,  2.18s/it]INFO:causalml:generating out-of-fold CV outcome estimates\n",
      "INFO:causalml:training the treatment effect model for treatment_a with R-loss\n",
      "INFO:causalml:training the treatment effect model for treatment_b with R-loss\n",
      " 14%|█▍        | 14/100 [00:26<02:56,  2.05s/it]INFO:causalml:generating out-of-fold CV outcome estimates\n",
      "INFO:causalml:training the treatment effect model for treatment_a with R-loss\n",
      "INFO:causalml:training the treatment effect model for treatment_b with R-loss\n",
      " 15%|█▌        | 15/100 [00:28<02:42,  1.92s/it]INFO:causalml:generating out-of-fold CV outcome estimates\n",
      "INFO:causalml:training the treatment effect model for treatment_a with R-loss\n",
      "INFO:causalml:training the treatment effect model for treatment_b with R-loss\n",
      " 16%|█▌        | 16/100 [00:30<02:39,  1.90s/it]INFO:causalml:generating out-of-fold CV outcome estimates\n",
      "INFO:causalml:training the treatment effect model for treatment_a with R-loss\n",
      "INFO:causalml:training the treatment effect model for treatment_b with R-loss\n",
      " 17%|█▋        | 17/100 [00:31<02:30,  1.82s/it]INFO:causalml:generating out-of-fold CV outcome estimates\n",
      "INFO:causalml:training the treatment effect model for treatment_a with R-loss\n",
      "INFO:causalml:training the treatment effect model for treatment_b with R-loss\n",
      " 18%|█▊        | 18/100 [00:33<02:25,  1.77s/it]INFO:causalml:generating out-of-fold CV outcome estimates\n",
      "INFO:causalml:training the treatment effect model for treatment_a with R-loss\n",
      "INFO:causalml:training the treatment effect model for treatment_b with R-loss\n",
      " 19%|█▉        | 19/100 [00:35<02:31,  1.87s/it]INFO:causalml:generating out-of-fold CV outcome estimates\n",
      "INFO:causalml:training the treatment effect model for treatment_a with R-loss\n",
      "INFO:causalml:training the treatment effect model for treatment_b with R-loss\n",
      " 20%|██        | 20/100 [00:37<02:23,  1.79s/it]INFO:causalml:generating out-of-fold CV outcome estimates\n",
      "INFO:causalml:training the treatment effect model for treatment_a with R-loss\n",
      "INFO:causalml:training the treatment effect model for treatment_b with R-loss\n",
      " 21%|██        | 21/100 [00:39<02:25,  1.85s/it]INFO:causalml:generating out-of-fold CV outcome estimates\n",
      "INFO:causalml:training the treatment effect model for treatment_a with R-loss\n",
      "INFO:causalml:training the treatment effect model for treatment_b with R-loss\n",
      " 22%|██▏       | 22/100 [00:40<02:20,  1.80s/it]INFO:causalml:generating out-of-fold CV outcome estimates\n",
      "INFO:causalml:training the treatment effect model for treatment_a with R-loss\n",
      "INFO:causalml:training the treatment effect model for treatment_b with R-loss\n",
      " 23%|██▎       | 23/100 [00:42<02:13,  1.73s/it]INFO:causalml:generating out-of-fold CV outcome estimates\n",
      "INFO:causalml:training the treatment effect model for treatment_a with R-loss\n",
      "INFO:causalml:training the treatment effect model for treatment_b with R-loss\n",
      " 24%|██▍       | 24/100 [00:45<02:29,  1.97s/it]INFO:causalml:generating out-of-fold CV outcome estimates\n",
      "INFO:causalml:training the treatment effect model for treatment_a with R-loss\n",
      "INFO:causalml:training the treatment effect model for treatment_b with R-loss\n",
      " 25%|██▌       | 25/100 [00:46<02:21,  1.88s/it]INFO:causalml:generating out-of-fold CV outcome estimates\n",
      "INFO:causalml:training the treatment effect model for treatment_a with R-loss\n",
      "INFO:causalml:training the treatment effect model for treatment_b with R-loss\n",
      " 26%|██▌       | 26/100 [00:48<02:27,  1.99s/it]INFO:causalml:generating out-of-fold CV outcome estimates\n",
      "INFO:causalml:training the treatment effect model for treatment_a with R-loss\n",
      "INFO:causalml:training the treatment effect model for treatment_b with R-loss\n",
      " 27%|██▋       | 27/100 [00:50<02:13,  1.84s/it]INFO:causalml:generating out-of-fold CV outcome estimates\n",
      "INFO:causalml:training the treatment effect model for treatment_a with R-loss\n",
      "INFO:causalml:training the treatment effect model for treatment_b with R-loss\n",
      " 28%|██▊       | 28/100 [00:51<02:05,  1.75s/it]INFO:causalml:generating out-of-fold CV outcome estimates\n",
      "INFO:causalml:training the treatment effect model for treatment_a with R-loss\n",
      "INFO:causalml:training the treatment effect model for treatment_b with R-loss\n",
      " 29%|██▉       | 29/100 [00:54<02:18,  1.95s/it]INFO:causalml:generating out-of-fold CV outcome estimates\n",
      "INFO:causalml:training the treatment effect model for treatment_a with R-loss\n",
      "INFO:causalml:training the treatment effect model for treatment_b with R-loss\n",
      " 30%|███       | 30/100 [00:55<02:08,  1.84s/it]INFO:causalml:generating out-of-fold CV outcome estimates\n",
      "INFO:causalml:training the treatment effect model for treatment_a with R-loss\n",
      "INFO:causalml:training the treatment effect model for treatment_b with R-loss\n",
      " 31%|███       | 31/100 [00:57<02:00,  1.74s/it]INFO:causalml:generating out-of-fold CV outcome estimates\n",
      "INFO:causalml:training the treatment effect model for treatment_a with R-loss\n",
      "INFO:causalml:training the treatment effect model for treatment_b with R-loss\n",
      " 32%|███▏      | 32/100 [00:58<01:52,  1.66s/it]INFO:causalml:generating out-of-fold CV outcome estimates\n",
      "INFO:causalml:training the treatment effect model for treatment_a with R-loss\n",
      "INFO:causalml:training the treatment effect model for treatment_b with R-loss\n",
      " 33%|███▎      | 33/100 [01:00<01:47,  1.60s/it]INFO:causalml:generating out-of-fold CV outcome estimates\n",
      "INFO:causalml:training the treatment effect model for treatment_a with R-loss\n",
      "INFO:causalml:training the treatment effect model for treatment_b with R-loss\n",
      " 34%|███▍      | 34/100 [01:01<01:42,  1.56s/it]INFO:causalml:generating out-of-fold CV outcome estimates\n",
      "INFO:causalml:training the treatment effect model for treatment_a with R-loss\n",
      "INFO:causalml:training the treatment effect model for treatment_b with R-loss\n",
      " 35%|███▌      | 35/100 [01:03<01:44,  1.61s/it]INFO:causalml:generating out-of-fold CV outcome estimates\n",
      "INFO:causalml:training the treatment effect model for treatment_a with R-loss\n",
      "INFO:causalml:training the treatment effect model for treatment_b with R-loss\n",
      " 36%|███▌      | 36/100 [01:05<01:42,  1.60s/it]INFO:causalml:generating out-of-fold CV outcome estimates\n",
      "INFO:causalml:training the treatment effect model for treatment_a with R-loss\n",
      "INFO:causalml:training the treatment effect model for treatment_b with R-loss\n",
      " 37%|███▋      | 37/100 [01:06<01:38,  1.57s/it]INFO:causalml:generating out-of-fold CV outcome estimates\n",
      "INFO:causalml:training the treatment effect model for treatment_a with R-loss\n",
      "INFO:causalml:training the treatment effect model for treatment_b with R-loss\n",
      " 38%|███▊      | 38/100 [01:08<01:34,  1.53s/it]INFO:causalml:generating out-of-fold CV outcome estimates\n",
      "INFO:causalml:training the treatment effect model for treatment_a with R-loss\n",
      "INFO:causalml:training the treatment effect model for treatment_b with R-loss\n",
      " 39%|███▉      | 39/100 [01:09<01:34,  1.55s/it]INFO:causalml:generating out-of-fold CV outcome estimates\n",
      "INFO:causalml:training the treatment effect model for treatment_a with R-loss\n",
      "INFO:causalml:training the treatment effect model for treatment_b with R-loss\n",
      " 40%|████      | 40/100 [01:11<01:42,  1.71s/it]INFO:causalml:generating out-of-fold CV outcome estimates\n",
      "INFO:causalml:training the treatment effect model for treatment_a with R-loss\n",
      "INFO:causalml:training the treatment effect model for treatment_b with R-loss\n",
      " 41%|████      | 41/100 [01:13<01:39,  1.69s/it]INFO:causalml:generating out-of-fold CV outcome estimates\n",
      "INFO:causalml:training the treatment effect model for treatment_a with R-loss\n",
      "INFO:causalml:training the treatment effect model for treatment_b with R-loss\n",
      " 42%|████▏     | 42/100 [01:16<01:53,  1.96s/it]INFO:causalml:generating out-of-fold CV outcome estimates\n",
      "INFO:causalml:training the treatment effect model for treatment_a with R-loss\n",
      "INFO:causalml:training the treatment effect model for treatment_b with R-loss\n",
      " 43%|████▎     | 43/100 [01:18<01:58,  2.08s/it]INFO:causalml:generating out-of-fold CV outcome estimates\n",
      "INFO:causalml:training the treatment effect model for treatment_a with R-loss\n",
      "INFO:causalml:training the treatment effect model for treatment_b with R-loss\n",
      " 44%|████▍     | 44/100 [01:20<02:00,  2.15s/it]INFO:causalml:generating out-of-fold CV outcome estimates\n",
      "INFO:causalml:training the treatment effect model for treatment_a with R-loss\n",
      "INFO:causalml:training the treatment effect model for treatment_b with R-loss\n",
      " 45%|████▌     | 45/100 [01:22<01:52,  2.05s/it]INFO:causalml:generating out-of-fold CV outcome estimates\n",
      "INFO:causalml:training the treatment effect model for treatment_a with R-loss\n",
      "INFO:causalml:training the treatment effect model for treatment_b with R-loss\n",
      " 46%|████▌     | 46/100 [01:24<01:48,  2.00s/it]INFO:causalml:generating out-of-fold CV outcome estimates\n",
      "INFO:causalml:training the treatment effect model for treatment_a with R-loss\n",
      "INFO:causalml:training the treatment effect model for treatment_b with R-loss\n",
      " 47%|████▋     | 47/100 [01:25<01:38,  1.87s/it]INFO:causalml:generating out-of-fold CV outcome estimates\n",
      "INFO:causalml:training the treatment effect model for treatment_a with R-loss\n",
      "INFO:causalml:training the treatment effect model for treatment_b with R-loss\n",
      " 48%|████▊     | 48/100 [01:27<01:32,  1.78s/it]INFO:causalml:generating out-of-fold CV outcome estimates\n",
      "INFO:causalml:training the treatment effect model for treatment_a with R-loss\n",
      "INFO:causalml:training the treatment effect model for treatment_b with R-loss\n",
      " 49%|████▉     | 49/100 [01:29<01:31,  1.80s/it]INFO:causalml:generating out-of-fold CV outcome estimates\n",
      "INFO:causalml:training the treatment effect model for treatment_a with R-loss\n",
      "INFO:causalml:training the treatment effect model for treatment_b with R-loss\n",
      " 50%|█████     | 50/100 [01:31<01:33,  1.87s/it]INFO:causalml:generating out-of-fold CV outcome estimates\n",
      "INFO:causalml:training the treatment effect model for treatment_a with R-loss\n",
      "INFO:causalml:training the treatment effect model for treatment_b with R-loss\n",
      " 51%|█████     | 51/100 [01:32<01:27,  1.79s/it]INFO:causalml:generating out-of-fold CV outcome estimates\n",
      "INFO:causalml:training the treatment effect model for treatment_a with R-loss\n",
      "INFO:causalml:training the treatment effect model for treatment_b with R-loss\n",
      " 52%|█████▏    | 52/100 [01:34<01:23,  1.74s/it]INFO:causalml:generating out-of-fold CV outcome estimates\n",
      "INFO:causalml:training the treatment effect model for treatment_a with R-loss\n",
      "INFO:causalml:training the treatment effect model for treatment_b with R-loss\n",
      " 53%|█████▎    | 53/100 [01:36<01:19,  1.69s/it]INFO:causalml:generating out-of-fold CV outcome estimates\n",
      "INFO:causalml:training the treatment effect model for treatment_a with R-loss\n",
      "INFO:causalml:training the treatment effect model for treatment_b with R-loss\n",
      " 54%|█████▍    | 54/100 [01:37<01:18,  1.70s/it]INFO:causalml:generating out-of-fold CV outcome estimates\n",
      "INFO:causalml:training the treatment effect model for treatment_a with R-loss\n",
      "INFO:causalml:training the treatment effect model for treatment_b with R-loss\n",
      " 55%|█████▌    | 55/100 [01:40<01:25,  1.89s/it]INFO:causalml:generating out-of-fold CV outcome estimates\n",
      "INFO:causalml:training the treatment effect model for treatment_a with R-loss\n",
      "INFO:causalml:training the treatment effect model for treatment_b with R-loss\n",
      " 56%|█████▌    | 56/100 [01:41<01:20,  1.83s/it]INFO:causalml:generating out-of-fold CV outcome estimates\n",
      "INFO:causalml:training the treatment effect model for treatment_a with R-loss\n",
      "INFO:causalml:training the treatment effect model for treatment_b with R-loss\n",
      " 57%|█████▋    | 57/100 [01:43<01:16,  1.78s/it]INFO:causalml:generating out-of-fold CV outcome estimates\n",
      "INFO:causalml:training the treatment effect model for treatment_a with R-loss\n",
      "INFO:causalml:training the treatment effect model for treatment_b with R-loss\n",
      " 58%|█████▊    | 58/100 [01:45<01:13,  1.75s/it]INFO:causalml:generating out-of-fold CV outcome estimates\n",
      "INFO:causalml:training the treatment effect model for treatment_a with R-loss\n",
      "INFO:causalml:training the treatment effect model for treatment_b with R-loss\n",
      " 59%|█████▉    | 59/100 [01:47<01:19,  1.94s/it]INFO:causalml:generating out-of-fold CV outcome estimates\n",
      "INFO:causalml:training the treatment effect model for treatment_a with R-loss\n",
      "INFO:causalml:training the treatment effect model for treatment_b with R-loss\n",
      " 60%|██████    | 60/100 [01:49<01:15,  1.88s/it]INFO:causalml:generating out-of-fold CV outcome estimates\n",
      "INFO:causalml:training the treatment effect model for treatment_a with R-loss\n",
      "INFO:causalml:training the treatment effect model for treatment_b with R-loss\n",
      " 61%|██████    | 61/100 [01:52<01:23,  2.15s/it]INFO:causalml:generating out-of-fold CV outcome estimates\n",
      "INFO:causalml:training the treatment effect model for treatment_a with R-loss\n",
      "INFO:causalml:training the treatment effect model for treatment_b with R-loss\n",
      " 62%|██████▏   | 62/100 [01:53<01:16,  2.00s/it]INFO:causalml:generating out-of-fold CV outcome estimates\n",
      "INFO:causalml:training the treatment effect model for treatment_a with R-loss\n",
      "INFO:causalml:training the treatment effect model for treatment_b with R-loss\n",
      " 63%|██████▎   | 63/100 [01:55<01:09,  1.88s/it]INFO:causalml:generating out-of-fold CV outcome estimates\n",
      "INFO:causalml:training the treatment effect model for treatment_a with R-loss\n",
      "INFO:causalml:training the treatment effect model for treatment_b with R-loss\n",
      " 64%|██████▍   | 64/100 [01:57<01:06,  1.85s/it]INFO:causalml:generating out-of-fold CV outcome estimates\n",
      "INFO:causalml:training the treatment effect model for treatment_a with R-loss\n",
      "INFO:causalml:training the treatment effect model for treatment_b with R-loss\n",
      " 65%|██████▌   | 65/100 [01:59<01:06,  1.89s/it]INFO:causalml:generating out-of-fold CV outcome estimates\n",
      "INFO:causalml:training the treatment effect model for treatment_a with R-loss\n",
      "INFO:causalml:training the treatment effect model for treatment_b with R-loss\n",
      " 66%|██████▌   | 66/100 [02:01<01:12,  2.14s/it]INFO:causalml:generating out-of-fold CV outcome estimates\n",
      "INFO:causalml:training the treatment effect model for treatment_a with R-loss\n",
      "INFO:causalml:training the treatment effect model for treatment_b with R-loss\n",
      " 67%|██████▋   | 67/100 [02:03<01:06,  2.02s/it]INFO:causalml:generating out-of-fold CV outcome estimates\n",
      "INFO:causalml:training the treatment effect model for treatment_a with R-loss\n",
      "INFO:causalml:training the treatment effect model for treatment_b with R-loss\n",
      " 68%|██████▊   | 68/100 [02:05<01:06,  2.07s/it]INFO:causalml:generating out-of-fold CV outcome estimates\n",
      "INFO:causalml:training the treatment effect model for treatment_a with R-loss\n",
      "INFO:causalml:training the treatment effect model for treatment_b with R-loss\n",
      " 69%|██████▉   | 69/100 [02:07<00:59,  1.93s/it]INFO:causalml:generating out-of-fold CV outcome estimates\n",
      "INFO:causalml:training the treatment effect model for treatment_a with R-loss\n",
      "INFO:causalml:training the treatment effect model for treatment_b with R-loss\n",
      " 70%|███████   | 70/100 [02:09<00:55,  1.85s/it]INFO:causalml:generating out-of-fold CV outcome estimates\n",
      "INFO:causalml:training the treatment effect model for treatment_a with R-loss\n",
      "INFO:causalml:training the treatment effect model for treatment_b with R-loss\n",
      " 71%|███████   | 71/100 [02:10<00:52,  1.83s/it]INFO:causalml:generating out-of-fold CV outcome estimates\n",
      "INFO:causalml:training the treatment effect model for treatment_a with R-loss\n",
      "INFO:causalml:training the treatment effect model for treatment_b with R-loss\n",
      " 72%|███████▏  | 72/100 [02:12<00:50,  1.81s/it]INFO:causalml:generating out-of-fold CV outcome estimates\n",
      "INFO:causalml:training the treatment effect model for treatment_a with R-loss\n",
      "INFO:causalml:training the treatment effect model for treatment_b with R-loss\n",
      " 73%|███████▎  | 73/100 [02:14<00:46,  1.71s/it]INFO:causalml:generating out-of-fold CV outcome estimates\n",
      "INFO:causalml:training the treatment effect model for treatment_a with R-loss\n",
      "INFO:causalml:training the treatment effect model for treatment_b with R-loss\n",
      " 74%|███████▍  | 74/100 [02:15<00:44,  1.69s/it]INFO:causalml:generating out-of-fold CV outcome estimates\n",
      "INFO:causalml:training the treatment effect model for treatment_a with R-loss\n",
      "INFO:causalml:training the treatment effect model for treatment_b with R-loss\n",
      " 75%|███████▌  | 75/100 [02:17<00:44,  1.76s/it]INFO:causalml:generating out-of-fold CV outcome estimates\n",
      "INFO:causalml:training the treatment effect model for treatment_a with R-loss\n",
      "INFO:causalml:training the treatment effect model for treatment_b with R-loss\n",
      " 76%|███████▌  | 76/100 [02:20<00:48,  2.02s/it]INFO:causalml:generating out-of-fold CV outcome estimates\n",
      "INFO:causalml:training the treatment effect model for treatment_a with R-loss\n",
      "INFO:causalml:training the treatment effect model for treatment_b with R-loss\n",
      " 77%|███████▋  | 77/100 [02:22<00:48,  2.12s/it]INFO:causalml:generating out-of-fold CV outcome estimates\n",
      "INFO:causalml:training the treatment effect model for treatment_a with R-loss\n",
      "INFO:causalml:training the treatment effect model for treatment_b with R-loss\n",
      " 78%|███████▊  | 78/100 [02:24<00:46,  2.12s/it]INFO:causalml:generating out-of-fold CV outcome estimates\n",
      "INFO:causalml:training the treatment effect model for treatment_a with R-loss\n",
      "INFO:causalml:training the treatment effect model for treatment_b with R-loss\n",
      " 79%|███████▉  | 79/100 [02:26<00:42,  2.02s/it]INFO:causalml:generating out-of-fold CV outcome estimates\n",
      "INFO:causalml:training the treatment effect model for treatment_a with R-loss\n",
      "INFO:causalml:training the treatment effect model for treatment_b with R-loss\n",
      " 80%|████████  | 80/100 [02:28<00:39,  1.99s/it]INFO:causalml:generating out-of-fold CV outcome estimates\n",
      "INFO:causalml:training the treatment effect model for treatment_a with R-loss\n",
      "INFO:causalml:training the treatment effect model for treatment_b with R-loss\n",
      " 81%|████████  | 81/100 [02:30<00:36,  1.93s/it]INFO:causalml:generating out-of-fold CV outcome estimates\n",
      "INFO:causalml:training the treatment effect model for treatment_a with R-loss\n",
      "INFO:causalml:training the treatment effect model for treatment_b with R-loss\n",
      " 82%|████████▏ | 82/100 [02:32<00:33,  1.86s/it]INFO:causalml:generating out-of-fold CV outcome estimates\n",
      "INFO:causalml:training the treatment effect model for treatment_a with R-loss\n",
      "INFO:causalml:training the treatment effect model for treatment_b with R-loss\n",
      " 83%|████████▎ | 83/100 [02:33<00:30,  1.80s/it]INFO:causalml:generating out-of-fold CV outcome estimates\n",
      "INFO:causalml:training the treatment effect model for treatment_a with R-loss\n",
      "INFO:causalml:training the treatment effect model for treatment_b with R-loss\n",
      " 84%|████████▍ | 84/100 [02:35<00:28,  1.78s/it]INFO:causalml:generating out-of-fold CV outcome estimates\n",
      "INFO:causalml:training the treatment effect model for treatment_a with R-loss\n",
      "INFO:causalml:training the treatment effect model for treatment_b with R-loss\n",
      " 85%|████████▌ | 85/100 [02:37<00:27,  1.86s/it]INFO:causalml:generating out-of-fold CV outcome estimates\n",
      "INFO:causalml:training the treatment effect model for treatment_a with R-loss\n",
      "INFO:causalml:training the treatment effect model for treatment_b with R-loss\n",
      " 86%|████████▌ | 86/100 [02:40<00:29,  2.12s/it]INFO:causalml:generating out-of-fold CV outcome estimates\n",
      "INFO:causalml:training the treatment effect model for treatment_a with R-loss\n",
      "INFO:causalml:training the treatment effect model for treatment_b with R-loss\n",
      " 87%|████████▋ | 87/100 [02:42<00:27,  2.09s/it]INFO:causalml:generating out-of-fold CV outcome estimates\n",
      "INFO:causalml:training the treatment effect model for treatment_a with R-loss\n",
      "INFO:causalml:training the treatment effect model for treatment_b with R-loss\n",
      " 88%|████████▊ | 88/100 [02:43<00:23,  1.98s/it]INFO:causalml:generating out-of-fold CV outcome estimates\n",
      "INFO:causalml:training the treatment effect model for treatment_a with R-loss\n",
      "INFO:causalml:training the treatment effect model for treatment_b with R-loss\n",
      " 89%|████████▉ | 89/100 [02:46<00:22,  2.04s/it]INFO:causalml:generating out-of-fold CV outcome estimates\n",
      "INFO:causalml:training the treatment effect model for treatment_a with R-loss\n",
      "INFO:causalml:training the treatment effect model for treatment_b with R-loss\n",
      " 90%|█████████ | 90/100 [02:47<00:19,  1.91s/it]INFO:causalml:generating out-of-fold CV outcome estimates\n",
      "INFO:causalml:training the treatment effect model for treatment_a with R-loss\n",
      "INFO:causalml:training the treatment effect model for treatment_b with R-loss\n",
      " 91%|█████████ | 91/100 [02:50<00:18,  2.06s/it]INFO:causalml:generating out-of-fold CV outcome estimates\n",
      "INFO:causalml:training the treatment effect model for treatment_a with R-loss\n",
      "INFO:causalml:training the treatment effect model for treatment_b with R-loss\n",
      " 92%|█████████▏| 92/100 [02:51<00:15,  1.98s/it]INFO:causalml:generating out-of-fold CV outcome estimates\n",
      "INFO:causalml:training the treatment effect model for treatment_a with R-loss\n",
      "INFO:causalml:training the treatment effect model for treatment_b with R-loss\n",
      " 93%|█████████▎| 93/100 [02:54<00:15,  2.15s/it]INFO:causalml:generating out-of-fold CV outcome estimates\n",
      "INFO:causalml:training the treatment effect model for treatment_a with R-loss\n",
      "INFO:causalml:training the treatment effect model for treatment_b with R-loss\n",
      " 94%|█████████▍| 94/100 [02:56<00:12,  2.03s/it]INFO:causalml:generating out-of-fold CV outcome estimates\n",
      "INFO:causalml:training the treatment effect model for treatment_a with R-loss\n",
      "INFO:causalml:training the treatment effect model for treatment_b with R-loss\n",
      " 95%|█████████▌| 95/100 [02:57<00:09,  1.90s/it]INFO:causalml:generating out-of-fold CV outcome estimates\n",
      "INFO:causalml:training the treatment effect model for treatment_a with R-loss\n",
      "INFO:causalml:training the treatment effect model for treatment_b with R-loss\n",
      " 96%|█████████▌| 96/100 [02:59<00:07,  1.80s/it]INFO:causalml:generating out-of-fold CV outcome estimates\n",
      "INFO:causalml:training the treatment effect model for treatment_a with R-loss\n",
      "INFO:causalml:training the treatment effect model for treatment_b with R-loss\n",
      " 97%|█████████▋| 97/100 [03:00<00:05,  1.74s/it]INFO:causalml:generating out-of-fold CV outcome estimates\n",
      "INFO:causalml:training the treatment effect model for treatment_a with R-loss\n",
      "INFO:causalml:training the treatment effect model for treatment_b with R-loss\n",
      " 98%|█████████▊| 98/100 [03:02<00:03,  1.67s/it]INFO:causalml:generating out-of-fold CV outcome estimates\n",
      "INFO:causalml:training the treatment effect model for treatment_a with R-loss\n",
      "INFO:causalml:training the treatment effect model for treatment_b with R-loss\n",
      " 99%|█████████▉| 99/100 [03:03<00:01,  1.60s/it]INFO:causalml:generating out-of-fold CV outcome estimates\n",
      "INFO:causalml:training the treatment effect model for treatment_a with R-loss\n",
      "INFO:causalml:training the treatment effect model for treatment_b with R-loss\n",
      "100%|██████████| 100/100 [03:05<00:00,  1.86s/it]\n"
     ]
    }
   ],
   "source": [
    "ate_r_b, ate_r_lb_b, ate_r_ub_b = learner_r.estimate_ate(X=X, treatment=treatment, y=y, p=e, bootstrap_ci=True,\n",
    "                                                   n_bootstraps=100, bootstrap_size=5000)"
   ]
  },
  {
   "cell_type": "code",
   "execution_count": 122,
   "metadata": {
    "ExecuteTime": {
     "end_time": "2020-04-14T19:21:17.655865Z",
     "start_time": "2020-04-14T19:21:17.614542Z"
    }
   },
   "outputs": [
    {
     "data": {
      "text/plain": [
       "array([[0.35617504, 0.35617504],\n",
       "       [0.51503364, 0.48987875],\n",
       "       [0.53482837, 0.53482837]])"
      ]
     },
     "execution_count": 122,
     "metadata": {},
     "output_type": "execute_result"
    }
   ],
   "source": [
    "np.vstack((ate_r_lb_b, ate_r_b, ate_r_ub_b))"
   ]
  },
  {
   "cell_type": "markdown",
   "metadata": {},
   "source": [
    "#### Without Propensity Score Input"
   ]
  },
  {
   "cell_type": "code",
   "execution_count": 123,
   "metadata": {
    "ExecuteTime": {
     "end_time": "2020-04-14T19:23:41.531458Z",
     "start_time": "2020-04-14T19:21:17.657918Z"
    }
   },
   "outputs": [
    {
     "name": "stderr",
     "output_type": "stream",
     "text": [
      "INFO:causalml:Generating propensity score\n"
     ]
    },
    {
     "name": "stderr",
     "output_type": "stream",
     "text": [
      "INFO:causalml:Calibrating propensity scores.\n",
      "INFO:causalml:Calibrating propensity scores.\n",
      "INFO:causalml:generating out-of-fold CV outcome estimates\n",
      "INFO:causalml:training the treatment effect model for treatment_a with R-loss\n",
      "INFO:causalml:training the treatment effect model for treatment_b with R-loss\n",
      "INFO:causalml:Bootstrap Confidence Intervals for ATE\n",
      "  0%|          | 0/100 [00:00<?, ?it/s]INFO:causalml:generating out-of-fold CV outcome estimates\n",
      "INFO:causalml:training the treatment effect model for treatment_a with R-loss\n",
      "INFO:causalml:training the treatment effect model for treatment_b with R-loss\n",
      "  1%|          | 1/100 [00:01<02:32,  1.55s/it]INFO:causalml:generating out-of-fold CV outcome estimates\n",
      "INFO:causalml:training the treatment effect model for treatment_a with R-loss\n",
      "INFO:causalml:training the treatment effect model for treatment_b with R-loss\n",
      "  2%|▏         | 2/100 [00:03<02:39,  1.63s/it]INFO:causalml:generating out-of-fold CV outcome estimates\n",
      "INFO:causalml:training the treatment effect model for treatment_a with R-loss\n",
      "INFO:causalml:training the treatment effect model for treatment_b with R-loss\n",
      "  3%|▎         | 3/100 [00:04<02:41,  1.66s/it]INFO:causalml:generating out-of-fold CV outcome estimates\n",
      "INFO:causalml:training the treatment effect model for treatment_a with R-loss\n",
      "INFO:causalml:training the treatment effect model for treatment_b with R-loss\n",
      "  4%|▍         | 4/100 [00:06<02:29,  1.55s/it]INFO:causalml:generating out-of-fold CV outcome estimates\n",
      "INFO:causalml:training the treatment effect model for treatment_a with R-loss\n",
      "INFO:causalml:training the treatment effect model for treatment_b with R-loss\n",
      "  5%|▌         | 5/100 [00:07<02:22,  1.50s/it]INFO:causalml:generating out-of-fold CV outcome estimates\n",
      "INFO:causalml:training the treatment effect model for treatment_a with R-loss\n",
      "INFO:causalml:training the treatment effect model for treatment_b with R-loss\n",
      "  6%|▌         | 6/100 [00:09<02:16,  1.45s/it]INFO:causalml:generating out-of-fold CV outcome estimates\n",
      "INFO:causalml:training the treatment effect model for treatment_a with R-loss\n",
      "INFO:causalml:training the treatment effect model for treatment_b with R-loss\n",
      "  7%|▋         | 7/100 [00:11<02:40,  1.73s/it]INFO:causalml:generating out-of-fold CV outcome estimates\n",
      "INFO:causalml:training the treatment effect model for treatment_a with R-loss\n",
      "INFO:causalml:training the treatment effect model for treatment_b with R-loss\n",
      "  8%|▊         | 8/100 [00:14<03:26,  2.24s/it]INFO:causalml:generating out-of-fold CV outcome estimates\n",
      "INFO:causalml:training the treatment effect model for treatment_a with R-loss\n",
      "INFO:causalml:training the treatment effect model for treatment_b with R-loss\n",
      "  9%|▉         | 9/100 [00:16<03:06,  2.05s/it]INFO:causalml:generating out-of-fold CV outcome estimates\n",
      "INFO:causalml:training the treatment effect model for treatment_a with R-loss\n",
      "INFO:causalml:training the treatment effect model for treatment_b with R-loss\n",
      " 10%|█         | 10/100 [00:17<02:51,  1.91s/it]INFO:causalml:generating out-of-fold CV outcome estimates\n",
      "INFO:causalml:training the treatment effect model for treatment_a with R-loss\n",
      "INFO:causalml:training the treatment effect model for treatment_b with R-loss\n",
      " 11%|█         | 11/100 [00:19<02:48,  1.89s/it]INFO:causalml:generating out-of-fold CV outcome estimates\n",
      "INFO:causalml:training the treatment effect model for treatment_a with R-loss\n",
      "INFO:causalml:training the treatment effect model for treatment_b with R-loss\n",
      " 12%|█▏        | 12/100 [00:21<02:41,  1.84s/it]INFO:causalml:generating out-of-fold CV outcome estimates\n",
      "INFO:causalml:training the treatment effect model for treatment_a with R-loss\n",
      "INFO:causalml:training the treatment effect model for treatment_b with R-loss\n",
      " 13%|█▎        | 13/100 [00:23<02:45,  1.90s/it]INFO:causalml:generating out-of-fold CV outcome estimates\n",
      "INFO:causalml:training the treatment effect model for treatment_a with R-loss\n",
      "INFO:causalml:training the treatment effect model for treatment_b with R-loss\n",
      " 14%|█▍        | 14/100 [00:25<02:41,  1.88s/it]INFO:causalml:generating out-of-fold CV outcome estimates\n",
      "INFO:causalml:training the treatment effect model for treatment_a with R-loss\n",
      "INFO:causalml:training the treatment effect model for treatment_b with R-loss\n",
      " 15%|█▌        | 15/100 [00:26<02:32,  1.79s/it]INFO:causalml:generating out-of-fold CV outcome estimates\n",
      "INFO:causalml:training the treatment effect model for treatment_a with R-loss\n",
      "INFO:causalml:training the treatment effect model for treatment_b with R-loss\n",
      " 16%|█▌        | 16/100 [00:29<02:43,  1.94s/it]INFO:causalml:generating out-of-fold CV outcome estimates\n",
      "INFO:causalml:training the treatment effect model for treatment_a with R-loss\n",
      "INFO:causalml:training the treatment effect model for treatment_b with R-loss\n",
      " 17%|█▋        | 17/100 [00:31<02:37,  1.89s/it]INFO:causalml:generating out-of-fold CV outcome estimates\n",
      "INFO:causalml:training the treatment effect model for treatment_a with R-loss\n",
      "INFO:causalml:training the treatment effect model for treatment_b with R-loss\n",
      " 18%|█▊        | 18/100 [00:33<02:53,  2.11s/it]INFO:causalml:generating out-of-fold CV outcome estimates\n",
      "INFO:causalml:training the treatment effect model for treatment_a with R-loss\n",
      "INFO:causalml:training the treatment effect model for treatment_b with R-loss\n",
      " 19%|█▉        | 19/100 [00:35<02:38,  1.95s/it]INFO:causalml:generating out-of-fold CV outcome estimates\n",
      "INFO:causalml:training the treatment effect model for treatment_a with R-loss\n",
      "INFO:causalml:training the treatment effect model for treatment_b with R-loss\n",
      " 20%|██        | 20/100 [00:36<02:30,  1.88s/it]INFO:causalml:generating out-of-fold CV outcome estimates\n",
      "INFO:causalml:training the treatment effect model for treatment_a with R-loss\n",
      "INFO:causalml:training the treatment effect model for treatment_b with R-loss\n",
      " 21%|██        | 21/100 [00:38<02:20,  1.78s/it]INFO:causalml:generating out-of-fold CV outcome estimates\n",
      "INFO:causalml:training the treatment effect model for treatment_a with R-loss\n",
      "INFO:causalml:training the treatment effect model for treatment_b with R-loss\n",
      " 22%|██▏       | 22/100 [00:39<02:11,  1.69s/it]INFO:causalml:generating out-of-fold CV outcome estimates\n",
      "INFO:causalml:training the treatment effect model for treatment_a with R-loss\n",
      "INFO:causalml:training the treatment effect model for treatment_b with R-loss\n",
      " 23%|██▎       | 23/100 [00:41<02:12,  1.71s/it]INFO:causalml:generating out-of-fold CV outcome estimates\n",
      "INFO:causalml:training the treatment effect model for treatment_a with R-loss\n",
      "INFO:causalml:training the treatment effect model for treatment_b with R-loss\n",
      " 24%|██▍       | 24/100 [00:43<02:21,  1.86s/it]INFO:causalml:generating out-of-fold CV outcome estimates\n",
      "INFO:causalml:training the treatment effect model for treatment_a with R-loss\n",
      "INFO:causalml:training the treatment effect model for treatment_b with R-loss\n",
      " 25%|██▌       | 25/100 [00:45<02:20,  1.88s/it]INFO:causalml:generating out-of-fold CV outcome estimates\n",
      "INFO:causalml:training the treatment effect model for treatment_a with R-loss\n",
      "INFO:causalml:training the treatment effect model for treatment_b with R-loss\n",
      " 26%|██▌       | 26/100 [00:47<02:16,  1.84s/it]INFO:causalml:generating out-of-fold CV outcome estimates\n",
      "INFO:causalml:training the treatment effect model for treatment_a with R-loss\n",
      "INFO:causalml:training the treatment effect model for treatment_b with R-loss\n",
      " 27%|██▋       | 27/100 [00:49<02:10,  1.79s/it]INFO:causalml:generating out-of-fold CV outcome estimates\n",
      "INFO:causalml:training the treatment effect model for treatment_a with R-loss\n",
      "INFO:causalml:training the treatment effect model for treatment_b with R-loss\n",
      " 28%|██▊       | 28/100 [00:50<02:02,  1.70s/it]INFO:causalml:generating out-of-fold CV outcome estimates\n",
      "INFO:causalml:training the treatment effect model for treatment_a with R-loss\n",
      "INFO:causalml:training the treatment effect model for treatment_b with R-loss\n",
      " 29%|██▉       | 29/100 [00:52<01:55,  1.62s/it]INFO:causalml:generating out-of-fold CV outcome estimates\n",
      "INFO:causalml:training the treatment effect model for treatment_a with R-loss\n",
      "INFO:causalml:training the treatment effect model for treatment_b with R-loss\n",
      " 30%|███       | 30/100 [00:53<01:52,  1.61s/it]INFO:causalml:generating out-of-fold CV outcome estimates\n",
      "INFO:causalml:training the treatment effect model for treatment_a with R-loss\n",
      "INFO:causalml:training the treatment effect model for treatment_b with R-loss\n",
      " 31%|███       | 31/100 [00:55<01:46,  1.55s/it]INFO:causalml:generating out-of-fold CV outcome estimates\n",
      "INFO:causalml:training the treatment effect model for treatment_a with R-loss\n",
      "INFO:causalml:training the treatment effect model for treatment_b with R-loss\n",
      " 32%|███▏      | 32/100 [00:56<01:44,  1.54s/it]INFO:causalml:generating out-of-fold CV outcome estimates\n",
      "INFO:causalml:training the treatment effect model for treatment_a with R-loss\n",
      "INFO:causalml:training the treatment effect model for treatment_b with R-loss\n",
      " 33%|███▎      | 33/100 [00:58<01:44,  1.56s/it]INFO:causalml:generating out-of-fold CV outcome estimates\n",
      "INFO:causalml:training the treatment effect model for treatment_a with R-loss\n",
      "INFO:causalml:training the treatment effect model for treatment_b with R-loss\n",
      " 34%|███▍      | 34/100 [00:59<01:44,  1.58s/it]INFO:causalml:generating out-of-fold CV outcome estimates\n",
      "INFO:causalml:training the treatment effect model for treatment_a with R-loss\n",
      "INFO:causalml:training the treatment effect model for treatment_b with R-loss\n",
      " 35%|███▌      | 35/100 [01:01<01:44,  1.60s/it]INFO:causalml:generating out-of-fold CV outcome estimates\n",
      "INFO:causalml:training the treatment effect model for treatment_a with R-loss\n",
      "INFO:causalml:training the treatment effect model for treatment_b with R-loss\n",
      " 36%|███▌      | 36/100 [01:03<01:51,  1.74s/it]INFO:causalml:generating out-of-fold CV outcome estimates\n",
      "INFO:causalml:training the treatment effect model for treatment_a with R-loss\n",
      "INFO:causalml:training the treatment effect model for treatment_b with R-loss\n",
      " 37%|███▋      | 37/100 [01:05<01:52,  1.78s/it]INFO:causalml:generating out-of-fold CV outcome estimates\n",
      "INFO:causalml:training the treatment effect model for treatment_a with R-loss\n",
      "INFO:causalml:training the treatment effect model for treatment_b with R-loss\n",
      " 38%|███▊      | 38/100 [01:06<01:43,  1.67s/it]INFO:causalml:generating out-of-fold CV outcome estimates\n",
      "INFO:causalml:training the treatment effect model for treatment_a with R-loss\n",
      "INFO:causalml:training the treatment effect model for treatment_b with R-loss\n",
      " 39%|███▉      | 39/100 [01:08<01:38,  1.62s/it]INFO:causalml:generating out-of-fold CV outcome estimates\n",
      "INFO:causalml:training the treatment effect model for treatment_a with R-loss\n",
      "INFO:causalml:training the treatment effect model for treatment_b with R-loss\n",
      " 40%|████      | 40/100 [01:10<01:35,  1.59s/it]INFO:causalml:generating out-of-fold CV outcome estimates\n",
      "INFO:causalml:training the treatment effect model for treatment_a with R-loss\n",
      "INFO:causalml:training the treatment effect model for treatment_b with R-loss\n",
      " 41%|████      | 41/100 [01:11<01:31,  1.55s/it]INFO:causalml:generating out-of-fold CV outcome estimates\n",
      "INFO:causalml:training the treatment effect model for treatment_a with R-loss\n",
      "INFO:causalml:training the treatment effect model for treatment_b with R-loss\n",
      " 42%|████▏     | 42/100 [01:13<01:35,  1.65s/it]INFO:causalml:generating out-of-fold CV outcome estimates\n",
      "INFO:causalml:training the treatment effect model for treatment_a with R-loss\n",
      "INFO:causalml:training the treatment effect model for treatment_b with R-loss\n",
      " 43%|████▎     | 43/100 [01:16<01:51,  1.96s/it]INFO:causalml:generating out-of-fold CV outcome estimates\n",
      "INFO:causalml:training the treatment effect model for treatment_a with R-loss\n",
      "INFO:causalml:training the treatment effect model for treatment_b with R-loss\n",
      " 44%|████▍     | 44/100 [01:17<01:43,  1.86s/it]INFO:causalml:generating out-of-fold CV outcome estimates\n",
      "INFO:causalml:training the treatment effect model for treatment_a with R-loss\n",
      "INFO:causalml:training the treatment effect model for treatment_b with R-loss\n",
      " 45%|████▌     | 45/100 [01:19<01:39,  1.80s/it]INFO:causalml:generating out-of-fold CV outcome estimates\n",
      "INFO:causalml:training the treatment effect model for treatment_a with R-loss\n",
      "INFO:causalml:training the treatment effect model for treatment_b with R-loss\n",
      " 46%|████▌     | 46/100 [01:21<01:38,  1.82s/it]INFO:causalml:generating out-of-fold CV outcome estimates\n",
      "INFO:causalml:training the treatment effect model for treatment_a with R-loss\n",
      "INFO:causalml:training the treatment effect model for treatment_b with R-loss\n",
      " 47%|████▋     | 47/100 [01:22<01:34,  1.78s/it]INFO:causalml:generating out-of-fold CV outcome estimates\n",
      "INFO:causalml:training the treatment effect model for treatment_a with R-loss\n",
      "INFO:causalml:training the treatment effect model for treatment_b with R-loss\n",
      " 48%|████▊     | 48/100 [01:24<01:29,  1.72s/it]INFO:causalml:generating out-of-fold CV outcome estimates\n",
      "INFO:causalml:training the treatment effect model for treatment_a with R-loss\n",
      "INFO:causalml:training the treatment effect model for treatment_b with R-loss\n",
      " 49%|████▉     | 49/100 [01:26<01:25,  1.67s/it]INFO:causalml:generating out-of-fold CV outcome estimates\n",
      "INFO:causalml:training the treatment effect model for treatment_a with R-loss\n",
      "INFO:causalml:training the treatment effect model for treatment_b with R-loss\n",
      " 50%|█████     | 50/100 [01:27<01:20,  1.61s/it]INFO:causalml:generating out-of-fold CV outcome estimates\n",
      "INFO:causalml:training the treatment effect model for treatment_a with R-loss\n",
      "INFO:causalml:training the treatment effect model for treatment_b with R-loss\n",
      " 51%|█████     | 51/100 [01:29<01:28,  1.81s/it]INFO:causalml:generating out-of-fold CV outcome estimates\n",
      "INFO:causalml:training the treatment effect model for treatment_a with R-loss\n",
      "INFO:causalml:training the treatment effect model for treatment_b with R-loss\n",
      " 52%|█████▏    | 52/100 [01:31<01:23,  1.74s/it]INFO:causalml:generating out-of-fold CV outcome estimates\n",
      "INFO:causalml:training the treatment effect model for treatment_a with R-loss\n",
      "INFO:causalml:training the treatment effect model for treatment_b with R-loss\n",
      " 53%|█████▎    | 53/100 [01:33<01:34,  2.01s/it]INFO:causalml:generating out-of-fold CV outcome estimates\n",
      "INFO:causalml:training the treatment effect model for treatment_a with R-loss\n",
      "INFO:causalml:training the treatment effect model for treatment_b with R-loss\n",
      " 54%|█████▍    | 54/100 [01:35<01:26,  1.88s/it]INFO:causalml:generating out-of-fold CV outcome estimates\n",
      "INFO:causalml:training the treatment effect model for treatment_a with R-loss\n",
      "INFO:causalml:training the treatment effect model for treatment_b with R-loss\n",
      " 55%|█████▌    | 55/100 [01:37<01:19,  1.76s/it]INFO:causalml:generating out-of-fold CV outcome estimates\n",
      "INFO:causalml:training the treatment effect model for treatment_a with R-loss\n",
      "INFO:causalml:training the treatment effect model for treatment_b with R-loss\n",
      " 56%|█████▌    | 56/100 [01:38<01:16,  1.74s/it]INFO:causalml:generating out-of-fold CV outcome estimates\n",
      "INFO:causalml:training the treatment effect model for treatment_a with R-loss\n",
      "INFO:causalml:training the treatment effect model for treatment_b with R-loss\n",
      " 57%|█████▋    | 57/100 [01:40<01:10,  1.65s/it]INFO:causalml:generating out-of-fold CV outcome estimates\n",
      "INFO:causalml:training the treatment effect model for treatment_a with R-loss\n",
      "INFO:causalml:training the treatment effect model for treatment_b with R-loss\n",
      " 58%|█████▊    | 58/100 [01:41<01:08,  1.64s/it]INFO:causalml:generating out-of-fold CV outcome estimates\n",
      "INFO:causalml:training the treatment effect model for treatment_a with R-loss\n",
      "INFO:causalml:training the treatment effect model for treatment_b with R-loss\n",
      " 59%|█████▉    | 59/100 [01:43<01:04,  1.57s/it]INFO:causalml:generating out-of-fold CV outcome estimates\n",
      "INFO:causalml:training the treatment effect model for treatment_a with R-loss\n",
      "INFO:causalml:training the treatment effect model for treatment_b with R-loss\n",
      " 60%|██████    | 60/100 [01:44<01:03,  1.59s/it]INFO:causalml:generating out-of-fold CV outcome estimates\n",
      "INFO:causalml:training the treatment effect model for treatment_a with R-loss\n",
      "INFO:causalml:training the treatment effect model for treatment_b with R-loss\n",
      " 61%|██████    | 61/100 [01:46<01:02,  1.59s/it]INFO:causalml:generating out-of-fold CV outcome estimates\n",
      "INFO:causalml:training the treatment effect model for treatment_a with R-loss\n",
      "INFO:causalml:training the treatment effect model for treatment_b with R-loss\n",
      " 62%|██████▏   | 62/100 [01:48<01:06,  1.75s/it]INFO:causalml:generating out-of-fold CV outcome estimates\n",
      "INFO:causalml:training the treatment effect model for treatment_a with R-loss\n",
      "INFO:causalml:training the treatment effect model for treatment_b with R-loss\n",
      " 63%|██████▎   | 63/100 [01:50<01:01,  1.67s/it]INFO:causalml:generating out-of-fold CV outcome estimates\n",
      "INFO:causalml:training the treatment effect model for treatment_a with R-loss\n",
      "INFO:causalml:training the treatment effect model for treatment_b with R-loss\n",
      " 64%|██████▍   | 64/100 [01:51<00:59,  1.65s/it]INFO:causalml:generating out-of-fold CV outcome estimates\n",
      "INFO:causalml:training the treatment effect model for treatment_a with R-loss\n",
      "INFO:causalml:training the treatment effect model for treatment_b with R-loss\n",
      " 65%|██████▌   | 65/100 [01:53<00:58,  1.68s/it]INFO:causalml:generating out-of-fold CV outcome estimates\n",
      "INFO:causalml:training the treatment effect model for treatment_a with R-loss\n",
      "INFO:causalml:training the treatment effect model for treatment_b with R-loss\n",
      " 66%|██████▌   | 66/100 [01:55<01:04,  1.89s/it]INFO:causalml:generating out-of-fold CV outcome estimates\n",
      "INFO:causalml:training the treatment effect model for treatment_a with R-loss\n",
      "INFO:causalml:training the treatment effect model for treatment_b with R-loss\n",
      " 67%|██████▋   | 67/100 [01:57<01:05,  1.97s/it]INFO:causalml:generating out-of-fold CV outcome estimates\n",
      "INFO:causalml:training the treatment effect model for treatment_a with R-loss\n",
      "INFO:causalml:training the treatment effect model for treatment_b with R-loss\n",
      " 68%|██████▊   | 68/100 [02:00<01:07,  2.12s/it]INFO:causalml:generating out-of-fold CV outcome estimates\n",
      "INFO:causalml:training the treatment effect model for treatment_a with R-loss\n",
      "INFO:causalml:training the treatment effect model for treatment_b with R-loss\n",
      " 69%|██████▉   | 69/100 [02:01<01:00,  1.94s/it]INFO:causalml:generating out-of-fold CV outcome estimates\n",
      "INFO:causalml:training the treatment effect model for treatment_a with R-loss\n",
      "INFO:causalml:training the treatment effect model for treatment_b with R-loss\n",
      " 70%|███████   | 70/100 [02:03<00:54,  1.83s/it]INFO:causalml:generating out-of-fold CV outcome estimates\n",
      "INFO:causalml:training the treatment effect model for treatment_a with R-loss\n",
      "INFO:causalml:training the treatment effect model for treatment_b with R-loss\n",
      " 71%|███████   | 71/100 [02:05<00:52,  1.80s/it]INFO:causalml:generating out-of-fold CV outcome estimates\n",
      "INFO:causalml:training the treatment effect model for treatment_a with R-loss\n",
      "INFO:causalml:training the treatment effect model for treatment_b with R-loss\n",
      " 72%|███████▏  | 72/100 [02:06<00:48,  1.73s/it]INFO:causalml:generating out-of-fold CV outcome estimates\n",
      "INFO:causalml:training the treatment effect model for treatment_a with R-loss\n",
      "INFO:causalml:training the treatment effect model for treatment_b with R-loss\n",
      " 73%|███████▎  | 73/100 [02:08<00:45,  1.67s/it]INFO:causalml:generating out-of-fold CV outcome estimates\n",
      "INFO:causalml:training the treatment effect model for treatment_a with R-loss\n",
      "INFO:causalml:training the treatment effect model for treatment_b with R-loss\n",
      " 74%|███████▍  | 74/100 [02:10<00:47,  1.81s/it]INFO:causalml:generating out-of-fold CV outcome estimates\n",
      "INFO:causalml:training the treatment effect model for treatment_a with R-loss\n",
      "INFO:causalml:training the treatment effect model for treatment_b with R-loss\n",
      " 75%|███████▌  | 75/100 [02:12<00:44,  1.77s/it]INFO:causalml:generating out-of-fold CV outcome estimates\n",
      "INFO:causalml:training the treatment effect model for treatment_a with R-loss\n",
      "INFO:causalml:training the treatment effect model for treatment_b with R-loss\n",
      " 76%|███████▌  | 76/100 [02:13<00:41,  1.72s/it]INFO:causalml:generating out-of-fold CV outcome estimates\n",
      "INFO:causalml:training the treatment effect model for treatment_a with R-loss\n",
      "INFO:causalml:training the treatment effect model for treatment_b with R-loss\n",
      " 77%|███████▋  | 77/100 [02:15<00:37,  1.64s/it]INFO:causalml:generating out-of-fold CV outcome estimates\n",
      "INFO:causalml:training the treatment effect model for treatment_a with R-loss\n",
      "INFO:causalml:training the treatment effect model for treatment_b with R-loss\n",
      " 78%|███████▊  | 78/100 [02:16<00:36,  1.68s/it]INFO:causalml:generating out-of-fold CV outcome estimates\n",
      "INFO:causalml:training the treatment effect model for treatment_a with R-loss\n",
      "INFO:causalml:training the treatment effect model for treatment_b with R-loss\n",
      " 79%|███████▉  | 79/100 [02:19<00:39,  1.86s/it]INFO:causalml:generating out-of-fold CV outcome estimates\n",
      "INFO:causalml:training the treatment effect model for treatment_a with R-loss\n",
      "INFO:causalml:training the treatment effect model for treatment_b with R-loss\n",
      " 80%|████████  | 80/100 [02:21<00:36,  1.84s/it]INFO:causalml:generating out-of-fold CV outcome estimates\n",
      "INFO:causalml:training the treatment effect model for treatment_a with R-loss\n",
      "INFO:causalml:training the treatment effect model for treatment_b with R-loss\n",
      " 81%|████████  | 81/100 [02:22<00:34,  1.79s/it]INFO:causalml:generating out-of-fold CV outcome estimates\n",
      "INFO:causalml:training the treatment effect model for treatment_a with R-loss\n",
      "INFO:causalml:training the treatment effect model for treatment_b with R-loss\n",
      " 82%|████████▏ | 82/100 [02:24<00:30,  1.72s/it]INFO:causalml:generating out-of-fold CV outcome estimates\n",
      "INFO:causalml:training the treatment effect model for treatment_a with R-loss\n",
      "INFO:causalml:training the treatment effect model for treatment_b with R-loss\n",
      " 83%|████████▎ | 83/100 [02:25<00:27,  1.64s/it]INFO:causalml:generating out-of-fold CV outcome estimates\n",
      "INFO:causalml:training the treatment effect model for treatment_a with R-loss\n",
      "INFO:causalml:training the treatment effect model for treatment_b with R-loss\n",
      " 84%|████████▍ | 84/100 [02:27<00:25,  1.59s/it]INFO:causalml:generating out-of-fold CV outcome estimates\n",
      "INFO:causalml:training the treatment effect model for treatment_a with R-loss\n",
      "INFO:causalml:training the treatment effect model for treatment_b with R-loss\n",
      " 85%|████████▌ | 85/100 [02:29<00:25,  1.71s/it]INFO:causalml:generating out-of-fold CV outcome estimates\n",
      "INFO:causalml:training the treatment effect model for treatment_a with R-loss\n",
      "INFO:causalml:training the treatment effect model for treatment_b with R-loss\n",
      " 86%|████████▌ | 86/100 [02:30<00:23,  1.64s/it]INFO:causalml:generating out-of-fold CV outcome estimates\n",
      "INFO:causalml:training the treatment effect model for treatment_a with R-loss\n",
      "INFO:causalml:training the treatment effect model for treatment_b with R-loss\n",
      " 87%|████████▋ | 87/100 [02:32<00:21,  1.63s/it]INFO:causalml:generating out-of-fold CV outcome estimates\n",
      "INFO:causalml:training the treatment effect model for treatment_a with R-loss\n",
      "INFO:causalml:training the treatment effect model for treatment_b with R-loss\n",
      " 88%|████████▊ | 88/100 [02:33<00:19,  1.64s/it]INFO:causalml:generating out-of-fold CV outcome estimates\n",
      "INFO:causalml:training the treatment effect model for treatment_a with R-loss\n",
      "INFO:causalml:training the treatment effect model for treatment_b with R-loss\n",
      " 89%|████████▉ | 89/100 [02:35<00:18,  1.64s/it]INFO:causalml:generating out-of-fold CV outcome estimates\n",
      "INFO:causalml:training the treatment effect model for treatment_a with R-loss\n",
      "INFO:causalml:training the treatment effect model for treatment_b with R-loss\n",
      " 90%|█████████ | 90/100 [02:37<00:17,  1.71s/it]INFO:causalml:generating out-of-fold CV outcome estimates\n",
      "INFO:causalml:training the treatment effect model for treatment_a with R-loss\n",
      "INFO:causalml:training the treatment effect model for treatment_b with R-loss\n",
      " 91%|█████████ | 91/100 [02:39<00:15,  1.72s/it]INFO:causalml:generating out-of-fold CV outcome estimates\n",
      "INFO:causalml:training the treatment effect model for treatment_a with R-loss\n",
      "INFO:causalml:training the treatment effect model for treatment_b with R-loss\n",
      " 92%|█████████▏| 92/100 [02:40<00:13,  1.63s/it]INFO:causalml:generating out-of-fold CV outcome estimates\n",
      "INFO:causalml:training the treatment effect model for treatment_a with R-loss\n",
      "INFO:causalml:training the treatment effect model for treatment_b with R-loss\n",
      " 93%|█████████▎| 93/100 [02:42<00:12,  1.72s/it]INFO:causalml:generating out-of-fold CV outcome estimates\n",
      "INFO:causalml:training the treatment effect model for treatment_a with R-loss\n",
      "INFO:causalml:training the treatment effect model for treatment_b with R-loss\n",
      " 94%|█████████▍| 94/100 [02:44<00:10,  1.82s/it]INFO:causalml:generating out-of-fold CV outcome estimates\n",
      "INFO:causalml:training the treatment effect model for treatment_a with R-loss\n",
      "INFO:causalml:training the treatment effect model for treatment_b with R-loss\n",
      " 95%|█████████▌| 95/100 [02:46<00:08,  1.73s/it]INFO:causalml:generating out-of-fold CV outcome estimates\n",
      "INFO:causalml:training the treatment effect model for treatment_a with R-loss\n",
      "INFO:causalml:training the treatment effect model for treatment_b with R-loss\n",
      " 96%|█████████▌| 96/100 [02:47<00:06,  1.69s/it]INFO:causalml:generating out-of-fold CV outcome estimates\n",
      "INFO:causalml:training the treatment effect model for treatment_a with R-loss\n",
      "INFO:causalml:training the treatment effect model for treatment_b with R-loss\n",
      " 97%|█████████▋| 97/100 [02:49<00:04,  1.65s/it]INFO:causalml:generating out-of-fold CV outcome estimates\n",
      "INFO:causalml:training the treatment effect model for treatment_a with R-loss\n",
      "INFO:causalml:training the treatment effect model for treatment_b with R-loss\n",
      " 98%|█████████▊| 98/100 [02:50<00:03,  1.63s/it]INFO:causalml:generating out-of-fold CV outcome estimates\n",
      "INFO:causalml:training the treatment effect model for treatment_a with R-loss\n",
      "INFO:causalml:training the treatment effect model for treatment_b with R-loss\n",
      " 99%|█████████▉| 99/100 [02:52<00:01,  1.59s/it]INFO:causalml:generating out-of-fold CV outcome estimates\n",
      "INFO:causalml:training the treatment effect model for treatment_a with R-loss\n",
      "INFO:causalml:training the treatment effect model for treatment_b with R-loss\n",
      "100%|██████████| 100/100 [02:53<00:00,  1.74s/it]\n"
     ]
    }
   ],
   "source": [
    "learner_r = BaseRRegressor(XGBRegressor(), control_name='control')\n",
    "ate_r_b_no_p, ate_r_lb_b_no_p, ate_r_ub_b_no_p = learner_r.estimate_ate(X=X, treatment=treatment, y=y, bootstrap_ci=True,\n",
    "                                                   n_bootstraps=100, bootstrap_size=5000)"
   ]
  },
  {
   "cell_type": "code",
   "execution_count": 124,
   "metadata": {
    "ExecuteTime": {
     "end_time": "2020-04-14T19:23:41.578488Z",
     "start_time": "2020-04-14T19:23:41.533496Z"
    }
   },
   "outputs": [
    {
     "data": {
      "text/plain": [
       "array([[0.43911503, 0.43911503],\n",
       "       [0.44762754, 0.53157838],\n",
       "       [0.65616755, 0.65616755]])"
      ]
     },
     "execution_count": 124,
     "metadata": {},
     "output_type": "execute_result"
    }
   ],
   "source": [
    "np.vstack((ate_r_lb_b_no_p, ate_r_b_no_p, ate_r_ub_b_no_p))"
   ]
  },
  {
   "cell_type": "markdown",
   "metadata": {},
   "source": [
    "### CATE"
   ]
  },
  {
   "cell_type": "markdown",
   "metadata": {},
   "source": [
    "#### With Propensity Score Input"
   ]
  },
  {
   "cell_type": "code",
   "execution_count": 125,
   "metadata": {
    "ExecuteTime": {
     "end_time": "2020-04-14T19:23:44.255819Z",
     "start_time": "2020-04-14T19:23:41.580879Z"
    }
   },
   "outputs": [
    {
     "name": "stderr",
     "output_type": "stream",
     "text": [
      "INFO:causalml:generating out-of-fold CV outcome estimates\n",
      "INFO:causalml:training the treatment effect model for treatment_a with R-loss\n",
      "INFO:causalml:training the treatment effect model for treatment_b with R-loss\n"
     ]
    }
   ],
   "source": [
    "learner_r = BaseRRegressor(XGBRegressor(), control_name='control')\n",
    "cate_r = learner_r.fit_predict(X=X, treatment=treatment, y=y, p=e)"
   ]
  },
  {
   "cell_type": "code",
   "execution_count": 126,
   "metadata": {
    "ExecuteTime": {
     "end_time": "2020-04-14T19:23:44.297265Z",
     "start_time": "2020-04-14T19:23:44.257762Z"
    }
   },
   "outputs": [
    {
     "data": {
      "text/plain": [
       "array([[ 0.43111724,  2.04472971],\n",
       "       [ 0.51401317,  1.77704823],\n",
       "       [-0.57836366, -0.32937753],\n",
       "       ...,\n",
       "       [ 0.36808404,  0.00659637],\n",
       "       [-0.10337357,  0.36800528],\n",
       "       [ 0.55256903, -0.31787136]])"
      ]
     },
     "execution_count": 126,
     "metadata": {},
     "output_type": "execute_result"
    }
   ],
   "source": [
    "cate_r"
   ]
  },
  {
   "cell_type": "markdown",
   "metadata": {},
   "source": [
    "#### Without Propensity Score Input"
   ]
  },
  {
   "cell_type": "code",
   "execution_count": 127,
   "metadata": {
    "ExecuteTime": {
     "end_time": "2020-04-14T19:23:48.815108Z",
     "start_time": "2020-04-14T19:23:44.299436Z"
    }
   },
   "outputs": [
    {
     "name": "stderr",
     "output_type": "stream",
     "text": [
      "INFO:causalml:Generating propensity score\n",
      "INFO:causalml:Calibrating propensity scores.\n",
      "INFO:causalml:Calibrating propensity scores.\n",
      "INFO:causalml:generating out-of-fold CV outcome estimates\n",
      "INFO:causalml:training the treatment effect model for treatment_a with R-loss\n",
      "INFO:causalml:training the treatment effect model for treatment_b with R-loss\n"
     ]
    }
   ],
   "source": [
    "learner_r = BaseRRegressor(XGBRegressor(), control_name='control')\n",
    "cate_r_no_p = learner_r.fit_predict(X=X, treatment=treatment, y=y)"
   ]
  },
  {
   "cell_type": "code",
   "execution_count": 128,
   "metadata": {
    "ExecuteTime": {
     "end_time": "2020-04-14T19:23:48.859511Z",
     "start_time": "2020-04-14T19:23:48.817196Z"
    }
   },
   "outputs": [
    {
     "data": {
      "text/plain": [
       "array([[ 0.10300241,  0.61422968],\n",
       "       [ 0.44722587,  0.49971887],\n",
       "       [-1.36894822, -1.58307838],\n",
       "       ...,\n",
       "       [ 0.05531795,  0.43949288],\n",
       "       [-0.3850221 ,  0.27994096],\n",
       "       [ 1.51286435,  0.0686876 ]])"
      ]
     },
     "execution_count": 128,
     "metadata": {},
     "output_type": "execute_result"
    }
   ],
   "source": [
    "cate_r_no_p"
   ]
  },
  {
   "cell_type": "markdown",
   "metadata": {},
   "source": [
    "### CATE w/ Confidence Intervals"
   ]
  },
  {
   "cell_type": "markdown",
   "metadata": {},
   "source": [
    "#### With Propensity Score Input"
   ]
  },
  {
   "cell_type": "code",
   "execution_count": 129,
   "metadata": {
    "ExecuteTime": {
     "end_time": "2020-04-14T19:24:29.398563Z",
     "start_time": "2020-04-14T19:23:48.862628Z"
    },
    "scrolled": true
   },
   "outputs": [
    {
     "name": "stderr",
     "output_type": "stream",
     "text": [
      "INFO:causalml:generating out-of-fold CV outcome estimates\n"
     ]
    },
    {
     "name": "stderr",
     "output_type": "stream",
     "text": [
      "INFO:causalml:training the treatment effect model for treatment_a with R-loss\n",
      "INFO:causalml:training the treatment effect model for treatment_b with R-loss\n",
      "INFO:causalml:Bootstrap Confidence Intervals\n",
      "  0%|          | 0/100 [00:00<?, ?it/s]INFO:causalml:generating out-of-fold CV outcome estimates\n",
      "INFO:causalml:training the treatment effect model for treatment_a with R-loss\n",
      "INFO:causalml:training the treatment effect model for treatment_b with R-loss\n",
      "  1%|          | 1/100 [00:00<01:03,  1.55it/s]INFO:causalml:generating out-of-fold CV outcome estimates\n",
      "INFO:causalml:training the treatment effect model for treatment_a with R-loss\n",
      "INFO:causalml:training the treatment effect model for treatment_b with R-loss\n",
      "  2%|▏         | 2/100 [00:01<00:57,  1.72it/s]INFO:causalml:generating out-of-fold CV outcome estimates\n",
      "INFO:causalml:training the treatment effect model for treatment_a with R-loss\n",
      "INFO:causalml:training the treatment effect model for treatment_b with R-loss\n",
      "  3%|▎         | 3/100 [00:01<00:59,  1.64it/s]INFO:causalml:generating out-of-fold CV outcome estimates\n",
      "INFO:causalml:training the treatment effect model for treatment_a with R-loss\n",
      "INFO:causalml:training the treatment effect model for treatment_b with R-loss\n",
      "  4%|▍         | 4/100 [00:02<00:57,  1.67it/s]INFO:causalml:generating out-of-fold CV outcome estimates\n",
      "INFO:causalml:training the treatment effect model for treatment_a with R-loss\n",
      "INFO:causalml:training the treatment effect model for treatment_b with R-loss\n",
      "  5%|▌         | 5/100 [00:02<00:54,  1.75it/s]INFO:causalml:generating out-of-fold CV outcome estimates\n",
      "INFO:causalml:training the treatment effect model for treatment_a with R-loss\n",
      "INFO:causalml:training the treatment effect model for treatment_b with R-loss\n",
      "  6%|▌         | 6/100 [00:03<00:53,  1.75it/s]INFO:causalml:generating out-of-fold CV outcome estimates\n",
      "INFO:causalml:training the treatment effect model for treatment_a with R-loss\n",
      "INFO:causalml:training the treatment effect model for treatment_b with R-loss\n",
      "  7%|▋         | 7/100 [00:04<00:53,  1.74it/s]INFO:causalml:generating out-of-fold CV outcome estimates\n",
      "INFO:causalml:training the treatment effect model for treatment_a with R-loss\n",
      "INFO:causalml:training the treatment effect model for treatment_b with R-loss\n",
      "  8%|▊         | 8/100 [00:04<00:52,  1.76it/s]INFO:causalml:generating out-of-fold CV outcome estimates\n",
      "INFO:causalml:training the treatment effect model for treatment_a with R-loss\n",
      "INFO:causalml:training the treatment effect model for treatment_b with R-loss\n",
      "  9%|▉         | 9/100 [00:05<00:51,  1.76it/s]INFO:causalml:generating out-of-fold CV outcome estimates\n",
      "INFO:causalml:training the treatment effect model for treatment_a with R-loss\n",
      "INFO:causalml:training the treatment effect model for treatment_b with R-loss\n",
      " 10%|█         | 10/100 [00:05<00:50,  1.79it/s]INFO:causalml:generating out-of-fold CV outcome estimates\n",
      "INFO:causalml:training the treatment effect model for treatment_a with R-loss\n",
      "INFO:causalml:training the treatment effect model for treatment_b with R-loss\n",
      " 11%|█         | 11/100 [00:06<00:48,  1.84it/s]INFO:causalml:generating out-of-fold CV outcome estimates\n",
      "INFO:causalml:training the treatment effect model for treatment_a with R-loss\n",
      "INFO:causalml:training the treatment effect model for treatment_b with R-loss\n",
      " 12%|█▏        | 12/100 [00:06<00:48,  1.81it/s]INFO:causalml:generating out-of-fold CV outcome estimates\n",
      "INFO:causalml:training the treatment effect model for treatment_a with R-loss\n",
      "INFO:causalml:training the treatment effect model for treatment_b with R-loss\n",
      " 13%|█▎        | 13/100 [00:07<00:49,  1.77it/s]INFO:causalml:generating out-of-fold CV outcome estimates\n",
      "INFO:causalml:training the treatment effect model for treatment_a with R-loss\n",
      "INFO:causalml:training the treatment effect model for treatment_b with R-loss\n",
      " 14%|█▍        | 14/100 [00:08<00:50,  1.70it/s]INFO:causalml:generating out-of-fold CV outcome estimates\n",
      "INFO:causalml:training the treatment effect model for treatment_a with R-loss\n",
      "INFO:causalml:training the treatment effect model for treatment_b with R-loss\n",
      " 15%|█▌        | 15/100 [00:08<00:50,  1.70it/s]INFO:causalml:generating out-of-fold CV outcome estimates\n",
      "INFO:causalml:training the treatment effect model for treatment_a with R-loss\n",
      "INFO:causalml:training the treatment effect model for treatment_b with R-loss\n",
      " 16%|█▌        | 16/100 [00:09<00:52,  1.59it/s]INFO:causalml:generating out-of-fold CV outcome estimates\n",
      "INFO:causalml:training the treatment effect model for treatment_a with R-loss\n",
      "INFO:causalml:training the treatment effect model for treatment_b with R-loss\n",
      " 17%|█▋        | 17/100 [00:09<00:50,  1.65it/s]INFO:causalml:generating out-of-fold CV outcome estimates\n",
      "INFO:causalml:training the treatment effect model for treatment_a with R-loss\n",
      "INFO:causalml:training the treatment effect model for treatment_b with R-loss\n",
      " 18%|█▊        | 18/100 [00:10<00:48,  1.69it/s]INFO:causalml:generating out-of-fold CV outcome estimates\n",
      "INFO:causalml:training the treatment effect model for treatment_a with R-loss\n",
      "INFO:causalml:training the treatment effect model for treatment_b with R-loss\n",
      " 19%|█▉        | 19/100 [00:11<00:46,  1.74it/s]INFO:causalml:generating out-of-fold CV outcome estimates\n",
      "INFO:causalml:training the treatment effect model for treatment_a with R-loss\n",
      "INFO:causalml:training the treatment effect model for treatment_b with R-loss\n",
      " 20%|██        | 20/100 [00:11<00:44,  1.81it/s]INFO:causalml:generating out-of-fold CV outcome estimates\n",
      "INFO:causalml:training the treatment effect model for treatment_a with R-loss\n",
      "INFO:causalml:training the treatment effect model for treatment_b with R-loss\n",
      " 21%|██        | 21/100 [00:12<00:44,  1.77it/s]INFO:causalml:generating out-of-fold CV outcome estimates\n",
      "INFO:causalml:training the treatment effect model for treatment_a with R-loss\n",
      "INFO:causalml:training the treatment effect model for treatment_b with R-loss\n",
      " 22%|██▏       | 22/100 [00:12<00:41,  1.86it/s]INFO:causalml:generating out-of-fold CV outcome estimates\n",
      "INFO:causalml:training the treatment effect model for treatment_a with R-loss\n",
      "INFO:causalml:training the treatment effect model for treatment_b with R-loss\n",
      " 23%|██▎       | 23/100 [00:13<00:40,  1.91it/s]INFO:causalml:generating out-of-fold CV outcome estimates\n",
      "INFO:causalml:training the treatment effect model for treatment_a with R-loss\n",
      "INFO:causalml:training the treatment effect model for treatment_b with R-loss\n",
      " 24%|██▍       | 24/100 [00:13<00:39,  1.93it/s]INFO:causalml:generating out-of-fold CV outcome estimates\n",
      "INFO:causalml:training the treatment effect model for treatment_a with R-loss\n",
      "INFO:causalml:training the treatment effect model for treatment_b with R-loss\n",
      " 25%|██▌       | 25/100 [00:14<00:45,  1.65it/s]INFO:causalml:generating out-of-fold CV outcome estimates\n",
      "INFO:causalml:training the treatment effect model for treatment_a with R-loss\n",
      "INFO:causalml:training the treatment effect model for treatment_b with R-loss\n",
      " 26%|██▌       | 26/100 [00:14<00:42,  1.73it/s]INFO:causalml:generating out-of-fold CV outcome estimates\n",
      "INFO:causalml:training the treatment effect model for treatment_a with R-loss\n",
      "INFO:causalml:training the treatment effect model for treatment_b with R-loss\n",
      " 27%|██▋       | 27/100 [00:15<00:40,  1.81it/s]INFO:causalml:generating out-of-fold CV outcome estimates\n",
      "INFO:causalml:training the treatment effect model for treatment_a with R-loss\n",
      "INFO:causalml:training the treatment effect model for treatment_b with R-loss\n",
      " 28%|██▊       | 28/100 [00:15<00:40,  1.78it/s]INFO:causalml:generating out-of-fold CV outcome estimates\n",
      "INFO:causalml:training the treatment effect model for treatment_a with R-loss\n",
      "INFO:causalml:training the treatment effect model for treatment_b with R-loss\n",
      " 29%|██▉       | 29/100 [00:16<00:40,  1.77it/s]INFO:causalml:generating out-of-fold CV outcome estimates\n",
      "INFO:causalml:training the treatment effect model for treatment_a with R-loss\n",
      "INFO:causalml:training the treatment effect model for treatment_b with R-loss\n",
      " 30%|███       | 30/100 [00:17<00:40,  1.72it/s]INFO:causalml:generating out-of-fold CV outcome estimates\n",
      "INFO:causalml:training the treatment effect model for treatment_a with R-loss\n",
      "INFO:causalml:training the treatment effect model for treatment_b with R-loss\n",
      " 31%|███       | 31/100 [00:17<00:38,  1.77it/s]INFO:causalml:generating out-of-fold CV outcome estimates\n",
      "INFO:causalml:training the treatment effect model for treatment_a with R-loss\n",
      "INFO:causalml:training the treatment effect model for treatment_b with R-loss\n",
      " 32%|███▏      | 32/100 [00:18<00:40,  1.69it/s]INFO:causalml:generating out-of-fold CV outcome estimates\n",
      "INFO:causalml:training the treatment effect model for treatment_a with R-loss\n",
      "INFO:causalml:training the treatment effect model for treatment_b with R-loss\n",
      " 33%|███▎      | 33/100 [00:18<00:37,  1.78it/s]INFO:causalml:generating out-of-fold CV outcome estimates\n",
      "INFO:causalml:training the treatment effect model for treatment_a with R-loss\n",
      "INFO:causalml:training the treatment effect model for treatment_b with R-loss\n",
      " 34%|███▍      | 34/100 [00:19<00:36,  1.83it/s]INFO:causalml:generating out-of-fold CV outcome estimates\n",
      "INFO:causalml:training the treatment effect model for treatment_a with R-loss\n",
      "INFO:causalml:training the treatment effect model for treatment_b with R-loss\n",
      " 35%|███▌      | 35/100 [00:19<00:34,  1.87it/s]INFO:causalml:generating out-of-fold CV outcome estimates\n",
      "INFO:causalml:training the treatment effect model for treatment_a with R-loss\n",
      "INFO:causalml:training the treatment effect model for treatment_b with R-loss\n",
      " 36%|███▌      | 36/100 [00:20<00:34,  1.85it/s]INFO:causalml:generating out-of-fold CV outcome estimates\n",
      "INFO:causalml:training the treatment effect model for treatment_a with R-loss\n",
      "INFO:causalml:training the treatment effect model for treatment_b with R-loss\n",
      " 37%|███▋      | 37/100 [00:20<00:34,  1.85it/s]INFO:causalml:generating out-of-fold CV outcome estimates\n",
      "INFO:causalml:training the treatment effect model for treatment_a with R-loss\n",
      "INFO:causalml:training the treatment effect model for treatment_b with R-loss\n",
      " 38%|███▊      | 38/100 [00:21<00:33,  1.86it/s]INFO:causalml:generating out-of-fold CV outcome estimates\n",
      "INFO:causalml:training the treatment effect model for treatment_a with R-loss\n",
      "INFO:causalml:training the treatment effect model for treatment_b with R-loss\n",
      " 39%|███▉      | 39/100 [00:22<00:33,  1.80it/s]INFO:causalml:generating out-of-fold CV outcome estimates\n",
      "INFO:causalml:training the treatment effect model for treatment_a with R-loss\n",
      "INFO:causalml:training the treatment effect model for treatment_b with R-loss\n",
      " 40%|████      | 40/100 [00:22<00:36,  1.62it/s]INFO:causalml:generating out-of-fold CV outcome estimates\n",
      "INFO:causalml:training the treatment effect model for treatment_a with R-loss\n",
      "INFO:causalml:training the treatment effect model for treatment_b with R-loss\n",
      " 41%|████      | 41/100 [00:23<00:35,  1.64it/s]INFO:causalml:generating out-of-fold CV outcome estimates\n",
      "INFO:causalml:training the treatment effect model for treatment_a with R-loss\n",
      "INFO:causalml:training the treatment effect model for treatment_b with R-loss\n",
      " 42%|████▏     | 42/100 [00:23<00:33,  1.73it/s]INFO:causalml:generating out-of-fold CV outcome estimates\n",
      "INFO:causalml:training the treatment effect model for treatment_a with R-loss\n",
      "INFO:causalml:training the treatment effect model for treatment_b with R-loss\n",
      " 43%|████▎     | 43/100 [00:25<00:42,  1.33it/s]INFO:causalml:generating out-of-fold CV outcome estimates\n",
      "INFO:causalml:training the treatment effect model for treatment_a with R-loss\n",
      "INFO:causalml:training the treatment effect model for treatment_b with R-loss\n",
      " 44%|████▍     | 44/100 [00:25<00:41,  1.33it/s]INFO:causalml:generating out-of-fold CV outcome estimates\n",
      "INFO:causalml:training the treatment effect model for treatment_a with R-loss\n",
      "INFO:causalml:training the treatment effect model for treatment_b with R-loss\n",
      " 45%|████▌     | 45/100 [00:26<00:40,  1.37it/s]INFO:causalml:generating out-of-fold CV outcome estimates\n",
      "INFO:causalml:training the treatment effect model for treatment_a with R-loss\n",
      "INFO:causalml:training the treatment effect model for treatment_b with R-loss\n",
      " 46%|████▌     | 46/100 [00:27<00:36,  1.47it/s]INFO:causalml:generating out-of-fold CV outcome estimates\n",
      "INFO:causalml:training the treatment effect model for treatment_a with R-loss\n",
      "INFO:causalml:training the treatment effect model for treatment_b with R-loss\n",
      " 47%|████▋     | 47/100 [00:27<00:33,  1.60it/s]INFO:causalml:generating out-of-fold CV outcome estimates\n",
      "INFO:causalml:training the treatment effect model for treatment_a with R-loss\n",
      "INFO:causalml:training the treatment effect model for treatment_b with R-loss\n",
      " 48%|████▊     | 48/100 [00:28<00:30,  1.69it/s]INFO:causalml:generating out-of-fold CV outcome estimates\n",
      "INFO:causalml:training the treatment effect model for treatment_a with R-loss\n",
      "INFO:causalml:training the treatment effect model for treatment_b with R-loss\n",
      " 49%|████▉     | 49/100 [00:28<00:29,  1.72it/s]INFO:causalml:generating out-of-fold CV outcome estimates\n",
      "INFO:causalml:training the treatment effect model for treatment_a with R-loss\n",
      "INFO:causalml:training the treatment effect model for treatment_b with R-loss\n",
      " 50%|█████     | 50/100 [00:29<00:30,  1.62it/s]INFO:causalml:generating out-of-fold CV outcome estimates\n",
      "INFO:causalml:training the treatment effect model for treatment_a with R-loss\n",
      "INFO:causalml:training the treatment effect model for treatment_b with R-loss\n",
      " 51%|█████     | 51/100 [00:30<00:33,  1.46it/s]INFO:causalml:generating out-of-fold CV outcome estimates\n",
      "INFO:causalml:training the treatment effect model for treatment_a with R-loss\n",
      "INFO:causalml:training the treatment effect model for treatment_b with R-loss\n",
      " 52%|█████▏    | 52/100 [00:30<00:33,  1.42it/s]INFO:causalml:generating out-of-fold CV outcome estimates\n",
      "INFO:causalml:training the treatment effect model for treatment_a with R-loss\n",
      "INFO:causalml:training the treatment effect model for treatment_b with R-loss\n",
      " 53%|█████▎    | 53/100 [00:31<00:31,  1.50it/s]INFO:causalml:generating out-of-fold CV outcome estimates\n",
      "INFO:causalml:training the treatment effect model for treatment_a with R-loss\n",
      "INFO:causalml:training the treatment effect model for treatment_b with R-loss\n",
      " 54%|█████▍    | 54/100 [00:32<00:29,  1.55it/s]INFO:causalml:generating out-of-fold CV outcome estimates\n",
      "INFO:causalml:training the treatment effect model for treatment_a with R-loss\n",
      "INFO:causalml:training the treatment effect model for treatment_b with R-loss\n",
      " 55%|█████▌    | 55/100 [00:32<00:28,  1.60it/s]INFO:causalml:generating out-of-fold CV outcome estimates\n",
      "INFO:causalml:training the treatment effect model for treatment_a with R-loss\n",
      "INFO:causalml:training the treatment effect model for treatment_b with R-loss\n",
      " 56%|█████▌    | 56/100 [00:33<00:25,  1.70it/s]INFO:causalml:generating out-of-fold CV outcome estimates\n",
      "INFO:causalml:training the treatment effect model for treatment_a with R-loss\n",
      "INFO:causalml:training the treatment effect model for treatment_b with R-loss\n",
      " 57%|█████▋    | 57/100 [00:33<00:24,  1.74it/s]INFO:causalml:generating out-of-fold CV outcome estimates\n",
      "INFO:causalml:training the treatment effect model for treatment_a with R-loss\n",
      "INFO:causalml:training the treatment effect model for treatment_b with R-loss\n",
      " 58%|█████▊    | 58/100 [00:34<00:23,  1.77it/s]INFO:causalml:generating out-of-fold CV outcome estimates\n",
      "INFO:causalml:training the treatment effect model for treatment_a with R-loss\n",
      "INFO:causalml:training the treatment effect model for treatment_b with R-loss\n",
      " 59%|█████▉    | 59/100 [00:35<00:25,  1.62it/s]INFO:causalml:generating out-of-fold CV outcome estimates\n",
      "INFO:causalml:training the treatment effect model for treatment_a with R-loss\n",
      "INFO:causalml:training the treatment effect model for treatment_b with R-loss\n",
      " 60%|██████    | 60/100 [00:35<00:24,  1.61it/s]INFO:causalml:generating out-of-fold CV outcome estimates\n",
      "INFO:causalml:training the treatment effect model for treatment_a with R-loss\n",
      "INFO:causalml:training the treatment effect model for treatment_b with R-loss\n",
      " 61%|██████    | 61/100 [00:36<00:23,  1.65it/s]INFO:causalml:generating out-of-fold CV outcome estimates\n",
      "INFO:causalml:training the treatment effect model for treatment_a with R-loss\n",
      "INFO:causalml:training the treatment effect model for treatment_b with R-loss\n",
      " 62%|██████▏   | 62/100 [00:36<00:22,  1.68it/s]INFO:causalml:generating out-of-fold CV outcome estimates\n",
      "INFO:causalml:training the treatment effect model for treatment_a with R-loss\n",
      "INFO:causalml:training the treatment effect model for treatment_b with R-loss\n",
      " 63%|██████▎   | 63/100 [00:37<00:21,  1.73it/s]INFO:causalml:generating out-of-fold CV outcome estimates\n",
      "INFO:causalml:training the treatment effect model for treatment_a with R-loss\n",
      "INFO:causalml:training the treatment effect model for treatment_b with R-loss\n",
      " 64%|██████▍   | 64/100 [00:37<00:20,  1.80it/s]INFO:causalml:generating out-of-fold CV outcome estimates\n",
      "INFO:causalml:training the treatment effect model for treatment_a with R-loss\n",
      "INFO:causalml:training the treatment effect model for treatment_b with R-loss\n",
      " 65%|██████▌   | 65/100 [00:38<00:18,  1.85it/s]INFO:causalml:generating out-of-fold CV outcome estimates\n",
      "INFO:causalml:training the treatment effect model for treatment_a with R-loss\n",
      "INFO:causalml:training the treatment effect model for treatment_b with R-loss\n",
      " 66%|██████▌   | 66/100 [00:38<00:19,  1.78it/s]INFO:causalml:generating out-of-fold CV outcome estimates\n",
      "INFO:causalml:training the treatment effect model for treatment_a with R-loss\n",
      "INFO:causalml:training the treatment effect model for treatment_b with R-loss\n",
      " 67%|██████▋   | 67/100 [00:39<00:18,  1.80it/s]INFO:causalml:generating out-of-fold CV outcome estimates\n",
      "INFO:causalml:training the treatment effect model for treatment_a with R-loss\n",
      "INFO:causalml:training the treatment effect model for treatment_b with R-loss\n",
      " 68%|██████▊   | 68/100 [00:40<00:19,  1.67it/s]INFO:causalml:generating out-of-fold CV outcome estimates\n",
      "INFO:causalml:training the treatment effect model for treatment_a with R-loss\n",
      "INFO:causalml:training the treatment effect model for treatment_b with R-loss\n",
      " 69%|██████▉   | 69/100 [00:40<00:18,  1.69it/s]INFO:causalml:generating out-of-fold CV outcome estimates\n",
      "INFO:causalml:training the treatment effect model for treatment_a with R-loss\n",
      "INFO:causalml:training the treatment effect model for treatment_b with R-loss\n",
      " 70%|███████   | 70/100 [00:41<00:17,  1.74it/s]INFO:causalml:generating out-of-fold CV outcome estimates\n",
      "INFO:causalml:training the treatment effect model for treatment_a with R-loss\n",
      "INFO:causalml:training the treatment effect model for treatment_b with R-loss\n",
      " 71%|███████   | 71/100 [00:41<00:16,  1.77it/s]INFO:causalml:generating out-of-fold CV outcome estimates\n",
      "INFO:causalml:training the treatment effect model for treatment_a with R-loss\n",
      "INFO:causalml:training the treatment effect model for treatment_b with R-loss\n",
      " 72%|███████▏  | 72/100 [00:42<00:15,  1.82it/s]INFO:causalml:generating out-of-fold CV outcome estimates\n",
      "INFO:causalml:training the treatment effect model for treatment_a with R-loss\n",
      "INFO:causalml:training the treatment effect model for treatment_b with R-loss\n",
      " 73%|███████▎  | 73/100 [00:42<00:14,  1.85it/s]INFO:causalml:generating out-of-fold CV outcome estimates\n",
      "INFO:causalml:training the treatment effect model for treatment_a with R-loss\n",
      "INFO:causalml:training the treatment effect model for treatment_b with R-loss\n",
      " 74%|███████▍  | 74/100 [00:43<00:16,  1.55it/s]INFO:causalml:generating out-of-fold CV outcome estimates\n",
      "INFO:causalml:training the treatment effect model for treatment_a with R-loss\n",
      "INFO:causalml:training the treatment effect model for treatment_b with R-loss\n",
      " 75%|███████▌  | 75/100 [00:44<00:17,  1.39it/s]INFO:causalml:generating out-of-fold CV outcome estimates\n",
      "INFO:causalml:training the treatment effect model for treatment_a with R-loss\n",
      "INFO:causalml:training the treatment effect model for treatment_b with R-loss\n",
      " 76%|███████▌  | 76/100 [00:45<00:15,  1.53it/s]INFO:causalml:generating out-of-fold CV outcome estimates\n",
      "INFO:causalml:training the treatment effect model for treatment_a with R-loss\n",
      "INFO:causalml:training the treatment effect model for treatment_b with R-loss\n",
      " 77%|███████▋  | 77/100 [00:45<00:14,  1.56it/s]INFO:causalml:generating out-of-fold CV outcome estimates\n",
      "INFO:causalml:training the treatment effect model for treatment_a with R-loss\n",
      "INFO:causalml:training the treatment effect model for treatment_b with R-loss\n",
      " 78%|███████▊  | 78/100 [00:46<00:13,  1.66it/s]INFO:causalml:generating out-of-fold CV outcome estimates\n",
      "INFO:causalml:training the treatment effect model for treatment_a with R-loss\n",
      "INFO:causalml:training the treatment effect model for treatment_b with R-loss\n",
      " 79%|███████▉  | 79/100 [00:46<00:12,  1.72it/s]INFO:causalml:generating out-of-fold CV outcome estimates\n",
      "INFO:causalml:training the treatment effect model for treatment_a with R-loss\n",
      "INFO:causalml:training the treatment effect model for treatment_b with R-loss\n",
      " 80%|████████  | 80/100 [00:47<00:11,  1.81it/s]INFO:causalml:generating out-of-fold CV outcome estimates\n",
      "INFO:causalml:training the treatment effect model for treatment_a with R-loss\n",
      "INFO:causalml:training the treatment effect model for treatment_b with R-loss\n",
      " 81%|████████  | 81/100 [00:47<00:10,  1.79it/s]INFO:causalml:generating out-of-fold CV outcome estimates\n",
      "INFO:causalml:training the treatment effect model for treatment_a with R-loss\n",
      "INFO:causalml:training the treatment effect model for treatment_b with R-loss\n",
      " 82%|████████▏ | 82/100 [00:48<00:09,  1.88it/s]INFO:causalml:generating out-of-fold CV outcome estimates\n",
      "INFO:causalml:training the treatment effect model for treatment_a with R-loss\n",
      "INFO:causalml:training the treatment effect model for treatment_b with R-loss\n",
      " 83%|████████▎ | 83/100 [00:48<00:08,  1.90it/s]INFO:causalml:generating out-of-fold CV outcome estimates\n",
      "INFO:causalml:training the treatment effect model for treatment_a with R-loss\n",
      "INFO:causalml:training the treatment effect model for treatment_b with R-loss\n",
      " 84%|████████▍ | 84/100 [00:49<00:08,  1.81it/s]INFO:causalml:generating out-of-fold CV outcome estimates\n",
      "INFO:causalml:training the treatment effect model for treatment_a with R-loss\n",
      "INFO:causalml:training the treatment effect model for treatment_b with R-loss\n",
      " 85%|████████▌ | 85/100 [00:49<00:07,  1.91it/s]INFO:causalml:generating out-of-fold CV outcome estimates\n",
      "INFO:causalml:training the treatment effect model for treatment_a with R-loss\n",
      "INFO:causalml:training the treatment effect model for treatment_b with R-loss\n",
      " 86%|████████▌ | 86/100 [00:50<00:07,  1.90it/s]INFO:causalml:generating out-of-fold CV outcome estimates\n",
      "INFO:causalml:training the treatment effect model for treatment_a with R-loss\n",
      "INFO:causalml:training the treatment effect model for treatment_b with R-loss\n",
      " 87%|████████▋ | 87/100 [00:50<00:06,  1.95it/s]INFO:causalml:generating out-of-fold CV outcome estimates\n",
      "INFO:causalml:training the treatment effect model for treatment_a with R-loss\n",
      "INFO:causalml:training the treatment effect model for treatment_b with R-loss\n",
      " 88%|████████▊ | 88/100 [00:51<00:06,  1.95it/s]INFO:causalml:generating out-of-fold CV outcome estimates\n",
      "INFO:causalml:training the treatment effect model for treatment_a with R-loss\n",
      "INFO:causalml:training the treatment effect model for treatment_b with R-loss\n",
      " 89%|████████▉ | 89/100 [00:51<00:05,  1.95it/s]INFO:causalml:generating out-of-fold CV outcome estimates\n",
      "INFO:causalml:training the treatment effect model for treatment_a with R-loss\n",
      "INFO:causalml:training the treatment effect model for treatment_b with R-loss\n",
      " 90%|█████████ | 90/100 [00:52<00:04,  2.00it/s]INFO:causalml:generating out-of-fold CV outcome estimates\n",
      "INFO:causalml:training the treatment effect model for treatment_a with R-loss\n",
      "INFO:causalml:training the treatment effect model for treatment_b with R-loss\n",
      " 91%|█████████ | 91/100 [00:53<00:04,  1.95it/s]INFO:causalml:generating out-of-fold CV outcome estimates\n",
      "INFO:causalml:training the treatment effect model for treatment_a with R-loss\n",
      "INFO:causalml:training the treatment effect model for treatment_b with R-loss\n",
      " 92%|█████████▏| 92/100 [00:53<00:04,  1.99it/s]INFO:causalml:generating out-of-fold CV outcome estimates\n",
      "INFO:causalml:training the treatment effect model for treatment_a with R-loss\n",
      "INFO:causalml:training the treatment effect model for treatment_b with R-loss\n",
      " 93%|█████████▎| 93/100 [00:53<00:03,  2.02it/s]INFO:causalml:generating out-of-fold CV outcome estimates\n",
      "INFO:causalml:training the treatment effect model for treatment_a with R-loss\n",
      "INFO:causalml:training the treatment effect model for treatment_b with R-loss\n",
      " 94%|█████████▍| 94/100 [00:54<00:03,  1.94it/s]INFO:causalml:generating out-of-fold CV outcome estimates\n",
      "INFO:causalml:training the treatment effect model for treatment_a with R-loss\n",
      "INFO:causalml:training the treatment effect model for treatment_b with R-loss\n",
      " 95%|█████████▌| 95/100 [00:55<00:02,  1.96it/s]INFO:causalml:generating out-of-fold CV outcome estimates\n",
      "INFO:causalml:training the treatment effect model for treatment_a with R-loss\n",
      "INFO:causalml:training the treatment effect model for treatment_b with R-loss\n",
      " 96%|█████████▌| 96/100 [00:55<00:02,  1.79it/s]INFO:causalml:generating out-of-fold CV outcome estimates\n",
      "INFO:causalml:training the treatment effect model for treatment_a with R-loss\n",
      "INFO:causalml:training the treatment effect model for treatment_b with R-loss\n",
      " 97%|█████████▋| 97/100 [00:56<00:01,  1.85it/s]INFO:causalml:generating out-of-fold CV outcome estimates\n",
      "INFO:causalml:training the treatment effect model for treatment_a with R-loss\n",
      "INFO:causalml:training the treatment effect model for treatment_b with R-loss\n",
      " 98%|█████████▊| 98/100 [00:56<00:01,  1.82it/s]INFO:causalml:generating out-of-fold CV outcome estimates\n",
      "INFO:causalml:training the treatment effect model for treatment_a with R-loss\n",
      "INFO:causalml:training the treatment effect model for treatment_b with R-loss\n",
      " 99%|█████████▉| 99/100 [00:57<00:00,  1.90it/s]INFO:causalml:generating out-of-fold CV outcome estimates\n",
      "INFO:causalml:training the treatment effect model for treatment_a with R-loss\n",
      "INFO:causalml:training the treatment effect model for treatment_b with R-loss\n",
      "100%|██████████| 100/100 [00:57<00:00,  1.73it/s]\n"
     ]
    }
   ],
   "source": [
    "learner_r = BaseRRegressor(XGBRegressor(), control_name='control')\n",
    "cate_r, cate_r_lb, cate_r_ub = learner_r.fit_predict(X=X, treatment=treatment, y=y, p=e, return_ci=True,\n",
    "                                                     n_bootstraps=100, bootstrap_size=1000)"
   ]
  },
  {
   "cell_type": "code",
   "execution_count": 130,
   "metadata": {
    "ExecuteTime": {
     "end_time": "2020-04-14T19:24:29.445452Z",
     "start_time": "2020-04-14T19:24:29.400875Z"
    }
   },
   "outputs": [
    {
     "data": {
      "text/plain": [
       "array([[ 0.69759923,  1.98660493],\n",
       "       [ 0.86930412,  0.85287362],\n",
       "       [-1.41234696, -0.41389269],\n",
       "       ...,\n",
       "       [ 0.2003686 ,  0.23568387],\n",
       "       [ 0.27063122,  1.12373257],\n",
       "       [ 0.22076607, -1.01778758]])"
      ]
     },
     "execution_count": 130,
     "metadata": {},
     "output_type": "execute_result"
    }
   ],
   "source": [
    "cate_r"
   ]
  },
  {
   "cell_type": "code",
   "execution_count": 131,
   "metadata": {
    "ExecuteTime": {
     "end_time": "2020-04-14T19:24:29.493876Z",
     "start_time": "2020-04-14T19:24:29.447754Z"
    }
   },
   "outputs": [
    {
     "data": {
      "text/plain": [
       "array([[-1.63802417, -1.62833956],\n",
       "       [-1.9073961 , -2.53283474],\n",
       "       [-2.27743037, -4.31789323],\n",
       "       ...,\n",
       "       [-4.48231773, -4.80733117],\n",
       "       [-2.87203103, -1.9526327 ],\n",
       "       [-2.37416928, -2.48644573]])"
      ]
     },
     "execution_count": 131,
     "metadata": {},
     "output_type": "execute_result"
    }
   ],
   "source": [
    "cate_r_lb"
   ]
  },
  {
   "cell_type": "code",
   "execution_count": 132,
   "metadata": {
    "ExecuteTime": {
     "end_time": "2020-04-14T19:24:29.541179Z",
     "start_time": "2020-04-14T19:24:29.496419Z"
    }
   },
   "outputs": [
    {
     "data": {
      "text/plain": [
       "array([[3.81091431, 2.62589681],\n",
       "       [3.07949586, 4.02612439],\n",
       "       [4.26488676, 2.99495066],\n",
       "       ...,\n",
       "       [3.11108944, 4.17014825],\n",
       "       [2.3913163 , 3.17441444],\n",
       "       [2.98504456, 3.54218569]])"
      ]
     },
     "execution_count": 132,
     "metadata": {},
     "output_type": "execute_result"
    }
   ],
   "source": [
    "cate_r_ub"
   ]
  },
  {
   "cell_type": "markdown",
   "metadata": {},
   "source": [
    "#### Without Propensity Score Input"
   ]
  },
  {
   "cell_type": "code",
   "execution_count": 133,
   "metadata": {
    "ExecuteTime": {
     "start_time": "2020-04-14T18:47:09.698Z"
    },
    "scrolled": true
   },
   "outputs": [
    {
     "name": "stderr",
     "output_type": "stream",
     "text": [
      "INFO:causalml:generating out-of-fold CV outcome estimates\n",
      "INFO:causalml:training the treatment effect model for treatment_a with R-loss\n",
      "INFO:causalml:training the treatment effect model for treatment_b with R-loss\n",
      "INFO:causalml:Bootstrap Confidence Intervals\n",
      "  0%|          | 0/100 [00:00<?, ?it/s]INFO:causalml:generating out-of-fold CV outcome estimates\n",
      "INFO:causalml:training the treatment effect model for treatment_a with R-loss\n",
      "INFO:causalml:training the treatment effect model for treatment_b with R-loss\n",
      "  1%|          | 1/100 [00:00<00:46,  2.14it/s]INFO:causalml:generating out-of-fold CV outcome estimates\n",
      "INFO:causalml:training the treatment effect model for treatment_a with R-loss\n",
      "INFO:causalml:training the treatment effect model for treatment_b with R-loss\n",
      "  2%|▏         | 2/100 [00:00<00:48,  2.03it/s]INFO:causalml:generating out-of-fold CV outcome estimates\n",
      "INFO:causalml:training the treatment effect model for treatment_a with R-loss\n",
      "INFO:causalml:training the treatment effect model for treatment_b with R-loss\n",
      "  3%|▎         | 3/100 [00:01<00:49,  1.97it/s]INFO:causalml:generating out-of-fold CV outcome estimates\n",
      "INFO:causalml:training the treatment effect model for treatment_a with R-loss\n",
      "INFO:causalml:training the treatment effect model for treatment_b with R-loss\n",
      "  4%|▍         | 4/100 [00:02<00:51,  1.86it/s]INFO:causalml:generating out-of-fold CV outcome estimates\n",
      "INFO:causalml:training the treatment effect model for treatment_a with R-loss\n",
      "INFO:causalml:training the treatment effect model for treatment_b with R-loss\n",
      "  5%|▌         | 5/100 [00:02<00:50,  1.88it/s]INFO:causalml:generating out-of-fold CV outcome estimates\n",
      "INFO:causalml:training the treatment effect model for treatment_a with R-loss\n",
      "INFO:causalml:training the treatment effect model for treatment_b with R-loss\n",
      "  6%|▌         | 6/100 [00:03<00:49,  1.91it/s]INFO:causalml:generating out-of-fold CV outcome estimates\n",
      "INFO:causalml:training the treatment effect model for treatment_a with R-loss\n",
      "INFO:causalml:training the treatment effect model for treatment_b with R-loss\n",
      "  7%|▋         | 7/100 [00:03<00:49,  1.88it/s]INFO:causalml:generating out-of-fold CV outcome estimates\n",
      "INFO:causalml:training the treatment effect model for treatment_a with R-loss\n",
      "INFO:causalml:training the treatment effect model for treatment_b with R-loss\n",
      "  8%|▊         | 8/100 [00:04<00:48,  1.91it/s]INFO:causalml:generating out-of-fold CV outcome estimates\n",
      "INFO:causalml:training the treatment effect model for treatment_a with R-loss\n",
      "INFO:causalml:training the treatment effect model for treatment_b with R-loss\n",
      "  9%|▉         | 9/100 [00:04<00:47,  1.91it/s]INFO:causalml:generating out-of-fold CV outcome estimates\n",
      "INFO:causalml:training the treatment effect model for treatment_a with R-loss\n",
      "INFO:causalml:training the treatment effect model for treatment_b with R-loss\n",
      " 10%|█         | 10/100 [00:05<00:46,  1.93it/s]INFO:causalml:generating out-of-fold CV outcome estimates\n",
      "INFO:causalml:training the treatment effect model for treatment_a with R-loss\n",
      "INFO:causalml:training the treatment effect model for treatment_b with R-loss\n",
      " 11%|█         | 11/100 [00:05<00:45,  1.96it/s]INFO:causalml:generating out-of-fold CV outcome estimates\n",
      "INFO:causalml:training the treatment effect model for treatment_a with R-loss\n",
      "INFO:causalml:training the treatment effect model for treatment_b with R-loss\n",
      " 12%|█▏        | 12/100 [00:06<00:43,  2.02it/s]INFO:causalml:generating out-of-fold CV outcome estimates\n",
      "INFO:causalml:training the treatment effect model for treatment_a with R-loss\n",
      "INFO:causalml:training the treatment effect model for treatment_b with R-loss\n",
      " 13%|█▎        | 13/100 [00:06<00:48,  1.80it/s]INFO:causalml:generating out-of-fold CV outcome estimates\n",
      "INFO:causalml:training the treatment effect model for treatment_a with R-loss\n",
      "INFO:causalml:training the treatment effect model for treatment_b with R-loss\n",
      " 14%|█▍        | 14/100 [00:07<00:56,  1.51it/s]INFO:causalml:generating out-of-fold CV outcome estimates\n",
      "INFO:causalml:training the treatment effect model for treatment_a with R-loss\n",
      "INFO:causalml:training the treatment effect model for treatment_b with R-loss\n",
      " 15%|█▌        | 15/100 [00:08<00:52,  1.60it/s]INFO:causalml:generating out-of-fold CV outcome estimates\n",
      "INFO:causalml:training the treatment effect model for treatment_a with R-loss\n",
      "INFO:causalml:training the treatment effect model for treatment_b with R-loss\n",
      " 16%|█▌        | 16/100 [00:08<00:48,  1.73it/s]INFO:causalml:generating out-of-fold CV outcome estimates\n",
      "INFO:causalml:training the treatment effect model for treatment_a with R-loss\n",
      "INFO:causalml:training the treatment effect model for treatment_b with R-loss\n",
      " 17%|█▋        | 17/100 [00:09<00:46,  1.80it/s]INFO:causalml:generating out-of-fold CV outcome estimates\n",
      "INFO:causalml:training the treatment effect model for treatment_a with R-loss\n",
      "INFO:causalml:training the treatment effect model for treatment_b with R-loss\n",
      " 18%|█▊        | 18/100 [00:09<00:44,  1.85it/s]INFO:causalml:generating out-of-fold CV outcome estimates\n",
      "INFO:causalml:training the treatment effect model for treatment_a with R-loss\n",
      "INFO:causalml:training the treatment effect model for treatment_b with R-loss\n",
      " 19%|█▉        | 19/100 [00:10<00:43,  1.88it/s]INFO:causalml:generating out-of-fold CV outcome estimates\n",
      "INFO:causalml:training the treatment effect model for treatment_a with R-loss\n",
      "INFO:causalml:training the treatment effect model for treatment_b with R-loss\n",
      " 20%|██        | 20/100 [00:10<00:44,  1.80it/s]INFO:causalml:generating out-of-fold CV outcome estimates\n",
      "INFO:causalml:training the treatment effect model for treatment_a with R-loss\n",
      "INFO:causalml:training the treatment effect model for treatment_b with R-loss\n",
      " 21%|██        | 21/100 [00:11<00:43,  1.82it/s]INFO:causalml:generating out-of-fold CV outcome estimates\n",
      "INFO:causalml:training the treatment effect model for treatment_a with R-loss\n",
      "INFO:causalml:training the treatment effect model for treatment_b with R-loss\n",
      " 22%|██▏       | 22/100 [00:12<00:46,  1.67it/s]INFO:causalml:generating out-of-fold CV outcome estimates\n",
      "INFO:causalml:training the treatment effect model for treatment_a with R-loss\n",
      "INFO:causalml:training the treatment effect model for treatment_b with R-loss\n",
      " 23%|██▎       | 23/100 [00:12<00:44,  1.72it/s]INFO:causalml:generating out-of-fold CV outcome estimates\n",
      "INFO:causalml:training the treatment effect model for treatment_a with R-loss\n",
      "INFO:causalml:training the treatment effect model for treatment_b with R-loss\n",
      " 24%|██▍       | 24/100 [00:13<00:43,  1.73it/s]INFO:causalml:generating out-of-fold CV outcome estimates\n",
      "INFO:causalml:training the treatment effect model for treatment_a with R-loss\n",
      "INFO:causalml:training the treatment effect model for treatment_b with R-loss\n",
      " 25%|██▌       | 25/100 [00:13<00:45,  1.66it/s]INFO:causalml:generating out-of-fold CV outcome estimates\n",
      "INFO:causalml:training the treatment effect model for treatment_a with R-loss\n",
      "INFO:causalml:training the treatment effect model for treatment_b with R-loss\n",
      " 26%|██▌       | 26/100 [00:14<00:42,  1.73it/s]INFO:causalml:generating out-of-fold CV outcome estimates\n",
      "INFO:causalml:training the treatment effect model for treatment_a with R-loss\n",
      "INFO:causalml:training the treatment effect model for treatment_b with R-loss\n",
      " 27%|██▋       | 27/100 [00:14<00:41,  1.76it/s]INFO:causalml:generating out-of-fold CV outcome estimates\n",
      "INFO:causalml:training the treatment effect model for treatment_a with R-loss\n",
      "INFO:causalml:training the treatment effect model for treatment_b with R-loss\n",
      " 28%|██▊       | 28/100 [00:15<00:38,  1.85it/s]INFO:causalml:generating out-of-fold CV outcome estimates\n",
      "INFO:causalml:training the treatment effect model for treatment_a with R-loss\n",
      "INFO:causalml:training the treatment effect model for treatment_b with R-loss\n",
      " 29%|██▉       | 29/100 [00:16<00:38,  1.85it/s]INFO:causalml:generating out-of-fold CV outcome estimates\n",
      "INFO:causalml:training the treatment effect model for treatment_a with R-loss\n",
      "INFO:causalml:training the treatment effect model for treatment_b with R-loss\n",
      " 30%|███       | 30/100 [00:16<00:37,  1.85it/s]INFO:causalml:generating out-of-fold CV outcome estimates\n",
      "INFO:causalml:training the treatment effect model for treatment_a with R-loss\n",
      "INFO:causalml:training the treatment effect model for treatment_b with R-loss\n",
      " 31%|███       | 31/100 [00:17<00:38,  1.78it/s]INFO:causalml:generating out-of-fold CV outcome estimates\n",
      "INFO:causalml:training the treatment effect model for treatment_a with R-loss\n",
      "INFO:causalml:training the treatment effect model for treatment_b with R-loss\n",
      " 32%|███▏      | 32/100 [00:17<00:38,  1.77it/s]INFO:causalml:generating out-of-fold CV outcome estimates\n",
      "INFO:causalml:training the treatment effect model for treatment_a with R-loss\n",
      "INFO:causalml:training the treatment effect model for treatment_b with R-loss\n",
      " 33%|███▎      | 33/100 [00:18<00:39,  1.71it/s]INFO:causalml:generating out-of-fold CV outcome estimates\n",
      "INFO:causalml:training the treatment effect model for treatment_a with R-loss\n",
      "INFO:causalml:training the treatment effect model for treatment_b with R-loss\n",
      " 34%|███▍      | 34/100 [00:18<00:36,  1.81it/s]INFO:causalml:generating out-of-fold CV outcome estimates\n",
      "INFO:causalml:training the treatment effect model for treatment_a with R-loss\n",
      "INFO:causalml:training the treatment effect model for treatment_b with R-loss\n",
      " 35%|███▌      | 35/100 [00:19<00:36,  1.79it/s]INFO:causalml:generating out-of-fold CV outcome estimates\n",
      "INFO:causalml:training the treatment effect model for treatment_a with R-loss\n",
      "INFO:causalml:training the treatment effect model for treatment_b with R-loss\n",
      " 36%|███▌      | 36/100 [00:19<00:34,  1.86it/s]INFO:causalml:generating out-of-fold CV outcome estimates\n",
      "INFO:causalml:training the treatment effect model for treatment_a with R-loss\n",
      "INFO:causalml:training the treatment effect model for treatment_b with R-loss\n",
      " 37%|███▋      | 37/100 [00:20<00:32,  1.94it/s]INFO:causalml:generating out-of-fold CV outcome estimates\n",
      "INFO:causalml:training the treatment effect model for treatment_a with R-loss\n",
      "INFO:causalml:training the treatment effect model for treatment_b with R-loss\n",
      " 38%|███▊      | 38/100 [00:20<00:31,  1.94it/s]INFO:causalml:generating out-of-fold CV outcome estimates\n",
      "INFO:causalml:training the treatment effect model for treatment_a with R-loss\n",
      "INFO:causalml:training the treatment effect model for treatment_b with R-loss\n",
      " 39%|███▉      | 39/100 [00:21<00:37,  1.63it/s]INFO:causalml:generating out-of-fold CV outcome estimates\n",
      "INFO:causalml:training the treatment effect model for treatment_a with R-loss\n",
      "INFO:causalml:training the treatment effect model for treatment_b with R-loss\n",
      " 40%|████      | 40/100 [00:22<00:34,  1.72it/s]INFO:causalml:generating out-of-fold CV outcome estimates\n",
      "INFO:causalml:training the treatment effect model for treatment_a with R-loss\n",
      "INFO:causalml:training the treatment effect model for treatment_b with R-loss\n",
      " 41%|████      | 41/100 [00:22<00:33,  1.79it/s]INFO:causalml:generating out-of-fold CV outcome estimates\n",
      "INFO:causalml:training the treatment effect model for treatment_a with R-loss\n",
      "INFO:causalml:training the treatment effect model for treatment_b with R-loss\n",
      " 42%|████▏     | 42/100 [00:23<00:31,  1.87it/s]INFO:causalml:generating out-of-fold CV outcome estimates\n",
      "INFO:causalml:training the treatment effect model for treatment_a with R-loss\n",
      "INFO:causalml:training the treatment effect model for treatment_b with R-loss\n",
      " 43%|████▎     | 43/100 [00:23<00:29,  1.92it/s]INFO:causalml:generating out-of-fold CV outcome estimates\n",
      "INFO:causalml:training the treatment effect model for treatment_a with R-loss\n",
      "INFO:causalml:training the treatment effect model for treatment_b with R-loss\n",
      " 44%|████▍     | 44/100 [00:24<00:28,  1.97it/s]INFO:causalml:generating out-of-fold CV outcome estimates\n",
      "INFO:causalml:training the treatment effect model for treatment_a with R-loss\n",
      "INFO:causalml:training the treatment effect model for treatment_b with R-loss\n",
      " 45%|████▌     | 45/100 [00:24<00:27,  2.01it/s]INFO:causalml:generating out-of-fold CV outcome estimates\n",
      "INFO:causalml:training the treatment effect model for treatment_a with R-loss\n",
      "INFO:causalml:training the treatment effect model for treatment_b with R-loss\n",
      " 46%|████▌     | 46/100 [00:25<00:26,  2.02it/s]INFO:causalml:generating out-of-fold CV outcome estimates\n",
      "INFO:causalml:training the treatment effect model for treatment_a with R-loss\n",
      "INFO:causalml:training the treatment effect model for treatment_b with R-loss\n",
      " 47%|████▋     | 47/100 [00:25<00:25,  2.08it/s]INFO:causalml:generating out-of-fold CV outcome estimates\n",
      "INFO:causalml:training the treatment effect model for treatment_a with R-loss\n",
      "INFO:causalml:training the treatment effect model for treatment_b with R-loss\n",
      " 48%|████▊     | 48/100 [00:26<00:29,  1.75it/s]INFO:causalml:generating out-of-fold CV outcome estimates\n",
      "INFO:causalml:training the treatment effect model for treatment_a with R-loss\n",
      "INFO:causalml:training the treatment effect model for treatment_b with R-loss\n",
      " 49%|████▉     | 49/100 [00:26<00:29,  1.75it/s]INFO:causalml:generating out-of-fold CV outcome estimates\n",
      "INFO:causalml:training the treatment effect model for treatment_a with R-loss\n",
      "INFO:causalml:training the treatment effect model for treatment_b with R-loss\n",
      " 50%|█████     | 50/100 [00:27<00:27,  1.82it/s]INFO:causalml:generating out-of-fold CV outcome estimates\n",
      "INFO:causalml:training the treatment effect model for treatment_a with R-loss\n",
      "INFO:causalml:training the treatment effect model for treatment_b with R-loss\n",
      " 51%|█████     | 51/100 [00:28<00:30,  1.63it/s]INFO:causalml:generating out-of-fold CV outcome estimates\n",
      "INFO:causalml:training the treatment effect model for treatment_a with R-loss\n",
      "INFO:causalml:training the treatment effect model for treatment_b with R-loss\n",
      " 52%|█████▏    | 52/100 [00:28<00:30,  1.59it/s]INFO:causalml:generating out-of-fold CV outcome estimates\n",
      "INFO:causalml:training the treatment effect model for treatment_a with R-loss\n",
      "INFO:causalml:training the treatment effect model for treatment_b with R-loss\n",
      " 53%|█████▎    | 53/100 [00:29<00:31,  1.52it/s]INFO:causalml:generating out-of-fold CV outcome estimates\n",
      "INFO:causalml:training the treatment effect model for treatment_a with R-loss\n",
      "INFO:causalml:training the treatment effect model for treatment_b with R-loss\n",
      " 54%|█████▍    | 54/100 [00:30<00:27,  1.66it/s]INFO:causalml:generating out-of-fold CV outcome estimates\n",
      "INFO:causalml:training the treatment effect model for treatment_a with R-loss\n",
      "INFO:causalml:training the treatment effect model for treatment_b with R-loss\n",
      " 55%|█████▌    | 55/100 [00:30<00:25,  1.77it/s]INFO:causalml:generating out-of-fold CV outcome estimates\n",
      "INFO:causalml:training the treatment effect model for treatment_a with R-loss\n",
      "INFO:causalml:training the treatment effect model for treatment_b with R-loss\n",
      " 56%|█████▌    | 56/100 [00:31<00:24,  1.83it/s]INFO:causalml:generating out-of-fold CV outcome estimates\n",
      "INFO:causalml:training the treatment effect model for treatment_a with R-loss\n",
      "INFO:causalml:training the treatment effect model for treatment_b with R-loss\n",
      " 57%|█████▋    | 57/100 [00:31<00:23,  1.84it/s]INFO:causalml:generating out-of-fold CV outcome estimates\n",
      "INFO:causalml:training the treatment effect model for treatment_a with R-loss\n",
      "INFO:causalml:training the treatment effect model for treatment_b with R-loss\n",
      " 58%|█████▊    | 58/100 [00:32<00:22,  1.85it/s]INFO:causalml:generating out-of-fold CV outcome estimates\n",
      "INFO:causalml:training the treatment effect model for treatment_a with R-loss\n",
      "INFO:causalml:training the treatment effect model for treatment_b with R-loss\n",
      " 59%|█████▉    | 59/100 [00:32<00:21,  1.90it/s]INFO:causalml:generating out-of-fold CV outcome estimates\n",
      "INFO:causalml:training the treatment effect model for treatment_a with R-loss\n",
      "INFO:causalml:training the treatment effect model for treatment_b with R-loss\n",
      " 60%|██████    | 60/100 [00:33<00:27,  1.47it/s]INFO:causalml:generating out-of-fold CV outcome estimates\n",
      "INFO:causalml:training the treatment effect model for treatment_a with R-loss\n",
      "INFO:causalml:training the treatment effect model for treatment_b with R-loss\n",
      " 61%|██████    | 61/100 [00:34<00:24,  1.60it/s]INFO:causalml:generating out-of-fold CV outcome estimates\n",
      "INFO:causalml:training the treatment effect model for treatment_a with R-loss\n",
      "INFO:causalml:training the treatment effect model for treatment_b with R-loss\n",
      " 62%|██████▏   | 62/100 [00:34<00:25,  1.47it/s]INFO:causalml:generating out-of-fold CV outcome estimates\n",
      "INFO:causalml:training the treatment effect model for treatment_a with R-loss\n",
      "INFO:causalml:training the treatment effect model for treatment_b with R-loss\n",
      " 63%|██████▎   | 63/100 [00:35<00:24,  1.53it/s]INFO:causalml:generating out-of-fold CV outcome estimates\n",
      "INFO:causalml:training the treatment effect model for treatment_a with R-loss\n",
      "INFO:causalml:training the treatment effect model for treatment_b with R-loss\n",
      " 64%|██████▍   | 64/100 [00:36<00:30,  1.18it/s]INFO:causalml:generating out-of-fold CV outcome estimates\n",
      "INFO:causalml:training the treatment effect model for treatment_a with R-loss\n",
      "INFO:causalml:training the treatment effect model for treatment_b with R-loss\n",
      " 65%|██████▌   | 65/100 [00:37<00:26,  1.34it/s]INFO:causalml:generating out-of-fold CV outcome estimates\n",
      "INFO:causalml:training the treatment effect model for treatment_a with R-loss\n",
      "INFO:causalml:training the treatment effect model for treatment_b with R-loss\n",
      " 66%|██████▌   | 66/100 [00:38<00:25,  1.32it/s]INFO:causalml:generating out-of-fold CV outcome estimates\n",
      "INFO:causalml:training the treatment effect model for treatment_a with R-loss\n",
      "INFO:causalml:training the treatment effect model for treatment_b with R-loss\n",
      " 67%|██████▋   | 67/100 [00:38<00:22,  1.45it/s]INFO:causalml:generating out-of-fold CV outcome estimates\n",
      "INFO:causalml:training the treatment effect model for treatment_a with R-loss\n",
      "INFO:causalml:training the treatment effect model for treatment_b with R-loss\n",
      " 68%|██████▊   | 68/100 [00:39<00:20,  1.59it/s]INFO:causalml:generating out-of-fold CV outcome estimates\n",
      "INFO:causalml:training the treatment effect model for treatment_a with R-loss\n",
      "INFO:causalml:training the treatment effect model for treatment_b with R-loss\n",
      " 69%|██████▉   | 69/100 [00:39<00:18,  1.64it/s]INFO:causalml:generating out-of-fold CV outcome estimates\n",
      "INFO:causalml:training the treatment effect model for treatment_a with R-loss\n",
      "INFO:causalml:training the treatment effect model for treatment_b with R-loss\n",
      " 70%|███████   | 70/100 [00:40<00:17,  1.74it/s]INFO:causalml:generating out-of-fold CV outcome estimates\n",
      "INFO:causalml:training the treatment effect model for treatment_a with R-loss\n",
      "INFO:causalml:training the treatment effect model for treatment_b with R-loss\n",
      " 71%|███████   | 71/100 [00:41<00:20,  1.44it/s]INFO:causalml:generating out-of-fold CV outcome estimates\n",
      "INFO:causalml:training the treatment effect model for treatment_a with R-loss\n",
      "INFO:causalml:training the treatment effect model for treatment_b with R-loss\n",
      " 72%|███████▏  | 72/100 [00:41<00:17,  1.56it/s]INFO:causalml:generating out-of-fold CV outcome estimates\n",
      "INFO:causalml:training the treatment effect model for treatment_a with R-loss\n",
      "INFO:causalml:training the treatment effect model for treatment_b with R-loss\n",
      " 73%|███████▎  | 73/100 [00:42<00:16,  1.65it/s]INFO:causalml:generating out-of-fold CV outcome estimates\n",
      "INFO:causalml:training the treatment effect model for treatment_a with R-loss\n",
      "INFO:causalml:training the treatment effect model for treatment_b with R-loss\n",
      " 74%|███████▍  | 74/100 [00:42<00:15,  1.66it/s]INFO:causalml:generating out-of-fold CV outcome estimates\n",
      "INFO:causalml:training the treatment effect model for treatment_a with R-loss\n",
      "INFO:causalml:training the treatment effect model for treatment_b with R-loss\n",
      " 75%|███████▌  | 75/100 [00:43<00:14,  1.67it/s]INFO:causalml:generating out-of-fold CV outcome estimates\n",
      "INFO:causalml:training the treatment effect model for treatment_a with R-loss\n",
      "INFO:causalml:training the treatment effect model for treatment_b with R-loss\n",
      " 76%|███████▌  | 76/100 [00:43<00:13,  1.72it/s]INFO:causalml:generating out-of-fold CV outcome estimates\n",
      "INFO:causalml:training the treatment effect model for treatment_a with R-loss\n",
      "INFO:causalml:training the treatment effect model for treatment_b with R-loss\n",
      " 77%|███████▋  | 77/100 [00:44<00:12,  1.80it/s]INFO:causalml:generating out-of-fold CV outcome estimates\n",
      "INFO:causalml:training the treatment effect model for treatment_a with R-loss\n",
      "INFO:causalml:training the treatment effect model for treatment_b with R-loss\n",
      " 78%|███████▊  | 78/100 [00:44<00:11,  1.85it/s]INFO:causalml:generating out-of-fold CV outcome estimates\n",
      "INFO:causalml:training the treatment effect model for treatment_a with R-loss\n",
      "INFO:causalml:training the treatment effect model for treatment_b with R-loss\n",
      " 79%|███████▉  | 79/100 [00:45<00:10,  1.91it/s]INFO:causalml:generating out-of-fold CV outcome estimates\n",
      "INFO:causalml:training the treatment effect model for treatment_a with R-loss\n",
      "INFO:causalml:training the treatment effect model for treatment_b with R-loss\n",
      " 80%|████████  | 80/100 [00:46<00:10,  1.86it/s]INFO:causalml:generating out-of-fold CV outcome estimates\n",
      "INFO:causalml:training the treatment effect model for treatment_a with R-loss\n",
      "INFO:causalml:training the treatment effect model for treatment_b with R-loss\n",
      " 81%|████████  | 81/100 [00:46<00:09,  1.91it/s]INFO:causalml:generating out-of-fold CV outcome estimates\n",
      "INFO:causalml:training the treatment effect model for treatment_a with R-loss\n",
      "INFO:causalml:training the treatment effect model for treatment_b with R-loss\n",
      " 82%|████████▏ | 82/100 [00:47<00:09,  1.90it/s]INFO:causalml:generating out-of-fold CV outcome estimates\n",
      "INFO:causalml:training the treatment effect model for treatment_a with R-loss\n",
      "INFO:causalml:training the treatment effect model for treatment_b with R-loss\n",
      " 83%|████████▎ | 83/100 [00:47<00:08,  1.92it/s]INFO:causalml:generating out-of-fold CV outcome estimates\n",
      "INFO:causalml:training the treatment effect model for treatment_a with R-loss\n",
      "INFO:causalml:training the treatment effect model for treatment_b with R-loss\n",
      " 84%|████████▍ | 84/100 [00:48<00:08,  1.92it/s]INFO:causalml:generating out-of-fold CV outcome estimates\n",
      "INFO:causalml:training the treatment effect model for treatment_a with R-loss\n",
      "INFO:causalml:training the treatment effect model for treatment_b with R-loss\n",
      " 85%|████████▌ | 85/100 [00:48<00:08,  1.87it/s]INFO:causalml:generating out-of-fold CV outcome estimates\n",
      "INFO:causalml:training the treatment effect model for treatment_a with R-loss\n",
      "INFO:causalml:training the treatment effect model for treatment_b with R-loss\n",
      " 86%|████████▌ | 86/100 [00:49<00:07,  1.98it/s]INFO:causalml:generating out-of-fold CV outcome estimates\n",
      "INFO:causalml:training the treatment effect model for treatment_a with R-loss\n",
      "INFO:causalml:training the treatment effect model for treatment_b with R-loss\n",
      " 87%|████████▋ | 87/100 [00:49<00:07,  1.78it/s]INFO:causalml:generating out-of-fold CV outcome estimates\n",
      "INFO:causalml:training the treatment effect model for treatment_a with R-loss\n",
      "INFO:causalml:training the treatment effect model for treatment_b with R-loss\n",
      " 88%|████████▊ | 88/100 [00:50<00:06,  1.79it/s]INFO:causalml:generating out-of-fold CV outcome estimates\n",
      "INFO:causalml:training the treatment effect model for treatment_a with R-loss\n",
      "INFO:causalml:training the treatment effect model for treatment_b with R-loss\n",
      " 89%|████████▉ | 89/100 [00:50<00:06,  1.69it/s]INFO:causalml:generating out-of-fold CV outcome estimates\n",
      "INFO:causalml:training the treatment effect model for treatment_a with R-loss\n",
      "INFO:causalml:training the treatment effect model for treatment_b with R-loss\n",
      " 90%|█████████ | 90/100 [00:51<00:05,  1.78it/s]INFO:causalml:generating out-of-fold CV outcome estimates\n",
      "INFO:causalml:training the treatment effect model for treatment_a with R-loss\n",
      "INFO:causalml:training the treatment effect model for treatment_b with R-loss\n",
      " 91%|█████████ | 91/100 [00:52<00:05,  1.80it/s]INFO:causalml:generating out-of-fold CV outcome estimates\n",
      "INFO:causalml:training the treatment effect model for treatment_a with R-loss\n",
      "INFO:causalml:training the treatment effect model for treatment_b with R-loss\n",
      " 92%|█████████▏| 92/100 [00:52<00:05,  1.49it/s]INFO:causalml:generating out-of-fold CV outcome estimates\n",
      "INFO:causalml:training the treatment effect model for treatment_a with R-loss\n",
      "INFO:causalml:training the treatment effect model for treatment_b with R-loss\n",
      " 93%|█████████▎| 93/100 [00:53<00:05,  1.35it/s]INFO:causalml:generating out-of-fold CV outcome estimates\n",
      "INFO:causalml:training the treatment effect model for treatment_a with R-loss\n",
      "INFO:causalml:training the treatment effect model for treatment_b with R-loss\n",
      " 94%|█████████▍| 94/100 [00:54<00:04,  1.50it/s]INFO:causalml:generating out-of-fold CV outcome estimates\n",
      "INFO:causalml:training the treatment effect model for treatment_a with R-loss\n",
      "INFO:causalml:training the treatment effect model for treatment_b with R-loss\n",
      " 95%|█████████▌| 95/100 [00:54<00:03,  1.61it/s]INFO:causalml:generating out-of-fold CV outcome estimates\n",
      "INFO:causalml:training the treatment effect model for treatment_a with R-loss\n",
      "INFO:causalml:training the treatment effect model for treatment_b with R-loss\n",
      " 96%|█████████▌| 96/100 [00:55<00:02,  1.71it/s]INFO:causalml:generating out-of-fold CV outcome estimates\n",
      "INFO:causalml:training the treatment effect model for treatment_a with R-loss\n",
      "INFO:causalml:training the treatment effect model for treatment_b with R-loss\n",
      " 97%|█████████▋| 97/100 [00:55<00:01,  1.77it/s]INFO:causalml:generating out-of-fold CV outcome estimates\n",
      "INFO:causalml:training the treatment effect model for treatment_a with R-loss\n",
      "INFO:causalml:training the treatment effect model for treatment_b with R-loss\n",
      " 98%|█████████▊| 98/100 [00:56<00:01,  1.80it/s]INFO:causalml:generating out-of-fold CV outcome estimates\n",
      "INFO:causalml:training the treatment effect model for treatment_a with R-loss\n",
      "INFO:causalml:training the treatment effect model for treatment_b with R-loss\n",
      " 99%|█████████▉| 99/100 [00:56<00:00,  1.87it/s]INFO:causalml:generating out-of-fold CV outcome estimates\n",
      "INFO:causalml:training the treatment effect model for treatment_a with R-loss\n",
      "INFO:causalml:training the treatment effect model for treatment_b with R-loss\n",
      "100%|██████████| 100/100 [00:57<00:00,  1.74it/s]\n"
     ]
    }
   ],
   "source": [
    "learner_r = BaseRRegressor(XGBRegressor(), control_name='control')\n",
    "cate_r_no_p, cate_r_lb_no_p, cate_r_ub_no_p = learner_r.fit_predict(X=X, treatment=treatment, y=y, p=e, return_ci=True,\n",
    "                                                     n_bootstraps=100, bootstrap_size=1000)"
   ]
  },
  {
   "cell_type": "code",
   "execution_count": 134,
   "metadata": {
    "ExecuteTime": {
     "start_time": "2020-04-14T18:47:09.702Z"
    }
   },
   "outputs": [
    {
     "data": {
      "text/plain": [
       "array([[ 1.18406844,  1.40075612],\n",
       "       [ 0.23563105,  0.21784915],\n",
       "       [-1.37732232, -2.0412221 ],\n",
       "       ...,\n",
       "       [ 0.76216257, -1.62414813],\n",
       "       [ 0.31919017,  0.40114835],\n",
       "       [ 1.19208908, -0.09754898]])"
      ]
     },
     "execution_count": 134,
     "metadata": {},
     "output_type": "execute_result"
    }
   ],
   "source": [
    "cate_r_no_p"
   ]
  },
  {
   "cell_type": "code",
   "execution_count": 135,
   "metadata": {
    "ExecuteTime": {
     "start_time": "2020-04-14T18:47:09.706Z"
    }
   },
   "outputs": [
    {
     "data": {
      "text/plain": [
       "array([[-1.21251562, -1.71429718],\n",
       "       [-2.29351541, -2.04257072],\n",
       "       [-2.21761301, -3.88994483],\n",
       "       ...,\n",
       "       [-3.44795143, -4.77241526],\n",
       "       [-1.69889847, -2.1237779 ],\n",
       "       [-1.98958459, -2.4258362 ]])"
      ]
     },
     "execution_count": 135,
     "metadata": {},
     "output_type": "execute_result"
    }
   ],
   "source": [
    "cate_r_lb_no_p"
   ]
  },
  {
   "cell_type": "code",
   "execution_count": 136,
   "metadata": {
    "ExecuteTime": {
     "start_time": "2020-04-14T18:47:09.710Z"
    }
   },
   "outputs": [
    {
     "data": {
      "text/plain": [
       "array([[2.87720219, 2.95348138],\n",
       "       [3.89363839, 3.60064299],\n",
       "       [5.09341813, 2.71669   ],\n",
       "       ...,\n",
       "       [2.64695951, 4.11184847],\n",
       "       [2.61033067, 2.96829662],\n",
       "       [2.94967496, 3.30866792]])"
      ]
     },
     "execution_count": 136,
     "metadata": {},
     "output_type": "execute_result"
    }
   ],
   "source": [
    "cate_r_ub_no_p"
   ]
  }
 ],
 "metadata": {
  "kernelspec": {
   "display_name": "causal3.9",
   "language": "python",
   "name": "causal3.9"
  },
  "language_info": {
   "codemirror_mode": {
    "name": "ipython",
    "version": 3
   },
   "file_extension": ".py",
   "mimetype": "text/x-python",
   "name": "python",
   "nbconvert_exporter": "python",
   "pygments_lexer": "ipython3",
   "version": "3.9.5"
  },
  "toc": {
   "base_numbering": 1,
   "nav_menu": {
    "height": "174px",
    "width": "252px"
   },
   "number_sections": false,
   "sideBar": true,
   "skip_h1_title": false,
   "title_cell": "Table of Contents",
   "title_sidebar": "Contents",
   "toc_cell": false,
   "toc_position": {
    "height": "calc(100% - 180px)",
    "left": "10px",
    "top": "150px",
    "width": "203px"
   },
   "toc_section_display": "block",
   "toc_window_display": true
  }
 },
 "nbformat": 4,
 "nbformat_minor": 4
}
