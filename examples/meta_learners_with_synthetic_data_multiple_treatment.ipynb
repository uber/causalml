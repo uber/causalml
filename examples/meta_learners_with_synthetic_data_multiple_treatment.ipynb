{
 "cells": [
  {
   "cell_type": "markdown",
   "metadata": {},
   "source": [
    "# `causalml` - Meta-Learner Example Notebook\n",
    "This notebook only contains regression examples."
   ]
  },
  {
   "cell_type": "code",
   "execution_count": 1,
   "metadata": {
    "ExecuteTime": {
     "end_time": "2019-08-28T16:54:38.022644Z",
     "start_time": "2019-08-28T16:54:38.017408Z"
    }
   },
   "outputs": [],
   "source": [
    "# pick the right base path (only run ONCE)\n",
    "import os\n",
    "base_path = os.path.abspath(\"../\")\n",
    "os.chdir(base_path)"
   ]
  },
  {
   "cell_type": "code",
   "execution_count": 2,
   "metadata": {
    "ExecuteTime": {
     "end_time": "2019-08-28T16:54:38.053486Z",
     "start_time": "2019-08-28T16:54:38.026726Z"
    }
   },
   "outputs": [],
   "source": [
    "%reload_ext autoreload\n",
    "%autoreload 2"
   ]
  },
  {
   "cell_type": "code",
   "execution_count": 4,
   "metadata": {
    "ExecuteTime": {
     "end_time": "2019-08-28T16:54:39.292303Z",
     "start_time": "2019-08-28T16:54:38.056040Z"
    }
   },
   "outputs": [],
   "source": [
    "import pandas as pd\n",
    "import numpy as np\n",
    "from matplotlib import pyplot as plt\n",
    "from sklearn.linear_model import LinearRegression, LogisticRegression\n",
    "from sklearn.model_selection import train_test_split\n",
    "import statsmodels.api as sm\n",
    "from xgboost import XGBRegressor, XGBClassifier\n",
    "import warnings\n",
    "\n",
    "# from causalml.inference.meta import XGBTLearner, MLPTLearner\n",
    "from causalml.inference.meta import BaseSRegressor, BaseTRegressor, BaseXRegressor, BaseRRegressor\n",
    "from causalml.inference.meta import BaseSClassifier, BaseTClassifier, BaseXClassifier, BaseRClassifier\n",
    "from causalml.inference.meta import LRSRegressor\n",
    "from causalml.match import NearestNeighborMatch, MatchOptimizer, create_table_one\n",
    "from causalml.propensity import ElasticNetPropensityModel\n",
    "from causalml.dataset import *\n",
    "from causalml.metrics import *\n",
    "\n",
    "warnings.filterwarnings('ignore')\n",
    "plt.style.use('fivethirtyeight')\n",
    "pd.set_option('display.float_format', lambda x: '%.4f' % x)\n",
    "\n",
    "# imports from package\n",
    "import logging\n",
    "from sklearn.dummy import DummyRegressor\n",
    "from sklearn.metrics import mean_squared_error as mse\n",
    "from sklearn.metrics import mean_absolute_error as mae\n",
    "import statsmodels.api as sm\n",
    "from copy import deepcopy\n",
    "\n",
    "logger = logging.getLogger('causalml')\n",
    "logging.basicConfig(level=logging.INFO)\n",
    "\n",
    "%matplotlib inline"
   ]
  },
  {
   "cell_type": "markdown",
   "metadata": {},
   "source": [
    "# Single Treatment Case"
   ]
  },
  {
   "cell_type": "markdown",
   "metadata": {},
   "source": [
    "### Generate synthetic data"
   ]
  },
  {
   "cell_type": "code",
   "execution_count": 143,
   "metadata": {
    "ExecuteTime": {
     "end_time": "2019-08-28T16:54:39.323905Z",
     "start_time": "2019-08-28T16:54:39.294851Z"
    }
   },
   "outputs": [],
   "source": [
    "# Generate synthetic data using mode 1\n",
    "y, X, treatment, tau, b, e = synthetic_data(mode=1, n=10000, p=8, sigma=1.0)\n",
    "\n",
    "treatment = np.array(['treatment_a' if val==1 else 'control' for val in treatment])"
   ]
  },
  {
   "cell_type": "markdown",
   "metadata": {},
   "source": [
    "## S-Learner"
   ]
  },
  {
   "cell_type": "markdown",
   "metadata": {},
   "source": [
    "### ATE"
   ]
  },
  {
   "cell_type": "code",
   "execution_count": 144,
   "metadata": {
    "ExecuteTime": {
     "end_time": "2019-08-28T16:54:40.270570Z",
     "start_time": "2019-08-28T16:54:39.325957Z"
    }
   },
   "outputs": [
    {
     "name": "stderr",
     "output_type": "stream",
     "text": [
      "INFO:causalml:Error metrics for group treatment_a\n",
      "INFO:causalml:    RMSE   (Control):     0.9696\n",
      "INFO:causalml:    RMSE (Treatment):     1.0012\n",
      "INFO:causalml:   sMAPE   (Control):     0.8080\n",
      "INFO:causalml:   sMAPE (Treatment):     0.4906\n",
      "INFO:causalml:    Gini   (Control):     0.4434\n",
      "INFO:causalml:    Gini (Treatment):     0.4842\n"
     ]
    }
   ],
   "source": [
    "learner_s = BaseSRegressor(XGBRegressor(), control_name='control')\n",
    "ate_s = learner_s.estimate_ate(X=X, treatment=treatment, y=y, return_ci=False)"
   ]
  },
  {
   "cell_type": "code",
   "execution_count": 145,
   "metadata": {
    "ExecuteTime": {
     "end_time": "2019-08-28T16:54:40.295629Z",
     "start_time": "2019-08-28T16:54:40.272340Z"
    }
   },
   "outputs": [
    {
     "data": {
      "text/plain": [
       "array([0.58243901])"
      ]
     },
     "execution_count": 145,
     "metadata": {},
     "output_type": "execute_result"
    }
   ],
   "source": [
    "ate_s"
   ]
  },
  {
   "cell_type": "code",
   "execution_count": 146,
   "metadata": {
    "ExecuteTime": {
     "end_time": "2019-08-28T16:54:40.317012Z",
     "start_time": "2019-08-28T16:54:40.297310Z"
    }
   },
   "outputs": [
    {
     "data": {
      "text/plain": [
       "{'treatment_a': 0}"
      ]
     },
     "execution_count": 146,
     "metadata": {},
     "output_type": "execute_result"
    }
   ],
   "source": [
    "learner_s._classes"
   ]
  },
  {
   "cell_type": "markdown",
   "metadata": {},
   "source": [
    "### ATE w/ Confidence Intervals"
   ]
  },
  {
   "cell_type": "code",
   "execution_count": 147,
   "metadata": {
    "ExecuteTime": {
     "end_time": "2019-08-28T16:55:33.490116Z",
     "start_time": "2019-08-28T16:54:40.318757Z"
    }
   },
   "outputs": [
    {
     "name": "stderr",
     "output_type": "stream",
     "text": [
      "INFO:causalml:Error metrics for group treatment_a\n",
      "INFO:causalml:    RMSE   (Control):     0.9696\n",
      "INFO:causalml:    RMSE (Treatment):     1.0012\n",
      "INFO:causalml:   sMAPE   (Control):     0.8080\n",
      "INFO:causalml:   sMAPE (Treatment):     0.4906\n",
      "INFO:causalml:    Gini   (Control):     0.4434\n",
      "INFO:causalml:    Gini (Treatment):     0.4842\n",
      "INFO:causalml:11/100 bootstraps completed. (5s lapsed)\n",
      "INFO:causalml:21/100 bootstraps completed. (10s lapsed)\n",
      "INFO:causalml:31/100 bootstraps completed. (15s lapsed)\n",
      "INFO:causalml:41/100 bootstraps completed. (20s lapsed)\n",
      "INFO:causalml:51/100 bootstraps completed. (25s lapsed)\n",
      "INFO:causalml:61/100 bootstraps completed. (29s lapsed)\n",
      "INFO:causalml:71/100 bootstraps completed. (34s lapsed)\n",
      "INFO:causalml:81/100 bootstraps completed. (39s lapsed)\n",
      "INFO:causalml:91/100 bootstraps completed. (44s lapsed)\n"
     ]
    }
   ],
   "source": [
    "alpha = 0.05\n",
    "learner_s = BaseSRegressor(XGBRegressor(), ate_alpha=alpha, control_name='control')\n",
    "ate_s, ate_s_lb, ate_s_ub = learner_s.estimate_ate(X=X, treatment=treatment, y=y, return_ci=True,\n",
    "                               n_bootstraps=100, bootstrap_size=5000)"
   ]
  },
  {
   "cell_type": "code",
   "execution_count": 148,
   "metadata": {
    "ExecuteTime": {
     "end_time": "2019-08-28T16:55:33.516539Z",
     "start_time": "2019-08-28T16:55:33.493385Z"
    }
   },
   "outputs": [
    {
     "data": {
      "text/plain": [
       "array([[0.3341164 ],\n",
       "       [0.58243901],\n",
       "       [0.79249563]])"
      ]
     },
     "execution_count": 148,
     "metadata": {},
     "output_type": "execute_result"
    }
   ],
   "source": [
    "np.vstack((ate_s_lb, ate_s, ate_s_ub))"
   ]
  },
  {
   "cell_type": "markdown",
   "metadata": {},
   "source": [
    "### CATE"
   ]
  },
  {
   "cell_type": "code",
   "execution_count": 149,
   "metadata": {
    "ExecuteTime": {
     "end_time": "2019-08-28T16:55:34.539970Z",
     "start_time": "2019-08-28T16:55:33.520045Z"
    }
   },
   "outputs": [
    {
     "name": "stderr",
     "output_type": "stream",
     "text": [
      "INFO:causalml:Error metrics for group treatment_a\n",
      "INFO:causalml:    RMSE   (Control):     0.9696\n",
      "INFO:causalml:    RMSE (Treatment):     1.0012\n",
      "INFO:causalml:   sMAPE   (Control):     0.8080\n",
      "INFO:causalml:   sMAPE (Treatment):     0.4906\n",
      "INFO:causalml:    Gini   (Control):     0.4434\n",
      "INFO:causalml:    Gini (Treatment):     0.4842\n"
     ]
    }
   ],
   "source": [
    "learner_s = BaseSRegressor(XGBRegressor(), control_name='control')\n",
    "cate_s = learner_s.fit_predict(X=X, treatment=treatment, y=y, return_ci=False)"
   ]
  },
  {
   "cell_type": "code",
   "execution_count": 150,
   "metadata": {
    "ExecuteTime": {
     "end_time": "2019-08-28T16:55:34.570117Z",
     "start_time": "2019-08-28T16:55:34.542094Z"
    }
   },
   "outputs": [
    {
     "data": {
      "text/plain": [
       "array([[ 0.57649434],\n",
       "       [ 0.7564044 ],\n",
       "       [ 0.62812066],\n",
       "       ...,\n",
       "       [-0.11862552],\n",
       "       [ 0.81248152],\n",
       "       [ 0.2109772 ]])"
      ]
     },
     "execution_count": 150,
     "metadata": {},
     "output_type": "execute_result"
    }
   ],
   "source": [
    "cate_s"
   ]
  },
  {
   "cell_type": "markdown",
   "metadata": {},
   "source": [
    "### CATE w/ Confidence Intervals"
   ]
  },
  {
   "cell_type": "code",
   "execution_count": 151,
   "metadata": {
    "ExecuteTime": {
     "end_time": "2019-08-28T16:56:25.845564Z",
     "start_time": "2019-08-28T16:55:34.572058Z"
    }
   },
   "outputs": [
    {
     "name": "stderr",
     "output_type": "stream",
     "text": [
      "INFO:causalml:Error metrics for group treatment_a\n",
      "INFO:causalml:    RMSE   (Control):     0.9696\n",
      "INFO:causalml:    RMSE (Treatment):     1.0012\n",
      "INFO:causalml:   sMAPE   (Control):     0.8080\n",
      "INFO:causalml:   sMAPE (Treatment):     0.4906\n",
      "INFO:causalml:    Gini   (Control):     0.4434\n",
      "INFO:causalml:    Gini (Treatment):     0.4842\n",
      "INFO:causalml:11/100 bootstraps completed. (5s lapsed)\n",
      "INFO:causalml:21/100 bootstraps completed. (10s lapsed)\n",
      "INFO:causalml:31/100 bootstraps completed. (15s lapsed)\n",
      "INFO:causalml:41/100 bootstraps completed. (20s lapsed)\n",
      "INFO:causalml:51/100 bootstraps completed. (25s lapsed)\n",
      "INFO:causalml:61/100 bootstraps completed. (30s lapsed)\n",
      "INFO:causalml:71/100 bootstraps completed. (35s lapsed)\n",
      "INFO:causalml:81/100 bootstraps completed. (40s lapsed)\n",
      "INFO:causalml:91/100 bootstraps completed. (45s lapsed)\n"
     ]
    }
   ],
   "source": [
    "alpha = 0.05\n",
    "learner_s = BaseSRegressor(XGBRegressor(), ate_alpha=alpha, control_name='control')\n",
    "cate_s, cate_s_lb, cate_s_ub = learner_s.fit_predict(X=X, treatment=treatment, y=y, return_ci=True,\n",
    "                               n_bootstraps=100, bootstrap_size=5000)"
   ]
  },
  {
   "cell_type": "code",
   "execution_count": 152,
   "metadata": {
    "ExecuteTime": {
     "end_time": "2019-08-28T16:56:25.868001Z",
     "start_time": "2019-08-28T16:56:25.847611Z"
    }
   },
   "outputs": [
    {
     "data": {
      "text/plain": [
       "array([[ 0.57649434],\n",
       "       [ 0.7564044 ],\n",
       "       [ 0.62812066],\n",
       "       ...,\n",
       "       [-0.11862552],\n",
       "       [ 0.81248152],\n",
       "       [ 0.2109772 ]])"
      ]
     },
     "execution_count": 152,
     "metadata": {},
     "output_type": "execute_result"
    }
   ],
   "source": [
    "cate_s"
   ]
  },
  {
   "cell_type": "code",
   "execution_count": 153,
   "metadata": {
    "ExecuteTime": {
     "end_time": "2019-08-28T16:56:25.887191Z",
     "start_time": "2019-08-28T16:56:25.869636Z"
    }
   },
   "outputs": [
    {
     "data": {
      "text/plain": [
       "array([[ 0.35254421],\n",
       "       [ 0.44082367],\n",
       "       [ 0.26265205],\n",
       "       ...,\n",
       "       [-0.34533793],\n",
       "       [ 0.59085685],\n",
       "       [-0.03506206]])"
      ]
     },
     "execution_count": 153,
     "metadata": {},
     "output_type": "execute_result"
    }
   ],
   "source": [
    "cate_s_lb"
   ]
  },
  {
   "cell_type": "code",
   "execution_count": 154,
   "metadata": {
    "ExecuteTime": {
     "end_time": "2019-08-28T16:56:25.906564Z",
     "start_time": "2019-08-28T16:56:25.889065Z"
    }
   },
   "outputs": [
    {
     "data": {
      "text/plain": [
       "array([[0.81533467],\n",
       "       [1.00261409],\n",
       "       [0.9085232 ],\n",
       "       ...,\n",
       "       [0.39154115],\n",
       "       [1.0622952 ],\n",
       "       [0.52280898]])"
      ]
     },
     "execution_count": 154,
     "metadata": {},
     "output_type": "execute_result"
    }
   ],
   "source": [
    "cate_s_ub"
   ]
  },
  {
   "cell_type": "markdown",
   "metadata": {},
   "source": [
    "## T-Learner"
   ]
  },
  {
   "cell_type": "markdown",
   "metadata": {},
   "source": [
    "### ATE w/ Confidence Intervals"
   ]
  },
  {
   "cell_type": "code",
   "execution_count": 229,
   "metadata": {
    "ExecuteTime": {
     "end_time": "2019-08-28T16:56:26.863843Z",
     "start_time": "2019-08-28T16:56:25.908449Z"
    }
   },
   "outputs": [
    {
     "name": "stderr",
     "output_type": "stream",
     "text": [
      "INFO:causalml:Error metrics for group treatment_a\n",
      "INFO:causalml:    RMSE   (Control):     0.9480\n",
      "INFO:causalml:    RMSE (Treatment):     0.9641\n",
      "INFO:causalml:   sMAPE   (Control):     0.7965\n",
      "INFO:causalml:   sMAPE (Treatment):     0.4797\n",
      "INFO:causalml:    Gini   (Control):     0.4889\n",
      "INFO:causalml:    Gini (Treatment):     0.5377\n"
     ]
    }
   ],
   "source": [
    "learner_t = BaseTRegressor(XGBRegressor(), control_name='control')\n",
    "ate_t, ate_t_lb, ate_t_ub = learner_t.estimate_ate(X=X, treatment=treatment, y=y)"
   ]
  },
  {
   "cell_type": "code",
   "execution_count": 230,
   "metadata": {
    "ExecuteTime": {
     "end_time": "2019-08-28T16:56:26.887152Z",
     "start_time": "2019-08-28T16:56:26.866284Z"
    }
   },
   "outputs": [
    {
     "data": {
      "text/plain": [
       "array([[0.55627672],\n",
       "       [0.59448189],\n",
       "       [0.63268706]])"
      ]
     },
     "execution_count": 230,
     "metadata": {},
     "output_type": "execute_result"
    }
   ],
   "source": [
    "np.vstack((ate_t_lb, ate_t, ate_t_ub))"
   ]
  },
  {
   "cell_type": "markdown",
   "metadata": {},
   "source": [
    "### CATE"
   ]
  },
  {
   "cell_type": "code",
   "execution_count": 231,
   "metadata": {
    "ExecuteTime": {
     "end_time": "2019-08-28T16:56:27.803993Z",
     "start_time": "2019-08-28T16:56:26.888998Z"
    }
   },
   "outputs": [
    {
     "name": "stderr",
     "output_type": "stream",
     "text": [
      "INFO:causalml:Error metrics for group treatment_a\n",
      "INFO:causalml:    RMSE   (Control):     0.9480\n",
      "INFO:causalml:    RMSE (Treatment):     0.9641\n",
      "INFO:causalml:   sMAPE   (Control):     0.7965\n",
      "INFO:causalml:   sMAPE (Treatment):     0.4797\n",
      "INFO:causalml:    Gini   (Control):     0.4889\n",
      "INFO:causalml:    Gini (Treatment):     0.5377\n"
     ]
    }
   ],
   "source": [
    "learner_t = BaseTRegressor(XGBRegressor(), control_name='control')\n",
    "cate_t = learner_t.fit_predict(X=X, treatment=treatment, y=y)"
   ]
  },
  {
   "cell_type": "code",
   "execution_count": 232,
   "metadata": {
    "ExecuteTime": {
     "end_time": "2019-08-28T16:56:27.828741Z",
     "start_time": "2019-08-28T16:56:27.806224Z"
    }
   },
   "outputs": [
    {
     "data": {
      "text/plain": [
       "array([[ 0.51766217],\n",
       "       [ 1.28059947],\n",
       "       [ 0.1578033 ],\n",
       "       ...,\n",
       "       [-0.23451126],\n",
       "       [ 0.97774696],\n",
       "       [ 0.198053  ]])"
      ]
     },
     "execution_count": 232,
     "metadata": {},
     "output_type": "execute_result"
    }
   ],
   "source": [
    "cate_t"
   ]
  },
  {
   "cell_type": "markdown",
   "metadata": {},
   "source": [
    "### CATE w/ Confidence Intervals"
   ]
  },
  {
   "cell_type": "code",
   "execution_count": 233,
   "metadata": {
    "ExecuteTime": {
     "end_time": "2019-08-28T16:57:17.665456Z",
     "start_time": "2019-08-28T16:56:27.830995Z"
    }
   },
   "outputs": [
    {
     "name": "stderr",
     "output_type": "stream",
     "text": [
      "INFO:causalml:Error metrics for group treatment_a\n",
      "INFO:causalml:    RMSE   (Control):     0.9480\n",
      "INFO:causalml:    RMSE (Treatment):     0.9641\n",
      "INFO:causalml:   sMAPE   (Control):     0.7965\n",
      "INFO:causalml:   sMAPE (Treatment):     0.4797\n",
      "INFO:causalml:    Gini   (Control):     0.4889\n",
      "INFO:causalml:    Gini (Treatment):     0.5377\n",
      "INFO:causalml:10/100 bootstraps completed. (5s lapsed)\n",
      "INFO:causalml:20/100 bootstraps completed. (10s lapsed)\n",
      "INFO:causalml:30/100 bootstraps completed. (14s lapsed)\n",
      "INFO:causalml:40/100 bootstraps completed. (19s lapsed)\n",
      "INFO:causalml:50/100 bootstraps completed. (23s lapsed)\n",
      "INFO:causalml:60/100 bootstraps completed. (28s lapsed)\n",
      "INFO:causalml:70/100 bootstraps completed. (32s lapsed)\n",
      "INFO:causalml:80/100 bootstraps completed. (37s lapsed)\n",
      "INFO:causalml:90/100 bootstraps completed. (41s lapsed)\n"
     ]
    }
   ],
   "source": [
    "learner_t = BaseTRegressor(XGBRegressor(), control_name='control')\n",
    "cate_t, cate_t_lb, cate_t_ub = learner_t.fit_predict(X=X, treatment=treatment, y=y, return_ci=True, n_bootstraps=100,\n",
    "                                                    bootstrap_size=5000)"
   ]
  },
  {
   "cell_type": "code",
   "execution_count": 234,
   "metadata": {
    "ExecuteTime": {
     "end_time": "2019-08-28T16:57:17.690908Z",
     "start_time": "2019-08-28T16:57:17.667762Z"
    }
   },
   "outputs": [
    {
     "data": {
      "text/plain": [
       "array([[ 0.51766217],\n",
       "       [ 1.28059947],\n",
       "       [ 0.1578033 ],\n",
       "       ...,\n",
       "       [-0.23451126],\n",
       "       [ 0.97774696],\n",
       "       [ 0.198053  ]])"
      ]
     },
     "execution_count": 234,
     "metadata": {},
     "output_type": "execute_result"
    }
   ],
   "source": [
    "cate_t"
   ]
  },
  {
   "cell_type": "code",
   "execution_count": 235,
   "metadata": {
    "ExecuteTime": {
     "end_time": "2019-08-28T16:57:17.712341Z",
     "start_time": "2019-08-28T16:57:17.692757Z"
    }
   },
   "outputs": [
    {
     "data": {
      "text/plain": [
       "array([[ 0.06587222],\n",
       "       [ 0.60462681],\n",
       "       [-0.10897484],\n",
       "       ...,\n",
       "       [-1.18727271],\n",
       "       [ 0.50621215],\n",
       "       [-0.4558233 ]])"
      ]
     },
     "execution_count": 235,
     "metadata": {},
     "output_type": "execute_result"
    }
   ],
   "source": [
    "cate_t_lb"
   ]
  },
  {
   "cell_type": "code",
   "execution_count": 236,
   "metadata": {
    "ExecuteTime": {
     "end_time": "2019-08-28T16:57:17.733083Z",
     "start_time": "2019-08-28T16:57:17.714247Z"
    }
   },
   "outputs": [
    {
     "data": {
      "text/plain": [
       "array([[0.98554701],\n",
       "       [1.74615895],\n",
       "       [1.24846366],\n",
       "       ...,\n",
       "       [0.669078  ],\n",
       "       [1.28537154],\n",
       "       [0.98453737]])"
      ]
     },
     "execution_count": 236,
     "metadata": {},
     "output_type": "execute_result"
    }
   ],
   "source": [
    "cate_t_ub"
   ]
  },
  {
   "cell_type": "markdown",
   "metadata": {},
   "source": [
    "## X-Learner"
   ]
  },
  {
   "cell_type": "markdown",
   "metadata": {},
   "source": [
    "### ATE w/ Confidence Intervals"
   ]
  },
  {
   "cell_type": "code",
   "execution_count": 243,
   "metadata": {
    "ExecuteTime": {
     "end_time": "2019-08-28T16:58:04.207807Z",
     "start_time": "2019-08-28T16:58:02.364892Z"
    }
   },
   "outputs": [
    {
     "name": "stderr",
     "output_type": "stream",
     "text": [
      "INFO:causalml:Error metrics for group treatment_a\n",
      "INFO:causalml:    RMSE   (Control):     0.9480\n",
      "INFO:causalml:    RMSE (Treatment):     0.9641\n",
      "INFO:causalml:   sMAPE   (Control):     0.7965\n",
      "INFO:causalml:   sMAPE (Treatment):     0.4797\n",
      "INFO:causalml:    Gini   (Control):     0.4889\n",
      "INFO:causalml:    Gini (Treatment):     0.5377\n"
     ]
    }
   ],
   "source": [
    "learner_x = BaseXRegressor(XGBRegressor(), control_name='control')\n",
    "ate_x, ate_x_lb, ate_x_ub = learner_x.estimate_ate(X=X, p=e, treatment=treatment, y=y)"
   ]
  },
  {
   "cell_type": "code",
   "execution_count": 244,
   "metadata": {
    "ExecuteTime": {
     "end_time": "2019-08-28T16:58:04.232412Z",
     "start_time": "2019-08-28T16:58:04.210119Z"
    }
   },
   "outputs": [
    {
     "data": {
      "text/plain": [
       "array([[0.50389773],\n",
       "       [0.54179776],\n",
       "       [0.57969779]])"
      ]
     },
     "execution_count": 244,
     "metadata": {},
     "output_type": "execute_result"
    }
   ],
   "source": [
    "np.vstack((ate_x_lb, ate_x, ate_x_ub))"
   ]
  },
  {
   "cell_type": "markdown",
   "metadata": {},
   "source": [
    "### CATE"
   ]
  },
  {
   "cell_type": "markdown",
   "metadata": {},
   "source": [
    "### CATE w/ Confidence Intervals"
   ]
  },
  {
   "cell_type": "code",
   "execution_count": 246,
   "metadata": {
    "ExecuteTime": {
     "end_time": "2019-08-28T16:59:42.063618Z",
     "start_time": "2019-08-28T16:58:04.234446Z"
    }
   },
   "outputs": [
    {
     "name": "stderr",
     "output_type": "stream",
     "text": [
      "INFO:causalml:Error metrics for group treatment_a\n",
      "INFO:causalml:    RMSE   (Control):     0.9480\n",
      "INFO:causalml:    RMSE (Treatment):     0.9641\n",
      "INFO:causalml:   sMAPE   (Control):     0.7965\n",
      "INFO:causalml:   sMAPE (Treatment):     0.4797\n",
      "INFO:causalml:    Gini   (Control):     0.4889\n",
      "INFO:causalml:    Gini (Treatment):     0.5377\n",
      "INFO:causalml:10/100 bootstraps completed. (6s lapsed)\n",
      "INFO:causalml:20/100 bootstraps completed. (12s lapsed)\n",
      "INFO:causalml:30/100 bootstraps completed. (18s lapsed)\n",
      "INFO:causalml:40/100 bootstraps completed. (24s lapsed)\n",
      "INFO:causalml:50/100 bootstraps completed. (29s lapsed)\n",
      "INFO:causalml:60/100 bootstraps completed. (35s lapsed)\n",
      "INFO:causalml:70/100 bootstraps completed. (41s lapsed)\n",
      "INFO:causalml:80/100 bootstraps completed. (46s lapsed)\n",
      "INFO:causalml:90/100 bootstraps completed. (52s lapsed)\n"
     ]
    }
   ],
   "source": [
    "learner_x = BaseXRegressor(XGBRegressor(), control_name='control')\n",
    "cate_x, cate_x_lb, cate_x_ub = learner_x.fit_predict(X=X, p=e, treatment=treatment, y=y, return_ci=True,\n",
    "                                                     n_bootstraps=100, bootstrap_size=3000)"
   ]
  },
  {
   "cell_type": "code",
   "execution_count": 247,
   "metadata": {
    "ExecuteTime": {
     "end_time": "2019-08-28T16:59:42.087796Z",
     "start_time": "2019-08-28T16:59:42.066015Z"
    }
   },
   "outputs": [
    {
     "data": {
      "text/plain": [
       "array([[ 0.50365067],\n",
       "       [ 0.8769697 ],\n",
       "       [ 0.54220575],\n",
       "       ...,\n",
       "       [-0.180242  ],\n",
       "       [ 0.9180752 ],\n",
       "       [ 0.22089118]])"
      ]
     },
     "execution_count": 247,
     "metadata": {},
     "output_type": "execute_result"
    }
   ],
   "source": [
    "cate_x"
   ]
  },
  {
   "cell_type": "code",
   "execution_count": 248,
   "metadata": {
    "ExecuteTime": {
     "end_time": "2019-08-28T16:59:42.108188Z",
     "start_time": "2019-08-28T16:59:42.089793Z"
    }
   },
   "outputs": [
    {
     "data": {
      "text/plain": [
       "array([[ 0.22216705],\n",
       "       [ 0.47742233],\n",
       "       [-0.29914799],\n",
       "       ...,\n",
       "       [-1.04059524],\n",
       "       [ 0.60149392],\n",
       "       [-0.17479771]])"
      ]
     },
     "execution_count": 248,
     "metadata": {},
     "output_type": "execute_result"
    }
   ],
   "source": [
    "cate_x_lb"
   ]
  },
  {
   "cell_type": "code",
   "execution_count": 249,
   "metadata": {
    "ExecuteTime": {
     "end_time": "2019-08-28T16:59:42.127190Z",
     "start_time": "2019-08-28T16:59:42.109624Z"
    }
   },
   "outputs": [
    {
     "data": {
      "text/plain": [
       "array([[0.99334868],\n",
       "       [1.5561669 ],\n",
       "       [1.29536709],\n",
       "       ...,\n",
       "       [0.65455844],\n",
       "       [1.42401723],\n",
       "       [0.95252066]])"
      ]
     },
     "execution_count": 249,
     "metadata": {},
     "output_type": "execute_result"
    }
   ],
   "source": [
    "cate_x_ub"
   ]
  },
  {
   "cell_type": "markdown",
   "metadata": {},
   "source": [
    "## R-Learner"
   ]
  },
  {
   "cell_type": "markdown",
   "metadata": {},
   "source": [
    "### ATE w/ Confidence Intervals"
   ]
  },
  {
   "cell_type": "code",
   "execution_count": 194,
   "metadata": {
    "ExecuteTime": {
     "end_time": "2019-08-28T16:59:46.537910Z",
     "start_time": "2019-08-28T16:59:42.128761Z"
    }
   },
   "outputs": [
    {
     "name": "stderr",
     "output_type": "stream",
     "text": [
      "INFO:causalml:generating out-of-fold CV outcome estimates\n",
      "INFO:causalml:training the treatment effect model for treatment_a with R-loss\n"
     ]
    }
   ],
   "source": [
    "learner_r = BaseRRegressor(XGBRegressor(), control_name='control')\n",
    "ate_r, ate_r_lb, ate_r_ub = learner_r.estimate_ate(X=X, p=e, treatment=treatment, y=y)"
   ]
  },
  {
   "cell_type": "code",
   "execution_count": 195,
   "metadata": {},
   "outputs": [
    {
     "data": {
      "text/plain": [
       "array([[0.50381984],\n",
       "       [0.50423587],\n",
       "       [0.50465189]])"
      ]
     },
     "execution_count": 195,
     "metadata": {},
     "output_type": "execute_result"
    }
   ],
   "source": [
    "np.vstack((ate_r_lb, ate_r, ate_r_ub))"
   ]
  },
  {
   "cell_type": "markdown",
   "metadata": {},
   "source": [
    "### CATE"
   ]
  },
  {
   "cell_type": "code",
   "execution_count": 171,
   "metadata": {
    "ExecuteTime": {
     "end_time": "2019-08-28T16:59:50.674433Z",
     "start_time": "2019-08-28T16:59:46.569040Z"
    }
   },
   "outputs": [
    {
     "name": "stderr",
     "output_type": "stream",
     "text": [
      "INFO:causalml:generating out-of-fold CV outcome estimates\n",
      "INFO:causalml:training the treatment effect model for treatment_a with R-loss\n"
     ]
    }
   ],
   "source": [
    "learner_r = BaseRRegressor(XGBRegressor(), control_name='control')\n",
    "cate_r = learner_r.fit_predict(X=X, p=e, treatment=treatment, y=y)"
   ]
  },
  {
   "cell_type": "code",
   "execution_count": 172,
   "metadata": {
    "ExecuteTime": {
     "end_time": "2019-08-28T16:59:50.699406Z",
     "start_time": "2019-08-28T16:59:50.676634Z"
    }
   },
   "outputs": [
    {
     "data": {
      "text/plain": [
       "array([[ 0.4129059 ],\n",
       "       [ 0.9046396 ],\n",
       "       [ 0.81613529],\n",
       "       ...,\n",
       "       [-0.0288884 ],\n",
       "       [ 0.63902354],\n",
       "       [ 0.07853517]])"
      ]
     },
     "execution_count": 172,
     "metadata": {},
     "output_type": "execute_result"
    }
   ],
   "source": [
    "cate_r"
   ]
  },
  {
   "cell_type": "markdown",
   "metadata": {},
   "source": [
    "### CATE w/ Confidence Intervals"
   ]
  },
  {
   "cell_type": "code",
   "execution_count": 173,
   "metadata": {
    "ExecuteTime": {
     "end_time": "2019-08-28T17:02:05.897817Z",
     "start_time": "2019-08-28T16:59:50.701158Z"
    }
   },
   "outputs": [
    {
     "name": "stderr",
     "output_type": "stream",
     "text": [
      "INFO:causalml:generating out-of-fold CV outcome estimates\n",
      "INFO:causalml:training the treatment effect model for treatment_a with R-loss\n",
      "INFO:causalml:10/100 bootstraps completed. (5s lapsed)\n",
      "INFO:causalml:20/100 bootstraps completed. (10s lapsed)\n",
      "INFO:causalml:30/100 bootstraps completed. (15s lapsed)\n",
      "INFO:causalml:40/100 bootstraps completed. (19s lapsed)\n",
      "INFO:causalml:50/100 bootstraps completed. (24s lapsed)\n",
      "INFO:causalml:60/100 bootstraps completed. (29s lapsed)\n",
      "INFO:causalml:70/100 bootstraps completed. (34s lapsed)\n",
      "INFO:causalml:80/100 bootstraps completed. (39s lapsed)\n",
      "INFO:causalml:90/100 bootstraps completed. (44s lapsed)\n"
     ]
    }
   ],
   "source": [
    "learner_r = BaseRRegressor(XGBRegressor(), control_name='control')\n",
    "cate_r, cate_r_lb, cate_r_ub = learner_r.fit_predict(X=X, p=e, treatment=treatment, y=y, return_ci=True,\n",
    "                                                     n_bootstraps=100, bootstrap_size=1000)"
   ]
  },
  {
   "cell_type": "code",
   "execution_count": 174,
   "metadata": {
    "ExecuteTime": {
     "end_time": "2019-08-28T17:02:05.922414Z",
     "start_time": "2019-08-28T17:02:05.899976Z"
    }
   },
   "outputs": [
    {
     "data": {
      "text/plain": [
       "array([[ 0.39102826],\n",
       "       [ 0.93643117],\n",
       "       [ 0.78970027],\n",
       "       ...,\n",
       "       [-0.27766651],\n",
       "       [ 0.68156344],\n",
       "       [ 0.36618736]])"
      ]
     },
     "execution_count": 174,
     "metadata": {},
     "output_type": "execute_result"
    }
   ],
   "source": [
    "cate_r"
   ]
  },
  {
   "cell_type": "code",
   "execution_count": 175,
   "metadata": {
    "ExecuteTime": {
     "end_time": "2019-08-28T17:02:05.945435Z",
     "start_time": "2019-08-28T17:02:05.924441Z"
    }
   },
   "outputs": [
    {
     "data": {
      "text/plain": [
       "array([[-0.42608047],\n",
       "       [-0.10831821],\n",
       "       [-0.67443022],\n",
       "       ...,\n",
       "       [-1.53540977],\n",
       "       [-0.05454972],\n",
       "       [-0.5361454 ]])"
      ]
     },
     "execution_count": 175,
     "metadata": {},
     "output_type": "execute_result"
    }
   ],
   "source": [
    "cate_r_lb"
   ]
  },
  {
   "cell_type": "code",
   "execution_count": 176,
   "metadata": {
    "ExecuteTime": {
     "end_time": "2019-08-28T17:02:05.969516Z",
     "start_time": "2019-08-28T17:02:05.947227Z"
    }
   },
   "outputs": [
    {
     "data": {
      "text/plain": [
       "array([[1.36585561],\n",
       "       [2.78943411],\n",
       "       [2.37734264],\n",
       "       ...,\n",
       "       [1.07409953],\n",
       "       [1.87056649],\n",
       "       [1.99503238]])"
      ]
     },
     "execution_count": 176,
     "metadata": {},
     "output_type": "execute_result"
    }
   ],
   "source": [
    "cate_r_ub"
   ]
  },
  {
   "cell_type": "markdown",
   "metadata": {},
   "source": [
    "# Visualize"
   ]
  },
  {
   "cell_type": "code",
   "execution_count": 250,
   "metadata": {},
   "outputs": [
    {
     "data": {
      "image/png": "[encoded data removed]",
      "text/plain": [
       "<Figure size 864x576 with 1 Axes>"
      ]
     },
     "metadata": {
      "needs_background": "light"
     },
     "output_type": "display_data"
    }
   ],
   "source": [
    "groups = learner_r._classes\n",
    "\n",
    "alpha = 1\n",
    "linewidth = 2\n",
    "bins = 30\n",
    "for group,idx in sorted(groups.items(), key=lambda x: x[1]):\n",
    "    plt.figure(figsize=(12,8))\n",
    "    plt.hist(cate_t[:,idx], alpha=alpha, bins=bins, label='T Learner ({})'.format(group),\n",
    "             histtype='step', linewidth=linewidth, density=True)\n",
    "    plt.hist(cate_x[:,idx], alpha=alpha, bins=bins, label='X Learner ({})'.format(group),\n",
    "             histtype='step', linewidth=linewidth, density=True)\n",
    "    plt.hist(cate_r[:,idx], alpha=alpha, bins=bins, label='R Learner ({})'.format(group),\n",
    "             histtype='step', linewidth=linewidth, density=True)\n",
    "    plt.hist(tau, alpha=alpha, bins=bins, label='Actual ATE distr',\n",
    "             histtype='step', linewidth=linewidth, color='green', density=True)\n",
    "    plt.vlines(cate_s[0,idx], 0, plt.axes().get_ylim()[1], label='S Learner ({})'.format(group),\n",
    "               linestyles='dotted', linewidth=linewidth)\n",
    "    plt.vlines(tau.mean(), 0, plt.axes().get_ylim()[1], label='Actual ATE',\n",
    "               linestyles='dotted', linewidth=linewidth, color='green')\n",
    "    \n",
    "    plt.title('Distribution of CATE Predictions for {}'.format(group))\n",
    "    plt.xlabel('Individual Treatment Effect (ITE/CATE)')\n",
    "    plt.ylabel('# of Samples')\n",
    "    _=plt.legend()"
   ]
  },
  {
   "cell_type": "markdown",
   "metadata": {},
   "source": [
    "---\n",
    "# Multiple Treatment Case"
   ]
  },
  {
   "cell_type": "markdown",
   "metadata": {},
   "source": [
    "### Generate synthetic data\n",
    "Note: we randomize the assignment of treatment flag AFTER the synthetic data generation process, so it doesn't make sense to measure accuracy metrics here. Next steps would be to include multi-treatment in the DGP itself."
   ]
  },
  {
   "cell_type": "code",
   "execution_count": 251,
   "metadata": {
    "ExecuteTime": {
     "end_time": "2019-08-28T17:02:06.008811Z",
     "start_time": "2019-08-28T17:02:05.971453Z"
    }
   },
   "outputs": [],
   "source": [
    "# Generate synthetic data using mode 1\n",
    "y, X, treatment, tau, b, e = synthetic_data(mode=1, n=10000, p=8, sigma=1.0)\n",
    "\n",
    "treatment = np.array([('treatment_a' if np.random.random() > 0.2 else 'treatment_b') \n",
    "                      if val==1 else 'control' for val in treatment])\n",
    "\n",
    "e = {group: e for group in np.unique(treatment)}"
   ]
  },
  {
   "cell_type": "code",
   "execution_count": 252,
   "metadata": {
    "ExecuteTime": {
     "end_time": "2019-08-28T17:02:06.036881Z",
     "start_time": "2019-08-28T17:02:06.010687Z"
    }
   },
   "outputs": [
    {
     "data": {
      "text/plain": [
       "control        4798\n",
       "treatment_a    4131\n",
       "treatment_b    1071\n",
       "dtype: int64"
      ]
     },
     "execution_count": 252,
     "metadata": {},
     "output_type": "execute_result"
    }
   ],
   "source": [
    "pd.Series(treatment).value_counts()"
   ]
  },
  {
   "cell_type": "markdown",
   "metadata": {},
   "source": [
    "## S-Learner"
   ]
  },
  {
   "cell_type": "markdown",
   "metadata": {},
   "source": [
    "### ATE"
   ]
  },
  {
   "cell_type": "code",
   "execution_count": 253,
   "metadata": {
    "ExecuteTime": {
     "end_time": "2019-08-28T17:02:07.887885Z",
     "start_time": "2019-08-28T17:02:06.038547Z"
    }
   },
   "outputs": [
    {
     "name": "stderr",
     "output_type": "stream",
     "text": [
      "INFO:causalml:Error metrics for group treatment_a\n",
      "INFO:causalml:    RMSE   (Control):     0.9474\n",
      "INFO:causalml:    RMSE (Treatment):     0.9560\n",
      "INFO:causalml:   sMAPE   (Control):     0.7993\n",
      "INFO:causalml:   sMAPE (Treatment):     0.4612\n",
      "INFO:causalml:    Gini   (Control):     0.4574\n",
      "INFO:causalml:    Gini (Treatment):     0.5122\n",
      "INFO:causalml:Error metrics for group treatment_b\n",
      "INFO:causalml:    RMSE   (Control):     0.9379\n",
      "INFO:causalml:    RMSE (Treatment):     0.9648\n",
      "INFO:causalml:   sMAPE   (Control):     0.7932\n",
      "INFO:causalml:   sMAPE (Treatment):     0.4788\n",
      "INFO:causalml:    Gini   (Control):     0.4786\n",
      "INFO:causalml:    Gini (Treatment):     0.5186\n"
     ]
    }
   ],
   "source": [
    "learner_s = BaseSRegressor(XGBRegressor(), control_name='control')\n",
    "ate_s = learner_s.estimate_ate(X=X, treatment=treatment, y=y, return_ci=False)"
   ]
  },
  {
   "cell_type": "code",
   "execution_count": 254,
   "metadata": {
    "ExecuteTime": {
     "end_time": "2019-08-28T17:02:07.911733Z",
     "start_time": "2019-08-28T17:02:07.889943Z"
    }
   },
   "outputs": [
    {
     "data": {
      "text/plain": [
       "array([0.57222204, 0.54491608])"
      ]
     },
     "execution_count": 254,
     "metadata": {},
     "output_type": "execute_result"
    }
   ],
   "source": [
    "ate_s"
   ]
  },
  {
   "cell_type": "code",
   "execution_count": 255,
   "metadata": {
    "ExecuteTime": {
     "end_time": "2019-08-28T17:02:07.933103Z",
     "start_time": "2019-08-28T17:02:07.913665Z"
    }
   },
   "outputs": [
    {
     "data": {
      "text/plain": [
       "{'treatment_a': 0, 'treatment_b': 1}"
      ]
     },
     "execution_count": 255,
     "metadata": {},
     "output_type": "execute_result"
    }
   ],
   "source": [
    "learner_s._classes"
   ]
  },
  {
   "cell_type": "markdown",
   "metadata": {},
   "source": [
    "### ATE w/ Confidence Intervals\n",
    "Note: S-Learner is the only learner that uses bootstrapping to get confidence intervals."
   ]
  },
  {
   "cell_type": "code",
   "execution_count": 256,
   "metadata": {
    "ExecuteTime": {
     "end_time": "2019-08-28T17:03:46.984821Z",
     "start_time": "2019-08-28T17:02:07.934951Z"
    }
   },
   "outputs": [
    {
     "name": "stderr",
     "output_type": "stream",
     "text": [
      "INFO:causalml:Error metrics for group treatment_a\n",
      "INFO:causalml:    RMSE   (Control):     0.9474\n",
      "INFO:causalml:    RMSE (Treatment):     0.9560\n",
      "INFO:causalml:   sMAPE   (Control):     0.7993\n",
      "INFO:causalml:   sMAPE (Treatment):     0.4612\n",
      "INFO:causalml:    Gini   (Control):     0.4574\n",
      "INFO:causalml:    Gini (Treatment):     0.5122\n",
      "INFO:causalml:Error metrics for group treatment_b\n",
      "INFO:causalml:    RMSE   (Control):     0.9379\n",
      "INFO:causalml:    RMSE (Treatment):     0.9648\n",
      "INFO:causalml:   sMAPE   (Control):     0.7932\n",
      "INFO:causalml:   sMAPE (Treatment):     0.4788\n",
      "INFO:causalml:    Gini   (Control):     0.4786\n",
      "INFO:causalml:    Gini (Treatment):     0.5186\n",
      "INFO:causalml:11/100 bootstraps completed. (5s lapsed)\n",
      "INFO:causalml:21/100 bootstraps completed. (10s lapsed)\n",
      "INFO:causalml:31/100 bootstraps completed. (15s lapsed)\n",
      "INFO:causalml:41/100 bootstraps completed. (19s lapsed)\n",
      "INFO:causalml:51/100 bootstraps completed. (24s lapsed)\n",
      "INFO:causalml:61/100 bootstraps completed. (29s lapsed)\n",
      "INFO:causalml:71/100 bootstraps completed. (34s lapsed)\n",
      "INFO:causalml:81/100 bootstraps completed. (39s lapsed)\n",
      "INFO:causalml:91/100 bootstraps completed. (44s lapsed)\n"
     ]
    }
   ],
   "source": [
    "alpha = 0.05\n",
    "learner_s = BaseSRegressor(XGBRegressor(), ate_alpha=alpha, control_name='control')\n",
    "ate_s, ate_s_lb, ate_s_ub = learner_s.estimate_ate(X=X, treatment=treatment, y=y, return_ci=True,\n",
    "                               n_bootstraps=100, bootstrap_size=3000)"
   ]
  },
  {
   "cell_type": "code",
   "execution_count": 257,
   "metadata": {
    "ExecuteTime": {
     "end_time": "2019-08-28T17:03:47.015008Z",
     "start_time": "2019-08-28T17:03:46.987581Z"
    }
   },
   "outputs": [
    {
     "data": {
      "text/plain": [
       "array([[0.28157484, 0.11983185],\n",
       "       [0.57222204, 0.54491608],\n",
       "       [0.84335437, 0.90839041]])"
      ]
     },
     "execution_count": 257,
     "metadata": {},
     "output_type": "execute_result"
    }
   ],
   "source": [
    "np.vstack((ate_s_lb, ate_s, ate_s_ub))"
   ]
  },
  {
   "cell_type": "markdown",
   "metadata": {},
   "source": [
    "### CATE"
   ]
  },
  {
   "cell_type": "code",
   "execution_count": 258,
   "metadata": {
    "ExecuteTime": {
     "end_time": "2019-08-28T17:03:48.825975Z",
     "start_time": "2019-08-28T17:03:47.017963Z"
    }
   },
   "outputs": [
    {
     "name": "stderr",
     "output_type": "stream",
     "text": [
      "INFO:causalml:Error metrics for group treatment_a\n",
      "INFO:causalml:    RMSE   (Control):     0.9474\n",
      "INFO:causalml:    RMSE (Treatment):     0.9560\n",
      "INFO:causalml:   sMAPE   (Control):     0.7993\n",
      "INFO:causalml:   sMAPE (Treatment):     0.4612\n",
      "INFO:causalml:    Gini   (Control):     0.4574\n",
      "INFO:causalml:    Gini (Treatment):     0.5122\n",
      "INFO:causalml:Error metrics for group treatment_b\n",
      "INFO:causalml:    RMSE   (Control):     0.9379\n",
      "INFO:causalml:    RMSE (Treatment):     0.9648\n",
      "INFO:causalml:   sMAPE   (Control):     0.7932\n",
      "INFO:causalml:   sMAPE (Treatment):     0.4788\n",
      "INFO:causalml:    Gini   (Control):     0.4786\n",
      "INFO:causalml:    Gini (Treatment):     0.5186\n"
     ]
    }
   ],
   "source": [
    "learner_s = BaseSRegressor(XGBRegressor(), control_name='control')\n",
    "cate_s = learner_s.fit_predict(X=X, treatment=treatment, y=y, return_ci=False)"
   ]
  },
  {
   "cell_type": "code",
   "execution_count": 259,
   "metadata": {
    "ExecuteTime": {
     "end_time": "2019-08-28T17:03:48.851825Z",
     "start_time": "2019-08-28T17:03:48.829969Z"
    }
   },
   "outputs": [
    {
     "data": {
      "text/plain": [
       "array([[ 0.7110523 ,  0.72896063],\n",
       "       [ 0.46170068,  0.53204143],\n",
       "       [ 0.67015076,  0.52216578],\n",
       "       ...,\n",
       "       [ 0.21919394, -0.00995845],\n",
       "       [ 0.68947518,  0.5184747 ],\n",
       "       [ 0.42201948,  0.1686368 ]])"
      ]
     },
     "execution_count": 259,
     "metadata": {},
     "output_type": "execute_result"
    }
   ],
   "source": [
    "cate_s"
   ]
  },
  {
   "cell_type": "markdown",
   "metadata": {},
   "source": [
    "### CATE w/ Confidence Intervals"
   ]
  },
  {
   "cell_type": "code",
   "execution_count": 260,
   "metadata": {
    "ExecuteTime": {
     "end_time": "2019-08-28T17:05:29.937192Z",
     "start_time": "2019-08-28T17:03:48.854216Z"
    }
   },
   "outputs": [
    {
     "name": "stderr",
     "output_type": "stream",
     "text": [
      "INFO:causalml:Error metrics for group treatment_a\n",
      "INFO:causalml:    RMSE   (Control):     0.9474\n",
      "INFO:causalml:    RMSE (Treatment):     0.9560\n",
      "INFO:causalml:   sMAPE   (Control):     0.7993\n",
      "INFO:causalml:   sMAPE (Treatment):     0.4612\n",
      "INFO:causalml:    Gini   (Control):     0.4574\n",
      "INFO:causalml:    Gini (Treatment):     0.5122\n",
      "INFO:causalml:Error metrics for group treatment_b\n",
      "INFO:causalml:    RMSE   (Control):     0.9379\n",
      "INFO:causalml:    RMSE (Treatment):     0.9648\n",
      "INFO:causalml:   sMAPE   (Control):     0.7932\n",
      "INFO:causalml:   sMAPE (Treatment):     0.4788\n",
      "INFO:causalml:    Gini   (Control):     0.4786\n",
      "INFO:causalml:    Gini (Treatment):     0.5186\n",
      "INFO:causalml:11/100 bootstraps completed. (5s lapsed)\n",
      "INFO:causalml:21/100 bootstraps completed. (10s lapsed)\n",
      "INFO:causalml:31/100 bootstraps completed. (14s lapsed)\n",
      "INFO:causalml:41/100 bootstraps completed. (19s lapsed)\n",
      "INFO:causalml:51/100 bootstraps completed. (24s lapsed)\n",
      "INFO:causalml:61/100 bootstraps completed. (29s lapsed)\n",
      "INFO:causalml:71/100 bootstraps completed. (34s lapsed)\n",
      "INFO:causalml:81/100 bootstraps completed. (39s lapsed)\n",
      "INFO:causalml:91/100 bootstraps completed. (44s lapsed)\n"
     ]
    }
   ],
   "source": [
    "alpha = 0.05\n",
    "learner_s = BaseSRegressor(XGBRegressor(), ate_alpha=alpha, control_name='control')\n",
    "cate_s, cate_s_lb, cate_s_ub = learner_s.fit_predict(X=X, treatment=treatment, y=y, return_ci=True,\n",
    "                               n_bootstraps=100, bootstrap_size=3000)"
   ]
  },
  {
   "cell_type": "code",
   "execution_count": 261,
   "metadata": {
    "ExecuteTime": {
     "end_time": "2019-08-28T17:05:29.963752Z",
     "start_time": "2019-08-28T17:05:29.939496Z"
    }
   },
   "outputs": [
    {
     "data": {
      "text/plain": [
       "array([[ 0.7110523 ,  0.72896063],\n",
       "       [ 0.46170068,  0.53204143],\n",
       "       [ 0.67015076,  0.52216578],\n",
       "       ...,\n",
       "       [ 0.21919394, -0.00995845],\n",
       "       [ 0.68947518,  0.5184747 ],\n",
       "       [ 0.42201948,  0.1686368 ]])"
      ]
     },
     "execution_count": 261,
     "metadata": {},
     "output_type": "execute_result"
    }
   ],
   "source": [
    "cate_s"
   ]
  },
  {
   "cell_type": "code",
   "execution_count": 262,
   "metadata": {
    "ExecuteTime": {
     "end_time": "2019-08-28T17:05:29.991924Z",
     "start_time": "2019-08-28T17:05:29.966069Z"
    }
   },
   "outputs": [
    {
     "data": {
      "text/plain": [
       "array([[ 0.34773584,  0.38833598],\n",
       "       [ 0.32855405,  0.25709299],\n",
       "       [ 0.3835393 ,  0.24827995],\n",
       "       ...,\n",
       "       [-0.01215666, -0.34909957],\n",
       "       [ 0.42033499,  0.18343877],\n",
       "       [-0.10599099, -0.27173222]])"
      ]
     },
     "execution_count": 262,
     "metadata": {},
     "output_type": "execute_result"
    }
   ],
   "source": [
    "cate_s_lb"
   ]
  },
  {
   "cell_type": "code",
   "execution_count": 263,
   "metadata": {
    "ExecuteTime": {
     "end_time": "2019-08-28T17:05:30.016885Z",
     "start_time": "2019-08-28T17:05:29.993982Z"
    }
   },
   "outputs": [
    {
     "data": {
      "text/plain": [
       "array([[0.895006  , 1.10417335],\n",
       "       [0.91031416, 1.09631784],\n",
       "       [0.91053412, 0.77388544],\n",
       "       ...,\n",
       "       [0.54893577, 0.62338302],\n",
       "       [0.94226302, 0.88975289],\n",
       "       [0.68634911, 0.66780635]])"
      ]
     },
     "execution_count": 263,
     "metadata": {},
     "output_type": "execute_result"
    }
   ],
   "source": [
    "cate_s_ub"
   ]
  },
  {
   "cell_type": "markdown",
   "metadata": {},
   "source": [
    "## T-Learner"
   ]
  },
  {
   "cell_type": "markdown",
   "metadata": {},
   "source": [
    "### ATE w/ Confidence Intervals"
   ]
  },
  {
   "cell_type": "code",
   "execution_count": 264,
   "metadata": {
    "ExecuteTime": {
     "end_time": "2019-08-28T17:05:31.952853Z",
     "start_time": "2019-08-28T17:05:30.018851Z"
    }
   },
   "outputs": [
    {
     "name": "stderr",
     "output_type": "stream",
     "text": [
      "INFO:causalml:Error metrics for group treatment_a\n",
      "INFO:causalml:    RMSE   (Control):     0.9433\n",
      "INFO:causalml:    RMSE (Treatment):     0.9223\n",
      "INFO:causalml:   sMAPE   (Control):     0.7871\n",
      "INFO:causalml:   sMAPE (Treatment):     0.4512\n",
      "INFO:causalml:    Gini   (Control):     0.4659\n",
      "INFO:causalml:    Gini (Treatment):     0.5554\n",
      "INFO:causalml:Error metrics for group treatment_b\n",
      "INFO:causalml:    RMSE   (Control):     0.9766\n",
      "INFO:causalml:    RMSE (Treatment):     0.8209\n",
      "INFO:causalml:   sMAPE   (Control):     0.7895\n",
      "INFO:causalml:   sMAPE (Treatment):     0.4336\n",
      "INFO:causalml:    Gini   (Control):     0.4273\n",
      "INFO:causalml:    Gini (Treatment):     0.7174\n"
     ]
    }
   ],
   "source": [
    "learner_t = BaseTRegressor(XGBRegressor(), control_name='control')\n",
    "ate_t, ate_t_lb, ate_t_ub = learner_t.estimate_ate(X=X, treatment=treatment, y=y)"
   ]
  },
  {
   "cell_type": "code",
   "execution_count": 265,
   "metadata": {
    "ExecuteTime": {
     "end_time": "2019-08-28T17:05:31.980649Z",
     "start_time": "2019-08-28T17:05:31.954922Z"
    }
   },
   "outputs": [
    {
     "data": {
      "text/plain": [
       "array([[0.34933015, 0.14592573],\n",
       "       [0.38843368, 0.20298838],\n",
       "       [0.42753722, 0.26005102]])"
      ]
     },
     "execution_count": 265,
     "metadata": {},
     "output_type": "execute_result"
    }
   ],
   "source": [
    "np.vstack((ate_t_lb, ate_t, ate_t_ub))"
   ]
  },
  {
   "cell_type": "markdown",
   "metadata": {},
   "source": [
    "### CATE"
   ]
  },
  {
   "cell_type": "code",
   "execution_count": 266,
   "metadata": {
    "ExecuteTime": {
     "end_time": "2019-08-28T17:05:33.912204Z",
     "start_time": "2019-08-28T17:05:31.982859Z"
    }
   },
   "outputs": [
    {
     "name": "stderr",
     "output_type": "stream",
     "text": [
      "INFO:causalml:Error metrics for group treatment_a\n",
      "INFO:causalml:    RMSE   (Control):     0.9433\n",
      "INFO:causalml:    RMSE (Treatment):     0.9223\n",
      "INFO:causalml:   sMAPE   (Control):     0.7871\n",
      "INFO:causalml:   sMAPE (Treatment):     0.4512\n",
      "INFO:causalml:    Gini   (Control):     0.4659\n",
      "INFO:causalml:    Gini (Treatment):     0.5554\n",
      "INFO:causalml:Error metrics for group treatment_b\n",
      "INFO:causalml:    RMSE   (Control):     0.9766\n",
      "INFO:causalml:    RMSE (Treatment):     0.8209\n",
      "INFO:causalml:   sMAPE   (Control):     0.7895\n",
      "INFO:causalml:   sMAPE (Treatment):     0.4336\n",
      "INFO:causalml:    Gini   (Control):     0.4273\n",
      "INFO:causalml:    Gini (Treatment):     0.7174\n"
     ]
    }
   ],
   "source": [
    "learner_t = BaseTRegressor(XGBRegressor(), control_name='control')\n",
    "cate_t = learner_t.fit_predict(X=X, treatment=treatment, y=y)"
   ]
  },
  {
   "cell_type": "code",
   "execution_count": 267,
   "metadata": {
    "ExecuteTime": {
     "end_time": "2019-08-28T17:05:33.935965Z",
     "start_time": "2019-08-28T17:05:33.914108Z"
    }
   },
   "outputs": [
    {
     "data": {
      "text/plain": [
       "array([[ 0.07843971,  0.62060785],\n",
       "       [ 0.67675459, -0.2323246 ],\n",
       "       [ 0.37720966,  0.0314579 ],\n",
       "       ...,\n",
       "       [-0.09979409, -0.43892848],\n",
       "       [ 0.50073576,  0.2235105 ],\n",
       "       [ 0.10807228,  0.63284099]])"
      ]
     },
     "execution_count": 267,
     "metadata": {},
     "output_type": "execute_result"
    }
   ],
   "source": [
    "cate_t"
   ]
  },
  {
   "cell_type": "markdown",
   "metadata": {},
   "source": [
    "### CATE w/ Confidence Intervals"
   ]
  },
  {
   "cell_type": "code",
   "execution_count": 268,
   "metadata": {
    "ExecuteTime": {
     "end_time": "2019-08-28T17:07:13.985217Z",
     "start_time": "2019-08-28T17:05:33.937938Z"
    }
   },
   "outputs": [
    {
     "name": "stderr",
     "output_type": "stream",
     "text": [
      "INFO:causalml:Error metrics for group treatment_a\n",
      "INFO:causalml:    RMSE   (Control):     0.9433\n",
      "INFO:causalml:    RMSE (Treatment):     0.9223\n",
      "INFO:causalml:   sMAPE   (Control):     0.7871\n",
      "INFO:causalml:   sMAPE (Treatment):     0.4512\n",
      "INFO:causalml:    Gini   (Control):     0.4659\n",
      "INFO:causalml:    Gini (Treatment):     0.5554\n",
      "INFO:causalml:Error metrics for group treatment_b\n",
      "INFO:causalml:    RMSE   (Control):     0.9766\n",
      "INFO:causalml:    RMSE (Treatment):     0.8209\n",
      "INFO:causalml:   sMAPE   (Control):     0.7895\n",
      "INFO:causalml:   sMAPE (Treatment):     0.4336\n",
      "INFO:causalml:    Gini   (Control):     0.4273\n",
      "INFO:causalml:    Gini (Treatment):     0.7174\n",
      "INFO:causalml:10/100 bootstraps completed. (6s lapsed)\n",
      "INFO:causalml:20/100 bootstraps completed. (12s lapsed)\n",
      "INFO:causalml:30/100 bootstraps completed. (18s lapsed)\n",
      "INFO:causalml:40/100 bootstraps completed. (24s lapsed)\n",
      "INFO:causalml:50/100 bootstraps completed. (30s lapsed)\n",
      "INFO:causalml:60/100 bootstraps completed. (36s lapsed)\n",
      "INFO:causalml:70/100 bootstraps completed. (42s lapsed)\n",
      "INFO:causalml:80/100 bootstraps completed. (48s lapsed)\n",
      "INFO:causalml:90/100 bootstraps completed. (54s lapsed)\n"
     ]
    }
   ],
   "source": [
    "learner_t = BaseTRegressor(XGBRegressor(), control_name='control')\n",
    "cate_t, cate_t_lb, cate_t_ub = learner_t.fit_predict(X=X, treatment=treatment, y=y, return_ci=True, n_bootstraps=100,\n",
    "                                                    bootstrap_size=3000)"
   ]
  },
  {
   "cell_type": "code",
   "execution_count": 269,
   "metadata": {
    "ExecuteTime": {
     "end_time": "2019-08-28T17:07:14.008298Z",
     "start_time": "2019-08-28T17:07:13.987420Z"
    }
   },
   "outputs": [
    {
     "data": {
      "text/plain": [
       "array([[ 0.07843971,  0.62060785],\n",
       "       [ 0.67675459, -0.2323246 ],\n",
       "       [ 0.37720966,  0.0314579 ],\n",
       "       ...,\n",
       "       [-0.09979409, -0.43892848],\n",
       "       [ 0.50073576,  0.2235105 ],\n",
       "       [ 0.10807228,  0.63284099]])"
      ]
     },
     "execution_count": 269,
     "metadata": {},
     "output_type": "execute_result"
    }
   ],
   "source": [
    "cate_t"
   ]
  },
  {
   "cell_type": "code",
   "execution_count": 270,
   "metadata": {
    "ExecuteTime": {
     "end_time": "2019-08-28T17:07:14.028467Z",
     "start_time": "2019-08-28T17:07:14.010131Z"
    }
   },
   "outputs": [
    {
     "data": {
      "text/plain": [
       "array([[-0.53212722, -0.30903141],\n",
       "       [-0.11879453, -0.74498232],\n",
       "       [-0.10895857, -0.67974144],\n",
       "       ...,\n",
       "       [-0.45499107, -0.87762732],\n",
       "       [-0.00316302, -0.62013881],\n",
       "       [-0.92662416, -0.79869654]])"
      ]
     },
     "execution_count": 270,
     "metadata": {},
     "output_type": "execute_result"
    }
   ],
   "source": [
    "cate_t_lb"
   ]
  },
  {
   "cell_type": "code",
   "execution_count": 271,
   "metadata": {
    "ExecuteTime": {
     "end_time": "2019-08-28T17:07:14.056348Z",
     "start_time": "2019-08-28T17:07:14.031558Z"
    }
   },
   "outputs": [
    {
     "data": {
      "text/plain": [
       "array([[1.11578433, 1.30606542],\n",
       "       [1.09485216, 1.18135833],\n",
       "       [0.81800099, 0.54585419],\n",
       "       ...,\n",
       "       [0.59724846, 0.83810846],\n",
       "       [0.93970177, 0.73656077],\n",
       "       [0.89648482, 1.36169408]])"
      ]
     },
     "execution_count": 271,
     "metadata": {},
     "output_type": "execute_result"
    }
   ],
   "source": [
    "cate_t_ub"
   ]
  },
  {
   "cell_type": "markdown",
   "metadata": {},
   "source": [
    "## X-Learner"
   ]
  },
  {
   "cell_type": "markdown",
   "metadata": {},
   "source": [
    "### ATE w/ Confidence Intervals"
   ]
  },
  {
   "cell_type": "code",
   "execution_count": 272,
   "metadata": {
    "ExecuteTime": {
     "end_time": "2019-08-28T17:07:17.551135Z",
     "start_time": "2019-08-28T17:07:14.058200Z"
    }
   },
   "outputs": [
    {
     "name": "stderr",
     "output_type": "stream",
     "text": [
      "INFO:causalml:Error metrics for group treatment_a\n",
      "INFO:causalml:    RMSE   (Control):     0.9276\n",
      "INFO:causalml:    RMSE (Treatment):     0.9223\n",
      "INFO:causalml:   sMAPE   (Control):     0.7885\n",
      "INFO:causalml:   sMAPE (Treatment):     0.4512\n",
      "INFO:causalml:    Gini   (Control):     0.4967\n",
      "INFO:causalml:    Gini (Treatment):     0.5554\n",
      "INFO:causalml:Error metrics for group treatment_b\n",
      "INFO:causalml:    RMSE   (Control):     0.9276\n",
      "INFO:causalml:    RMSE (Treatment):     0.8209\n",
      "INFO:causalml:   sMAPE   (Control):     0.7885\n",
      "INFO:causalml:   sMAPE (Treatment):     0.4336\n",
      "INFO:causalml:    Gini   (Control):     0.4967\n",
      "INFO:causalml:    Gini (Treatment):     0.7174\n"
     ]
    }
   ],
   "source": [
    "learner_x = BaseXRegressor(XGBRegressor(), control_name='control')\n",
    "ate_x, ate_x_lb, ate_x_ub = learner_x.estimate_ate(X=X, p=e, treatment=treatment, y=y)"
   ]
  },
  {
   "cell_type": "code",
   "execution_count": 273,
   "metadata": {
    "ExecuteTime": {
     "end_time": "2019-08-28T17:07:17.574553Z",
     "start_time": "2019-08-28T17:07:17.553013Z"
    }
   },
   "outputs": [
    {
     "data": {
      "text/plain": [
       "array([[0.50505838, 0.45462766],\n",
       "       [0.54392714, 0.51127676],\n",
       "       [0.58279589, 0.56792587]])"
      ]
     },
     "execution_count": 273,
     "metadata": {},
     "output_type": "execute_result"
    }
   ],
   "source": [
    "np.vstack((ate_x_lb, ate_x, ate_x_ub))"
   ]
  },
  {
   "cell_type": "markdown",
   "metadata": {},
   "source": [
    "### CATE"
   ]
  },
  {
   "cell_type": "code",
   "execution_count": 274,
   "metadata": {
    "ExecuteTime": {
     "end_time": "2019-08-28T17:07:21.267626Z",
     "start_time": "2019-08-28T17:07:17.576414Z"
    }
   },
   "outputs": [
    {
     "name": "stderr",
     "output_type": "stream",
     "text": [
      "INFO:causalml:Error metrics for group treatment_a\n",
      "INFO:causalml:    RMSE   (Control):     0.9276\n",
      "INFO:causalml:    RMSE (Treatment):     0.9223\n",
      "INFO:causalml:   sMAPE   (Control):     0.7885\n",
      "INFO:causalml:   sMAPE (Treatment):     0.4512\n",
      "INFO:causalml:    Gini   (Control):     0.4967\n",
      "INFO:causalml:    Gini (Treatment):     0.5554\n",
      "INFO:causalml:Error metrics for group treatment_b\n",
      "INFO:causalml:    RMSE   (Control):     0.9276\n",
      "INFO:causalml:    RMSE (Treatment):     0.8209\n",
      "INFO:causalml:   sMAPE   (Control):     0.7885\n",
      "INFO:causalml:   sMAPE (Treatment):     0.4336\n",
      "INFO:causalml:    Gini   (Control):     0.4967\n",
      "INFO:causalml:    Gini (Treatment):     0.7174\n"
     ]
    }
   ],
   "source": [
    "learner_x = BaseXRegressor(XGBRegressor(), control_name='control')\n",
    "cate_x = learner_x.fit_predict(X=X, p=e, treatment=treatment, y=y)"
   ]
  },
  {
   "cell_type": "code",
   "execution_count": 275,
   "metadata": {
    "ExecuteTime": {
     "end_time": "2019-08-28T17:07:21.296233Z",
     "start_time": "2019-08-28T17:07:21.270159Z"
    }
   },
   "outputs": [
    {
     "data": {
      "text/plain": [
       "array([[ 0.51011193,  1.11665416],\n",
       "       [ 0.63057578,  0.93714559],\n",
       "       [ 0.56651378,  0.62864852],\n",
       "       ...,\n",
       "       [ 0.0706934 , -0.24768382],\n",
       "       [ 0.6520552 ,  0.55430686],\n",
       "       [ 0.32744938,  0.20324787]])"
      ]
     },
     "execution_count": 275,
     "metadata": {},
     "output_type": "execute_result"
    }
   ],
   "source": [
    "cate_x"
   ]
  },
  {
   "cell_type": "markdown",
   "metadata": {},
   "source": [
    "### CATE w/ Confidence Intervals"
   ]
  },
  {
   "cell_type": "code",
   "execution_count": 277,
   "metadata": {
    "ExecuteTime": {
     "end_time": "2019-08-28T17:10:44.269409Z",
     "start_time": "2019-08-28T17:10:28.461920Z"
    }
   },
   "outputs": [
    {
     "name": "stderr",
     "output_type": "stream",
     "text": [
      "INFO:causalml:Error metrics for group treatment_a\n",
      "INFO:causalml:    RMSE   (Control):     0.9276\n",
      "INFO:causalml:    RMSE (Treatment):     0.9223\n",
      "INFO:causalml:   sMAPE   (Control):     0.7885\n",
      "INFO:causalml:   sMAPE (Treatment):     0.4512\n",
      "INFO:causalml:    Gini   (Control):     0.4967\n",
      "INFO:causalml:    Gini (Treatment):     0.5554\n",
      "INFO:causalml:Error metrics for group treatment_b\n",
      "INFO:causalml:    RMSE   (Control):     0.9276\n",
      "INFO:causalml:    RMSE (Treatment):     0.8209\n",
      "INFO:causalml:   sMAPE   (Control):     0.7885\n",
      "INFO:causalml:   sMAPE (Treatment):     0.4336\n",
      "INFO:causalml:    Gini   (Control):     0.4967\n",
      "INFO:causalml:    Gini (Treatment):     0.7174\n",
      "INFO:causalml:10/100 bootstraps completed. (4s lapsed)\n",
      "INFO:causalml:20/100 bootstraps completed. (8s lapsed)\n",
      "INFO:causalml:30/100 bootstraps completed. (11s lapsed)\n",
      "INFO:causalml:40/100 bootstraps completed. (15s lapsed)\n",
      "INFO:causalml:50/100 bootstraps completed. (19s lapsed)\n",
      "INFO:causalml:60/100 bootstraps completed. (23s lapsed)\n",
      "INFO:causalml:70/100 bootstraps completed. (26s lapsed)\n",
      "INFO:causalml:80/100 bootstraps completed. (30s lapsed)\n",
      "INFO:causalml:90/100 bootstraps completed. (35s lapsed)\n"
     ]
    }
   ],
   "source": [
    "learner_x = BaseXRegressor(XGBRegressor(), control_name='control')\n",
    "cate_x, cate_x_lb, cate_x_ub = learner_x.fit_predict(X=X, p=e, treatment=treatment, y=y, return_ci=True,\n",
    "                                                     n_bootstraps=100, bootstrap_size=1000)"
   ]
  },
  {
   "cell_type": "code",
   "execution_count": 278,
   "metadata": {
    "ExecuteTime": {
     "end_time": "2019-08-28T17:10:44.293863Z",
     "start_time": "2019-08-28T17:10:44.271902Z"
    }
   },
   "outputs": [
    {
     "data": {
      "text/plain": [
       "{'treatment_a': 0, 'treatment_b': 1}"
      ]
     },
     "execution_count": 278,
     "metadata": {},
     "output_type": "execute_result"
    }
   ],
   "source": [
    "learner_x._classes"
   ]
  },
  {
   "cell_type": "code",
   "execution_count": 279,
   "metadata": {
    "ExecuteTime": {
     "end_time": "2019-08-28T17:10:44.314458Z",
     "start_time": "2019-08-28T17:10:44.295942Z"
    }
   },
   "outputs": [
    {
     "data": {
      "text/plain": [
       "array([[ 0.51011193,  1.11665416],\n",
       "       [ 0.63057578,  0.93714559],\n",
       "       [ 0.56651378,  0.62864852],\n",
       "       ...,\n",
       "       [ 0.0706934 , -0.24768382],\n",
       "       [ 0.6520552 ,  0.55430686],\n",
       "       [ 0.32744938,  0.20324787]])"
      ]
     },
     "execution_count": 279,
     "metadata": {},
     "output_type": "execute_result"
    }
   ],
   "source": [
    "cate_x"
   ]
  },
  {
   "cell_type": "code",
   "execution_count": 280,
   "metadata": {
    "ExecuteTime": {
     "end_time": "2019-08-28T17:10:44.335639Z",
     "start_time": "2019-08-28T17:10:44.316422Z"
    }
   },
   "outputs": [
    {
     "data": {
      "text/plain": [
       "array([[-0.12947168, -0.59684465],\n",
       "       [ 0.14511852, -0.09586008],\n",
       "       [-0.06014985, -0.19478888],\n",
       "       ...,\n",
       "       [-0.47372837, -0.77667013],\n",
       "       [-0.01208761, -0.16601014],\n",
       "       [-1.09851137, -1.25647704]])"
      ]
     },
     "execution_count": 280,
     "metadata": {},
     "output_type": "execute_result"
    }
   ],
   "source": [
    "cate_x_lb"
   ]
  },
  {
   "cell_type": "code",
   "execution_count": 281,
   "metadata": {
    "ExecuteTime": {
     "end_time": "2019-08-28T17:10:44.357615Z",
     "start_time": "2019-08-28T17:10:44.337537Z"
    }
   },
   "outputs": [
    {
     "data": {
      "text/plain": [
       "array([[1.4489592 , 1.56688626],\n",
       "       [1.64714022, 1.86003685],\n",
       "       [1.25445629, 1.3876931 ],\n",
       "       ...,\n",
       "       [0.82276537, 1.19296496],\n",
       "       [1.22051817, 1.3174639 ],\n",
       "       [1.05864714, 1.66282994]])"
      ]
     },
     "execution_count": 281,
     "metadata": {},
     "output_type": "execute_result"
    }
   ],
   "source": [
    "cate_x_ub"
   ]
  },
  {
   "cell_type": "markdown",
   "metadata": {},
   "source": [
    "## R-Learner"
   ]
  },
  {
   "cell_type": "markdown",
   "metadata": {},
   "source": [
    "### ATE w/ Confidence Intervals"
   ]
  },
  {
   "cell_type": "code",
   "execution_count": 282,
   "metadata": {
    "ExecuteTime": {
     "end_time": "2019-08-28T17:10:49.284767Z",
     "start_time": "2019-08-28T17:10:44.359479Z"
    }
   },
   "outputs": [
    {
     "name": "stderr",
     "output_type": "stream",
     "text": [
      "INFO:causalml:generating out-of-fold CV outcome estimates\n",
      "INFO:causalml:training the treatment effect model for treatment_a with R-loss\n",
      "INFO:causalml:training the treatment effect model for treatment_b with R-loss\n"
     ]
    }
   ],
   "source": [
    "learner_r = BaseRRegressor(XGBRegressor(), control_name='control')\n",
    "ate_r, ate_r_lb, ate_r_ub = learner_r.estimate_ate(X=X, p=e, treatment=treatment, y=y)"
   ]
  },
  {
   "cell_type": "code",
   "execution_count": 283,
   "metadata": {
    "ExecuteTime": {
     "end_time": "2019-08-28T17:10:49.310592Z",
     "start_time": "2019-08-28T17:10:49.286887Z"
    }
   },
   "outputs": [
    {
     "data": {
      "text/plain": [
       "array([[0.50585937, 0.53371618],\n",
       "       [0.50626388, 0.53436845],\n",
       "       [0.5066684 , 0.53502073]])"
      ]
     },
     "execution_count": 283,
     "metadata": {},
     "output_type": "execute_result"
    }
   ],
   "source": [
    "np.vstack((ate_r_lb, ate_r, ate_r_ub))"
   ]
  },
  {
   "cell_type": "markdown",
   "metadata": {},
   "source": [
    "### CATE"
   ]
  },
  {
   "cell_type": "code",
   "execution_count": 284,
   "metadata": {
    "ExecuteTime": {
     "end_time": "2019-08-28T17:10:54.180687Z",
     "start_time": "2019-08-28T17:10:49.312419Z"
    }
   },
   "outputs": [
    {
     "name": "stderr",
     "output_type": "stream",
     "text": [
      "INFO:causalml:generating out-of-fold CV outcome estimates\n",
      "INFO:causalml:training the treatment effect model for treatment_a with R-loss\n",
      "INFO:causalml:training the treatment effect model for treatment_b with R-loss\n"
     ]
    }
   ],
   "source": [
    "learner_r = BaseRRegressor(XGBRegressor(), control_name='control')\n",
    "cate_r = learner_r.fit_predict(X=X, p=e, treatment=treatment, y=y)"
   ]
  },
  {
   "cell_type": "code",
   "execution_count": 285,
   "metadata": {
    "ExecuteTime": {
     "end_time": "2019-08-28T17:10:54.205493Z",
     "start_time": "2019-08-28T17:10:54.183676Z"
    }
   },
   "outputs": [
    {
     "data": {
      "text/plain": [
       "array([[ 0.47630477,  0.39759061],\n",
       "       [ 0.42579198,  0.51405406],\n",
       "       [ 0.67396069,  0.51410764],\n",
       "       ...,\n",
       "       [ 0.15357456, -0.29675448],\n",
       "       [ 0.67324972,  0.79289162],\n",
       "       [ 0.18124461,  0.19601935]])"
      ]
     },
     "execution_count": 285,
     "metadata": {},
     "output_type": "execute_result"
    }
   ],
   "source": [
    "cate_r"
   ]
  },
  {
   "cell_type": "markdown",
   "metadata": {},
   "source": [
    "### CATE w/ Confidence Intervals"
   ]
  },
  {
   "cell_type": "code",
   "execution_count": 286,
   "metadata": {
    "ExecuteTime": {
     "end_time": "2019-08-28T17:11:11.660342Z",
     "start_time": "2019-08-28T17:10:54.207396Z"
    },
    "scrolled": true
   },
   "outputs": [
    {
     "name": "stderr",
     "output_type": "stream",
     "text": [
      "INFO:causalml:generating out-of-fold CV outcome estimates\n",
      "INFO:causalml:training the treatment effect model for treatment_a with R-loss\n",
      "INFO:causalml:training the treatment effect model for treatment_b with R-loss\n",
      "INFO:causalml:10/100 bootstraps completed. (6s lapsed)\n",
      "INFO:causalml:20/100 bootstraps completed. (11s lapsed)\n",
      "INFO:causalml:30/100 bootstraps completed. (17s lapsed)\n",
      "INFO:causalml:40/100 bootstraps completed. (23s lapsed)\n",
      "INFO:causalml:50/100 bootstraps completed. (28s lapsed)\n",
      "INFO:causalml:60/100 bootstraps completed. (34s lapsed)\n",
      "INFO:causalml:70/100 bootstraps completed. (39s lapsed)\n",
      "INFO:causalml:80/100 bootstraps completed. (44s lapsed)\n",
      "INFO:causalml:90/100 bootstraps completed. (50s lapsed)\n"
     ]
    }
   ],
   "source": [
    "learner_r = BaseRRegressor(XGBRegressor(), control_name='control')\n",
    "cate_r, cate_r_lb, cate_r_ub = learner_r.fit_predict(X=X, p=e, treatment=treatment, y=y, return_ci=True,\n",
    "                                                     n_bootstraps=100, bootstrap_size=1000)"
   ]
  },
  {
   "cell_type": "code",
   "execution_count": 287,
   "metadata": {
    "ExecuteTime": {
     "end_time": "2019-08-28T17:11:11.686172Z",
     "start_time": "2019-08-28T17:11:11.662664Z"
    }
   },
   "outputs": [
    {
     "data": {
      "text/plain": [
       "array([[ 0.40322813,  0.54269838],\n",
       "       [ 0.39800978,  0.57912332],\n",
       "       [ 0.6299926 ,  0.52691686],\n",
       "       ...,\n",
       "       [ 0.1465683 , -0.50364113],\n",
       "       [ 0.67988652,  0.78473824],\n",
       "       [ 0.14495316,  0.22803634]])"
      ]
     },
     "execution_count": 287,
     "metadata": {},
     "output_type": "execute_result"
    }
   ],
   "source": [
    "cate_r"
   ]
  },
  {
   "cell_type": "code",
   "execution_count": 288,
   "metadata": {
    "ExecuteTime": {
     "end_time": "2019-08-28T17:11:11.708515Z",
     "start_time": "2019-08-28T17:11:11.687930Z"
    }
   },
   "outputs": [
    {
     "data": {
      "text/plain": [
       "array([[-1.00395276, -0.7525253 ],\n",
       "       [-1.09133305, -0.49386598],\n",
       "       [-0.40646755, -0.65167602],\n",
       "       ...,\n",
       "       [-0.88159316, -1.23170861],\n",
       "       [-0.19269688, -0.24206508],\n",
       "       [-1.24128244, -1.78349458]])"
      ]
     },
     "execution_count": 288,
     "metadata": {},
     "output_type": "execute_result"
    }
   ],
   "source": [
    "cate_r_lb"
   ]
  },
  {
   "cell_type": "code",
   "execution_count": 289,
   "metadata": {
    "ExecuteTime": {
     "end_time": "2019-08-28T17:11:11.731734Z",
     "start_time": "2019-08-28T17:11:11.710268Z"
    }
   },
   "outputs": [
    {
     "data": {
      "text/plain": [
       "array([[1.81883051, 1.94110912],\n",
       "       [2.13361122, 2.1823402 ],\n",
       "       [1.61409808, 1.69780168],\n",
       "       ...,\n",
       "       [1.24102452, 1.5892303 ],\n",
       "       [1.71756125, 1.57980649],\n",
       "       [1.69272904, 1.63786195]])"
      ]
     },
     "execution_count": 289,
     "metadata": {},
     "output_type": "execute_result"
    }
   ],
   "source": [
    "cate_r_ub"
   ]
  },
  {
   "cell_type": "code",
   "execution_count": null,
   "metadata": {},
   "outputs": [],
   "source": []
  }
 ],
 "metadata": {
  "kernelspec": {
   "display_name": "Python 3",
   "language": "python",
   "name": "python3"
  },
  "language_info": {
   "codemirror_mode": {
    "name": "ipython",
    "version": 3
   },
   "file_extension": ".py",
   "mimetype": "text/x-python",
   "name": "python",
   "nbconvert_exporter": "python",
   "pygments_lexer": "ipython3",
   "version": "3.6.8"
  },
  "toc": {
   "base_numbering": 1,
   "nav_menu": {
    "height": "174px",
    "width": "252px"
   },
   "number_sections": false,
   "sideBar": true,
   "skip_h1_title": false,
   "title_cell": "Table of Contents",
   "title_sidebar": "Contents",
   "toc_cell": false,
   "toc_position": {
    "height": "calc(100% - 180px)",
    "left": "10px",
    "top": "150px",
    "width": "203px"
   },
   "toc_section_display": "block",
   "toc_window_display": true
  }
 },
 "nbformat": 4,
 "nbformat_minor": 2
}
