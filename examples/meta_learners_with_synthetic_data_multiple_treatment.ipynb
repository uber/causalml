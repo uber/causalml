{
 "cells": [
  {
   "cell_type": "markdown",
   "metadata": {},
   "source": [
    "# `causalml` - Meta-Learner Example Notebook\n",
    "This notebook only contains regression examples."
   ]
  },
  {
   "cell_type": "code",
   "execution_count": 1,
   "metadata": {
    "ExecuteTime": {
     "end_time": "2019-08-28T16:54:38.022644Z",
     "start_time": "2019-08-28T16:54:38.017408Z"
    }
   },
   "outputs": [],
   "source": [
    "# pick the right base path (only run ONCE)\n",
    "import os\n",
    "base_path = os.path.abspath(\"../causalml\")\n",
    "os.chdir(base_path)"
   ]
  },
  {
   "cell_type": "code",
   "execution_count": 2,
   "metadata": {
    "ExecuteTime": {
     "end_time": "2019-08-28T16:54:38.053486Z",
     "start_time": "2019-08-28T16:54:38.026726Z"
    }
   },
   "outputs": [],
   "source": [
    "%reload_ext autoreload\n",
    "%autoreload 2"
   ]
  },
  {
   "cell_type": "code",
   "execution_count": 3,
   "metadata": {
    "ExecuteTime": {
     "end_time": "2019-08-28T16:54:39.292303Z",
     "start_time": "2019-08-28T16:54:38.056040Z"
    }
   },
   "outputs": [],
   "source": [
    "import pandas as pd\n",
    "import numpy as np\n",
    "from matplotlib import pyplot as plt\n",
    "from sklearn.linear_model import LinearRegression, LogisticRegression\n",
    "from sklearn.model_selection import train_test_split\n",
    "import statsmodels.api as sm\n",
    "from xgboost import XGBRegressor, XGBClassifier\n",
    "import warnings\n",
    "\n",
    "# from causalml.inference.meta import XGBTLearner, MLPTLearner\n",
    "from inference.meta import BaseSRegressor, BaseTRegressor, BaseXRegressor, BaseRRegressor\n",
    "from inference.meta import BaseSClassifier, BaseTClassifier, BaseXClassifier, BaseRClassifier\n",
    "from inference.meta import LRSRegressor\n",
    "from causalml.match import NearestNeighborMatch, MatchOptimizer, create_table_one\n",
    "from causalml.propensity import ElasticNetPropensityModel\n",
    "from causalml.dataset import *\n",
    "from causalml.metrics import *\n",
    "\n",
    "warnings.filterwarnings('ignore')\n",
    "plt.style.use('fivethirtyeight')\n",
    "pd.set_option('display.float_format', lambda x: '%.4f' % x)\n",
    "\n",
    "# imports from package\n",
    "import logging\n",
    "from sklearn.dummy import DummyRegressor\n",
    "from sklearn.metrics import mean_squared_error as mse\n",
    "from sklearn.metrics import mean_absolute_error as mae\n",
    "import statsmodels.api as sm\n",
    "from copy import deepcopy\n",
    "\n",
    "logger = logging.getLogger('causalml')\n",
    "logging.basicConfig(level=logging.INFO)\n",
    "\n",
    "%matplotlib inline"
   ]
  },
  {
   "cell_type": "markdown",
   "metadata": {},
   "source": [
    "# Single Treatment Case"
   ]
  },
  {
   "cell_type": "markdown",
   "metadata": {},
   "source": [
    "### Generate synthetic data"
   ]
  },
  {
   "cell_type": "code",
   "execution_count": 4,
   "metadata": {
    "ExecuteTime": {
     "end_time": "2019-08-28T16:54:39.323905Z",
     "start_time": "2019-08-28T16:54:39.294851Z"
    }
   },
   "outputs": [],
   "source": [
    "# Generate synthetic data using mode 1\n",
    "y, X, treatment, tau, b, e = synthetic_data(mode=1, n=10000, p=8, sigma=1.0)\n",
    "\n",
    "treatment = np.array(['treatment_a' if val==1 else 'control' for val in treatment])"
   ]
  },
  {
   "cell_type": "markdown",
   "metadata": {},
   "source": [
    "## S-Learner"
   ]
  },
  {
   "cell_type": "markdown",
   "metadata": {},
   "source": [
    "### ATE"
   ]
  },
  {
   "cell_type": "code",
   "execution_count": 5,
   "metadata": {
    "ExecuteTime": {
     "end_time": "2019-08-28T16:54:40.270570Z",
     "start_time": "2019-08-28T16:54:39.325957Z"
    }
   },
   "outputs": [
    {
     "name": "stderr",
     "output_type": "stream",
     "text": [
      "INFO:causalml:Error metrics for group treatment_a\n",
      "INFO:causalml:    RMSE   (Control): 1.1930\n",
      "INFO:causalml:    RMSE (Treatment): 1.0938\n",
      "INFO:causalml:   sMAPE   (Control): 0.6049\n",
      "INFO:causalml:   sMAPE (Treatment): 0.7908\n",
      "INFO:causalml:    Gini   (Control): 0.4568\n",
      "INFO:causalml:    Gini (Treatment): 0.4024\n"
     ]
    }
   ],
   "source": [
    "learner_s = BaseSRegressor(XGBRegressor(), control_name='control')\n",
    "ate_s = learner_s.estimate_ate(X=X, treatment=treatment, y=y, return_ci=False)"
   ]
  },
  {
   "cell_type": "code",
   "execution_count": 6,
   "metadata": {
    "ExecuteTime": {
     "end_time": "2019-08-28T16:54:40.295629Z",
     "start_time": "2019-08-28T16:54:40.272340Z"
    }
   },
   "outputs": [
    {
     "data": {
      "text/plain": [
       "array([0.58329705])"
      ]
     },
     "execution_count": 6,
     "metadata": {},
     "output_type": "execute_result"
    }
   ],
   "source": [
    "ate_s"
   ]
  },
  {
   "cell_type": "code",
   "execution_count": 7,
   "metadata": {
    "ExecuteTime": {
     "end_time": "2019-08-28T16:54:40.317012Z",
     "start_time": "2019-08-28T16:54:40.297310Z"
    }
   },
   "outputs": [
    {
     "data": {
      "text/plain": [
       "{'treatment_a': 0}"
      ]
     },
     "execution_count": 7,
     "metadata": {},
     "output_type": "execute_result"
    }
   ],
   "source": [
    "learner_s._classes"
   ]
  },
  {
   "cell_type": "markdown",
   "metadata": {},
   "source": [
    "### ATE w/ Confidence Intervals"
   ]
  },
  {
   "cell_type": "code",
   "execution_count": 8,
   "metadata": {
    "ExecuteTime": {
     "end_time": "2019-08-28T16:55:33.490116Z",
     "start_time": "2019-08-28T16:54:40.318757Z"
    }
   },
   "outputs": [
    {
     "name": "stderr",
     "output_type": "stream",
     "text": [
      "INFO:causalml:Error metrics for group treatment_a\n",
      "INFO:causalml:    RMSE   (Control): 1.1930\n",
      "INFO:causalml:    RMSE (Treatment): 1.0938\n",
      "INFO:causalml:   sMAPE   (Control): 0.6049\n",
      "INFO:causalml:   sMAPE (Treatment): 0.7908\n",
      "INFO:causalml:    Gini   (Control): 0.4568\n",
      "INFO:causalml:    Gini (Treatment): 0.4024\n",
      "INFO:causalml:11/100 bootstraps completed. (5s lapsed)\n",
      "INFO:causalml:21/100 bootstraps completed. (10s lapsed)\n",
      "INFO:causalml:31/100 bootstraps completed. (15s lapsed)\n",
      "INFO:causalml:41/100 bootstraps completed. (20s lapsed)\n",
      "INFO:causalml:51/100 bootstraps completed. (25s lapsed)\n",
      "INFO:causalml:61/100 bootstraps completed. (31s lapsed)\n",
      "INFO:causalml:71/100 bootstraps completed. (36s lapsed)\n",
      "INFO:causalml:81/100 bootstraps completed. (42s lapsed)\n",
      "INFO:causalml:91/100 bootstraps completed. (47s lapsed)\n"
     ]
    }
   ],
   "source": [
    "alpha = 0.05\n",
    "learner_s = BaseSRegressor(XGBRegressor(), ate_alpha=alpha, control_name='control')\n",
    "ate_s, ate_s_lb, ate_s_ub = learner_s.estimate_ate(X=X, treatment=treatment, y=y, return_ci=True,\n",
    "                               n_bootstraps=100, bootstrap_size=5000)"
   ]
  },
  {
   "cell_type": "code",
   "execution_count": 9,
   "metadata": {
    "ExecuteTime": {
     "end_time": "2019-08-28T16:55:33.516539Z",
     "start_time": "2019-08-28T16:55:33.493385Z"
    }
   },
   "outputs": [
    {
     "data": {
      "text/plain": [
       "array([[0.35547776],\n",
       "       [0.58329705],\n",
       "       [0.79762868]])"
      ]
     },
     "execution_count": 9,
     "metadata": {},
     "output_type": "execute_result"
    }
   ],
   "source": [
    "np.vstack((ate_s_lb, ate_s, ate_s_ub))"
   ]
  },
  {
   "cell_type": "markdown",
   "metadata": {},
   "source": [
    "### CATE"
   ]
  },
  {
   "cell_type": "code",
   "execution_count": 10,
   "metadata": {
    "ExecuteTime": {
     "end_time": "2019-08-28T16:55:34.539970Z",
     "start_time": "2019-08-28T16:55:33.520045Z"
    }
   },
   "outputs": [
    {
     "name": "stderr",
     "output_type": "stream",
     "text": [
      "INFO:causalml:Error metrics for group treatment_a\n",
      "INFO:causalml:    RMSE   (Control): 1.1930\n",
      "INFO:causalml:    RMSE (Treatment): 1.0938\n",
      "INFO:causalml:   sMAPE   (Control): 0.6049\n",
      "INFO:causalml:   sMAPE (Treatment): 0.7908\n",
      "INFO:causalml:    Gini   (Control): 0.4568\n",
      "INFO:causalml:    Gini (Treatment): 0.4024\n"
     ]
    }
   ],
   "source": [
    "learner_s = BaseSRegressor(XGBRegressor(), control_name='control')\n",
    "cate_s = learner_s.fit_predict(X=X, treatment=treatment, y=y, return_ci=False)"
   ]
  },
  {
   "cell_type": "code",
   "execution_count": 11,
   "metadata": {
    "ExecuteTime": {
     "end_time": "2019-08-28T16:55:34.570117Z",
     "start_time": "2019-08-28T16:55:34.542094Z"
    }
   },
   "outputs": [
    {
     "data": {
      "text/plain": [
       "array([[0.47578371],\n",
       "       [0.83733249],\n",
       "       [0.38391006],\n",
       "       ...,\n",
       "       [0.47776198],\n",
       "       [0.80010033],\n",
       "       [0.80671191]])"
      ]
     },
     "execution_count": 11,
     "metadata": {},
     "output_type": "execute_result"
    }
   ],
   "source": [
    "cate_s"
   ]
  },
  {
   "cell_type": "markdown",
   "metadata": {},
   "source": [
    "### CATE w/ Confidence Intervals"
   ]
  },
  {
   "cell_type": "code",
   "execution_count": 12,
   "metadata": {
    "ExecuteTime": {
     "end_time": "2019-08-28T16:56:25.845564Z",
     "start_time": "2019-08-28T16:55:34.572058Z"
    }
   },
   "outputs": [
    {
     "name": "stderr",
     "output_type": "stream",
     "text": [
      "INFO:causalml:Error metrics for group treatment_a\n",
      "INFO:causalml:    RMSE   (Control): 1.1930\n",
      "INFO:causalml:    RMSE (Treatment): 1.0938\n",
      "INFO:causalml:   sMAPE   (Control): 0.6049\n",
      "INFO:causalml:   sMAPE (Treatment): 0.7908\n",
      "INFO:causalml:    Gini   (Control): 0.4568\n",
      "INFO:causalml:    Gini (Treatment): 0.4024\n",
      "INFO:causalml:11/100 bootstraps completed. (5s lapsed)\n",
      "INFO:causalml:21/100 bootstraps completed. (10s lapsed)\n",
      "INFO:causalml:31/100 bootstraps completed. (15s lapsed)\n",
      "INFO:causalml:41/100 bootstraps completed. (20s lapsed)\n",
      "INFO:causalml:51/100 bootstraps completed. (25s lapsed)\n",
      "INFO:causalml:61/100 bootstraps completed. (30s lapsed)\n",
      "INFO:causalml:71/100 bootstraps completed. (35s lapsed)\n",
      "INFO:causalml:81/100 bootstraps completed. (40s lapsed)\n",
      "INFO:causalml:91/100 bootstraps completed. (45s lapsed)\n"
     ]
    }
   ],
   "source": [
    "alpha = 0.05\n",
    "learner_s = BaseSRegressor(XGBRegressor(), ate_alpha=alpha, control_name='control')\n",
    "cate_s, cate_s_lb, cate_s_ub = learner_s.fit_predict(X=X, treatment=treatment, y=y, return_ci=True,\n",
    "                               n_bootstraps=100, bootstrap_size=5000)"
   ]
  },
  {
   "cell_type": "code",
   "execution_count": 13,
   "metadata": {
    "ExecuteTime": {
     "end_time": "2019-08-28T16:56:25.868001Z",
     "start_time": "2019-08-28T16:56:25.847611Z"
    }
   },
   "outputs": [
    {
     "data": {
      "text/plain": [
       "array([[0.47578371],\n",
       "       [0.83733249],\n",
       "       [0.38391006],\n",
       "       ...,\n",
       "       [0.47776198],\n",
       "       [0.80010033],\n",
       "       [0.80671191]])"
      ]
     },
     "execution_count": 13,
     "metadata": {},
     "output_type": "execute_result"
    }
   ],
   "source": [
    "cate_s"
   ]
  },
  {
   "cell_type": "code",
   "execution_count": 14,
   "metadata": {
    "ExecuteTime": {
     "end_time": "2019-08-28T16:56:25.887191Z",
     "start_time": "2019-08-28T16:56:25.869636Z"
    }
   },
   "outputs": [
    {
     "data": {
      "text/plain": [
       "array([[0.25054919],\n",
       "       [0.56307748],\n",
       "       [0.21265524],\n",
       "       ...,\n",
       "       [0.25970175],\n",
       "       [0.60951762],\n",
       "       [0.56977587]])"
      ]
     },
     "execution_count": 14,
     "metadata": {},
     "output_type": "execute_result"
    }
   ],
   "source": [
    "cate_s_lb"
   ]
  },
  {
   "cell_type": "code",
   "execution_count": 15,
   "metadata": {
    "ExecuteTime": {
     "end_time": "2019-08-28T16:56:25.906564Z",
     "start_time": "2019-08-28T16:56:25.889065Z"
    }
   },
   "outputs": [
    {
     "data": {
      "text/plain": [
       "array([[0.73046933],\n",
       "       [0.99335149],\n",
       "       [0.66894425],\n",
       "       ...,\n",
       "       [0.66676621],\n",
       "       [1.11278922],\n",
       "       [0.97594565]])"
      ]
     },
     "execution_count": 15,
     "metadata": {},
     "output_type": "execute_result"
    }
   ],
   "source": [
    "cate_s_ub"
   ]
  },
  {
   "cell_type": "markdown",
   "metadata": {},
   "source": [
    "## T-Learner"
   ]
  },
  {
   "cell_type": "markdown",
   "metadata": {},
   "source": [
    "### ATE w/ Confidence Intervals"
   ]
  },
  {
   "cell_type": "code",
   "execution_count": 16,
   "metadata": {
    "ExecuteTime": {
     "end_time": "2019-08-28T16:56:26.863843Z",
     "start_time": "2019-08-28T16:56:25.908449Z"
    }
   },
   "outputs": [
    {
     "name": "stderr",
     "output_type": "stream",
     "text": [
      "INFO:causalml:Error metrics for group treatment_a\n",
      "INFO:causalml:    RMSE   (Control): 0.9302\n",
      "INFO:causalml:    RMSE (Treatment): 0.9360\n",
      "INFO:causalml:   sMAPE   (Control): 0.7880\n",
      "INFO:causalml:   sMAPE (Treatment): 0.4533\n",
      "INFO:causalml:    Gini   (Control): 0.4904\n",
      "INFO:causalml:    Gini (Treatment): 0.5341\n"
     ]
    }
   ],
   "source": [
    "learner_t = BaseTRegressor(XGBRegressor(), control_name='control')\n",
    "ate_t, ate_t_lb, ate_t_ub = learner_t.estimate_ate(X=X, treatment=treatment, y=y)"
   ]
  },
  {
   "cell_type": "code",
   "execution_count": 17,
   "metadata": {
    "ExecuteTime": {
     "end_time": "2019-08-28T16:56:26.887152Z",
     "start_time": "2019-08-28T16:56:26.866284Z"
    }
   },
   "outputs": [
    {
     "data": {
      "text/plain": [
       "array([[0.57599011],\n",
       "       [0.61318656],\n",
       "       [0.65038301]])"
      ]
     },
     "execution_count": 17,
     "metadata": {},
     "output_type": "execute_result"
    }
   ],
   "source": [
    "np.vstack((ate_t_lb, ate_t, ate_t_ub))"
   ]
  },
  {
   "cell_type": "markdown",
   "metadata": {},
   "source": [
    "### CATE"
   ]
  },
  {
   "cell_type": "code",
   "execution_count": 18,
   "metadata": {
    "ExecuteTime": {
     "end_time": "2019-08-28T16:56:27.803993Z",
     "start_time": "2019-08-28T16:56:26.888998Z"
    }
   },
   "outputs": [
    {
     "name": "stderr",
     "output_type": "stream",
     "text": [
      "INFO:causalml:Error metrics for group treatment_a\n",
      "INFO:causalml:    RMSE   (Control): 0.9302\n",
      "INFO:causalml:    RMSE (Treatment): 0.9360\n",
      "INFO:causalml:   sMAPE   (Control): 0.7880\n",
      "INFO:causalml:   sMAPE (Treatment): 0.4533\n",
      "INFO:causalml:    Gini   (Control): 0.4904\n",
      "INFO:causalml:    Gini (Treatment): 0.5341\n"
     ]
    }
   ],
   "source": [
    "learner_t = BaseTRegressor(XGBRegressor(), control_name='control')\n",
    "cate_t = learner_t.fit_predict(X=X, treatment=treatment, y=y)"
   ]
  },
  {
   "cell_type": "code",
   "execution_count": 19,
   "metadata": {
    "ExecuteTime": {
     "end_time": "2019-08-28T16:56:27.828741Z",
     "start_time": "2019-08-28T16:56:27.806224Z"
    }
   },
   "outputs": [
    {
     "data": {
      "text/plain": [
       "array([[0.85184968],\n",
       "       [0.97164452],\n",
       "       [0.38533342],\n",
       "       ...,\n",
       "       [0.39375031],\n",
       "       [1.43344426],\n",
       "       [1.27798486]])"
      ]
     },
     "execution_count": 19,
     "metadata": {},
     "output_type": "execute_result"
    }
   ],
   "source": [
    "cate_t"
   ]
  },
  {
   "cell_type": "markdown",
   "metadata": {},
   "source": [
    "### CATE w/ Confidence Intervals"
   ]
  },
  {
   "cell_type": "code",
   "execution_count": 20,
   "metadata": {
    "ExecuteTime": {
     "end_time": "2019-08-28T16:57:17.665456Z",
     "start_time": "2019-08-28T16:56:27.830995Z"
    }
   },
   "outputs": [
    {
     "name": "stderr",
     "output_type": "stream",
     "text": [
      "INFO:causalml:Error metrics for group treatment_a\n",
      "INFO:causalml:    RMSE   (Control): 0.9302\n",
      "INFO:causalml:    RMSE (Treatment): 0.9360\n",
      "INFO:causalml:   sMAPE   (Control): 0.7880\n",
      "INFO:causalml:   sMAPE (Treatment): 0.4533\n",
      "INFO:causalml:    Gini   (Control): 0.4904\n",
      "INFO:causalml:    Gini (Treatment): 0.5341\n",
      "INFO:causalml:10/100 bootstraps completed. (5s lapsed)\n",
      "INFO:causalml:20/100 bootstraps completed. (10s lapsed)\n",
      "INFO:causalml:30/100 bootstraps completed. (15s lapsed)\n",
      "INFO:causalml:40/100 bootstraps completed. (20s lapsed)\n",
      "INFO:causalml:50/100 bootstraps completed. (25s lapsed)\n",
      "INFO:causalml:60/100 bootstraps completed. (29s lapsed)\n",
      "INFO:causalml:70/100 bootstraps completed. (34s lapsed)\n",
      "INFO:causalml:80/100 bootstraps completed. (39s lapsed)\n",
      "INFO:causalml:90/100 bootstraps completed. (44s lapsed)\n"
     ]
    }
   ],
   "source": [
    "learner_t = BaseTRegressor(XGBRegressor(), control_name='control')\n",
    "cate_t, cate_t_lb, cate_t_ub = learner_t.fit_predict(X=X, treatment=treatment, y=y, return_ci=True, n_bootstraps=100,\n",
    "                                                    bootstrap_size=5000)"
   ]
  },
  {
   "cell_type": "code",
   "execution_count": 21,
   "metadata": {
    "ExecuteTime": {
     "end_time": "2019-08-28T16:57:17.690908Z",
     "start_time": "2019-08-28T16:57:17.667762Z"
    }
   },
   "outputs": [
    {
     "data": {
      "text/plain": [
       "array([[0.85184968],\n",
       "       [0.97164452],\n",
       "       [0.38533342],\n",
       "       ...,\n",
       "       [0.39375031],\n",
       "       [1.43344426],\n",
       "       [1.27798486]])"
      ]
     },
     "execution_count": 21,
     "metadata": {},
     "output_type": "execute_result"
    }
   ],
   "source": [
    "cate_t"
   ]
  },
  {
   "cell_type": "code",
   "execution_count": 22,
   "metadata": {
    "ExecuteTime": {
     "end_time": "2019-08-28T16:57:17.712341Z",
     "start_time": "2019-08-28T16:57:17.692757Z"
    }
   },
   "outputs": [
    {
     "data": {
      "text/plain": [
       "array([[-0.00668564],\n",
       "       [ 0.63984069],\n",
       "       [-0.03464244],\n",
       "       ...,\n",
       "       [-0.16005479],\n",
       "       [ 0.34001098],\n",
       "       [ 0.68983229]])"
      ]
     },
     "execution_count": 22,
     "metadata": {},
     "output_type": "execute_result"
    }
   ],
   "source": [
    "cate_t_lb"
   ]
  },
  {
   "cell_type": "code",
   "execution_count": 23,
   "metadata": {
    "ExecuteTime": {
     "end_time": "2019-08-28T16:57:17.733083Z",
     "start_time": "2019-08-28T16:57:17.714247Z"
    }
   },
   "outputs": [
    {
     "data": {
      "text/plain": [
       "array([[1.68203196],\n",
       "       [1.26681087],\n",
       "       [0.94834577],\n",
       "       ...,\n",
       "       [0.67092188],\n",
       "       [2.04236056],\n",
       "       [1.70261656]])"
      ]
     },
     "execution_count": 23,
     "metadata": {},
     "output_type": "execute_result"
    }
   ],
   "source": [
    "cate_t_ub"
   ]
  },
  {
   "cell_type": "markdown",
   "metadata": {},
   "source": [
    "## X-Learner"
   ]
  },
  {
   "cell_type": "markdown",
   "metadata": {},
   "source": [
    "### ATE w/ Confidence Intervals"
   ]
  },
  {
   "cell_type": "code",
   "execution_count": 24,
   "metadata": {
    "ExecuteTime": {
     "end_time": "2019-08-28T16:57:17.923449Z",
     "start_time": "2019-08-28T16:57:17.737273Z"
    }
   },
   "outputs": [
    {
     "ename": "NameError",
     "evalue": "name 'learner_x' is not defined",
     "output_type": "error",
     "traceback": [
      "\u001b[0;31m---------------------------------------------------------------------------\u001b[0m",
      "\u001b[0;31mNameError\u001b[0m                                 Traceback (most recent call last)",
      "\u001b[0;32m<ipython-input-24-e3f913780fc2>\u001b[0m in \u001b[0;36m<module>\u001b[0;34m\u001b[0m\n\u001b[0;32m----> 1\u001b[0;31m \u001b[0mlearner_x\u001b[0m\u001b[0;34m.\u001b[0m\u001b[0mt_groups\u001b[0m\u001b[0;34m\u001b[0m\u001b[0;34m\u001b[0m\u001b[0m\n\u001b[0m",
      "\u001b[0;31mNameError\u001b[0m: name 'learner_x' is not defined"
     ]
    }
   ],
   "source": [
    "learner_x.t_groups"
   ]
  },
  {
   "cell_type": "code",
   "execution_count": 25,
   "metadata": {
    "ExecuteTime": {
     "end_time": "2019-08-28T16:58:04.207807Z",
     "start_time": "2019-08-28T16:58:02.364892Z"
    }
   },
   "outputs": [
    {
     "name": "stderr",
     "output_type": "stream",
     "text": [
      "INFO:causalml:Error metrics for group treatment_a\n",
      "INFO:causalml:    RMSE   (Control): 0.9302\n",
      "INFO:causalml:    RMSE (Treatment): 0.9360\n",
      "INFO:causalml:   sMAPE   (Control): 0.7880\n",
      "INFO:causalml:   sMAPE (Treatment): 0.4533\n",
      "INFO:causalml:    Gini   (Control): 0.4904\n",
      "INFO:causalml:    Gini (Treatment): 0.5341\n"
     ]
    }
   ],
   "source": [
    "learner_x = BaseXRegressor(XGBRegressor(), control_name='control')\n",
    "ate_x, ate_x_lb, ate_x_ub = learner_x.estimate_ate(X=X, p=e, treatment=treatment, y=y)"
   ]
  },
  {
   "cell_type": "code",
   "execution_count": 26,
   "metadata": {
    "ExecuteTime": {
     "end_time": "2019-08-28T16:58:04.232412Z",
     "start_time": "2019-08-28T16:58:04.210119Z"
    }
   },
   "outputs": [
    {
     "data": {
      "text/plain": [
       "array([[0.52829111],\n",
       "       [0.56523823],\n",
       "       [0.60218536]])"
      ]
     },
     "execution_count": 26,
     "metadata": {},
     "output_type": "execute_result"
    }
   ],
   "source": [
    "np.vstack((ate_x_lb, ate_x, ate_x_ub))"
   ]
  },
  {
   "cell_type": "markdown",
   "metadata": {},
   "source": [
    "### CATE"
   ]
  },
  {
   "cell_type": "markdown",
   "metadata": {},
   "source": [
    "### CATE w/ Confidence Intervals"
   ]
  },
  {
   "cell_type": "code",
   "execution_count": 27,
   "metadata": {
    "ExecuteTime": {
     "end_time": "2019-08-28T16:59:42.063618Z",
     "start_time": "2019-08-28T16:58:04.234446Z"
    }
   },
   "outputs": [
    {
     "name": "stderr",
     "output_type": "stream",
     "text": [
      "INFO:causalml:Error metrics for group treatment_a\n",
      "INFO:causalml:    RMSE   (Control): 0.9302\n",
      "INFO:causalml:    RMSE (Treatment): 0.9360\n",
      "INFO:causalml:   sMAPE   (Control): 0.7880\n",
      "INFO:causalml:   sMAPE (Treatment): 0.4533\n",
      "INFO:causalml:    Gini   (Control): 0.4904\n",
      "INFO:causalml:    Gini (Treatment): 0.5341\n",
      "INFO:causalml:10/100 bootstraps completed. (10s lapsed)\n",
      "INFO:causalml:20/100 bootstraps completed. (20s lapsed)\n",
      "INFO:causalml:30/100 bootstraps completed. (29s lapsed)\n",
      "INFO:causalml:40/100 bootstraps completed. (39s lapsed)\n",
      "INFO:causalml:50/100 bootstraps completed. (49s lapsed)\n",
      "INFO:causalml:60/100 bootstraps completed. (58s lapsed)\n",
      "INFO:causalml:70/100 bootstraps completed. (68s lapsed)\n",
      "INFO:causalml:80/100 bootstraps completed. (78s lapsed)\n",
      "INFO:causalml:90/100 bootstraps completed. (87s lapsed)\n"
     ]
    }
   ],
   "source": [
    "learner_x = BaseXRegressor(XGBRegressor(), control_name='control')\n",
    "cate_x, cate_x_lb, cate_x_ub = learner_x.fit_predict(X=X, p=e, treatment=treatment, y=y, return_ci=True,\n",
    "                                                     n_bootstraps=100, bootstrap_size=5000)"
   ]
  },
  {
   "cell_type": "code",
   "execution_count": 28,
   "metadata": {
    "ExecuteTime": {
     "end_time": "2019-08-28T16:59:42.087796Z",
     "start_time": "2019-08-28T16:59:42.066015Z"
    }
   },
   "outputs": [
    {
     "data": {
      "text/plain": [
       "array([[0.39778277],\n",
       "       [0.72118205],\n",
       "       [0.35821748],\n",
       "       ...,\n",
       "       [0.26484549],\n",
       "       [1.54219508],\n",
       "       [0.72743636]])"
      ]
     },
     "execution_count": 28,
     "metadata": {},
     "output_type": "execute_result"
    }
   ],
   "source": [
    "cate_x"
   ]
  },
  {
   "cell_type": "code",
   "execution_count": 29,
   "metadata": {
    "ExecuteTime": {
     "end_time": "2019-08-28T16:59:42.108188Z",
     "start_time": "2019-08-28T16:59:42.089793Z"
    }
   },
   "outputs": [
    {
     "data": {
      "text/plain": [
       "array([[ 0.02330786],\n",
       "       [ 0.38030641],\n",
       "       [ 0.03930511],\n",
       "       ...,\n",
       "       [-0.01951587],\n",
       "       [ 0.86252127],\n",
       "       [ 0.3520228 ]])"
      ]
     },
     "execution_count": 29,
     "metadata": {},
     "output_type": "execute_result"
    }
   ],
   "source": [
    "cate_x_lb"
   ]
  },
  {
   "cell_type": "code",
   "execution_count": 30,
   "metadata": {
    "ExecuteTime": {
     "end_time": "2019-08-28T16:59:42.127190Z",
     "start_time": "2019-08-28T16:59:42.109624Z"
    }
   },
   "outputs": [
    {
     "data": {
      "text/plain": [
       "array([[1.16330491],\n",
       "       [0.95974109],\n",
       "       [0.67299869],\n",
       "       ...,\n",
       "       [0.68821538],\n",
       "       [2.22851447],\n",
       "       [1.26964058]])"
      ]
     },
     "execution_count": 30,
     "metadata": {},
     "output_type": "execute_result"
    }
   ],
   "source": [
    "cate_x_ub"
   ]
  },
  {
   "cell_type": "markdown",
   "metadata": {},
   "source": [
    "## R-Learner"
   ]
  },
  {
   "cell_type": "markdown",
   "metadata": {},
   "source": [
    "### ATE w/ Confidence Intervals"
   ]
  },
  {
   "cell_type": "code",
   "execution_count": 31,
   "metadata": {
    "ExecuteTime": {
     "end_time": "2019-08-28T16:59:46.537910Z",
     "start_time": "2019-08-28T16:59:42.128761Z"
    }
   },
   "outputs": [
    {
     "name": "stderr",
     "output_type": "stream",
     "text": [
      "INFO:causalml:generating out-of-fold CV outcome estimates\n",
      "INFO:causalml:training the treatment effect model for treatment_a with R-loss\n"
     ]
    }
   ],
   "source": [
    "learner_r = BaseRRegressor(XGBRegressor(), control_name='control')\n",
    "ate_r, ate_r_lb, ate_r_ub = learner_r.estimate_ate(X=X, p=e, treatment=treatment, y=y)"
   ]
  },
  {
   "cell_type": "code",
   "execution_count": 32,
   "metadata": {
    "ExecuteTime": {
     "end_time": "2019-08-28T16:59:46.566404Z",
     "start_time": "2019-08-28T16:59:46.541026Z"
    }
   },
   "outputs": [
    {
     "data": {
      "text/plain": [
       "array([[0.53253662],\n",
       "       [0.53293695],\n",
       "       [0.53333729]])"
      ]
     },
     "execution_count": 32,
     "metadata": {},
     "output_type": "execute_result"
    }
   ],
   "source": [
    "np.vstack((ate_r_lb, ate_r, ate_r_ub))"
   ]
  },
  {
   "cell_type": "markdown",
   "metadata": {},
   "source": [
    "### CATE"
   ]
  },
  {
   "cell_type": "code",
   "execution_count": 33,
   "metadata": {
    "ExecuteTime": {
     "end_time": "2019-08-28T16:59:50.674433Z",
     "start_time": "2019-08-28T16:59:46.569040Z"
    }
   },
   "outputs": [
    {
     "name": "stderr",
     "output_type": "stream",
     "text": [
      "INFO:causalml:generating out-of-fold CV outcome estimates\n",
      "INFO:causalml:training the treatment effect model for treatment_a with R-loss\n"
     ]
    }
   ],
   "source": [
    "learner_r = BaseRRegressor(XGBRegressor(), control_name='control')\n",
    "cate_r = learner_r.fit_predict(X=X, p=e, treatment=treatment, y=y)"
   ]
  },
  {
   "cell_type": "code",
   "execution_count": 34,
   "metadata": {
    "ExecuteTime": {
     "end_time": "2019-08-28T16:59:50.699406Z",
     "start_time": "2019-08-28T16:59:50.676634Z"
    }
   },
   "outputs": [
    {
     "data": {
      "text/plain": [
       "array([[0.68966258],\n",
       "       [0.73078507],\n",
       "       [0.43858752],\n",
       "       ...,\n",
       "       [0.18278325],\n",
       "       [1.39403331],\n",
       "       [0.74023998]])"
      ]
     },
     "execution_count": 34,
     "metadata": {},
     "output_type": "execute_result"
    }
   ],
   "source": [
    "cate_r"
   ]
  },
  {
   "cell_type": "markdown",
   "metadata": {},
   "source": [
    "### CATE w/ Confidence Intervals"
   ]
  },
  {
   "cell_type": "code",
   "execution_count": 35,
   "metadata": {
    "ExecuteTime": {
     "end_time": "2019-08-28T17:02:05.897817Z",
     "start_time": "2019-08-28T16:59:50.701158Z"
    }
   },
   "outputs": [
    {
     "name": "stderr",
     "output_type": "stream",
     "text": [
      "INFO:causalml:generating out-of-fold CV outcome estimates\n",
      "INFO:causalml:training the treatment effect model for treatment_a with R-loss\n",
      "INFO:causalml:10/100 bootstraps completed. (14s lapsed)\n",
      "INFO:causalml:20/100 bootstraps completed. (28s lapsed)\n",
      "INFO:causalml:30/100 bootstraps completed. (42s lapsed)\n",
      "INFO:causalml:40/100 bootstraps completed. (55s lapsed)\n",
      "INFO:causalml:50/100 bootstraps completed. (68s lapsed)\n",
      "INFO:causalml:60/100 bootstraps completed. (81s lapsed)\n",
      "INFO:causalml:70/100 bootstraps completed. (93s lapsed)\n",
      "INFO:causalml:80/100 bootstraps completed. (106s lapsed)\n",
      "INFO:causalml:90/100 bootstraps completed. (119s lapsed)\n"
     ]
    }
   ],
   "source": [
    "learner_r = BaseRRegressor(XGBRegressor(), control_name='control')\n",
    "cate_r, cate_r_lb, cate_r_ub = learner_r.fit_predict(X=X, p=e, treatment=treatment, y=y, return_ci=True,\n",
    "                                                     n_bootstraps=100, bootstrap_size=3000)"
   ]
  },
  {
   "cell_type": "code",
   "execution_count": 36,
   "metadata": {
    "ExecuteTime": {
     "end_time": "2019-08-28T17:02:05.922414Z",
     "start_time": "2019-08-28T17:02:05.899976Z"
    }
   },
   "outputs": [
    {
     "data": {
      "text/plain": [
       "array([[0.74433327],\n",
       "       [0.74781644],\n",
       "       [0.47970974],\n",
       "       ...,\n",
       "       [0.21244851],\n",
       "       [1.22534442],\n",
       "       [0.80403864]])"
      ]
     },
     "execution_count": 36,
     "metadata": {},
     "output_type": "execute_result"
    }
   ],
   "source": [
    "cate_r"
   ]
  },
  {
   "cell_type": "code",
   "execution_count": 37,
   "metadata": {
    "ExecuteTime": {
     "end_time": "2019-08-28T17:02:05.945435Z",
     "start_time": "2019-08-28T17:02:05.924441Z"
    }
   },
   "outputs": [
    {
     "data": {
      "text/plain": [
       "array([[-0.32421049],\n",
       "       [ 0.13208617],\n",
       "       [-0.23789642],\n",
       "       ...,\n",
       "       [-0.43033188],\n",
       "       [-0.03593009],\n",
       "       [ 0.1587713 ]])"
      ]
     },
     "execution_count": 37,
     "metadata": {},
     "output_type": "execute_result"
    }
   ],
   "source": [
    "cate_r_lb"
   ]
  },
  {
   "cell_type": "code",
   "execution_count": 38,
   "metadata": {
    "ExecuteTime": {
     "end_time": "2019-08-28T17:02:05.969516Z",
     "start_time": "2019-08-28T17:02:05.947227Z"
    }
   },
   "outputs": [
    {
     "data": {
      "text/plain": [
       "array([[1.8828503 ],\n",
       "       [1.26567189],\n",
       "       [1.13657081],\n",
       "       ...,\n",
       "       [0.72818757],\n",
       "       [2.33916125],\n",
       "       [1.8088673 ]])"
      ]
     },
     "execution_count": 38,
     "metadata": {},
     "output_type": "execute_result"
    }
   ],
   "source": [
    "cate_r_ub"
   ]
  },
  {
   "cell_type": "markdown",
   "metadata": {},
   "source": [
    "# Multiple Treatment Case"
   ]
  },
  {
   "cell_type": "markdown",
   "metadata": {},
   "source": [
    "### Generate synthetic data\n",
    "Note: we randomize the assignment of treatment flag AFTER the synthetic data generation process, so it doesn't make sense to measure accuracy metrics here. Next steps would be to include multi-treatment in the DGP itself."
   ]
  },
  {
   "cell_type": "code",
   "execution_count": 39,
   "metadata": {
    "ExecuteTime": {
     "end_time": "2019-08-28T17:02:06.008811Z",
     "start_time": "2019-08-28T17:02:05.971453Z"
    }
   },
   "outputs": [],
   "source": [
    "# Generate synthetic data using mode 1\n",
    "y, X, treatment, tau, b, e = synthetic_data(mode=1, n=10000, p=8, sigma=1.0)\n",
    "\n",
    "treatment = np.array([('treatment_a' if np.random.random() > 0.2 else 'treatment_b') \n",
    "                      if val==1 else 'control' for val in treatment])\n",
    "\n",
    "e = {group: e for group in np.unique(treatment)}"
   ]
  },
  {
   "cell_type": "code",
   "execution_count": 40,
   "metadata": {
    "ExecuteTime": {
     "end_time": "2019-08-28T17:02:06.036881Z",
     "start_time": "2019-08-28T17:02:06.010687Z"
    }
   },
   "outputs": [
    {
     "data": {
      "text/plain": [
       "control        4791\n",
       "treatment_a    4195\n",
       "treatment_b    1014\n",
       "dtype: int64"
      ]
     },
     "execution_count": 40,
     "metadata": {},
     "output_type": "execute_result"
    }
   ],
   "source": [
    "pd.Series(treatment).value_counts()"
   ]
  },
  {
   "cell_type": "markdown",
   "metadata": {},
   "source": [
    "## S-Learner"
   ]
  },
  {
   "cell_type": "markdown",
   "metadata": {},
   "source": [
    "### ATE"
   ]
  },
  {
   "cell_type": "code",
   "execution_count": 41,
   "metadata": {
    "ExecuteTime": {
     "end_time": "2019-08-28T17:02:07.887885Z",
     "start_time": "2019-08-28T17:02:06.038547Z"
    }
   },
   "outputs": [
    {
     "name": "stderr",
     "output_type": "stream",
     "text": [
      "INFO:causalml:Error metrics for group treatment_a\n",
      "INFO:causalml:    RMSE   (Control): 1.0589\n",
      "INFO:causalml:    RMSE (Treatment): 1.0821\n",
      "INFO:causalml:   sMAPE   (Control): 0.5291\n",
      "INFO:causalml:   sMAPE (Treatment): 0.7627\n",
      "INFO:causalml:    Gini   (Control): 0.4638\n",
      "INFO:causalml:    Gini (Treatment): 0.4939\n",
      "INFO:causalml:Error metrics for group treatment_b\n",
      "INFO:causalml:    RMSE   (Control): 1.0490\n",
      "INFO:causalml:    RMSE (Treatment): 1.0245\n",
      "INFO:causalml:   sMAPE   (Control): 0.5241\n",
      "INFO:causalml:   sMAPE (Treatment): 0.6571\n",
      "INFO:causalml:    Gini   (Control): 0.4539\n",
      "INFO:causalml:    Gini (Treatment): 0.5434\n"
     ]
    }
   ],
   "source": [
    "learner_s = BaseSRegressor(XGBRegressor(), control_name='control')\n",
    "ate_s = learner_s.estimate_ate(X=X, treatment=treatment, y=y, return_ci=False)"
   ]
  },
  {
   "cell_type": "code",
   "execution_count": 42,
   "metadata": {
    "ExecuteTime": {
     "end_time": "2019-08-28T17:02:07.911733Z",
     "start_time": "2019-08-28T17:02:07.889943Z"
    }
   },
   "outputs": [
    {
     "data": {
      "text/plain": [
       "array([0.40026052, 0.19945888])"
      ]
     },
     "execution_count": 42,
     "metadata": {},
     "output_type": "execute_result"
    }
   ],
   "source": [
    "ate_s"
   ]
  },
  {
   "cell_type": "code",
   "execution_count": 43,
   "metadata": {
    "ExecuteTime": {
     "end_time": "2019-08-28T17:02:07.933103Z",
     "start_time": "2019-08-28T17:02:07.913665Z"
    }
   },
   "outputs": [
    {
     "data": {
      "text/plain": [
       "{'treatment_a': 0, 'treatment_b': 1}"
      ]
     },
     "execution_count": 43,
     "metadata": {},
     "output_type": "execute_result"
    }
   ],
   "source": [
    "learner_s._classes"
   ]
  },
  {
   "cell_type": "markdown",
   "metadata": {},
   "source": [
    "### ATE w/ Confidence Intervals\n",
    "Note: S-Learner is the only learner that uses bootstrapping to get confidence intervals."
   ]
  },
  {
   "cell_type": "code",
   "execution_count": 44,
   "metadata": {
    "ExecuteTime": {
     "end_time": "2019-08-28T17:03:46.984821Z",
     "start_time": "2019-08-28T17:02:07.934951Z"
    }
   },
   "outputs": [
    {
     "name": "stderr",
     "output_type": "stream",
     "text": [
      "INFO:causalml:Error metrics for group treatment_a\n",
      "INFO:causalml:    RMSE   (Control): 1.0589\n",
      "INFO:causalml:    RMSE (Treatment): 1.0821\n",
      "INFO:causalml:   sMAPE   (Control): 0.5291\n",
      "INFO:causalml:   sMAPE (Treatment): 0.7627\n",
      "INFO:causalml:    Gini   (Control): 0.4638\n",
      "INFO:causalml:    Gini (Treatment): 0.4939\n",
      "INFO:causalml:Error metrics for group treatment_b\n",
      "INFO:causalml:    RMSE   (Control): 1.0490\n",
      "INFO:causalml:    RMSE (Treatment): 1.0245\n",
      "INFO:causalml:   sMAPE   (Control): 0.5241\n",
      "INFO:causalml:   sMAPE (Treatment): 0.6571\n",
      "INFO:causalml:    Gini   (Control): 0.4539\n",
      "INFO:causalml:    Gini (Treatment): 0.5434\n",
      "INFO:causalml:11/100 bootstraps completed. (10s lapsed)\n",
      "INFO:causalml:21/100 bootstraps completed. (20s lapsed)\n",
      "INFO:causalml:31/100 bootstraps completed. (30s lapsed)\n",
      "INFO:causalml:41/100 bootstraps completed. (39s lapsed)\n",
      "INFO:causalml:51/100 bootstraps completed. (49s lapsed)\n",
      "INFO:causalml:61/100 bootstraps completed. (59s lapsed)\n",
      "INFO:causalml:71/100 bootstraps completed. (68s lapsed)\n",
      "INFO:causalml:81/100 bootstraps completed. (78s lapsed)\n",
      "INFO:causalml:91/100 bootstraps completed. (88s lapsed)\n"
     ]
    }
   ],
   "source": [
    "alpha = 0.05\n",
    "learner_s = BaseSRegressor(XGBRegressor(), ate_alpha=alpha, control_name='control')\n",
    "ate_s, ate_s_lb, ate_s_ub = learner_s.estimate_ate(X=X, treatment=treatment, y=y, return_ci=True,\n",
    "                               n_bootstraps=100, bootstrap_size=5000)"
   ]
  },
  {
   "cell_type": "code",
   "execution_count": 45,
   "metadata": {
    "ExecuteTime": {
     "end_time": "2019-08-28T17:03:47.015008Z",
     "start_time": "2019-08-28T17:03:46.987581Z"
    }
   },
   "outputs": [
    {
     "data": {
      "text/plain": [
       "array([[ 0.16878264, -0.02035488],\n",
       "       [ 0.40026052,  0.19945888],\n",
       "       [ 0.6049374 ,  0.4339356 ]])"
      ]
     },
     "execution_count": 45,
     "metadata": {},
     "output_type": "execute_result"
    }
   ],
   "source": [
    "np.vstack((ate_s_lb, ate_s, ate_s_ub))"
   ]
  },
  {
   "cell_type": "markdown",
   "metadata": {},
   "source": [
    "### CATE"
   ]
  },
  {
   "cell_type": "code",
   "execution_count": 46,
   "metadata": {
    "ExecuteTime": {
     "end_time": "2019-08-28T17:03:48.825975Z",
     "start_time": "2019-08-28T17:03:47.017963Z"
    }
   },
   "outputs": [
    {
     "name": "stderr",
     "output_type": "stream",
     "text": [
      "INFO:causalml:Error metrics for group treatment_a\n",
      "INFO:causalml:    RMSE   (Control): 1.0589\n",
      "INFO:causalml:    RMSE (Treatment): 1.0821\n",
      "INFO:causalml:   sMAPE   (Control): 0.5291\n",
      "INFO:causalml:   sMAPE (Treatment): 0.7627\n",
      "INFO:causalml:    Gini   (Control): 0.4638\n",
      "INFO:causalml:    Gini (Treatment): 0.4939\n",
      "INFO:causalml:Error metrics for group treatment_b\n",
      "INFO:causalml:    RMSE   (Control): 1.0490\n",
      "INFO:causalml:    RMSE (Treatment): 1.0245\n",
      "INFO:causalml:   sMAPE   (Control): 0.5241\n",
      "INFO:causalml:   sMAPE (Treatment): 0.6571\n",
      "INFO:causalml:    Gini   (Control): 0.4539\n",
      "INFO:causalml:    Gini (Treatment): 0.5434\n"
     ]
    }
   ],
   "source": [
    "learner_s = BaseSRegressor(XGBRegressor(), control_name='control')\n",
    "cate_s = learner_s.fit_predict(X=X, treatment=treatment, y=y, return_ci=False)"
   ]
  },
  {
   "cell_type": "code",
   "execution_count": 47,
   "metadata": {
    "ExecuteTime": {
     "end_time": "2019-08-28T17:03:48.851825Z",
     "start_time": "2019-08-28T17:03:48.829969Z"
    }
   },
   "outputs": [
    {
     "data": {
      "text/plain": [
       "array([[ 0.40849626,  0.22764063],\n",
       "       [ 0.32321846,  0.07951379],\n",
       "       [ 0.27658069,  0.11914802],\n",
       "       ...,\n",
       "       [ 0.53736389,  0.19888401],\n",
       "       [ 0.46584475,  0.18498182],\n",
       "       [ 0.51777351, -0.13787472]])"
      ]
     },
     "execution_count": 47,
     "metadata": {},
     "output_type": "execute_result"
    }
   ],
   "source": [
    "cate_s"
   ]
  },
  {
   "cell_type": "markdown",
   "metadata": {},
   "source": [
    "### CATE w/ Confidence Intervals"
   ]
  },
  {
   "cell_type": "code",
   "execution_count": 48,
   "metadata": {
    "ExecuteTime": {
     "end_time": "2019-08-28T17:05:29.937192Z",
     "start_time": "2019-08-28T17:03:48.854216Z"
    }
   },
   "outputs": [
    {
     "name": "stderr",
     "output_type": "stream",
     "text": [
      "INFO:causalml:Error metrics for group treatment_a\n",
      "INFO:causalml:    RMSE   (Control): 1.0589\n",
      "INFO:causalml:    RMSE (Treatment): 1.0821\n",
      "INFO:causalml:   sMAPE   (Control): 0.5291\n",
      "INFO:causalml:   sMAPE (Treatment): 0.7627\n",
      "INFO:causalml:    Gini   (Control): 0.4638\n",
      "INFO:causalml:    Gini (Treatment): 0.4939\n",
      "INFO:causalml:Error metrics for group treatment_b\n",
      "INFO:causalml:    RMSE   (Control): 1.0490\n",
      "INFO:causalml:    RMSE (Treatment): 1.0245\n",
      "INFO:causalml:   sMAPE   (Control): 0.5241\n",
      "INFO:causalml:   sMAPE (Treatment): 0.6571\n",
      "INFO:causalml:    Gini   (Control): 0.4539\n",
      "INFO:causalml:    Gini (Treatment): 0.5434\n",
      "INFO:causalml:11/100 bootstraps completed. (10s lapsed)\n",
      "INFO:causalml:21/100 bootstraps completed. (20s lapsed)\n",
      "INFO:causalml:31/100 bootstraps completed. (30s lapsed)\n",
      "INFO:causalml:41/100 bootstraps completed. (40s lapsed)\n",
      "INFO:causalml:51/100 bootstraps completed. (49s lapsed)\n",
      "INFO:causalml:61/100 bootstraps completed. (59s lapsed)\n",
      "INFO:causalml:71/100 bootstraps completed. (69s lapsed)\n",
      "INFO:causalml:81/100 bootstraps completed. (79s lapsed)\n",
      "INFO:causalml:91/100 bootstraps completed. (89s lapsed)\n"
     ]
    }
   ],
   "source": [
    "alpha = 0.05\n",
    "learner_s = BaseSRegressor(XGBRegressor(), ate_alpha=alpha, control_name='control')\n",
    "cate_s, cate_s_lb, cate_s_ub = learner_s.fit_predict(X=X, treatment=treatment, y=y, return_ci=True,\n",
    "                               n_bootstraps=100, bootstrap_size=5000)"
   ]
  },
  {
   "cell_type": "code",
   "execution_count": 49,
   "metadata": {
    "ExecuteTime": {
     "end_time": "2019-08-28T17:05:29.963752Z",
     "start_time": "2019-08-28T17:05:29.939496Z"
    }
   },
   "outputs": [
    {
     "data": {
      "text/plain": [
       "array([[ 0.40849626,  0.22764063],\n",
       "       [ 0.32321846,  0.07951379],\n",
       "       [ 0.27658069,  0.11914802],\n",
       "       ...,\n",
       "       [ 0.53736389,  0.19888401],\n",
       "       [ 0.46584475,  0.18498182],\n",
       "       [ 0.51777351, -0.13787472]])"
      ]
     },
     "execution_count": 49,
     "metadata": {},
     "output_type": "execute_result"
    }
   ],
   "source": [
    "cate_s"
   ]
  },
  {
   "cell_type": "code",
   "execution_count": 50,
   "metadata": {
    "ExecuteTime": {
     "end_time": "2019-08-28T17:05:29.991924Z",
     "start_time": "2019-08-28T17:05:29.966069Z"
    }
   },
   "outputs": [
    {
     "data": {
      "text/plain": [
       "array([[ 0.10050442, -0.06904682],\n",
       "       [ 0.19402468, -0.0149445 ],\n",
       "       [ 0.09609928, -0.11995067],\n",
       "       ...,\n",
       "       [ 0.14240343,  0.03057296],\n",
       "       [ 0.29008278,  0.01383644],\n",
       "       [ 0.22229182, -0.44374911]])"
      ]
     },
     "execution_count": 50,
     "metadata": {},
     "output_type": "execute_result"
    }
   ],
   "source": [
    "cate_s_lb"
   ]
  },
  {
   "cell_type": "code",
   "execution_count": 51,
   "metadata": {
    "ExecuteTime": {
     "end_time": "2019-08-28T17:05:30.016885Z",
     "start_time": "2019-08-28T17:05:29.993982Z"
    }
   },
   "outputs": [
    {
     "data": {
      "text/plain": [
       "array([[0.63702908, 0.4229527 ],\n",
       "       [0.60949836, 0.32970906],\n",
       "       [0.5453802 , 0.31526357],\n",
       "       ...,\n",
       "       [0.60835804, 0.37995659],\n",
       "       [0.67825423, 0.34379383],\n",
       "       [0.63276588, 0.38315574]])"
      ]
     },
     "execution_count": 51,
     "metadata": {},
     "output_type": "execute_result"
    }
   ],
   "source": [
    "cate_s_ub"
   ]
  },
  {
   "cell_type": "markdown",
   "metadata": {},
   "source": [
    "## T-Learner"
   ]
  },
  {
   "cell_type": "markdown",
   "metadata": {},
   "source": [
    "### ATE w/ Confidence Intervals"
   ]
  },
  {
   "cell_type": "code",
   "execution_count": 52,
   "metadata": {
    "ExecuteTime": {
     "end_time": "2019-08-28T17:05:31.952853Z",
     "start_time": "2019-08-28T17:05:30.018851Z"
    }
   },
   "outputs": [
    {
     "name": "stderr",
     "output_type": "stream",
     "text": [
      "INFO:causalml:Error metrics for group treatment_a\n",
      "INFO:causalml:    RMSE   (Control): 0.9823\n",
      "INFO:causalml:    RMSE (Treatment): 0.9195\n",
      "INFO:causalml:   sMAPE   (Control): 0.7765\n",
      "INFO:causalml:   sMAPE (Treatment): 0.4508\n",
      "INFO:causalml:    Gini   (Control): 0.5388\n",
      "INFO:causalml:    Gini (Treatment): 0.5466\n",
      "INFO:causalml:Error metrics for group treatment_b\n",
      "INFO:causalml:    RMSE   (Control): 0.9903\n",
      "INFO:causalml:    RMSE (Treatment): 0.8239\n",
      "INFO:causalml:   sMAPE   (Control): 0.6674\n",
      "INFO:causalml:   sMAPE (Treatment): 0.4277\n",
      "INFO:causalml:    Gini   (Control): 0.5606\n",
      "INFO:causalml:    Gini (Treatment): 0.7321\n"
     ]
    }
   ],
   "source": [
    "learner_t = BaseTRegressor(XGBRegressor(), control_name='control')\n",
    "ate_t, ate_t_lb, ate_t_ub = learner_t.estimate_ate(X=X, treatment=treatment, y=y)"
   ]
  },
  {
   "cell_type": "code",
   "execution_count": 53,
   "metadata": {
    "ExecuteTime": {
     "end_time": "2019-08-28T17:05:31.980649Z",
     "start_time": "2019-08-28T17:05:31.954922Z"
    }
   },
   "outputs": [
    {
     "data": {
      "text/plain": [
       "array([[0.38532091, 0.26594866],\n",
       "       [0.42329493, 0.32114392],\n",
       "       [0.46126894, 0.37633919]])"
      ]
     },
     "execution_count": 53,
     "metadata": {},
     "output_type": "execute_result"
    }
   ],
   "source": [
    "np.vstack((ate_t_lb, ate_t, ate_t_ub))"
   ]
  },
  {
   "cell_type": "markdown",
   "metadata": {},
   "source": [
    "### CATE"
   ]
  },
  {
   "cell_type": "code",
   "execution_count": 54,
   "metadata": {
    "ExecuteTime": {
     "end_time": "2019-08-28T17:05:33.912204Z",
     "start_time": "2019-08-28T17:05:31.982859Z"
    }
   },
   "outputs": [
    {
     "name": "stderr",
     "output_type": "stream",
     "text": [
      "INFO:causalml:Error metrics for group treatment_a\n",
      "INFO:causalml:    RMSE   (Control): 0.9823\n",
      "INFO:causalml:    RMSE (Treatment): 0.9195\n",
      "INFO:causalml:   sMAPE   (Control): 0.7765\n",
      "INFO:causalml:   sMAPE (Treatment): 0.4508\n",
      "INFO:causalml:    Gini   (Control): 0.5388\n",
      "INFO:causalml:    Gini (Treatment): 0.5466\n",
      "INFO:causalml:Error metrics for group treatment_b\n",
      "INFO:causalml:    RMSE   (Control): 0.9903\n",
      "INFO:causalml:    RMSE (Treatment): 0.8239\n",
      "INFO:causalml:   sMAPE   (Control): 0.6674\n",
      "INFO:causalml:   sMAPE (Treatment): 0.4277\n",
      "INFO:causalml:    Gini   (Control): 0.5606\n",
      "INFO:causalml:    Gini (Treatment): 0.7321\n"
     ]
    }
   ],
   "source": [
    "learner_t = BaseTRegressor(XGBRegressor(), control_name='control')\n",
    "cate_t = learner_t.fit_predict(X=X, treatment=treatment, y=y)"
   ]
  },
  {
   "cell_type": "code",
   "execution_count": 55,
   "metadata": {
    "ExecuteTime": {
     "end_time": "2019-08-28T17:05:33.935965Z",
     "start_time": "2019-08-28T17:05:33.914108Z"
    }
   },
   "outputs": [
    {
     "data": {
      "text/plain": [
       "array([[0.35081124, 0.33266389],\n",
       "       [0.24868739, 0.05720544],\n",
       "       [0.28636992, 0.17268085],\n",
       "       ...,\n",
       "       [0.4305191 , 0.51081216],\n",
       "       [0.09683752, 0.71547627],\n",
       "       [0.43761277, 0.06787491]])"
      ]
     },
     "execution_count": 55,
     "metadata": {},
     "output_type": "execute_result"
    }
   ],
   "source": [
    "cate_t"
   ]
  },
  {
   "cell_type": "markdown",
   "metadata": {},
   "source": [
    "### CATE w/ Confidence Intervals"
   ]
  },
  {
   "cell_type": "code",
   "execution_count": 56,
   "metadata": {
    "ExecuteTime": {
     "end_time": "2019-08-28T17:07:13.985217Z",
     "start_time": "2019-08-28T17:05:33.937938Z"
    }
   },
   "outputs": [
    {
     "name": "stderr",
     "output_type": "stream",
     "text": [
      "INFO:causalml:Error metrics for group treatment_a\n",
      "INFO:causalml:    RMSE   (Control): 0.9823\n",
      "INFO:causalml:    RMSE (Treatment): 0.9195\n",
      "INFO:causalml:   sMAPE   (Control): 0.7765\n",
      "INFO:causalml:   sMAPE (Treatment): 0.4508\n",
      "INFO:causalml:    Gini   (Control): 0.5388\n",
      "INFO:causalml:    Gini (Treatment): 0.5466\n",
      "INFO:causalml:Error metrics for group treatment_b\n",
      "INFO:causalml:    RMSE   (Control): 0.9903\n",
      "INFO:causalml:    RMSE (Treatment): 0.8239\n",
      "INFO:causalml:   sMAPE   (Control): 0.6674\n",
      "INFO:causalml:   sMAPE (Treatment): 0.4277\n",
      "INFO:causalml:    Gini   (Control): 0.5606\n",
      "INFO:causalml:    Gini (Treatment): 0.7321\n",
      "INFO:causalml:10/100 bootstraps completed. (11s lapsed)\n",
      "INFO:causalml:20/100 bootstraps completed. (20s lapsed)\n",
      "INFO:causalml:30/100 bootstraps completed. (30s lapsed)\n",
      "INFO:causalml:40/100 bootstraps completed. (40s lapsed)\n",
      "INFO:causalml:50/100 bootstraps completed. (50s lapsed)\n",
      "INFO:causalml:60/100 bootstraps completed. (60s lapsed)\n",
      "INFO:causalml:70/100 bootstraps completed. (69s lapsed)\n",
      "INFO:causalml:80/100 bootstraps completed. (79s lapsed)\n",
      "INFO:causalml:90/100 bootstraps completed. (89s lapsed)\n"
     ]
    }
   ],
   "source": [
    "learner_t = BaseTRegressor(XGBRegressor(), control_name='control')\n",
    "cate_t, cate_t_lb, cate_t_ub = learner_t.fit_predict(X=X, treatment=treatment, y=y, return_ci=True, n_bootstraps=100,\n",
    "                                                    bootstrap_size=5000)"
   ]
  },
  {
   "cell_type": "code",
   "execution_count": 57,
   "metadata": {
    "ExecuteTime": {
     "end_time": "2019-08-28T17:07:14.008298Z",
     "start_time": "2019-08-28T17:07:13.987420Z"
    }
   },
   "outputs": [
    {
     "data": {
      "text/plain": [
       "array([[0.35081124, 0.33266389],\n",
       "       [0.24868739, 0.05720544],\n",
       "       [0.28636992, 0.17268085],\n",
       "       ...,\n",
       "       [0.4305191 , 0.51081216],\n",
       "       [0.09683752, 0.71547627],\n",
       "       [0.43761277, 0.06787491]])"
      ]
     },
     "execution_count": 57,
     "metadata": {},
     "output_type": "execute_result"
    }
   ],
   "source": [
    "cate_t"
   ]
  },
  {
   "cell_type": "code",
   "execution_count": 58,
   "metadata": {
    "ExecuteTime": {
     "end_time": "2019-08-28T17:07:14.028467Z",
     "start_time": "2019-08-28T17:07:14.010131Z"
    }
   },
   "outputs": [
    {
     "data": {
      "text/plain": [
       "array([[-0.08144539, -0.59744868],\n",
       "       [ 0.01799162, -0.38125419],\n",
       "       [-0.22445461, -0.29835402],\n",
       "       ...,\n",
       "       [ 0.02081216, -0.26958241],\n",
       "       [ 0.02807788, -0.37620527],\n",
       "       [-0.3921815 , -1.83219032]])"
      ]
     },
     "execution_count": 58,
     "metadata": {},
     "output_type": "execute_result"
    }
   ],
   "source": [
    "cate_t_lb"
   ]
  },
  {
   "cell_type": "code",
   "execution_count": 59,
   "metadata": {
    "ExecuteTime": {
     "end_time": "2019-08-28T17:07:14.056348Z",
     "start_time": "2019-08-28T17:07:14.031558Z"
    }
   },
   "outputs": [
    {
     "data": {
      "text/plain": [
       "array([[1.00166508, 1.12106158],\n",
       "       [0.87668523, 0.79276754],\n",
       "       [0.97333835, 0.96414106],\n",
       "       ...,\n",
       "       [1.10926274, 1.15256835],\n",
       "       [0.96282631, 1.43377033],\n",
       "       [1.52587242, 1.20193017]])"
      ]
     },
     "execution_count": 59,
     "metadata": {},
     "output_type": "execute_result"
    }
   ],
   "source": [
    "cate_t_ub"
   ]
  },
  {
   "cell_type": "markdown",
   "metadata": {},
   "source": [
    "## X-Learner"
   ]
  },
  {
   "cell_type": "markdown",
   "metadata": {},
   "source": [
    "### ATE w/ Confidence Intervals"
   ]
  },
  {
   "cell_type": "code",
   "execution_count": 60,
   "metadata": {
    "ExecuteTime": {
     "end_time": "2019-08-28T17:07:17.551135Z",
     "start_time": "2019-08-28T17:07:14.058200Z"
    }
   },
   "outputs": [
    {
     "name": "stderr",
     "output_type": "stream",
     "text": [
      "INFO:causalml:Error metrics for group treatment_a\n",
      "INFO:causalml:    RMSE   (Control): 0.9823\n",
      "INFO:causalml:    RMSE (Treatment): 0.9195\n",
      "INFO:causalml:   sMAPE   (Control): 0.7765\n",
      "INFO:causalml:   sMAPE (Treatment): 0.4508\n",
      "INFO:causalml:    Gini   (Control): 0.5388\n",
      "INFO:causalml:    Gini (Treatment): 0.5466\n",
      "INFO:causalml:Error metrics for group treatment_b\n",
      "INFO:causalml:    RMSE   (Control): 0.9903\n",
      "INFO:causalml:    RMSE (Treatment): 0.8239\n",
      "INFO:causalml:   sMAPE   (Control): 0.6674\n",
      "INFO:causalml:   sMAPE (Treatment): 0.4277\n",
      "INFO:causalml:    Gini   (Control): 0.5606\n",
      "INFO:causalml:    Gini (Treatment): 0.7321\n"
     ]
    }
   ],
   "source": [
    "learner_x = BaseXRegressor(XGBRegressor(), control_name='control')\n",
    "ate_x, ate_x_lb, ate_x_ub = learner_x.estimate_ate(X=X, p=e, treatment=treatment, y=y)"
   ]
  },
  {
   "cell_type": "code",
   "execution_count": 61,
   "metadata": {
    "ExecuteTime": {
     "end_time": "2019-08-28T17:07:17.574553Z",
     "start_time": "2019-08-28T17:07:17.553013Z"
    }
   },
   "outputs": [
    {
     "data": {
      "text/plain": [
       "array([[0.37562191, 0.2659991 ],\n",
       "       [0.41337235, 0.32093644],\n",
       "       [0.4511228 , 0.37587377]])"
      ]
     },
     "execution_count": 61,
     "metadata": {},
     "output_type": "execute_result"
    }
   ],
   "source": [
    "np.vstack((ate_x_lb, ate_x, ate_x_ub))"
   ]
  },
  {
   "cell_type": "markdown",
   "metadata": {},
   "source": [
    "### CATE"
   ]
  },
  {
   "cell_type": "code",
   "execution_count": 62,
   "metadata": {
    "ExecuteTime": {
     "end_time": "2019-08-28T17:07:21.267626Z",
     "start_time": "2019-08-28T17:07:17.576414Z"
    }
   },
   "outputs": [
    {
     "name": "stderr",
     "output_type": "stream",
     "text": [
      "INFO:causalml:Error metrics for group treatment_a\n",
      "INFO:causalml:    RMSE   (Control): 0.9823\n",
      "INFO:causalml:    RMSE (Treatment): 0.9195\n",
      "INFO:causalml:   sMAPE   (Control): 0.7765\n",
      "INFO:causalml:   sMAPE (Treatment): 0.4508\n",
      "INFO:causalml:    Gini   (Control): 0.5388\n",
      "INFO:causalml:    Gini (Treatment): 0.5466\n",
      "INFO:causalml:Error metrics for group treatment_b\n",
      "INFO:causalml:    RMSE   (Control): 0.9903\n",
      "INFO:causalml:    RMSE (Treatment): 0.8239\n",
      "INFO:causalml:   sMAPE   (Control): 0.6674\n",
      "INFO:causalml:   sMAPE (Treatment): 0.4277\n",
      "INFO:causalml:    Gini   (Control): 0.5606\n",
      "INFO:causalml:    Gini (Treatment): 0.7321\n"
     ]
    }
   ],
   "source": [
    "learner_x = BaseXRegressor(XGBRegressor(), control_name='control')\n",
    "cate_x = learner_x.fit_predict(X=X, p=e, treatment=treatment, y=y)"
   ]
  },
  {
   "cell_type": "code",
   "execution_count": 63,
   "metadata": {
    "ExecuteTime": {
     "end_time": "2019-08-28T17:07:21.296233Z",
     "start_time": "2019-08-28T17:07:21.270159Z"
    }
   },
   "outputs": [
    {
     "data": {
      "text/plain": [
       "array([[ 0.52527982,  0.39769229],\n",
       "       [ 0.42821503,  0.20122311],\n",
       "       [ 0.34181523,  0.46731031],\n",
       "       ...,\n",
       "       [ 0.43081468,  0.73125267],\n",
       "       [ 0.18535542,  0.24842119],\n",
       "       [ 0.82043529, -0.24316168]])"
      ]
     },
     "execution_count": 63,
     "metadata": {},
     "output_type": "execute_result"
    }
   ],
   "source": [
    "cate_x"
   ]
  },
  {
   "cell_type": "markdown",
   "metadata": {},
   "source": [
    "### CATE w/ Confidence Intervals"
   ]
  },
  {
   "cell_type": "code",
   "execution_count": 65,
   "metadata": {
    "ExecuteTime": {
     "end_time": "2019-08-28T17:10:44.269409Z",
     "start_time": "2019-08-28T17:10:28.461920Z"
    }
   },
   "outputs": [
    {
     "name": "stderr",
     "output_type": "stream",
     "text": [
      "INFO:causalml:Error metrics for group treatment_a\n",
      "INFO:causalml:    RMSE   (Control): 0.9823\n",
      "INFO:causalml:    RMSE (Treatment): 0.9195\n",
      "INFO:causalml:   sMAPE   (Control): 0.7765\n",
      "INFO:causalml:   sMAPE (Treatment): 0.4508\n",
      "INFO:causalml:    Gini   (Control): 0.5388\n",
      "INFO:causalml:    Gini (Treatment): 0.5466\n",
      "INFO:causalml:Error metrics for group treatment_b\n",
      "INFO:causalml:    RMSE   (Control): 0.9903\n",
      "INFO:causalml:    RMSE (Treatment): 0.8239\n",
      "INFO:causalml:   sMAPE   (Control): 0.6674\n",
      "INFO:causalml:   sMAPE (Treatment): 0.4277\n",
      "INFO:causalml:    Gini   (Control): 0.5606\n",
      "INFO:causalml:    Gini (Treatment): 0.7321\n",
      "INFO:causalml:10/20 bootstraps completed. (6s lapsed)\n"
     ]
    }
   ],
   "source": [
    "learner_x = BaseXRegressor(XGBRegressor(), control_name='control')\n",
    "cate_x, cate_x_lb, cate_x_ub = learner_x.fit_predict(X=X, p=e, treatment=treatment, y=y, return_ci=True,\n",
    "                                                     n_bootstraps=20, bootstrap_size=1000)"
   ]
  },
  {
   "cell_type": "code",
   "execution_count": 66,
   "metadata": {
    "ExecuteTime": {
     "end_time": "2019-08-28T17:10:44.293863Z",
     "start_time": "2019-08-28T17:10:44.271902Z"
    }
   },
   "outputs": [
    {
     "data": {
      "text/plain": [
       "{'treatment_a': 0, 'treatment_b': 1}"
      ]
     },
     "execution_count": 66,
     "metadata": {},
     "output_type": "execute_result"
    }
   ],
   "source": [
    "learner_x._classes"
   ]
  },
  {
   "cell_type": "code",
   "execution_count": 67,
   "metadata": {
    "ExecuteTime": {
     "end_time": "2019-08-28T17:10:44.314458Z",
     "start_time": "2019-08-28T17:10:44.295942Z"
    }
   },
   "outputs": [
    {
     "data": {
      "text/plain": [
       "array([[ 0.52527982,  0.39769229],\n",
       "       [ 0.42821503,  0.20122311],\n",
       "       [ 0.34181523,  0.46731031],\n",
       "       ...,\n",
       "       [ 0.43081468,  0.73125267],\n",
       "       [ 0.18535542,  0.24842119],\n",
       "       [ 0.82043529, -0.24316168]])"
      ]
     },
     "execution_count": 67,
     "metadata": {},
     "output_type": "execute_result"
    }
   ],
   "source": [
    "cate_x"
   ]
  },
  {
   "cell_type": "code",
   "execution_count": 68,
   "metadata": {
    "ExecuteTime": {
     "end_time": "2019-08-28T17:10:44.335639Z",
     "start_time": "2019-08-28T17:10:44.316422Z"
    }
   },
   "outputs": [
    {
     "data": {
      "text/plain": [
       "array([[-0.11367871, -0.23758274],\n",
       "       [-0.06715126, -0.04743222],\n",
       "       [-0.30945642, -0.76316142],\n",
       "       ...,\n",
       "       [-0.06676014, -0.19030679],\n",
       "       [-0.38418343, -0.44362469],\n",
       "       [-0.59307305, -1.251716  ]])"
      ]
     },
     "execution_count": 68,
     "metadata": {},
     "output_type": "execute_result"
    }
   ],
   "source": [
    "cate_x_lb"
   ]
  },
  {
   "cell_type": "code",
   "execution_count": 69,
   "metadata": {
    "ExecuteTime": {
     "end_time": "2019-08-28T17:10:44.357615Z",
     "start_time": "2019-08-28T17:10:44.337537Z"
    }
   },
   "outputs": [
    {
     "data": {
      "text/plain": [
       "array([[1.06644071, 1.33659313],\n",
       "       [1.14413551, 1.18298175],\n",
       "       [0.95327085, 1.49227993],\n",
       "       ...,\n",
       "       [0.87317408, 1.02219927],\n",
       "       [0.99992956, 0.78829483],\n",
       "       [1.52405493, 1.59690447]])"
      ]
     },
     "execution_count": 69,
     "metadata": {},
     "output_type": "execute_result"
    }
   ],
   "source": [
    "cate_x_ub"
   ]
  },
  {
   "cell_type": "markdown",
   "metadata": {},
   "source": [
    "## R-Learner"
   ]
  },
  {
   "cell_type": "markdown",
   "metadata": {},
   "source": [
    "### ATE w/ Confidence Intervals"
   ]
  },
  {
   "cell_type": "code",
   "execution_count": 70,
   "metadata": {
    "ExecuteTime": {
     "end_time": "2019-08-28T17:10:49.284767Z",
     "start_time": "2019-08-28T17:10:44.359479Z"
    }
   },
   "outputs": [
    {
     "name": "stderr",
     "output_type": "stream",
     "text": [
      "INFO:causalml:generating out-of-fold CV outcome estimates\n",
      "INFO:causalml:training the treatment effect model for treatment_a with R-loss\n",
      "INFO:causalml:training the treatment effect model for treatment_b with R-loss\n"
     ]
    }
   ],
   "source": [
    "learner_r = BaseRRegressor(XGBRegressor(), control_name='control')\n",
    "ate_r, ate_r_lb, ate_r_ub = learner_r.estimate_ate(X=X, p=e, treatment=treatment, y=y)"
   ]
  },
  {
   "cell_type": "code",
   "execution_count": 71,
   "metadata": {
    "ExecuteTime": {
     "end_time": "2019-08-28T17:10:49.310592Z",
     "start_time": "2019-08-28T17:10:49.286887Z"
    }
   },
   "outputs": [
    {
     "data": {
      "text/plain": [
       "array([[0.34231668, 0.14392736],\n",
       "       [0.34272427, 0.14461389],\n",
       "       [0.34313186, 0.14530041]])"
      ]
     },
     "execution_count": 71,
     "metadata": {},
     "output_type": "execute_result"
    }
   ],
   "source": [
    "np.vstack((ate_r_lb, ate_r, ate_r_ub))"
   ]
  },
  {
   "cell_type": "markdown",
   "metadata": {},
   "source": [
    "### CATE"
   ]
  },
  {
   "cell_type": "code",
   "execution_count": 72,
   "metadata": {
    "ExecuteTime": {
     "end_time": "2019-08-28T17:10:54.180687Z",
     "start_time": "2019-08-28T17:10:49.312419Z"
    }
   },
   "outputs": [
    {
     "name": "stderr",
     "output_type": "stream",
     "text": [
      "INFO:causalml:generating out-of-fold CV outcome estimates\n",
      "INFO:causalml:training the treatment effect model for treatment_a with R-loss\n",
      "INFO:causalml:training the treatment effect model for treatment_b with R-loss\n"
     ]
    }
   ],
   "source": [
    "learner_r = BaseRRegressor(XGBRegressor(), control_name='control')\n",
    "cate_r = learner_r.fit_predict(X=X, p=e, treatment=treatment, y=y)"
   ]
  },
  {
   "cell_type": "code",
   "execution_count": 73,
   "metadata": {
    "ExecuteTime": {
     "end_time": "2019-08-28T17:10:54.205493Z",
     "start_time": "2019-08-28T17:10:54.183676Z"
    }
   },
   "outputs": [
    {
     "data": {
      "text/plain": [
       "array([[ 0.47026676,  0.15366212],\n",
       "       [ 0.30793339,  0.24790418],\n",
       "       [ 0.44024304,  0.42022982],\n",
       "       ...,\n",
       "       [ 0.32796681,  0.56629455],\n",
       "       [ 0.1415191 , -0.04005969],\n",
       "       [ 0.31458521, -0.25984585]])"
      ]
     },
     "execution_count": 73,
     "metadata": {},
     "output_type": "execute_result"
    }
   ],
   "source": [
    "cate_r"
   ]
  },
  {
   "cell_type": "markdown",
   "metadata": {},
   "source": [
    "### CATE w/ Confidence Intervals"
   ]
  },
  {
   "cell_type": "code",
   "execution_count": 74,
   "metadata": {
    "ExecuteTime": {
     "end_time": "2019-08-28T17:11:11.660342Z",
     "start_time": "2019-08-28T17:10:54.207396Z"
    },
    "scrolled": true
   },
   "outputs": [
    {
     "name": "stderr",
     "output_type": "stream",
     "text": [
      "INFO:causalml:generating out-of-fold CV outcome estimates\n",
      "INFO:causalml:training the treatment effect model for treatment_a with R-loss\n",
      "INFO:causalml:training the treatment effect model for treatment_b with R-loss\n",
      "INFO:causalml:10/20 bootstraps completed. (6s lapsed)\n"
     ]
    }
   ],
   "source": [
    "learner_r = BaseRRegressor(XGBRegressor(), control_name='control')\n",
    "cate_r, cate_r_lb, cate_r_ub = learner_r.fit_predict(X=X, p=e, treatment=treatment, y=y, return_ci=True,\n",
    "                                                     n_bootstraps=20, bootstrap_size=1000)"
   ]
  },
  {
   "cell_type": "code",
   "execution_count": 75,
   "metadata": {
    "ExecuteTime": {
     "end_time": "2019-08-28T17:11:11.686172Z",
     "start_time": "2019-08-28T17:11:11.662664Z"
    }
   },
   "outputs": [
    {
     "data": {
      "text/plain": [
       "array([[ 0.48988515,  0.20426157],\n",
       "       [ 0.37352651,  0.18254063],\n",
       "       [ 0.47350597,  0.45746055],\n",
       "       ...,\n",
       "       [ 0.38196987,  0.61016506],\n",
       "       [ 0.12566453, -0.03671098],\n",
       "       [-0.07329565, -0.29935843]])"
      ]
     },
     "execution_count": 75,
     "metadata": {},
     "output_type": "execute_result"
    }
   ],
   "source": [
    "cate_r"
   ]
  },
  {
   "cell_type": "code",
   "execution_count": 76,
   "metadata": {
    "ExecuteTime": {
     "end_time": "2019-08-28T17:11:11.708515Z",
     "start_time": "2019-08-28T17:11:11.687930Z"
    }
   },
   "outputs": [
    {
     "data": {
      "text/plain": [
       "array([[-0.50216097, -0.87867155],\n",
       "       [-0.23306711, -0.28041615],\n",
       "       [-0.4162818 , -0.51882144],\n",
       "       ...,\n",
       "       [-0.11726523, -0.46684388],\n",
       "       [-0.39257423, -0.63865196],\n",
       "       [-1.09914327, -1.30770688]])"
      ]
     },
     "execution_count": 76,
     "metadata": {},
     "output_type": "execute_result"
    }
   ],
   "source": [
    "cate_r_lb"
   ]
  },
  {
   "cell_type": "code",
   "execution_count": 77,
   "metadata": {
    "ExecuteTime": {
     "end_time": "2019-08-28T17:11:11.731734Z",
     "start_time": "2019-08-28T17:11:11.710268Z"
    }
   },
   "outputs": [
    {
     "data": {
      "text/plain": [
       "array([[1.42674825, 1.39832048],\n",
       "       [0.78051882, 0.5501123 ],\n",
       "       [1.93342747, 1.03070981],\n",
       "       ...,\n",
       "       [1.05792255, 1.48453925],\n",
       "       [0.89899277, 0.30263484],\n",
       "       [1.55487377, 1.1365593 ]])"
      ]
     },
     "execution_count": 77,
     "metadata": {},
     "output_type": "execute_result"
    }
   ],
   "source": [
    "cate_r_ub"
   ]
  },
  {
   "cell_type": "markdown",
   "metadata": {},
   "source": [
    "# Visualize"
   ]
  },
  {
   "cell_type": "code",
   "execution_count": 78,
   "metadata": {
    "ExecuteTime": {
     "end_time": "2019-08-28T17:11:11.759927Z",
     "start_time": "2019-08-28T17:11:11.733628Z"
    }
   },
   "outputs": [
    {
     "ename": "NameError",
     "evalue": "name 'groups' is not defined",
     "output_type": "error",
     "traceback": [
      "\u001b[0;31m---------------------------------------------------------------------------\u001b[0m",
      "\u001b[0;31mNameError\u001b[0m                                 Traceback (most recent call last)",
      "\u001b[0;32m<ipython-input-78-108dbcb2cd64>\u001b[0m in \u001b[0;36m<module>\u001b[0;34m\u001b[0m\n\u001b[0;32m----> 1\u001b[0;31m \u001b[0mgroups\u001b[0m\u001b[0;34m\u001b[0m\u001b[0;34m\u001b[0m\u001b[0m\n\u001b[0m",
      "\u001b[0;31mNameError\u001b[0m: name 'groups' is not defined"
     ]
    }
   ],
   "source": [
    "groups"
   ]
  },
  {
   "cell_type": "code",
   "execution_count": null,
   "metadata": {
    "ExecuteTime": {
     "end_time": "2019-08-28T17:11:11.761888Z",
     "start_time": "2019-08-28T17:10:28.450Z"
    }
   },
   "outputs": [],
   "source": [
    "groups = learner_r._classes\n",
    "\n",
    "alpha = 1\n",
    "linewidth = 2\n",
    "bins = 30\n",
    "for group,idx in sorted(groups.items(), key=lambda x: x[1]):\n",
    "    plt.figure(figsize=(12,8))\n",
    "    plt.hist(cate_t[:,idx], alpha=alpha, bins=bins, label='T Learner ({})'.format(group),\n",
    "             histtype='step', linewidth=linewidth)\n",
    "    plt.hist(cate_x[:,idx], alpha=alpha, bins=bins, label='X Learner ({})'.format(group),\n",
    "             histtype='step', linewidth=linewidth)\n",
    "    plt.hist(cate_r[:,idx], alpha=alpha, bins=bins, label='R Learner ({})'.format(group),\n",
    "             histtype='step', linewidth=linewidth)\n",
    "    plt.vlines(cate_s[0,idx], 0, plt.axes().get_ylim()[1], label='S Learner ({})'.format(group),\n",
    "               linestyles='dotted', linewidth=linewidth)\n",
    "    plt.title('Distribution of CATE Predictions for {}'.format(group))\n",
    "    plt.xlabel('Individual Treatment Effect (ITE/CATE)')\n",
    "    plt.ylabel('# of Samples')\n",
    "    _=plt.legend()"
   ]
  },
  {
   "cell_type": "code",
   "execution_count": null,
   "metadata": {},
   "outputs": [],
   "source": []
  }
 ],
 "metadata": {
  "kernelspec": {
   "display_name": "Python 3",
   "language": "python",
   "name": "python3"
  },
  "language_info": {
   "codemirror_mode": {
    "name": "ipython",
    "version": 3
   },
   "file_extension": ".py",
   "mimetype": "text/x-python",
   "name": "python",
   "nbconvert_exporter": "python",
   "pygments_lexer": "ipython3",
   "version": "3.6.8"
  },
  "toc": {
   "base_numbering": 1,
   "nav_menu": {
    "height": "174px",
    "width": "252px"
   },
   "number_sections": false,
   "sideBar": true,
   "skip_h1_title": false,
   "title_cell": "Table of Contents",
   "title_sidebar": "Contents",
   "toc_cell": false,
   "toc_position": {
    "height": "calc(100% - 180px)",
    "left": "10px",
    "top": "150px",
    "width": "203px"
   },
   "toc_section_display": "block",
   "toc_window_display": false
  }
 },
 "nbformat": 4,
 "nbformat_minor": 2
}
