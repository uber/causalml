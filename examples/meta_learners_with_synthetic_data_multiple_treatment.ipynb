{
 "cells": [
  {
   "cell_type": "markdown",
   "metadata": {},
   "source": [
    "# `causalml` - Meta-Learner Example Notebook\n",
    "This notebook only contains regression examples."
   ]
  },
  {
   "cell_type": "code",
   "execution_count": 1,
   "metadata": {
    "ExecuteTime": {
     "end_time": "2019-08-28T16:54:38.022644Z",
     "start_time": "2019-08-28T16:54:38.017408Z"
    }
   },
   "outputs": [],
   "source": [
    "# pick the right base path (only run ONCE)\n",
    "import os\n",
    "base_path = os.path.abspath(\"../\")\n",
    "os.chdir(base_path)"
   ]
  },
  {
   "cell_type": "code",
   "execution_count": 2,
   "metadata": {
    "ExecuteTime": {
     "end_time": "2019-08-28T16:54:38.053486Z",
     "start_time": "2019-08-28T16:54:38.026726Z"
    }
   },
   "outputs": [],
   "source": [
    "%reload_ext autoreload\n",
    "%autoreload 2"
   ]
  },
  {
   "cell_type": "code",
   "execution_count": 3,
   "metadata": {
    "ExecuteTime": {
     "end_time": "2019-08-28T16:54:39.292303Z",
     "start_time": "2019-08-28T16:54:38.056040Z"
    }
   },
   "outputs": [
    {
     "name": "stderr",
     "output_type": "stream",
     "text": [
      "Using TensorFlow backend.\n"
     ]
    }
   ],
   "source": [
    "import pandas as pd\n",
    "import numpy as np\n",
    "from matplotlib import pyplot as plt\n",
    "from sklearn.linear_model import LinearRegression, LogisticRegression\n",
    "from sklearn.model_selection import train_test_split\n",
    "import statsmodels.api as sm\n",
    "from xgboost import XGBRegressor, XGBClassifier\n",
    "import warnings\n",
    "\n",
    "# from causalml.inference.meta import XGBTLearner, MLPTLearner\n",
    "from causalml.inference.meta import BaseSRegressor, BaseTRegressor, BaseXRegressor, BaseRRegressor\n",
    "from causalml.inference.meta import BaseSClassifier, BaseTClassifier, BaseXClassifier, BaseRClassifier\n",
    "from causalml.inference.meta import LRSRegressor\n",
    "from causalml.match import NearestNeighborMatch, MatchOptimizer, create_table_one\n",
    "from causalml.propensity import ElasticNetPropensityModel\n",
    "from causalml.dataset import *\n",
    "from causalml.metrics import *\n",
    "\n",
    "warnings.filterwarnings('ignore')\n",
    "plt.style.use('fivethirtyeight')\n",
    "pd.set_option('display.float_format', lambda x: '%.4f' % x)\n",
    "\n",
    "# imports from package\n",
    "import logging\n",
    "from sklearn.dummy import DummyRegressor\n",
    "from sklearn.metrics import mean_squared_error as mse\n",
    "from sklearn.metrics import mean_absolute_error as mae\n",
    "import statsmodels.api as sm\n",
    "from copy import deepcopy\n",
    "\n",
    "logger = logging.getLogger('causalml')\n",
    "logging.basicConfig(level=logging.INFO)\n",
    "\n",
    "%matplotlib inline"
   ]
  },
  {
   "cell_type": "markdown",
   "metadata": {},
   "source": [
    "# Single Treatment Case"
   ]
  },
  {
   "cell_type": "markdown",
   "metadata": {},
   "source": [
    "### Generate synthetic data"
   ]
  },
  {
   "cell_type": "code",
   "execution_count": 4,
   "metadata": {
    "ExecuteTime": {
     "end_time": "2019-08-28T16:54:39.323905Z",
     "start_time": "2019-08-28T16:54:39.294851Z"
    }
   },
   "outputs": [],
   "source": [
    "# Generate synthetic data using mode 1\n",
    "y, X, treatment, tau, b, e = synthetic_data(mode=1, n=10000, p=8, sigma=1.0)\n",
    "\n",
    "treatment = np.array(['treatment_a' if val==1 else 'control' for val in treatment])"
   ]
  },
  {
   "cell_type": "markdown",
   "metadata": {},
   "source": [
    "## S-Learner"
   ]
  },
  {
   "cell_type": "markdown",
   "metadata": {},
   "source": [
    "### ATE"
   ]
  },
  {
   "cell_type": "code",
   "execution_count": 5,
   "metadata": {
    "ExecuteTime": {
     "end_time": "2019-08-28T16:54:40.270570Z",
     "start_time": "2019-08-28T16:54:39.325957Z"
    }
   },
   "outputs": [
    {
     "name": "stderr",
     "output_type": "stream",
     "text": [
      "INFO:causalml:Error metrics for group treatment_a\n",
      "INFO:causalml:    RMSE   (Control):     0.9642\n",
      "INFO:causalml:    RMSE (Treatment):     0.9653\n",
      "INFO:causalml:   sMAPE   (Control):     0.8250\n",
      "INFO:causalml:   sMAPE (Treatment):     0.4682\n",
      "INFO:causalml:    Gini   (Control):     0.4654\n",
      "INFO:causalml:    Gini (Treatment):     0.4941\n"
     ]
    }
   ],
   "source": [
    "learner_s = BaseSRegressor(XGBRegressor(), control_name='control')\n",
    "ate_s = learner_s.estimate_ate(X=X, treatment=treatment, y=y, return_ci=False, bootstrap_ci=False)"
   ]
  },
  {
   "cell_type": "code",
   "execution_count": 6,
   "metadata": {},
   "outputs": [
    {
     "data": {
      "text/plain": [
       "array([0.5577983])"
      ]
     },
     "execution_count": 6,
     "metadata": {},
     "output_type": "execute_result"
    }
   ],
   "source": [
    "ate_s"
   ]
  },
  {
   "cell_type": "markdown",
   "metadata": {},
   "source": [
    "### ATE w/ Confidence Intervals"
   ]
  },
  {
   "cell_type": "code",
   "execution_count": 7,
   "metadata": {
    "ExecuteTime": {
     "end_time": "2019-08-28T16:55:33.490116Z",
     "start_time": "2019-08-28T16:54:40.318757Z"
    }
   },
   "outputs": [
    {
     "name": "stderr",
     "output_type": "stream",
     "text": [
      "INFO:causalml:Error metrics for group treatment_a\n",
      "INFO:causalml:    RMSE   (Control):     0.9642\n",
      "INFO:causalml:    RMSE (Treatment):     0.9653\n",
      "INFO:causalml:   sMAPE   (Control):     0.8250\n",
      "INFO:causalml:   sMAPE (Treatment):     0.4682\n",
      "INFO:causalml:    Gini   (Control):     0.4654\n",
      "INFO:causalml:    Gini (Treatment):     0.4941\n"
     ]
    }
   ],
   "source": [
    "alpha = 0.05\n",
    "learner_s = BaseSRegressor(XGBRegressor(), ate_alpha=alpha, control_name='control')\n",
    "ate_s, ate_s_lb, ate_s_ub = learner_s.estimate_ate(X=X, treatment=treatment, y=y, return_ci=True,\n",
    "                                                   bootstrap_ci=False)"
   ]
  },
  {
   "cell_type": "code",
   "execution_count": 8,
   "metadata": {
    "ExecuteTime": {
     "end_time": "2019-08-28T16:55:33.516539Z",
     "start_time": "2019-08-28T16:55:33.493385Z"
    }
   },
   "outputs": [
    {
     "data": {
      "text/plain": [
       "array([[0.5197129],\n",
       "       [0.5577983],\n",
       "       [0.5958837]])"
      ]
     },
     "execution_count": 8,
     "metadata": {},
     "output_type": "execute_result"
    }
   ],
   "source": [
    "np.vstack((ate_s_lb, ate_s, ate_s_ub))"
   ]
  },
  {
   "cell_type": "markdown",
   "metadata": {},
   "source": [
    "### ATE w/ Boostrap Confidence Intervals"
   ]
  },
  {
   "cell_type": "code",
   "execution_count": 9,
   "metadata": {},
   "outputs": [
    {
     "name": "stderr",
     "output_type": "stream",
     "text": [
      "INFO:causalml:Error metrics for group treatment_a\n",
      "INFO:causalml:    RMSE   (Control):     0.9642\n",
      "INFO:causalml:    RMSE (Treatment):     0.9653\n",
      "INFO:causalml:   sMAPE   (Control):     0.8250\n",
      "INFO:causalml:   sMAPE (Treatment):     0.4682\n",
      "INFO:causalml:    Gini   (Control):     0.4654\n",
      "INFO:causalml:    Gini (Treatment):     0.4941\n",
      "INFO:causalml:Bootstrap Confidence Intervals for ATE\n",
      "100%|██████████| 100/100 [00:36<00:00,  2.73it/s]\n"
     ]
    }
   ],
   "source": [
    "ate_s_b, ate_s_lb_b, ate_s_ub_b = learner_s.estimate_ate(X=X, treatment=treatment, y=y, return_ci=True,\n",
    "                                                         bootstrap_ci=True, n_bootstraps=100, bootstrap_size=5000)"
   ]
  },
  {
   "cell_type": "code",
   "execution_count": 10,
   "metadata": {},
   "outputs": [
    {
     "data": {
      "text/plain": [
       "array([[0.48767755],\n",
       "       [0.5577983 ],\n",
       "       [0.62262745]])"
      ]
     },
     "execution_count": 10,
     "metadata": {},
     "output_type": "execute_result"
    }
   ],
   "source": [
    "np.vstack((ate_s_lb_b, ate_s_b, ate_s_ub_b))"
   ]
  },
  {
   "cell_type": "markdown",
   "metadata": {},
   "source": [
    "### CATE"
   ]
  },
  {
   "cell_type": "code",
   "execution_count": 11,
   "metadata": {
    "ExecuteTime": {
     "end_time": "2019-08-28T16:55:34.539970Z",
     "start_time": "2019-08-28T16:55:33.520045Z"
    }
   },
   "outputs": [
    {
     "name": "stderr",
     "output_type": "stream",
     "text": [
      "INFO:causalml:Error metrics for group treatment_a\n",
      "INFO:causalml:    RMSE   (Control):     0.9642\n",
      "INFO:causalml:    RMSE (Treatment):     0.9653\n",
      "INFO:causalml:   sMAPE   (Control):     0.8250\n",
      "INFO:causalml:   sMAPE (Treatment):     0.4682\n",
      "INFO:causalml:    Gini   (Control):     0.4654\n",
      "INFO:causalml:    Gini (Treatment):     0.4941\n"
     ]
    }
   ],
   "source": [
    "learner_s = BaseSRegressor(XGBRegressor(), control_name='control')\n",
    "cate_s = learner_s.fit_predict(X=X, treatment=treatment, y=y, return_ci=False)"
   ]
  },
  {
   "cell_type": "code",
   "execution_count": 12,
   "metadata": {
    "ExecuteTime": {
     "end_time": "2019-08-28T16:55:34.570117Z",
     "start_time": "2019-08-28T16:55:34.542094Z"
    }
   },
   "outputs": [
    {
     "data": {
      "text/plain": [
       "array([[0.67405117],\n",
       "       [0.63909245],\n",
       "       [0.25836706],\n",
       "       ...,\n",
       "       [0.38459313],\n",
       "       [0.74323356],\n",
       "       [0.7728349 ]])"
      ]
     },
     "execution_count": 12,
     "metadata": {},
     "output_type": "execute_result"
    }
   ],
   "source": [
    "cate_s"
   ]
  },
  {
   "cell_type": "markdown",
   "metadata": {},
   "source": [
    "### CATE w/ Confidence Intervals"
   ]
  },
  {
   "cell_type": "code",
   "execution_count": 13,
   "metadata": {
    "ExecuteTime": {
     "end_time": "2019-08-28T16:56:25.845564Z",
     "start_time": "2019-08-28T16:55:34.572058Z"
    }
   },
   "outputs": [
    {
     "name": "stderr",
     "output_type": "stream",
     "text": [
      "INFO:causalml:Error metrics for group treatment_a\n",
      "INFO:causalml:    RMSE   (Control):     0.9642\n",
      "INFO:causalml:    RMSE (Treatment):     0.9653\n",
      "INFO:causalml:   sMAPE   (Control):     0.8250\n",
      "INFO:causalml:   sMAPE (Treatment):     0.4682\n",
      "INFO:causalml:    Gini   (Control):     0.4654\n",
      "INFO:causalml:    Gini (Treatment):     0.4941\n",
      "INFO:causalml:Bootstrap Confidence Intervals\n",
      "100%|██████████| 100/100 [00:36<00:00,  2.75it/s]\n"
     ]
    }
   ],
   "source": [
    "alpha = 0.05\n",
    "learner_s = BaseSRegressor(XGBRegressor(), ate_alpha=alpha, control_name='control')\n",
    "cate_s, cate_s_lb, cate_s_ub = learner_s.fit_predict(X=X, treatment=treatment, y=y, return_ci=True,\n",
    "                               n_bootstraps=100, bootstrap_size=5000)"
   ]
  },
  {
   "cell_type": "code",
   "execution_count": 14,
   "metadata": {
    "ExecuteTime": {
     "end_time": "2019-08-28T16:56:25.868001Z",
     "start_time": "2019-08-28T16:56:25.847611Z"
    }
   },
   "outputs": [
    {
     "data": {
      "text/plain": [
       "array([[0.67405117],\n",
       "       [0.63909245],\n",
       "       [0.25836706],\n",
       "       ...,\n",
       "       [0.38459313],\n",
       "       [0.74323356],\n",
       "       [0.7728349 ]])"
      ]
     },
     "execution_count": 14,
     "metadata": {},
     "output_type": "execute_result"
    }
   ],
   "source": [
    "cate_s"
   ]
  },
  {
   "cell_type": "code",
   "execution_count": 15,
   "metadata": {
    "ExecuteTime": {
     "end_time": "2019-08-28T16:56:25.887191Z",
     "start_time": "2019-08-28T16:56:25.869636Z"
    }
   },
   "outputs": [
    {
     "data": {
      "text/plain": [
       "array([[0.40813417],\n",
       "       [0.46955505],\n",
       "       [0.1254503 ],\n",
       "       ...,\n",
       "       [0.19305494],\n",
       "       [0.43469266],\n",
       "       [0.50259018]])"
      ]
     },
     "execution_count": 15,
     "metadata": {},
     "output_type": "execute_result"
    }
   ],
   "source": [
    "cate_s_lb"
   ]
  },
  {
   "cell_type": "code",
   "execution_count": 16,
   "metadata": {
    "ExecuteTime": {
     "end_time": "2019-08-28T16:56:25.906564Z",
     "start_time": "2019-08-28T16:56:25.889065Z"
    }
   },
   "outputs": [
    {
     "data": {
      "text/plain": [
       "array([[0.83760878],\n",
       "       [0.9223401 ],\n",
       "       [0.67172733],\n",
       "       ...,\n",
       "       [0.60543364],\n",
       "       [0.86951138],\n",
       "       [1.0190843 ]])"
      ]
     },
     "execution_count": 16,
     "metadata": {},
     "output_type": "execute_result"
    }
   ],
   "source": [
    "cate_s_ub"
   ]
  },
  {
   "cell_type": "markdown",
   "metadata": {},
   "source": [
    "## T-Learner"
   ]
  },
  {
   "cell_type": "markdown",
   "metadata": {},
   "source": [
    "### ATE w/ Confidence Intervals"
   ]
  },
  {
   "cell_type": "code",
   "execution_count": 17,
   "metadata": {
    "ExecuteTime": {
     "end_time": "2019-08-28T16:56:26.863843Z",
     "start_time": "2019-08-28T16:56:25.908449Z"
    }
   },
   "outputs": [
    {
     "name": "stderr",
     "output_type": "stream",
     "text": [
      "INFO:causalml:Error metrics for group treatment_a\n",
      "INFO:causalml:    RMSE   (Control):     0.9482\n",
      "INFO:causalml:    RMSE (Treatment):     0.9346\n",
      "INFO:causalml:   sMAPE   (Control):     0.8136\n",
      "INFO:causalml:   sMAPE (Treatment):     0.4594\n",
      "INFO:causalml:    Gini   (Control):     0.4991\n",
      "INFO:causalml:    Gini (Treatment):     0.5394\n"
     ]
    }
   ],
   "source": [
    "learner_t = BaseTRegressor(XGBRegressor(), control_name='control')\n",
    "ate_t, ate_t_lb, ate_t_ub = learner_t.estimate_ate(X=X, treatment=treatment, y=y)"
   ]
  },
  {
   "cell_type": "code",
   "execution_count": 18,
   "metadata": {
    "ExecuteTime": {
     "end_time": "2019-08-28T16:56:26.887152Z",
     "start_time": "2019-08-28T16:56:26.866284Z"
    }
   },
   "outputs": [
    {
     "data": {
      "text/plain": [
       "array([[0.54203293],\n",
       "       [0.57965379],\n",
       "       [0.61727465]])"
      ]
     },
     "execution_count": 18,
     "metadata": {},
     "output_type": "execute_result"
    }
   ],
   "source": [
    "np.vstack((ate_t_lb, ate_t, ate_t_ub))"
   ]
  },
  {
   "cell_type": "markdown",
   "metadata": {},
   "source": [
    "### ATE w/ Boostrap Confidence Intervals"
   ]
  },
  {
   "cell_type": "code",
   "execution_count": 19,
   "metadata": {},
   "outputs": [
    {
     "name": "stderr",
     "output_type": "stream",
     "text": [
      "INFO:causalml:Error metrics for group treatment_a\n",
      "INFO:causalml:    RMSE   (Control):     0.9482\n",
      "INFO:causalml:    RMSE (Treatment):     0.9346\n",
      "INFO:causalml:   sMAPE   (Control):     0.8136\n",
      "INFO:causalml:   sMAPE (Treatment):     0.4594\n",
      "INFO:causalml:    Gini   (Control):     0.4991\n",
      "INFO:causalml:    Gini (Treatment):     0.5394\n",
      "INFO:causalml:Bootstrap Confidence Intervals for ATE\n",
      "100%|██████████| 100/100 [00:33<00:00,  2.95it/s]\n"
     ]
    }
   ],
   "source": [
    "ate_t_b, ate_t_lb_b, ate_t_ub_b = learner_t.estimate_ate(X=X, treatment=treatment, y=y, bootstrap_ci=True,\n",
    "                                                   n_bootstraps=100, bootstrap_size=5000)"
   ]
  },
  {
   "cell_type": "code",
   "execution_count": 20,
   "metadata": {},
   "outputs": [
    {
     "data": {
      "text/plain": [
       "array([[0.5350495 ],\n",
       "       [0.57965379],\n",
       "       [0.64942914]])"
      ]
     },
     "execution_count": 20,
     "metadata": {},
     "output_type": "execute_result"
    }
   ],
   "source": [
    "np.vstack((ate_t_lb_b, ate_t_b, ate_t_ub_b))"
   ]
  },
  {
   "cell_type": "markdown",
   "metadata": {},
   "source": [
    "### CATE"
   ]
  },
  {
   "cell_type": "code",
   "execution_count": 21,
   "metadata": {
    "ExecuteTime": {
     "end_time": "2019-08-28T16:56:27.803993Z",
     "start_time": "2019-08-28T16:56:26.888998Z"
    }
   },
   "outputs": [
    {
     "name": "stderr",
     "output_type": "stream",
     "text": [
      "INFO:causalml:Error metrics for group treatment_a\n",
      "INFO:causalml:    RMSE   (Control):     0.9482\n",
      "INFO:causalml:    RMSE (Treatment):     0.9346\n",
      "INFO:causalml:   sMAPE   (Control):     0.8136\n",
      "INFO:causalml:   sMAPE (Treatment):     0.4594\n",
      "INFO:causalml:    Gini   (Control):     0.4991\n",
      "INFO:causalml:    Gini (Treatment):     0.5394\n"
     ]
    }
   ],
   "source": [
    "learner_t = BaseTRegressor(XGBRegressor(), control_name='control')\n",
    "cate_t = learner_t.fit_predict(X=X, treatment=treatment, y=y)"
   ]
  },
  {
   "cell_type": "code",
   "execution_count": 22,
   "metadata": {
    "ExecuteTime": {
     "end_time": "2019-08-28T16:56:27.828741Z",
     "start_time": "2019-08-28T16:56:27.806224Z"
    }
   },
   "outputs": [
    {
     "data": {
      "text/plain": [
       "array([[0.66688871],\n",
       "       [0.76726997],\n",
       "       [0.40129769],\n",
       "       ...,\n",
       "       [0.34615451],\n",
       "       [0.73604703],\n",
       "       [1.059165  ]])"
      ]
     },
     "execution_count": 22,
     "metadata": {},
     "output_type": "execute_result"
    }
   ],
   "source": [
    "cate_t"
   ]
  },
  {
   "cell_type": "markdown",
   "metadata": {},
   "source": [
    "### CATE w/ Confidence Intervals"
   ]
  },
  {
   "cell_type": "code",
   "execution_count": 23,
   "metadata": {
    "ExecuteTime": {
     "end_time": "2019-08-28T16:57:17.665456Z",
     "start_time": "2019-08-28T16:56:27.830995Z"
    }
   },
   "outputs": [
    {
     "name": "stderr",
     "output_type": "stream",
     "text": [
      "INFO:causalml:Error metrics for group treatment_a\n",
      "INFO:causalml:    RMSE   (Control):     0.9482\n",
      "INFO:causalml:    RMSE (Treatment):     0.9346\n",
      "INFO:causalml:   sMAPE   (Control):     0.8136\n",
      "INFO:causalml:   sMAPE (Treatment):     0.4594\n",
      "INFO:causalml:    Gini   (Control):     0.4991\n",
      "INFO:causalml:    Gini (Treatment):     0.5394\n",
      "INFO:causalml:Bootstrap Confidence Intervals\n",
      "100%|██████████| 100/100 [00:33<00:00,  2.98it/s]\n"
     ]
    }
   ],
   "source": [
    "learner_t = BaseTRegressor(XGBRegressor(), control_name='control')\n",
    "cate_t, cate_t_lb, cate_t_ub = learner_t.fit_predict(X=X, treatment=treatment, y=y, return_ci=True, n_bootstraps=100,\n",
    "                                                    bootstrap_size=5000)"
   ]
  },
  {
   "cell_type": "code",
   "execution_count": 24,
   "metadata": {
    "ExecuteTime": {
     "end_time": "2019-08-28T16:57:17.690908Z",
     "start_time": "2019-08-28T16:57:17.667762Z"
    }
   },
   "outputs": [
    {
     "data": {
      "text/plain": [
       "array([[0.66688871],\n",
       "       [0.76726997],\n",
       "       [0.40129769],\n",
       "       ...,\n",
       "       [0.34615451],\n",
       "       [0.73604703],\n",
       "       [1.059165  ]])"
      ]
     },
     "execution_count": 24,
     "metadata": {},
     "output_type": "execute_result"
    }
   ],
   "source": [
    "cate_t"
   ]
  },
  {
   "cell_type": "code",
   "execution_count": 25,
   "metadata": {
    "ExecuteTime": {
     "end_time": "2019-08-28T16:57:17.712341Z",
     "start_time": "2019-08-28T16:57:17.692757Z"
    }
   },
   "outputs": [
    {
     "data": {
      "text/plain": [
       "array([[ 0.18670778],\n",
       "       [ 0.27689289],\n",
       "       [-0.38532938],\n",
       "       ...,\n",
       "       [-0.10780833],\n",
       "       [-0.05583749],\n",
       "       [ 0.28756618]])"
      ]
     },
     "execution_count": 25,
     "metadata": {},
     "output_type": "execute_result"
    }
   ],
   "source": [
    "cate_t_lb"
   ]
  },
  {
   "cell_type": "code",
   "execution_count": 26,
   "metadata": {
    "ExecuteTime": {
     "end_time": "2019-08-28T16:57:17.733083Z",
     "start_time": "2019-08-28T16:57:17.714247Z"
    }
   },
   "outputs": [
    {
     "data": {
      "text/plain": [
       "array([[1.05013069],\n",
       "       [1.5060878 ],\n",
       "       [1.2316293 ],\n",
       "       ...,\n",
       "       [0.78909829],\n",
       "       [1.20617873],\n",
       "       [1.39304497]])"
      ]
     },
     "execution_count": 26,
     "metadata": {},
     "output_type": "execute_result"
    }
   ],
   "source": [
    "cate_t_ub"
   ]
  },
  {
   "cell_type": "markdown",
   "metadata": {
    "toc-hr-collapsed": false
   },
   "source": [
    "## X-Learner"
   ]
  },
  {
   "cell_type": "markdown",
   "metadata": {},
   "source": [
    "### ATE w/ Confidence Intervals"
   ]
  },
  {
   "cell_type": "markdown",
   "metadata": {},
   "source": [
    "#### With Propensity Score Input"
   ]
  },
  {
   "cell_type": "code",
   "execution_count": 5,
   "metadata": {
    "ExecuteTime": {
     "end_time": "2019-08-28T16:58:04.207807Z",
     "start_time": "2019-08-28T16:58:02.364892Z"
    }
   },
   "outputs": [
    {
     "name": "stderr",
     "output_type": "stream",
     "text": [
      "INFO:causalml:Error metrics for group treatment_a\n",
      "INFO:causalml:    RMSE   (Control):     0.9564\n",
      "INFO:causalml:    RMSE (Treatment):     0.9469\n",
      "INFO:causalml:   sMAPE   (Control):     0.8125\n",
      "INFO:causalml:   sMAPE (Treatment):     0.4689\n",
      "INFO:causalml:    Gini   (Control):     0.5060\n",
      "INFO:causalml:    Gini (Treatment):     0.5422\n"
     ]
    }
   ],
   "source": [
    "learner_x = BaseXRegressor(XGBRegressor(), control_name='control')\n",
    "ate_x, ate_x_lb, ate_x_ub = learner_x.estimate_ate(X=X, treatment=treatment, y=y, p=e)"
   ]
  },
  {
   "cell_type": "code",
   "execution_count": 6,
   "metadata": {},
   "outputs": [
    {
     "data": {
      "text/plain": [
       "array([[0.47330262],\n",
       "       [0.51089615],\n",
       "       [0.54848969]])"
      ]
     },
     "execution_count": 6,
     "metadata": {},
     "output_type": "execute_result"
    }
   ],
   "source": [
    "np.vstack((ate_x_lb, ate_x, ate_x_ub))"
   ]
  },
  {
   "cell_type": "markdown",
   "metadata": {},
   "source": [
    "#### Without Propensity Score input"
   ]
  },
  {
   "cell_type": "code",
   "execution_count": 7,
   "metadata": {
    "ExecuteTime": {
     "end_time": "2019-08-28T16:58:04.207807Z",
     "start_time": "2019-08-28T16:58:02.364892Z"
    }
   },
   "outputs": [
    {
     "name": "stderr",
     "output_type": "stream",
     "text": [
      "INFO:causalml:Generating propensity score\n",
      "INFO:causalml:Calibrating propensity scores.\n",
      "INFO:causalml:Error metrics for group treatment_a\n",
      "INFO:causalml:    RMSE   (Control):     0.9564\n",
      "INFO:causalml:    RMSE (Treatment):     0.9469\n",
      "INFO:causalml:   sMAPE   (Control):     0.8125\n",
      "INFO:causalml:   sMAPE (Treatment):     0.4689\n",
      "INFO:causalml:    Gini   (Control):     0.5060\n",
      "INFO:causalml:    Gini (Treatment):     0.5422\n"
     ]
    }
   ],
   "source": [
    "ate_x_no_p, ate_x_lb_no_p, ate_x_ub_no_p = learner_x.estimate_ate(X=X, treatment=treatment, y=y)"
   ]
  },
  {
   "cell_type": "code",
   "execution_count": 8,
   "metadata": {
    "ExecuteTime": {
     "end_time": "2019-08-28T16:58:04.232412Z",
     "start_time": "2019-08-28T16:58:04.210119Z"
    }
   },
   "outputs": [
    {
     "data": {
      "text/plain": [
       "array([[0.47805661],\n",
       "       [0.51565263],\n",
       "       [0.55324865]])"
      ]
     },
     "execution_count": 8,
     "metadata": {},
     "output_type": "execute_result"
    }
   ],
   "source": [
    "np.vstack((ate_x_lb_no_p, ate_x_no_p, ate_x_ub_no_p))"
   ]
  },
  {
   "cell_type": "code",
   "execution_count": 9,
   "metadata": {},
   "outputs": [
    {
     "data": {
      "text/plain": [
       "{'treatment_a': {'all training': ElasticNetCV(alphas=None, copy_X=True, cv=5, eps=0.001, fit_intercept=True,\n",
       "               l1_ratio=0.5, max_iter=1000, n_alphas=100, n_jobs=None,\n",
       "               normalize=False, positive=False, precompute='auto',\n",
       "               random_state=None, selection='cyclic', tol=0.0001, verbose=0)}}"
      ]
     },
     "execution_count": 9,
     "metadata": {},
     "output_type": "execute_result"
    }
   ],
   "source": [
    "learner_x.propensity_model"
   ]
  },
  {
   "cell_type": "markdown",
   "metadata": {},
   "source": [
    "### ATE w/ Boostrap Confidence Intervals"
   ]
  },
  {
   "cell_type": "markdown",
   "metadata": {},
   "source": [
    "#### With Propensity Score Input"
   ]
  },
  {
   "cell_type": "code",
   "execution_count": 10,
   "metadata": {},
   "outputs": [
    {
     "name": "stderr",
     "output_type": "stream",
     "text": [
      "INFO:causalml:Error metrics for group treatment_a\n",
      "INFO:causalml:    RMSE   (Control):     0.9564\n",
      "INFO:causalml:    RMSE (Treatment):     0.9469\n",
      "INFO:causalml:   sMAPE   (Control):     0.8125\n",
      "INFO:causalml:   sMAPE (Treatment):     0.4689\n",
      "INFO:causalml:    Gini   (Control):     0.5060\n",
      "INFO:causalml:    Gini (Treatment):     0.5422\n",
      "INFO:causalml:Bootstrap Confidence Intervals for ATE\n",
      "100%|██████████| 100/100 [01:09<00:00,  1.43it/s]\n"
     ]
    }
   ],
   "source": [
    "ate_x_b, ate_x_lb_b, ate_x_ub_b = learner_x.estimate_ate(X=X, treatment=treatment, y=y, p=e, bootstrap_ci=True,\n",
    "                                                   n_bootstraps=100, bootstrap_size=5000)"
   ]
  },
  {
   "cell_type": "code",
   "execution_count": 11,
   "metadata": {},
   "outputs": [
    {
     "data": {
      "text/plain": [
       "array([[0.45572911],\n",
       "       [0.51089615],\n",
       "       [0.58604202]])"
      ]
     },
     "execution_count": 11,
     "metadata": {},
     "output_type": "execute_result"
    }
   ],
   "source": [
    "np.vstack((ate_x_lb_b, ate_x_b, ate_x_ub_b))"
   ]
  },
  {
   "cell_type": "markdown",
   "metadata": {},
   "source": [
    "#### Without Propensity Score Input"
   ]
  },
  {
   "cell_type": "code",
   "execution_count": 12,
   "metadata": {},
   "outputs": [
    {
     "name": "stderr",
     "output_type": "stream",
     "text": [
      "INFO:causalml:Generating propensity score\n",
      "INFO:causalml:Calibrating propensity scores.\n",
      "INFO:causalml:Error metrics for group treatment_a\n",
      "INFO:causalml:    RMSE   (Control):     0.9564\n",
      "INFO:causalml:    RMSE (Treatment):     0.9469\n",
      "INFO:causalml:   sMAPE   (Control):     0.8125\n",
      "INFO:causalml:   sMAPE (Treatment):     0.4689\n",
      "INFO:causalml:    Gini   (Control):     0.5060\n",
      "INFO:causalml:    Gini (Treatment):     0.5422\n",
      "INFO:causalml:Bootstrap Confidence Intervals for ATE\n",
      "100%|██████████| 100/100 [01:06<00:00,  1.50it/s]\n"
     ]
    }
   ],
   "source": [
    "ate_x_b_no_p, ate_x_lb_b_no_p, ate_x_ub_b_no_p = learner_x.estimate_ate(X=X, treatment=treatment, y=y, bootstrap_ci=True,\n",
    "                                                   n_bootstraps=100, bootstrap_size=5000)"
   ]
  },
  {
   "cell_type": "code",
   "execution_count": 13,
   "metadata": {},
   "outputs": [
    {
     "data": {
      "text/plain": [
       "array([[0.44200236],\n",
       "       [0.51565263],\n",
       "       [0.61570334]])"
      ]
     },
     "execution_count": 13,
     "metadata": {},
     "output_type": "execute_result"
    }
   ],
   "source": [
    "np.vstack((ate_x_lb_b_no_p, ate_x_b_no_p, ate_x_ub_b_no_p))"
   ]
  },
  {
   "cell_type": "markdown",
   "metadata": {},
   "source": [
    "### CATE"
   ]
  },
  {
   "cell_type": "markdown",
   "metadata": {},
   "source": [
    "#### With Propensity Score Input"
   ]
  },
  {
   "cell_type": "code",
   "execution_count": 14,
   "metadata": {},
   "outputs": [
    {
     "name": "stderr",
     "output_type": "stream",
     "text": [
      "INFO:causalml:Generating propensity score\n",
      "INFO:causalml:Calibrating propensity scores.\n",
      "INFO:causalml:Error metrics for group treatment_a\n",
      "INFO:causalml:    RMSE   (Control):     0.9564\n",
      "INFO:causalml:    RMSE (Treatment):     0.9469\n",
      "INFO:causalml:   sMAPE   (Control):     0.8125\n",
      "INFO:causalml:   sMAPE (Treatment):     0.4689\n",
      "INFO:causalml:    Gini   (Control):     0.5060\n",
      "INFO:causalml:    Gini (Treatment):     0.5422\n"
     ]
    }
   ],
   "source": [
    "learner_x = BaseXRegressor(XGBRegressor(), control_name='control')\n",
    "cate_x = learner_x.fit_predict(X=X, treatment=treatment, y=y, p=e)"
   ]
  },
  {
   "cell_type": "code",
   "execution_count": 15,
   "metadata": {},
   "outputs": [
    {
     "data": {
      "text/plain": [
       "array([[0.64728995],\n",
       "       [0.17048343],\n",
       "       [0.59343035],\n",
       "       ...,\n",
       "       [0.36880914],\n",
       "       [0.3855286 ],\n",
       "       [0.52568257]])"
      ]
     },
     "execution_count": 15,
     "metadata": {},
     "output_type": "execute_result"
    }
   ],
   "source": [
    "cate_x"
   ]
  },
  {
   "cell_type": "markdown",
   "metadata": {},
   "source": [
    "#### Without Propensity Score Input"
   ]
  },
  {
   "cell_type": "code",
   "execution_count": 16,
   "metadata": {},
   "outputs": [
    {
     "name": "stderr",
     "output_type": "stream",
     "text": [
      "INFO:causalml:Generating propensity score\n",
      "INFO:causalml:Calibrating propensity scores.\n",
      "INFO:causalml:Error metrics for group treatment_a\n",
      "INFO:causalml:    RMSE   (Control):     0.9564\n",
      "INFO:causalml:    RMSE (Treatment):     0.9469\n",
      "INFO:causalml:   sMAPE   (Control):     0.8125\n",
      "INFO:causalml:   sMAPE (Treatment):     0.4689\n",
      "INFO:causalml:    Gini   (Control):     0.5060\n",
      "INFO:causalml:    Gini (Treatment):     0.5422\n"
     ]
    }
   ],
   "source": [
    "cate_x_no_p = learner_x.fit_predict(X=X, treatment=treatment, y=y)"
   ]
  },
  {
   "cell_type": "code",
   "execution_count": 17,
   "metadata": {},
   "outputs": [
    {
     "data": {
      "text/plain": [
       "array([[0.62232483],\n",
       "       [0.16952558],\n",
       "       [0.59285835],\n",
       "       ...,\n",
       "       [0.42491517],\n",
       "       [0.38981706],\n",
       "       [0.53986474]])"
      ]
     },
     "execution_count": 17,
     "metadata": {},
     "output_type": "execute_result"
    }
   ],
   "source": [
    "cate_x_no_p"
   ]
  },
  {
   "cell_type": "markdown",
   "metadata": {},
   "source": [
    "### CATE w/ Confidence Intervals"
   ]
  },
  {
   "cell_type": "markdown",
   "metadata": {},
   "source": [
    "#### With Propensity Score Input"
   ]
  },
  {
   "cell_type": "code",
   "execution_count": 18,
   "metadata": {
    "ExecuteTime": {
     "end_time": "2019-08-28T16:59:42.063618Z",
     "start_time": "2019-08-28T16:58:04.234446Z"
    }
   },
   "outputs": [
    {
     "name": "stderr",
     "output_type": "stream",
     "text": [
      "INFO:causalml:Generating propensity score\n",
      "INFO:causalml:Calibrating propensity scores.\n",
      "INFO:causalml:Error metrics for group treatment_a\n",
      "INFO:causalml:    RMSE   (Control):     0.9564\n",
      "INFO:causalml:    RMSE (Treatment):     0.9469\n",
      "INFO:causalml:   sMAPE   (Control):     0.8125\n",
      "INFO:causalml:   sMAPE (Treatment):     0.4689\n",
      "INFO:causalml:    Gini   (Control):     0.5060\n",
      "INFO:causalml:    Gini (Treatment):     0.5422\n",
      "INFO:causalml:Bootstrap Confidence Intervals\n",
      "100%|██████████| 100/100 [00:42<00:00,  2.33it/s]\n"
     ]
    }
   ],
   "source": [
    "learner_x = BaseXRegressor(XGBRegressor(), control_name='control')\n",
    "cate_x, cate_x_lb, cate_x_ub = learner_x.fit_predict(X=X, treatment=treatment, y=y, p=e, return_ci=True,\n",
    "                                                     n_bootstraps=100, bootstrap_size=3000)"
   ]
  },
  {
   "cell_type": "code",
   "execution_count": 19,
   "metadata": {
    "ExecuteTime": {
     "end_time": "2019-08-28T16:59:42.087796Z",
     "start_time": "2019-08-28T16:59:42.066015Z"
    }
   },
   "outputs": [
    {
     "data": {
      "text/plain": [
       "array([[0.64728995],\n",
       "       [0.17048343],\n",
       "       [0.59343035],\n",
       "       ...,\n",
       "       [0.36880914],\n",
       "       [0.3855286 ],\n",
       "       [0.52568257]])"
      ]
     },
     "execution_count": 19,
     "metadata": {},
     "output_type": "execute_result"
    }
   ],
   "source": [
    "cate_x"
   ]
  },
  {
   "cell_type": "code",
   "execution_count": 20,
   "metadata": {
    "ExecuteTime": {
     "end_time": "2019-08-28T16:59:42.108188Z",
     "start_time": "2019-08-28T16:59:42.089793Z"
    }
   },
   "outputs": [
    {
     "data": {
      "text/plain": [
       "array([[ 0.03280604],\n",
       "       [-0.33278424],\n",
       "       [-0.02845131],\n",
       "       ...,\n",
       "       [-0.04731316],\n",
       "       [-0.26152319],\n",
       "       [ 0.24651464]])"
      ]
     },
     "execution_count": 20,
     "metadata": {},
     "output_type": "execute_result"
    }
   ],
   "source": [
    "cate_x_lb"
   ]
  },
  {
   "cell_type": "code",
   "execution_count": 21,
   "metadata": {
    "ExecuteTime": {
     "end_time": "2019-08-28T16:59:42.127190Z",
     "start_time": "2019-08-28T16:59:42.109624Z"
    }
   },
   "outputs": [
    {
     "data": {
      "text/plain": [
       "array([[1.27991335],\n",
       "       [0.75833629],\n",
       "       [1.13357771],\n",
       "       ...,\n",
       "       [1.28991101],\n",
       "       [1.15443834],\n",
       "       [0.84861428]])"
      ]
     },
     "execution_count": 21,
     "metadata": {},
     "output_type": "execute_result"
    }
   ],
   "source": [
    "cate_x_ub"
   ]
  },
  {
   "cell_type": "markdown",
   "metadata": {},
   "source": [
    "#### Without Propensity Score Input"
   ]
  },
  {
   "cell_type": "code",
   "execution_count": 22,
   "metadata": {
    "ExecuteTime": {
     "end_time": "2019-08-28T16:59:42.063618Z",
     "start_time": "2019-08-28T16:58:04.234446Z"
    }
   },
   "outputs": [
    {
     "name": "stderr",
     "output_type": "stream",
     "text": [
      "INFO:causalml:Generating propensity score\n",
      "INFO:causalml:Calibrating propensity scores.\n",
      "INFO:causalml:Error metrics for group treatment_a\n",
      "INFO:causalml:    RMSE   (Control):     0.9564\n",
      "INFO:causalml:    RMSE (Treatment):     0.9469\n",
      "INFO:causalml:   sMAPE   (Control):     0.8125\n",
      "INFO:causalml:   sMAPE (Treatment):     0.4689\n",
      "INFO:causalml:    Gini   (Control):     0.5060\n",
      "INFO:causalml:    Gini (Treatment):     0.5422\n",
      "INFO:causalml:Bootstrap Confidence Intervals\n",
      "100%|██████████| 100/100 [00:38<00:00,  2.57it/s]\n"
     ]
    }
   ],
   "source": [
    "cate_x_no_p, cate_x_lb_no_p, cate_x_ub_no_p = learner_x.fit_predict(X=X, treatment=treatment, y=y, return_ci=True,\n",
    "                                                     n_bootstraps=100, bootstrap_size=3000)"
   ]
  },
  {
   "cell_type": "code",
   "execution_count": 23,
   "metadata": {
    "ExecuteTime": {
     "end_time": "2019-08-28T16:59:42.087796Z",
     "start_time": "2019-08-28T16:59:42.066015Z"
    }
   },
   "outputs": [
    {
     "data": {
      "text/plain": [
       "array([[0.62232483],\n",
       "       [0.16952558],\n",
       "       [0.59285835],\n",
       "       ...,\n",
       "       [0.42491517],\n",
       "       [0.38981706],\n",
       "       [0.53986474]])"
      ]
     },
     "execution_count": 23,
     "metadata": {},
     "output_type": "execute_result"
    }
   ],
   "source": [
    "cate_x_no_p"
   ]
  },
  {
   "cell_type": "code",
   "execution_count": 24,
   "metadata": {
    "ExecuteTime": {
     "end_time": "2019-08-28T16:59:42.108188Z",
     "start_time": "2019-08-28T16:59:42.089793Z"
    }
   },
   "outputs": [
    {
     "data": {
      "text/plain": [
       "array([[-0.03595648],\n",
       "       [-0.29159282],\n",
       "       [-0.03107661],\n",
       "       ...,\n",
       "       [ 0.01967177],\n",
       "       [-0.29421486],\n",
       "       [ 0.27304793]])"
      ]
     },
     "execution_count": 24,
     "metadata": {},
     "output_type": "execute_result"
    }
   ],
   "source": [
    "cate_x_lb_no_p"
   ]
  },
  {
   "cell_type": "code",
   "execution_count": 25,
   "metadata": {
    "ExecuteTime": {
     "end_time": "2019-08-28T16:59:42.127190Z",
     "start_time": "2019-08-28T16:59:42.109624Z"
    }
   },
   "outputs": [
    {
     "data": {
      "text/plain": [
       "array([[1.26573668],\n",
       "       [1.11053864],\n",
       "       [1.11076402],\n",
       "       ...,\n",
       "       [1.31558186],\n",
       "       [1.12093621],\n",
       "       [0.85127121]])"
      ]
     },
     "execution_count": 25,
     "metadata": {},
     "output_type": "execute_result"
    }
   ],
   "source": [
    "cate_x_ub_no_p"
   ]
  },
  {
   "cell_type": "markdown",
   "metadata": {},
   "source": [
    "## R-Learner"
   ]
  },
  {
   "cell_type": "markdown",
   "metadata": {},
   "source": [
    "### ATE w/ Confidence Intervals"
   ]
  },
  {
   "cell_type": "markdown",
   "metadata": {},
   "source": [
    "#### With Propensity Score Input"
   ]
  },
  {
   "cell_type": "code",
   "execution_count": 26,
   "metadata": {
    "ExecuteTime": {
     "end_time": "2019-08-28T16:59:46.537910Z",
     "start_time": "2019-08-28T16:59:42.128761Z"
    }
   },
   "outputs": [
    {
     "name": "stderr",
     "output_type": "stream",
     "text": [
      "INFO:causalml:generating out-of-fold CV outcome estimates\n",
      "INFO:causalml:training the treatment effect model for treatment_a with R-loss\n"
     ]
    }
   ],
   "source": [
    "learner_r = BaseRRegressor(XGBRegressor(), control_name='control')\n",
    "ate_r, ate_r_lb, ate_r_ub = learner_r.estimate_ate(X=X, treatment=treatment, y=y, p=e)"
   ]
  },
  {
   "cell_type": "code",
   "execution_count": 27,
   "metadata": {},
   "outputs": [
    {
     "data": {
      "text/plain": [
       "array([[0.48458387],\n",
       "       [0.48498996],\n",
       "       [0.48539605]])"
      ]
     },
     "execution_count": 27,
     "metadata": {},
     "output_type": "execute_result"
    }
   ],
   "source": [
    "np.vstack((ate_r_lb, ate_r, ate_r_ub))"
   ]
  },
  {
   "cell_type": "markdown",
   "metadata": {},
   "source": [
    "#### Without Propensity Score Input"
   ]
  },
  {
   "cell_type": "code",
   "execution_count": 28,
   "metadata": {
    "ExecuteTime": {
     "end_time": "2019-08-28T16:59:46.537910Z",
     "start_time": "2019-08-28T16:59:42.128761Z"
    }
   },
   "outputs": [
    {
     "name": "stderr",
     "output_type": "stream",
     "text": [
      "INFO:causalml:Generating propensity score\n",
      "INFO:causalml:Training a propensity model for CV #1\n",
      "INFO:causalml:Training a propensity model for CV #2\n",
      "INFO:causalml:Training a propensity model for CV #3\n",
      "INFO:causalml:Training a propensity model for CV #4\n",
      "INFO:causalml:Training a propensity model for CV #5\n",
      "INFO:causalml:Calibrating propensity scores.\n",
      "INFO:causalml:generating out-of-fold CV outcome estimates\n",
      "INFO:causalml:training the treatment effect model for treatment_a with R-loss\n"
     ]
    }
   ],
   "source": [
    "ate_r_no_p, ate_r_lb_no_p, ate_r_ub_no_p = learner_r.estimate_ate(X=X, treatment=treatment, y=y)"
   ]
  },
  {
   "cell_type": "code",
   "execution_count": 29,
   "metadata": {},
   "outputs": [
    {
     "data": {
      "text/plain": [
       "array([[0.45432692],\n",
       "       [0.45473318],\n",
       "       [0.45513944]])"
      ]
     },
     "execution_count": 29,
     "metadata": {},
     "output_type": "execute_result"
    }
   ],
   "source": [
    "np.vstack((ate_r_lb_no_p, ate_r_no_p, ate_r_ub_no_p))"
   ]
  },
  {
   "cell_type": "code",
   "execution_count": 30,
   "metadata": {},
   "outputs": [
    {
     "data": {
      "text/plain": [
       "{'treatment_a': {1: ElasticNetCV(alphas=None, copy_X=True, cv=5, eps=0.001, fit_intercept=True,\n",
       "               l1_ratio=0.5, max_iter=1000, n_alphas=100, n_jobs=None,\n",
       "               normalize=False, positive=False, precompute='auto',\n",
       "               random_state=None, selection='cyclic', tol=0.0001, verbose=0),\n",
       "  2: ElasticNetCV(alphas=None, copy_X=True, cv=5, eps=0.001, fit_intercept=True,\n",
       "               l1_ratio=0.5, max_iter=1000, n_alphas=100, n_jobs=None,\n",
       "               normalize=False, positive=False, precompute='auto',\n",
       "               random_state=None, selection='cyclic', tol=0.0001, verbose=0),\n",
       "  3: ElasticNetCV(alphas=None, copy_X=True, cv=5, eps=0.001, fit_intercept=True,\n",
       "               l1_ratio=0.5, max_iter=1000, n_alphas=100, n_jobs=None,\n",
       "               normalize=False, positive=False, precompute='auto',\n",
       "               random_state=None, selection='cyclic', tol=0.0001, verbose=0),\n",
       "  4: ElasticNetCV(alphas=None, copy_X=True, cv=5, eps=0.001, fit_intercept=True,\n",
       "               l1_ratio=0.5, max_iter=1000, n_alphas=100, n_jobs=None,\n",
       "               normalize=False, positive=False, precompute='auto',\n",
       "               random_state=None, selection='cyclic', tol=0.0001, verbose=0),\n",
       "  5: ElasticNetCV(alphas=None, copy_X=True, cv=5, eps=0.001, fit_intercept=True,\n",
       "               l1_ratio=0.5, max_iter=1000, n_alphas=100, n_jobs=None,\n",
       "               normalize=False, positive=False, precompute='auto',\n",
       "               random_state=None, selection='cyclic', tol=0.0001, verbose=0)}}"
      ]
     },
     "execution_count": 30,
     "metadata": {},
     "output_type": "execute_result"
    }
   ],
   "source": [
    "learner_r.propensity_model"
   ]
  },
  {
   "cell_type": "markdown",
   "metadata": {},
   "source": [
    "### ATE w/ Boostrap Confidence Intervals"
   ]
  },
  {
   "cell_type": "markdown",
   "metadata": {},
   "source": [
    "#### With Propensity Score Input"
   ]
  },
  {
   "cell_type": "code",
   "execution_count": 31,
   "metadata": {},
   "outputs": [
    {
     "name": "stderr",
     "output_type": "stream",
     "text": [
      "INFO:causalml:generating out-of-fold CV outcome estimates\n",
      "INFO:causalml:training the treatment effect model for treatment_a with R-loss\n",
      "INFO:causalml:Bootstrap Confidence Intervals for ATE\n",
      "100%|██████████| 100/100 [04:52<00:00,  2.92s/it]\n"
     ]
    }
   ],
   "source": [
    "ate_r_b, ate_r_lb_b, ate_r_ub_b = learner_r.estimate_ate(X=X, treatment=treatment, y=y, p=e, bootstrap_ci=True,\n",
    "                                                   n_bootstraps=100, bootstrap_size=5000)"
   ]
  },
  {
   "cell_type": "code",
   "execution_count": 32,
   "metadata": {},
   "outputs": [
    {
     "data": {
      "text/plain": [
       "array([[0.40313365],\n",
       "       [0.48478724],\n",
       "       [0.53264964]])"
      ]
     },
     "execution_count": 32,
     "metadata": {},
     "output_type": "execute_result"
    }
   ],
   "source": [
    "np.vstack((ate_r_lb_b, ate_r_b, ate_r_ub_b))"
   ]
  },
  {
   "cell_type": "markdown",
   "metadata": {},
   "source": [
    "#### Without Propensity Score Input"
   ]
  },
  {
   "cell_type": "code",
   "execution_count": 33,
   "metadata": {},
   "outputs": [
    {
     "name": "stderr",
     "output_type": "stream",
     "text": [
      "INFO:causalml:Generating propensity score\n",
      "INFO:causalml:Training a propensity model for CV #1\n",
      "INFO:causalml:Training a propensity model for CV #2\n",
      "INFO:causalml:Training a propensity model for CV #3\n",
      "INFO:causalml:Training a propensity model for CV #4\n",
      "INFO:causalml:Training a propensity model for CV #5\n",
      "INFO:causalml:Calibrating propensity scores.\n",
      "INFO:causalml:generating out-of-fold CV outcome estimates\n",
      "INFO:causalml:training the treatment effect model for treatment_a with R-loss\n",
      "INFO:causalml:Bootstrap Confidence Intervals for ATE\n",
      "100%|██████████| 100/100 [05:12<00:00,  3.12s/it]\n"
     ]
    }
   ],
   "source": [
    "ate_r_b_no_p, ate_r_lb_b_no_p, ate_r_ub_b_no_p = learner_r.estimate_ate(X=X, treatment=treatment, y=y, bootstrap_ci=True,\n",
    "                                                   n_bootstraps=100, bootstrap_size=5000)"
   ]
  },
  {
   "cell_type": "code",
   "execution_count": 34,
   "metadata": {},
   "outputs": [
    {
     "data": {
      "text/plain": [
       "array([[0.4026527 ],\n",
       "       [0.45171141],\n",
       "       [0.50485242]])"
      ]
     },
     "execution_count": 34,
     "metadata": {},
     "output_type": "execute_result"
    }
   ],
   "source": [
    "np.vstack((ate_r_lb_b_no_p, ate_r_b_no_p, ate_r_ub_b_no_p))"
   ]
  },
  {
   "cell_type": "markdown",
   "metadata": {},
   "source": [
    "### CATE"
   ]
  },
  {
   "cell_type": "markdown",
   "metadata": {},
   "source": [
    "#### With Propensity Score Input"
   ]
  },
  {
   "cell_type": "code",
   "execution_count": 35,
   "metadata": {
    "ExecuteTime": {
     "end_time": "2019-08-28T16:59:50.674433Z",
     "start_time": "2019-08-28T16:59:46.569040Z"
    }
   },
   "outputs": [
    {
     "name": "stderr",
     "output_type": "stream",
     "text": [
      "INFO:causalml:generating out-of-fold CV outcome estimates\n",
      "INFO:causalml:training the treatment effect model for treatment_a with R-loss\n"
     ]
    }
   ],
   "source": [
    "learner_r = BaseRRegressor(XGBRegressor(), control_name='control')\n",
    "cate_r = learner_r.fit_predict(X=X, treatment=treatment, y=y, p=e)"
   ]
  },
  {
   "cell_type": "code",
   "execution_count": 36,
   "metadata": {
    "ExecuteTime": {
     "end_time": "2019-08-28T16:59:50.699406Z",
     "start_time": "2019-08-28T16:59:50.676634Z"
    }
   },
   "outputs": [
    {
     "data": {
      "text/plain": [
       "array([[0.48475799],\n",
       "       [0.28647804],\n",
       "       [0.12903205],\n",
       "       ...,\n",
       "       [0.42580974],\n",
       "       [0.56673133],\n",
       "       [0.29184467]])"
      ]
     },
     "execution_count": 36,
     "metadata": {},
     "output_type": "execute_result"
    }
   ],
   "source": [
    "cate_r"
   ]
  },
  {
   "cell_type": "markdown",
   "metadata": {},
   "source": [
    "#### Without Propensity Score Input"
   ]
  },
  {
   "cell_type": "code",
   "execution_count": 37,
   "metadata": {
    "ExecuteTime": {
     "end_time": "2019-08-28T16:59:50.674433Z",
     "start_time": "2019-08-28T16:59:46.569040Z"
    }
   },
   "outputs": [
    {
     "name": "stderr",
     "output_type": "stream",
     "text": [
      "INFO:causalml:Generating propensity score\n",
      "INFO:causalml:Training a propensity model for CV #1\n",
      "INFO:causalml:Training a propensity model for CV #2\n",
      "INFO:causalml:Training a propensity model for CV #3\n",
      "INFO:causalml:Training a propensity model for CV #4\n",
      "INFO:causalml:Training a propensity model for CV #5\n",
      "INFO:causalml:Calibrating propensity scores.\n",
      "INFO:causalml:generating out-of-fold CV outcome estimates\n",
      "INFO:causalml:training the treatment effect model for treatment_a with R-loss\n"
     ]
    }
   ],
   "source": [
    "cate_r_no_p = learner_r.fit_predict(X=X, treatment=treatment, y=y)"
   ]
  },
  {
   "cell_type": "code",
   "execution_count": 38,
   "metadata": {
    "ExecuteTime": {
     "end_time": "2019-08-28T16:59:50.699406Z",
     "start_time": "2019-08-28T16:59:50.676634Z"
    }
   },
   "outputs": [
    {
     "data": {
      "text/plain": [
       "array([[0.45082742],\n",
       "       [0.13791132],\n",
       "       [0.18966103],\n",
       "       ...,\n",
       "       [0.30623943],\n",
       "       [0.38829881],\n",
       "       [0.23417264]])"
      ]
     },
     "execution_count": 38,
     "metadata": {},
     "output_type": "execute_result"
    }
   ],
   "source": [
    "cate_r_no_p"
   ]
  },
  {
   "cell_type": "markdown",
   "metadata": {},
   "source": [
    "### CATE w/ Confidence Intervals"
   ]
  },
  {
   "cell_type": "markdown",
   "metadata": {},
   "source": [
    "#### With Propensity Score Input"
   ]
  },
  {
   "cell_type": "code",
   "execution_count": 39,
   "metadata": {
    "ExecuteTime": {
     "end_time": "2019-08-28T17:02:05.897817Z",
     "start_time": "2019-08-28T16:59:50.701158Z"
    }
   },
   "outputs": [
    {
     "name": "stderr",
     "output_type": "stream",
     "text": [
      "INFO:causalml:generating out-of-fold CV outcome estimates\n",
      "INFO:causalml:training the treatment effect model for treatment_a with R-loss\n",
      "INFO:causalml:Bootstrap Confidence Intervals\n",
      "100%|██████████| 100/100 [04:17<00:00,  2.58s/it]\n"
     ]
    }
   ],
   "source": [
    "learner_r = BaseRRegressor(XGBRegressor(), control_name='control')\n",
    "cate_r, cate_r_lb, cate_r_ub = learner_r.fit_predict(X=X, treatment=treatment, y=y, p=e, return_ci=True,\n",
    "                                                     n_bootstraps=100, bootstrap_size=1000)"
   ]
  },
  {
   "cell_type": "code",
   "execution_count": 40,
   "metadata": {
    "ExecuteTime": {
     "end_time": "2019-08-28T17:02:05.922414Z",
     "start_time": "2019-08-28T17:02:05.899976Z"
    }
   },
   "outputs": [
    {
     "data": {
      "text/plain": [
       "array([[0.46622378],\n",
       "       [0.22024074],\n",
       "       [0.361664  ],\n",
       "       ...,\n",
       "       [0.60533887],\n",
       "       [0.50669426],\n",
       "       [0.4454833 ]])"
      ]
     },
     "execution_count": 40,
     "metadata": {},
     "output_type": "execute_result"
    }
   ],
   "source": [
    "cate_r"
   ]
  },
  {
   "cell_type": "code",
   "execution_count": 41,
   "metadata": {
    "ExecuteTime": {
     "end_time": "2019-08-28T17:02:05.945435Z",
     "start_time": "2019-08-28T17:02:05.924441Z"
    }
   },
   "outputs": [
    {
     "data": {
      "text/plain": [
       "array([[-1.52973093],\n",
       "       [-0.83430198],\n",
       "       [-0.98255617],\n",
       "       ...,\n",
       "       [-0.8227194 ],\n",
       "       [-1.63054538],\n",
       "       [-0.57822596]])"
      ]
     },
     "execution_count": 41,
     "metadata": {},
     "output_type": "execute_result"
    }
   ],
   "source": [
    "cate_r_lb"
   ]
  },
  {
   "cell_type": "code",
   "execution_count": 42,
   "metadata": {
    "ExecuteTime": {
     "end_time": "2019-08-28T17:02:05.969516Z",
     "start_time": "2019-08-28T17:02:05.947227Z"
    }
   },
   "outputs": [
    {
     "data": {
      "text/plain": [
       "array([[2.43763624],\n",
       "       [1.22944427],\n",
       "       [2.36426522],\n",
       "       ...,\n",
       "       [2.37023607],\n",
       "       [2.23915136],\n",
       "       [1.25139422]])"
      ]
     },
     "execution_count": 42,
     "metadata": {},
     "output_type": "execute_result"
    }
   ],
   "source": [
    "cate_r_ub"
   ]
  },
  {
   "cell_type": "markdown",
   "metadata": {},
   "source": [
    "#### Without Propensity Score Input"
   ]
  },
  {
   "cell_type": "code",
   "execution_count": 43,
   "metadata": {
    "ExecuteTime": {
     "end_time": "2019-08-28T17:02:05.897817Z",
     "start_time": "2019-08-28T16:59:50.701158Z"
    }
   },
   "outputs": [
    {
     "name": "stderr",
     "output_type": "stream",
     "text": [
      "INFO:causalml:Generating propensity score\n",
      "INFO:causalml:Training a propensity model for CV #1\n",
      "INFO:causalml:Training a propensity model for CV #2\n",
      "INFO:causalml:Training a propensity model for CV #3\n",
      "INFO:causalml:Training a propensity model for CV #4\n",
      "INFO:causalml:Training a propensity model for CV #5\n",
      "INFO:causalml:Calibrating propensity scores.\n",
      "INFO:causalml:generating out-of-fold CV outcome estimates\n",
      "INFO:causalml:training the treatment effect model for treatment_a with R-loss\n",
      "INFO:causalml:Bootstrap Confidence Intervals\n",
      "100%|██████████| 100/100 [04:10<00:00,  2.51s/it]\n"
     ]
    }
   ],
   "source": [
    "learner_r = BaseRRegressor(XGBRegressor(), control_name='control')\n",
    "cate_r_no_p, cate_r_lb_no_p, cate_r_ub_no_p = learner_r.fit_predict(X=X, treatment=treatment, y=y, return_ci=True,\n",
    "                                                     n_bootstraps=100, bootstrap_size=1000)"
   ]
  },
  {
   "cell_type": "code",
   "execution_count": 44,
   "metadata": {
    "ExecuteTime": {
     "end_time": "2019-08-28T17:02:05.922414Z",
     "start_time": "2019-08-28T17:02:05.899976Z"
    }
   },
   "outputs": [
    {
     "data": {
      "text/plain": [
       "array([[ 0.43110958],\n",
       "       [-0.01451093],\n",
       "       [ 0.20436364],\n",
       "       ...,\n",
       "       [ 0.31880686],\n",
       "       [ 0.36408564],\n",
       "       [ 0.15374124]])"
      ]
     },
     "execution_count": 44,
     "metadata": {},
     "output_type": "execute_result"
    }
   ],
   "source": [
    "cate_r_no_p"
   ]
  },
  {
   "cell_type": "code",
   "execution_count": 45,
   "metadata": {
    "ExecuteTime": {
     "end_time": "2019-08-28T17:02:05.945435Z",
     "start_time": "2019-08-28T17:02:05.924441Z"
    }
   },
   "outputs": [
    {
     "data": {
      "text/plain": [
       "array([[-0.93984067],\n",
       "       [-0.8046997 ],\n",
       "       [-1.65203195],\n",
       "       ...,\n",
       "       [-0.91482984],\n",
       "       [-1.06690629],\n",
       "       [-0.43497159]])"
      ]
     },
     "execution_count": 45,
     "metadata": {},
     "output_type": "execute_result"
    }
   ],
   "source": [
    "cate_r_lb_no_p"
   ]
  },
  {
   "cell_type": "code",
   "execution_count": 46,
   "metadata": {
    "ExecuteTime": {
     "end_time": "2019-08-28T17:02:05.969516Z",
     "start_time": "2019-08-28T17:02:05.947227Z"
    }
   },
   "outputs": [
    {
     "data": {
      "text/plain": [
       "array([[1.71316287],\n",
       "       [1.42615043],\n",
       "       [2.72917209],\n",
       "       ...,\n",
       "       [2.13007639],\n",
       "       [1.68160578],\n",
       "       [1.15281599]])"
      ]
     },
     "execution_count": 46,
     "metadata": {},
     "output_type": "execute_result"
    }
   ],
   "source": [
    "cate_r_ub_no_p"
   ]
  },
  {
   "cell_type": "markdown",
   "metadata": {},
   "source": [
    "# Visualize"
   ]
  },
  {
   "cell_type": "code",
   "execution_count": 46,
   "metadata": {},
   "outputs": [
    {
     "data": {
      "image/png": "[encoded data removed]",
      "text/plain": [
       "<Figure size 864x576 with 1 Axes>"
      ]
     },
     "metadata": {
      "needs_background": "light"
     },
     "output_type": "display_data"
    }
   ],
   "source": [
    "groups = learner_r._classes\n",
    "\n",
    "alpha = 1\n",
    "linewidth = 2\n",
    "bins = 30\n",
    "for group,idx in sorted(groups.items(), key=lambda x: x[1]):\n",
    "    plt.figure(figsize=(12,8))\n",
    "    plt.hist(cate_t[:,idx], alpha=alpha, bins=bins, label='T Learner ({})'.format(group),\n",
    "             histtype='step', linewidth=linewidth, density=True)\n",
    "    plt.hist(cate_x[:,idx], alpha=alpha, bins=bins, label='X Learner ({})'.format(group),\n",
    "             histtype='step', linewidth=linewidth, density=True)\n",
    "    plt.hist(cate_r[:,idx], alpha=alpha, bins=bins, label='R Learner ({})'.format(group),\n",
    "             histtype='step', linewidth=linewidth, density=True)\n",
    "    plt.hist(tau, alpha=alpha, bins=bins, label='Actual ATE distr',\n",
    "             histtype='step', linewidth=linewidth, color='green', density=True)\n",
    "    plt.vlines(cate_s[0,idx], 0, plt.axes().get_ylim()[1], label='S Learner ({})'.format(group),\n",
    "               linestyles='dotted', linewidth=linewidth)\n",
    "    plt.vlines(tau.mean(), 0, plt.axes().get_ylim()[1], label='Actual ATE',\n",
    "               linestyles='dotted', linewidth=linewidth, color='green')\n",
    "    \n",
    "    plt.title('Distribution of CATE Predictions for {}'.format(group))\n",
    "    plt.xlabel('Individual Treatment Effect (ITE/CATE)')\n",
    "    plt.ylabel('# of Samples')\n",
    "    _=plt.legend()"
   ]
  },
  {
   "cell_type": "markdown",
   "metadata": {},
   "source": [
    "---\n",
    "# Multiple Treatment Case"
   ]
  },
  {
   "cell_type": "markdown",
   "metadata": {},
   "source": [
    "### Generate synthetic data\n",
    "Note: we randomize the assignment of treatment flag AFTER the synthetic data generation process, so it doesn't make sense to measure accuracy metrics here. Next steps would be to include multi-treatment in the DGP itself."
   ]
  },
  {
   "cell_type": "code",
   "execution_count": 47,
   "metadata": {
    "ExecuteTime": {
     "end_time": "2019-08-28T17:02:06.008811Z",
     "start_time": "2019-08-28T17:02:05.971453Z"
    }
   },
   "outputs": [],
   "source": [
    "# Generate synthetic data using mode 1\n",
    "y, X, treatment, tau, b, e = synthetic_data(mode=1, n=10000, p=8, sigma=1.0)\n",
    "\n",
    "treatment = np.array([('treatment_a' if np.random.random() > 0.2 else 'treatment_b') \n",
    "                      if val==1 else 'control' for val in treatment])\n",
    "\n",
    "e = {group: e for group in np.unique(treatment)}"
   ]
  },
  {
   "cell_type": "code",
   "execution_count": 48,
   "metadata": {
    "ExecuteTime": {
     "end_time": "2019-08-28T17:02:06.036881Z",
     "start_time": "2019-08-28T17:02:06.010687Z"
    }
   },
   "outputs": [
    {
     "data": {
      "text/plain": [
       "control        4910\n",
       "treatment_a    4108\n",
       "treatment_b     982\n",
       "dtype: int64"
      ]
     },
     "execution_count": 48,
     "metadata": {},
     "output_type": "execute_result"
    }
   ],
   "source": [
    "pd.Series(treatment).value_counts()"
   ]
  },
  {
   "cell_type": "markdown",
   "metadata": {
    "toc-hr-collapsed": true
   },
   "source": [
    "## S-Learner"
   ]
  },
  {
   "cell_type": "markdown",
   "metadata": {},
   "source": [
    "### ATE"
   ]
  },
  {
   "cell_type": "code",
   "execution_count": 51,
   "metadata": {
    "ExecuteTime": {
     "end_time": "2019-08-28T16:54:40.270570Z",
     "start_time": "2019-08-28T16:54:39.325957Z"
    }
   },
   "outputs": [
    {
     "name": "stderr",
     "output_type": "stream",
     "text": [
      "INFO:causalml:Error metrics for group treatment_a\n",
      "INFO:causalml:    RMSE   (Control):     0.9708\n",
      "INFO:causalml:    RMSE (Treatment):     0.9523\n",
      "INFO:causalml:   sMAPE   (Control):     0.8388\n",
      "INFO:causalml:   sMAPE (Treatment):     0.4565\n",
      "INFO:causalml:    Gini   (Control):     0.4408\n",
      "INFO:causalml:    Gini (Treatment):     0.5081\n",
      "INFO:causalml:Error metrics for group treatment_b\n",
      "INFO:causalml:    RMSE   (Control):     0.9577\n",
      "INFO:causalml:    RMSE (Treatment):     0.9218\n",
      "INFO:causalml:   sMAPE   (Control):     0.8294\n",
      "INFO:causalml:   sMAPE (Treatment):     0.4647\n",
      "INFO:causalml:    Gini   (Control):     0.4689\n",
      "INFO:causalml:    Gini (Treatment):     0.5648\n"
     ]
    }
   ],
   "source": [
    "learner_s = BaseSRegressor(XGBRegressor(), control_name='control')\n",
    "ate_s = learner_s.estimate_ate(X=X, treatment=treatment, y=y, return_ci=False, bootstrap_ci=False)"
   ]
  },
  {
   "cell_type": "code",
   "execution_count": 52,
   "metadata": {},
   "outputs": [
    {
     "data": {
      "text/plain": [
       "array([0.62854011, 0.56932352])"
      ]
     },
     "execution_count": 52,
     "metadata": {},
     "output_type": "execute_result"
    }
   ],
   "source": [
    "ate_s"
   ]
  },
  {
   "cell_type": "code",
   "execution_count": 53,
   "metadata": {},
   "outputs": [
    {
     "data": {
      "text/plain": [
       "{'treatment_a': 0, 'treatment_b': 1}"
      ]
     },
     "execution_count": 53,
     "metadata": {},
     "output_type": "execute_result"
    }
   ],
   "source": [
    "learner_s._classes"
   ]
  },
  {
   "cell_type": "markdown",
   "metadata": {},
   "source": [
    "### ATE w/ Confidence Intervals"
   ]
  },
  {
   "cell_type": "code",
   "execution_count": 72,
   "metadata": {
    "ExecuteTime": {
     "end_time": "2019-08-28T16:55:33.490116Z",
     "start_time": "2019-08-28T16:54:40.318757Z"
    }
   },
   "outputs": [
    {
     "name": "stderr",
     "output_type": "stream",
     "text": [
      "INFO:causalml:Error metrics for group treatment_a\n",
      "INFO:causalml:    RMSE   (Control):     0.9683\n",
      "INFO:causalml:    RMSE (Treatment):     0.9677\n",
      "INFO:causalml:   sMAPE   (Control):     0.8202\n",
      "INFO:causalml:   sMAPE (Treatment):     0.4658\n",
      "INFO:causalml:    Gini   (Control):     0.4669\n",
      "INFO:causalml:    Gini (Treatment):     0.4983\n",
      "INFO:causalml:Error metrics for group treatment_b\n",
      "INFO:causalml:    RMSE   (Control):     0.9591\n",
      "INFO:causalml:    RMSE (Treatment):     0.9414\n",
      "INFO:causalml:   sMAPE   (Control):     0.8157\n",
      "INFO:causalml:   sMAPE (Treatment):     0.4572\n",
      "INFO:causalml:    Gini   (Control):     0.4849\n",
      "INFO:causalml:    Gini (Treatment):     0.5307\n"
     ]
    }
   ],
   "source": [
    "alpha = 0.05\n",
    "learner_s = BaseSRegressor(XGBRegressor(), ate_alpha=alpha, control_name='control')\n",
    "ate_s, ate_s_lb, ate_s_ub = learner_s.estimate_ate(X=X, treatment=treatment, y=y, return_ci=True,\n",
    "                                                   bootstrap_ci=False)"
   ]
  },
  {
   "cell_type": "code",
   "execution_count": 73,
   "metadata": {
    "ExecuteTime": {
     "end_time": "2019-08-28T16:55:33.516539Z",
     "start_time": "2019-08-28T16:55:33.493385Z"
    }
   },
   "outputs": [
    {
     "data": {
      "text/plain": [
       "array([[0.55780102, 0.5587663 ],\n",
       "       [0.5982267 , 0.62208197],\n",
       "       [0.63865238, 0.68539764]])"
      ]
     },
     "execution_count": 73,
     "metadata": {},
     "output_type": "execute_result"
    }
   ],
   "source": [
    "np.vstack((ate_s_lb, ate_s, ate_s_ub))"
   ]
  },
  {
   "cell_type": "markdown",
   "metadata": {},
   "source": [
    "### ATE w/ Boostrap Confidence Intervals"
   ]
  },
  {
   "cell_type": "code",
   "execution_count": 74,
   "metadata": {},
   "outputs": [
    {
     "name": "stderr",
     "output_type": "stream",
     "text": [
      "INFO:causalml:Error metrics for group treatment_a\n",
      "INFO:causalml:    RMSE   (Control):     0.9683\n",
      "INFO:causalml:    RMSE (Treatment):     0.9677\n",
      "INFO:causalml:   sMAPE   (Control):     0.8202\n",
      "INFO:causalml:   sMAPE (Treatment):     0.4658\n",
      "INFO:causalml:    Gini   (Control):     0.4669\n",
      "INFO:causalml:    Gini (Treatment):     0.4983\n",
      "INFO:causalml:Error metrics for group treatment_b\n",
      "INFO:causalml:    RMSE   (Control):     0.9591\n",
      "INFO:causalml:    RMSE (Treatment):     0.9414\n",
      "INFO:causalml:   sMAPE   (Control):     0.8157\n",
      "INFO:causalml:   sMAPE (Treatment):     0.4572\n",
      "INFO:causalml:    Gini   (Control):     0.4849\n",
      "INFO:causalml:    Gini (Treatment):     0.5307\n",
      "INFO:causalml:Bootstrap Confidence Intervals for ATE\n",
      "100%|██████████| 100/100 [00:51<00:00,  1.96it/s]\n"
     ]
    }
   ],
   "source": [
    "ate_s_b, ate_s_lb_b, ate_s_ub_b = learner_s.estimate_ate(X=X, treatment=treatment, y=y, return_ci=True,\n",
    "                                                         bootstrap_ci=True, n_bootstraps=100, bootstrap_size=5000)"
   ]
  },
  {
   "cell_type": "code",
   "execution_count": 75,
   "metadata": {},
   "outputs": [
    {
     "data": {
      "text/plain": [
       "array([[0.53158132, 0.53158132],\n",
       "       [0.5982267 , 0.62208197],\n",
       "       [0.66459518, 0.66459518]])"
      ]
     },
     "execution_count": 75,
     "metadata": {},
     "output_type": "execute_result"
    }
   ],
   "source": [
    "np.vstack((ate_s_lb_b, ate_s_b, ate_s_ub_b))"
   ]
  },
  {
   "cell_type": "markdown",
   "metadata": {},
   "source": [
    "### CATE"
   ]
  },
  {
   "cell_type": "code",
   "execution_count": 76,
   "metadata": {
    "ExecuteTime": {
     "end_time": "2019-08-28T17:03:48.825975Z",
     "start_time": "2019-08-28T17:03:47.017963Z"
    }
   },
   "outputs": [
    {
     "name": "stderr",
     "output_type": "stream",
     "text": [
      "INFO:causalml:Error metrics for group treatment_a\n",
      "INFO:causalml:    RMSE   (Control):     0.9683\n",
      "INFO:causalml:    RMSE (Treatment):     0.9677\n",
      "INFO:causalml:   sMAPE   (Control):     0.8202\n",
      "INFO:causalml:   sMAPE (Treatment):     0.4658\n",
      "INFO:causalml:    Gini   (Control):     0.4669\n",
      "INFO:causalml:    Gini (Treatment):     0.4983\n",
      "INFO:causalml:Error metrics for group treatment_b\n",
      "INFO:causalml:    RMSE   (Control):     0.9591\n",
      "INFO:causalml:    RMSE (Treatment):     0.9414\n",
      "INFO:causalml:   sMAPE   (Control):     0.8157\n",
      "INFO:causalml:   sMAPE (Treatment):     0.4572\n",
      "INFO:causalml:    Gini   (Control):     0.4849\n",
      "INFO:causalml:    Gini (Treatment):     0.5307\n"
     ]
    }
   ],
   "source": [
    "learner_s = BaseSRegressor(XGBRegressor(), control_name='control')\n",
    "cate_s = learner_s.fit_predict(X=X, treatment=treatment, y=y, return_ci=False)"
   ]
  },
  {
   "cell_type": "code",
   "execution_count": 77,
   "metadata": {
    "ExecuteTime": {
     "end_time": "2019-08-28T17:03:48.851825Z",
     "start_time": "2019-08-28T17:03:48.829969Z"
    }
   },
   "outputs": [
    {
     "data": {
      "text/plain": [
       "array([[0.34615517, 0.40926445],\n",
       "       [0.38557369, 0.40354043],\n",
       "       [0.65844643, 0.81348002],\n",
       "       ...,\n",
       "       [0.61916423, 0.83220744],\n",
       "       [0.53607059, 0.63760078],\n",
       "       [0.62724137, 0.56441128]])"
      ]
     },
     "execution_count": 77,
     "metadata": {},
     "output_type": "execute_result"
    }
   ],
   "source": [
    "cate_s"
   ]
  },
  {
   "cell_type": "markdown",
   "metadata": {},
   "source": [
    "### CATE w/ Confidence Intervals"
   ]
  },
  {
   "cell_type": "code",
   "execution_count": 78,
   "metadata": {
    "ExecuteTime": {
     "end_time": "2019-08-28T17:05:29.937192Z",
     "start_time": "2019-08-28T17:03:48.854216Z"
    }
   },
   "outputs": [
    {
     "name": "stderr",
     "output_type": "stream",
     "text": [
      "INFO:causalml:Error metrics for group treatment_a\n",
      "INFO:causalml:    RMSE   (Control):     0.9683\n",
      "INFO:causalml:    RMSE (Treatment):     0.9677\n",
      "INFO:causalml:   sMAPE   (Control):     0.8202\n",
      "INFO:causalml:   sMAPE (Treatment):     0.4658\n",
      "INFO:causalml:    Gini   (Control):     0.4669\n",
      "INFO:causalml:    Gini (Treatment):     0.4983\n",
      "INFO:causalml:Error metrics for group treatment_b\n",
      "INFO:causalml:    RMSE   (Control):     0.9591\n",
      "INFO:causalml:    RMSE (Treatment):     0.9414\n",
      "INFO:causalml:   sMAPE   (Control):     0.8157\n",
      "INFO:causalml:   sMAPE (Treatment):     0.4572\n",
      "INFO:causalml:    Gini   (Control):     0.4849\n",
      "INFO:causalml:    Gini (Treatment):     0.5307\n",
      "INFO:causalml:Bootstrap Confidence Intervals\n",
      "100%|██████████| 100/100 [00:33<00:00,  2.99it/s]\n"
     ]
    }
   ],
   "source": [
    "alpha = 0.05\n",
    "learner_s = BaseSRegressor(XGBRegressor(), ate_alpha=alpha, control_name='control')\n",
    "cate_s, cate_s_lb, cate_s_ub = learner_s.fit_predict(X=X, treatment=treatment, y=y, return_ci=True,\n",
    "                               n_bootstraps=100, bootstrap_size=3000)"
   ]
  },
  {
   "cell_type": "code",
   "execution_count": 79,
   "metadata": {
    "ExecuteTime": {
     "end_time": "2019-08-28T17:05:29.963752Z",
     "start_time": "2019-08-28T17:05:29.939496Z"
    }
   },
   "outputs": [
    {
     "data": {
      "text/plain": [
       "array([[0.34615517, 0.40926445],\n",
       "       [0.38557369, 0.40354043],\n",
       "       [0.65844643, 0.81348002],\n",
       "       ...,\n",
       "       [0.61916423, 0.83220744],\n",
       "       [0.53607059, 0.63760078],\n",
       "       [0.62724137, 0.56441128]])"
      ]
     },
     "execution_count": 79,
     "metadata": {},
     "output_type": "execute_result"
    }
   ],
   "source": [
    "cate_s"
   ]
  },
  {
   "cell_type": "code",
   "execution_count": 80,
   "metadata": {
    "ExecuteTime": {
     "end_time": "2019-08-28T17:05:29.991924Z",
     "start_time": "2019-08-28T17:05:29.966069Z"
    }
   },
   "outputs": [
    {
     "data": {
      "text/plain": [
       "array([[ 0.03391758, -0.12986364],\n",
       "       [ 0.05919364,  0.04146205],\n",
       "       [ 0.32714233,  0.23009048],\n",
       "       ...,\n",
       "       [ 0.2250985 ,  0.25903452],\n",
       "       [ 0.15557972, -0.24358657],\n",
       "       [ 0.3604196 ,  0.20320328]])"
      ]
     },
     "execution_count": 80,
     "metadata": {},
     "output_type": "execute_result"
    }
   ],
   "source": [
    "cate_s_lb"
   ]
  },
  {
   "cell_type": "code",
   "execution_count": 81,
   "metadata": {
    "ExecuteTime": {
     "end_time": "2019-08-28T17:05:30.016885Z",
     "start_time": "2019-08-28T17:05:29.993982Z"
    }
   },
   "outputs": [
    {
     "data": {
      "text/plain": [
       "array([[0.77230242, 0.8918137 ],\n",
       "       [0.59772992, 0.71897371],\n",
       "       [0.90222054, 1.03450275],\n",
       "       ...,\n",
       "       [0.86580466, 0.97754339],\n",
       "       [0.90745675, 1.1426337 ],\n",
       "       [0.92506452, 0.97297716]])"
      ]
     },
     "execution_count": 81,
     "metadata": {},
     "output_type": "execute_result"
    }
   ],
   "source": [
    "cate_s_ub"
   ]
  },
  {
   "cell_type": "markdown",
   "metadata": {
    "toc-hr-collapsed": true
   },
   "source": [
    "## T-Learner"
   ]
  },
  {
   "cell_type": "markdown",
   "metadata": {},
   "source": [
    "### ATE w/ Confidence Intervals"
   ]
  },
  {
   "cell_type": "code",
   "execution_count": 82,
   "metadata": {
    "ExecuteTime": {
     "end_time": "2019-08-28T17:05:31.952853Z",
     "start_time": "2019-08-28T17:05:30.018851Z"
    }
   },
   "outputs": [
    {
     "name": "stderr",
     "output_type": "stream",
     "text": [
      "INFO:causalml:Error metrics for group treatment_a\n",
      "INFO:causalml:    RMSE   (Control):     0.9460\n",
      "INFO:causalml:    RMSE (Treatment):     0.9320\n",
      "INFO:causalml:   sMAPE   (Control):     0.8077\n",
      "INFO:causalml:   sMAPE (Treatment):     0.4540\n",
      "INFO:causalml:    Gini   (Control):     0.5118\n",
      "INFO:causalml:    Gini (Treatment):     0.5507\n",
      "INFO:causalml:Error metrics for group treatment_b\n",
      "INFO:causalml:    RMSE   (Control):     0.9460\n",
      "INFO:causalml:    RMSE (Treatment):     0.7838\n",
      "INFO:causalml:   sMAPE   (Control):     0.8077\n",
      "INFO:causalml:   sMAPE (Treatment):     0.4056\n",
      "INFO:causalml:    Gini   (Control):     0.5118\n",
      "INFO:causalml:    Gini (Treatment):     0.7331\n"
     ]
    }
   ],
   "source": [
    "learner_t = BaseTRegressor(XGBRegressor(), control_name='control')\n",
    "ate_t, ate_t_lb, ate_t_ub = learner_t.estimate_ate(X=X, treatment=treatment, y=y)"
   ]
  },
  {
   "cell_type": "code",
   "execution_count": 83,
   "metadata": {
    "ExecuteTime": {
     "end_time": "2019-08-28T17:05:31.980649Z",
     "start_time": "2019-08-28T17:05:31.954922Z"
    }
   },
   "outputs": [
    {
     "data": {
      "text/plain": [
       "array([[0.56295977, 0.62767078],\n",
       "       [0.60261786, 0.68308432],\n",
       "       [0.64227595, 0.73849785]])"
      ]
     },
     "execution_count": 83,
     "metadata": {},
     "output_type": "execute_result"
    }
   ],
   "source": [
    "np.vstack((ate_t_lb, ate_t, ate_t_ub))"
   ]
  },
  {
   "cell_type": "markdown",
   "metadata": {},
   "source": [
    "### ATE w/ Boostrap Confidence Intervals"
   ]
  },
  {
   "cell_type": "code",
   "execution_count": 84,
   "metadata": {},
   "outputs": [
    {
     "name": "stderr",
     "output_type": "stream",
     "text": [
      "INFO:causalml:Error metrics for group treatment_a\n",
      "INFO:causalml:    RMSE   (Control):     0.9460\n",
      "INFO:causalml:    RMSE (Treatment):     0.9320\n",
      "INFO:causalml:   sMAPE   (Control):     0.8077\n",
      "INFO:causalml:   sMAPE (Treatment):     0.4540\n",
      "INFO:causalml:    Gini   (Control):     0.5118\n",
      "INFO:causalml:    Gini (Treatment):     0.5507\n",
      "INFO:causalml:Error metrics for group treatment_b\n",
      "INFO:causalml:    RMSE   (Control):     0.9460\n",
      "INFO:causalml:    RMSE (Treatment):     0.7838\n",
      "INFO:causalml:   sMAPE   (Control):     0.8077\n",
      "INFO:causalml:   sMAPE (Treatment):     0.4056\n",
      "INFO:causalml:    Gini   (Control):     0.5118\n",
      "INFO:causalml:    Gini (Treatment):     0.7331\n",
      "INFO:causalml:Bootstrap Confidence Intervals for ATE\n",
      "100%|██████████| 100/100 [00:51<00:00,  1.95it/s]\n"
     ]
    }
   ],
   "source": [
    "ate_t_b, ate_t_lb_b, ate_t_ub_b = learner_t.estimate_ate(X=X, treatment=treatment, y=y, bootstrap_ci=True,\n",
    "                                                   n_bootstraps=100, bootstrap_size=5000)"
   ]
  },
  {
   "cell_type": "code",
   "execution_count": 85,
   "metadata": {},
   "outputs": [
    {
     "data": {
      "text/plain": [
       "array([[0.57238376, 0.57238376],\n",
       "       [0.60261786, 0.68308432],\n",
       "       [0.73193772, 0.73193772]])"
      ]
     },
     "execution_count": 85,
     "metadata": {},
     "output_type": "execute_result"
    }
   ],
   "source": [
    "np.vstack((ate_t_lb_b, ate_t_b, ate_t_ub_b))"
   ]
  },
  {
   "cell_type": "markdown",
   "metadata": {},
   "source": [
    "### CATE"
   ]
  },
  {
   "cell_type": "code",
   "execution_count": 86,
   "metadata": {
    "ExecuteTime": {
     "end_time": "2019-08-28T17:05:33.912204Z",
     "start_time": "2019-08-28T17:05:31.982859Z"
    }
   },
   "outputs": [
    {
     "name": "stderr",
     "output_type": "stream",
     "text": [
      "INFO:causalml:Error metrics for group treatment_a\n",
      "INFO:causalml:    RMSE   (Control):     0.9460\n",
      "INFO:causalml:    RMSE (Treatment):     0.9320\n",
      "INFO:causalml:   sMAPE   (Control):     0.8077\n",
      "INFO:causalml:   sMAPE (Treatment):     0.4540\n",
      "INFO:causalml:    Gini   (Control):     0.5118\n",
      "INFO:causalml:    Gini (Treatment):     0.5507\n",
      "INFO:causalml:Error metrics for group treatment_b\n",
      "INFO:causalml:    RMSE   (Control):     0.9460\n",
      "INFO:causalml:    RMSE (Treatment):     0.7838\n",
      "INFO:causalml:   sMAPE   (Control):     0.8077\n",
      "INFO:causalml:   sMAPE (Treatment):     0.4056\n",
      "INFO:causalml:    Gini   (Control):     0.5118\n",
      "INFO:causalml:    Gini (Treatment):     0.7331\n"
     ]
    }
   ],
   "source": [
    "learner_t = BaseTRegressor(XGBRegressor(), control_name='control')\n",
    "cate_t = learner_t.fit_predict(X=X, treatment=treatment, y=y)"
   ]
  },
  {
   "cell_type": "code",
   "execution_count": 87,
   "metadata": {
    "ExecuteTime": {
     "end_time": "2019-08-28T17:05:33.935965Z",
     "start_time": "2019-08-28T17:05:33.914108Z"
    }
   },
   "outputs": [
    {
     "data": {
      "text/plain": [
       "array([[-0.18926954,  0.50318325],\n",
       "       [ 0.06817073,  0.32467365],\n",
       "       [ 0.70596826,  0.56913936],\n",
       "       ...,\n",
       "       [ 0.53327358,  1.0912919 ],\n",
       "       [-0.07503891,  0.70067358],\n",
       "       [ 0.77251112,  0.54821527]])"
      ]
     },
     "execution_count": 87,
     "metadata": {},
     "output_type": "execute_result"
    }
   ],
   "source": [
    "cate_t"
   ]
  },
  {
   "cell_type": "markdown",
   "metadata": {},
   "source": [
    "### CATE w/ Confidence Intervals"
   ]
  },
  {
   "cell_type": "code",
   "execution_count": 88,
   "metadata": {
    "ExecuteTime": {
     "end_time": "2019-08-28T17:07:13.985217Z",
     "start_time": "2019-08-28T17:05:33.937938Z"
    }
   },
   "outputs": [
    {
     "name": "stderr",
     "output_type": "stream",
     "text": [
      "INFO:causalml:Error metrics for group treatment_a\n",
      "INFO:causalml:    RMSE   (Control):     0.9460\n",
      "INFO:causalml:    RMSE (Treatment):     0.9320\n",
      "INFO:causalml:   sMAPE   (Control):     0.8077\n",
      "INFO:causalml:   sMAPE (Treatment):     0.4540\n",
      "INFO:causalml:    Gini   (Control):     0.5118\n",
      "INFO:causalml:    Gini (Treatment):     0.5507\n",
      "INFO:causalml:Error metrics for group treatment_b\n",
      "INFO:causalml:    RMSE   (Control):     0.9460\n",
      "INFO:causalml:    RMSE (Treatment):     0.7838\n",
      "INFO:causalml:   sMAPE   (Control):     0.8077\n",
      "INFO:causalml:   sMAPE (Treatment):     0.4056\n",
      "INFO:causalml:    Gini   (Control):     0.5118\n",
      "INFO:causalml:    Gini (Treatment):     0.7331\n",
      "INFO:causalml:Bootstrap Confidence Intervals\n",
      "100%|██████████| 100/100 [00:34<00:00,  2.91it/s]\n"
     ]
    }
   ],
   "source": [
    "learner_t = BaseTRegressor(XGBRegressor(), control_name='control')\n",
    "cate_t, cate_t_lb, cate_t_ub = learner_t.fit_predict(X=X, treatment=treatment, y=y, return_ci=True, n_bootstraps=100,\n",
    "                                                    bootstrap_size=3000)"
   ]
  },
  {
   "cell_type": "code",
   "execution_count": 89,
   "metadata": {
    "ExecuteTime": {
     "end_time": "2019-08-28T17:07:14.008298Z",
     "start_time": "2019-08-28T17:07:13.987420Z"
    }
   },
   "outputs": [
    {
     "data": {
      "text/plain": [
       "array([[-0.18926954,  0.50318325],\n",
       "       [ 0.06817073,  0.32467365],\n",
       "       [ 0.70596826,  0.56913936],\n",
       "       ...,\n",
       "       [ 0.53327358,  1.0912919 ],\n",
       "       [-0.07503891,  0.70067358],\n",
       "       [ 0.77251112,  0.54821527]])"
      ]
     },
     "execution_count": 89,
     "metadata": {},
     "output_type": "execute_result"
    }
   ],
   "source": [
    "cate_t"
   ]
  },
  {
   "cell_type": "code",
   "execution_count": 90,
   "metadata": {
    "ExecuteTime": {
     "end_time": "2019-08-28T17:07:14.028467Z",
     "start_time": "2019-08-28T17:07:14.010131Z"
    }
   },
   "outputs": [
    {
     "data": {
      "text/plain": [
       "array([[-0.59014446, -0.43322195],\n",
       "       [-0.30633765, -0.56958698],\n",
       "       [ 0.05350997, -0.35491131],\n",
       "       ...,\n",
       "       [ 0.10287107,  0.11906638],\n",
       "       [-0.37459003, -0.55257832],\n",
       "       [ 0.10846853, -0.07021846]])"
      ]
     },
     "execution_count": 90,
     "metadata": {},
     "output_type": "execute_result"
    }
   ],
   "source": [
    "cate_t_lb"
   ]
  },
  {
   "cell_type": "code",
   "execution_count": 91,
   "metadata": {
    "ExecuteTime": {
     "end_time": "2019-08-28T17:07:14.056348Z",
     "start_time": "2019-08-28T17:07:14.031558Z"
    }
   },
   "outputs": [
    {
     "data": {
      "text/plain": [
       "array([[1.20079037, 1.72227209],\n",
       "       [0.66422076, 0.98329674],\n",
       "       [1.47297974, 1.75017764],\n",
       "       ...,\n",
       "       [1.04549127, 1.41742021],\n",
       "       [0.99238015, 1.4525027 ],\n",
       "       [1.24708976, 1.50783636]])"
      ]
     },
     "execution_count": 91,
     "metadata": {},
     "output_type": "execute_result"
    }
   ],
   "source": [
    "cate_t_ub"
   ]
  },
  {
   "cell_type": "markdown",
   "metadata": {},
   "source": [
    "## X-Learner"
   ]
  },
  {
   "cell_type": "markdown",
   "metadata": {},
   "source": [
    "### ATE w/ Confidence Intervals"
   ]
  },
  {
   "cell_type": "markdown",
   "metadata": {},
   "source": [
    "#### With Propensity Score Input"
   ]
  },
  {
   "cell_type": "code",
   "execution_count": 49,
   "metadata": {
    "ExecuteTime": {
     "end_time": "2019-08-28T17:07:17.551135Z",
     "start_time": "2019-08-28T17:07:14.058200Z"
    }
   },
   "outputs": [
    {
     "name": "stderr",
     "output_type": "stream",
     "text": [
      "INFO:causalml:Error metrics for group treatment_a\n",
      "INFO:causalml:    RMSE   (Control):     0.9655\n",
      "INFO:causalml:    RMSE (Treatment):     0.9294\n",
      "INFO:causalml:   sMAPE   (Control):     0.8148\n",
      "INFO:causalml:   sMAPE (Treatment):     0.4697\n",
      "INFO:causalml:    Gini   (Control):     0.5038\n",
      "INFO:causalml:    Gini (Treatment):     0.5508\n",
      "INFO:causalml:Error metrics for group treatment_b\n",
      "INFO:causalml:    RMSE   (Control):     0.9655\n",
      "INFO:causalml:    RMSE (Treatment):     0.7757\n",
      "INFO:causalml:   sMAPE   (Control):     0.8148\n",
      "INFO:causalml:   sMAPE (Treatment):     0.4088\n",
      "INFO:causalml:    Gini   (Control):     0.5038\n",
      "INFO:causalml:    Gini (Treatment):     0.7321\n"
     ]
    }
   ],
   "source": [
    "learner_x = BaseXRegressor(XGBRegressor(), control_name='control')\n",
    "ate_x, ate_x_lb, ate_x_ub = learner_x.estimate_ate(X=X, treatment=treatment, y=y, p=e)"
   ]
  },
  {
   "cell_type": "code",
   "execution_count": 50,
   "metadata": {
    "ExecuteTime": {
     "end_time": "2019-08-28T17:07:17.574553Z",
     "start_time": "2019-08-28T17:07:17.553013Z"
    }
   },
   "outputs": [
    {
     "data": {
      "text/plain": [
       "array([[0.45610032, 0.43704002],\n",
       "       [0.49575071, 0.4932905 ],\n",
       "       [0.53540111, 0.54954098]])"
      ]
     },
     "execution_count": 50,
     "metadata": {},
     "output_type": "execute_result"
    }
   ],
   "source": [
    "np.vstack((ate_x_lb, ate_x, ate_x_ub))"
   ]
  },
  {
   "cell_type": "markdown",
   "metadata": {},
   "source": [
    "#### Without Propensity Score Input"
   ]
  },
  {
   "cell_type": "code",
   "execution_count": 51,
   "metadata": {},
   "outputs": [
    {
     "name": "stderr",
     "output_type": "stream",
     "text": [
      "INFO:causalml:Generating propensity score\n",
      "INFO:causalml:Calibrating propensity scores.\n",
      "INFO:causalml:Calibrating propensity scores.\n",
      "INFO:causalml:Error metrics for group treatment_a\n",
      "INFO:causalml:    RMSE   (Control):     0.9655\n",
      "INFO:causalml:    RMSE (Treatment):     0.9294\n",
      "INFO:causalml:   sMAPE   (Control):     0.8148\n",
      "INFO:causalml:   sMAPE (Treatment):     0.4697\n",
      "INFO:causalml:    Gini   (Control):     0.5038\n",
      "INFO:causalml:    Gini (Treatment):     0.5508\n",
      "INFO:causalml:Error metrics for group treatment_b\n",
      "INFO:causalml:    RMSE   (Control):     0.9655\n",
      "INFO:causalml:    RMSE (Treatment):     0.7757\n",
      "INFO:causalml:   sMAPE   (Control):     0.8148\n",
      "INFO:causalml:   sMAPE (Treatment):     0.4088\n",
      "INFO:causalml:    Gini   (Control):     0.5038\n",
      "INFO:causalml:    Gini (Treatment):     0.7321\n"
     ]
    }
   ],
   "source": [
    "ate_x_no_p, ate_x_lb_no_p, ate_x_ub_no_p = learner_x.estimate_ate(X=X, treatment=treatment, y=y)"
   ]
  },
  {
   "cell_type": "code",
   "execution_count": 52,
   "metadata": {},
   "outputs": [
    {
     "data": {
      "text/plain": [
       "array([[0.46658499, 0.47143892],\n",
       "       [0.5062432 , 0.52787549],\n",
       "       [0.54590141, 0.58431207]])"
      ]
     },
     "execution_count": 52,
     "metadata": {},
     "output_type": "execute_result"
    }
   ],
   "source": [
    "np.vstack((ate_x_lb_no_p, ate_x_no_p, ate_x_ub_no_p))"
   ]
  },
  {
   "cell_type": "markdown",
   "metadata": {},
   "source": [
    "### ATE w/ Boostrap Confidence Intervals"
   ]
  },
  {
   "cell_type": "markdown",
   "metadata": {},
   "source": [
    "#### With Propensity Score Input"
   ]
  },
  {
   "cell_type": "code",
   "execution_count": 53,
   "metadata": {},
   "outputs": [
    {
     "name": "stderr",
     "output_type": "stream",
     "text": [
      "INFO:causalml:Error metrics for group treatment_a\n",
      "INFO:causalml:    RMSE   (Control):     0.9655\n",
      "INFO:causalml:    RMSE (Treatment):     0.9294\n",
      "INFO:causalml:   sMAPE   (Control):     0.8148\n",
      "INFO:causalml:   sMAPE (Treatment):     0.4697\n",
      "INFO:causalml:    Gini   (Control):     0.5038\n",
      "INFO:causalml:    Gini (Treatment):     0.5508\n",
      "INFO:causalml:Error metrics for group treatment_b\n",
      "INFO:causalml:    RMSE   (Control):     0.9655\n",
      "INFO:causalml:    RMSE (Treatment):     0.7757\n",
      "INFO:causalml:   sMAPE   (Control):     0.8148\n",
      "INFO:causalml:   sMAPE (Treatment):     0.4088\n",
      "INFO:causalml:    Gini   (Control):     0.5038\n",
      "INFO:causalml:    Gini (Treatment):     0.7321\n",
      "INFO:causalml:Bootstrap Confidence Intervals for ATE\n",
      "100%|██████████| 100/100 [01:40<00:00,  1.00s/it]\n"
     ]
    }
   ],
   "source": [
    "ate_x_b, ate_x_lb_b, ate_x_ub_b = learner_x.estimate_ate(X=X, treatment=treatment, y=y, p=e, bootstrap_ci=True,\n",
    "                                                   n_bootstraps=100, bootstrap_size=5000)"
   ]
  },
  {
   "cell_type": "code",
   "execution_count": 54,
   "metadata": {},
   "outputs": [
    {
     "data": {
      "text/plain": [
       "array([[0.42925984, 0.42925984],\n",
       "       [0.49575071, 0.4932905 ],\n",
       "       [0.60437059, 0.60437059]])"
      ]
     },
     "execution_count": 54,
     "metadata": {},
     "output_type": "execute_result"
    }
   ],
   "source": [
    "np.vstack((ate_x_lb_b, ate_x_b, ate_x_ub_b))"
   ]
  },
  {
   "cell_type": "markdown",
   "metadata": {},
   "source": [
    "#### Without Propensity Score Input"
   ]
  },
  {
   "cell_type": "code",
   "execution_count": 55,
   "metadata": {},
   "outputs": [
    {
     "name": "stderr",
     "output_type": "stream",
     "text": [
      "INFO:causalml:Generating propensity score\n",
      "INFO:causalml:Calibrating propensity scores.\n",
      "INFO:causalml:Calibrating propensity scores.\n",
      "INFO:causalml:Error metrics for group treatment_a\n",
      "INFO:causalml:    RMSE   (Control):     0.9655\n",
      "INFO:causalml:    RMSE (Treatment):     0.9294\n",
      "INFO:causalml:   sMAPE   (Control):     0.8148\n",
      "INFO:causalml:   sMAPE (Treatment):     0.4697\n",
      "INFO:causalml:    Gini   (Control):     0.5038\n",
      "INFO:causalml:    Gini (Treatment):     0.5508\n",
      "INFO:causalml:Error metrics for group treatment_b\n",
      "INFO:causalml:    RMSE   (Control):     0.9655\n",
      "INFO:causalml:    RMSE (Treatment):     0.7757\n",
      "INFO:causalml:   sMAPE   (Control):     0.8148\n",
      "INFO:causalml:   sMAPE (Treatment):     0.4088\n",
      "INFO:causalml:    Gini   (Control):     0.5038\n",
      "INFO:causalml:    Gini (Treatment):     0.7321\n",
      "INFO:causalml:Bootstrap Confidence Intervals for ATE\n",
      "100%|██████████| 100/100 [01:41<00:00,  1.01s/it]\n"
     ]
    }
   ],
   "source": [
    "ate_x_b_no_p, ate_x_lb_b_no_p, ate_x_ub_b_no_p = learner_x.estimate_ate(X=X, treatment=treatment, y=y, bootstrap_ci=True,\n",
    "                                                   n_bootstraps=100, bootstrap_size=5000)"
   ]
  },
  {
   "cell_type": "code",
   "execution_count": 56,
   "metadata": {},
   "outputs": [
    {
     "data": {
      "text/plain": [
       "array([[0.44914401, 0.44914401],\n",
       "       [0.5062432 , 0.52787549],\n",
       "       [0.61806572, 0.61806572]])"
      ]
     },
     "execution_count": 56,
     "metadata": {},
     "output_type": "execute_result"
    }
   ],
   "source": [
    "np.vstack((ate_x_lb_b_no_p, ate_x_b_no_p, ate_x_ub_b_no_p))"
   ]
  },
  {
   "cell_type": "markdown",
   "metadata": {},
   "source": [
    "### CATE"
   ]
  },
  {
   "cell_type": "markdown",
   "metadata": {},
   "source": [
    "#### With Propensity Score Input"
   ]
  },
  {
   "cell_type": "code",
   "execution_count": 57,
   "metadata": {
    "ExecuteTime": {
     "end_time": "2019-08-28T17:07:21.267626Z",
     "start_time": "2019-08-28T17:07:17.576414Z"
    }
   },
   "outputs": [
    {
     "name": "stderr",
     "output_type": "stream",
     "text": [
      "INFO:causalml:Generating propensity score\n",
      "INFO:causalml:Calibrating propensity scores.\n",
      "INFO:causalml:Calibrating propensity scores.\n",
      "INFO:causalml:Error metrics for group treatment_a\n",
      "INFO:causalml:    RMSE   (Control):     0.9655\n",
      "INFO:causalml:    RMSE (Treatment):     0.9294\n",
      "INFO:causalml:   sMAPE   (Control):     0.8148\n",
      "INFO:causalml:   sMAPE (Treatment):     0.4697\n",
      "INFO:causalml:    Gini   (Control):     0.5038\n",
      "INFO:causalml:    Gini (Treatment):     0.5508\n",
      "INFO:causalml:Error metrics for group treatment_b\n",
      "INFO:causalml:    RMSE   (Control):     0.9655\n",
      "INFO:causalml:    RMSE (Treatment):     0.7757\n",
      "INFO:causalml:   sMAPE   (Control):     0.8148\n",
      "INFO:causalml:   sMAPE (Treatment):     0.4088\n",
      "INFO:causalml:    Gini   (Control):     0.5038\n",
      "INFO:causalml:    Gini (Treatment):     0.7321\n"
     ]
    }
   ],
   "source": [
    "learner_x = BaseXRegressor(XGBRegressor(), control_name='control')\n",
    "cate_x = learner_x.fit_predict(X=X, treatment=treatment, y=y, p=e)"
   ]
  },
  {
   "cell_type": "code",
   "execution_count": 58,
   "metadata": {
    "ExecuteTime": {
     "end_time": "2019-08-28T17:07:21.296233Z",
     "start_time": "2019-08-28T17:07:21.270159Z"
    }
   },
   "outputs": [
    {
     "data": {
      "text/plain": [
       "array([[ 0.23485509,  0.34020972],\n",
       "       [-0.54220046, -0.22854473],\n",
       "       [ 0.64892673,  0.6692328 ],\n",
       "       ...,\n",
       "       [-0.06127331,  0.46481089],\n",
       "       [ 0.69944974,  0.61236475],\n",
       "       [ 0.56022477,  0.51039938]])"
      ]
     },
     "execution_count": 58,
     "metadata": {},
     "output_type": "execute_result"
    }
   ],
   "source": [
    "cate_x"
   ]
  },
  {
   "cell_type": "markdown",
   "metadata": {},
   "source": [
    "#### Without Propensity Score Input"
   ]
  },
  {
   "cell_type": "code",
   "execution_count": 59,
   "metadata": {
    "ExecuteTime": {
     "end_time": "2019-08-28T17:07:21.267626Z",
     "start_time": "2019-08-28T17:07:17.576414Z"
    }
   },
   "outputs": [
    {
     "name": "stderr",
     "output_type": "stream",
     "text": [
      "INFO:causalml:Generating propensity score\n",
      "INFO:causalml:Calibrating propensity scores.\n",
      "INFO:causalml:Calibrating propensity scores.\n",
      "INFO:causalml:Error metrics for group treatment_a\n",
      "INFO:causalml:    RMSE   (Control):     0.9655\n",
      "INFO:causalml:    RMSE (Treatment):     0.9294\n",
      "INFO:causalml:   sMAPE   (Control):     0.8148\n",
      "INFO:causalml:   sMAPE (Treatment):     0.4697\n",
      "INFO:causalml:    Gini   (Control):     0.5038\n",
      "INFO:causalml:    Gini (Treatment):     0.5508\n",
      "INFO:causalml:Error metrics for group treatment_b\n",
      "INFO:causalml:    RMSE   (Control):     0.9655\n",
      "INFO:causalml:    RMSE (Treatment):     0.7757\n",
      "INFO:causalml:   sMAPE   (Control):     0.8148\n",
      "INFO:causalml:   sMAPE (Treatment):     0.4088\n",
      "INFO:causalml:    Gini   (Control):     0.5038\n",
      "INFO:causalml:    Gini (Treatment):     0.7321\n"
     ]
    }
   ],
   "source": [
    "cate_x_no_p = learner_x.fit_predict(X=X, treatment=treatment, y=y)"
   ]
  },
  {
   "cell_type": "code",
   "execution_count": 60,
   "metadata": {
    "ExecuteTime": {
     "end_time": "2019-08-28T17:07:21.296233Z",
     "start_time": "2019-08-28T17:07:21.270159Z"
    }
   },
   "outputs": [
    {
     "data": {
      "text/plain": [
       "array([[ 0.24538066,  0.52825429],\n",
       "       [-0.55448328, -0.26970306],\n",
       "       [ 0.70481063,  0.86122739],\n",
       "       ...,\n",
       "       [ 0.0378903 ,  0.4603416 ],\n",
       "       [ 0.67250272,  0.5947758 ],\n",
       "       [ 0.54894876,  0.50496594]])"
      ]
     },
     "execution_count": 60,
     "metadata": {},
     "output_type": "execute_result"
    }
   ],
   "source": [
    "cate_x_no_p"
   ]
  },
  {
   "cell_type": "markdown",
   "metadata": {},
   "source": [
    "### CATE w/ Confidence Intervals"
   ]
  },
  {
   "cell_type": "markdown",
   "metadata": {},
   "source": [
    "#### With Propensity Score Input"
   ]
  },
  {
   "cell_type": "code",
   "execution_count": 61,
   "metadata": {
    "ExecuteTime": {
     "end_time": "2019-08-28T17:10:44.269409Z",
     "start_time": "2019-08-28T17:10:28.461920Z"
    }
   },
   "outputs": [
    {
     "name": "stderr",
     "output_type": "stream",
     "text": [
      "INFO:causalml:Generating propensity score\n",
      "INFO:causalml:Calibrating propensity scores.\n",
      "INFO:causalml:Calibrating propensity scores.\n",
      "INFO:causalml:Error metrics for group treatment_a\n",
      "INFO:causalml:    RMSE   (Control):     0.9655\n",
      "INFO:causalml:    RMSE (Treatment):     0.9294\n",
      "INFO:causalml:   sMAPE   (Control):     0.8148\n",
      "INFO:causalml:   sMAPE (Treatment):     0.4697\n",
      "INFO:causalml:    Gini   (Control):     0.5038\n",
      "INFO:causalml:    Gini (Treatment):     0.5508\n",
      "INFO:causalml:Error metrics for group treatment_b\n",
      "INFO:causalml:    RMSE   (Control):     0.9655\n",
      "INFO:causalml:    RMSE (Treatment):     0.7757\n",
      "INFO:causalml:   sMAPE   (Control):     0.8148\n",
      "INFO:causalml:   sMAPE (Treatment):     0.4088\n",
      "INFO:causalml:    Gini   (Control):     0.5038\n",
      "INFO:causalml:    Gini (Treatment):     0.7321\n",
      "INFO:causalml:Bootstrap Confidence Intervals\n",
      "100%|██████████| 100/100 [00:30<00:00,  3.28it/s]\n"
     ]
    }
   ],
   "source": [
    "learner_x = BaseXRegressor(XGBRegressor(), control_name='control')\n",
    "cate_x, cate_x_lb, cate_x_ub = learner_x.fit_predict(X=X, treatment=treatment, y=y, p=e, return_ci=True,\n",
    "                                                     n_bootstraps=100, bootstrap_size=1000)"
   ]
  },
  {
   "cell_type": "code",
   "execution_count": 62,
   "metadata": {
    "ExecuteTime": {
     "end_time": "2019-08-28T17:10:44.293863Z",
     "start_time": "2019-08-28T17:10:44.271902Z"
    }
   },
   "outputs": [
    {
     "data": {
      "text/plain": [
       "{'treatment_a': 0, 'treatment_b': 1}"
      ]
     },
     "execution_count": 62,
     "metadata": {},
     "output_type": "execute_result"
    }
   ],
   "source": [
    "learner_x._classes"
   ]
  },
  {
   "cell_type": "code",
   "execution_count": 63,
   "metadata": {
    "ExecuteTime": {
     "end_time": "2019-08-28T17:10:44.314458Z",
     "start_time": "2019-08-28T17:10:44.295942Z"
    }
   },
   "outputs": [
    {
     "data": {
      "text/plain": [
       "array([[ 0.23485509,  0.34020972],\n",
       "       [-0.54220046, -0.22854473],\n",
       "       [ 0.64892673,  0.6692328 ],\n",
       "       ...,\n",
       "       [-0.06127331,  0.46481089],\n",
       "       [ 0.69944974,  0.61236475],\n",
       "       [ 0.56022477,  0.51039938]])"
      ]
     },
     "execution_count": 63,
     "metadata": {},
     "output_type": "execute_result"
    }
   ],
   "source": [
    "cate_x"
   ]
  },
  {
   "cell_type": "code",
   "execution_count": 64,
   "metadata": {
    "ExecuteTime": {
     "end_time": "2019-08-28T17:10:44.335639Z",
     "start_time": "2019-08-28T17:10:44.316422Z"
    }
   },
   "outputs": [
    {
     "data": {
      "text/plain": [
       "array([[-0.68985469, -0.90820051],\n",
       "       [-0.89942996, -1.15647117],\n",
       "       [-0.07759029, -0.13457286],\n",
       "       ...,\n",
       "       [-1.57063298, -0.65095499],\n",
       "       [-0.45222382, -0.69058035],\n",
       "       [-0.172778  , -0.36900492]])"
      ]
     },
     "execution_count": 64,
     "metadata": {},
     "output_type": "execute_result"
    }
   ],
   "source": [
    "cate_x_lb"
   ]
  },
  {
   "cell_type": "code",
   "execution_count": 65,
   "metadata": {
    "ExecuteTime": {
     "end_time": "2019-08-28T17:10:44.357615Z",
     "start_time": "2019-08-28T17:10:44.337537Z"
    }
   },
   "outputs": [
    {
     "data": {
      "text/plain": [
       "array([[1.67427426, 1.44555171],\n",
       "       [0.71914726, 1.0187736 ],\n",
       "       [1.46582848, 1.59607857],\n",
       "       ...,\n",
       "       [1.47426543, 1.77275821],\n",
       "       [2.39091008, 1.82280986],\n",
       "       [1.07427553, 1.36362469]])"
      ]
     },
     "execution_count": 65,
     "metadata": {},
     "output_type": "execute_result"
    }
   ],
   "source": [
    "cate_x_ub"
   ]
  },
  {
   "cell_type": "markdown",
   "metadata": {},
   "source": [
    "#### Without Propensity Score Input"
   ]
  },
  {
   "cell_type": "code",
   "execution_count": 66,
   "metadata": {
    "ExecuteTime": {
     "end_time": "2019-08-28T17:10:44.269409Z",
     "start_time": "2019-08-28T17:10:28.461920Z"
    }
   },
   "outputs": [
    {
     "name": "stderr",
     "output_type": "stream",
     "text": [
      "INFO:causalml:Generating propensity score\n",
      "INFO:causalml:Calibrating propensity scores.\n",
      "INFO:causalml:Calibrating propensity scores.\n",
      "INFO:causalml:Error metrics for group treatment_a\n",
      "INFO:causalml:    RMSE   (Control):     0.9655\n",
      "INFO:causalml:    RMSE (Treatment):     0.9294\n",
      "INFO:causalml:   sMAPE   (Control):     0.8148\n",
      "INFO:causalml:   sMAPE (Treatment):     0.4697\n",
      "INFO:causalml:    Gini   (Control):     0.5038\n",
      "INFO:causalml:    Gini (Treatment):     0.5508\n",
      "INFO:causalml:Error metrics for group treatment_b\n",
      "INFO:causalml:    RMSE   (Control):     0.9655\n",
      "INFO:causalml:    RMSE (Treatment):     0.7757\n",
      "INFO:causalml:   sMAPE   (Control):     0.8148\n",
      "INFO:causalml:   sMAPE (Treatment):     0.4088\n",
      "INFO:causalml:    Gini   (Control):     0.5038\n",
      "INFO:causalml:    Gini (Treatment):     0.7321\n",
      "INFO:causalml:Bootstrap Confidence Intervals\n",
      "100%|██████████| 100/100 [00:31<00:00,  3.19it/s]\n"
     ]
    }
   ],
   "source": [
    "cate_x_no_p, cate_x_lb_no_p, cate_x_ub_no_p = learner_x.fit_predict(X=X, treatment=treatment, y=y, return_ci=True,\n",
    "                                                     n_bootstraps=100, bootstrap_size=1000)"
   ]
  },
  {
   "cell_type": "code",
   "execution_count": 67,
   "metadata": {
    "ExecuteTime": {
     "end_time": "2019-08-28T17:10:44.293863Z",
     "start_time": "2019-08-28T17:10:44.271902Z"
    }
   },
   "outputs": [
    {
     "data": {
      "text/plain": [
       "{'treatment_a': 0, 'treatment_b': 1}"
      ]
     },
     "execution_count": 67,
     "metadata": {},
     "output_type": "execute_result"
    }
   ],
   "source": [
    "learner_x._classes"
   ]
  },
  {
   "cell_type": "code",
   "execution_count": 68,
   "metadata": {
    "ExecuteTime": {
     "end_time": "2019-08-28T17:10:44.314458Z",
     "start_time": "2019-08-28T17:10:44.295942Z"
    }
   },
   "outputs": [
    {
     "data": {
      "text/plain": [
       "array([[ 0.24538066,  0.52825429],\n",
       "       [-0.55448328, -0.26970306],\n",
       "       [ 0.70481063,  0.86122739],\n",
       "       ...,\n",
       "       [ 0.0378903 ,  0.4603416 ],\n",
       "       [ 0.67250272,  0.5947758 ],\n",
       "       [ 0.54894876,  0.50496594]])"
      ]
     },
     "execution_count": 68,
     "metadata": {},
     "output_type": "execute_result"
    }
   ],
   "source": [
    "cate_x_no_p"
   ]
  },
  {
   "cell_type": "code",
   "execution_count": 69,
   "metadata": {
    "ExecuteTime": {
     "end_time": "2019-08-28T17:10:44.335639Z",
     "start_time": "2019-08-28T17:10:44.316422Z"
    }
   },
   "outputs": [
    {
     "data": {
      "text/plain": [
       "array([[-0.51019995, -0.9760952 ],\n",
       "       [-0.92137106, -1.25861078],\n",
       "       [ 0.22915193, -0.23361977],\n",
       "       ...,\n",
       "       [-1.35537712, -1.11661583],\n",
       "       [-0.80456833, -0.83644243],\n",
       "       [-0.17550065, -0.57355474]])"
      ]
     },
     "execution_count": 69,
     "metadata": {},
     "output_type": "execute_result"
    }
   ],
   "source": [
    "cate_x_lb_no_p"
   ]
  },
  {
   "cell_type": "code",
   "execution_count": 70,
   "metadata": {
    "ExecuteTime": {
     "end_time": "2019-08-28T17:10:44.357615Z",
     "start_time": "2019-08-28T17:10:44.337537Z"
    }
   },
   "outputs": [
    {
     "data": {
      "text/plain": [
       "array([[1.30033429, 1.15436519],\n",
       "       [1.00197264, 1.21509172],\n",
       "       [1.68042388, 1.96692795],\n",
       "       ...,\n",
       "       [1.31858898, 2.19260638],\n",
       "       [1.71224514, 1.94443248],\n",
       "       [1.17473544, 1.68530673]])"
      ]
     },
     "execution_count": 70,
     "metadata": {},
     "output_type": "execute_result"
    }
   ],
   "source": [
    "cate_x_ub_no_p"
   ]
  },
  {
   "cell_type": "markdown",
   "metadata": {},
   "source": [
    "## R-Learner"
   ]
  },
  {
   "cell_type": "markdown",
   "metadata": {},
   "source": [
    "### ATE w/ Confidence Intervals"
   ]
  },
  {
   "cell_type": "markdown",
   "metadata": {},
   "source": [
    "#### With Propensity Score Input"
   ]
  },
  {
   "cell_type": "code",
   "execution_count": 71,
   "metadata": {
    "ExecuteTime": {
     "end_time": "2019-08-28T17:10:49.284767Z",
     "start_time": "2019-08-28T17:10:44.359479Z"
    }
   },
   "outputs": [
    {
     "name": "stderr",
     "output_type": "stream",
     "text": [
      "INFO:causalml:generating out-of-fold CV outcome estimates\n",
      "INFO:causalml:training the treatment effect model for treatment_a with R-loss\n",
      "INFO:causalml:training the treatment effect model for treatment_b with R-loss\n"
     ]
    }
   ],
   "source": [
    "learner_r = BaseRRegressor(XGBRegressor(), control_name='control')\n",
    "ate_r, ate_r_lb, ate_r_ub = learner_r.estimate_ate(X=X, treatment=treatment, y=y, p=e)"
   ]
  },
  {
   "cell_type": "code",
   "execution_count": 72,
   "metadata": {
    "ExecuteTime": {
     "end_time": "2019-08-28T17:10:49.310592Z",
     "start_time": "2019-08-28T17:10:49.286887Z"
    }
   },
   "outputs": [
    {
     "data": {
      "text/plain": [
       "array([[0.47763659, 0.50888857],\n",
       "       [0.47805162, 0.5095427 ],\n",
       "       [0.47846665, 0.51019683]])"
      ]
     },
     "execution_count": 72,
     "metadata": {},
     "output_type": "execute_result"
    }
   ],
   "source": [
    "np.vstack((ate_r_lb, ate_r, ate_r_ub))"
   ]
  },
  {
   "cell_type": "markdown",
   "metadata": {},
   "source": [
    "#### Without Propensity Score Input"
   ]
  },
  {
   "cell_type": "code",
   "execution_count": 73,
   "metadata": {
    "ExecuteTime": {
     "end_time": "2019-08-28T17:10:49.284767Z",
     "start_time": "2019-08-28T17:10:44.359479Z"
    }
   },
   "outputs": [
    {
     "name": "stderr",
     "output_type": "stream",
     "text": [
      "INFO:causalml:Generating propensity score\n",
      "INFO:causalml:Training a propensity model for CV #1\n",
      "INFO:causalml:Training a propensity model for CV #2\n",
      "INFO:causalml:Training a propensity model for CV #3\n",
      "INFO:causalml:Training a propensity model for CV #4\n",
      "INFO:causalml:Training a propensity model for CV #5\n",
      "INFO:causalml:Calibrating propensity scores.\n",
      "INFO:causalml:Training a propensity model for CV #1\n",
      "INFO:causalml:Training a propensity model for CV #2\n",
      "INFO:causalml:Training a propensity model for CV #3\n",
      "INFO:causalml:Training a propensity model for CV #4\n",
      "INFO:causalml:Training a propensity model for CV #5\n",
      "INFO:causalml:Calibrating propensity scores.\n",
      "INFO:causalml:generating out-of-fold CV outcome estimates\n",
      "INFO:causalml:training the treatment effect model for treatment_a with R-loss\n",
      "INFO:causalml:training the treatment effect model for treatment_b with R-loss\n"
     ]
    }
   ],
   "source": [
    "learner_r = BaseRRegressor(XGBRegressor(), control_name='control')\n",
    "ate_r_no_p, ate_r_lb_no_p, ate_r_ub_no_p = learner_r.estimate_ate(X=X, treatment=treatment, y=y)"
   ]
  },
  {
   "cell_type": "code",
   "execution_count": 74,
   "metadata": {
    "ExecuteTime": {
     "end_time": "2019-08-28T17:10:49.310592Z",
     "start_time": "2019-08-28T17:10:49.286887Z"
    }
   },
   "outputs": [
    {
     "data": {
      "text/plain": [
       "array([[0.46395336, 0.47914521],\n",
       "       [0.46436792, 0.47980238],\n",
       "       [0.46478248, 0.48045955]])"
      ]
     },
     "execution_count": 74,
     "metadata": {},
     "output_type": "execute_result"
    }
   ],
   "source": [
    "np.vstack((ate_r_lb_no_p, ate_r_no_p, ate_r_ub_no_p))"
   ]
  },
  {
   "cell_type": "code",
   "execution_count": 75,
   "metadata": {},
   "outputs": [
    {
     "data": {
      "text/plain": [
       "{'treatment_a': {1: ElasticNetCV(alphas=None, copy_X=True, cv=5, eps=0.001, fit_intercept=True,\n",
       "               l1_ratio=0.5, max_iter=1000, n_alphas=100, n_jobs=None,\n",
       "               normalize=False, positive=False, precompute='auto',\n",
       "               random_state=None, selection='cyclic', tol=0.0001, verbose=0),\n",
       "  2: ElasticNetCV(alphas=None, copy_X=True, cv=5, eps=0.001, fit_intercept=True,\n",
       "               l1_ratio=0.5, max_iter=1000, n_alphas=100, n_jobs=None,\n",
       "               normalize=False, positive=False, precompute='auto',\n",
       "               random_state=None, selection='cyclic', tol=0.0001, verbose=0),\n",
       "  3: ElasticNetCV(alphas=None, copy_X=True, cv=5, eps=0.001, fit_intercept=True,\n",
       "               l1_ratio=0.5, max_iter=1000, n_alphas=100, n_jobs=None,\n",
       "               normalize=False, positive=False, precompute='auto',\n",
       "               random_state=None, selection='cyclic', tol=0.0001, verbose=0),\n",
       "  4: ElasticNetCV(alphas=None, copy_X=True, cv=5, eps=0.001, fit_intercept=True,\n",
       "               l1_ratio=0.5, max_iter=1000, n_alphas=100, n_jobs=None,\n",
       "               normalize=False, positive=False, precompute='auto',\n",
       "               random_state=None, selection='cyclic', tol=0.0001, verbose=0),\n",
       "  5: ElasticNetCV(alphas=None, copy_X=True, cv=5, eps=0.001, fit_intercept=True,\n",
       "               l1_ratio=0.5, max_iter=1000, n_alphas=100, n_jobs=None,\n",
       "               normalize=False, positive=False, precompute='auto',\n",
       "               random_state=None, selection='cyclic', tol=0.0001, verbose=0)},\n",
       " 'treatment_b': {1: ElasticNetCV(alphas=None, copy_X=True, cv=5, eps=0.001, fit_intercept=True,\n",
       "               l1_ratio=0.5, max_iter=1000, n_alphas=100, n_jobs=None,\n",
       "               normalize=False, positive=False, precompute='auto',\n",
       "               random_state=None, selection='cyclic', tol=0.0001, verbose=0),\n",
       "  2: ElasticNetCV(alphas=None, copy_X=True, cv=5, eps=0.001, fit_intercept=True,\n",
       "               l1_ratio=0.5, max_iter=1000, n_alphas=100, n_jobs=None,\n",
       "               normalize=False, positive=False, precompute='auto',\n",
       "               random_state=None, selection='cyclic', tol=0.0001, verbose=0),\n",
       "  3: ElasticNetCV(alphas=None, copy_X=True, cv=5, eps=0.001, fit_intercept=True,\n",
       "               l1_ratio=0.5, max_iter=1000, n_alphas=100, n_jobs=None,\n",
       "               normalize=False, positive=False, precompute='auto',\n",
       "               random_state=None, selection='cyclic', tol=0.0001, verbose=0),\n",
       "  4: ElasticNetCV(alphas=None, copy_X=True, cv=5, eps=0.001, fit_intercept=True,\n",
       "               l1_ratio=0.5, max_iter=1000, n_alphas=100, n_jobs=None,\n",
       "               normalize=False, positive=False, precompute='auto',\n",
       "               random_state=None, selection='cyclic', tol=0.0001, verbose=0),\n",
       "  5: ElasticNetCV(alphas=None, copy_X=True, cv=5, eps=0.001, fit_intercept=True,\n",
       "               l1_ratio=0.5, max_iter=1000, n_alphas=100, n_jobs=None,\n",
       "               normalize=False, positive=False, precompute='auto',\n",
       "               random_state=None, selection='cyclic', tol=0.0001, verbose=0)}}"
      ]
     },
     "execution_count": 75,
     "metadata": {},
     "output_type": "execute_result"
    }
   ],
   "source": [
    "learner_r.propensity_model"
   ]
  },
  {
   "cell_type": "markdown",
   "metadata": {},
   "source": [
    "### ATE w/ Boostrap Confidence Intervals"
   ]
  },
  {
   "cell_type": "markdown",
   "metadata": {},
   "source": [
    "#### With Propensity Score Input"
   ]
  },
  {
   "cell_type": "code",
   "execution_count": 76,
   "metadata": {},
   "outputs": [
    {
     "name": "stderr",
     "output_type": "stream",
     "text": [
      "INFO:causalml:generating out-of-fold CV outcome estimates\n",
      "INFO:causalml:training the treatment effect model for treatment_a with R-loss\n",
      "INFO:causalml:training the treatment effect model for treatment_b with R-loss\n",
      "INFO:causalml:Bootstrap Confidence Intervals for ATE\n",
      "100%|██████████| 100/100 [04:41<00:00,  2.81s/it]\n"
     ]
    }
   ],
   "source": [
    "ate_r_b, ate_r_lb_b, ate_r_ub_b = learner_r.estimate_ate(X=X, treatment=treatment, y=y, p=e, bootstrap_ci=True,\n",
    "                                                   n_bootstraps=100, bootstrap_size=5000)"
   ]
  },
  {
   "cell_type": "code",
   "execution_count": 77,
   "metadata": {},
   "outputs": [
    {
     "data": {
      "text/plain": [
       "array([[0.42824393, 0.42824393],\n",
       "       [0.48199098, 0.52164791],\n",
       "       [0.57424706, 0.57424706]])"
      ]
     },
     "execution_count": 77,
     "metadata": {},
     "output_type": "execute_result"
    }
   ],
   "source": [
    "np.vstack((ate_r_lb_b, ate_r_b, ate_r_ub_b))"
   ]
  },
  {
   "cell_type": "markdown",
   "metadata": {},
   "source": [
    "#### Without Propensity Score Input"
   ]
  },
  {
   "cell_type": "code",
   "execution_count": 78,
   "metadata": {},
   "outputs": [
    {
     "name": "stderr",
     "output_type": "stream",
     "text": [
      "INFO:causalml:Generating propensity score\n",
      "INFO:causalml:Training a propensity model for CV #1\n",
      "INFO:causalml:Training a propensity model for CV #2\n",
      "INFO:causalml:Training a propensity model for CV #3\n",
      "INFO:causalml:Training a propensity model for CV #4\n",
      "INFO:causalml:Training a propensity model for CV #5\n",
      "INFO:causalml:Calibrating propensity scores.\n",
      "INFO:causalml:Training a propensity model for CV #1\n",
      "INFO:causalml:Training a propensity model for CV #2\n",
      "INFO:causalml:Training a propensity model for CV #3\n",
      "INFO:causalml:Training a propensity model for CV #4\n",
      "INFO:causalml:Training a propensity model for CV #5\n",
      "INFO:causalml:Calibrating propensity scores.\n",
      "INFO:causalml:generating out-of-fold CV outcome estimates\n",
      "INFO:causalml:training the treatment effect model for treatment_a with R-loss\n",
      "INFO:causalml:training the treatment effect model for treatment_b with R-loss\n",
      "INFO:causalml:Bootstrap Confidence Intervals for ATE\n",
      "100%|██████████| 100/100 [04:49<00:00,  2.90s/it]\n"
     ]
    }
   ],
   "source": [
    "learner_r = BaseRRegressor(XGBRegressor(), control_name='control')\n",
    "ate_r_b_no_p, ate_r_lb_b_no_p, ate_r_ub_b_no_p = learner_r.estimate_ate(X=X, treatment=treatment, y=y, bootstrap_ci=True,\n",
    "                                                   n_bootstraps=100, bootstrap_size=5000)"
   ]
  },
  {
   "cell_type": "code",
   "execution_count": 79,
   "metadata": {},
   "outputs": [
    {
     "data": {
      "text/plain": [
       "array([[0.41582709, 0.41582709],\n",
       "       [0.45698746, 0.48285544],\n",
       "       [0.56367815, 0.56367815]])"
      ]
     },
     "execution_count": 79,
     "metadata": {},
     "output_type": "execute_result"
    }
   ],
   "source": [
    "np.vstack((ate_r_lb_b_no_p, ate_r_b_no_p, ate_r_ub_b_no_p))"
   ]
  },
  {
   "cell_type": "markdown",
   "metadata": {},
   "source": [
    "### CATE"
   ]
  },
  {
   "cell_type": "markdown",
   "metadata": {},
   "source": [
    "#### With Propensity Score Input"
   ]
  },
  {
   "cell_type": "code",
   "execution_count": 80,
   "metadata": {
    "ExecuteTime": {
     "end_time": "2019-08-28T17:10:54.180687Z",
     "start_time": "2019-08-28T17:10:49.312419Z"
    }
   },
   "outputs": [
    {
     "name": "stderr",
     "output_type": "stream",
     "text": [
      "INFO:causalml:generating out-of-fold CV outcome estimates\n",
      "INFO:causalml:training the treatment effect model for treatment_a with R-loss\n",
      "INFO:causalml:training the treatment effect model for treatment_b with R-loss\n"
     ]
    }
   ],
   "source": [
    "learner_r = BaseRRegressor(XGBRegressor(), control_name='control')\n",
    "cate_r = learner_r.fit_predict(X=X, treatment=treatment, y=y, p=e)"
   ]
  },
  {
   "cell_type": "code",
   "execution_count": 81,
   "metadata": {
    "ExecuteTime": {
     "end_time": "2019-08-28T17:10:54.205493Z",
     "start_time": "2019-08-28T17:10:54.183676Z"
    }
   },
   "outputs": [
    {
     "data": {
      "text/plain": [
       "array([[ 0.49506277,  0.20567122],\n",
       "       [-0.14570343,  0.2070145 ],\n",
       "       [ 0.79710448,  0.54107785],\n",
       "       ...,\n",
       "       [-0.42962635,  0.35245821],\n",
       "       [ 0.62423658,  0.98146856],\n",
       "       [ 0.51859075,  0.39519885]])"
      ]
     },
     "execution_count": 81,
     "metadata": {},
     "output_type": "execute_result"
    }
   ],
   "source": [
    "cate_r"
   ]
  },
  {
   "cell_type": "markdown",
   "metadata": {},
   "source": [
    "#### Without Propensity Score Input"
   ]
  },
  {
   "cell_type": "code",
   "execution_count": 82,
   "metadata": {
    "ExecuteTime": {
     "end_time": "2019-08-28T17:10:54.180687Z",
     "start_time": "2019-08-28T17:10:49.312419Z"
    }
   },
   "outputs": [
    {
     "name": "stderr",
     "output_type": "stream",
     "text": [
      "INFO:causalml:Generating propensity score\n",
      "INFO:causalml:Training a propensity model for CV #1\n",
      "INFO:causalml:Training a propensity model for CV #2\n",
      "INFO:causalml:Training a propensity model for CV #3\n",
      "INFO:causalml:Training a propensity model for CV #4\n",
      "INFO:causalml:Training a propensity model for CV #5\n",
      "INFO:causalml:Calibrating propensity scores.\n",
      "INFO:causalml:Training a propensity model for CV #1\n",
      "INFO:causalml:Training a propensity model for CV #2\n",
      "INFO:causalml:Training a propensity model for CV #3\n",
      "INFO:causalml:Training a propensity model for CV #4\n",
      "INFO:causalml:Training a propensity model for CV #5\n",
      "INFO:causalml:Calibrating propensity scores.\n",
      "INFO:causalml:generating out-of-fold CV outcome estimates\n",
      "INFO:causalml:training the treatment effect model for treatment_a with R-loss\n",
      "INFO:causalml:training the treatment effect model for treatment_b with R-loss\n"
     ]
    }
   ],
   "source": [
    "learner_r = BaseRRegressor(XGBRegressor(), control_name='control')\n",
    "cate_r_no_p = learner_r.fit_predict(X=X, treatment=treatment, y=y)"
   ]
  },
  {
   "cell_type": "code",
   "execution_count": 83,
   "metadata": {
    "ExecuteTime": {
     "end_time": "2019-08-28T17:10:54.205493Z",
     "start_time": "2019-08-28T17:10:54.183676Z"
    }
   },
   "outputs": [
    {
     "data": {
      "text/plain": [
       "array([[ 0.61800069, -0.00788629],\n",
       "       [-0.04218817, -0.0058434 ],\n",
       "       [ 0.84054393,  0.56681579],\n",
       "       ...,\n",
       "       [-0.45959288,  0.98543644],\n",
       "       [ 0.7640394 ,  1.38348269],\n",
       "       [ 0.42351735,  0.46819562]])"
      ]
     },
     "execution_count": 83,
     "metadata": {},
     "output_type": "execute_result"
    }
   ],
   "source": [
    "cate_r_no_p"
   ]
  },
  {
   "cell_type": "markdown",
   "metadata": {},
   "source": [
    "### CATE w/ Confidence Intervals"
   ]
  },
  {
   "cell_type": "markdown",
   "metadata": {},
   "source": [
    "#### With Propensity Score Input"
   ]
  },
  {
   "cell_type": "code",
   "execution_count": 84,
   "metadata": {
    "ExecuteTime": {
     "end_time": "2019-08-28T17:11:11.660342Z",
     "start_time": "2019-08-28T17:10:54.207396Z"
    },
    "scrolled": true
   },
   "outputs": [
    {
     "name": "stderr",
     "output_type": "stream",
     "text": [
      "INFO:causalml:generating out-of-fold CV outcome estimates\n",
      "INFO:causalml:training the treatment effect model for treatment_a with R-loss\n",
      "INFO:causalml:training the treatment effect model for treatment_b with R-loss\n",
      "INFO:causalml:Bootstrap Confidence Intervals\n",
      "100%|██████████| 100/100 [03:47<00:00,  2.27s/it]\n"
     ]
    }
   ],
   "source": [
    "learner_r = BaseRRegressor(XGBRegressor(), control_name='control')\n",
    "cate_r, cate_r_lb, cate_r_ub = learner_r.fit_predict(X=X, treatment=treatment, y=y, p=e, return_ci=True,\n",
    "                                                     n_bootstraps=100, bootstrap_size=1000)"
   ]
  },
  {
   "cell_type": "code",
   "execution_count": 85,
   "metadata": {
    "ExecuteTime": {
     "end_time": "2019-08-28T17:11:11.686172Z",
     "start_time": "2019-08-28T17:11:11.662664Z"
    }
   },
   "outputs": [
    {
     "data": {
      "text/plain": [
       "array([[ 0.58448172, -0.2680496 ],\n",
       "       [-0.23571336, -0.01736015],\n",
       "       [ 0.72400343,  0.73520041],\n",
       "       ...,\n",
       "       [-0.40583944,  0.4874844 ],\n",
       "       [ 0.39553338,  0.77179897],\n",
       "       [ 0.47617459,  0.45489419]])"
      ]
     },
     "execution_count": 85,
     "metadata": {},
     "output_type": "execute_result"
    }
   ],
   "source": [
    "cate_r"
   ]
  },
  {
   "cell_type": "code",
   "execution_count": 86,
   "metadata": {
    "ExecuteTime": {
     "end_time": "2019-08-28T17:11:11.708515Z",
     "start_time": "2019-08-28T17:11:11.687930Z"
    }
   },
   "outputs": [
    {
     "data": {
      "text/plain": [
       "array([[-1.38822075, -1.40740092],\n",
       "       [-0.94426446, -0.69641187],\n",
       "       [-0.71931499, -0.98957596],\n",
       "       ...,\n",
       "       [-1.68231822, -0.71695195],\n",
       "       [-1.04645931, -1.10758416],\n",
       "       [-0.75947519, -1.42039528]])"
      ]
     },
     "execution_count": 86,
     "metadata": {},
     "output_type": "execute_result"
    }
   ],
   "source": [
    "cate_r_lb"
   ]
  },
  {
   "cell_type": "code",
   "execution_count": 87,
   "metadata": {
    "ExecuteTime": {
     "end_time": "2019-08-28T17:11:11.731734Z",
     "start_time": "2019-08-28T17:11:11.710268Z"
    }
   },
   "outputs": [
    {
     "data": {
      "text/plain": [
       "array([[1.77444212, 2.04891262],\n",
       "       [1.42491398, 1.86264497],\n",
       "       [2.59757973, 2.21219535],\n",
       "       ...,\n",
       "       [2.19243523, 2.79646381],\n",
       "       [2.885914  , 2.57060448],\n",
       "       [1.6964736 , 1.46194966]])"
      ]
     },
     "execution_count": 87,
     "metadata": {},
     "output_type": "execute_result"
    }
   ],
   "source": [
    "cate_r_ub"
   ]
  },
  {
   "cell_type": "markdown",
   "metadata": {},
   "source": [
    "#### Without Propensity Score Input"
   ]
  },
  {
   "cell_type": "code",
   "execution_count": 88,
   "metadata": {
    "ExecuteTime": {
     "end_time": "2019-08-28T17:11:11.660342Z",
     "start_time": "2019-08-28T17:10:54.207396Z"
    },
    "scrolled": true
   },
   "outputs": [
    {
     "name": "stderr",
     "output_type": "stream",
     "text": [
      "INFO:causalml:generating out-of-fold CV outcome estimates\n",
      "INFO:causalml:training the treatment effect model for treatment_a with R-loss\n",
      "INFO:causalml:training the treatment effect model for treatment_b with R-loss\n",
      "INFO:causalml:Bootstrap Confidence Intervals\n",
      "100%|██████████| 100/100 [03:46<00:00,  2.26s/it]\n"
     ]
    }
   ],
   "source": [
    "learner_r = BaseRRegressor(XGBRegressor(), control_name='control')\n",
    "cate_r_no_p, cate_r_lb_no_p, cate_r_ub_no_p = learner_r.fit_predict(X=X, treatment=treatment, y=y, p=e, return_ci=True,\n",
    "                                                     n_bootstraps=100, bootstrap_size=1000)"
   ]
  },
  {
   "cell_type": "code",
   "execution_count": 89,
   "metadata": {
    "ExecuteTime": {
     "end_time": "2019-08-28T17:11:11.686172Z",
     "start_time": "2019-08-28T17:11:11.662664Z"
    }
   },
   "outputs": [
    {
     "data": {
      "text/plain": [
       "array([[ 0.47493669,  0.47304517],\n",
       "       [-0.29426128, -0.04735339],\n",
       "       [ 0.73216939,  0.94916141],\n",
       "       ...,\n",
       "       [-0.47460735,  0.4052009 ],\n",
       "       [ 0.57141131,  0.53277904],\n",
       "       [ 0.51551974,  0.44686833]])"
      ]
     },
     "execution_count": 89,
     "metadata": {},
     "output_type": "execute_result"
    }
   ],
   "source": [
    "cate_r_no_p"
   ]
  },
  {
   "cell_type": "code",
   "execution_count": 90,
   "metadata": {
    "ExecuteTime": {
     "end_time": "2019-08-28T17:11:11.708515Z",
     "start_time": "2019-08-28T17:11:11.687930Z"
    }
   },
   "outputs": [
    {
     "data": {
      "text/plain": [
       "array([[-1.58349195, -1.88796993],\n",
       "       [-0.80328908, -1.22721922],\n",
       "       [-0.16996011, -0.7000859 ],\n",
       "       ...,\n",
       "       [-1.11082214, -0.54313161],\n",
       "       [-0.67417825, -1.26722633],\n",
       "       [-0.96193685, -0.8944903 ]])"
      ]
     },
     "execution_count": 90,
     "metadata": {},
     "output_type": "execute_result"
    }
   ],
   "source": [
    "cate_r_lb_no_p"
   ]
  },
  {
   "cell_type": "code",
   "execution_count": 91,
   "metadata": {
    "ExecuteTime": {
     "end_time": "2019-08-28T17:11:11.731734Z",
     "start_time": "2019-08-28T17:11:11.710268Z"
    }
   },
   "outputs": [
    {
     "data": {
      "text/plain": [
       "array([[2.2367514 , 2.40854006],\n",
       "       [1.31074977, 1.97296876],\n",
       "       [2.54154972, 2.85698386],\n",
       "       ...,\n",
       "       [2.08907185, 2.11179618],\n",
       "       [2.62199878, 2.25089631],\n",
       "       [1.4804768 , 1.67883015]])"
      ]
     },
     "execution_count": 91,
     "metadata": {},
     "output_type": "execute_result"
    }
   ],
   "source": [
    "cate_r_ub_no_p"
   ]
  }
 ],
 "metadata": {
  "kernelspec": {
   "display_name": "Python 3",
   "language": "python",
   "name": "python3"
  },
  "language_info": {
   "codemirror_mode": {
    "name": "ipython",
    "version": 3
   },
   "file_extension": ".py",
   "mimetype": "text/x-python",
   "name": "python",
   "nbconvert_exporter": "python",
   "pygments_lexer": "ipython3",
   "version": "3.6.9"
  },
  "toc": {
   "base_numbering": 1,
   "nav_menu": {
    "height": "174px",
    "width": "252px"
   },
   "number_sections": false,
   "sideBar": true,
   "skip_h1_title": false,
   "title_cell": "Table of Contents",
   "title_sidebar": "Contents",
   "toc_cell": false,
   "toc_position": {
    "height": "calc(100% - 180px)",
    "left": "10px",
    "top": "150px",
    "width": "203px"
   },
   "toc_section_display": "block",
   "toc_window_display": true
  }
 },
 "nbformat": 4,
 "nbformat_minor": 4
}
