{
 "cells": [
  {
   "cell_type": "markdown",
   "metadata": {},
   "source": [
    "# `causalml` - Meta-Learner Example Notebook\n",
    "This notebook only contains regression examples."
   ]
  },
  {
   "cell_type": "code",
   "execution_count": 1,
   "metadata": {},
   "outputs": [],
   "source": [
    "# pick the right base path (only run ONCE)\n",
    "import os\n",
    "base_path = os.path.abspath(\"../causalml\")\n",
    "os.chdir(base_path)"
   ]
  },
  {
   "cell_type": "code",
   "execution_count": 2,
   "metadata": {},
   "outputs": [],
   "source": [
    "%reload_ext autoreload\n",
    "%autoreload 2"
   ]
  },
  {
   "cell_type": "code",
   "execution_count": 255,
   "metadata": {},
   "outputs": [],
   "source": [
    "import pandas as pd\n",
    "import numpy as np\n",
    "from matplotlib import pyplot as plt\n",
    "from sklearn.linear_model import LinearRegression, LogisticRegression\n",
    "from sklearn.model_selection import train_test_split\n",
    "import statsmodels.api as sm\n",
    "from xgboost import XGBRegressor, XGBClassifier\n",
    "import warnings\n",
    "\n",
    "# from causalml.inference.meta import XGBTLearner, MLPTLearner\n",
    "from inference.meta import BaseSRegressor, BaseTRegressor, BaseXRegressor, BaseRRegressor\n",
    "from inference.meta import BaseSClassifier, BaseTClassifier, BaseXClassifier, BaseRClassifier\n",
    "from inference.meta import LRSRegressor\n",
    "from causalml.match import NearestNeighborMatch, MatchOptimizer, create_table_one\n",
    "from causalml.propensity import ElasticNetPropensityModel\n",
    "from causalml.dataset import *\n",
    "from causalml.metrics import *\n",
    "\n",
    "warnings.filterwarnings('ignore')\n",
    "plt.style.use('fivethirtyeight')\n",
    "pd.set_option('display.float_format', lambda x: '%.4f' % x)\n",
    "\n",
    "# imports from package\n",
    "import logging\n",
    "from sklearn.dummy import DummyRegressor\n",
    "from sklearn.metrics import mean_squared_error as mse\n",
    "from sklearn.metrics import mean_absolute_error as mae\n",
    "import statsmodels.api as sm\n",
    "from copy import deepcopy\n",
    "\n",
    "logger = logging.getLogger('causalml')\n",
    "logging.basicConfig(level=logging.INFO)\n",
    "\n",
    "%matplotlib inline"
   ]
  },
  {
   "cell_type": "markdown",
   "metadata": {},
   "source": [
    "# Single Treatment Case"
   ]
  },
  {
   "cell_type": "markdown",
   "metadata": {},
   "source": [
    "### Generate synthetic data"
   ]
  },
  {
   "cell_type": "code",
   "execution_count": 97,
   "metadata": {},
   "outputs": [],
   "source": [
    "# Generate synthetic data using mode 1\n",
    "y, X, treatment, tau, b, e = synthetic_data(mode=1, n=10000, p=8, sigma=1.0)\n",
    "\n",
    "treatment = np.array(['treatment_a' if val==1 else 'control' for val in treatment])"
   ]
  },
  {
   "cell_type": "markdown",
   "metadata": {},
   "source": [
    "## S-Learner"
   ]
  },
  {
   "cell_type": "markdown",
   "metadata": {},
   "source": [
    "### ATE"
   ]
  },
  {
   "cell_type": "code",
   "execution_count": 98,
   "metadata": {},
   "outputs": [
    {
     "name": "stderr",
     "output_type": "stream",
     "text": [
      "INFO:causalml:Error metrics for treatment_a\n",
      "INFO:causalml:RMSE (Control): 0.958908\n",
      "INFO:causalml: MAE (Control): 0.763500\n",
      "INFO:causalml:RMSE (Treatment): 0.962411\n",
      "INFO:causalml: MAE (Treatment): 0.765833\n"
     ]
    }
   ],
   "source": [
    "learner_s = BaseSRegressor(XGBRegressor(), control_name='control')\n",
    "ate_s = learner_s.estimate_ate(X=X, treatment=treatment, y=y, return_ci=False)"
   ]
  },
  {
   "cell_type": "code",
   "execution_count": 99,
   "metadata": {},
   "outputs": [
    {
     "data": {
      "text/plain": [
       "array([0.55668548])"
      ]
     },
     "execution_count": 99,
     "metadata": {},
     "output_type": "execute_result"
    }
   ],
   "source": [
    "ate_s"
   ]
  },
  {
   "cell_type": "code",
   "execution_count": 100,
   "metadata": {},
   "outputs": [
    {
     "data": {
      "text/plain": [
       "{'treatment_a': 0}"
      ]
     },
     "execution_count": 100,
     "metadata": {},
     "output_type": "execute_result"
    }
   ],
   "source": [
    "learner_s._classes"
   ]
  },
  {
   "cell_type": "markdown",
   "metadata": {},
   "source": [
    "### ATE w/ Confidence Intervals"
   ]
  },
  {
   "cell_type": "code",
   "execution_count": 103,
   "metadata": {},
   "outputs": [
    {
     "name": "stderr",
     "output_type": "stream",
     "text": [
      "INFO:causalml:Error metrics for treatment_a\n",
      "INFO:causalml:RMSE (Control): 0.958908\n",
      "INFO:causalml: MAE (Control): 0.763500\n",
      "INFO:causalml:RMSE (Treatment): 0.962411\n",
      "INFO:causalml: MAE (Treatment): 0.765833\n",
      "INFO:causalml:11/100 bootstraps completed. (3s lapsed)\n",
      "INFO:causalml:21/100 bootstraps completed. (5s lapsed)\n",
      "INFO:causalml:31/100 bootstraps completed. (8s lapsed)\n",
      "INFO:causalml:41/100 bootstraps completed. (11s lapsed)\n",
      "INFO:causalml:51/100 bootstraps completed. (14s lapsed)\n",
      "INFO:causalml:61/100 bootstraps completed. (17s lapsed)\n",
      "INFO:causalml:71/100 bootstraps completed. (20s lapsed)\n",
      "INFO:causalml:81/100 bootstraps completed. (22s lapsed)\n",
      "INFO:causalml:91/100 bootstraps completed. (25s lapsed)\n"
     ]
    }
   ],
   "source": [
    "alpha = 0.05\n",
    "learner_s = BaseSRegressor(XGBRegressor(), ate_alpha=alpha, control_name='control')\n",
    "ate_s, ate_s_lb, ate_s_ub = learner_s.estimate_ate(X=X, treatment=treatment, y=y, return_ci=True,\n",
    "                               n_bootstraps=100, bootstrap_size=5000)"
   ]
  },
  {
   "cell_type": "code",
   "execution_count": 104,
   "metadata": {},
   "outputs": [
    {
     "data": {
      "text/plain": [
       "array([[0.32128951],\n",
       "       [0.55668548],\n",
       "       [0.77378568]])"
      ]
     },
     "execution_count": 104,
     "metadata": {},
     "output_type": "execute_result"
    }
   ],
   "source": [
    "np.vstack((ate_s_lb, ate_s, ate_s_ub))"
   ]
  },
  {
   "cell_type": "markdown",
   "metadata": {},
   "source": [
    "### CATE"
   ]
  },
  {
   "cell_type": "code",
   "execution_count": 105,
   "metadata": {},
   "outputs": [
    {
     "name": "stderr",
     "output_type": "stream",
     "text": [
      "INFO:causalml:Error metrics for treatment_a\n",
      "INFO:causalml:RMSE (Control): 0.958908\n",
      "INFO:causalml: MAE (Control): 0.763500\n",
      "INFO:causalml:RMSE (Treatment): 0.962411\n",
      "INFO:causalml: MAE (Treatment): 0.765833\n"
     ]
    }
   ],
   "source": [
    "learner_s = BaseSRegressor(XGBRegressor(), control_name='control')\n",
    "cate_s = learner_s.fit_predict(X=X, treatment=treatment, y=y, return_ci=False)"
   ]
  },
  {
   "cell_type": "code",
   "execution_count": 106,
   "metadata": {},
   "outputs": [
    {
     "data": {
      "text/plain": [
       "array([[0.03796911],\n",
       "       [0.69114912],\n",
       "       [0.05045927],\n",
       "       ...,\n",
       "       [0.0114069 ],\n",
       "       [0.78504539],\n",
       "       [0.54530191]])"
      ]
     },
     "execution_count": 106,
     "metadata": {},
     "output_type": "execute_result"
    }
   ],
   "source": [
    "cate_s"
   ]
  },
  {
   "cell_type": "markdown",
   "metadata": {},
   "source": [
    "### CATE w/ Confidence Intervals"
   ]
  },
  {
   "cell_type": "code",
   "execution_count": 107,
   "metadata": {},
   "outputs": [
    {
     "name": "stderr",
     "output_type": "stream",
     "text": [
      "INFO:causalml:Error metrics for treatment_a\n",
      "INFO:causalml:RMSE (Control): 0.958908\n",
      "INFO:causalml: MAE (Control): 0.763500\n",
      "INFO:causalml:RMSE (Treatment): 0.962411\n",
      "INFO:causalml: MAE (Treatment): 0.765833\n",
      "INFO:causalml:11/100 bootstraps completed. (3s lapsed)\n",
      "INFO:causalml:21/100 bootstraps completed. (5s lapsed)\n",
      "INFO:causalml:31/100 bootstraps completed. (8s lapsed)\n",
      "INFO:causalml:41/100 bootstraps completed. (11s lapsed)\n",
      "INFO:causalml:51/100 bootstraps completed. (14s lapsed)\n",
      "INFO:causalml:61/100 bootstraps completed. (16s lapsed)\n",
      "INFO:causalml:71/100 bootstraps completed. (19s lapsed)\n",
      "INFO:causalml:81/100 bootstraps completed. (22s lapsed)\n",
      "INFO:causalml:91/100 bootstraps completed. (25s lapsed)\n"
     ]
    }
   ],
   "source": [
    "alpha = 0.05\n",
    "learner_s = BaseSRegressor(XGBRegressor(), ate_alpha=alpha, control_name='control')\n",
    "cate_s, cate_s_lb, cate_s_ub = learner_s.fit_predict(X=X, treatment=treatment, y=y, return_ci=True,\n",
    "                               n_bootstraps=100, bootstrap_size=5000)"
   ]
  },
  {
   "cell_type": "code",
   "execution_count": 108,
   "metadata": {},
   "outputs": [
    {
     "data": {
      "text/plain": [
       "array([[0.03796911],\n",
       "       [0.69114912],\n",
       "       [0.05045927],\n",
       "       ...,\n",
       "       [0.0114069 ],\n",
       "       [0.78504539],\n",
       "       [0.54530191]])"
      ]
     },
     "execution_count": 108,
     "metadata": {},
     "output_type": "execute_result"
    }
   ],
   "source": [
    "cate_s"
   ]
  },
  {
   "cell_type": "code",
   "execution_count": 109,
   "metadata": {},
   "outputs": [
    {
     "data": {
      "text/plain": [
       "array([[-0.14735703],\n",
       "       [ 0.54512397],\n",
       "       [-0.13866318],\n",
       "       ...,\n",
       "       [-0.23455577],\n",
       "       [ 0.52985432],\n",
       "       [ 0.27041314]])"
      ]
     },
     "execution_count": 109,
     "metadata": {},
     "output_type": "execute_result"
    }
   ],
   "source": [
    "cate_s_lb"
   ]
  },
  {
   "cell_type": "code",
   "execution_count": 110,
   "metadata": {},
   "outputs": [
    {
     "data": {
      "text/plain": [
       "array([[0.24406555],\n",
       "       [0.91976507],\n",
       "       [0.47135236],\n",
       "       ...,\n",
       "       [0.45338835],\n",
       "       [0.88356948],\n",
       "       [0.8016798 ]])"
      ]
     },
     "execution_count": 110,
     "metadata": {},
     "output_type": "execute_result"
    }
   ],
   "source": [
    "cate_s_ub"
   ]
  },
  {
   "cell_type": "markdown",
   "metadata": {},
   "source": [
    "## T-Learner"
   ]
  },
  {
   "cell_type": "markdown",
   "metadata": {},
   "source": [
    "### ATE w/ Confidence Intervals"
   ]
  },
  {
   "cell_type": "code",
   "execution_count": 111,
   "metadata": {},
   "outputs": [
    {
     "name": "stderr",
     "output_type": "stream",
     "text": [
      "INFO:causalml:Error metrics for treatment_a\n",
      "INFO:causalml:RMSE (Control): 0.929569\n",
      "INFO:causalml: MAE (Control): 0.739058\n",
      "INFO:causalml:RMSE (Treatment): 0.927878\n",
      "INFO:causalml: MAE (Treatment): 0.737494\n"
     ]
    }
   ],
   "source": [
    "learner_t = BaseTRegressor(XGBRegressor(), control_name='control')\n",
    "ate_t, ate_t_lb, ate_t_ub = learner_t.estimate_ate(X=X, treatment=treatment, y=y)"
   ]
  },
  {
   "cell_type": "code",
   "execution_count": 159,
   "metadata": {},
   "outputs": [
    {
     "data": {
      "text/plain": [
       "array([[0.50665447],\n",
       "       [0.54399855],\n",
       "       [0.58134264]])"
      ]
     },
     "execution_count": 159,
     "metadata": {},
     "output_type": "execute_result"
    }
   ],
   "source": [
    "np.vstack((ate_t_lb, ate_t, ate_t_ub))"
   ]
  },
  {
   "cell_type": "markdown",
   "metadata": {},
   "source": [
    "### CATE"
   ]
  },
  {
   "cell_type": "code",
   "execution_count": 115,
   "metadata": {},
   "outputs": [
    {
     "name": "stderr",
     "output_type": "stream",
     "text": [
      "INFO:causalml:Error metrics for treatment_a\n",
      "INFO:causalml:RMSE (Control): 0.929569\n",
      "INFO:causalml: MAE (Control): 0.739058\n",
      "INFO:causalml:RMSE (Treatment): 0.927878\n",
      "INFO:causalml: MAE (Treatment): 0.737494\n"
     ]
    }
   ],
   "source": [
    "learner_t = BaseTRegressor(XGBRegressor(), control_name='control')\n",
    "cate_t = learner_t.fit_predict(X=X, treatment=treatment, y=y)"
   ]
  },
  {
   "cell_type": "code",
   "execution_count": 116,
   "metadata": {},
   "outputs": [
    {
     "data": {
      "text/plain": [
       "array([[-0.38664007],\n",
       "       [ 0.87922645],\n",
       "       [-0.00171328],\n",
       "       ...,\n",
       "       [ 0.43162906],\n",
       "       [ 0.9598496 ],\n",
       "       [ 0.50931144]])"
      ]
     },
     "execution_count": 116,
     "metadata": {},
     "output_type": "execute_result"
    }
   ],
   "source": [
    "cate_t"
   ]
  },
  {
   "cell_type": "markdown",
   "metadata": {},
   "source": [
    "### CATE w/ Confidence Intervals"
   ]
  },
  {
   "cell_type": "code",
   "execution_count": 117,
   "metadata": {},
   "outputs": [
    {
     "name": "stderr",
     "output_type": "stream",
     "text": [
      "INFO:causalml:Error metrics for treatment_a\n",
      "INFO:causalml:RMSE (Control): 0.929569\n",
      "INFO:causalml: MAE (Control): 0.739058\n",
      "INFO:causalml:RMSE (Treatment): 0.927878\n",
      "INFO:causalml: MAE (Treatment): 0.737494\n",
      "INFO:causalml:10/100 bootstraps completed. (3s lapsed)\n",
      "INFO:causalml:20/100 bootstraps completed. (6s lapsed)\n",
      "INFO:causalml:30/100 bootstraps completed. (8s lapsed)\n",
      "INFO:causalml:40/100 bootstraps completed. (11s lapsed)\n",
      "INFO:causalml:50/100 bootstraps completed. (14s lapsed)\n",
      "INFO:causalml:60/100 bootstraps completed. (17s lapsed)\n",
      "INFO:causalml:70/100 bootstraps completed. (20s lapsed)\n",
      "INFO:causalml:80/100 bootstraps completed. (23s lapsed)\n",
      "INFO:causalml:90/100 bootstraps completed. (25s lapsed)\n"
     ]
    }
   ],
   "source": [
    "learner_t = BaseTRegressor(XGBRegressor(), control_name='control')\n",
    "cate_t, cate_t_lb, cate_t_ub = learner_t.fit_predict(X=X, treatment=treatment, y=y, return_ci=True, n_bootstraps=100,\n",
    "                                                    bootstrap_size=5000)"
   ]
  },
  {
   "cell_type": "code",
   "execution_count": 119,
   "metadata": {},
   "outputs": [
    {
     "data": {
      "text/plain": [
       "array([[-0.38664007],\n",
       "       [ 0.87922645],\n",
       "       [-0.00171328],\n",
       "       ...,\n",
       "       [ 0.43162906],\n",
       "       [ 0.9598496 ],\n",
       "       [ 0.50931144]])"
      ]
     },
     "execution_count": 119,
     "metadata": {},
     "output_type": "execute_result"
    }
   ],
   "source": [
    "cate_t"
   ]
  },
  {
   "cell_type": "code",
   "execution_count": 120,
   "metadata": {},
   "outputs": [
    {
     "data": {
      "text/plain": [
       "array([[-1.10967693],\n",
       "       [ 0.61126621],\n",
       "       [-0.74953743],\n",
       "       ...,\n",
       "       [-0.79142535],\n",
       "       [ 0.51201607],\n",
       "       [-0.5868047 ]])"
      ]
     },
     "execution_count": 120,
     "metadata": {},
     "output_type": "execute_result"
    }
   ],
   "source": [
    "cate_t_lb"
   ]
  },
  {
   "cell_type": "code",
   "execution_count": 121,
   "metadata": {},
   "outputs": [
    {
     "data": {
      "text/plain": [
       "array([[0.15802083],\n",
       "       [1.22920619],\n",
       "       [0.58200101],\n",
       "       ...,\n",
       "       [1.52186333],\n",
       "       [1.2845089 ],\n",
       "       [0.95881709]])"
      ]
     },
     "execution_count": 121,
     "metadata": {},
     "output_type": "execute_result"
    }
   ],
   "source": [
    "cate_t_ub"
   ]
  },
  {
   "cell_type": "markdown",
   "metadata": {},
   "source": [
    "## X-Learner"
   ]
  },
  {
   "cell_type": "markdown",
   "metadata": {},
   "source": [
    "### ATE w/ Confidence Intervals"
   ]
  },
  {
   "cell_type": "code",
   "execution_count": 144,
   "metadata": {},
   "outputs": [
    {
     "data": {
      "text/plain": [
       "array(['treatment_a'], dtype='<U11')"
      ]
     },
     "execution_count": 144,
     "metadata": {},
     "output_type": "execute_result"
    }
   ],
   "source": [
    "learner_x.t_groups"
   ]
  },
  {
   "cell_type": "code",
   "execution_count": 147,
   "metadata": {},
   "outputs": [],
   "source": [
    "learner_x = BaseXRegressor(XGBRegressor(), control_name='control')\n",
    "ate_x, ate_x_lb, ate_x_ub = learner_x.estimate_ate(X=X, p=e, treatment=treatment, y=y)"
   ]
  },
  {
   "cell_type": "code",
   "execution_count": 148,
   "metadata": {},
   "outputs": [
    {
     "data": {
      "text/plain": [
       "array([[0.44068606],\n",
       "       [0.47768306],\n",
       "       [0.51468005]])"
      ]
     },
     "execution_count": 148,
     "metadata": {},
     "output_type": "execute_result"
    }
   ],
   "source": [
    "np.vstack((ate_x_lb, ate_x, ate_x_ub))"
   ]
  },
  {
   "cell_type": "markdown",
   "metadata": {},
   "source": [
    "### CATE"
   ]
  },
  {
   "cell_type": "markdown",
   "metadata": {},
   "source": [
    "### CATE w/ Confidence Intervals"
   ]
  },
  {
   "cell_type": "code",
   "execution_count": 149,
   "metadata": {},
   "outputs": [
    {
     "name": "stderr",
     "output_type": "stream",
     "text": [
      "INFO:causalml:10/100 bootstraps completed. (5s lapsed)\n",
      "INFO:causalml:20/100 bootstraps completed. (10s lapsed)\n",
      "INFO:causalml:30/100 bootstraps completed. (16s lapsed)\n",
      "INFO:causalml:40/100 bootstraps completed. (21s lapsed)\n",
      "INFO:causalml:50/100 bootstraps completed. (26s lapsed)\n",
      "INFO:causalml:60/100 bootstraps completed. (31s lapsed)\n",
      "INFO:causalml:70/100 bootstraps completed. (36s lapsed)\n",
      "INFO:causalml:80/100 bootstraps completed. (42s lapsed)\n",
      "INFO:causalml:90/100 bootstraps completed. (47s lapsed)\n"
     ]
    }
   ],
   "source": [
    "learner_x = BaseXRegressor(XGBRegressor(), control_name='control')\n",
    "cate_x, cate_x_lb, cate_x_ub = learner_x.fit_predict(X=X, p=e, treatment=treatment, y=y, return_ci=True,\n",
    "                                                     n_bootstraps=100, bootstrap_size=5000)"
   ]
  },
  {
   "cell_type": "code",
   "execution_count": 150,
   "metadata": {},
   "outputs": [
    {
     "data": {
      "text/plain": [
       "array([[-0.26100034],\n",
       "       [ 0.71815765],\n",
       "       [ 0.00939685],\n",
       "       ...,\n",
       "       [-0.3770929 ],\n",
       "       [ 0.4899036 ],\n",
       "       [ 0.21823683]])"
      ]
     },
     "execution_count": 150,
     "metadata": {},
     "output_type": "execute_result"
    }
   ],
   "source": [
    "cate_x"
   ]
  },
  {
   "cell_type": "code",
   "execution_count": 151,
   "metadata": {},
   "outputs": [
    {
     "data": {
      "text/plain": [
       "array([[-0.92892738],\n",
       "       [ 0.3496155 ],\n",
       "       [-0.53877904],\n",
       "       ...,\n",
       "       [-0.7457863 ],\n",
       "       [ 0.28050901],\n",
       "       [-0.32397448]])"
      ]
     },
     "execution_count": 151,
     "metadata": {},
     "output_type": "execute_result"
    }
   ],
   "source": [
    "cate_x_lb"
   ]
  },
  {
   "cell_type": "code",
   "execution_count": 152,
   "metadata": {},
   "outputs": [
    {
     "data": {
      "text/plain": [
       "array([[0.10388473],\n",
       "       [1.00357826],\n",
       "       [0.55702635],\n",
       "       ...,\n",
       "       [0.25875652],\n",
       "       [0.83988882],\n",
       "       [0.6069184 ]])"
      ]
     },
     "execution_count": 152,
     "metadata": {},
     "output_type": "execute_result"
    }
   ],
   "source": [
    "cate_x_ub"
   ]
  },
  {
   "cell_type": "markdown",
   "metadata": {},
   "source": [
    "## R-Learner"
   ]
  },
  {
   "cell_type": "markdown",
   "metadata": {},
   "source": [
    "### ATE w/ Confidence Intervals"
   ]
  },
  {
   "cell_type": "code",
   "execution_count": 154,
   "metadata": {},
   "outputs": [
    {
     "name": "stderr",
     "output_type": "stream",
     "text": [
      "INFO:causalml:generating out-of-fold CV outcome estimates\n",
      "INFO:causalml:training the treatment effect model for treatment_a with R-loss\n"
     ]
    }
   ],
   "source": [
    "learner_r = BaseRRegressor(XGBRegressor(), control_name='control')\n",
    "ate_r, ate_r_lb, ate_r_ub = learner_r.estimate_ate(X=X, p=e, treatment=treatment, y=y)"
   ]
  },
  {
   "cell_type": "code",
   "execution_count": 158,
   "metadata": {},
   "outputs": [
    {
     "data": {
      "text/plain": [
       "array([[0.45737808],\n",
       "       [0.45778109],\n",
       "       [0.4581841 ]])"
      ]
     },
     "execution_count": 158,
     "metadata": {},
     "output_type": "execute_result"
    }
   ],
   "source": [
    "np.vstack((ate_r_lb, ate_r, ate_r_ub))"
   ]
  },
  {
   "cell_type": "markdown",
   "metadata": {},
   "source": [
    "### CATE"
   ]
  },
  {
   "cell_type": "code",
   "execution_count": 160,
   "metadata": {},
   "outputs": [
    {
     "name": "stderr",
     "output_type": "stream",
     "text": [
      "INFO:causalml:generating out-of-fold CV outcome estimates\n",
      "INFO:causalml:training the treatment effect model for treatment_a with R-loss\n"
     ]
    }
   ],
   "source": [
    "learner_r = BaseRRegressor(XGBRegressor(), control_name='control')\n",
    "cate_r = learner_r.fit_predict(X=X, p=e, treatment=treatment, y=y)"
   ]
  },
  {
   "cell_type": "code",
   "execution_count": 161,
   "metadata": {},
   "outputs": [
    {
     "data": {
      "text/plain": [
       "array([[-0.33700937],\n",
       "       [ 0.82450795],\n",
       "       [ 0.16467026],\n",
       "       ...,\n",
       "       [ 0.2166025 ],\n",
       "       [ 0.45501849],\n",
       "       [ 0.32438049]])"
      ]
     },
     "execution_count": 161,
     "metadata": {},
     "output_type": "execute_result"
    }
   ],
   "source": [
    "cate_r"
   ]
  },
  {
   "cell_type": "markdown",
   "metadata": {},
   "source": [
    "### CATE w/ Confidence Intervals"
   ]
  },
  {
   "cell_type": "code",
   "execution_count": 167,
   "metadata": {},
   "outputs": [
    {
     "name": "stderr",
     "output_type": "stream",
     "text": [
      "INFO:causalml:generating out-of-fold CV outcome estimates\n",
      "INFO:causalml:training the treatment effect model for treatment_a with R-loss\n",
      "INFO:causalml:10/100 bootstraps completed. (7s lapsed)\n",
      "INFO:causalml:20/100 bootstraps completed. (14s lapsed)\n",
      "INFO:causalml:30/100 bootstraps completed. (21s lapsed)\n",
      "INFO:causalml:40/100 bootstraps completed. (28s lapsed)\n",
      "INFO:causalml:50/100 bootstraps completed. (35s lapsed)\n",
      "INFO:causalml:60/100 bootstraps completed. (41s lapsed)\n",
      "INFO:causalml:70/100 bootstraps completed. (48s lapsed)\n",
      "INFO:causalml:80/100 bootstraps completed. (55s lapsed)\n",
      "INFO:causalml:90/100 bootstraps completed. (62s lapsed)\n"
     ]
    }
   ],
   "source": [
    "learner_r = BaseRRegressor(XGBRegressor(), control_name='control')\n",
    "cate_r, cate_r_lb, cate_r_ub = learner_r.fit_predict(X=X, p=e, treatment=treatment, y=y, return_ci=True,\n",
    "                                                     n_bootstraps=100, bootstrap_size=3000)"
   ]
  },
  {
   "cell_type": "code",
   "execution_count": 168,
   "metadata": {},
   "outputs": [
    {
     "data": {
      "text/plain": [
       "array([[-0.37464064],\n",
       "       [ 0.82177085],\n",
       "       [ 0.20239475],\n",
       "       ...,\n",
       "       [ 0.18415594],\n",
       "       [ 0.48149735],\n",
       "       [ 0.25537789]])"
      ]
     },
     "execution_count": 168,
     "metadata": {},
     "output_type": "execute_result"
    }
   ],
   "source": [
    "cate_r"
   ]
  },
  {
   "cell_type": "code",
   "execution_count": 169,
   "metadata": {},
   "outputs": [
    {
     "data": {
      "text/plain": [
       "array([[-0.9802328 ],\n",
       "       [ 0.13664687],\n",
       "       [-1.3368755 ],\n",
       "       ...,\n",
       "       [-0.97330393],\n",
       "       [-0.00957918],\n",
       "       [-0.7125189 ]])"
      ]
     },
     "execution_count": 169,
     "metadata": {},
     "output_type": "execute_result"
    }
   ],
   "source": [
    "cate_r_lb"
   ]
  },
  {
   "cell_type": "code",
   "execution_count": 170,
   "metadata": {},
   "outputs": [
    {
     "data": {
      "text/plain": [
       "array([[0.64070718],\n",
       "       [1.25403838],\n",
       "       [1.06775643],\n",
       "       ...,\n",
       "       [1.43190208],\n",
       "       [0.95540813],\n",
       "       [0.87571691]])"
      ]
     },
     "execution_count": 170,
     "metadata": {},
     "output_type": "execute_result"
    }
   ],
   "source": [
    "cate_r_ub"
   ]
  },
  {
   "cell_type": "markdown",
   "metadata": {},
   "source": [
    "# Multiple Treatment Case"
   ]
  },
  {
   "cell_type": "markdown",
   "metadata": {},
   "source": [
    "### Generate synthetic data\n",
    "Note: we randomize the assignment of treatment flag AFTER the synthetic data generation process, so it doesn't make sense to measure accuracy metrics here. Next steps would be to include multi-treatment in the DGP itself."
   ]
  },
  {
   "cell_type": "code",
   "execution_count": 171,
   "metadata": {},
   "outputs": [],
   "source": [
    "# Generate synthetic data using mode 1\n",
    "y, X, treatment, tau, b, e = synthetic_data(mode=1, n=10000, p=8, sigma=1.0)\n",
    "\n",
    "treatment = np.array([('treatment_a' if np.random.random() > 0.2 else 'treatment_b') \n",
    "                      if val==1 else 'control' for val in treatment])\n",
    "\n",
    "e = {group: e for group in np.unique(treatment)}"
   ]
  },
  {
   "cell_type": "code",
   "execution_count": 173,
   "metadata": {},
   "outputs": [
    {
     "data": {
      "text/plain": [
       "control        4820\n",
       "treatment_a    4110\n",
       "treatment_b    1070\n",
       "dtype: int64"
      ]
     },
     "execution_count": 173,
     "metadata": {},
     "output_type": "execute_result"
    }
   ],
   "source": [
    "pd.Series(treatment).value_counts()"
   ]
  },
  {
   "cell_type": "markdown",
   "metadata": {},
   "source": [
    "## S-Learner"
   ]
  },
  {
   "cell_type": "markdown",
   "metadata": {},
   "source": [
    "### ATE"
   ]
  },
  {
   "cell_type": "code",
   "execution_count": 174,
   "metadata": {},
   "outputs": [
    {
     "name": "stderr",
     "output_type": "stream",
     "text": [
      "INFO:causalml:Error metrics for treatment_a\n",
      "INFO:causalml:RMSE (Control): 0.991463\n",
      "INFO:causalml: MAE (Control): 0.787094\n",
      "INFO:causalml:RMSE (Treatment): 0.970982\n",
      "INFO:causalml: MAE (Treatment): 0.774108\n",
      "INFO:causalml:Error metrics for treatment_b\n",
      "INFO:causalml:RMSE (Control): 0.998294\n",
      "INFO:causalml: MAE (Control): 0.794750\n",
      "INFO:causalml:RMSE (Treatment): 0.919352\n",
      "INFO:causalml: MAE (Treatment): 0.733635\n"
     ]
    }
   ],
   "source": [
    "learner_s = BaseSRegressor(XGBRegressor(), control_name='control')\n",
    "ate_s = learner_s.estimate_ate(X=X, treatment=treatment, y=y, return_ci=False)"
   ]
  },
  {
   "cell_type": "code",
   "execution_count": 175,
   "metadata": {},
   "outputs": [
    {
     "data": {
      "text/plain": [
       "array([0.35913358, 0.18256349])"
      ]
     },
     "execution_count": 175,
     "metadata": {},
     "output_type": "execute_result"
    }
   ],
   "source": [
    "ate_s"
   ]
  },
  {
   "cell_type": "code",
   "execution_count": 176,
   "metadata": {},
   "outputs": [
    {
     "data": {
      "text/plain": [
       "{'treatment_a': 0, 'treatment_b': 1}"
      ]
     },
     "execution_count": 176,
     "metadata": {},
     "output_type": "execute_result"
    }
   ],
   "source": [
    "learner_s._classes"
   ]
  },
  {
   "cell_type": "markdown",
   "metadata": {},
   "source": [
    "### ATE w/ Confidence Intervals\n",
    "Note: S-Learner is the only learner that uses bootstrapping to get confidence intervals."
   ]
  },
  {
   "cell_type": "code",
   "execution_count": 178,
   "metadata": {},
   "outputs": [
    {
     "name": "stderr",
     "output_type": "stream",
     "text": [
      "INFO:causalml:Error metrics for treatment_a\n",
      "INFO:causalml:RMSE (Control): 0.991463\n",
      "INFO:causalml: MAE (Control): 0.787094\n",
      "INFO:causalml:RMSE (Treatment): 0.970982\n",
      "INFO:causalml: MAE (Treatment): 0.774108\n",
      "INFO:causalml:Error metrics for treatment_b\n",
      "INFO:causalml:RMSE (Control): 0.998294\n",
      "INFO:causalml: MAE (Control): 0.794750\n",
      "INFO:causalml:RMSE (Treatment): 0.919352\n",
      "INFO:causalml: MAE (Treatment): 0.733635\n",
      "INFO:causalml:11/100 bootstraps completed. (6s lapsed)\n",
      "INFO:causalml:21/100 bootstraps completed. (11s lapsed)\n",
      "INFO:causalml:31/100 bootstraps completed. (16s lapsed)\n",
      "INFO:causalml:41/100 bootstraps completed. (22s lapsed)\n",
      "INFO:causalml:51/100 bootstraps completed. (27s lapsed)\n",
      "INFO:causalml:61/100 bootstraps completed. (33s lapsed)\n",
      "INFO:causalml:71/100 bootstraps completed. (38s lapsed)\n",
      "INFO:causalml:81/100 bootstraps completed. (44s lapsed)\n",
      "INFO:causalml:91/100 bootstraps completed. (49s lapsed)\n"
     ]
    }
   ],
   "source": [
    "alpha = 0.05\n",
    "learner_s = BaseSRegressor(XGBRegressor(), ate_alpha=alpha, control_name='control')\n",
    "ate_s, ate_s_lb, ate_s_ub = learner_s.estimate_ate(X=X, treatment=treatment, y=y, return_ci=True,\n",
    "                               n_bootstraps=100, bootstrap_size=5000)"
   ]
  },
  {
   "cell_type": "code",
   "execution_count": 179,
   "metadata": {},
   "outputs": [
    {
     "data": {
      "text/plain": [
       "array([[ 0.14345376, -0.03237222],\n",
       "       [ 0.35913358,  0.18256349],\n",
       "       [ 0.5507962 ,  0.37659037]])"
      ]
     },
     "execution_count": 179,
     "metadata": {},
     "output_type": "execute_result"
    }
   ],
   "source": [
    "np.vstack((ate_s_lb, ate_s, ate_s_ub))"
   ]
  },
  {
   "cell_type": "markdown",
   "metadata": {},
   "source": [
    "### CATE"
   ]
  },
  {
   "cell_type": "code",
   "execution_count": 180,
   "metadata": {},
   "outputs": [
    {
     "name": "stderr",
     "output_type": "stream",
     "text": [
      "INFO:causalml:Error metrics for treatment_a\n",
      "INFO:causalml:RMSE (Control): 0.991463\n",
      "INFO:causalml: MAE (Control): 0.787094\n",
      "INFO:causalml:RMSE (Treatment): 0.970982\n",
      "INFO:causalml: MAE (Treatment): 0.774108\n",
      "INFO:causalml:Error metrics for treatment_b\n",
      "INFO:causalml:RMSE (Control): 0.998294\n",
      "INFO:causalml: MAE (Control): 0.794750\n",
      "INFO:causalml:RMSE (Treatment): 0.919352\n",
      "INFO:causalml: MAE (Treatment): 0.733635\n"
     ]
    }
   ],
   "source": [
    "learner_s = BaseSRegressor(XGBRegressor(), control_name='control')\n",
    "cate_s = learner_s.fit_predict(X=X, treatment=treatment, y=y, return_ci=False)"
   ]
  },
  {
   "cell_type": "code",
   "execution_count": 181,
   "metadata": {},
   "outputs": [
    {
     "data": {
      "text/plain": [
       "array([[0.29305696, 0.20715189],\n",
       "       [0.2394737 , 0.23082519],\n",
       "       [0.45016623, 0.13159585],\n",
       "       ...,\n",
       "       [0.44311321, 0.15472066],\n",
       "       [0.39511681, 0.15956807],\n",
       "       [0.22280121, 0.14637351]])"
      ]
     },
     "execution_count": 181,
     "metadata": {},
     "output_type": "execute_result"
    }
   ],
   "source": [
    "cate_s"
   ]
  },
  {
   "cell_type": "markdown",
   "metadata": {},
   "source": [
    "### CATE w/ Confidence Intervals"
   ]
  },
  {
   "cell_type": "code",
   "execution_count": 182,
   "metadata": {},
   "outputs": [
    {
     "name": "stderr",
     "output_type": "stream",
     "text": [
      "INFO:causalml:Error metrics for treatment_a\n",
      "INFO:causalml:RMSE (Control): 0.991463\n",
      "INFO:causalml: MAE (Control): 0.787094\n",
      "INFO:causalml:RMSE (Treatment): 0.970982\n",
      "INFO:causalml: MAE (Treatment): 0.774108\n",
      "INFO:causalml:Error metrics for treatment_b\n",
      "INFO:causalml:RMSE (Control): 0.998294\n",
      "INFO:causalml: MAE (Control): 0.794750\n",
      "INFO:causalml:RMSE (Treatment): 0.919352\n",
      "INFO:causalml: MAE (Treatment): 0.733635\n",
      "INFO:causalml:11/100 bootstraps completed. (6s lapsed)\n",
      "INFO:causalml:21/100 bootstraps completed. (11s lapsed)\n",
      "INFO:causalml:31/100 bootstraps completed. (17s lapsed)\n",
      "INFO:causalml:41/100 bootstraps completed. (22s lapsed)\n",
      "INFO:causalml:51/100 bootstraps completed. (28s lapsed)\n",
      "INFO:causalml:61/100 bootstraps completed. (33s lapsed)\n",
      "INFO:causalml:71/100 bootstraps completed. (39s lapsed)\n",
      "INFO:causalml:81/100 bootstraps completed. (44s lapsed)\n",
      "INFO:causalml:91/100 bootstraps completed. (49s lapsed)\n"
     ]
    }
   ],
   "source": [
    "alpha = 0.05\n",
    "learner_s = BaseSRegressor(XGBRegressor(), ate_alpha=alpha, control_name='control')\n",
    "cate_s, cate_s_lb, cate_s_ub = learner_s.fit_predict(X=X, treatment=treatment, y=y, return_ci=True,\n",
    "                               n_bootstraps=100, bootstrap_size=5000)"
   ]
  },
  {
   "cell_type": "code",
   "execution_count": 183,
   "metadata": {},
   "outputs": [
    {
     "data": {
      "text/plain": [
       "array([[0.29305696, 0.20715189],\n",
       "       [0.2394737 , 0.23082519],\n",
       "       [0.45016623, 0.13159585],\n",
       "       ...,\n",
       "       [0.44311321, 0.15472066],\n",
       "       [0.39511681, 0.15956807],\n",
       "       [0.22280121, 0.14637351]])"
      ]
     },
     "execution_count": 183,
     "metadata": {},
     "output_type": "execute_result"
    }
   ],
   "source": [
    "cate_s"
   ]
  },
  {
   "cell_type": "code",
   "execution_count": 184,
   "metadata": {},
   "outputs": [
    {
     "data": {
      "text/plain": [
       "array([[-0.04259078,  0.03480431],\n",
       "       [-0.05326713,  0.048358  ],\n",
       "       [ 0.27760496, -0.06061491],\n",
       "       ...,\n",
       "       [ 0.28635021,  0.02252018],\n",
       "       [ 0.19727507, -0.03052257],\n",
       "       [ 0.07766245, -0.01838151]])"
      ]
     },
     "execution_count": 184,
     "metadata": {},
     "output_type": "execute_result"
    }
   ],
   "source": [
    "cate_s_lb"
   ]
  },
  {
   "cell_type": "code",
   "execution_count": 185,
   "metadata": {},
   "outputs": [
    {
     "data": {
      "text/plain": [
       "array([[0.44047487, 0.33187835],\n",
       "       [0.45214516, 0.34100947],\n",
       "       [0.61380313, 0.31094917],\n",
       "       ...,\n",
       "       [0.60039392, 0.33422943],\n",
       "       [0.61935563, 0.25369784],\n",
       "       [0.52657488, 0.42135347]])"
      ]
     },
     "execution_count": 185,
     "metadata": {},
     "output_type": "execute_result"
    }
   ],
   "source": [
    "cate_s_ub"
   ]
  },
  {
   "cell_type": "markdown",
   "metadata": {},
   "source": [
    "## T-Learner"
   ]
  },
  {
   "cell_type": "markdown",
   "metadata": {},
   "source": [
    "### ATE w/ Confidence Intervals"
   ]
  },
  {
   "cell_type": "code",
   "execution_count": 186,
   "metadata": {},
   "outputs": [
    {
     "name": "stderr",
     "output_type": "stream",
     "text": [
      "INFO:causalml:Error metrics for treatment_a\n",
      "INFO:causalml:RMSE (Control): 0.971329\n",
      "INFO:causalml: MAE (Control): 0.769895\n",
      "INFO:causalml:RMSE (Treatment): 0.934618\n",
      "INFO:causalml: MAE (Treatment): 0.743548\n",
      "INFO:causalml:Error metrics for treatment_b\n",
      "INFO:causalml:RMSE (Control): 0.993107\n",
      "INFO:causalml: MAE (Control): 0.789818\n",
      "INFO:causalml:RMSE (Treatment): 0.796908\n",
      "INFO:causalml: MAE (Treatment): 0.628517\n"
     ]
    }
   ],
   "source": [
    "learner_t = BaseTRegressor(XGBRegressor(), control_name='control')\n",
    "ate_t, ate_t_lb, ate_t_ub = learner_t.estimate_ate(X=X, treatment=treatment, y=y)"
   ]
  },
  {
   "cell_type": "code",
   "execution_count": 187,
   "metadata": {},
   "outputs": [
    {
     "data": {
      "text/plain": [
       "array([[0.32926924, 0.19934954],\n",
       "       [0.36743379, 0.25176689],\n",
       "       [0.40559833, 0.30418423]])"
      ]
     },
     "execution_count": 187,
     "metadata": {},
     "output_type": "execute_result"
    }
   ],
   "source": [
    "np.vstack((ate_t_lb, ate_t, ate_t_ub))"
   ]
  },
  {
   "cell_type": "markdown",
   "metadata": {},
   "source": [
    "### CATE"
   ]
  },
  {
   "cell_type": "code",
   "execution_count": 188,
   "metadata": {},
   "outputs": [
    {
     "name": "stderr",
     "output_type": "stream",
     "text": [
      "INFO:causalml:Error metrics for treatment_a\n",
      "INFO:causalml:RMSE (Control): 0.971329\n",
      "INFO:causalml: MAE (Control): 0.769895\n",
      "INFO:causalml:RMSE (Treatment): 0.934618\n",
      "INFO:causalml: MAE (Treatment): 0.743548\n",
      "INFO:causalml:Error metrics for treatment_b\n",
      "INFO:causalml:RMSE (Control): 0.993107\n",
      "INFO:causalml: MAE (Control): 0.789818\n",
      "INFO:causalml:RMSE (Treatment): 0.796908\n",
      "INFO:causalml: MAE (Treatment): 0.628517\n"
     ]
    }
   ],
   "source": [
    "learner_t = BaseTRegressor(XGBRegressor(), control_name='control')\n",
    "cate_t = learner_t.fit_predict(X=X, treatment=treatment, y=y)"
   ]
  },
  {
   "cell_type": "code",
   "execution_count": 189,
   "metadata": {},
   "outputs": [
    {
     "data": {
      "text/plain": [
       "array([[ 0.28441787,  0.38072431],\n",
       "       [ 0.56165069,  0.65201128],\n",
       "       [ 0.54719591, -0.18444657],\n",
       "       ...,\n",
       "       [ 0.44603789,  0.04932952],\n",
       "       [ 0.61214852, -0.05190253],\n",
       "       [ 0.38557649,  0.68061471]])"
      ]
     },
     "execution_count": 189,
     "metadata": {},
     "output_type": "execute_result"
    }
   ],
   "source": [
    "cate_t"
   ]
  },
  {
   "cell_type": "markdown",
   "metadata": {},
   "source": [
    "### CATE w/ Confidence Intervals"
   ]
  },
  {
   "cell_type": "code",
   "execution_count": 190,
   "metadata": {},
   "outputs": [
    {
     "name": "stderr",
     "output_type": "stream",
     "text": [
      "INFO:causalml:Error metrics for treatment_a\n",
      "INFO:causalml:RMSE (Control): 0.971329\n",
      "INFO:causalml: MAE (Control): 0.769895\n",
      "INFO:causalml:RMSE (Treatment): 0.934618\n",
      "INFO:causalml: MAE (Treatment): 0.743548\n",
      "INFO:causalml:Error metrics for treatment_b\n",
      "INFO:causalml:RMSE (Control): 0.993107\n",
      "INFO:causalml: MAE (Control): 0.789818\n",
      "INFO:causalml:RMSE (Treatment): 0.796908\n",
      "INFO:causalml: MAE (Treatment): 0.628517\n",
      "INFO:causalml:10/100 bootstraps completed. (6s lapsed)\n",
      "INFO:causalml:20/100 bootstraps completed. (12s lapsed)\n",
      "INFO:causalml:30/100 bootstraps completed. (17s lapsed)\n",
      "INFO:causalml:40/100 bootstraps completed. (23s lapsed)\n",
      "INFO:causalml:50/100 bootstraps completed. (28s lapsed)\n",
      "INFO:causalml:60/100 bootstraps completed. (34s lapsed)\n",
      "INFO:causalml:70/100 bootstraps completed. (40s lapsed)\n",
      "INFO:causalml:80/100 bootstraps completed. (45s lapsed)\n",
      "INFO:causalml:90/100 bootstraps completed. (51s lapsed)\n"
     ]
    }
   ],
   "source": [
    "learner_t = BaseTRegressor(XGBRegressor(), control_name='control')\n",
    "cate_t, cate_t_lb, cate_t_ub = learner_t.fit_predict(X=X, treatment=treatment, y=y, return_ci=True, n_bootstraps=100,\n",
    "                                                    bootstrap_size=5000)"
   ]
  },
  {
   "cell_type": "code",
   "execution_count": 191,
   "metadata": {},
   "outputs": [
    {
     "data": {
      "text/plain": [
       "array([[ 0.28441787,  0.38072431],\n",
       "       [ 0.56165069,  0.65201128],\n",
       "       [ 0.54719591, -0.18444657],\n",
       "       ...,\n",
       "       [ 0.44603789,  0.04932952],\n",
       "       [ 0.61214852, -0.05190253],\n",
       "       [ 0.38557649,  0.68061471]])"
      ]
     },
     "execution_count": 191,
     "metadata": {},
     "output_type": "execute_result"
    }
   ],
   "source": [
    "cate_t"
   ]
  },
  {
   "cell_type": "code",
   "execution_count": 192,
   "metadata": {},
   "outputs": [
    {
     "data": {
      "text/plain": [
       "array([[-0.04115869, -0.05224179],\n",
       "       [-0.16902418, -0.19706225],\n",
       "       [-0.00189665, -0.8080983 ],\n",
       "       ...,\n",
       "       [ 0.10415745, -0.23481247],\n",
       "       [ 0.15116205, -0.78067239],\n",
       "       [-0.46228578, -0.81511819]])"
      ]
     },
     "execution_count": 192,
     "metadata": {},
     "output_type": "execute_result"
    }
   ],
   "source": [
    "cate_t_lb"
   ]
  },
  {
   "cell_type": "code",
   "execution_count": 193,
   "metadata": {},
   "outputs": [
    {
     "data": {
      "text/plain": [
       "array([[0.74080166, 1.06598807],\n",
       "       [0.79825233, 0.8707759 ],\n",
       "       [1.34376909, 0.64097773],\n",
       "       ...,\n",
       "       [0.75215713, 0.51593655],\n",
       "       [1.03536093, 0.43499326],\n",
       "       [1.04148687, 1.6343584 ]])"
      ]
     },
     "execution_count": 193,
     "metadata": {},
     "output_type": "execute_result"
    }
   ],
   "source": [
    "cate_t_ub"
   ]
  },
  {
   "cell_type": "markdown",
   "metadata": {},
   "source": [
    "## X-Learner"
   ]
  },
  {
   "cell_type": "markdown",
   "metadata": {},
   "source": [
    "### ATE w/ Confidence Intervals"
   ]
  },
  {
   "cell_type": "code",
   "execution_count": 194,
   "metadata": {},
   "outputs": [],
   "source": [
    "learner_x = BaseXRegressor(XGBRegressor(), control_name='control')\n",
    "ate_x, ate_x_lb, ate_x_ub = learner_x.estimate_ate(X=X, p=e, treatment=treatment, y=y)"
   ]
  },
  {
   "cell_type": "code",
   "execution_count": 195,
   "metadata": {},
   "outputs": [
    {
     "data": {
      "text/plain": [
       "array([[0.31400111, 0.19998552],\n",
       "       [0.35198314, 0.25217314],\n",
       "       [0.38996516, 0.30436076]])"
      ]
     },
     "execution_count": 195,
     "metadata": {},
     "output_type": "execute_result"
    }
   ],
   "source": [
    "np.vstack((ate_x_lb, ate_x, ate_x_ub))"
   ]
  },
  {
   "cell_type": "markdown",
   "metadata": {},
   "source": [
    "### CATE"
   ]
  },
  {
   "cell_type": "code",
   "execution_count": 196,
   "metadata": {},
   "outputs": [],
   "source": [
    "learner_x = BaseXRegressor(XGBRegressor(), control_name='control')\n",
    "cate_x = learner_x.fit_predict(X=X, p=e, treatment=treatment, y=y)"
   ]
  },
  {
   "cell_type": "code",
   "execution_count": 197,
   "metadata": {},
   "outputs": [
    {
     "data": {
      "text/plain": [
       "array([[ 0.26990545,  0.26035661],\n",
       "       [ 0.26034176,  0.46985847],\n",
       "       [ 0.37140876, -0.04080141],\n",
       "       ...,\n",
       "       [ 0.43502373,  0.22133699],\n",
       "       [ 0.42731443, -0.0570209 ],\n",
       "       [ 0.46857533,  0.35744303]])"
      ]
     },
     "execution_count": 197,
     "metadata": {},
     "output_type": "execute_result"
    }
   ],
   "source": [
    "cate_x"
   ]
  },
  {
   "cell_type": "markdown",
   "metadata": {},
   "source": [
    "### CATE w/ Confidence Intervals"
   ]
  },
  {
   "cell_type": "code",
   "execution_count": 198,
   "metadata": {},
   "outputs": [
    {
     "name": "stderr",
     "output_type": "stream",
     "text": [
      "INFO:causalml:10/100 bootstraps completed. (10s lapsed)\n",
      "INFO:causalml:20/100 bootstraps completed. (20s lapsed)\n",
      "INFO:causalml:30/100 bootstraps completed. (31s lapsed)\n",
      "INFO:causalml:40/100 bootstraps completed. (41s lapsed)\n",
      "INFO:causalml:50/100 bootstraps completed. (51s lapsed)\n",
      "INFO:causalml:60/100 bootstraps completed. (61s lapsed)\n",
      "INFO:causalml:70/100 bootstraps completed. (71s lapsed)\n",
      "INFO:causalml:80/100 bootstraps completed. (81s lapsed)\n",
      "INFO:causalml:90/100 bootstraps completed. (91s lapsed)\n"
     ]
    }
   ],
   "source": [
    "learner_x = BaseXRegressor(XGBRegressor(), control_name='control')\n",
    "cate_x, cate_x_lb, cate_x_ub = learner_x.fit_predict(X=X, p=e, treatment=treatment, y=y, return_ci=True,\n",
    "                                                     n_bootstraps=100, bootstrap_size=5000)"
   ]
  },
  {
   "cell_type": "code",
   "execution_count": 199,
   "metadata": {},
   "outputs": [
    {
     "data": {
      "text/plain": [
       "{'treatment_a': 0, 'treatment_b': 1}"
      ]
     },
     "execution_count": 199,
     "metadata": {},
     "output_type": "execute_result"
    }
   ],
   "source": [
    "learner_x._classes"
   ]
  },
  {
   "cell_type": "code",
   "execution_count": 200,
   "metadata": {},
   "outputs": [
    {
     "data": {
      "text/plain": [
       "array([[ 0.26990545,  0.26035661],\n",
       "       [ 0.26034176,  0.46985847],\n",
       "       [ 0.37140876, -0.04080141],\n",
       "       ...,\n",
       "       [ 0.43502373,  0.22133699],\n",
       "       [ 0.42731443, -0.0570209 ],\n",
       "       [ 0.46857533,  0.35744303]])"
      ]
     },
     "execution_count": 200,
     "metadata": {},
     "output_type": "execute_result"
    }
   ],
   "source": [
    "cate_x"
   ]
  },
  {
   "cell_type": "code",
   "execution_count": 201,
   "metadata": {},
   "outputs": [
    {
     "data": {
      "text/plain": [
       "array([[ 0.02105564, -0.00483451],\n",
       "       [ 0.05179861,  0.09180887],\n",
       "       [ 0.12221365, -0.44646286],\n",
       "       ...,\n",
       "       [ 0.25909399, -0.02073404],\n",
       "       [ 0.14467462, -0.32544759],\n",
       "       [-0.08245101, -0.32453551]])"
      ]
     },
     "execution_count": 201,
     "metadata": {},
     "output_type": "execute_result"
    }
   ],
   "source": [
    "cate_x_lb"
   ]
  },
  {
   "cell_type": "code",
   "execution_count": 202,
   "metadata": {},
   "outputs": [
    {
     "data": {
      "text/plain": [
       "array([[0.48926775, 0.61125675],\n",
       "       [0.60614869, 0.71524641],\n",
       "       [0.96047391, 0.43098129],\n",
       "       ...,\n",
       "       [0.67855977, 0.40955369],\n",
       "       [0.63019724, 0.34458099],\n",
       "       [0.98388902, 0.98262639]])"
      ]
     },
     "execution_count": 202,
     "metadata": {},
     "output_type": "execute_result"
    }
   ],
   "source": [
    "cate_x_ub"
   ]
  },
  {
   "cell_type": "markdown",
   "metadata": {},
   "source": [
    "## R-Learner"
   ]
  },
  {
   "cell_type": "markdown",
   "metadata": {},
   "source": [
    "### ATE w/ Confidence Intervals"
   ]
  },
  {
   "cell_type": "code",
   "execution_count": 203,
   "metadata": {},
   "outputs": [
    {
     "name": "stderr",
     "output_type": "stream",
     "text": [
      "INFO:causalml:generating out-of-fold CV outcome estimates\n",
      "INFO:causalml:training the treatment effect model for treatment_a with R-loss\n",
      "INFO:causalml:training the treatment effect model for treatment_b with R-loss\n"
     ]
    }
   ],
   "source": [
    "learner_r = BaseRRegressor(XGBRegressor(), control_name='control')\n",
    "ate_r, ate_r_lb, ate_r_ub = learner_r.estimate_ate(X=X, p=e, treatment=treatment, y=y)"
   ]
  },
  {
   "cell_type": "code",
   "execution_count": 204,
   "metadata": {},
   "outputs": [
    {
     "data": {
      "text/plain": [
       "array([[0.28862501, 0.10444676],\n",
       "       [0.2890347 , 0.10506716],\n",
       "       [0.28944439, 0.10568755]])"
      ]
     },
     "execution_count": 204,
     "metadata": {},
     "output_type": "execute_result"
    }
   ],
   "source": [
    "np.vstack((ate_r_lb, ate_r, ate_r_ub))"
   ]
  },
  {
   "cell_type": "markdown",
   "metadata": {},
   "source": [
    "### CATE"
   ]
  },
  {
   "cell_type": "code",
   "execution_count": 205,
   "metadata": {},
   "outputs": [
    {
     "name": "stderr",
     "output_type": "stream",
     "text": [
      "INFO:causalml:generating out-of-fold CV outcome estimates\n",
      "INFO:causalml:training the treatment effect model for treatment_a with R-loss\n",
      "INFO:causalml:training the treatment effect model for treatment_b with R-loss\n"
     ]
    }
   ],
   "source": [
    "learner_r = BaseRRegressor(XGBRegressor(), control_name='control')\n",
    "cate_r = learner_r.fit_predict(X=X, p=e, treatment=treatment, y=y)"
   ]
  },
  {
   "cell_type": "code",
   "execution_count": 206,
   "metadata": {},
   "outputs": [
    {
     "data": {
      "text/plain": [
       "array([[ 0.15946019,  0.0566867 ],\n",
       "       [ 0.26207751,  0.08914298],\n",
       "       [ 0.35971397, -0.11964369],\n",
       "       ...,\n",
       "       [ 0.28634119, -0.05715203],\n",
       "       [ 0.33082661, -0.08944744],\n",
       "       [ 0.22354212,  0.29110223]])"
      ]
     },
     "execution_count": 206,
     "metadata": {},
     "output_type": "execute_result"
    }
   ],
   "source": [
    "cate_r"
   ]
  },
  {
   "cell_type": "markdown",
   "metadata": {},
   "source": [
    "### CATE w/ Confidence Intervals"
   ]
  },
  {
   "cell_type": "code",
   "execution_count": 207,
   "metadata": {
    "scrolled": true
   },
   "outputs": [
    {
     "name": "stderr",
     "output_type": "stream",
     "text": [
      "INFO:causalml:generating out-of-fold CV outcome estimates\n",
      "INFO:causalml:training the treatment effect model for treatment_a with R-loss\n",
      "INFO:causalml:training the treatment effect model for treatment_b with R-loss\n",
      "INFO:causalml:10/100 bootstraps completed. (8s lapsed)\n",
      "INFO:causalml:20/100 bootstraps completed. (16s lapsed)\n",
      "INFO:causalml:30/100 bootstraps completed. (25s lapsed)\n",
      "INFO:causalml:40/100 bootstraps completed. (33s lapsed)\n",
      "INFO:causalml:50/100 bootstraps completed. (42s lapsed)\n",
      "INFO:causalml:60/100 bootstraps completed. (50s lapsed)\n",
      "INFO:causalml:70/100 bootstraps completed. (58s lapsed)\n",
      "INFO:causalml:80/100 bootstraps completed. (66s lapsed)\n",
      "INFO:causalml:90/100 bootstraps completed. (74s lapsed)\n"
     ]
    }
   ],
   "source": [
    "learner_r = BaseRRegressor(XGBRegressor(), control_name='control')\n",
    "cate_r, cate_r_lb, cate_r_ub = learner_r.fit_predict(X=X, p=e, treatment=treatment, y=y, return_ci=True,\n",
    "                                                     n_bootstraps=100, bootstrap_size=3000)"
   ]
  },
  {
   "cell_type": "code",
   "execution_count": 208,
   "metadata": {},
   "outputs": [
    {
     "data": {
      "text/plain": [
       "array([[ 0.09944364,  0.04709589],\n",
       "       [ 0.25123295,  0.08984098],\n",
       "       [ 0.36286271, -0.14600784],\n",
       "       ...,\n",
       "       [ 0.34693044, -0.04801428],\n",
       "       [ 0.32974464, -0.1315679 ],\n",
       "       [ 0.2060248 ,  0.16616488]])"
      ]
     },
     "execution_count": 208,
     "metadata": {},
     "output_type": "execute_result"
    }
   ],
   "source": [
    "cate_r"
   ]
  },
  {
   "cell_type": "code",
   "execution_count": 209,
   "metadata": {},
   "outputs": [
    {
     "data": {
      "text/plain": [
       "array([[-0.34995239, -0.19428928],\n",
       "       [-0.23480286, -0.33930292],\n",
       "       [-0.08365641, -0.61383729],\n",
       "       ...,\n",
       "       [-0.0510494 , -0.20574036],\n",
       "       [-0.01827118, -0.37462993],\n",
       "       [-0.60967366, -0.25259556]])"
      ]
     },
     "execution_count": 209,
     "metadata": {},
     "output_type": "execute_result"
    }
   ],
   "source": [
    "cate_r_lb"
   ]
  },
  {
   "cell_type": "code",
   "execution_count": 210,
   "metadata": {},
   "outputs": [
    {
     "data": {
      "text/plain": [
       "array([[0.59212104, 0.51029717],\n",
       "       [0.74375887, 0.48526926],\n",
       "       [1.17339422, 0.11729919],\n",
       "       ...,\n",
       "       [0.8433193 , 0.18996149],\n",
       "       [0.80591545, 0.37860441],\n",
       "       [1.47198277, 0.90086589]])"
      ]
     },
     "execution_count": 210,
     "metadata": {},
     "output_type": "execute_result"
    }
   ],
   "source": [
    "cate_r_ub"
   ]
  },
  {
   "cell_type": "markdown",
   "metadata": {},
   "source": [
    "# Visualize"
   ]
  },
  {
   "cell_type": "code",
   "execution_count": 212,
   "metadata": {},
   "outputs": [
    {
     "data": {
      "text/plain": [
       "{'treatment_a': 0, 'treatment_b': 1}"
      ]
     },
     "execution_count": 212,
     "metadata": {},
     "output_type": "execute_result"
    }
   ],
   "source": [
    "groups"
   ]
  },
  {
   "cell_type": "code",
   "execution_count": 214,
   "metadata": {},
   "outputs": [
    {
     "data": {
      "image/png": "[encoded data removed]",
      "text/plain": [
       "<Figure size 864x576 with 1 Axes>"
      ]
     },
     "metadata": {
      "needs_background": "light"
     },
     "output_type": "display_data"
    },
    {
     "data": {
      "image/png": "[encoded data removed]",
      "text/plain": [
       "<Figure size 864x576 with 1 Axes>"
      ]
     },
     "metadata": {
      "needs_background": "light"
     },
     "output_type": "display_data"
    }
   ],
   "source": [
    "groups = learner_r._classes\n",
    "\n",
    "alpha = 1\n",
    "linewidth = 2\n",
    "bins = 30\n",
    "for group,idx in sorted(groups.items(), key=lambda x: x[1]):\n",
    "    plt.figure(figsize=(12,8))\n",
    "    plt.hist(cate_t[:,idx], alpha=alpha, bins=bins, label='T Learner ({})'.format(group),\n",
    "             histtype='step', linewidth=linewidth)\n",
    "    plt.hist(cate_x[:,idx], alpha=alpha, bins=bins, label='X Learner ({})'.format(group),\n",
    "             histtype='step', linewidth=linewidth)\n",
    "    plt.hist(cate_r[:,idx], alpha=alpha, bins=bins, label='R Learner ({})'.format(group),\n",
    "             histtype='step', linewidth=linewidth)\n",
    "    plt.vlines(cate_s[0,idx], 0, plt.axes().get_ylim()[1], label='S Learner ({})'.format(group),\n",
    "               linestyles='dotted', linewidth=linewidth)\n",
    "    plt.title('Distribution of CATE Predictions for {}'.format(group))\n",
    "    plt.xlabel('Individual Treatment Effect (ITE/CATE)')\n",
    "    plt.ylabel('# of Samples')\n",
    "    _=plt.legend()"
   ]
  },
  {
   "cell_type": "code",
   "execution_count": null,
   "metadata": {},
   "outputs": [],
   "source": []
  }
 ],
 "metadata": {
  "kernelspec": {
   "display_name": "Python 3",
   "language": "python",
   "name": "python3"
  },
  "language_info": {
   "codemirror_mode": {
    "name": "ipython",
    "version": 3
   },
   "file_extension": ".py",
   "mimetype": "text/x-python",
   "name": "python",
   "nbconvert_exporter": "python",
   "pygments_lexer": "ipython3",
   "version": "3.6.8"
  },
  "toc": {
   "base_numbering": 1,
   "nav_menu": {
    "height": "174px",
    "width": "252px"
   },
   "number_sections": false,
   "sideBar": true,
   "skip_h1_title": false,
   "title_cell": "Table of Contents",
   "title_sidebar": "Contents",
   "toc_cell": false,
   "toc_position": {
    "height": "calc(100% - 180px)",
    "left": "10px",
    "top": "150px",
    "width": "203px"
   },
   "toc_section_display": "block",
   "toc_window_display": true
  }
 },
 "nbformat": 4,
 "nbformat_minor": 2
}
