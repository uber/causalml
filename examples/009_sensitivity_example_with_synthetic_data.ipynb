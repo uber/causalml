{
 "cells": [
  {
   "cell_type": "markdown",
   "metadata": {},
   "source": [
    "# Setup\n",
    "In this notebook, we will generate some synthetic data to demonstrate how sensitivity analysis work by different methods.\n",
    "\n",
    "# Sensitivity Analysis\n",
    "## Methods\n",
    "We provided five methods for sensitivity analysis including (Placebb Treatment, Random Cause, Subset Data, Random Replace and Selection Bias). \n",
    "This notebook will walkthrough how to use the combined function sensitivity_analysis() to compare different method and also how to use each individual method separately:\n",
    "\n",
    "1. Placebo Treatment: Replacing treatment with a random variable\n",
    "2. Irrelevant Additional Confounder: Adding a random common cause variable\n",
    "3. Subset validation: Removing a random subset of the data\n",
    "4. Selection Bias method with One Sided confounding function and Alignment confounding function\n",
    "5. Random Replace: Random replace a covariate with an irrelevant variable"
   ]
  },
  {
   "cell_type": "code",
   "execution_count": 1,
   "metadata": {},
   "outputs": [],
   "source": [
    "%matplotlib inline\n",
    "%load_ext autoreload\n",
    "%autoreload 2"
   ]
  },
  {
   "cell_type": "code",
   "execution_count": 2,
   "metadata": {
    "ExecuteTime": {
     "end_time": "2019-06-25T22:15:40.625430Z",
     "start_time": "2019-06-25T22:15:39.089085Z"
    }
   },
   "outputs": [
    {
     "name": "stderr",
     "output_type": "stream",
     "text": [
      "Using `tqdm.autonotebook.tqdm` in notebook mode. Use `tqdm.tqdm` instead to force console mode (e.g. in jupyter console)\n",
      "Failed to import duecredit due to No module named 'duecredit'\n"
     ]
    }
   ],
   "source": [
    "import pandas as pd\n",
    "import matplotlib.pyplot as plt\n",
    "from sklearn.linear_model import LinearRegression\n",
    "import warnings\n",
    "import matplotlib\n",
    "from causalml.inference.meta import BaseXLearner\n",
    "from causalml.dataset import synthetic_data\n",
    "\n",
    "from causalml.metrics.sensitivity import Sensitivity\n",
    "from causalml.metrics.sensitivity import SensitivityRandomReplace, SensitivitySelectionBias\n",
    "\n",
    "plt.style.use('fivethirtyeight')\n",
    "matplotlib.rcParams['figure.figsize'] = [8, 8]\n",
    "warnings.filterwarnings('ignore')\n",
    "\n",
    "# logging.basicConfig(level=logging.INFO)\n",
    "\n",
    "pd.options.display.float_format = '{:.4f}'.format"
   ]
  },
  {
   "cell_type": "markdown",
   "metadata": {
    "toc-hr-collapsed": true
   },
   "source": [
    "# Data Pred"
   ]
  },
  {
   "cell_type": "markdown",
   "metadata": {},
   "source": [
    "## Generate Synthetic data"
   ]
  },
  {
   "cell_type": "code",
   "execution_count": 3,
   "metadata": {},
   "outputs": [],
   "source": [
    "# Generate synthetic data using mode 1\n",
    "num_features = 6 \n",
    "y, X, treatment, tau, b, e = synthetic_data(mode=1, n=100000, p=num_features, sigma=1.0)"
   ]
  },
  {
   "cell_type": "code",
   "execution_count": 4,
   "metadata": {},
   "outputs": [
    {
     "data": {
      "text/plain": [
       "0.49956747213861824"
      ]
     },
     "execution_count": 4,
     "metadata": {},
     "output_type": "execute_result"
    }
   ],
   "source": [
    "tau.mean()"
   ]
  },
  {
   "cell_type": "markdown",
   "metadata": {},
   "source": [
    "## Define Features"
   ]
  },
  {
   "cell_type": "code",
   "execution_count": 5,
   "metadata": {},
   "outputs": [],
   "source": [
    "# Generate features names\n",
    "INFERENCE_FEATURES = ['feature_' + str(i) for i in range(num_features)]\n",
    "TREATMENT_COL = 'target'\n",
    "OUTCOME_COL = 'outcome'\n",
    "SCORE_COL = 'pihat'"
   ]
  },
  {
   "cell_type": "code",
   "execution_count": 6,
   "metadata": {},
   "outputs": [],
   "source": [
    "df = pd.DataFrame(X, columns=INFERENCE_FEATURES)\n",
    "df[TREATMENT_COL] = treatment\n",
    "df[OUTCOME_COL] = y\n",
    "df[SCORE_COL] = e"
   ]
  },
  {
   "cell_type": "code",
   "execution_count": 7,
   "metadata": {},
   "outputs": [
    {
     "data": {
      "text/html": [
       "<div>\n",
       "<style scoped>\n",
       "    .dataframe tbody tr th:only-of-type {\n",
       "        vertical-align: middle;\n",
       "    }\n",
       "\n",
       "    .dataframe tbody tr th {\n",
       "        vertical-align: top;\n",
       "    }\n",
       "\n",
       "    .dataframe thead th {\n",
       "        text-align: right;\n",
       "    }\n",
       "</style>\n",
       "<table border=\"1\" class=\"dataframe\">\n",
       "  <thead>\n",
       "    <tr style=\"text-align: right;\">\n",
       "      <th></th>\n",
       "      <th>feature_0</th>\n",
       "      <th>feature_1</th>\n",
       "      <th>feature_2</th>\n",
       "      <th>feature_3</th>\n",
       "      <th>feature_4</th>\n",
       "      <th>feature_5</th>\n",
       "      <th>target</th>\n",
       "      <th>outcome</th>\n",
       "      <th>pihat</th>\n",
       "    </tr>\n",
       "  </thead>\n",
       "  <tbody>\n",
       "    <tr>\n",
       "      <th>0</th>\n",
       "      <td>0.1775</td>\n",
       "      <td>0.2104</td>\n",
       "      <td>0.4028</td>\n",
       "      <td>0.2181</td>\n",
       "      <td>0.1159</td>\n",
       "      <td>0.5918</td>\n",
       "      <td>0</td>\n",
       "      <td>0.2213</td>\n",
       "      <td>0.1171</td>\n",
       "    </tr>\n",
       "    <tr>\n",
       "      <th>1</th>\n",
       "      <td>0.9149</td>\n",
       "      <td>0.8303</td>\n",
       "      <td>0.6826</td>\n",
       "      <td>0.8808</td>\n",
       "      <td>0.2766</td>\n",
       "      <td>0.8641</td>\n",
       "      <td>0</td>\n",
       "      <td>1.5051</td>\n",
       "      <td>0.6855</td>\n",
       "    </tr>\n",
       "    <tr>\n",
       "      <th>2</th>\n",
       "      <td>0.9974</td>\n",
       "      <td>0.1657</td>\n",
       "      <td>0.3534</td>\n",
       "      <td>0.4394</td>\n",
       "      <td>0.3804</td>\n",
       "      <td>0.0327</td>\n",
       "      <td>1</td>\n",
       "      <td>1.1339</td>\n",
       "      <td>0.4961</td>\n",
       "    </tr>\n",
       "    <tr>\n",
       "      <th>3</th>\n",
       "      <td>0.9035</td>\n",
       "      <td>0.1162</td>\n",
       "      <td>0.2273</td>\n",
       "      <td>0.5503</td>\n",
       "      <td>0.7841</td>\n",
       "      <td>0.8270</td>\n",
       "      <td>0</td>\n",
       "      <td>2.0358</td>\n",
       "      <td>0.3238</td>\n",
       "    </tr>\n",
       "    <tr>\n",
       "      <th>4</th>\n",
       "      <td>0.4512</td>\n",
       "      <td>0.3826</td>\n",
       "      <td>0.5297</td>\n",
       "      <td>0.1339</td>\n",
       "      <td>0.2491</td>\n",
       "      <td>0.0309</td>\n",
       "      <td>1</td>\n",
       "      <td>1.2459</td>\n",
       "      <td>0.5161</td>\n",
       "    </tr>\n",
       "  </tbody>\n",
       "</table>\n",
       "</div>"
      ],
      "text/plain": [
       "   feature_0  feature_1  feature_2  feature_3  feature_4  feature_5  target  \\\n",
       "0     0.1775     0.2104     0.4028     0.2181     0.1159     0.5918       0   \n",
       "1     0.9149     0.8303     0.6826     0.8808     0.2766     0.8641       0   \n",
       "2     0.9974     0.1657     0.3534     0.4394     0.3804     0.0327       1   \n",
       "3     0.9035     0.1162     0.2273     0.5503     0.7841     0.8270       0   \n",
       "4     0.4512     0.3826     0.5297     0.1339     0.2491     0.0309       1   \n",
       "\n",
       "   outcome  pihat  \n",
       "0   0.2213 0.1171  \n",
       "1   1.5051 0.6855  \n",
       "2   1.1339 0.4961  \n",
       "3   2.0358 0.3238  \n",
       "4   1.2459 0.5161  "
      ]
     },
     "execution_count": 7,
     "metadata": {},
     "output_type": "execute_result"
    }
   ],
   "source": [
    "df.head()"
   ]
  },
  {
   "cell_type": "markdown",
   "metadata": {},
   "source": [
    "# Sensitivity Analysis"
   ]
  },
  {
   "cell_type": "markdown",
   "metadata": {},
   "source": [
    "## With all Covariates"
   ]
  },
  {
   "cell_type": "markdown",
   "metadata": {},
   "source": [
    "### Sensitivity Analysis Summary Report (with One-sided confounding function and default alpha)"
   ]
  },
  {
   "cell_type": "code",
   "execution_count": 8,
   "metadata": {},
   "outputs": [],
   "source": [
    "# Calling the Base XLearner class and return the sensitivity analysis summary report\n",
    "learner_x = BaseXLearner(LinearRegression())\n",
    "sens_x = Sensitivity(df=df, inference_features=INFERENCE_FEATURES, p_col='pihat',\n",
    "                     treatment_col=TREATMENT_COL, outcome_col=OUTCOME_COL, learner=learner_x)\n",
    "# Here for Selection Bias method will use default one-sided confounding function and alpha (quantile range of outcome values) input\n",
    "sens_sumary_x = sens_x.sensitivity_analysis(methods=['Placebo Treatment',\n",
    "                                                     'Random Cause',\n",
    "                                                     'Subset Data',\n",
    "                                                     'Random Replace',\n",
    "                                                     'Selection Bias'], sample_size=0.5)"
   ]
  },
  {
   "cell_type": "code",
   "execution_count": 9,
   "metadata": {},
   "outputs": [
    {
     "data": {
      "text/html": [
       "<div>\n",
       "<style scoped>\n",
       "    .dataframe tbody tr th:only-of-type {\n",
       "        vertical-align: middle;\n",
       "    }\n",
       "\n",
       "    .dataframe tbody tr th {\n",
       "        vertical-align: top;\n",
       "    }\n",
       "\n",
       "    .dataframe thead th {\n",
       "        text-align: right;\n",
       "    }\n",
       "</style>\n",
       "<table border=\"1\" class=\"dataframe\">\n",
       "  <thead>\n",
       "    <tr style=\"text-align: right;\">\n",
       "      <th></th>\n",
       "      <th>Method</th>\n",
       "      <th>ATE</th>\n",
       "      <th>New ATE</th>\n",
       "      <th>New ATE LB</th>\n",
       "      <th>New ATE UB</th>\n",
       "    </tr>\n",
       "  </thead>\n",
       "  <tbody>\n",
       "    <tr>\n",
       "      <th>0</th>\n",
       "      <td>Placebo Treatment</td>\n",
       "      <td>0.6760</td>\n",
       "      <td>-0.0032</td>\n",
       "      <td>-0.0165</td>\n",
       "      <td>0.0101</td>\n",
       "    </tr>\n",
       "    <tr>\n",
       "      <th>1</th>\n",
       "      <td>Random Cause</td>\n",
       "      <td>0.6760</td>\n",
       "      <td>0.6760</td>\n",
       "      <td>0.6631</td>\n",
       "      <td>0.6888</td>\n",
       "    </tr>\n",
       "    <tr>\n",
       "      <th>2</th>\n",
       "      <td>Subset Data(sample size @0.5)</td>\n",
       "      <td>0.6760</td>\n",
       "      <td>0.6720</td>\n",
       "      <td>0.6538</td>\n",
       "      <td>0.6902</td>\n",
       "    </tr>\n",
       "    <tr>\n",
       "      <th>3</th>\n",
       "      <td>Random Replace</td>\n",
       "      <td>0.6760</td>\n",
       "      <td>0.8070</td>\n",
       "      <td>0.7941</td>\n",
       "      <td>0.8199</td>\n",
       "    </tr>\n",
       "    <tr>\n",
       "      <th>4</th>\n",
       "      <td>Selection Bias (alpha@-0.81246, with r-sqaure:...</td>\n",
       "      <td>NaN</td>\n",
       "      <td>1.3537</td>\n",
       "      <td>1.3411</td>\n",
       "      <td>1.3664</td>\n",
       "    </tr>\n",
       "  </tbody>\n",
       "</table>\n",
       "</div>"
      ],
      "text/plain": [
       "                                              Method    ATE  New ATE  \\\n",
       "0                                  Placebo Treatment 0.6760  -0.0032   \n",
       "1                                       Random Cause 0.6760   0.6760   \n",
       "2                      Subset Data(sample size @0.5) 0.6760   0.6720   \n",
       "3                                     Random Replace 0.6760   0.8070   \n",
       "4  Selection Bias (alpha@-0.81246, with r-sqaure:...    NaN   1.3537   \n",
       "\n",
       "   New ATE LB  New ATE UB  \n",
       "0     -0.0165      0.0101  \n",
       "1      0.6631      0.6888  \n",
       "2      0.6538      0.6902  \n",
       "3      0.7941      0.8199  \n",
       "4      1.3411      1.3664  "
      ]
     },
     "execution_count": 9,
     "metadata": {},
     "output_type": "execute_result"
    }
   ],
   "source": [
    "# From the following results, refutation methods show our model is pretty robust; \n",
    "# When alpah > 0, the treated group always has higher mean potential outcomes than the control; when  < 0, the control group is better off.\n",
    "sens_sumary_x"
   ]
  },
  {
   "cell_type": "markdown",
   "metadata": {},
   "source": [
    "### Random Replace"
   ]
  },
  {
   "cell_type": "code",
   "execution_count": 10,
   "metadata": {},
   "outputs": [
    {
     "data": {
      "text/html": [
       "<div>\n",
       "<style scoped>\n",
       "    .dataframe tbody tr th:only-of-type {\n",
       "        vertical-align: middle;\n",
       "    }\n",
       "\n",
       "    .dataframe tbody tr th {\n",
       "        vertical-align: top;\n",
       "    }\n",
       "\n",
       "    .dataframe thead th {\n",
       "        text-align: right;\n",
       "    }\n",
       "</style>\n",
       "<table border=\"1\" class=\"dataframe\">\n",
       "  <thead>\n",
       "    <tr style=\"text-align: right;\">\n",
       "      <th></th>\n",
       "      <th>Method</th>\n",
       "      <th>ATE</th>\n",
       "      <th>New ATE</th>\n",
       "      <th>New ATE LB</th>\n",
       "      <th>New ATE UB</th>\n",
       "    </tr>\n",
       "  </thead>\n",
       "  <tbody>\n",
       "    <tr>\n",
       "      <th>0</th>\n",
       "      <td>Random Replace</td>\n",
       "      <td>0.6760</td>\n",
       "      <td>0.8070</td>\n",
       "      <td>0.7941</td>\n",
       "      <td>0.8199</td>\n",
       "    </tr>\n",
       "  </tbody>\n",
       "</table>\n",
       "</div>"
      ],
      "text/plain": [
       "           Method    ATE New ATE New ATE LB New ATE UB\n",
       "0  Random Replace 0.6760  0.8070     0.7941     0.8199"
      ]
     },
     "execution_count": 10,
     "metadata": {},
     "output_type": "execute_result"
    }
   ],
   "source": [
    "# Replace feature_0 with an irrelevent variable\n",
    "sens_x_replace = SensitivityRandomReplace(df=df, inference_features=INFERENCE_FEATURES, p_col='pihat',\n",
    "                                          treatment_col=TREATMENT_COL, outcome_col=OUTCOME_COL, learner=learner_x,\n",
    "                                          sample_size=0.9, replaced_feature='feature_0')\n",
    "s_check_replace = sens_x_replace.summary(method='Random Replace')\n",
    "s_check_replace"
   ]
  },
  {
   "cell_type": "markdown",
   "metadata": {},
   "source": [
    "### Selection Bias: Alignment confounding Function"
   ]
  },
  {
   "cell_type": "code",
   "execution_count": 11,
   "metadata": {},
   "outputs": [],
   "source": [
    "sens_x_bias_alignment = SensitivitySelectionBias(df, INFERENCE_FEATURES, p_col='pihat', treatment_col=TREATMENT_COL,\n",
    "                                                 outcome_col=OUTCOME_COL, learner=learner_x, confound='alignment',\n",
    "                                                 alpha_range=None)"
   ]
  },
  {
   "cell_type": "code",
   "execution_count": 12,
   "metadata": {},
   "outputs": [],
   "source": [
    "lls_x_bias_alignment, partial_rsqs_x_bias_alignment = sens_x_bias_alignment.causalsens()"
   ]
  },
  {
   "cell_type": "code",
   "execution_count": 13,
   "metadata": {},
   "outputs": [
    {
     "data": {
      "text/html": [
       "<div>\n",
       "<style scoped>\n",
       "    .dataframe tbody tr th:only-of-type {\n",
       "        vertical-align: middle;\n",
       "    }\n",
       "\n",
       "    .dataframe tbody tr th {\n",
       "        vertical-align: top;\n",
       "    }\n",
       "\n",
       "    .dataframe thead th {\n",
       "        text-align: right;\n",
       "    }\n",
       "</style>\n",
       "<table border=\"1\" class=\"dataframe\">\n",
       "  <thead>\n",
       "    <tr style=\"text-align: right;\">\n",
       "      <th></th>\n",
       "      <th>alpha</th>\n",
       "      <th>rsqs</th>\n",
       "      <th>New ATE</th>\n",
       "      <th>New ATE LB</th>\n",
       "      <th>New ATE UB</th>\n",
       "    </tr>\n",
       "  </thead>\n",
       "  <tbody>\n",
       "    <tr>\n",
       "      <th>0</th>\n",
       "      <td>-0.8125</td>\n",
       "      <td>0.1091</td>\n",
       "      <td>0.6647</td>\n",
       "      <td>0.6518</td>\n",
       "      <td>0.6776</td>\n",
       "    </tr>\n",
       "    <tr>\n",
       "      <th>1</th>\n",
       "      <td>-0.6500</td>\n",
       "      <td>0.0732</td>\n",
       "      <td>0.6670</td>\n",
       "      <td>0.6541</td>\n",
       "      <td>0.6798</td>\n",
       "    </tr>\n",
       "    <tr>\n",
       "      <th>2</th>\n",
       "      <td>-0.4875</td>\n",
       "      <td>0.0428</td>\n",
       "      <td>0.6692</td>\n",
       "      <td>0.6564</td>\n",
       "      <td>0.6820</td>\n",
       "    </tr>\n",
       "    <tr>\n",
       "      <th>3</th>\n",
       "      <td>-0.3250</td>\n",
       "      <td>0.0197</td>\n",
       "      <td>0.6715</td>\n",
       "      <td>0.6587</td>\n",
       "      <td>0.6842</td>\n",
       "    </tr>\n",
       "    <tr>\n",
       "      <th>4</th>\n",
       "      <td>-0.1625</td>\n",
       "      <td>0.0050</td>\n",
       "      <td>0.6737</td>\n",
       "      <td>0.6609</td>\n",
       "      <td>0.6865</td>\n",
       "    </tr>\n",
       "    <tr>\n",
       "      <th>5</th>\n",
       "      <td>0.0000</td>\n",
       "      <td>0.0000</td>\n",
       "      <td>0.6760</td>\n",
       "      <td>0.6631</td>\n",
       "      <td>0.6888</td>\n",
       "    </tr>\n",
       "    <tr>\n",
       "      <th>6</th>\n",
       "      <td>0.1625</td>\n",
       "      <td>0.0051</td>\n",
       "      <td>0.6782</td>\n",
       "      <td>0.6653</td>\n",
       "      <td>0.6911</td>\n",
       "    </tr>\n",
       "    <tr>\n",
       "      <th>7</th>\n",
       "      <td>0.3250</td>\n",
       "      <td>0.0205</td>\n",
       "      <td>0.6805</td>\n",
       "      <td>0.6675</td>\n",
       "      <td>0.6934</td>\n",
       "    </tr>\n",
       "    <tr>\n",
       "      <th>8</th>\n",
       "      <td>0.4875</td>\n",
       "      <td>0.0455</td>\n",
       "      <td>0.6827</td>\n",
       "      <td>0.6697</td>\n",
       "      <td>0.6958</td>\n",
       "    </tr>\n",
       "    <tr>\n",
       "      <th>9</th>\n",
       "      <td>0.6500</td>\n",
       "      <td>0.0790</td>\n",
       "      <td>0.6850</td>\n",
       "      <td>0.6718</td>\n",
       "      <td>0.6981</td>\n",
       "    </tr>\n",
       "    <tr>\n",
       "      <th>10</th>\n",
       "      <td>0.8125</td>\n",
       "      <td>0.1196</td>\n",
       "      <td>0.6872</td>\n",
       "      <td>0.6739</td>\n",
       "      <td>0.7005</td>\n",
       "    </tr>\n",
       "  </tbody>\n",
       "</table>\n",
       "</div>"
      ],
      "text/plain": [
       "     alpha   rsqs  New ATE  New ATE LB  New ATE UB\n",
       "0  -0.8125 0.1091   0.6647      0.6518      0.6776\n",
       "1  -0.6500 0.0732   0.6670      0.6541      0.6798\n",
       "2  -0.4875 0.0428   0.6692      0.6564      0.6820\n",
       "3  -0.3250 0.0197   0.6715      0.6587      0.6842\n",
       "4  -0.1625 0.0050   0.6737      0.6609      0.6865\n",
       "5   0.0000 0.0000   0.6760      0.6631      0.6888\n",
       "6   0.1625 0.0051   0.6782      0.6653      0.6911\n",
       "7   0.3250 0.0205   0.6805      0.6675      0.6934\n",
       "8   0.4875 0.0455   0.6827      0.6697      0.6958\n",
       "9   0.6500 0.0790   0.6850      0.6718      0.6981\n",
       "10  0.8125 0.1196   0.6872      0.6739      0.7005"
      ]
     },
     "execution_count": 13,
     "metadata": {},
     "output_type": "execute_result"
    }
   ],
   "source": [
    "lls_x_bias_alignment"
   ]
  },
  {
   "cell_type": "code",
   "execution_count": 14,
   "metadata": {},
   "outputs": [
    {
     "data": {
      "text/html": [
       "<div>\n",
       "<style scoped>\n",
       "    .dataframe tbody tr th:only-of-type {\n",
       "        vertical-align: middle;\n",
       "    }\n",
       "\n",
       "    .dataframe tbody tr th {\n",
       "        vertical-align: top;\n",
       "    }\n",
       "\n",
       "    .dataframe thead th {\n",
       "        text-align: right;\n",
       "    }\n",
       "</style>\n",
       "<table border=\"1\" class=\"dataframe\">\n",
       "  <thead>\n",
       "    <tr style=\"text-align: right;\">\n",
       "      <th></th>\n",
       "      <th>feature</th>\n",
       "      <th>partial_rsqs</th>\n",
       "    </tr>\n",
       "  </thead>\n",
       "  <tbody>\n",
       "    <tr>\n",
       "      <th>0</th>\n",
       "      <td>feature_0</td>\n",
       "      <td>-0.0637</td>\n",
       "    </tr>\n",
       "    <tr>\n",
       "      <th>1</th>\n",
       "      <td>feature_1</td>\n",
       "      <td>-0.0673</td>\n",
       "    </tr>\n",
       "    <tr>\n",
       "      <th>2</th>\n",
       "      <td>feature_2</td>\n",
       "      <td>-0.0000</td>\n",
       "    </tr>\n",
       "    <tr>\n",
       "      <th>3</th>\n",
       "      <td>feature_3</td>\n",
       "      <td>-0.0018</td>\n",
       "    </tr>\n",
       "    <tr>\n",
       "      <th>4</th>\n",
       "      <td>feature_4</td>\n",
       "      <td>-0.0015</td>\n",
       "    </tr>\n",
       "    <tr>\n",
       "      <th>5</th>\n",
       "      <td>feature_5</td>\n",
       "      <td>-0.0000</td>\n",
       "    </tr>\n",
       "  </tbody>\n",
       "</table>\n",
       "</div>"
      ],
      "text/plain": [
       "     feature partial_rsqs\n",
       "0  feature_0      -0.0637\n",
       "1  feature_1      -0.0673\n",
       "2  feature_2      -0.0000\n",
       "3  feature_3      -0.0018\n",
       "4  feature_4      -0.0015\n",
       "5  feature_5      -0.0000"
      ]
     },
     "execution_count": 14,
     "metadata": {},
     "output_type": "execute_result"
    }
   ],
   "source": [
    "partial_rsqs_x_bias_alignment"
   ]
  },
  {
   "cell_type": "code",
   "execution_count": 15,
   "metadata": {},
   "outputs": [
    {
     "data": {
      "image/png": "[encoded data removed]",
      "text/plain": [
       "<Figure size 800x800 with 1 Axes>"
      ]
     },
     "metadata": {},
     "output_type": "display_data"
    }
   ],
   "source": [
    "# Plot the results by confounding vector and plot Confidence Intervals for ATE\n",
    "sens_x_bias_alignment.plot(lls_x_bias_alignment, ci=True)"
   ]
  },
  {
   "cell_type": "code",
   "execution_count": 16,
   "metadata": {},
   "outputs": [
    {
     "data": {
      "image/png": "[encoded data removed]",
      "text/plain": [
       "<Figure size 800x800 with 1 Axes>"
      ]
     },
     "metadata": {},
     "output_type": "display_data"
    }
   ],
   "source": [
    "# Plot the results by rsquare with partial r-square results by each individual features\n",
    "sens_x_bias_alignment.plot(lls_x_bias_alignment, partial_rsqs_x_bias_alignment, type='r.squared', partial_rsqs=True)"
   ]
  },
  {
   "cell_type": "markdown",
   "metadata": {},
   "source": [
    "## Drop One Confounder"
   ]
  },
  {
   "cell_type": "code",
   "execution_count": 17,
   "metadata": {},
   "outputs": [
    {
     "data": {
      "text/html": [
       "<div>\n",
       "<style scoped>\n",
       "    .dataframe tbody tr th:only-of-type {\n",
       "        vertical-align: middle;\n",
       "    }\n",
       "\n",
       "    .dataframe tbody tr th {\n",
       "        vertical-align: top;\n",
       "    }\n",
       "\n",
       "    .dataframe thead th {\n",
       "        text-align: right;\n",
       "    }\n",
       "</style>\n",
       "<table border=\"1\" class=\"dataframe\">\n",
       "  <thead>\n",
       "    <tr style=\"text-align: right;\">\n",
       "      <th></th>\n",
       "      <th>feature_1</th>\n",
       "      <th>feature_2</th>\n",
       "      <th>feature_3</th>\n",
       "      <th>feature_4</th>\n",
       "      <th>feature_5</th>\n",
       "      <th>target</th>\n",
       "      <th>outcome</th>\n",
       "      <th>pihat</th>\n",
       "    </tr>\n",
       "  </thead>\n",
       "  <tbody>\n",
       "    <tr>\n",
       "      <th>0</th>\n",
       "      <td>0.2104</td>\n",
       "      <td>0.4028</td>\n",
       "      <td>0.2181</td>\n",
       "      <td>0.1159</td>\n",
       "      <td>0.5918</td>\n",
       "      <td>0</td>\n",
       "      <td>0.2213</td>\n",
       "      <td>0.1171</td>\n",
       "    </tr>\n",
       "    <tr>\n",
       "      <th>1</th>\n",
       "      <td>0.8303</td>\n",
       "      <td>0.6826</td>\n",
       "      <td>0.8808</td>\n",
       "      <td>0.2766</td>\n",
       "      <td>0.8641</td>\n",
       "      <td>0</td>\n",
       "      <td>1.5051</td>\n",
       "      <td>0.6855</td>\n",
       "    </tr>\n",
       "    <tr>\n",
       "      <th>2</th>\n",
       "      <td>0.1657</td>\n",
       "      <td>0.3534</td>\n",
       "      <td>0.4394</td>\n",
       "      <td>0.3804</td>\n",
       "      <td>0.0327</td>\n",
       "      <td>1</td>\n",
       "      <td>1.1339</td>\n",
       "      <td>0.4961</td>\n",
       "    </tr>\n",
       "    <tr>\n",
       "      <th>3</th>\n",
       "      <td>0.1162</td>\n",
       "      <td>0.2273</td>\n",
       "      <td>0.5503</td>\n",
       "      <td>0.7841</td>\n",
       "      <td>0.8270</td>\n",
       "      <td>0</td>\n",
       "      <td>2.0358</td>\n",
       "      <td>0.3238</td>\n",
       "    </tr>\n",
       "    <tr>\n",
       "      <th>4</th>\n",
       "      <td>0.3826</td>\n",
       "      <td>0.5297</td>\n",
       "      <td>0.1339</td>\n",
       "      <td>0.2491</td>\n",
       "      <td>0.0309</td>\n",
       "      <td>1</td>\n",
       "      <td>1.2459</td>\n",
       "      <td>0.5161</td>\n",
       "    </tr>\n",
       "  </tbody>\n",
       "</table>\n",
       "</div>"
      ],
      "text/plain": [
       "   feature_1  feature_2  feature_3  feature_4  feature_5  target  outcome  \\\n",
       "0     0.2104     0.4028     0.2181     0.1159     0.5918       0   0.2213   \n",
       "1     0.8303     0.6826     0.8808     0.2766     0.8641       0   1.5051   \n",
       "2     0.1657     0.3534     0.4394     0.3804     0.0327       1   1.1339   \n",
       "3     0.1162     0.2273     0.5503     0.7841     0.8270       0   2.0358   \n",
       "4     0.3826     0.5297     0.1339     0.2491     0.0309       1   1.2459   \n",
       "\n",
       "   pihat  \n",
       "0 0.1171  \n",
       "1 0.6855  \n",
       "2 0.4961  \n",
       "3 0.3238  \n",
       "4 0.5161  "
      ]
     },
     "execution_count": 17,
     "metadata": {},
     "output_type": "execute_result"
    }
   ],
   "source": [
    "df_new = df.drop('feature_0', axis=1).copy()\n",
    "INFERENCE_FEATURES_new = INFERENCE_FEATURES.copy()\n",
    "INFERENCE_FEATURES_new.remove('feature_0')\n",
    "df_new.head()"
   ]
  },
  {
   "cell_type": "code",
   "execution_count": 18,
   "metadata": {},
   "outputs": [
    {
     "data": {
      "text/plain": [
       "['feature_1', 'feature_2', 'feature_3', 'feature_4', 'feature_5']"
      ]
     },
     "execution_count": 18,
     "metadata": {},
     "output_type": "execute_result"
    }
   ],
   "source": [
    "INFERENCE_FEATURES_new"
   ]
  },
  {
   "cell_type": "markdown",
   "metadata": {},
   "source": [
    "### Sensitivity Analysis Summary Report (with One-sided confounding function and default alpha)"
   ]
  },
  {
   "cell_type": "code",
   "execution_count": 19,
   "metadata": {},
   "outputs": [],
   "source": [
    "sens_x_new = Sensitivity(df=df_new, inference_features=INFERENCE_FEATURES_new, p_col='pihat',\n",
    "                     treatment_col=TREATMENT_COL, outcome_col=OUTCOME_COL, learner=learner_x)\n",
    "# Here for Selection Bias method will use default one-sided confounding function and alpha (quantile range of outcome values) input\n",
    "sens_sumary_x_new = sens_x_new.sensitivity_analysis(methods=['Placebo Treatment',\n",
    "                                                     'Random Cause',\n",
    "                                                     'Subset Data',\n",
    "                                                     'Random Replace',\n",
    "                                                     'Selection Bias'], sample_size=0.5)"
   ]
  },
  {
   "cell_type": "code",
   "execution_count": 20,
   "metadata": {},
   "outputs": [
    {
     "data": {
      "text/html": [
       "<div>\n",
       "<style scoped>\n",
       "    .dataframe tbody tr th:only-of-type {\n",
       "        vertical-align: middle;\n",
       "    }\n",
       "\n",
       "    .dataframe tbody tr th {\n",
       "        vertical-align: top;\n",
       "    }\n",
       "\n",
       "    .dataframe thead th {\n",
       "        text-align: right;\n",
       "    }\n",
       "</style>\n",
       "<table border=\"1\" class=\"dataframe\">\n",
       "  <thead>\n",
       "    <tr style=\"text-align: right;\">\n",
       "      <th></th>\n",
       "      <th>Method</th>\n",
       "      <th>ATE</th>\n",
       "      <th>New ATE</th>\n",
       "      <th>New ATE LB</th>\n",
       "      <th>New ATE UB</th>\n",
       "    </tr>\n",
       "  </thead>\n",
       "  <tbody>\n",
       "    <tr>\n",
       "      <th>0</th>\n",
       "      <td>Placebo Treatment</td>\n",
       "      <td>0.8070</td>\n",
       "      <td>-0.0032</td>\n",
       "      <td>-0.0169</td>\n",
       "      <td>0.0106</td>\n",
       "    </tr>\n",
       "    <tr>\n",
       "      <th>1</th>\n",
       "      <td>Random Cause</td>\n",
       "      <td>0.8070</td>\n",
       "      <td>0.8070</td>\n",
       "      <td>0.7941</td>\n",
       "      <td>0.8199</td>\n",
       "    </tr>\n",
       "    <tr>\n",
       "      <th>2</th>\n",
       "      <td>Subset Data(sample size @0.5)</td>\n",
       "      <td>0.8070</td>\n",
       "      <td>0.8093</td>\n",
       "      <td>0.7910</td>\n",
       "      <td>0.8276</td>\n",
       "    </tr>\n",
       "    <tr>\n",
       "      <th>3</th>\n",
       "      <td>Random Replace</td>\n",
       "      <td>0.8070</td>\n",
       "      <td>0.9067</td>\n",
       "      <td>0.8937</td>\n",
       "      <td>0.9197</td>\n",
       "    </tr>\n",
       "    <tr>\n",
       "      <th>4</th>\n",
       "      <td>Selection Bias (alpha@-0.81246, with r-sqaure:...</td>\n",
       "      <td>NaN</td>\n",
       "      <td>1.3889</td>\n",
       "      <td>1.3762</td>\n",
       "      <td>1.4015</td>\n",
       "    </tr>\n",
       "  </tbody>\n",
       "</table>\n",
       "</div>"
      ],
      "text/plain": [
       "                                              Method    ATE  New ATE  \\\n",
       "0                                  Placebo Treatment 0.8070  -0.0032   \n",
       "1                                       Random Cause 0.8070   0.8070   \n",
       "2                      Subset Data(sample size @0.5) 0.8070   0.8093   \n",
       "3                                     Random Replace 0.8070   0.9067   \n",
       "4  Selection Bias (alpha@-0.81246, with r-sqaure:...    NaN   1.3889   \n",
       "\n",
       "   New ATE LB  New ATE UB  \n",
       "0     -0.0169      0.0106  \n",
       "1      0.7941      0.8199  \n",
       "2      0.7910      0.8276  \n",
       "3      0.8937      0.9197  \n",
       "4      1.3762      1.4015  "
      ]
     },
     "execution_count": 20,
     "metadata": {},
     "output_type": "execute_result"
    }
   ],
   "source": [
    "# Here we can see the New ATE restul from Random Replace method actually changed ~ 12.5%\n",
    "sens_sumary_x_new"
   ]
  },
  {
   "cell_type": "markdown",
   "metadata": {},
   "source": [
    "### Random Replace"
   ]
  },
  {
   "cell_type": "code",
   "execution_count": 21,
   "metadata": {},
   "outputs": [
    {
     "data": {
      "text/html": [
       "<div>\n",
       "<style scoped>\n",
       "    .dataframe tbody tr th:only-of-type {\n",
       "        vertical-align: middle;\n",
       "    }\n",
       "\n",
       "    .dataframe tbody tr th {\n",
       "        vertical-align: top;\n",
       "    }\n",
       "\n",
       "    .dataframe thead th {\n",
       "        text-align: right;\n",
       "    }\n",
       "</style>\n",
       "<table border=\"1\" class=\"dataframe\">\n",
       "  <thead>\n",
       "    <tr style=\"text-align: right;\">\n",
       "      <th></th>\n",
       "      <th>Method</th>\n",
       "      <th>ATE</th>\n",
       "      <th>New ATE</th>\n",
       "      <th>New ATE LB</th>\n",
       "      <th>New ATE UB</th>\n",
       "    </tr>\n",
       "  </thead>\n",
       "  <tbody>\n",
       "    <tr>\n",
       "      <th>0</th>\n",
       "      <td>Random Replace</td>\n",
       "      <td>0.8070</td>\n",
       "      <td>0.9067</td>\n",
       "      <td>0.8937</td>\n",
       "      <td>0.9197</td>\n",
       "    </tr>\n",
       "  </tbody>\n",
       "</table>\n",
       "</div>"
      ],
      "text/plain": [
       "           Method    ATE New ATE New ATE LB New ATE UB\n",
       "0  Random Replace 0.8070  0.9067     0.8937     0.9197"
      ]
     },
     "execution_count": 21,
     "metadata": {},
     "output_type": "execute_result"
    }
   ],
   "source": [
    "# Replace feature_0 with an irrelevent variable\n",
    "sens_x_replace_new = SensitivityRandomReplace(df=df_new, inference_features=INFERENCE_FEATURES_new, p_col='pihat',\n",
    "                                          treatment_col=TREATMENT_COL, outcome_col=OUTCOME_COL, learner=learner_x,\n",
    "                                          sample_size=0.9, replaced_feature='feature_1')\n",
    "s_check_replace_new = sens_x_replace_new.summary(method='Random Replace')\n",
    "s_check_replace_new"
   ]
  },
  {
   "cell_type": "markdown",
   "metadata": {},
   "source": [
    "### Selection Bias: Alignment confounding Function"
   ]
  },
  {
   "cell_type": "code",
   "execution_count": 22,
   "metadata": {},
   "outputs": [],
   "source": [
    "sens_x_bias_alignment_new = SensitivitySelectionBias(df_new, INFERENCE_FEATURES_new, p_col='pihat', treatment_col=TREATMENT_COL,\n",
    "                                                 outcome_col=OUTCOME_COL, learner=learner_x, confound='alignment',\n",
    "                                                 alpha_range=None)"
   ]
  },
  {
   "cell_type": "code",
   "execution_count": 23,
   "metadata": {},
   "outputs": [],
   "source": [
    "lls_x_bias_alignment_new, partial_rsqs_x_bias_alignment_new = sens_x_bias_alignment_new.causalsens()"
   ]
  },
  {
   "cell_type": "code",
   "execution_count": 24,
   "metadata": {},
   "outputs": [
    {
     "data": {
      "text/html": [
       "<div>\n",
       "<style scoped>\n",
       "    .dataframe tbody tr th:only-of-type {\n",
       "        vertical-align: middle;\n",
       "    }\n",
       "\n",
       "    .dataframe tbody tr th {\n",
       "        vertical-align: top;\n",
       "    }\n",
       "\n",
       "    .dataframe thead th {\n",
       "        text-align: right;\n",
       "    }\n",
       "</style>\n",
       "<table border=\"1\" class=\"dataframe\">\n",
       "  <thead>\n",
       "    <tr style=\"text-align: right;\">\n",
       "      <th></th>\n",
       "      <th>alpha</th>\n",
       "      <th>rsqs</th>\n",
       "      <th>New ATE</th>\n",
       "      <th>New ATE LB</th>\n",
       "      <th>New ATE UB</th>\n",
       "    </tr>\n",
       "  </thead>\n",
       "  <tbody>\n",
       "    <tr>\n",
       "      <th>0</th>\n",
       "      <td>-0.8125</td>\n",
       "      <td>0.1123</td>\n",
       "      <td>0.7909</td>\n",
       "      <td>0.7779</td>\n",
       "      <td>0.8039</td>\n",
       "    </tr>\n",
       "    <tr>\n",
       "      <th>1</th>\n",
       "      <td>-0.6500</td>\n",
       "      <td>0.0736</td>\n",
       "      <td>0.7941</td>\n",
       "      <td>0.7812</td>\n",
       "      <td>0.8071</td>\n",
       "    </tr>\n",
       "    <tr>\n",
       "      <th>2</th>\n",
       "      <td>-0.4875</td>\n",
       "      <td>0.0422</td>\n",
       "      <td>0.7974</td>\n",
       "      <td>0.7844</td>\n",
       "      <td>0.8103</td>\n",
       "    </tr>\n",
       "    <tr>\n",
       "      <th>3</th>\n",
       "      <td>-0.3250</td>\n",
       "      <td>0.0190</td>\n",
       "      <td>0.8006</td>\n",
       "      <td>0.7877</td>\n",
       "      <td>0.8135</td>\n",
       "    </tr>\n",
       "    <tr>\n",
       "      <th>4</th>\n",
       "      <td>-0.1625</td>\n",
       "      <td>0.0048</td>\n",
       "      <td>0.8038</td>\n",
       "      <td>0.7909</td>\n",
       "      <td>0.8167</td>\n",
       "    </tr>\n",
       "    <tr>\n",
       "      <th>5</th>\n",
       "      <td>0.0000</td>\n",
       "      <td>0.0000</td>\n",
       "      <td>0.8070</td>\n",
       "      <td>0.7941</td>\n",
       "      <td>0.8199</td>\n",
       "    </tr>\n",
       "    <tr>\n",
       "      <th>6</th>\n",
       "      <td>0.1625</td>\n",
       "      <td>0.0048</td>\n",
       "      <td>0.8102</td>\n",
       "      <td>0.7972</td>\n",
       "      <td>0.8231</td>\n",
       "    </tr>\n",
       "    <tr>\n",
       "      <th>7</th>\n",
       "      <td>0.3250</td>\n",
       "      <td>0.0193</td>\n",
       "      <td>0.8134</td>\n",
       "      <td>0.8004</td>\n",
       "      <td>0.8264</td>\n",
       "    </tr>\n",
       "    <tr>\n",
       "      <th>8</th>\n",
       "      <td>0.4875</td>\n",
       "      <td>0.0430</td>\n",
       "      <td>0.8166</td>\n",
       "      <td>0.8035</td>\n",
       "      <td>0.8297</td>\n",
       "    </tr>\n",
       "    <tr>\n",
       "      <th>9</th>\n",
       "      <td>0.6500</td>\n",
       "      <td>0.0755</td>\n",
       "      <td>0.8198</td>\n",
       "      <td>0.8066</td>\n",
       "      <td>0.8330</td>\n",
       "    </tr>\n",
       "    <tr>\n",
       "      <th>10</th>\n",
       "      <td>0.8125</td>\n",
       "      <td>0.1159</td>\n",
       "      <td>0.8230</td>\n",
       "      <td>0.8097</td>\n",
       "      <td>0.8363</td>\n",
       "    </tr>\n",
       "  </tbody>\n",
       "</table>\n",
       "</div>"
      ],
      "text/plain": [
       "     alpha   rsqs  New ATE  New ATE LB  New ATE UB\n",
       "0  -0.8125 0.1123   0.7909      0.7779      0.8039\n",
       "1  -0.6500 0.0736   0.7941      0.7812      0.8071\n",
       "2  -0.4875 0.0422   0.7974      0.7844      0.8103\n",
       "3  -0.3250 0.0190   0.8006      0.7877      0.8135\n",
       "4  -0.1625 0.0048   0.8038      0.7909      0.8167\n",
       "5   0.0000 0.0000   0.8070      0.7941      0.8199\n",
       "6   0.1625 0.0048   0.8102      0.7972      0.8231\n",
       "7   0.3250 0.0193   0.8134      0.8004      0.8264\n",
       "8   0.4875 0.0430   0.8166      0.8035      0.8297\n",
       "9   0.6500 0.0755   0.8198      0.8066      0.8330\n",
       "10  0.8125 0.1159   0.8230      0.8097      0.8363"
      ]
     },
     "execution_count": 24,
     "metadata": {},
     "output_type": "execute_result"
    }
   ],
   "source": [
    "lls_x_bias_alignment_new"
   ]
  },
  {
   "cell_type": "code",
   "execution_count": 25,
   "metadata": {},
   "outputs": [
    {
     "data": {
      "text/html": [
       "<div>\n",
       "<style scoped>\n",
       "    .dataframe tbody tr th:only-of-type {\n",
       "        vertical-align: middle;\n",
       "    }\n",
       "\n",
       "    .dataframe tbody tr th {\n",
       "        vertical-align: top;\n",
       "    }\n",
       "\n",
       "    .dataframe thead th {\n",
       "        text-align: right;\n",
       "    }\n",
       "</style>\n",
       "<table border=\"1\" class=\"dataframe\">\n",
       "  <thead>\n",
       "    <tr style=\"text-align: right;\">\n",
       "      <th></th>\n",
       "      <th>feature</th>\n",
       "      <th>partial_rsqs</th>\n",
       "    </tr>\n",
       "  </thead>\n",
       "  <tbody>\n",
       "    <tr>\n",
       "      <th>0</th>\n",
       "      <td>feature_1</td>\n",
       "      <td>-0.0395</td>\n",
       "    </tr>\n",
       "    <tr>\n",
       "      <th>1</th>\n",
       "      <td>feature_2</td>\n",
       "      <td>-0.0000</td>\n",
       "    </tr>\n",
       "    <tr>\n",
       "      <th>2</th>\n",
       "      <td>feature_3</td>\n",
       "      <td>-0.0012</td>\n",
       "    </tr>\n",
       "    <tr>\n",
       "      <th>3</th>\n",
       "      <td>feature_4</td>\n",
       "      <td>-0.0015</td>\n",
       "    </tr>\n",
       "    <tr>\n",
       "      <th>4</th>\n",
       "      <td>feature_5</td>\n",
       "      <td>-0.0000</td>\n",
       "    </tr>\n",
       "  </tbody>\n",
       "</table>\n",
       "</div>"
      ],
      "text/plain": [
       "     feature partial_rsqs\n",
       "0  feature_1      -0.0395\n",
       "1  feature_2      -0.0000\n",
       "2  feature_3      -0.0012\n",
       "3  feature_4      -0.0015\n",
       "4  feature_5      -0.0000"
      ]
     },
     "execution_count": 25,
     "metadata": {},
     "output_type": "execute_result"
    }
   ],
   "source": [
    "partial_rsqs_x_bias_alignment_new"
   ]
  },
  {
   "cell_type": "code",
   "execution_count": 26,
   "metadata": {},
   "outputs": [
    {
     "data": {
      "image/png": "[encoded data removed]",
      "text/plain": [
       "<Figure size 800x800 with 1 Axes>"
      ]
     },
     "metadata": {},
     "output_type": "display_data"
    }
   ],
   "source": [
    "# Plot the results by confounding vector and plot Confidence Intervals for ATE\n",
    "sens_x_bias_alignment_new.plot(lls_x_bias_alignment_new, ci=True)"
   ]
  },
  {
   "cell_type": "code",
   "execution_count": 27,
   "metadata": {},
   "outputs": [
    {
     "data": {
      "image/png": "[encoded data removed]",
      "text/plain": [
       "<Figure size 800x800 with 1 Axes>"
      ]
     },
     "metadata": {},
     "output_type": "display_data"
    }
   ],
   "source": [
    "# Plot the results by rsquare with partial r-square results by each individual features\n",
    "sens_x_bias_alignment_new.plot(lls_x_bias_alignment_new, partial_rsqs_x_bias_alignment_new, type='r.squared', partial_rsqs=True)"
   ]
  },
  {
   "cell_type": "markdown",
   "metadata": {},
   "source": [
    "## Generate a Selection Bias Set"
   ]
  },
  {
   "cell_type": "code",
   "execution_count": 28,
   "metadata": {},
   "outputs": [],
   "source": [
    "df_new_2 = df.copy()\n",
    "df_new_2['treated_new'] = df['feature_0'].rank()\n",
    "df_new_2['treated_new'] = [1 if i > df_new_2.shape[0]/2 else 0 for i in df_new_2['treated_new']]"
   ]
  },
  {
   "cell_type": "code",
   "execution_count": 29,
   "metadata": {},
   "outputs": [
    {
     "data": {
      "text/html": [
       "<div>\n",
       "<style scoped>\n",
       "    .dataframe tbody tr th:only-of-type {\n",
       "        vertical-align: middle;\n",
       "    }\n",
       "\n",
       "    .dataframe tbody tr th {\n",
       "        vertical-align: top;\n",
       "    }\n",
       "\n",
       "    .dataframe thead th {\n",
       "        text-align: right;\n",
       "    }\n",
       "</style>\n",
       "<table border=\"1\" class=\"dataframe\">\n",
       "  <thead>\n",
       "    <tr style=\"text-align: right;\">\n",
       "      <th></th>\n",
       "      <th>feature_0</th>\n",
       "      <th>feature_1</th>\n",
       "      <th>feature_2</th>\n",
       "      <th>feature_3</th>\n",
       "      <th>feature_4</th>\n",
       "      <th>feature_5</th>\n",
       "      <th>target</th>\n",
       "      <th>outcome</th>\n",
       "      <th>pihat</th>\n",
       "      <th>treated_new</th>\n",
       "    </tr>\n",
       "  </thead>\n",
       "  <tbody>\n",
       "    <tr>\n",
       "      <th>0</th>\n",
       "      <td>0.1775</td>\n",
       "      <td>0.2104</td>\n",
       "      <td>0.4028</td>\n",
       "      <td>0.2181</td>\n",
       "      <td>0.1159</td>\n",
       "      <td>0.5918</td>\n",
       "      <td>0</td>\n",
       "      <td>0.2213</td>\n",
       "      <td>0.1171</td>\n",
       "      <td>0</td>\n",
       "    </tr>\n",
       "    <tr>\n",
       "      <th>1</th>\n",
       "      <td>0.9149</td>\n",
       "      <td>0.8303</td>\n",
       "      <td>0.6826</td>\n",
       "      <td>0.8808</td>\n",
       "      <td>0.2766</td>\n",
       "      <td>0.8641</td>\n",
       "      <td>0</td>\n",
       "      <td>1.5051</td>\n",
       "      <td>0.6855</td>\n",
       "      <td>1</td>\n",
       "    </tr>\n",
       "    <tr>\n",
       "      <th>2</th>\n",
       "      <td>0.9974</td>\n",
       "      <td>0.1657</td>\n",
       "      <td>0.3534</td>\n",
       "      <td>0.4394</td>\n",
       "      <td>0.3804</td>\n",
       "      <td>0.0327</td>\n",
       "      <td>1</td>\n",
       "      <td>1.1339</td>\n",
       "      <td>0.4961</td>\n",
       "      <td>1</td>\n",
       "    </tr>\n",
       "    <tr>\n",
       "      <th>3</th>\n",
       "      <td>0.9035</td>\n",
       "      <td>0.1162</td>\n",
       "      <td>0.2273</td>\n",
       "      <td>0.5503</td>\n",
       "      <td>0.7841</td>\n",
       "      <td>0.8270</td>\n",
       "      <td>0</td>\n",
       "      <td>2.0358</td>\n",
       "      <td>0.3238</td>\n",
       "      <td>1</td>\n",
       "    </tr>\n",
       "    <tr>\n",
       "      <th>4</th>\n",
       "      <td>0.4512</td>\n",
       "      <td>0.3826</td>\n",
       "      <td>0.5297</td>\n",
       "      <td>0.1339</td>\n",
       "      <td>0.2491</td>\n",
       "      <td>0.0309</td>\n",
       "      <td>1</td>\n",
       "      <td>1.2459</td>\n",
       "      <td>0.5161</td>\n",
       "      <td>0</td>\n",
       "    </tr>\n",
       "  </tbody>\n",
       "</table>\n",
       "</div>"
      ],
      "text/plain": [
       "   feature_0  feature_1  feature_2  feature_3  feature_4  feature_5  target  \\\n",
       "0     0.1775     0.2104     0.4028     0.2181     0.1159     0.5918       0   \n",
       "1     0.9149     0.8303     0.6826     0.8808     0.2766     0.8641       0   \n",
       "2     0.9974     0.1657     0.3534     0.4394     0.3804     0.0327       1   \n",
       "3     0.9035     0.1162     0.2273     0.5503     0.7841     0.8270       0   \n",
       "4     0.4512     0.3826     0.5297     0.1339     0.2491     0.0309       1   \n",
       "\n",
       "   outcome  pihat  treated_new  \n",
       "0   0.2213 0.1171            0  \n",
       "1   1.5051 0.6855            1  \n",
       "2   1.1339 0.4961            1  \n",
       "3   2.0358 0.3238            1  \n",
       "4   1.2459 0.5161            0  "
      ]
     },
     "execution_count": 29,
     "metadata": {},
     "output_type": "execute_result"
    }
   ],
   "source": [
    "df_new_2.head()"
   ]
  },
  {
   "cell_type": "markdown",
   "metadata": {},
   "source": [
    "### Sensitivity Analysis Summary Report (with One-sided confounding function and default alpha)"
   ]
  },
  {
   "cell_type": "code",
   "execution_count": 30,
   "metadata": {},
   "outputs": [],
   "source": [
    "sens_x_new_2 = Sensitivity(df=df_new_2, inference_features=INFERENCE_FEATURES, p_col='pihat',\n",
    "                     treatment_col='treated_new', outcome_col=OUTCOME_COL, learner=learner_x)\n",
    "# Here for Selection Bias method will use default one-sided confounding function and alpha (quantile range of outcome values) input\n",
    "sens_sumary_x_new_2 = sens_x_new_2.sensitivity_analysis(methods=['Placebo Treatment',\n",
    "                                                     'Random Cause',\n",
    "                                                     'Subset Data',\n",
    "                                                     'Random Replace',\n",
    "                                                     'Selection Bias'], sample_size=0.5)"
   ]
  },
  {
   "cell_type": "code",
   "execution_count": 31,
   "metadata": {},
   "outputs": [
    {
     "data": {
      "text/html": [
       "<div>\n",
       "<style scoped>\n",
       "    .dataframe tbody tr th:only-of-type {\n",
       "        vertical-align: middle;\n",
       "    }\n",
       "\n",
       "    .dataframe tbody tr th {\n",
       "        vertical-align: top;\n",
       "    }\n",
       "\n",
       "    .dataframe thead th {\n",
       "        text-align: right;\n",
       "    }\n",
       "</style>\n",
       "<table border=\"1\" class=\"dataframe\">\n",
       "  <thead>\n",
       "    <tr style=\"text-align: right;\">\n",
       "      <th></th>\n",
       "      <th>Method</th>\n",
       "      <th>ATE</th>\n",
       "      <th>New ATE</th>\n",
       "      <th>New ATE LB</th>\n",
       "      <th>New ATE UB</th>\n",
       "    </tr>\n",
       "  </thead>\n",
       "  <tbody>\n",
       "    <tr>\n",
       "      <th>0</th>\n",
       "      <td>Placebo Treatment</td>\n",
       "      <td>0.0553</td>\n",
       "      <td>0.0002</td>\n",
       "      <td>-0.0131</td>\n",
       "      <td>0.0135</td>\n",
       "    </tr>\n",
       "    <tr>\n",
       "      <th>1</th>\n",
       "      <td>Random Cause</td>\n",
       "      <td>0.0553</td>\n",
       "      <td>0.0554</td>\n",
       "      <td>0.0418</td>\n",
       "      <td>0.0690</td>\n",
       "    </tr>\n",
       "    <tr>\n",
       "      <th>2</th>\n",
       "      <td>Subset Data(sample size @0.5)</td>\n",
       "      <td>0.0553</td>\n",
       "      <td>0.0673</td>\n",
       "      <td>0.0480</td>\n",
       "      <td>0.0865</td>\n",
       "    </tr>\n",
       "    <tr>\n",
       "      <th>3</th>\n",
       "      <td>Random Replace</td>\n",
       "      <td>0.0553</td>\n",
       "      <td>0.0553</td>\n",
       "      <td>0.0417</td>\n",
       "      <td>0.0688</td>\n",
       "    </tr>\n",
       "    <tr>\n",
       "      <th>4</th>\n",
       "      <td>Selection Bias (alpha@-0.81246, with r-sqaure:...</td>\n",
       "      <td>NaN</td>\n",
       "      <td>0.8591</td>\n",
       "      <td>0.8461</td>\n",
       "      <td>0.8721</td>\n",
       "    </tr>\n",
       "  </tbody>\n",
       "</table>\n",
       "</div>"
      ],
      "text/plain": [
       "                                              Method    ATE  New ATE  \\\n",
       "0                                  Placebo Treatment 0.0553   0.0002   \n",
       "1                                       Random Cause 0.0553   0.0554   \n",
       "2                      Subset Data(sample size @0.5) 0.0553   0.0673   \n",
       "3                                     Random Replace 0.0553   0.0553   \n",
       "4  Selection Bias (alpha@-0.81246, with r-sqaure:...    NaN   0.8591   \n",
       "\n",
       "   New ATE LB  New ATE UB  \n",
       "0     -0.0131      0.0135  \n",
       "1      0.0418      0.0690  \n",
       "2      0.0480      0.0865  \n",
       "3      0.0417      0.0688  \n",
       "4      0.8461      0.8721  "
      ]
     },
     "execution_count": 31,
     "metadata": {},
     "output_type": "execute_result"
    }
   ],
   "source": [
    "sens_sumary_x_new_2"
   ]
  },
  {
   "cell_type": "markdown",
   "metadata": {},
   "source": [
    "### Random Replace"
   ]
  },
  {
   "cell_type": "code",
   "execution_count": 32,
   "metadata": {},
   "outputs": [
    {
     "data": {
      "text/html": [
       "<div>\n",
       "<style scoped>\n",
       "    .dataframe tbody tr th:only-of-type {\n",
       "        vertical-align: middle;\n",
       "    }\n",
       "\n",
       "    .dataframe tbody tr th {\n",
       "        vertical-align: top;\n",
       "    }\n",
       "\n",
       "    .dataframe thead th {\n",
       "        text-align: right;\n",
       "    }\n",
       "</style>\n",
       "<table border=\"1\" class=\"dataframe\">\n",
       "  <thead>\n",
       "    <tr style=\"text-align: right;\">\n",
       "      <th></th>\n",
       "      <th>Method</th>\n",
       "      <th>ATE</th>\n",
       "      <th>New ATE</th>\n",
       "      <th>New ATE LB</th>\n",
       "      <th>New ATE UB</th>\n",
       "    </tr>\n",
       "  </thead>\n",
       "  <tbody>\n",
       "    <tr>\n",
       "      <th>0</th>\n",
       "      <td>Random Replace</td>\n",
       "      <td>0.0553</td>\n",
       "      <td>0.4917</td>\n",
       "      <td>0.4784</td>\n",
       "      <td>0.5051</td>\n",
       "    </tr>\n",
       "  </tbody>\n",
       "</table>\n",
       "</div>"
      ],
      "text/plain": [
       "           Method    ATE New ATE New ATE LB New ATE UB\n",
       "0  Random Replace 0.0553  0.4917     0.4784     0.5051"
      ]
     },
     "execution_count": 32,
     "metadata": {},
     "output_type": "execute_result"
    }
   ],
   "source": [
    "# Replace feature_0 with an irrelevent variable\n",
    "sens_x_replace_new_2 = SensitivityRandomReplace(df=df_new_2, inference_features=INFERENCE_FEATURES, p_col='pihat',\n",
    "                                          treatment_col='treated_new', outcome_col=OUTCOME_COL, learner=learner_x,\n",
    "                                          sample_size=0.9, replaced_feature='feature_0')\n",
    "s_check_replace_new_2 = sens_x_replace_new_2.summary(method='Random Replace')\n",
    "s_check_replace_new_2"
   ]
  },
  {
   "cell_type": "markdown",
   "metadata": {},
   "source": [
    "### Selection Bias: Alignment confounding Function"
   ]
  },
  {
   "cell_type": "code",
   "execution_count": 33,
   "metadata": {},
   "outputs": [],
   "source": [
    "sens_x_bias_alignment_new_2 = SensitivitySelectionBias(df_new_2, INFERENCE_FEATURES, p_col='pihat', treatment_col='treated_new',\n",
    "                                                 outcome_col=OUTCOME_COL, learner=learner_x, confound='alignment',\n",
    "                                                 alpha_range=None)"
   ]
  },
  {
   "cell_type": "code",
   "execution_count": 34,
   "metadata": {},
   "outputs": [],
   "source": [
    "lls_x_bias_alignment_new_2, partial_rsqs_x_bias_alignment_new_2 = sens_x_bias_alignment_new_2.causalsens()"
   ]
  },
  {
   "cell_type": "code",
   "execution_count": 35,
   "metadata": {},
   "outputs": [
    {
     "data": {
      "text/html": [
       "<div>\n",
       "<style scoped>\n",
       "    .dataframe tbody tr th:only-of-type {\n",
       "        vertical-align: middle;\n",
       "    }\n",
       "\n",
       "    .dataframe tbody tr th {\n",
       "        vertical-align: top;\n",
       "    }\n",
       "\n",
       "    .dataframe thead th {\n",
       "        text-align: right;\n",
       "    }\n",
       "</style>\n",
       "<table border=\"1\" class=\"dataframe\">\n",
       "  <thead>\n",
       "    <tr style=\"text-align: right;\">\n",
       "      <th></th>\n",
       "      <th>alpha</th>\n",
       "      <th>rsqs</th>\n",
       "      <th>New ATE</th>\n",
       "      <th>New ATE LB</th>\n",
       "      <th>New ATE UB</th>\n",
       "    </tr>\n",
       "  </thead>\n",
       "  <tbody>\n",
       "    <tr>\n",
       "      <th>0</th>\n",
       "      <td>-0.8125</td>\n",
       "      <td>0.0615</td>\n",
       "      <td>-0.2147</td>\n",
       "      <td>-0.2287</td>\n",
       "      <td>-0.2007</td>\n",
       "    </tr>\n",
       "    <tr>\n",
       "      <th>1</th>\n",
       "      <td>-0.6500</td>\n",
       "      <td>0.0424</td>\n",
       "      <td>-0.1607</td>\n",
       "      <td>-0.1746</td>\n",
       "      <td>-0.1468</td>\n",
       "    </tr>\n",
       "    <tr>\n",
       "      <th>2</th>\n",
       "      <td>-0.4875</td>\n",
       "      <td>0.0256</td>\n",
       "      <td>-0.1067</td>\n",
       "      <td>-0.1205</td>\n",
       "      <td>-0.0929</td>\n",
       "    </tr>\n",
       "    <tr>\n",
       "      <th>3</th>\n",
       "      <td>-0.3250</td>\n",
       "      <td>0.0122</td>\n",
       "      <td>-0.0527</td>\n",
       "      <td>-0.0664</td>\n",
       "      <td>-0.0390</td>\n",
       "    </tr>\n",
       "    <tr>\n",
       "      <th>4</th>\n",
       "      <td>-0.1625</td>\n",
       "      <td>0.0032</td>\n",
       "      <td>0.0013</td>\n",
       "      <td>-0.0123</td>\n",
       "      <td>0.0149</td>\n",
       "    </tr>\n",
       "    <tr>\n",
       "      <th>5</th>\n",
       "      <td>0.0000</td>\n",
       "      <td>0.0000</td>\n",
       "      <td>0.0553</td>\n",
       "      <td>0.0417</td>\n",
       "      <td>0.0689</td>\n",
       "    </tr>\n",
       "    <tr>\n",
       "      <th>6</th>\n",
       "      <td>0.1625</td>\n",
       "      <td>0.0036</td>\n",
       "      <td>0.1093</td>\n",
       "      <td>0.0957</td>\n",
       "      <td>0.1229</td>\n",
       "    </tr>\n",
       "    <tr>\n",
       "      <th>7</th>\n",
       "      <td>0.3250</td>\n",
       "      <td>0.0153</td>\n",
       "      <td>0.1633</td>\n",
       "      <td>0.1497</td>\n",
       "      <td>0.1769</td>\n",
       "    </tr>\n",
       "    <tr>\n",
       "      <th>8</th>\n",
       "      <td>0.4875</td>\n",
       "      <td>0.0358</td>\n",
       "      <td>0.2173</td>\n",
       "      <td>0.2037</td>\n",
       "      <td>0.2309</td>\n",
       "    </tr>\n",
       "    <tr>\n",
       "      <th>9</th>\n",
       "      <td>0.6500</td>\n",
       "      <td>0.0656</td>\n",
       "      <td>0.2713</td>\n",
       "      <td>0.2576</td>\n",
       "      <td>0.2850</td>\n",
       "    </tr>\n",
       "    <tr>\n",
       "      <th>10</th>\n",
       "      <td>0.8125</td>\n",
       "      <td>0.1047</td>\n",
       "      <td>0.3253</td>\n",
       "      <td>0.3115</td>\n",
       "      <td>0.3391</td>\n",
       "    </tr>\n",
       "  </tbody>\n",
       "</table>\n",
       "</div>"
      ],
      "text/plain": [
       "     alpha   rsqs  New ATE  New ATE LB  New ATE UB\n",
       "0  -0.8125 0.0615  -0.2147     -0.2287     -0.2007\n",
       "1  -0.6500 0.0424  -0.1607     -0.1746     -0.1468\n",
       "2  -0.4875 0.0256  -0.1067     -0.1205     -0.0929\n",
       "3  -0.3250 0.0122  -0.0527     -0.0664     -0.0390\n",
       "4  -0.1625 0.0032   0.0013     -0.0123      0.0149\n",
       "5   0.0000 0.0000   0.0553      0.0417      0.0689\n",
       "6   0.1625 0.0036   0.1093      0.0957      0.1229\n",
       "7   0.3250 0.0153   0.1633      0.1497      0.1769\n",
       "8   0.4875 0.0358   0.2173      0.2037      0.2309\n",
       "9   0.6500 0.0656   0.2713      0.2576      0.2850\n",
       "10  0.8125 0.1047   0.3253      0.3115      0.3391"
      ]
     },
     "execution_count": 35,
     "metadata": {},
     "output_type": "execute_result"
    }
   ],
   "source": [
    "lls_x_bias_alignment_new_2"
   ]
  },
  {
   "cell_type": "code",
   "execution_count": 36,
   "metadata": {},
   "outputs": [
    {
     "data": {
      "text/html": [
       "<div>\n",
       "<style scoped>\n",
       "    .dataframe tbody tr th:only-of-type {\n",
       "        vertical-align: middle;\n",
       "    }\n",
       "\n",
       "    .dataframe tbody tr th {\n",
       "        vertical-align: top;\n",
       "    }\n",
       "\n",
       "    .dataframe thead th {\n",
       "        text-align: right;\n",
       "    }\n",
       "</style>\n",
       "<table border=\"1\" class=\"dataframe\">\n",
       "  <thead>\n",
       "    <tr style=\"text-align: right;\">\n",
       "      <th></th>\n",
       "      <th>feature</th>\n",
       "      <th>partial_rsqs</th>\n",
       "    </tr>\n",
       "  </thead>\n",
       "  <tbody>\n",
       "    <tr>\n",
       "      <th>0</th>\n",
       "      <td>feature_0</td>\n",
       "      <td>-0.4028</td>\n",
       "    </tr>\n",
       "    <tr>\n",
       "      <th>1</th>\n",
       "      <td>feature_1</td>\n",
       "      <td>0.0066</td>\n",
       "    </tr>\n",
       "    <tr>\n",
       "      <th>2</th>\n",
       "      <td>feature_2</td>\n",
       "      <td>0.0000</td>\n",
       "    </tr>\n",
       "    <tr>\n",
       "      <th>3</th>\n",
       "      <td>feature_3</td>\n",
       "      <td>-0.0005</td>\n",
       "    </tr>\n",
       "    <tr>\n",
       "      <th>4</th>\n",
       "      <td>feature_4</td>\n",
       "      <td>0.0008</td>\n",
       "    </tr>\n",
       "    <tr>\n",
       "      <th>5</th>\n",
       "      <td>feature_5</td>\n",
       "      <td>0.0000</td>\n",
       "    </tr>\n",
       "  </tbody>\n",
       "</table>\n",
       "</div>"
      ],
      "text/plain": [
       "     feature partial_rsqs\n",
       "0  feature_0      -0.4028\n",
       "1  feature_1       0.0066\n",
       "2  feature_2       0.0000\n",
       "3  feature_3      -0.0005\n",
       "4  feature_4       0.0008\n",
       "5  feature_5       0.0000"
      ]
     },
     "execution_count": 36,
     "metadata": {},
     "output_type": "execute_result"
    }
   ],
   "source": [
    "partial_rsqs_x_bias_alignment_new_2"
   ]
  },
  {
   "cell_type": "code",
   "execution_count": 37,
   "metadata": {},
   "outputs": [
    {
     "data": {
      "image/png": "[encoded data removed]",
      "text/plain": [
       "<Figure size 800x800 with 1 Axes>"
      ]
     },
     "metadata": {},
     "output_type": "display_data"
    }
   ],
   "source": [
    "# Plot the results by confounding vector and plot Confidence Intervals for ATE\n",
    "sens_x_bias_alignment_new_2.plot(lls_x_bias_alignment_new_2, ci=True)"
   ]
  },
  {
   "cell_type": "code",
   "execution_count": 38,
   "metadata": {},
   "outputs": [
    {
     "data": {
      "image/png": "[encoded data removed]",
      "text/plain": [
       "<Figure size 800x800 with 1 Axes>"
      ]
     },
     "metadata": {},
     "output_type": "display_data"
    }
   ],
   "source": [
    "# Plot the results by rsquare with partial r-square results by each individual features\n",
    "sens_x_bias_alignment_new_2.plot(lls_x_bias_alignment_new, partial_rsqs_x_bias_alignment_new_2, type='r.squared', partial_rsqs=True)"
   ]
  }
 ],
 "metadata": {
  "kernelspec": {
   "display_name": "causal3.9",
   "language": "python",
   "name": "causal3.9"
  },
  "language_info": {
   "codemirror_mode": {
    "name": "ipython",
    "version": 3
   },
   "file_extension": ".py",
   "mimetype": "text/x-python",
   "name": "python",
   "nbconvert_exporter": "python",
   "pygments_lexer": "ipython3",
   "version": "3.9.5"
  },
  "toc": {
   "base_numbering": 1,
   "nav_menu": {},
   "number_sections": true,
   "sideBar": true,
   "skip_h1_title": false,
   "title_cell": "Table of Contents",
   "title_sidebar": "Contents",
   "toc_cell": false,
   "toc_position": {},
   "toc_section_display": true,
   "toc_window_display": false
  }
 },
 "nbformat": 4,
 "nbformat_minor": 4
}
