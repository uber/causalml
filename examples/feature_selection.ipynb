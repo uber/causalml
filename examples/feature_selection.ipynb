{
 "cells": [
  {
   "cell_type": "markdown",
   "metadata": {},
   "source": [
    "# Feature Selection for Uplift Modeling\n",
    "  \n",
    "    \n",
    "This notebook includes two sections:  \n",
    "- **Feature selection**: demonstrate how to use Filter methods to select the most important numeric features\n",
    "- **Performance evaluation**: evaluate the AUUC performance with top features dataset\n",
    "  \n",
    "*(Paper reference: [Zhao, Zhenyu, et al. \"Feature Selection Methods for Uplift Modeling.\" arXiv preprint arXiv:2005.03447 (2020).](https://arxiv.org/abs/2005.03447))*"
   ]
  },
  {
   "cell_type": "code",
   "execution_count": 1,
   "metadata": {},
   "outputs": [],
   "source": [
    "import numpy as np\n",
    "import pandas as pd"
   ]
  },
  {
   "cell_type": "code",
   "execution_count": 2,
   "metadata": {},
   "outputs": [
    {
     "name": "stderr",
     "output_type": "stream",
     "text": [
      "The sklearn.utils.testing module is  deprecated in version 0.22 and will be removed in version 0.24. The corresponding classes / functions should instead be imported from sklearn.utils. Anything that cannot be imported from sklearn.utils is now part of the private API.\n"
     ]
    }
   ],
   "source": [
    "from causalml.dataset import make_uplift_classification"
   ]
  },
  {
   "cell_type": "markdown",
   "metadata": {},
   "source": [
    "#### Import FilterSelect class for Filter methods"
   ]
  },
  {
   "cell_type": "code",
   "execution_count": 3,
   "metadata": {},
   "outputs": [],
   "source": [
    "from causalml.feature_selection.filters import FilterSelect"
   ]
  },
  {
   "cell_type": "code",
   "execution_count": 4,
   "metadata": {},
   "outputs": [],
   "source": [
    "from causalml.inference.tree import UpliftRandomForestClassifier\n",
    "from causalml.inference.meta import BaseXRegressor, BaseRRegressor, BaseSRegressor, BaseTRegressor\n",
    "from causalml.metrics import plot_gain, auuc_score"
   ]
  },
  {
   "cell_type": "code",
   "execution_count": 5,
   "metadata": {},
   "outputs": [],
   "source": [
    "from sklearn.model_selection import train_test_split\n",
    "from sklearn.ensemble import RandomForestRegressor"
   ]
  },
  {
   "cell_type": "code",
   "execution_count": 6,
   "metadata": {},
   "outputs": [],
   "source": [
    "import logging\n",
    "\n",
    "logger = logging.getLogger('causalml')\n",
    "logging.basicConfig(level=logging.INFO)"
   ]
  },
  {
   "cell_type": "markdown",
   "metadata": {},
   "source": [
    "### Generate dataset\n",
    "\n",
    "Generate synthetic data using the built-in function."
   ]
  },
  {
   "cell_type": "code",
   "execution_count": 7,
   "metadata": {},
   "outputs": [],
   "source": [
    "# define parameters for simulation\n",
    "\n",
    "y_name = 'conversion'\n",
    "treatment_group_keys = ['control', 'treatment1']\n",
    "n = 100000\n",
    "n_classification_features = 50\n",
    "n_classification_informative = 10\n",
    "n_classification_repeated = 0\n",
    "n_uplift_increase_dict = {'treatment1': 8}\n",
    "n_uplift_decrease_dict = {'treatment1': 4}\n",
    "delta_uplift_increase_dict = {'treatment1': 0.1}\n",
    "delta_uplift_decrease_dict = {'treatment1': -0.1}\n",
    "\n",
    "random_seed = 20200808"
   ]
  },
  {
   "cell_type": "code",
   "execution_count": 8,
   "metadata": {},
   "outputs": [],
   "source": [
    "df, X_names = make_uplift_classification(\n",
    "    treatment_name=treatment_group_keys,\n",
    "    y_name=y_name,\n",
    "    n_samples=n,\n",
    "    n_classification_features=n_classification_features,\n",
    "    n_classification_informative=n_classification_informative,\n",
    "    n_classification_repeated=n_classification_repeated,\n",
    "    n_uplift_increase_dict=n_uplift_increase_dict,\n",
    "    n_uplift_decrease_dict=n_uplift_decrease_dict,\n",
    "    delta_uplift_increase_dict = delta_uplift_increase_dict, \n",
    "    delta_uplift_decrease_dict = delta_uplift_decrease_dict,\n",
    "    random_seed=random_seed\n",
    ")"
   ]
  },
  {
   "cell_type": "code",
   "execution_count": 9,
   "metadata": {},
   "outputs": [
    {
     "data": {
      "text/html": [
       "<div>\n",
       "<style scoped>\n",
       "    .dataframe tbody tr th:only-of-type {\n",
       "        vertical-align: middle;\n",
       "    }\n",
       "\n",
       "    .dataframe tbody tr th {\n",
       "        vertical-align: top;\n",
       "    }\n",
       "\n",
       "    .dataframe thead th {\n",
       "        text-align: right;\n",
       "    }\n",
       "</style>\n",
       "<table border=\"1\" class=\"dataframe\">\n",
       "  <thead>\n",
       "    <tr style=\"text-align: right;\">\n",
       "      <th></th>\n",
       "      <th>treatment_group_key</th>\n",
       "      <th>x1_informative</th>\n",
       "      <th>x2_informative</th>\n",
       "      <th>x3_informative</th>\n",
       "      <th>x4_informative</th>\n",
       "      <th>x5_informative</th>\n",
       "      <th>x6_informative</th>\n",
       "      <th>x7_informative</th>\n",
       "      <th>x8_informative</th>\n",
       "      <th>x9_informative</th>\n",
       "      <th>...</th>\n",
       "      <th>x56_uplift_increase</th>\n",
       "      <th>x57_uplift_increase</th>\n",
       "      <th>x58_uplift_increase</th>\n",
       "      <th>x59_increase_mix</th>\n",
       "      <th>x60_uplift_decrease</th>\n",
       "      <th>x61_uplift_decrease</th>\n",
       "      <th>x62_uplift_decrease</th>\n",
       "      <th>x63_uplift_decrease</th>\n",
       "      <th>conversion</th>\n",
       "      <th>treatment_effect</th>\n",
       "    </tr>\n",
       "  </thead>\n",
       "  <tbody>\n",
       "    <tr>\n",
       "      <th>0</th>\n",
       "      <td>control</td>\n",
       "      <td>0.653960</td>\n",
       "      <td>-0.217603</td>\n",
       "      <td>1.856916</td>\n",
       "      <td>-0.075662</td>\n",
       "      <td>0.080971</td>\n",
       "      <td>-0.338374</td>\n",
       "      <td>-1.011470</td>\n",
       "      <td>0.528000</td>\n",
       "      <td>0.115418</td>\n",
       "      <td>...</td>\n",
       "      <td>1.533832</td>\n",
       "      <td>-2.183001</td>\n",
       "      <td>1.839608</td>\n",
       "      <td>0.755302</td>\n",
       "      <td>1.835047</td>\n",
       "      <td>-0.458431</td>\n",
       "      <td>-1.927525</td>\n",
       "      <td>2.765331</td>\n",
       "      <td>0</td>\n",
       "      <td>0</td>\n",
       "    </tr>\n",
       "    <tr>\n",
       "      <th>1</th>\n",
       "      <td>control</td>\n",
       "      <td>3.439658</td>\n",
       "      <td>0.477855</td>\n",
       "      <td>-0.377658</td>\n",
       "      <td>-1.317121</td>\n",
       "      <td>0.861815</td>\n",
       "      <td>-0.393180</td>\n",
       "      <td>0.503727</td>\n",
       "      <td>2.323846</td>\n",
       "      <td>1.229948</td>\n",
       "      <td>...</td>\n",
       "      <td>-1.192333</td>\n",
       "      <td>-1.581815</td>\n",
       "      <td>2.423700</td>\n",
       "      <td>2.396904</td>\n",
       "      <td>0.296043</td>\n",
       "      <td>-1.961940</td>\n",
       "      <td>-1.444725</td>\n",
       "      <td>1.469213</td>\n",
       "      <td>1</td>\n",
       "      <td>0</td>\n",
       "    </tr>\n",
       "    <tr>\n",
       "      <th>2</th>\n",
       "      <td>treatment1</td>\n",
       "      <td>0.130907</td>\n",
       "      <td>-0.333536</td>\n",
       "      <td>0.474847</td>\n",
       "      <td>-0.352067</td>\n",
       "      <td>-0.024502</td>\n",
       "      <td>1.437105</td>\n",
       "      <td>0.566178</td>\n",
       "      <td>-0.232508</td>\n",
       "      <td>0.866236</td>\n",
       "      <td>...</td>\n",
       "      <td>-0.301982</td>\n",
       "      <td>-0.933816</td>\n",
       "      <td>0.475274</td>\n",
       "      <td>1.540994</td>\n",
       "      <td>0.698066</td>\n",
       "      <td>0.545091</td>\n",
       "      <td>-0.084405</td>\n",
       "      <td>-2.337347</td>\n",
       "      <td>1</td>\n",
       "      <td>0</td>\n",
       "    </tr>\n",
       "    <tr>\n",
       "      <th>3</th>\n",
       "      <td>treatment1</td>\n",
       "      <td>-2.156683</td>\n",
       "      <td>1.120198</td>\n",
       "      <td>0.174293</td>\n",
       "      <td>-1.741426</td>\n",
       "      <td>0.488993</td>\n",
       "      <td>0.638340</td>\n",
       "      <td>-0.721928</td>\n",
       "      <td>1.802134</td>\n",
       "      <td>1.097178</td>\n",
       "      <td>...</td>\n",
       "      <td>-2.129098</td>\n",
       "      <td>-1.183581</td>\n",
       "      <td>0.000318</td>\n",
       "      <td>1.105735</td>\n",
       "      <td>-0.629281</td>\n",
       "      <td>-0.737041</td>\n",
       "      <td>-1.525081</td>\n",
       "      <td>1.416042</td>\n",
       "      <td>0</td>\n",
       "      <td>0</td>\n",
       "    </tr>\n",
       "    <tr>\n",
       "      <th>4</th>\n",
       "      <td>control</td>\n",
       "      <td>-2.708572</td>\n",
       "      <td>-0.799698</td>\n",
       "      <td>-2.199595</td>\n",
       "      <td>0.574077</td>\n",
       "      <td>0.083142</td>\n",
       "      <td>-0.389140</td>\n",
       "      <td>1.492101</td>\n",
       "      <td>1.725202</td>\n",
       "      <td>1.194315</td>\n",
       "      <td>...</td>\n",
       "      <td>1.582041</td>\n",
       "      <td>-1.176077</td>\n",
       "      <td>1.686322</td>\n",
       "      <td>0.480035</td>\n",
       "      <td>1.780710</td>\n",
       "      <td>0.862094</td>\n",
       "      <td>0.128872</td>\n",
       "      <td>-2.851344</td>\n",
       "      <td>0</td>\n",
       "      <td>0</td>\n",
       "    </tr>\n",
       "  </tbody>\n",
       "</table>\n",
       "<p>5 rows × 66 columns</p>\n",
       "</div>"
      ],
      "text/plain": [
       "  treatment_group_key  x1_informative  x2_informative  x3_informative  \\\n",
       "0             control        0.653960       -0.217603        1.856916   \n",
       "1             control        3.439658        0.477855       -0.377658   \n",
       "2          treatment1        0.130907       -0.333536        0.474847   \n",
       "3          treatment1       -2.156683        1.120198        0.174293   \n",
       "4             control       -2.708572       -0.799698       -2.199595   \n",
       "\n",
       "   x4_informative  x5_informative  x6_informative  x7_informative  \\\n",
       "0       -0.075662        0.080971       -0.338374       -1.011470   \n",
       "1       -1.317121        0.861815       -0.393180        0.503727   \n",
       "2       -0.352067       -0.024502        1.437105        0.566178   \n",
       "3       -1.741426        0.488993        0.638340       -0.721928   \n",
       "4        0.574077        0.083142       -0.389140        1.492101   \n",
       "\n",
       "   x8_informative  x9_informative  ...  x56_uplift_increase  \\\n",
       "0        0.528000        0.115418  ...             1.533832   \n",
       "1        2.323846        1.229948  ...            -1.192333   \n",
       "2       -0.232508        0.866236  ...            -0.301982   \n",
       "3        1.802134        1.097178  ...            -2.129098   \n",
       "4        1.725202        1.194315  ...             1.582041   \n",
       "\n",
       "   x57_uplift_increase  x58_uplift_increase  x59_increase_mix  \\\n",
       "0            -2.183001             1.839608          0.755302   \n",
       "1            -1.581815             2.423700          2.396904   \n",
       "2            -0.933816             0.475274          1.540994   \n",
       "3            -1.183581             0.000318          1.105735   \n",
       "4            -1.176077             1.686322          0.480035   \n",
       "\n",
       "   x60_uplift_decrease  x61_uplift_decrease  x62_uplift_decrease  \\\n",
       "0             1.835047            -0.458431            -1.927525   \n",
       "1             0.296043            -1.961940            -1.444725   \n",
       "2             0.698066             0.545091            -0.084405   \n",
       "3            -0.629281            -0.737041            -1.525081   \n",
       "4             1.780710             0.862094             0.128872   \n",
       "\n",
       "   x63_uplift_decrease  conversion  treatment_effect  \n",
       "0             2.765331           0                 0  \n",
       "1             1.469213           1                 0  \n",
       "2            -2.337347           1                 0  \n",
       "3             1.416042           0                 0  \n",
       "4            -2.851344           0                 0  \n",
       "\n",
       "[5 rows x 66 columns]"
      ]
     },
     "execution_count": 9,
     "metadata": {},
     "output_type": "execute_result"
    }
   ],
   "source": [
    "df.head()"
   ]
  },
  {
   "cell_type": "code",
   "execution_count": 10,
   "metadata": {},
   "outputs": [
    {
     "data": {
      "text/html": [
       "<div>\n",
       "<style scoped>\n",
       "    .dataframe tbody tr th:only-of-type {\n",
       "        vertical-align: middle;\n",
       "    }\n",
       "\n",
       "    .dataframe tbody tr th {\n",
       "        vertical-align: top;\n",
       "    }\n",
       "\n",
       "    .dataframe thead tr th {\n",
       "        text-align: left;\n",
       "    }\n",
       "\n",
       "    .dataframe thead tr:last-of-type th {\n",
       "        text-align: right;\n",
       "    }\n",
       "</style>\n",
       "<table border=\"1\" class=\"dataframe\">\n",
       "  <thead>\n",
       "    <tr>\n",
       "      <th></th>\n",
       "      <th>mean</th>\n",
       "      <th>size</th>\n",
       "    </tr>\n",
       "    <tr>\n",
       "      <th></th>\n",
       "      <th>conversion</th>\n",
       "      <th>conversion</th>\n",
       "    </tr>\n",
       "    <tr>\n",
       "      <th>treatment_group_key</th>\n",
       "      <th></th>\n",
       "      <th></th>\n",
       "    </tr>\n",
       "  </thead>\n",
       "  <tbody>\n",
       "    <tr>\n",
       "      <th>control</th>\n",
       "      <td>0.499050</td>\n",
       "      <td>100000</td>\n",
       "    </tr>\n",
       "    <tr>\n",
       "      <th>treatment1</th>\n",
       "      <td>0.599680</td>\n",
       "      <td>100000</td>\n",
       "    </tr>\n",
       "    <tr>\n",
       "      <th>All</th>\n",
       "      <td>0.549365</td>\n",
       "      <td>200000</td>\n",
       "    </tr>\n",
       "  </tbody>\n",
       "</table>\n",
       "</div>"
      ],
      "text/plain": [
       "                          mean       size\n",
       "                    conversion conversion\n",
       "treatment_group_key                      \n",
       "control               0.499050     100000\n",
       "treatment1            0.599680     100000\n",
       "All                   0.549365     200000"
      ]
     },
     "execution_count": 10,
     "metadata": {},
     "output_type": "execute_result"
    }
   ],
   "source": [
    "# Look at the conversion rate and sample size in each group\n",
    "df.pivot_table(values='conversion',\n",
    "               index='treatment_group_key',\n",
    "               aggfunc=[np.mean, np.size],\n",
    "               margins=True)"
   ]
  },
  {
   "cell_type": "code",
   "execution_count": 11,
   "metadata": {},
   "outputs": [
    {
     "data": {
      "text/html": [
       "['x1_informative', 'x2_informative', 'x3_informative', 'x4_informative', 'x5_informative', 'x6_informative', 'x7_informative', 'x8_informative', 'x9_informative', 'x10_informative', 'x11_irrelevant', 'x12_irrelevant', 'x13_irrelevant', 'x14_irrelevant', 'x15_irrelevant', 'x16_irrelevant', 'x17_irrelevant', 'x18_irrelevant', 'x19_irrelevant', 'x20_irrelevant', 'x21_irrelevant', 'x22_irrelevant', 'x23_irrelevant', 'x24_irrelevant', 'x25_irrelevant', 'x26_irrelevant', 'x27_irrelevant', 'x28_irrelevant', 'x29_irrelevant', 'x30_irrelevant', 'x31_irrelevant', 'x32_irrelevant', 'x33_irrelevant', 'x34_irrelevant', 'x35_irrelevant', 'x36_irrelevant', 'x37_irrelevant', 'x38_irrelevant', 'x39_irrelevant', 'x40_irrelevant', 'x41_irrelevant', 'x42_irrelevant', 'x43_irrelevant', 'x44_irrelevant', 'x45_irrelevant', 'x46_irrelevant', 'x47_irrelevant', 'x48_irrelevant', 'x49_irrelevant', 'x50_irrelevant', 'x51_uplift_increase', 'x52_uplift_increase', 'x53_uplift_increase', 'x54_uplift_increase', 'x55_uplift_increase', 'x56_uplift_increase', 'x57_uplift_increase', 'x58_uplift_increase', 'x59_increase_mix', 'x60_uplift_decrease', 'x61_uplift_decrease', 'x62_uplift_decrease', 'x63_uplift_decrease']"
      ],
      "text/plain": [
       "['x1_informative',\n",
       " 'x2_informative',\n",
       " 'x3_informative',\n",
       " 'x4_informative',\n",
       " 'x5_informative',\n",
       " 'x6_informative',\n",
       " 'x7_informative',\n",
       " 'x8_informative',\n",
       " 'x9_informative',\n",
       " 'x10_informative',\n",
       " 'x11_irrelevant',\n",
       " 'x12_irrelevant',\n",
       " 'x13_irrelevant',\n",
       " 'x14_irrelevant',\n",
       " 'x15_irrelevant',\n",
       " 'x16_irrelevant',\n",
       " 'x17_irrelevant',\n",
       " 'x18_irrelevant',\n",
       " 'x19_irrelevant',\n",
       " 'x20_irrelevant',\n",
       " 'x21_irrelevant',\n",
       " 'x22_irrelevant',\n",
       " 'x23_irrelevant',\n",
       " 'x24_irrelevant',\n",
       " 'x25_irrelevant',\n",
       " 'x26_irrelevant',\n",
       " 'x27_irrelevant',\n",
       " 'x28_irrelevant',\n",
       " 'x29_irrelevant',\n",
       " 'x30_irrelevant',\n",
       " 'x31_irrelevant',\n",
       " 'x32_irrelevant',\n",
       " 'x33_irrelevant',\n",
       " 'x34_irrelevant',\n",
       " 'x35_irrelevant',\n",
       " 'x36_irrelevant',\n",
       " 'x37_irrelevant',\n",
       " 'x38_irrelevant',\n",
       " 'x39_irrelevant',\n",
       " 'x40_irrelevant',\n",
       " 'x41_irrelevant',\n",
       " 'x42_irrelevant',\n",
       " 'x43_irrelevant',\n",
       " 'x44_irrelevant',\n",
       " 'x45_irrelevant',\n",
       " 'x46_irrelevant',\n",
       " 'x47_irrelevant',\n",
       " 'x48_irrelevant',\n",
       " 'x49_irrelevant',\n",
       " 'x50_irrelevant',\n",
       " 'x51_uplift_increase',\n",
       " 'x52_uplift_increase',\n",
       " 'x53_uplift_increase',\n",
       " 'x54_uplift_increase',\n",
       " 'x55_uplift_increase',\n",
       " 'x56_uplift_increase',\n",
       " 'x57_uplift_increase',\n",
       " 'x58_uplift_increase',\n",
       " 'x59_increase_mix',\n",
       " 'x60_uplift_decrease',\n",
       " 'x61_uplift_decrease',\n",
       " 'x62_uplift_decrease',\n",
       " 'x63_uplift_decrease']"
      ]
     },
     "execution_count": 11,
     "metadata": {},
     "output_type": "execute_result"
    }
   ],
   "source": [
    "X_names"
   ]
  },
  {
   "cell_type": "markdown",
   "metadata": {},
   "source": [
    "## Feature selection with Filter methods"
   ]
  },
  {
   "cell_type": "markdown",
   "metadata": {},
   "source": [
    "### method = F (F statistics)"
   ]
  },
  {
   "cell_type": "code",
   "execution_count": 12,
   "metadata": {},
   "outputs": [],
   "source": [
    "filter_f = FilterSelect() "
   ]
  },
  {
   "cell_type": "code",
   "execution_count": 13,
   "metadata": {},
   "outputs": [
    {
     "name": "stdout",
     "output_type": "stream",
     "text": [
      "      method              feature  rank        score        p_value  \\\n",
      "0   F filter  x57_uplift_increase   1.0  1973.380496   0.000000e+00   \n",
      "0   F filter  x51_uplift_increase   2.0  1885.342364   0.000000e+00   \n",
      "0   F filter  x54_uplift_increase   3.0  1496.254091   0.000000e+00   \n",
      "0   F filter  x58_uplift_increase   4.0  1269.167710  4.224019e-277   \n",
      "0   F filter       x9_informative   5.0   677.066204  5.151887e-149   \n",
      "0   F filter  x63_uplift_decrease   6.0     9.108409   2.544691e-03   \n",
      "0   F filter  x61_uplift_decrease   7.0     5.978189   1.448472e-02   \n",
      "0   F filter       x19_irrelevant   8.0     5.295584   2.138059e-02   \n",
      "0   F filter       x46_irrelevant   9.0     5.237353   2.210792e-02   \n",
      "0   F filter       x27_irrelevant  10.0     4.573196   3.247713e-02   \n",
      "0   F filter       x11_irrelevant  11.0     4.297030   3.818027e-02   \n",
      "0   F filter       x39_irrelevant  12.0     4.009421   4.524803e-02   \n",
      "0   F filter       x42_irrelevant  13.0     3.788770   5.159896e-02   \n",
      "0   F filter  x60_uplift_decrease  14.0     3.089516   7.879975e-02   \n",
      "0   F filter  x53_uplift_increase  15.0     2.884902   8.941499e-02   \n",
      "0   F filter       x18_irrelevant  16.0     2.863763   9.059688e-02   \n",
      "0   F filter       x22_irrelevant  17.0     2.402012   1.211809e-01   \n",
      "0   F filter  x62_uplift_decrease  18.0     2.310073   1.285396e-01   \n",
      "0   F filter       x40_irrelevant  19.0     2.262581   1.325346e-01   \n",
      "0   F filter       x14_irrelevant  20.0     2.152103   1.423763e-01   \n",
      "0   F filter       x8_informative  21.0     1.947212   1.628892e-01   \n",
      "0   F filter       x33_irrelevant  22.0     1.691045   1.934648e-01   \n",
      "0   F filter       x47_irrelevant  23.0     1.622995   2.026761e-01   \n",
      "0   F filter       x28_irrelevant  24.0     1.525337   2.168150e-01   \n",
      "0   F filter       x7_informative  25.0     1.206987   2.719311e-01   \n",
      "0   F filter     x59_increase_mix  26.0     1.199216   2.734798e-01   \n",
      "0   F filter       x20_irrelevant  27.0     1.176234   2.781252e-01   \n",
      "0   F filter       x41_irrelevant  28.0     1.119234   2.900848e-01   \n",
      "0   F filter       x3_informative  29.0     1.011457   3.145553e-01   \n",
      "0   F filter       x16_irrelevant  30.0     0.999273   3.174877e-01   \n",
      "..       ...                  ...   ...          ...            ...   \n",
      "0   F filter       x2_informative  34.0     0.775075   3.786527e-01   \n",
      "0   F filter       x45_irrelevant  35.0     0.746410   3.876164e-01   \n",
      "0   F filter       x31_irrelevant  36.0     0.670080   4.130248e-01   \n",
      "0   F filter  x55_uplift_increase  37.0     0.609454   4.349944e-01   \n",
      "0   F filter       x34_irrelevant  38.0     0.606343   4.361689e-01   \n",
      "0   F filter       x44_irrelevant  39.0     0.563659   4.527906e-01   \n",
      "0   F filter       x12_irrelevant  40.0     0.531649   4.659151e-01   \n",
      "0   F filter       x4_informative  41.0     0.412528   5.206899e-01   \n",
      "0   F filter       x26_irrelevant  42.0     0.348929   5.547207e-01   \n",
      "0   F filter       x48_irrelevant  43.0     0.348312   5.550711e-01   \n",
      "0   F filter       x25_irrelevant  44.0     0.333696   5.634916e-01   \n",
      "0   F filter       x24_irrelevant  45.0     0.330729   5.652307e-01   \n",
      "0   F filter       x23_irrelevant  46.0     0.327771   5.669751e-01   \n",
      "0   F filter  x52_uplift_increase  47.0     0.316966   5.734374e-01   \n",
      "0   F filter       x37_irrelevant  48.0     0.246766   6.193618e-01   \n",
      "0   F filter       x15_irrelevant  49.0     0.225643   6.347740e-01   \n",
      "0   F filter       x29_irrelevant  50.0     0.196632   6.574534e-01   \n",
      "0   F filter       x38_irrelevant  51.0     0.109701   7.404853e-01   \n",
      "0   F filter       x35_irrelevant  52.0     0.101365   7.501982e-01   \n",
      "0   F filter      x10_informative  53.0     0.094686   7.583024e-01   \n",
      "0   F filter       x21_irrelevant  54.0     0.056172   8.126528e-01   \n",
      "0   F filter       x43_irrelevant  55.0     0.043168   8.354093e-01   \n",
      "0   F filter       x13_irrelevant  56.0     0.013480   9.075699e-01   \n",
      "0   F filter       x49_irrelevant  57.0     0.008037   9.285639e-01   \n",
      "0   F filter       x17_irrelevant  58.0     0.005137   9.428651e-01   \n",
      "0   F filter       x30_irrelevant  59.0     0.004151   9.486301e-01   \n",
      "0   F filter       x50_irrelevant  60.0     0.001379   9.703808e-01   \n",
      "0   F filter       x36_irrelevant  61.0     0.001062   9.740069e-01   \n",
      "0   F filter       x6_informative  62.0     0.000428   9.834997e-01   \n",
      "0   F filter       x5_informative  63.0     0.000076   9.930457e-01   \n",
      "\n",
      "                               misc  \n",
      "0   df_num: 1.0, df_denom: 199996.0  \n",
      "0   df_num: 1.0, df_denom: 199996.0  \n",
      "0   df_num: 1.0, df_denom: 199996.0  \n",
      "0   df_num: 1.0, df_denom: 199996.0  \n",
      "0   df_num: 1.0, df_denom: 199996.0  \n",
      "0   df_num: 1.0, df_denom: 199996.0  \n",
      "0   df_num: 1.0, df_denom: 199996.0  \n",
      "0   df_num: 1.0, df_denom: 199996.0  \n",
      "0   df_num: 1.0, df_denom: 199996.0  \n",
      "0   df_num: 1.0, df_denom: 199996.0  \n",
      "0   df_num: 1.0, df_denom: 199996.0  \n",
      "0   df_num: 1.0, df_denom: 199996.0  \n",
      "0   df_num: 1.0, df_denom: 199996.0  \n",
      "0   df_num: 1.0, df_denom: 199996.0  \n",
      "0   df_num: 1.0, df_denom: 199996.0  \n",
      "0   df_num: 1.0, df_denom: 199996.0  \n",
      "0   df_num: 1.0, df_denom: 199996.0  \n",
      "0   df_num: 1.0, df_denom: 199996.0  \n",
      "0   df_num: 1.0, df_denom: 199996.0  \n",
      "0   df_num: 1.0, df_denom: 199996.0  \n",
      "0   df_num: 1.0, df_denom: 199996.0  \n",
      "0   df_num: 1.0, df_denom: 199996.0  \n",
      "0   df_num: 1.0, df_denom: 199996.0  \n",
      "0   df_num: 1.0, df_denom: 199996.0  \n",
      "0   df_num: 1.0, df_denom: 199996.0  \n",
      "0   df_num: 1.0, df_denom: 199996.0  \n",
      "0   df_num: 1.0, df_denom: 199996.0  \n",
      "0   df_num: 1.0, df_denom: 199996.0  \n",
      "0   df_num: 1.0, df_denom: 199996.0  \n",
      "0   df_num: 1.0, df_denom: 199996.0  \n",
      "..                              ...  \n",
      "0   df_num: 1.0, df_denom: 199996.0  \n",
      "0   df_num: 1.0, df_denom: 199996.0  \n",
      "0   df_num: 1.0, df_denom: 199996.0  \n",
      "0   df_num: 1.0, df_denom: 199996.0  \n",
      "0   df_num: 1.0, df_denom: 199996.0  \n",
      "0   df_num: 1.0, df_denom: 199996.0  \n",
      "0   df_num: 1.0, df_denom: 199996.0  \n",
      "0   df_num: 1.0, df_denom: 199996.0  \n",
      "0   df_num: 1.0, df_denom: 199996.0  \n",
      "0   df_num: 1.0, df_denom: 199996.0  \n",
      "0   df_num: 1.0, df_denom: 199996.0  \n",
      "0   df_num: 1.0, df_denom: 199996.0  \n",
      "0   df_num: 1.0, df_denom: 199996.0  \n",
      "0   df_num: 1.0, df_denom: 199996.0  \n",
      "0   df_num: 1.0, df_denom: 199996.0  \n",
      "0   df_num: 1.0, df_denom: 199996.0  \n",
      "0   df_num: 1.0, df_denom: 199996.0  \n",
      "0   df_num: 1.0, df_denom: 199996.0  \n",
      "0   df_num: 1.0, df_denom: 199996.0  \n",
      "0   df_num: 1.0, df_denom: 199996.0  \n",
      "0   df_num: 1.0, df_denom: 199996.0  \n",
      "0   df_num: 1.0, df_denom: 199996.0  \n",
      "0   df_num: 1.0, df_denom: 199996.0  \n",
      "0   df_num: 1.0, df_denom: 199996.0  \n",
      "0   df_num: 1.0, df_denom: 199996.0  \n",
      "0   df_num: 1.0, df_denom: 199996.0  \n",
      "0   df_num: 1.0, df_denom: 199996.0  \n",
      "0   df_num: 1.0, df_denom: 199996.0  \n",
      "0   df_num: 1.0, df_denom: 199996.0  \n",
      "0   df_num: 1.0, df_denom: 199996.0  \n",
      "\n",
      "[63 rows x 6 columns]\n"
     ]
    }
   ],
   "source": [
    "method = 'F'\n",
    "f_imp = filter_f.get_importance(df, X_names, y_name, method, \n",
    "                      treatment_group = 'treatment1')\n",
    "print(f_imp)"
   ]
  },
  {
   "cell_type": "markdown",
   "metadata": {},
   "source": [
    "### method = LR (likelihood ratio test)"
   ]
  },
  {
   "cell_type": "code",
   "execution_count": 14,
   "metadata": {},
   "outputs": [
    {
     "name": "stdout",
     "output_type": "stream",
     "text": [
      "Optimization terminated successfully.\n",
      "         Current function value: 0.683141\n",
      "         Iterations 4\n",
      "Optimization terminated successfully.\n",
      "         Current function value: 0.683138\n",
      "         Iterations 4\n",
      "Optimization terminated successfully.\n",
      "         Current function value: 0.683140\n",
      "         Iterations 4\n",
      "Optimization terminated successfully.\n",
      "         Current function value: 0.683138\n",
      "         Iterations 4\n",
      "Optimization terminated successfully.\n",
      "         Current function value: 0.683143\n",
      "         Iterations 4\n",
      "Optimization terminated successfully.\n",
      "         Current function value: 0.683140\n",
      "         Iterations 4\n",
      "Optimization terminated successfully.\n",
      "         Current function value: 0.683142\n",
      "         Iterations 4\n",
      "Optimization terminated successfully.\n",
      "         Current function value: 0.683141\n",
      "         Iterations 4\n",
      "Optimization terminated successfully.\n",
      "         Current function value: 0.683142\n",
      "         Iterations 4\n",
      "Optimization terminated successfully.\n",
      "         Current function value: 0.683142\n",
      "         Iterations 4\n",
      "Optimization terminated successfully.\n",
      "         Current function value: 0.683143\n",
      "         Iterations 4\n",
      "Optimization terminated successfully.\n",
      "         Current function value: 0.683143\n",
      "         Iterations 4\n",
      "Optimization terminated successfully.\n",
      "         Current function value: 0.683141\n",
      "         Iterations 4\n",
      "Optimization terminated successfully.\n",
      "         Current function value: 0.683138\n",
      "         Iterations 4\n",
      "Optimization terminated successfully.\n",
      "         Current function value: 0.683140\n",
      "         Iterations 4\n",
      "Optimization terminated successfully.\n",
      "         Current function value: 0.683135\n",
      "         Iterations 4\n",
      "Optimization terminated successfully.\n",
      "         Current function value: 0.570527\n",
      "         Iterations 6\n",
      "Optimization terminated successfully.\n",
      "         Current function value: 0.568449\n",
      "         Iterations 6\n",
      "Optimization terminated successfully.\n",
      "         Current function value: 0.683141\n",
      "         Iterations 4\n",
      "Optimization terminated successfully.\n",
      "         Current function value: 0.683141\n",
      "         Iterations 4\n",
      "Optimization terminated successfully.\n",
      "         Current function value: 0.683138\n",
      "         Iterations 4\n",
      "Optimization terminated successfully.\n",
      "         Current function value: 0.683127\n",
      "         Iterations 4\n",
      "Optimization terminated successfully.\n",
      "         Current function value: 0.683142\n",
      "         Iterations 4\n",
      "Optimization terminated successfully.\n",
      "         Current function value: 0.683141\n",
      "         Iterations 4\n",
      "Optimization terminated successfully.\n",
      "         Current function value: 0.683143\n",
      "         Iterations 4\n",
      "Optimization terminated successfully.\n",
      "         Current function value: 0.683143\n",
      "         Iterations 4\n",
      "Optimization terminated successfully.\n",
      "         Current function value: 0.683140\n",
      "         Iterations 4\n",
      "Optimization terminated successfully.\n",
      "         Current function value: 0.683134\n",
      "         Iterations 4\n",
      "Optimization terminated successfully.\n",
      "         Current function value: 0.683143\n",
      "         Iterations 4\n",
      "Optimization terminated successfully.\n",
      "         Current function value: 0.683142\n",
      "         Iterations 4\n",
      "Optimization terminated successfully.\n",
      "         Current function value: 0.683142\n",
      "         Iterations 4\n",
      "Optimization terminated successfully.\n",
      "         Current function value: 0.683140\n",
      "         Iterations 4\n",
      "Optimization terminated successfully.\n",
      "         Current function value: 0.683136\n",
      "         Iterations 4\n",
      "Optimization terminated successfully.\n",
      "         Current function value: 0.683136\n",
      "         Iterations 4\n",
      "Optimization terminated successfully.\n",
      "         Current function value: 0.683143\n",
      "         Iterations 4\n",
      "Optimization terminated successfully.\n",
      "         Current function value: 0.683136\n",
      "         Iterations 4\n",
      "Optimization terminated successfully.\n",
      "         Current function value: 0.683143\n",
      "         Iterations 4\n",
      "Optimization terminated successfully.\n",
      "         Current function value: 0.683129\n",
      "         Iterations 4\n",
      "Optimization terminated successfully.\n",
      "         Current function value: 0.683137\n",
      "         Iterations 4\n",
      "Optimization terminated successfully.\n",
      "         Current function value: 0.683135\n",
      "         Iterations 4\n",
      "Optimization terminated successfully.\n",
      "         Current function value: 0.683138\n",
      "         Iterations 4\n",
      "Optimization terminated successfully.\n",
      "         Current function value: 0.683138\n",
      "         Iterations 4\n",
      "Optimization terminated successfully.\n",
      "         Current function value: 0.683137\n",
      "         Iterations 4\n",
      "Optimization terminated successfully.\n",
      "         Current function value: 0.683131\n",
      "         Iterations 4\n",
      "Optimization terminated successfully.\n",
      "         Current function value: 0.683143\n",
      "         Iterations 4\n",
      "Optimization terminated successfully.\n",
      "         Current function value: 0.683142\n",
      "         Iterations 4\n",
      "Optimization terminated successfully.\n",
      "         Current function value: 0.683143\n",
      "         Iterations 4\n",
      "Optimization terminated successfully.\n",
      "         Current function value: 0.683142\n",
      "         Iterations 4\n",
      "Optimization terminated successfully.\n",
      "         Current function value: 0.683141\n",
      "         Iterations 4\n",
      "Optimization terminated successfully.\n",
      "         Current function value: 0.683140\n",
      "         Iterations 4\n",
      "Optimization terminated successfully.\n",
      "         Current function value: 0.683143\n",
      "         Iterations 4\n",
      "Optimization terminated successfully.\n",
      "         Current function value: 0.683142\n",
      "         Iterations 4\n",
      "Optimization terminated successfully.\n",
      "         Current function value: 0.683136\n",
      "         Iterations 4\n",
      "Optimization terminated successfully.\n",
      "         Current function value: 0.683125\n",
      "         Iterations 4\n",
      "Optimization terminated successfully.\n",
      "         Current function value: 0.683142\n",
      "         Iterations 4\n",
      "Optimization terminated successfully.\n",
      "         Current function value: 0.683138\n",
      "         Iterations 4\n",
      "Optimization terminated successfully.\n",
      "         Current function value: 0.683143\n",
      "         Iterations 4\n",
      "Optimization terminated successfully.\n",
      "         Current function value: 0.683143\n",
      "         Iterations 4\n",
      "Optimization terminated successfully.\n",
      "         Current function value: 0.683136\n",
      "         Iterations 4\n",
      "Optimization terminated successfully.\n",
      "         Current function value: 0.683136\n",
      "         Iterations 4\n",
      "Optimization terminated successfully.\n",
      "         Current function value: 0.683141\n",
      "         Iterations 4\n",
      "Optimization terminated successfully.\n",
      "         Current function value: 0.683139\n",
      "         Iterations 4\n",
      "Optimization terminated successfully.\n",
      "         Current function value: 0.683137\n",
      "         Iterations 4\n",
      "Optimization terminated successfully.\n",
      "         Current function value: 0.683135\n",
      "         Iterations 4\n",
      "Optimization terminated successfully.\n",
      "         Current function value: 0.683143\n",
      "         Iterations 4\n",
      "Optimization terminated successfully.\n",
      "         Current function value: 0.683139\n",
      "         Iterations 4\n",
      "Optimization terminated successfully.\n",
      "         Current function value: 0.683137\n",
      "         Iterations 4\n",
      "Optimization terminated successfully.\n",
      "         Current function value: 0.683135\n",
      "         Iterations 4\n",
      "Optimization terminated successfully.\n",
      "         Current function value: 0.683138\n",
      "         Iterations 4\n",
      "Optimization terminated successfully.\n",
      "         Current function value: 0.683138\n",
      "         Iterations 4\n",
      "Optimization terminated successfully.\n",
      "         Current function value: 0.683142\n",
      "         Iterations 4\n",
      "Optimization terminated successfully.\n",
      "         Current function value: 0.683142\n",
      "         Iterations 4\n",
      "Optimization terminated successfully.\n",
      "         Current function value: 0.683141\n",
      "         Iterations 4\n",
      "Optimization terminated successfully.\n",
      "         Current function value: 0.683140\n",
      "         Iterations 4\n",
      "Optimization terminated successfully.\n",
      "         Current function value: 0.683143\n",
      "         Iterations 4\n",
      "Optimization terminated successfully.\n",
      "         Current function value: 0.683142\n",
      "         Iterations 4\n",
      "Optimization terminated successfully.\n",
      "         Current function value: 0.683136\n",
      "         Iterations 4\n",
      "Optimization terminated successfully.\n",
      "         Current function value: 0.683126\n",
      "         Iterations 4\n",
      "Optimization terminated successfully.\n",
      "         Current function value: 0.683140\n",
      "         Iterations 4\n",
      "Optimization terminated successfully.\n",
      "         Current function value: 0.683135\n",
      "         Iterations 4\n",
      "Optimization terminated successfully.\n",
      "         Current function value: 0.683143\n",
      "         Iterations 4\n"
     ]
    },
    {
     "name": "stdout",
     "output_type": "stream",
     "text": [
      "Optimization terminated successfully.\n",
      "         Current function value: 0.683140\n",
      "         Iterations 4\n",
      "Optimization terminated successfully.\n",
      "         Current function value: 0.683142\n",
      "         Iterations 4\n",
      "Optimization terminated successfully.\n",
      "         Current function value: 0.683133\n",
      "         Iterations 4\n",
      "Optimization terminated successfully.\n",
      "         Current function value: 0.683142\n",
      "         Iterations 4\n",
      "Optimization terminated successfully.\n",
      "         Current function value: 0.683141\n",
      "         Iterations 4\n",
      "Optimization terminated successfully.\n",
      "         Current function value: 0.683141\n",
      "         Iterations 4\n",
      "Optimization terminated successfully.\n",
      "         Current function value: 0.683140\n",
      "         Iterations 4\n",
      "Optimization terminated successfully.\n",
      "         Current function value: 0.683141\n",
      "         Iterations 4\n",
      "Optimization terminated successfully.\n",
      "         Current function value: 0.683139\n",
      "         Iterations 4\n",
      "Optimization terminated successfully.\n",
      "         Current function value: 0.683126\n",
      "         Iterations 4\n",
      "Optimization terminated successfully.\n",
      "         Current function value: 0.683113\n",
      "         Iterations 4\n",
      "Optimization terminated successfully.\n",
      "         Current function value: 0.683138\n",
      "         Iterations 4\n",
      "Optimization terminated successfully.\n",
      "         Current function value: 0.683134\n",
      "         Iterations 4\n",
      "Optimization terminated successfully.\n",
      "         Current function value: 0.683143\n",
      "         Iterations 4\n",
      "Optimization terminated successfully.\n",
      "         Current function value: 0.683142\n",
      "         Iterations 4\n",
      "Optimization terminated successfully.\n",
      "         Current function value: 0.683142\n",
      "         Iterations 4\n",
      "Optimization terminated successfully.\n",
      "         Current function value: 0.683142\n",
      "         Iterations 4\n",
      "Optimization terminated successfully.\n",
      "         Current function value: 0.683143\n",
      "         Iterations 4\n",
      "Optimization terminated successfully.\n",
      "         Current function value: 0.683143\n",
      "         Iterations 4\n",
      "Optimization terminated successfully.\n",
      "         Current function value: 0.678404\n",
      "         Iterations 4\n",
      "Optimization terminated successfully.\n",
      "         Current function value: 0.673481\n",
      "         Iterations 5\n",
      "Optimization terminated successfully.\n",
      "         Current function value: 0.683139\n",
      "         Iterations 4\n",
      "Optimization terminated successfully.\n",
      "         Current function value: 0.683139\n",
      "         Iterations 4\n",
      "Optimization terminated successfully.\n",
      "         Current function value: 0.683143\n",
      "         Iterations 4\n",
      "Optimization terminated successfully.\n",
      "         Current function value: 0.683136\n",
      "         Iterations 4\n",
      "Optimization terminated successfully.\n",
      "         Current function value: 0.678797\n",
      "         Iterations 4\n",
      "Optimization terminated successfully.\n",
      "         Current function value: 0.674807\n",
      "         Iterations 5\n",
      "Optimization terminated successfully.\n",
      "         Current function value: 0.683143\n",
      "         Iterations 4\n",
      "Optimization terminated successfully.\n",
      "         Current function value: 0.683141\n",
      "         Iterations 4\n",
      "Optimization terminated successfully.\n",
      "         Current function value: 0.683142\n",
      "         Iterations 4\n",
      "Optimization terminated successfully.\n",
      "         Current function value: 0.683139\n",
      "         Iterations 4\n",
      "Optimization terminated successfully.\n",
      "         Current function value: 0.678449\n",
      "         Iterations 4\n",
      "Optimization terminated successfully.\n",
      "         Current function value: 0.673272\n",
      "         Iterations 5\n",
      "Optimization terminated successfully.\n",
      "         Current function value: 0.679964\n",
      "         Iterations 4\n",
      "Optimization terminated successfully.\n",
      "         Current function value: 0.676614\n",
      "         Iterations 5\n",
      "Optimization terminated successfully.\n",
      "         Current function value: 0.683143\n",
      "         Iterations 4\n",
      "Optimization terminated successfully.\n",
      "         Current function value: 0.683140\n",
      "         Iterations 4\n",
      "Optimization terminated successfully.\n",
      "         Current function value: 0.683142\n",
      "         Iterations 4\n",
      "Optimization terminated successfully.\n",
      "         Current function value: 0.683134\n",
      "         Iterations 4\n",
      "Optimization terminated successfully.\n",
      "         Current function value: 0.683143\n",
      "         Iterations 4\n",
      "Optimization terminated successfully.\n",
      "         Current function value: 0.683128\n",
      "         Iterations 4\n",
      "Optimization terminated successfully.\n",
      "         Current function value: 0.683143\n",
      "         Iterations 4\n",
      "Optimization terminated successfully.\n",
      "         Current function value: 0.683137\n",
      "         Iterations 4\n",
      "Optimization terminated successfully.\n",
      "         Current function value: 0.683143\n",
      "         Iterations 4\n",
      "Optimization terminated successfully.\n",
      "         Current function value: 0.683120\n",
      "         Iterations 4\n",
      "       method              feature  rank        score   p_value   misc\n",
      "0   LR filter  x57_uplift_increase   1.0  2070.582853  0.000000  df: 1\n",
      "0   LR filter  x51_uplift_increase   2.0  1969.081668  0.000000  df: 1\n",
      "0   LR filter  x54_uplift_increase   3.0  1596.059562  0.000000  df: 1\n",
      "0   LR filter  x58_uplift_increase   4.0  1339.970602  0.000000  df: 1\n",
      "0   LR filter       x9_informative   5.0   830.925812  0.000000  df: 1\n",
      "0   LR filter  x63_uplift_decrease   6.0     9.149363  0.002488  df: 1\n",
      "0   LR filter  x61_uplift_decrease   7.0     6.013194  0.014199  df: 1\n",
      "0   LR filter       x46_irrelevant   8.0     5.484790  0.019183  df: 1\n",
      "0   LR filter       x19_irrelevant   9.0     5.345715  0.020773  df: 1\n",
      "0   LR filter       x27_irrelevant  10.0     4.433104  0.035248  df: 1\n",
      "0   LR filter       x11_irrelevant  11.0     4.422047  0.035477  df: 1\n",
      "0   LR filter       x39_irrelevant  12.0     3.874147  0.049035  df: 1\n",
      "0   LR filter       x42_irrelevant  13.0     3.735743  0.053260  df: 1\n",
      "0   LR filter  x60_uplift_decrease  14.0     3.138529  0.076463  df: 1\n",
      "0   LR filter  x53_uplift_increase  15.0     2.865203  0.090514  df: 1\n",
      "0   LR filter       x18_irrelevant  16.0     2.840988  0.091888  df: 1\n",
      "0   LR filter       x22_irrelevant  17.0     2.504072  0.113552  df: 1\n",
      "0   LR filter  x62_uplift_decrease  18.0     2.317535  0.127923  df: 1\n",
      "0   LR filter       x14_irrelevant  19.0     2.226707  0.135643  df: 1\n",
      "0   LR filter       x40_irrelevant  20.0     2.197060  0.138274  df: 1\n",
      "0   LR filter       x8_informative  21.0     1.884233  0.169854  df: 1\n",
      "0   LR filter       x47_irrelevant  22.0     1.698939  0.192427  df: 1\n",
      "0   LR filter       x33_irrelevant  23.0     1.676522  0.195387  df: 1\n",
      "0   LR filter       x28_irrelevant  24.0     1.493135  0.221731  df: 1\n",
      "0   LR filter       x7_informative  25.0     1.249156  0.263714  df: 1\n",
      "0   LR filter     x59_increase_mix  26.0     1.197540  0.273814  df: 1\n",
      "0   LR filter       x41_irrelevant  27.0     1.139287  0.285803  df: 1\n",
      "0   LR filter       x20_irrelevant  28.0     1.109899  0.292104  df: 1\n",
      "0   LR filter       x1_informative  29.0     1.014855  0.313743  df: 1\n",
      "0   LR filter       x3_informative  30.0     0.992359  0.319166  df: 1\n",
      "..        ...                  ...   ...          ...       ...    ...\n",
      "0   LR filter       x32_irrelevant  34.0     0.764228  0.382009  df: 1\n",
      "0   LR filter       x2_informative  35.0     0.732987  0.391917  df: 1\n",
      "0   LR filter       x31_irrelevant  36.0     0.705755  0.400857  df: 1\n",
      "0   LR filter  x55_uplift_increase  37.0     0.598018  0.439335  df: 1\n",
      "0   LR filter       x44_irrelevant  38.0     0.590518  0.442219  df: 1\n",
      "0   LR filter       x34_irrelevant  39.0     0.556178  0.455804  df: 1\n",
      "0   LR filter       x12_irrelevant  40.0     0.549555  0.458499  df: 1\n",
      "0   LR filter       x4_informative  41.0     0.392499  0.530989  df: 1\n",
      "0   LR filter       x48_irrelevant  42.0     0.357407  0.549950  df: 1\n",
      "0   LR filter       x26_irrelevant  43.0     0.346474  0.556116  df: 1\n",
      "0   LR filter       x24_irrelevant  44.0     0.321736  0.570566  df: 1\n",
      "0   LR filter       x23_irrelevant  45.0     0.316385  0.573789  df: 1\n",
      "0   LR filter       x25_irrelevant  46.0     0.310967  0.577087  df: 1\n",
      "0   LR filter  x52_uplift_increase  47.0     0.289571  0.590495  df: 1\n",
      "0   LR filter       x37_irrelevant  48.0     0.267554  0.604977  df: 1\n",
      "0   LR filter       x15_irrelevant  49.0     0.215249  0.642684  df: 1\n",
      "0   LR filter       x29_irrelevant  50.0     0.192926  0.660492  df: 1\n",
      "0   LR filter       x35_irrelevant  51.0     0.120501  0.728492  df: 1\n",
      "0   LR filter       x38_irrelevant  52.0     0.116905  0.732416  df: 1\n",
      "0   LR filter      x10_informative  53.0     0.107143  0.743421  df: 1\n",
      "0   LR filter       x21_irrelevant  54.0     0.042848  0.836011  df: 1\n",
      "0   LR filter       x43_irrelevant  55.0     0.036466  0.848557  df: 1\n",
      "0   LR filter       x13_irrelevant  56.0     0.012543  0.910826  df: 1\n",
      "0   LR filter       x17_irrelevant  57.0     0.011252  0.915523  df: 1\n",
      "0   LR filter       x49_irrelevant  58.0     0.005559  0.940565  df: 1\n",
      "0   LR filter       x36_irrelevant  59.0     0.002396  0.960964  df: 1\n",
      "0   LR filter       x50_irrelevant  60.0     0.001808  0.966086  df: 1\n",
      "0   LR filter       x30_irrelevant  61.0     0.000956  0.975339  df: 1\n",
      "0   LR filter       x6_informative  62.0     0.000732  0.978420  df: 1\n",
      "0   LR filter       x5_informative  63.0     0.000029  0.995726  df: 1\n",
      "\n",
      "[63 rows x 6 columns]\n"
     ]
    }
   ],
   "source": [
    "method = 'LR'\n",
    "lr_imp = filter_f.get_importance(df, X_names, y_name, method, \n",
    "                      treatment_group = 'treatment1')\n",
    "print(lr_imp)"
   ]
  },
  {
   "cell_type": "markdown",
   "metadata": {},
   "source": [
    "### method = KL (KL divergence)"
   ]
  },
  {
   "cell_type": "code",
   "execution_count": 15,
   "metadata": {},
   "outputs": [
    {
     "name": "stdout",
     "output_type": "stream",
     "text": [
      "       method              feature  rank     score p_value                misc\n",
      "0   KL filter  x51_uplift_increase   1.0  0.026008    None  number_of_bins: 10\n",
      "0   KL filter  x57_uplift_increase   2.0  0.023749    None  number_of_bins: 10\n",
      "0   KL filter       x9_informative   3.0  0.020550    None  number_of_bins: 10\n",
      "0   KL filter  x54_uplift_increase   4.0  0.018411    None  number_of_bins: 10\n",
      "0   KL filter  x58_uplift_increase   5.0  0.014443    None  number_of_bins: 10\n",
      "0   KL filter  x52_uplift_increase   6.0  0.002416    None  number_of_bins: 10\n",
      "0   KL filter  x55_uplift_increase   7.0  0.000283    None  number_of_bins: 10\n",
      "0   KL filter       x23_irrelevant   8.0  0.000221    None  number_of_bins: 10\n",
      "0   KL filter     x59_increase_mix   9.0  0.000218    None  number_of_bins: 10\n",
      "0   KL filter       x21_irrelevant  10.0  0.000206    None  number_of_bins: 10\n",
      "0   KL filter       x15_irrelevant  11.0  0.000157    None  number_of_bins: 10\n",
      "0   KL filter       x11_irrelevant  12.0  0.000155    None  number_of_bins: 10\n",
      "0   KL filter       x46_irrelevant  13.0  0.000150    None  number_of_bins: 10\n",
      "0   KL filter       x39_irrelevant  14.0  0.000146    None  number_of_bins: 10\n",
      "0   KL filter  x53_uplift_increase  15.0  0.000142    None  number_of_bins: 10\n",
      "0   KL filter      x10_informative  16.0  0.000137    None  number_of_bins: 10\n",
      "0   KL filter       x2_informative  17.0  0.000135    None  number_of_bins: 10\n",
      "0   KL filter       x31_irrelevant  18.0  0.000132    None  number_of_bins: 10\n",
      "0   KL filter       x19_irrelevant  19.0  0.000130    None  number_of_bins: 10\n",
      "0   KL filter       x40_irrelevant  20.0  0.000125    None  number_of_bins: 10\n",
      "0   KL filter       x44_irrelevant  21.0  0.000124    None  number_of_bins: 10\n",
      "0   KL filter  x61_uplift_decrease  22.0  0.000118    None  number_of_bins: 10\n",
      "0   KL filter  x60_uplift_decrease  23.0  0.000118    None  number_of_bins: 10\n",
      "0   KL filter  x63_uplift_decrease  24.0  0.000112    None  number_of_bins: 10\n",
      "0   KL filter       x32_irrelevant  25.0  0.000109    None  number_of_bins: 10\n",
      "0   KL filter       x35_irrelevant  26.0  0.000104    None  number_of_bins: 10\n",
      "0   KL filter       x14_irrelevant  27.0  0.000102    None  number_of_bins: 10\n",
      "0   KL filter       x38_irrelevant  28.0  0.000094    None  number_of_bins: 10\n",
      "0   KL filter       x27_irrelevant  29.0  0.000091    None  number_of_bins: 10\n",
      "0   KL filter       x33_irrelevant  30.0  0.000090    None  number_of_bins: 10\n",
      "..        ...                  ...   ...       ...     ...                 ...\n",
      "0   KL filter       x16_irrelevant  34.0  0.000083    None  number_of_bins: 10\n",
      "0   KL filter       x34_irrelevant  35.0  0.000082    None  number_of_bins: 10\n",
      "0   KL filter       x18_irrelevant  36.0  0.000076    None  number_of_bins: 10\n",
      "0   KL filter       x36_irrelevant  37.0  0.000075    None  number_of_bins: 10\n",
      "0   KL filter       x20_irrelevant  38.0  0.000074    None  number_of_bins: 10\n",
      "0   KL filter       x4_informative  39.0  0.000073    None  number_of_bins: 10\n",
      "0   KL filter       x26_irrelevant  40.0  0.000072    None  number_of_bins: 10\n",
      "0   KL filter       x42_irrelevant  41.0  0.000071    None  number_of_bins: 10\n",
      "0   KL filter       x8_informative  42.0  0.000071    None  number_of_bins: 10\n",
      "0   KL filter       x6_informative  43.0  0.000071    None  number_of_bins: 10\n",
      "0   KL filter  x62_uplift_decrease  44.0  0.000065    None  number_of_bins: 10\n",
      "0   KL filter       x12_irrelevant  45.0  0.000063    None  number_of_bins: 10\n",
      "0   KL filter       x5_informative  46.0  0.000062    None  number_of_bins: 10\n",
      "0   KL filter       x1_informative  47.0  0.000060    None  number_of_bins: 10\n",
      "0   KL filter       x49_irrelevant  48.0  0.000059    None  number_of_bins: 10\n",
      "0   KL filter       x47_irrelevant  49.0  0.000058    None  number_of_bins: 10\n",
      "0   KL filter       x48_irrelevant  50.0  0.000057    None  number_of_bins: 10\n",
      "0   KL filter       x25_irrelevant  51.0  0.000057    None  number_of_bins: 10\n",
      "0   KL filter       x22_irrelevant  52.0  0.000056    None  number_of_bins: 10\n",
      "0   KL filter       x41_irrelevant  53.0  0.000049    None  number_of_bins: 10\n",
      "0   KL filter       x37_irrelevant  54.0  0.000049    None  number_of_bins: 10\n",
      "0   KL filter  x56_uplift_increase  55.0  0.000043    None  number_of_bins: 10\n",
      "0   KL filter       x13_irrelevant  56.0  0.000039    None  number_of_bins: 10\n",
      "0   KL filter       x50_irrelevant  57.0  0.000038    None  number_of_bins: 10\n",
      "0   KL filter       x24_irrelevant  58.0  0.000036    None  number_of_bins: 10\n",
      "0   KL filter       x29_irrelevant  59.0  0.000021    None  number_of_bins: 10\n",
      "0   KL filter       x30_irrelevant  60.0  0.000020    None  number_of_bins: 10\n",
      "0   KL filter       x17_irrelevant  61.0  0.000017    None  number_of_bins: 10\n",
      "0   KL filter       x45_irrelevant  62.0  0.000013    None  number_of_bins: 10\n",
      "0   KL filter       x7_informative  63.0  0.000011    None  number_of_bins: 10\n",
      "\n",
      "[63 rows x 6 columns]\n"
     ]
    }
   ],
   "source": [
    "\n",
    "method = 'KL'\n",
    "kl_imp = filter_f.get_importance(df, X_names, y_name, method, \n",
    "                      treatment_group = 'treatment1',\n",
    "                      n_bins=10)\n",
    "print(kl_imp)"
   ]
  },
  {
   "cell_type": "markdown",
   "metadata": {},
   "source": [
    "We found all these 3 filter methods were able to rank most of the **informative** and **uplift increase** features on the top."
   ]
  },
  {
   "cell_type": "markdown",
   "metadata": {},
   "source": [
    "## Performance evaluation  \n",
    "\n",
    "Evaluate the AUUC (Area Under the Uplift Curve) score with several uplift models when using top features dataset "
   ]
  },
  {
   "cell_type": "code",
   "execution_count": 16,
   "metadata": {},
   "outputs": [],
   "source": [
    "# train test split\n",
    "df_train, df_test = train_test_split(df, test_size=0.2, random_state=111)"
   ]
  },
  {
   "cell_type": "code",
   "execution_count": 17,
   "metadata": {},
   "outputs": [
    {
     "name": "stdout",
     "output_type": "stream",
     "text": [
      "[1 0 0 0 0 1 0 1 1 0]\n",
      "79114     treatment1\n",
      "76043        control\n",
      "47617        control\n",
      "53169        control\n",
      "175702       control\n",
      "111635    treatment1\n",
      "129212       control\n",
      "19247     treatment1\n",
      "49272     treatment1\n",
      "199314       control\n",
      "Name: treatment_group_key, dtype: object\n"
     ]
    }
   ],
   "source": [
    "# convert treatment column to 1 (treatment1) and 0 (control)\n",
    "treatments = np.where((df_test['treatment_group_key']=='treatment1'), 1, 0)\n",
    "print(treatments[:10])\n",
    "print(df_test['treatment_group_key'][:10])"
   ]
  },
  {
   "cell_type": "markdown",
   "metadata": {},
   "source": [
    "### Uplift RandomForest Classfier"
   ]
  },
  {
   "cell_type": "code",
   "execution_count": 18,
   "metadata": {},
   "outputs": [],
   "source": [
    "uplift_model = UpliftRandomForestClassifier(control_name='control', max_depth=8)"
   ]
  },
  {
   "cell_type": "code",
   "execution_count": 19,
   "metadata": {},
   "outputs": [],
   "source": [
    "# using all features\n",
    "features = X_names \n",
    "uplift_model.fit(X = df_train[features].values, \n",
    "                 treatment = df_train['treatment_group_key'].values,\n",
    "                 y = df_train[y_name].values)\n",
    "y_preds = uplift_model.predict(df_test[features].values)"
   ]
  },
  {
   "cell_type": "markdown",
   "metadata": {},
   "source": [
    "### Select top N features based on KL filter"
   ]
  },
  {
   "cell_type": "code",
   "execution_count": 20,
   "metadata": {},
   "outputs": [
    {
     "name": "stdout",
     "output_type": "stream",
     "text": [
      "0    x51_uplift_increase\n",
      "0    x57_uplift_increase\n",
      "0         x9_informative\n",
      "0    x54_uplift_increase\n",
      "0    x58_uplift_increase\n",
      "0    x52_uplift_increase\n",
      "0    x55_uplift_increase\n",
      "0         x23_irrelevant\n",
      "0       x59_increase_mix\n",
      "0         x21_irrelevant\n",
      "Name: feature, dtype: object\n"
     ]
    }
   ],
   "source": [
    "top_n = 10\n",
    "top_10_features = kl_imp['feature'][:top_n]\n",
    "print(top_10_features)"
   ]
  },
  {
   "cell_type": "code",
   "execution_count": 21,
   "metadata": {},
   "outputs": [
    {
     "name": "stdout",
     "output_type": "stream",
     "text": [
      "0    x51_uplift_increase\n",
      "0    x57_uplift_increase\n",
      "0         x9_informative\n",
      "0    x54_uplift_increase\n",
      "0    x58_uplift_increase\n",
      "0    x52_uplift_increase\n",
      "0    x55_uplift_increase\n",
      "0         x23_irrelevant\n",
      "0       x59_increase_mix\n",
      "0         x21_irrelevant\n",
      "0         x15_irrelevant\n",
      "0         x11_irrelevant\n",
      "0         x46_irrelevant\n",
      "0         x39_irrelevant\n",
      "0    x53_uplift_increase\n",
      "Name: feature, dtype: object\n"
     ]
    }
   ],
   "source": [
    "top_n = 15\n",
    "top_15_features = kl_imp['feature'][:top_n]\n",
    "print(top_15_features)"
   ]
  },
  {
   "cell_type": "code",
   "execution_count": 22,
   "metadata": {},
   "outputs": [
    {
     "name": "stdout",
     "output_type": "stream",
     "text": [
      "0    x51_uplift_increase\n",
      "0    x57_uplift_increase\n",
      "0         x9_informative\n",
      "0    x54_uplift_increase\n",
      "0    x58_uplift_increase\n",
      "0    x52_uplift_increase\n",
      "0    x55_uplift_increase\n",
      "0         x23_irrelevant\n",
      "0       x59_increase_mix\n",
      "0         x21_irrelevant\n",
      "0         x15_irrelevant\n",
      "0         x11_irrelevant\n",
      "0         x46_irrelevant\n",
      "0         x39_irrelevant\n",
      "0    x53_uplift_increase\n",
      "0        x10_informative\n",
      "0         x2_informative\n",
      "0         x31_irrelevant\n",
      "0         x19_irrelevant\n",
      "0         x40_irrelevant\n",
      "Name: feature, dtype: object\n"
     ]
    }
   ],
   "source": [
    "top_n = 20\n",
    "top_20_features = kl_imp['feature'][:top_n]\n",
    "print(top_20_features)"
   ]
  },
  {
   "cell_type": "markdown",
   "metadata": {},
   "source": [
    "#### Train the Uplift model again with top N features"
   ]
  },
  {
   "cell_type": "code",
   "execution_count": 24,
   "metadata": {},
   "outputs": [],
   "source": [
    "# using top 10 features\n",
    "features = top_10_features \n",
    "\n",
    "uplift_model.fit(X = df_train[features].values, \n",
    "                 treatment = df_train['treatment_group_key'].values,\n",
    "                 y = df_train[y_name].values)\n",
    "y_preds_t10 = uplift_model.predict(df_test[features].values)"
   ]
  },
  {
   "cell_type": "code",
   "execution_count": 25,
   "metadata": {},
   "outputs": [],
   "source": [
    "# using top 15 features\n",
    "features = top_15_features \n",
    "\n",
    "uplift_model.fit(X = df_train[features].values, \n",
    "                 treatment = df_train['treatment_group_key'].values,\n",
    "                 y = df_train[y_name].values)\n",
    "y_preds_t15 = uplift_model.predict(df_test[features].values)"
   ]
  },
  {
   "cell_type": "code",
   "execution_count": 26,
   "metadata": {},
   "outputs": [],
   "source": [
    "# using top 20 features\n",
    "features = top_20_features\n",
    "\n",
    "uplift_model.fit(X = df_train[features].values, \n",
    "                 treatment = df_train['treatment_group_key'].values,\n",
    "                 y = df_train[y_name].values)\n",
    "y_preds_t20 = uplift_model.predict(df_test[features].values)"
   ]
  },
  {
   "cell_type": "markdown",
   "metadata": {},
   "source": [
    "### Print results for Uplift model"
   ]
  },
  {
   "cell_type": "code",
   "execution_count": 27,
   "metadata": {},
   "outputs": [
    {
     "data": {
      "image/png": "[encoded data removed]",
      "text/plain": [
       "<Figure size 576x576 with 1 Axes>"
      ]
     },
     "metadata": {
      "needs_background": "light"
     },
     "output_type": "display_data"
    }
   ],
   "source": [
    "df_preds = pd.DataFrame([y_preds.ravel(), \n",
    "                         y_preds_t10.ravel(),\n",
    "                         y_preds_t15.ravel(),\n",
    "                         y_preds_t20.ravel(),\n",
    "                         treatments,\n",
    "                         df_test[y_name].ravel()],\n",
    "                        index=['All', 'Top 10', 'Top 15', 'Top 20', 'is_treated', y_name]).T\n",
    "\n",
    "plot_gain(df_preds, outcome_col=y_name, treatment_col='is_treated')\n"
   ]
  },
  {
   "cell_type": "code",
   "execution_count": 28,
   "metadata": {},
   "outputs": [
    {
     "data": {
      "text/plain": [
       "All       0.874182\n",
       "Top 10    0.874931\n",
       "Top 15    0.889868\n",
       "Top 20    0.894400\n",
       "Random    0.493027\n",
       "dtype: float64"
      ]
     },
     "execution_count": 28,
     "metadata": {},
     "output_type": "execute_result"
    }
   ],
   "source": [
    "auuc_score(df_preds, outcome_col=y_name, treatment_col='is_treated')"
   ]
  },
  {
   "cell_type": "markdown",
   "metadata": {},
   "source": [
    "### R Learner as base and feed in Random Forest Regressor"
   ]
  },
  {
   "cell_type": "code",
   "execution_count": 29,
   "metadata": {},
   "outputs": [],
   "source": [
    "r_rf_learner = BaseRRegressor(\n",
    "    RandomForestRegressor(\n",
    "        n_estimators = 100,\n",
    "        max_depth = 8,\n",
    "        min_samples_leaf = 100\n",
    "    ), \n",
    "control_name='control') "
   ]
  },
  {
   "cell_type": "code",
   "execution_count": 30,
   "metadata": {},
   "outputs": [
    {
     "name": "stderr",
     "output_type": "stream",
     "text": [
      "INFO:causalml:Generating propensity score\n",
      "INFO:causalml:Calibrating propensity scores.\n",
      "INFO:causalml:generating out-of-fold CV outcome estimates\n",
      "INFO:causalml:training the treatment effect model for treatment1 with R-loss\n"
     ]
    }
   ],
   "source": [
    "# using all features\n",
    "features = X_names \n",
    "r_rf_learner.fit(X = df_train[features].values, \n",
    "                 treatment = df_train['treatment_group_key'].values,\n",
    "                 y = df_train[y_name].values)\n",
    "y_preds = r_rf_learner.predict(df_test[features].values)"
   ]
  },
  {
   "cell_type": "code",
   "execution_count": 31,
   "metadata": {},
   "outputs": [
    {
     "name": "stderr",
     "output_type": "stream",
     "text": [
      "INFO:causalml:Generating propensity score\n",
      "INFO:causalml:Calibrating propensity scores.\n",
      "INFO:causalml:generating out-of-fold CV outcome estimates\n",
      "INFO:causalml:training the treatment effect model for treatment1 with R-loss\n"
     ]
    }
   ],
   "source": [
    "# using top 10 features\n",
    "features = top_10_features \n",
    "r_rf_learner.fit(X = df_train[features].values, \n",
    "                 treatment = df_train['treatment_group_key'].values,\n",
    "                 y = df_train[y_name].values)\n",
    "y_preds_t10 = r_rf_learner.predict(df_test[features].values)"
   ]
  },
  {
   "cell_type": "code",
   "execution_count": 32,
   "metadata": {},
   "outputs": [
    {
     "name": "stderr",
     "output_type": "stream",
     "text": [
      "INFO:causalml:Generating propensity score\n",
      "INFO:causalml:Calibrating propensity scores.\n",
      "INFO:causalml:generating out-of-fold CV outcome estimates\n",
      "INFO:causalml:training the treatment effect model for treatment1 with R-loss\n"
     ]
    }
   ],
   "source": [
    "# using top 15 features\n",
    "features = top_15_features \n",
    "r_rf_learner.fit(X = df_train[features].values, \n",
    "                 treatment = df_train['treatment_group_key'].values,\n",
    "                 y = df_train[y_name].values)\n",
    "y_preds_t15 = r_rf_learner.predict(df_test[features].values)"
   ]
  },
  {
   "cell_type": "code",
   "execution_count": 33,
   "metadata": {},
   "outputs": [
    {
     "name": "stderr",
     "output_type": "stream",
     "text": [
      "INFO:causalml:Generating propensity score\n",
      "INFO:causalml:Calibrating propensity scores.\n",
      "INFO:causalml:generating out-of-fold CV outcome estimates\n",
      "INFO:causalml:training the treatment effect model for treatment1 with R-loss\n"
     ]
    }
   ],
   "source": [
    "# using top 20 features\n",
    "features = top_20_features \n",
    "r_rf_learner.fit(X = df_train[features].values, \n",
    "                 treatment = df_train['treatment_group_key'].values,\n",
    "                 y = df_train[y_name].values)\n",
    "y_preds_t20 = r_rf_learner.predict(df_test[features].values)"
   ]
  },
  {
   "cell_type": "markdown",
   "metadata": {},
   "source": [
    "### Print results for R Learner"
   ]
  },
  {
   "cell_type": "code",
   "execution_count": 34,
   "metadata": {},
   "outputs": [
    {
     "data": {
      "image/png": "[encoded data removed]",
      "text/plain": [
       "<Figure size 576x576 with 1 Axes>"
      ]
     },
     "metadata": {
      "needs_background": "light"
     },
     "output_type": "display_data"
    }
   ],
   "source": [
    "df_preds = pd.DataFrame([y_preds.ravel(), \n",
    "                         y_preds_t10.ravel(),\n",
    "                         y_preds_t15.ravel(),\n",
    "                         y_preds_t20.ravel(),\n",
    "                         treatments,\n",
    "                         df_test[y_name].ravel()],\n",
    "                        index=['All', 'Top 10', 'Top 15', 'Top 20', 'is_treated', y_name]).T\n",
    "\n",
    "plot_gain(df_preds, outcome_col=y_name, treatment_col='is_treated')"
   ]
  },
  {
   "cell_type": "code",
   "execution_count": 35,
   "metadata": {},
   "outputs": [
    {
     "data": {
      "text/plain": [
       "All       0.890747\n",
       "Top 10    0.906526\n",
       "Top 15    0.899187\n",
       "Top 20    0.901242\n",
       "Random    0.493027\n",
       "dtype: float64"
      ]
     },
     "execution_count": 35,
     "metadata": {},
     "output_type": "execute_result"
    }
   ],
   "source": [
    "# print out AUUC score\n",
    "auuc_score(df_preds, outcome_col=y_name, treatment_col='is_treated')"
   ]
  },
  {
   "cell_type": "markdown",
   "metadata": {},
   "source": [
    "(a relatively smaller enhancement on the AUUC is observed in this R Learner case)"
   ]
  },
  {
   "cell_type": "markdown",
   "metadata": {},
   "source": [
    "### S Learner as base and feed in Random Forest Regressor"
   ]
  },
  {
   "cell_type": "code",
   "execution_count": 36,
   "metadata": {},
   "outputs": [],
   "source": [
    "slearner_rf = BaseSRegressor(\n",
    "    RandomForestRegressor(\n",
    "        n_estimators = 100,\n",
    "        max_depth = 8,\n",
    "        min_samples_leaf = 100\n",
    "    ), \n",
    "    control_name='control')"
   ]
  },
  {
   "cell_type": "code",
   "execution_count": 37,
   "metadata": {},
   "outputs": [],
   "source": [
    "# using all features\n",
    "features = X_names \n",
    "slearner_rf.fit(X = df_train[features].values, \n",
    "                treatment = df_train['treatment_group_key'].values,\n",
    "                y = df_train[y_name].values)\n",
    "y_preds = slearner_rf.predict(df_test[features].values)"
   ]
  },
  {
   "cell_type": "code",
   "execution_count": 38,
   "metadata": {},
   "outputs": [],
   "source": [
    "# using top 10 features\n",
    "features = top_10_features \n",
    "slearner_rf.fit(X = df_train[features].values, \n",
    "                treatment = df_train['treatment_group_key'].values,\n",
    "                y = df_train[y_name].values)\n",
    "y_preds_t10 = slearner_rf.predict(df_test[features].values)"
   ]
  },
  {
   "cell_type": "code",
   "execution_count": 39,
   "metadata": {},
   "outputs": [],
   "source": [
    "# using top 15 features\n",
    "features = top_15_features \n",
    "slearner_rf.fit(X = df_train[features].values, \n",
    "                treatment = df_train['treatment_group_key'].values,\n",
    "                y = df_train[y_name].values)\n",
    "y_preds_t15 = slearner_rf.predict(df_test[features].values)"
   ]
  },
  {
   "cell_type": "code",
   "execution_count": 40,
   "metadata": {},
   "outputs": [],
   "source": [
    "# using top 20 features\n",
    "features = top_20_features \n",
    "slearner_rf.fit(X = df_train[features].values, \n",
    "                treatment = df_train['treatment_group_key'].values,\n",
    "                y = df_train[y_name].values)\n",
    "y_preds_t20 = slearner_rf.predict(df_test[features].values)"
   ]
  },
  {
   "cell_type": "markdown",
   "metadata": {},
   "source": [
    "### Print results for S Learner"
   ]
  },
  {
   "cell_type": "code",
   "execution_count": 42,
   "metadata": {},
   "outputs": [
    {
     "data": {
      "image/png": "[encoded data removed]",
      "text/plain": [
       "<Figure size 576x576 with 1 Axes>"
      ]
     },
     "metadata": {
      "needs_background": "light"
     },
     "output_type": "display_data"
    }
   ],
   "source": [
    "df_preds = pd.DataFrame([y_preds.ravel(), \n",
    "                         y_preds_t10.ravel(),\n",
    "                         y_preds_t15.ravel(),\n",
    "                         y_preds_t20.ravel(),\n",
    "                         treatments,\n",
    "                         df_test[y_name].ravel()],\n",
    "                        index=['All', 'Top 10', 'Top 15', 'Top 20', 'is_treated', y_name]).T\n",
    "\n",
    "plot_gain(df_preds, outcome_col=y_name, treatment_col='is_treated')"
   ]
  },
  {
   "cell_type": "code",
   "execution_count": 43,
   "metadata": {},
   "outputs": [
    {
     "data": {
      "text/plain": [
       "All       0.864579\n",
       "Top 10    0.885354\n",
       "Top 15    0.878970\n",
       "Top 20    0.877791\n",
       "Random    0.493027\n",
       "dtype: float64"
      ]
     },
     "execution_count": 43,
     "metadata": {},
     "output_type": "execute_result"
    }
   ],
   "source": [
    "# print out AUUC score\n",
    "auuc_score(df_preds, outcome_col=y_name, treatment_col='is_treated')"
   ]
  },
  {
   "cell_type": "markdown",
   "metadata": {},
   "source": [
    "In this notebook, we demonstrated how our Filter method functions are able to select important features and enhance the AUUC performance (while the results might vary among different datasets, models and hyper-parameters)."
   ]
  }
 ],
 "metadata": {
  "kernelspec": {
   "display_name": "Python 3 (General DS)",
   "language": "python",
   "name": "python3"
  },
  "language_info": {
   "codemirror_mode": {
    "name": "ipython",
    "version": 3
   },
   "file_extension": ".py",
   "mimetype": "text/x-python",
   "name": "python",
   "nbconvert_exporter": "python",
   "pygments_lexer": "ipython3",
   "version": "3.6.4"
  }
 },
 "nbformat": 4,
 "nbformat_minor": 2
}
