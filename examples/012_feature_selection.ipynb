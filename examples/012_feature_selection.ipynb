{
 "cells": [
  {
   "cell_type": "markdown",
   "metadata": {},
   "source": [
    "# Feature Selection for Uplift Modeling\n",
    "  \n",
    "    \n",
    "This notebook includes two sections:  \n",
    "- **Feature selection**: demonstrate how to use Filter methods to select the most important numeric features\n",
    "- **Performance evaluation**: evaluate the AUUC performance with top features dataset\n",
    "  \n",
    "*(Paper reference: [Zhao, Zhenyu, et al. \"Feature Selection Methods for Uplift Modeling.\" arXiv preprint arXiv:2005.03447 (2020).](https://arxiv.org/abs/2005.03447))*"
   ]
  },
  {
   "cell_type": "code",
   "execution_count": 1,
   "metadata": {
    "ExecuteTime": {
     "end_time": "2021-11-29T22:45:16.975121Z",
     "start_time": "2021-11-29T22:45:16.749881Z"
    }
   },
   "outputs": [],
   "source": [
    "import numpy as np\n",
    "import pandas as pd"
   ]
  },
  {
   "cell_type": "code",
   "execution_count": 2,
   "metadata": {
    "ExecuteTime": {
     "end_time": "2021-11-29T22:45:18.094794Z",
     "start_time": "2021-11-29T22:45:16.976822Z"
    }
   },
   "outputs": [
    {
     "name": "stderr",
     "output_type": "stream",
     "text": [
      "Using `tqdm.autonotebook.tqdm` in notebook mode. Use `tqdm.tqdm` instead to force console mode (e.g. in jupyter console)\n",
      "Failed to import duecredit due to No module named 'duecredit'\n"
     ]
    }
   ],
   "source": [
    "from causalml.dataset import make_uplift_classification"
   ]
  },
  {
   "cell_type": "markdown",
   "metadata": {},
   "source": [
    "#### Import FilterSelect class for Filter methods"
   ]
  },
  {
   "cell_type": "code",
   "execution_count": 3,
   "metadata": {
    "ExecuteTime": {
     "end_time": "2021-11-29T22:45:18.103040Z",
     "start_time": "2021-11-29T22:45:18.097362Z"
    }
   },
   "outputs": [],
   "source": [
    "from causalml.feature_selection.filters import FilterSelect"
   ]
  },
  {
   "cell_type": "code",
   "execution_count": 4,
   "metadata": {
    "ExecuteTime": {
     "end_time": "2021-11-29T22:45:18.109523Z",
     "start_time": "2021-11-29T22:45:18.105177Z"
    }
   },
   "outputs": [],
   "source": [
    "from causalml.inference.tree import UpliftRandomForestClassifier\n",
    "from causalml.inference.meta import BaseXRegressor, BaseRRegressor, BaseSRegressor, BaseTRegressor\n",
    "from causalml.metrics import plot_gain, auuc_score"
   ]
  },
  {
   "cell_type": "code",
   "execution_count": 5,
   "metadata": {
    "ExecuteTime": {
     "end_time": "2021-11-29T22:45:18.112934Z",
     "start_time": "2021-11-29T22:45:18.111213Z"
    }
   },
   "outputs": [],
   "source": [
    "from sklearn.model_selection import train_test_split\n",
    "from sklearn.ensemble import RandomForestRegressor"
   ]
  },
  {
   "cell_type": "code",
   "execution_count": 6,
   "metadata": {
    "ExecuteTime": {
     "end_time": "2021-11-29T22:45:18.116303Z",
     "start_time": "2021-11-29T22:45:18.114315Z"
    }
   },
   "outputs": [],
   "source": [
    "import logging\n",
    "\n",
    "logger = logging.getLogger('causalml')\n",
    "logging.basicConfig(level=logging.INFO)"
   ]
  },
  {
   "cell_type": "markdown",
   "metadata": {},
   "source": [
    "### Generate dataset\n",
    "\n",
    "Generate synthetic data using the built-in function."
   ]
  },
  {
   "cell_type": "code",
   "execution_count": 7,
   "metadata": {
    "ExecuteTime": {
     "end_time": "2021-11-29T22:45:18.120534Z",
     "start_time": "2021-11-29T22:45:18.117882Z"
    }
   },
   "outputs": [],
   "source": [
    "# define parameters for simulation\n",
    "\n",
    "y_name = 'conversion'\n",
    "treatment_group_keys = ['control', 'treatment1']\n",
    "n = 10000\n",
    "n_classification_features = 50\n",
    "n_classification_informative = 10\n",
    "n_classification_repeated = 0\n",
    "n_uplift_increase_dict = {'treatment1': 8}\n",
    "n_uplift_decrease_dict = {'treatment1': 4}\n",
    "delta_uplift_increase_dict = {'treatment1': 0.1}\n",
    "delta_uplift_decrease_dict = {'treatment1': -0.1}\n",
    "\n",
    "random_seed = 20200808"
   ]
  },
  {
   "cell_type": "code",
   "execution_count": 8,
   "metadata": {
    "ExecuteTime": {
     "end_time": "2021-11-29T22:45:19.388449Z",
     "start_time": "2021-11-29T22:45:18.123271Z"
    }
   },
   "outputs": [],
   "source": [
    "df, X_names = make_uplift_classification(\n",
    "    treatment_name=treatment_group_keys,\n",
    "    y_name=y_name,\n",
    "    n_samples=n,\n",
    "    n_classification_features=n_classification_features,\n",
    "    n_classification_informative=n_classification_informative,\n",
    "    n_classification_repeated=n_classification_repeated,\n",
    "    n_uplift_increase_dict=n_uplift_increase_dict,\n",
    "    n_uplift_decrease_dict=n_uplift_decrease_dict,\n",
    "    delta_uplift_increase_dict = delta_uplift_increase_dict, \n",
    "    delta_uplift_decrease_dict = delta_uplift_decrease_dict,\n",
    "    random_seed=random_seed\n",
    ")"
   ]
  },
  {
   "cell_type": "code",
   "execution_count": 9,
   "metadata": {
    "ExecuteTime": {
     "end_time": "2021-11-29T22:45:19.417996Z",
     "start_time": "2021-11-29T22:45:19.391936Z"
    }
   },
   "outputs": [
    {
     "data": {
      "text/html": [
       "<div>\n",
       "<style scoped>\n",
       "    .dataframe tbody tr th:only-of-type {\n",
       "        vertical-align: middle;\n",
       "    }\n",
       "\n",
       "    .dataframe tbody tr th {\n",
       "        vertical-align: top;\n",
       "    }\n",
       "\n",
       "    .dataframe thead th {\n",
       "        text-align: right;\n",
       "    }\n",
       "</style>\n",
       "<table border=\"1\" class=\"dataframe\">\n",
       "  <thead>\n",
       "    <tr style=\"text-align: right;\">\n",
       "      <th></th>\n",
       "      <th>treatment_group_key</th>\n",
       "      <th>x1_informative</th>\n",
       "      <th>x2_informative</th>\n",
       "      <th>x3_informative</th>\n",
       "      <th>x4_informative</th>\n",
       "      <th>x5_informative</th>\n",
       "      <th>x6_informative</th>\n",
       "      <th>x7_informative</th>\n",
       "      <th>x8_informative</th>\n",
       "      <th>x9_informative</th>\n",
       "      <th>...</th>\n",
       "      <th>x56_uplift_increase</th>\n",
       "      <th>x57_uplift_increase</th>\n",
       "      <th>x58_uplift_increase</th>\n",
       "      <th>x59_increase_mix</th>\n",
       "      <th>x60_uplift_decrease</th>\n",
       "      <th>x61_uplift_decrease</th>\n",
       "      <th>x62_uplift_decrease</th>\n",
       "      <th>x63_uplift_decrease</th>\n",
       "      <th>conversion</th>\n",
       "      <th>treatment_effect</th>\n",
       "    </tr>\n",
       "  </thead>\n",
       "  <tbody>\n",
       "    <tr>\n",
       "      <th>0</th>\n",
       "      <td>treatment1</td>\n",
       "      <td>-4.004496</td>\n",
       "      <td>-1.250351</td>\n",
       "      <td>-2.800557</td>\n",
       "      <td>-0.368288</td>\n",
       "      <td>-0.115549</td>\n",
       "      <td>-2.492826</td>\n",
       "      <td>0.369516</td>\n",
       "      <td>0.290526</td>\n",
       "      <td>0.465153</td>\n",
       "      <td>...</td>\n",
       "      <td>0.496144</td>\n",
       "      <td>1.847680</td>\n",
       "      <td>-0.337894</td>\n",
       "      <td>-0.672058</td>\n",
       "      <td>1.180352</td>\n",
       "      <td>0.778013</td>\n",
       "      <td>0.931000</td>\n",
       "      <td>2.947160</td>\n",
       "      <td>0</td>\n",
       "      <td>0</td>\n",
       "    </tr>\n",
       "    <tr>\n",
       "      <th>1</th>\n",
       "      <td>treatment1</td>\n",
       "      <td>-3.170028</td>\n",
       "      <td>-0.135293</td>\n",
       "      <td>1.484246</td>\n",
       "      <td>-2.131584</td>\n",
       "      <td>-0.760103</td>\n",
       "      <td>1.764765</td>\n",
       "      <td>0.972124</td>\n",
       "      <td>1.407131</td>\n",
       "      <td>-1.027603</td>\n",
       "      <td>...</td>\n",
       "      <td>0.574955</td>\n",
       "      <td>3.578138</td>\n",
       "      <td>0.678118</td>\n",
       "      <td>-0.545227</td>\n",
       "      <td>-0.143942</td>\n",
       "      <td>-0.015188</td>\n",
       "      <td>1.189643</td>\n",
       "      <td>1.943692</td>\n",
       "      <td>1</td>\n",
       "      <td>0</td>\n",
       "    </tr>\n",
       "    <tr>\n",
       "      <th>2</th>\n",
       "      <td>treatment1</td>\n",
       "      <td>-0.763386</td>\n",
       "      <td>-0.785612</td>\n",
       "      <td>1.218781</td>\n",
       "      <td>-0.725835</td>\n",
       "      <td>1.044489</td>\n",
       "      <td>-1.521071</td>\n",
       "      <td>-2.266684</td>\n",
       "      <td>-1.614818</td>\n",
       "      <td>-0.113647</td>\n",
       "      <td>...</td>\n",
       "      <td>0.985076</td>\n",
       "      <td>1.079181</td>\n",
       "      <td>0.578092</td>\n",
       "      <td>0.574370</td>\n",
       "      <td>-0.477429</td>\n",
       "      <td>0.679070</td>\n",
       "      <td>1.650897</td>\n",
       "      <td>2.768897</td>\n",
       "      <td>1</td>\n",
       "      <td>0</td>\n",
       "    </tr>\n",
       "    <tr>\n",
       "      <th>3</th>\n",
       "      <td>control</td>\n",
       "      <td>0.887727</td>\n",
       "      <td>0.049095</td>\n",
       "      <td>-2.242776</td>\n",
       "      <td>1.530966</td>\n",
       "      <td>0.392623</td>\n",
       "      <td>-0.203071</td>\n",
       "      <td>-0.549329</td>\n",
       "      <td>0.107296</td>\n",
       "      <td>-0.542277</td>\n",
       "      <td>...</td>\n",
       "      <td>-0.175352</td>\n",
       "      <td>0.683330</td>\n",
       "      <td>0.567545</td>\n",
       "      <td>0.349622</td>\n",
       "      <td>-0.789203</td>\n",
       "      <td>2.315184</td>\n",
       "      <td>0.658607</td>\n",
       "      <td>1.734836</td>\n",
       "      <td>0</td>\n",
       "      <td>0</td>\n",
       "    </tr>\n",
       "    <tr>\n",
       "      <th>4</th>\n",
       "      <td>control</td>\n",
       "      <td>-1.672922</td>\n",
       "      <td>-1.156145</td>\n",
       "      <td>3.871476</td>\n",
       "      <td>-1.883713</td>\n",
       "      <td>-0.220122</td>\n",
       "      <td>-4.615669</td>\n",
       "      <td>0.141980</td>\n",
       "      <td>-0.933756</td>\n",
       "      <td>-0.765592</td>\n",
       "      <td>...</td>\n",
       "      <td>0.485798</td>\n",
       "      <td>-0.355315</td>\n",
       "      <td>0.982488</td>\n",
       "      <td>-0.007260</td>\n",
       "      <td>2.895155</td>\n",
       "      <td>0.261848</td>\n",
       "      <td>-1.337001</td>\n",
       "      <td>-0.639983</td>\n",
       "      <td>1</td>\n",
       "      <td>0</td>\n",
       "    </tr>\n",
       "  </tbody>\n",
       "</table>\n",
       "<p>5 rows × 66 columns</p>\n",
       "</div>"
      ],
      "text/plain": [
       "  treatment_group_key  x1_informative  x2_informative  x3_informative  \\\n",
       "0          treatment1       -4.004496       -1.250351       -2.800557   \n",
       "1          treatment1       -3.170028       -0.135293        1.484246   \n",
       "2          treatment1       -0.763386       -0.785612        1.218781   \n",
       "3             control        0.887727        0.049095       -2.242776   \n",
       "4             control       -1.672922       -1.156145        3.871476   \n",
       "\n",
       "   x4_informative  x5_informative  x6_informative  x7_informative  \\\n",
       "0       -0.368288       -0.115549       -2.492826        0.369516   \n",
       "1       -2.131584       -0.760103        1.764765        0.972124   \n",
       "2       -0.725835        1.044489       -1.521071       -2.266684   \n",
       "3        1.530966        0.392623       -0.203071       -0.549329   \n",
       "4       -1.883713       -0.220122       -4.615669        0.141980   \n",
       "\n",
       "   x8_informative  x9_informative  ...  x56_uplift_increase  \\\n",
       "0        0.290526        0.465153  ...             0.496144   \n",
       "1        1.407131       -1.027603  ...             0.574955   \n",
       "2       -1.614818       -0.113647  ...             0.985076   \n",
       "3        0.107296       -0.542277  ...            -0.175352   \n",
       "4       -0.933756       -0.765592  ...             0.485798   \n",
       "\n",
       "   x57_uplift_increase  x58_uplift_increase  x59_increase_mix  \\\n",
       "0             1.847680            -0.337894         -0.672058   \n",
       "1             3.578138             0.678118         -0.545227   \n",
       "2             1.079181             0.578092          0.574370   \n",
       "3             0.683330             0.567545          0.349622   \n",
       "4            -0.355315             0.982488         -0.007260   \n",
       "\n",
       "   x60_uplift_decrease  x61_uplift_decrease  x62_uplift_decrease  \\\n",
       "0             1.180352             0.778013             0.931000   \n",
       "1            -0.143942            -0.015188             1.189643   \n",
       "2            -0.477429             0.679070             1.650897   \n",
       "3            -0.789203             2.315184             0.658607   \n",
       "4             2.895155             0.261848            -1.337001   \n",
       "\n",
       "   x63_uplift_decrease  conversion  treatment_effect  \n",
       "0             2.947160           0                 0  \n",
       "1             1.943692           1                 0  \n",
       "2             2.768897           1                 0  \n",
       "3             1.734836           0                 0  \n",
       "4            -0.639983           1                 0  \n",
       "\n",
       "[5 rows x 66 columns]"
      ]
     },
     "execution_count": 9,
     "metadata": {},
     "output_type": "execute_result"
    }
   ],
   "source": [
    "df.head()"
   ]
  },
  {
   "cell_type": "code",
   "execution_count": 10,
   "metadata": {
    "ExecuteTime": {
     "end_time": "2021-11-29T22:45:19.608438Z",
     "start_time": "2021-11-29T22:45:19.419633Z"
    }
   },
   "outputs": [
    {
     "data": {
      "text/html": [
       "<div>\n",
       "<style scoped>\n",
       "    .dataframe tbody tr th:only-of-type {\n",
       "        vertical-align: middle;\n",
       "    }\n",
       "\n",
       "    .dataframe tbody tr th {\n",
       "        vertical-align: top;\n",
       "    }\n",
       "\n",
       "    .dataframe thead tr th {\n",
       "        text-align: left;\n",
       "    }\n",
       "\n",
       "    .dataframe thead tr:last-of-type th {\n",
       "        text-align: right;\n",
       "    }\n",
       "</style>\n",
       "<table border=\"1\" class=\"dataframe\">\n",
       "  <thead>\n",
       "    <tr>\n",
       "      <th></th>\n",
       "      <th>mean</th>\n",
       "      <th>size</th>\n",
       "    </tr>\n",
       "    <tr>\n",
       "      <th></th>\n",
       "      <th>conversion</th>\n",
       "      <th>conversion</th>\n",
       "    </tr>\n",
       "    <tr>\n",
       "      <th>treatment_group_key</th>\n",
       "      <th></th>\n",
       "      <th></th>\n",
       "    </tr>\n",
       "  </thead>\n",
       "  <tbody>\n",
       "    <tr>\n",
       "      <th>control</th>\n",
       "      <td>0.50180</td>\n",
       "      <td>10000</td>\n",
       "    </tr>\n",
       "    <tr>\n",
       "      <th>treatment1</th>\n",
       "      <td>0.59750</td>\n",
       "      <td>10000</td>\n",
       "    </tr>\n",
       "    <tr>\n",
       "      <th>All</th>\n",
       "      <td>0.54965</td>\n",
       "      <td>20000</td>\n",
       "    </tr>\n",
       "  </tbody>\n",
       "</table>\n",
       "</div>"
      ],
      "text/plain": [
       "                          mean       size\n",
       "                    conversion conversion\n",
       "treatment_group_key                      \n",
       "control                0.50180      10000\n",
       "treatment1             0.59750      10000\n",
       "All                    0.54965      20000"
      ]
     },
     "execution_count": 10,
     "metadata": {},
     "output_type": "execute_result"
    }
   ],
   "source": [
    "# Look at the conversion rate and sample size in each group\n",
    "df.pivot_table(values='conversion',\n",
    "               index='treatment_group_key',\n",
    "               aggfunc=[np.mean, np.size],\n",
    "               margins=True)"
   ]
  },
  {
   "cell_type": "code",
   "execution_count": 11,
   "metadata": {
    "ExecuteTime": {
     "end_time": "2021-11-29T22:45:19.613010Z",
     "start_time": "2021-11-29T22:45:19.609718Z"
    }
   },
   "outputs": [
    {
     "data": {
      "text/plain": [
       "['x1_informative',\n",
       " 'x2_informative',\n",
       " 'x3_informative',\n",
       " 'x4_informative',\n",
       " 'x5_informative',\n",
       " 'x6_informative',\n",
       " 'x7_informative',\n",
       " 'x8_informative',\n",
       " 'x9_informative',\n",
       " 'x10_informative',\n",
       " 'x11_irrelevant',\n",
       " 'x12_irrelevant',\n",
       " 'x13_irrelevant',\n",
       " 'x14_irrelevant',\n",
       " 'x15_irrelevant',\n",
       " 'x16_irrelevant',\n",
       " 'x17_irrelevant',\n",
       " 'x18_irrelevant',\n",
       " 'x19_irrelevant',\n",
       " 'x20_irrelevant',\n",
       " 'x21_irrelevant',\n",
       " 'x22_irrelevant',\n",
       " 'x23_irrelevant',\n",
       " 'x24_irrelevant',\n",
       " 'x25_irrelevant',\n",
       " 'x26_irrelevant',\n",
       " 'x27_irrelevant',\n",
       " 'x28_irrelevant',\n",
       " 'x29_irrelevant',\n",
       " 'x30_irrelevant',\n",
       " 'x31_irrelevant',\n",
       " 'x32_irrelevant',\n",
       " 'x33_irrelevant',\n",
       " 'x34_irrelevant',\n",
       " 'x35_irrelevant',\n",
       " 'x36_irrelevant',\n",
       " 'x37_irrelevant',\n",
       " 'x38_irrelevant',\n",
       " 'x39_irrelevant',\n",
       " 'x40_irrelevant',\n",
       " 'x41_irrelevant',\n",
       " 'x42_irrelevant',\n",
       " 'x43_irrelevant',\n",
       " 'x44_irrelevant',\n",
       " 'x45_irrelevant',\n",
       " 'x46_irrelevant',\n",
       " 'x47_irrelevant',\n",
       " 'x48_irrelevant',\n",
       " 'x49_irrelevant',\n",
       " 'x50_irrelevant',\n",
       " 'x51_uplift_increase',\n",
       " 'x52_uplift_increase',\n",
       " 'x53_uplift_increase',\n",
       " 'x54_uplift_increase',\n",
       " 'x55_uplift_increase',\n",
       " 'x56_uplift_increase',\n",
       " 'x57_uplift_increase',\n",
       " 'x58_uplift_increase',\n",
       " 'x59_increase_mix',\n",
       " 'x60_uplift_decrease',\n",
       " 'x61_uplift_decrease',\n",
       " 'x62_uplift_decrease',\n",
       " 'x63_uplift_decrease']"
      ]
     },
     "execution_count": 11,
     "metadata": {},
     "output_type": "execute_result"
    }
   ],
   "source": [
    "X_names"
   ]
  },
  {
   "cell_type": "markdown",
   "metadata": {},
   "source": [
    "## Feature selection with Filter methods"
   ]
  },
  {
   "cell_type": "markdown",
   "metadata": {},
   "source": [
    "### method = F (F Filter)"
   ]
  },
  {
   "cell_type": "code",
   "execution_count": 12,
   "metadata": {
    "ExecuteTime": {
     "end_time": "2021-11-29T22:45:19.616362Z",
     "start_time": "2021-11-29T22:45:19.614534Z"
    }
   },
   "outputs": [],
   "source": [
    "filter_method = FilterSelect() "
   ]
  },
  {
   "cell_type": "code",
   "execution_count": 13,
   "metadata": {
    "ExecuteTime": {
     "end_time": "2021-11-29T22:45:22.010814Z",
     "start_time": "2021-11-29T22:45:19.617574Z"
    }
   },
   "outputs": [
    {
     "data": {
      "text/html": [
       "<div>\n",
       "<style scoped>\n",
       "    .dataframe tbody tr th:only-of-type {\n",
       "        vertical-align: middle;\n",
       "    }\n",
       "\n",
       "    .dataframe tbody tr th {\n",
       "        vertical-align: top;\n",
       "    }\n",
       "\n",
       "    .dataframe thead th {\n",
       "        text-align: right;\n",
       "    }\n",
       "</style>\n",
       "<table border=\"1\" class=\"dataframe\">\n",
       "  <thead>\n",
       "    <tr style=\"text-align: right;\">\n",
       "      <th></th>\n",
       "      <th>method</th>\n",
       "      <th>feature</th>\n",
       "      <th>rank</th>\n",
       "      <th>score</th>\n",
       "      <th>p_value</th>\n",
       "      <th>misc</th>\n",
       "    </tr>\n",
       "  </thead>\n",
       "  <tbody>\n",
       "    <tr>\n",
       "      <th>0</th>\n",
       "      <td>F filter</td>\n",
       "      <td>x53_uplift_increase</td>\n",
       "      <td>1.0</td>\n",
       "      <td>190.321410</td>\n",
       "      <td>4.262512e-43</td>\n",
       "      <td>df_num: 1.0, df_denom: 19996.0, order:1</td>\n",
       "    </tr>\n",
       "    <tr>\n",
       "      <th>0</th>\n",
       "      <td>F filter</td>\n",
       "      <td>x57_uplift_increase</td>\n",
       "      <td>2.0</td>\n",
       "      <td>127.136380</td>\n",
       "      <td>2.127676e-29</td>\n",
       "      <td>df_num: 1.0, df_denom: 19996.0, order:1</td>\n",
       "    </tr>\n",
       "    <tr>\n",
       "      <th>0</th>\n",
       "      <td>F filter</td>\n",
       "      <td>x3_informative</td>\n",
       "      <td>3.0</td>\n",
       "      <td>66.273458</td>\n",
       "      <td>4.152970e-16</td>\n",
       "      <td>df_num: 1.0, df_denom: 19996.0, order:1</td>\n",
       "    </tr>\n",
       "    <tr>\n",
       "      <th>0</th>\n",
       "      <td>F filter</td>\n",
       "      <td>x4_informative</td>\n",
       "      <td>4.0</td>\n",
       "      <td>59.407590</td>\n",
       "      <td>1.341417e-14</td>\n",
       "      <td>df_num: 1.0, df_denom: 19996.0, order:1</td>\n",
       "    </tr>\n",
       "    <tr>\n",
       "      <th>0</th>\n",
       "      <td>F filter</td>\n",
       "      <td>x62_uplift_decrease</td>\n",
       "      <td>5.0</td>\n",
       "      <td>3.957507</td>\n",
       "      <td>4.667636e-02</td>\n",
       "      <td>df_num: 1.0, df_denom: 19996.0, order:1</td>\n",
       "    </tr>\n",
       "  </tbody>\n",
       "</table>\n",
       "</div>"
      ],
      "text/plain": [
       "     method              feature  rank       score       p_value  \\\n",
       "0  F filter  x53_uplift_increase   1.0  190.321410  4.262512e-43   \n",
       "0  F filter  x57_uplift_increase   2.0  127.136380  2.127676e-29   \n",
       "0  F filter       x3_informative   3.0   66.273458  4.152970e-16   \n",
       "0  F filter       x4_informative   4.0   59.407590  1.341417e-14   \n",
       "0  F filter  x62_uplift_decrease   5.0    3.957507  4.667636e-02   \n",
       "\n",
       "                                      misc  \n",
       "0  df_num: 1.0, df_denom: 19996.0, order:1  \n",
       "0  df_num: 1.0, df_denom: 19996.0, order:1  \n",
       "0  df_num: 1.0, df_denom: 19996.0, order:1  \n",
       "0  df_num: 1.0, df_denom: 19996.0, order:1  \n",
       "0  df_num: 1.0, df_denom: 19996.0, order:1  "
      ]
     },
     "execution_count": 13,
     "metadata": {},
     "output_type": "execute_result"
    }
   ],
   "source": [
    "# F Filter with order 1\n",
    "method = 'F'\n",
    "f_imp = filter_method.get_importance(df, X_names, y_name, method, \n",
    "                      treatment_group = 'treatment1')\n",
    "f_imp.head()"
   ]
  },
  {
   "cell_type": "code",
   "execution_count": 14,
   "metadata": {},
   "outputs": [
    {
     "data": {
      "text/html": [
       "<div>\n",
       "<style scoped>\n",
       "    .dataframe tbody tr th:only-of-type {\n",
       "        vertical-align: middle;\n",
       "    }\n",
       "\n",
       "    .dataframe tbody tr th {\n",
       "        vertical-align: top;\n",
       "    }\n",
       "\n",
       "    .dataframe thead th {\n",
       "        text-align: right;\n",
       "    }\n",
       "</style>\n",
       "<table border=\"1\" class=\"dataframe\">\n",
       "  <thead>\n",
       "    <tr style=\"text-align: right;\">\n",
       "      <th></th>\n",
       "      <th>method</th>\n",
       "      <th>feature</th>\n",
       "      <th>rank</th>\n",
       "      <th>score</th>\n",
       "      <th>p_value</th>\n",
       "      <th>misc</th>\n",
       "    </tr>\n",
       "  </thead>\n",
       "  <tbody>\n",
       "    <tr>\n",
       "      <th>0</th>\n",
       "      <td>F filter</td>\n",
       "      <td>x53_uplift_increase</td>\n",
       "      <td>1.0</td>\n",
       "      <td>107.368286</td>\n",
       "      <td>4.160720e-47</td>\n",
       "      <td>df_num: 2.0, df_denom: 19994.0, order:2</td>\n",
       "    </tr>\n",
       "    <tr>\n",
       "      <th>0</th>\n",
       "      <td>F filter</td>\n",
       "      <td>x57_uplift_increase</td>\n",
       "      <td>2.0</td>\n",
       "      <td>70.138050</td>\n",
       "      <td>4.423736e-31</td>\n",
       "      <td>df_num: 2.0, df_denom: 19994.0, order:2</td>\n",
       "    </tr>\n",
       "    <tr>\n",
       "      <th>0</th>\n",
       "      <td>F filter</td>\n",
       "      <td>x3_informative</td>\n",
       "      <td>3.0</td>\n",
       "      <td>36.499465</td>\n",
       "      <td>1.504356e-16</td>\n",
       "      <td>df_num: 2.0, df_denom: 19994.0, order:2</td>\n",
       "    </tr>\n",
       "    <tr>\n",
       "      <th>0</th>\n",
       "      <td>F filter</td>\n",
       "      <td>x4_informative</td>\n",
       "      <td>4.0</td>\n",
       "      <td>31.780547</td>\n",
       "      <td>1.658731e-14</td>\n",
       "      <td>df_num: 2.0, df_denom: 19994.0, order:2</td>\n",
       "    </tr>\n",
       "    <tr>\n",
       "      <th>0</th>\n",
       "      <td>F filter</td>\n",
       "      <td>x55_uplift_increase</td>\n",
       "      <td>5.0</td>\n",
       "      <td>27.494904</td>\n",
       "      <td>1.189886e-12</td>\n",
       "      <td>df_num: 2.0, df_denom: 19994.0, order:2</td>\n",
       "    </tr>\n",
       "  </tbody>\n",
       "</table>\n",
       "</div>"
      ],
      "text/plain": [
       "     method              feature  rank       score       p_value  \\\n",
       "0  F filter  x53_uplift_increase   1.0  107.368286  4.160720e-47   \n",
       "0  F filter  x57_uplift_increase   2.0   70.138050  4.423736e-31   \n",
       "0  F filter       x3_informative   3.0   36.499465  1.504356e-16   \n",
       "0  F filter       x4_informative   4.0   31.780547  1.658731e-14   \n",
       "0  F filter  x55_uplift_increase   5.0   27.494904  1.189886e-12   \n",
       "\n",
       "                                      misc  \n",
       "0  df_num: 2.0, df_denom: 19994.0, order:2  \n",
       "0  df_num: 2.0, df_denom: 19994.0, order:2  \n",
       "0  df_num: 2.0, df_denom: 19994.0, order:2  \n",
       "0  df_num: 2.0, df_denom: 19994.0, order:2  \n",
       "0  df_num: 2.0, df_denom: 19994.0, order:2  "
      ]
     },
     "execution_count": 14,
     "metadata": {},
     "output_type": "execute_result"
    }
   ],
   "source": [
    "# F Filter with order 2\n",
    "method = 'F'\n",
    "f_imp = filter_method.get_importance(df, X_names, y_name, method, \n",
    "                      treatment_group = 'treatment1', order=2)\n",
    "f_imp.head()"
   ]
  },
  {
   "cell_type": "code",
   "execution_count": 15,
   "metadata": {},
   "outputs": [
    {
     "data": {
      "text/html": [
       "<div>\n",
       "<style scoped>\n",
       "    .dataframe tbody tr th:only-of-type {\n",
       "        vertical-align: middle;\n",
       "    }\n",
       "\n",
       "    .dataframe tbody tr th {\n",
       "        vertical-align: top;\n",
       "    }\n",
       "\n",
       "    .dataframe thead th {\n",
       "        text-align: right;\n",
       "    }\n",
       "</style>\n",
       "<table border=\"1\" class=\"dataframe\">\n",
       "  <thead>\n",
       "    <tr style=\"text-align: right;\">\n",
       "      <th></th>\n",
       "      <th>method</th>\n",
       "      <th>feature</th>\n",
       "      <th>rank</th>\n",
       "      <th>score</th>\n",
       "      <th>p_value</th>\n",
       "      <th>misc</th>\n",
       "    </tr>\n",
       "  </thead>\n",
       "  <tbody>\n",
       "    <tr>\n",
       "      <th>0</th>\n",
       "      <td>F filter</td>\n",
       "      <td>x53_uplift_increase</td>\n",
       "      <td>1.0</td>\n",
       "      <td>72.064224</td>\n",
       "      <td>2.373628e-46</td>\n",
       "      <td>df_num: 3.0, df_denom: 19992.0, order:3</td>\n",
       "    </tr>\n",
       "    <tr>\n",
       "      <th>0</th>\n",
       "      <td>F filter</td>\n",
       "      <td>x57_uplift_increase</td>\n",
       "      <td>2.0</td>\n",
       "      <td>46.841718</td>\n",
       "      <td>3.710784e-30</td>\n",
       "      <td>df_num: 3.0, df_denom: 19992.0, order:3</td>\n",
       "    </tr>\n",
       "    <tr>\n",
       "      <th>0</th>\n",
       "      <td>F filter</td>\n",
       "      <td>x3_informative</td>\n",
       "      <td>3.0</td>\n",
       "      <td>24.089980</td>\n",
       "      <td>1.484634e-15</td>\n",
       "      <td>df_num: 3.0, df_denom: 19992.0, order:3</td>\n",
       "    </tr>\n",
       "    <tr>\n",
       "      <th>0</th>\n",
       "      <td>F filter</td>\n",
       "      <td>x4_informative</td>\n",
       "      <td>4.0</td>\n",
       "      <td>23.097310</td>\n",
       "      <td>6.414267e-15</td>\n",
       "      <td>df_num: 3.0, df_denom: 19992.0, order:3</td>\n",
       "    </tr>\n",
       "    <tr>\n",
       "      <th>0</th>\n",
       "      <td>F filter</td>\n",
       "      <td>x55_uplift_increase</td>\n",
       "      <td>5.0</td>\n",
       "      <td>18.072880</td>\n",
       "      <td>1.044117e-11</td>\n",
       "      <td>df_num: 3.0, df_denom: 19992.0, order:3</td>\n",
       "    </tr>\n",
       "  </tbody>\n",
       "</table>\n",
       "</div>"
      ],
      "text/plain": [
       "     method              feature  rank      score       p_value  \\\n",
       "0  F filter  x53_uplift_increase   1.0  72.064224  2.373628e-46   \n",
       "0  F filter  x57_uplift_increase   2.0  46.841718  3.710784e-30   \n",
       "0  F filter       x3_informative   3.0  24.089980  1.484634e-15   \n",
       "0  F filter       x4_informative   4.0  23.097310  6.414267e-15   \n",
       "0  F filter  x55_uplift_increase   5.0  18.072880  1.044117e-11   \n",
       "\n",
       "                                      misc  \n",
       "0  df_num: 3.0, df_denom: 19992.0, order:3  \n",
       "0  df_num: 3.0, df_denom: 19992.0, order:3  \n",
       "0  df_num: 3.0, df_denom: 19992.0, order:3  \n",
       "0  df_num: 3.0, df_denom: 19992.0, order:3  \n",
       "0  df_num: 3.0, df_denom: 19992.0, order:3  "
      ]
     },
     "execution_count": 15,
     "metadata": {},
     "output_type": "execute_result"
    }
   ],
   "source": [
    "# F Filter with order 3\n",
    "method = 'F'\n",
    "f_imp = filter_method.get_importance(df, X_names, y_name, method, \n",
    "                      treatment_group = 'treatment1', order=3)\n",
    "f_imp.head()"
   ]
  },
  {
   "cell_type": "markdown",
   "metadata": {},
   "source": [
    "### method = LR (likelihood ratio test)"
   ]
  },
  {
   "cell_type": "code",
   "execution_count": 16,
   "metadata": {
    "ExecuteTime": {
     "end_time": "2021-11-29T22:45:33.978540Z",
     "start_time": "2021-11-29T22:45:22.012629Z"
    }
   },
   "outputs": [
    {
     "data": {
      "text/html": [
       "<div>\n",
       "<style scoped>\n",
       "    .dataframe tbody tr th:only-of-type {\n",
       "        vertical-align: middle;\n",
       "    }\n",
       "\n",
       "    .dataframe tbody tr th {\n",
       "        vertical-align: top;\n",
       "    }\n",
       "\n",
       "    .dataframe thead th {\n",
       "        text-align: right;\n",
       "    }\n",
       "</style>\n",
       "<table border=\"1\" class=\"dataframe\">\n",
       "  <thead>\n",
       "    <tr style=\"text-align: right;\">\n",
       "      <th></th>\n",
       "      <th>method</th>\n",
       "      <th>feature</th>\n",
       "      <th>rank</th>\n",
       "      <th>score</th>\n",
       "      <th>p_value</th>\n",
       "      <th>misc</th>\n",
       "    </tr>\n",
       "  </thead>\n",
       "  <tbody>\n",
       "    <tr>\n",
       "      <th>0</th>\n",
       "      <td>LR filter</td>\n",
       "      <td>x53_uplift_increase</td>\n",
       "      <td>1.0</td>\n",
       "      <td>203.811674</td>\n",
       "      <td>0.000000e+00</td>\n",
       "      <td>df: 1, order: 1</td>\n",
       "    </tr>\n",
       "    <tr>\n",
       "      <th>0</th>\n",
       "      <td>LR filter</td>\n",
       "      <td>x57_uplift_increase</td>\n",
       "      <td>2.0</td>\n",
       "      <td>133.175328</td>\n",
       "      <td>0.000000e+00</td>\n",
       "      <td>df: 1, order: 1</td>\n",
       "    </tr>\n",
       "    <tr>\n",
       "      <th>0</th>\n",
       "      <td>LR filter</td>\n",
       "      <td>x3_informative</td>\n",
       "      <td>3.0</td>\n",
       "      <td>64.366711</td>\n",
       "      <td>9.992007e-16</td>\n",
       "      <td>df: 1, order: 1</td>\n",
       "    </tr>\n",
       "    <tr>\n",
       "      <th>0</th>\n",
       "      <td>LR filter</td>\n",
       "      <td>x4_informative</td>\n",
       "      <td>4.0</td>\n",
       "      <td>52.389798</td>\n",
       "      <td>4.550804e-13</td>\n",
       "      <td>df: 1, order: 1</td>\n",
       "    </tr>\n",
       "    <tr>\n",
       "      <th>0</th>\n",
       "      <td>LR filter</td>\n",
       "      <td>x62_uplift_decrease</td>\n",
       "      <td>5.0</td>\n",
       "      <td>4.064347</td>\n",
       "      <td>4.379760e-02</td>\n",
       "      <td>df: 1, order: 1</td>\n",
       "    </tr>\n",
       "  </tbody>\n",
       "</table>\n",
       "</div>"
      ],
      "text/plain": [
       "      method              feature  rank       score       p_value  \\\n",
       "0  LR filter  x53_uplift_increase   1.0  203.811674  0.000000e+00   \n",
       "0  LR filter  x57_uplift_increase   2.0  133.175328  0.000000e+00   \n",
       "0  LR filter       x3_informative   3.0   64.366711  9.992007e-16   \n",
       "0  LR filter       x4_informative   4.0   52.389798  4.550804e-13   \n",
       "0  LR filter  x62_uplift_decrease   5.0    4.064347  4.379760e-02   \n",
       "\n",
       "              misc  \n",
       "0  df: 1, order: 1  \n",
       "0  df: 1, order: 1  \n",
       "0  df: 1, order: 1  \n",
       "0  df: 1, order: 1  \n",
       "0  df: 1, order: 1  "
      ]
     },
     "execution_count": 16,
     "metadata": {},
     "output_type": "execute_result"
    }
   ],
   "source": [
    "# LR Filter with order 1\n",
    "method = 'LR'\n",
    "lr_imp = filter_method.get_importance(df, X_names, y_name, method, \n",
    "                      treatment_group = 'treatment1')\n",
    "lr_imp.head()"
   ]
  },
  {
   "cell_type": "code",
   "execution_count": 17,
   "metadata": {},
   "outputs": [
    {
     "data": {
      "text/html": [
       "<div>\n",
       "<style scoped>\n",
       "    .dataframe tbody tr th:only-of-type {\n",
       "        vertical-align: middle;\n",
       "    }\n",
       "\n",
       "    .dataframe tbody tr th {\n",
       "        vertical-align: top;\n",
       "    }\n",
       "\n",
       "    .dataframe thead th {\n",
       "        text-align: right;\n",
       "    }\n",
       "</style>\n",
       "<table border=\"1\" class=\"dataframe\">\n",
       "  <thead>\n",
       "    <tr style=\"text-align: right;\">\n",
       "      <th></th>\n",
       "      <th>method</th>\n",
       "      <th>feature</th>\n",
       "      <th>rank</th>\n",
       "      <th>score</th>\n",
       "      <th>p_value</th>\n",
       "      <th>misc</th>\n",
       "    </tr>\n",
       "  </thead>\n",
       "  <tbody>\n",
       "    <tr>\n",
       "      <th>0</th>\n",
       "      <td>LR filter</td>\n",
       "      <td>x53_uplift_increase</td>\n",
       "      <td>1.0</td>\n",
       "      <td>277.639095</td>\n",
       "      <td>0.000000e+00</td>\n",
       "      <td>df: 2, order: 2</td>\n",
       "    </tr>\n",
       "    <tr>\n",
       "      <th>0</th>\n",
       "      <td>LR filter</td>\n",
       "      <td>x57_uplift_increase</td>\n",
       "      <td>2.0</td>\n",
       "      <td>156.134112</td>\n",
       "      <td>0.000000e+00</td>\n",
       "      <td>df: 2, order: 2</td>\n",
       "    </tr>\n",
       "    <tr>\n",
       "      <th>0</th>\n",
       "      <td>LR filter</td>\n",
       "      <td>x55_uplift_increase</td>\n",
       "      <td>3.0</td>\n",
       "      <td>71.478979</td>\n",
       "      <td>3.330669e-16</td>\n",
       "      <td>df: 2, order: 2</td>\n",
       "    </tr>\n",
       "    <tr>\n",
       "      <th>0</th>\n",
       "      <td>LR filter</td>\n",
       "      <td>x3_informative</td>\n",
       "      <td>4.0</td>\n",
       "      <td>44.938973</td>\n",
       "      <td>1.744319e-10</td>\n",
       "      <td>df: 2, order: 2</td>\n",
       "    </tr>\n",
       "    <tr>\n",
       "      <th>0</th>\n",
       "      <td>LR filter</td>\n",
       "      <td>x4_informative</td>\n",
       "      <td>5.0</td>\n",
       "      <td>29.179971</td>\n",
       "      <td>4.609458e-07</td>\n",
       "      <td>df: 2, order: 2</td>\n",
       "    </tr>\n",
       "  </tbody>\n",
       "</table>\n",
       "</div>"
      ],
      "text/plain": [
       "      method              feature  rank       score       p_value  \\\n",
       "0  LR filter  x53_uplift_increase   1.0  277.639095  0.000000e+00   \n",
       "0  LR filter  x57_uplift_increase   2.0  156.134112  0.000000e+00   \n",
       "0  LR filter  x55_uplift_increase   3.0   71.478979  3.330669e-16   \n",
       "0  LR filter       x3_informative   4.0   44.938973  1.744319e-10   \n",
       "0  LR filter       x4_informative   5.0   29.179971  4.609458e-07   \n",
       "\n",
       "              misc  \n",
       "0  df: 2, order: 2  \n",
       "0  df: 2, order: 2  \n",
       "0  df: 2, order: 2  \n",
       "0  df: 2, order: 2  \n",
       "0  df: 2, order: 2  "
      ]
     },
     "execution_count": 17,
     "metadata": {},
     "output_type": "execute_result"
    }
   ],
   "source": [
    "# LR Filter with order 2\n",
    "method = 'LR'\n",
    "lr_imp = filter_method.get_importance(df, X_names, y_name, method, \n",
    "                      treatment_group = 'treatment1',order=2)\n",
    "lr_imp.head()"
   ]
  },
  {
   "cell_type": "code",
   "execution_count": 18,
   "metadata": {},
   "outputs": [
    {
     "data": {
      "text/html": [
       "<div>\n",
       "<style scoped>\n",
       "    .dataframe tbody tr th:only-of-type {\n",
       "        vertical-align: middle;\n",
       "    }\n",
       "\n",
       "    .dataframe tbody tr th {\n",
       "        vertical-align: top;\n",
       "    }\n",
       "\n",
       "    .dataframe thead th {\n",
       "        text-align: right;\n",
       "    }\n",
       "</style>\n",
       "<table border=\"1\" class=\"dataframe\">\n",
       "  <thead>\n",
       "    <tr style=\"text-align: right;\">\n",
       "      <th></th>\n",
       "      <th>method</th>\n",
       "      <th>feature</th>\n",
       "      <th>rank</th>\n",
       "      <th>score</th>\n",
       "      <th>p_value</th>\n",
       "      <th>misc</th>\n",
       "    </tr>\n",
       "  </thead>\n",
       "  <tbody>\n",
       "    <tr>\n",
       "      <th>0</th>\n",
       "      <td>LR filter</td>\n",
       "      <td>x53_uplift_increase</td>\n",
       "      <td>1.0</td>\n",
       "      <td>290.389201</td>\n",
       "      <td>0.000000e+00</td>\n",
       "      <td>df: 3, order: 3</td>\n",
       "    </tr>\n",
       "    <tr>\n",
       "      <th>0</th>\n",
       "      <td>LR filter</td>\n",
       "      <td>x57_uplift_increase</td>\n",
       "      <td>2.0</td>\n",
       "      <td>153.942614</td>\n",
       "      <td>0.000000e+00</td>\n",
       "      <td>df: 3, order: 3</td>\n",
       "    </tr>\n",
       "    <tr>\n",
       "      <th>0</th>\n",
       "      <td>LR filter</td>\n",
       "      <td>x55_uplift_increase</td>\n",
       "      <td>3.0</td>\n",
       "      <td>70.626667</td>\n",
       "      <td>3.108624e-15</td>\n",
       "      <td>df: 3, order: 3</td>\n",
       "    </tr>\n",
       "    <tr>\n",
       "      <th>0</th>\n",
       "      <td>LR filter</td>\n",
       "      <td>x3_informative</td>\n",
       "      <td>4.0</td>\n",
       "      <td>45.477851</td>\n",
       "      <td>7.323235e-10</td>\n",
       "      <td>df: 3, order: 3</td>\n",
       "    </tr>\n",
       "    <tr>\n",
       "      <th>0</th>\n",
       "      <td>LR filter</td>\n",
       "      <td>x4_informative</td>\n",
       "      <td>5.0</td>\n",
       "      <td>30.466528</td>\n",
       "      <td>1.100881e-06</td>\n",
       "      <td>df: 3, order: 3</td>\n",
       "    </tr>\n",
       "  </tbody>\n",
       "</table>\n",
       "</div>"
      ],
      "text/plain": [
       "      method              feature  rank       score       p_value  \\\n",
       "0  LR filter  x53_uplift_increase   1.0  290.389201  0.000000e+00   \n",
       "0  LR filter  x57_uplift_increase   2.0  153.942614  0.000000e+00   \n",
       "0  LR filter  x55_uplift_increase   3.0   70.626667  3.108624e-15   \n",
       "0  LR filter       x3_informative   4.0   45.477851  7.323235e-10   \n",
       "0  LR filter       x4_informative   5.0   30.466528  1.100881e-06   \n",
       "\n",
       "              misc  \n",
       "0  df: 3, order: 3  \n",
       "0  df: 3, order: 3  \n",
       "0  df: 3, order: 3  \n",
       "0  df: 3, order: 3  \n",
       "0  df: 3, order: 3  "
      ]
     },
     "execution_count": 18,
     "metadata": {},
     "output_type": "execute_result"
    }
   ],
   "source": [
    "# LR Filter with order 3\n",
    "method = 'LR'\n",
    "lr_imp = filter_method.get_importance(df, X_names, y_name, method, \n",
    "                      treatment_group = 'treatment1',order=3)\n",
    "lr_imp.head()"
   ]
  },
  {
   "cell_type": "markdown",
   "metadata": {},
   "source": [
    "### method = KL (KL divergence)"
   ]
  },
  {
   "cell_type": "code",
   "execution_count": 19,
   "metadata": {
    "ExecuteTime": {
     "end_time": "2021-11-29T22:45:46.414304Z",
     "start_time": "2021-11-29T22:45:33.981158Z"
    }
   },
   "outputs": [
    {
     "data": {
      "text/html": [
       "<div>\n",
       "<style scoped>\n",
       "    .dataframe tbody tr th:only-of-type {\n",
       "        vertical-align: middle;\n",
       "    }\n",
       "\n",
       "    .dataframe tbody tr th {\n",
       "        vertical-align: top;\n",
       "    }\n",
       "\n",
       "    .dataframe thead th {\n",
       "        text-align: right;\n",
       "    }\n",
       "</style>\n",
       "<table border=\"1\" class=\"dataframe\">\n",
       "  <thead>\n",
       "    <tr style=\"text-align: right;\">\n",
       "      <th></th>\n",
       "      <th>method</th>\n",
       "      <th>feature</th>\n",
       "      <th>rank</th>\n",
       "      <th>score</th>\n",
       "      <th>p_value</th>\n",
       "      <th>misc</th>\n",
       "    </tr>\n",
       "  </thead>\n",
       "  <tbody>\n",
       "    <tr>\n",
       "      <th>0</th>\n",
       "      <td>KL filter</td>\n",
       "      <td>x53_uplift_increase</td>\n",
       "      <td>1.0</td>\n",
       "      <td>0.022997</td>\n",
       "      <td>None</td>\n",
       "      <td>number_of_bins: 10</td>\n",
       "    </tr>\n",
       "    <tr>\n",
       "      <th>0</th>\n",
       "      <td>KL filter</td>\n",
       "      <td>x57_uplift_increase</td>\n",
       "      <td>2.0</td>\n",
       "      <td>0.014884</td>\n",
       "      <td>None</td>\n",
       "      <td>number_of_bins: 10</td>\n",
       "    </tr>\n",
       "    <tr>\n",
       "      <th>0</th>\n",
       "      <td>KL filter</td>\n",
       "      <td>x4_informative</td>\n",
       "      <td>3.0</td>\n",
       "      <td>0.012103</td>\n",
       "      <td>None</td>\n",
       "      <td>number_of_bins: 10</td>\n",
       "    </tr>\n",
       "    <tr>\n",
       "      <th>0</th>\n",
       "      <td>KL filter</td>\n",
       "      <td>x3_informative</td>\n",
       "      <td>4.0</td>\n",
       "      <td>0.010179</td>\n",
       "      <td>None</td>\n",
       "      <td>number_of_bins: 10</td>\n",
       "    </tr>\n",
       "    <tr>\n",
       "      <th>0</th>\n",
       "      <td>KL filter</td>\n",
       "      <td>x55_uplift_increase</td>\n",
       "      <td>5.0</td>\n",
       "      <td>0.003836</td>\n",
       "      <td>None</td>\n",
       "      <td>number_of_bins: 10</td>\n",
       "    </tr>\n",
       "  </tbody>\n",
       "</table>\n",
       "</div>"
      ],
      "text/plain": [
       "      method              feature  rank     score p_value                misc\n",
       "0  KL filter  x53_uplift_increase   1.0  0.022997    None  number_of_bins: 10\n",
       "0  KL filter  x57_uplift_increase   2.0  0.014884    None  number_of_bins: 10\n",
       "0  KL filter       x4_informative   3.0  0.012103    None  number_of_bins: 10\n",
       "0  KL filter       x3_informative   4.0  0.010179    None  number_of_bins: 10\n",
       "0  KL filter  x55_uplift_increase   5.0  0.003836    None  number_of_bins: 10"
      ]
     },
     "execution_count": 19,
     "metadata": {},
     "output_type": "execute_result"
    }
   ],
   "source": [
    "method = 'KL'\n",
    "kl_imp = filter_method.get_importance(df, X_names, y_name, method, \n",
    "                      treatment_group = 'treatment1',\n",
    "                      n_bins=10)\n",
    "kl_imp.head()"
   ]
  },
  {
   "cell_type": "markdown",
   "metadata": {},
   "source": [
    "We found all these 3 filter methods were able to rank most of the **informative** and **uplift increase** features on the top."
   ]
  },
  {
   "cell_type": "markdown",
   "metadata": {},
   "source": [
    "## Performance evaluation  \n",
    "\n",
    "Evaluate the AUUC (Area Under the Uplift Curve) score with several uplift models when using top features dataset "
   ]
  },
  {
   "cell_type": "code",
   "execution_count": 20,
   "metadata": {
    "ExecuteTime": {
     "end_time": "2021-11-29T22:45:46.497534Z",
     "start_time": "2021-11-29T22:45:46.415884Z"
    }
   },
   "outputs": [],
   "source": [
    "# train test split\n",
    "df_train, df_test = train_test_split(df, test_size=0.2, random_state=111)"
   ]
  },
  {
   "cell_type": "code",
   "execution_count": 21,
   "metadata": {
    "ExecuteTime": {
     "end_time": "2021-11-29T22:45:46.510551Z",
     "start_time": "2021-11-29T22:45:46.499845Z"
    }
   },
   "outputs": [
    {
     "name": "stdout",
     "output_type": "stream",
     "text": [
      "[0 0 1 1 0 1 1 0 0 0]\n",
      "18998       control\n",
      "11536       control\n",
      "8552     treatment1\n",
      "2652     treatment1\n",
      "19671       control\n",
      "13244    treatment1\n",
      "3075     treatment1\n",
      "8746        control\n",
      "18530       control\n",
      "5066        control\n",
      "Name: treatment_group_key, dtype: object\n"
     ]
    }
   ],
   "source": [
    "# convert treatment column to 1 (treatment1) and 0 (control)\n",
    "treatments = np.where((df_test['treatment_group_key']=='treatment1'), 1, 0)\n",
    "print(treatments[:10])\n",
    "print(df_test['treatment_group_key'][:10])"
   ]
  },
  {
   "cell_type": "markdown",
   "metadata": {},
   "source": [
    "### Uplift RandomForest Classfier"
   ]
  },
  {
   "cell_type": "code",
   "execution_count": 22,
   "metadata": {
    "ExecuteTime": {
     "end_time": "2021-11-29T22:45:46.514976Z",
     "start_time": "2021-11-29T22:45:46.512507Z"
    }
   },
   "outputs": [],
   "source": [
    "uplift_model = UpliftRandomForestClassifier(control_name='control', max_depth=8)"
   ]
  },
  {
   "cell_type": "code",
   "execution_count": 23,
   "metadata": {
    "ExecuteTime": {
     "end_time": "2021-11-29T22:48:04.459656Z",
     "start_time": "2021-11-29T22:45:46.516815Z"
    }
   },
   "outputs": [],
   "source": [
    "# using all features\n",
    "features = X_names \n",
    "uplift_model.fit(X = df_train[features].values, \n",
    "                 treatment = df_train['treatment_group_key'].values,\n",
    "                 y = df_train[y_name].values)\n",
    "y_preds = uplift_model.predict(df_test[features].values)"
   ]
  },
  {
   "cell_type": "markdown",
   "metadata": {},
   "source": [
    "### Select top N features based on KL filter"
   ]
  },
  {
   "cell_type": "code",
   "execution_count": 24,
   "metadata": {
    "ExecuteTime": {
     "end_time": "2021-11-29T22:48:04.466886Z",
     "start_time": "2021-11-29T22:48:04.461249Z"
    }
   },
   "outputs": [
    {
     "name": "stdout",
     "output_type": "stream",
     "text": [
      "0    x53_uplift_increase\n",
      "0    x57_uplift_increase\n",
      "0         x4_informative\n",
      "0         x3_informative\n",
      "0    x55_uplift_increase\n",
      "0         x1_informative\n",
      "0    x56_uplift_increase\n",
      "0    x51_uplift_increase\n",
      "0         x38_irrelevant\n",
      "0    x58_uplift_increase\n",
      "Name: feature, dtype: object\n"
     ]
    }
   ],
   "source": [
    "top_n = 10\n",
    "top_10_features = kl_imp['feature'][:top_n]\n",
    "print(top_10_features)"
   ]
  },
  {
   "cell_type": "code",
   "execution_count": 25,
   "metadata": {
    "ExecuteTime": {
     "end_time": "2021-11-29T22:48:04.472658Z",
     "start_time": "2021-11-29T22:48:04.469577Z"
    }
   },
   "outputs": [
    {
     "name": "stdout",
     "output_type": "stream",
     "text": [
      "0    x53_uplift_increase\n",
      "0    x57_uplift_increase\n",
      "0         x4_informative\n",
      "0         x3_informative\n",
      "0    x55_uplift_increase\n",
      "0         x1_informative\n",
      "0    x56_uplift_increase\n",
      "0    x51_uplift_increase\n",
      "0         x38_irrelevant\n",
      "0    x58_uplift_increase\n",
      "0         x48_irrelevant\n",
      "0         x15_irrelevant\n",
      "0         x27_irrelevant\n",
      "0    x62_uplift_decrease\n",
      "0         x23_irrelevant\n",
      "Name: feature, dtype: object\n"
     ]
    }
   ],
   "source": [
    "top_n = 15\n",
    "top_15_features = kl_imp['feature'][:top_n]\n",
    "print(top_15_features)"
   ]
  },
  {
   "cell_type": "code",
   "execution_count": 26,
   "metadata": {
    "ExecuteTime": {
     "end_time": "2021-11-29T22:48:04.477660Z",
     "start_time": "2021-11-29T22:48:04.474508Z"
    }
   },
   "outputs": [
    {
     "name": "stdout",
     "output_type": "stream",
     "text": [
      "0    x53_uplift_increase\n",
      "0    x57_uplift_increase\n",
      "0         x4_informative\n",
      "0         x3_informative\n",
      "0    x55_uplift_increase\n",
      "0         x1_informative\n",
      "0    x56_uplift_increase\n",
      "0    x51_uplift_increase\n",
      "0         x38_irrelevant\n",
      "0    x58_uplift_increase\n",
      "0         x48_irrelevant\n",
      "0         x15_irrelevant\n",
      "0         x27_irrelevant\n",
      "0    x62_uplift_decrease\n",
      "0         x23_irrelevant\n",
      "0         x29_irrelevant\n",
      "0         x6_informative\n",
      "0         x45_irrelevant\n",
      "0         x40_irrelevant\n",
      "0         x25_irrelevant\n",
      "Name: feature, dtype: object\n"
     ]
    }
   ],
   "source": [
    "top_n = 20\n",
    "top_20_features = kl_imp['feature'][:top_n]\n",
    "print(top_20_features)"
   ]
  },
  {
   "cell_type": "markdown",
   "metadata": {},
   "source": [
    "#### Train the Uplift model again with top N features"
   ]
  },
  {
   "cell_type": "code",
   "execution_count": 27,
   "metadata": {
    "ExecuteTime": {
     "end_time": "2021-11-29T22:49:14.380345Z",
     "start_time": "2021-11-29T22:48:04.483465Z"
    },
    "scrolled": true
   },
   "outputs": [],
   "source": [
    "# using top 10 features\n",
    "features = top_10_features \n",
    "\n",
    "uplift_model.fit(X = df_train[features].values, \n",
    "                 treatment = df_train['treatment_group_key'].values,\n",
    "                 y = df_train[y_name].values)\n",
    "y_preds_t10 = uplift_model.predict(df_test[features].values)"
   ]
  },
  {
   "cell_type": "code",
   "execution_count": 28,
   "metadata": {
    "ExecuteTime": {
     "end_time": "2021-11-29T22:50:37.407711Z",
     "start_time": "2021-11-29T22:49:14.383261Z"
    }
   },
   "outputs": [],
   "source": [
    "# using top 15 features\n",
    "features = top_15_features \n",
    "\n",
    "uplift_model.fit(X = df_train[features].values, \n",
    "                 treatment = df_train['treatment_group_key'].values,\n",
    "                 y = df_train[y_name].values)\n",
    "y_preds_t15 = uplift_model.predict(df_test[features].values)"
   ]
  },
  {
   "cell_type": "code",
   "execution_count": 29,
   "metadata": {
    "ExecuteTime": {
     "end_time": "2021-11-29T22:52:02.337981Z",
     "start_time": "2021-11-29T22:50:37.409572Z"
    }
   },
   "outputs": [],
   "source": [
    "# using top 20 features\n",
    "features = top_20_features\n",
    "\n",
    "uplift_model.fit(X = df_train[features].values, \n",
    "                 treatment = df_train['treatment_group_key'].values,\n",
    "                 y = df_train[y_name].values)\n",
    "y_preds_t20 = uplift_model.predict(df_test[features].values)"
   ]
  },
  {
   "cell_type": "markdown",
   "metadata": {},
   "source": [
    "### Print results for Uplift model"
   ]
  },
  {
   "cell_type": "code",
   "execution_count": 30,
   "metadata": {
    "ExecuteTime": {
     "end_time": "2021-11-29T22:52:04.153825Z",
     "start_time": "2021-11-29T22:52:02.340008Z"
    }
   },
   "outputs": [
    {
     "data": {
      "image/png": "[encoded data removed]",
      "text/plain": [
       "<Figure size 800x800 with 1 Axes>"
      ]
     },
     "metadata": {},
     "output_type": "display_data"
    }
   ],
   "source": [
    "df_preds = pd.DataFrame([y_preds.ravel(), \n",
    "                         y_preds_t10.ravel(),\n",
    "                         y_preds_t15.ravel(),\n",
    "                         y_preds_t20.ravel(),\n",
    "                         treatments,\n",
    "                         df_test[y_name].ravel()],\n",
    "                        index=['All', 'Top 10', 'Top 15', 'Top 20', 'is_treated', y_name]).T\n",
    "\n",
    "plot_gain(df_preds, outcome_col=y_name, treatment_col='is_treated')\n"
   ]
  },
  {
   "cell_type": "code",
   "execution_count": 31,
   "metadata": {
    "ExecuteTime": {
     "end_time": "2021-11-29T22:52:04.355368Z",
     "start_time": "2021-11-29T22:52:04.155514Z"
    }
   },
   "outputs": [
    {
     "data": {
      "text/plain": [
       "All       0.773405\n",
       "Top 10    0.841204\n",
       "Top 15    0.816100\n",
       "Top 20    0.816252\n",
       "Random    0.506801\n",
       "dtype: float64"
      ]
     },
     "execution_count": 31,
     "metadata": {},
     "output_type": "execute_result"
    }
   ],
   "source": [
    "auuc_score(df_preds, outcome_col=y_name, treatment_col='is_treated')"
   ]
  },
  {
   "cell_type": "markdown",
   "metadata": {},
   "source": [
    "### R Learner as base and feed in Random Forest Regressor"
   ]
  },
  {
   "cell_type": "code",
   "execution_count": 32,
   "metadata": {
    "ExecuteTime": {
     "end_time": "2021-11-29T22:52:04.359998Z",
     "start_time": "2021-11-29T22:52:04.356729Z"
    }
   },
   "outputs": [],
   "source": [
    "r_rf_learner = BaseRRegressor(\n",
    "    RandomForestRegressor(\n",
    "        n_estimators = 100,\n",
    "        max_depth = 8,\n",
    "        min_samples_leaf = 100\n",
    "    ), \n",
    "control_name='control') "
   ]
  },
  {
   "cell_type": "code",
   "execution_count": 33,
   "metadata": {
    "ExecuteTime": {
     "end_time": "2021-11-29T23:07:56.770197Z",
     "start_time": "2021-11-29T22:52:04.361299Z"
    }
   },
   "outputs": [
    {
     "name": "stderr",
     "output_type": "stream",
     "text": [
      "INFO:causalml:Generating propensity score\n",
      "INFO:causalml:Calibrating propensity scores.\n",
      "INFO:causalml:generating out-of-fold CV outcome estimates\n",
      "INFO:causalml:training the treatment effect model for treatment1 with R-loss\n"
     ]
    }
   ],
   "source": [
    "# using all features\n",
    "features = X_names \n",
    "r_rf_learner.fit(X = df_train[features].values, \n",
    "                 treatment = df_train['treatment_group_key'].values,\n",
    "                 y = df_train[y_name].values)\n",
    "y_preds = r_rf_learner.predict(df_test[features].values)"
   ]
  },
  {
   "cell_type": "code",
   "execution_count": 34,
   "metadata": {
    "ExecuteTime": {
     "end_time": "2021-11-29T23:10:22.727884Z",
     "start_time": "2021-11-29T23:07:56.771842Z"
    }
   },
   "outputs": [
    {
     "name": "stderr",
     "output_type": "stream",
     "text": [
      "INFO:causalml:Generating propensity score\n"
     ]
    },
    {
     "name": "stderr",
     "output_type": "stream",
     "text": [
      "INFO:causalml:Calibrating propensity scores.\n",
      "INFO:causalml:generating out-of-fold CV outcome estimates\n",
      "INFO:causalml:training the treatment effect model for treatment1 with R-loss\n"
     ]
    }
   ],
   "source": [
    "# using top 10 features\n",
    "features = top_10_features \n",
    "r_rf_learner.fit(X = df_train[features].values, \n",
    "                 treatment = df_train['treatment_group_key'].values,\n",
    "                 y = df_train[y_name].values)\n",
    "y_preds_t10 = r_rf_learner.predict(df_test[features].values)"
   ]
  },
  {
   "cell_type": "code",
   "execution_count": 35,
   "metadata": {
    "ExecuteTime": {
     "end_time": "2021-11-29T23:14:02.389101Z",
     "start_time": "2021-11-29T23:10:22.729730Z"
    }
   },
   "outputs": [
    {
     "name": "stderr",
     "output_type": "stream",
     "text": [
      "INFO:causalml:Generating propensity score\n"
     ]
    },
    {
     "name": "stderr",
     "output_type": "stream",
     "text": [
      "INFO:causalml:Calibrating propensity scores.\n",
      "INFO:causalml:generating out-of-fold CV outcome estimates\n",
      "INFO:causalml:training the treatment effect model for treatment1 with R-loss\n"
     ]
    }
   ],
   "source": [
    "# using top 15 features\n",
    "features = top_15_features \n",
    "r_rf_learner.fit(X = df_train[features].values, \n",
    "                 treatment = df_train['treatment_group_key'].values,\n",
    "                 y = df_train[y_name].values)\n",
    "y_preds_t15 = r_rf_learner.predict(df_test[features].values)"
   ]
  },
  {
   "cell_type": "code",
   "execution_count": 36,
   "metadata": {
    "ExecuteTime": {
     "end_time": "2021-11-29T23:18:54.190818Z",
     "start_time": "2021-11-29T23:14:02.390709Z"
    }
   },
   "outputs": [
    {
     "name": "stderr",
     "output_type": "stream",
     "text": [
      "INFO:causalml:Generating propensity score\n"
     ]
    },
    {
     "name": "stderr",
     "output_type": "stream",
     "text": [
      "INFO:causalml:Calibrating propensity scores.\n",
      "INFO:causalml:generating out-of-fold CV outcome estimates\n",
      "INFO:causalml:training the treatment effect model for treatment1 with R-loss\n"
     ]
    }
   ],
   "source": [
    "# using top 20 features\n",
    "features = top_20_features \n",
    "r_rf_learner.fit(X = df_train[features].values, \n",
    "                 treatment = df_train['treatment_group_key'].values,\n",
    "                 y = df_train[y_name].values)\n",
    "y_preds_t20 = r_rf_learner.predict(df_test[features].values)"
   ]
  },
  {
   "cell_type": "markdown",
   "metadata": {},
   "source": [
    "### Print results for R Learner"
   ]
  },
  {
   "cell_type": "code",
   "execution_count": 37,
   "metadata": {
    "ExecuteTime": {
     "end_time": "2021-11-29T23:18:56.044272Z",
     "start_time": "2021-11-29T23:18:54.192388Z"
    }
   },
   "outputs": [
    {
     "data": {
      "image/png": "[encoded data removed]",
      "text/plain": [
       "<Figure size 800x800 with 1 Axes>"
      ]
     },
     "metadata": {},
     "output_type": "display_data"
    }
   ],
   "source": [
    "df_preds = pd.DataFrame([y_preds.ravel(), \n",
    "                         y_preds_t10.ravel(),\n",
    "                         y_preds_t15.ravel(),\n",
    "                         y_preds_t20.ravel(),\n",
    "                         treatments,\n",
    "                         df_test[y_name].ravel()],\n",
    "                        index=['All', 'Top 10', 'Top 15', 'Top 20', 'is_treated', y_name]).T\n",
    "\n",
    "plot_gain(df_preds, outcome_col=y_name, treatment_col='is_treated')"
   ]
  },
  {
   "cell_type": "code",
   "execution_count": 38,
   "metadata": {
    "ExecuteTime": {
     "end_time": "2021-11-29T23:18:56.211023Z",
     "start_time": "2021-11-29T23:18:56.045507Z"
    }
   },
   "outputs": [
    {
     "data": {
      "text/plain": [
       "All       0.856210\n",
       "Top 10    0.867637\n",
       "Top 15    0.869827\n",
       "Top 20    0.867636\n",
       "Random    0.506801\n",
       "dtype: float64"
      ]
     },
     "execution_count": 38,
     "metadata": {},
     "output_type": "execute_result"
    }
   ],
   "source": [
    "# print out AUUC score\n",
    "auuc_score(df_preds, outcome_col=y_name, treatment_col='is_treated')"
   ]
  },
  {
   "cell_type": "markdown",
   "metadata": {},
   "source": [
    "(a relatively smaller enhancement on the AUUC is observed in this R Learner case)"
   ]
  },
  {
   "cell_type": "markdown",
   "metadata": {},
   "source": [
    "### S Learner as base and feed in Random Forest Regressor"
   ]
  },
  {
   "cell_type": "code",
   "execution_count": 39,
   "metadata": {
    "ExecuteTime": {
     "end_time": "2021-11-29T23:18:56.214863Z",
     "start_time": "2021-11-29T23:18:56.212530Z"
    }
   },
   "outputs": [],
   "source": [
    "slearner_rf = BaseSRegressor(\n",
    "    RandomForestRegressor(\n",
    "        n_estimators = 100,\n",
    "        max_depth = 8,\n",
    "        min_samples_leaf = 100\n",
    "    ), \n",
    "    control_name='control')"
   ]
  },
  {
   "cell_type": "code",
   "execution_count": 40,
   "metadata": {
    "ExecuteTime": {
     "end_time": "2021-11-29T23:26:06.103012Z",
     "start_time": "2021-11-29T23:18:56.216262Z"
    }
   },
   "outputs": [],
   "source": [
    "# using all features\n",
    "features = X_names \n",
    "slearner_rf.fit(X = df_train[features].values, \n",
    "                treatment = df_train['treatment_group_key'].values,\n",
    "                y = df_train[y_name].values)\n",
    "y_preds = slearner_rf.predict(df_test[features].values)"
   ]
  },
  {
   "cell_type": "code",
   "execution_count": 41,
   "metadata": {
    "ExecuteTime": {
     "end_time": "2021-11-29T23:27:14.666207Z",
     "start_time": "2021-11-29T23:26:06.104715Z"
    }
   },
   "outputs": [],
   "source": [
    "# using top 10 features\n",
    "features = top_10_features \n",
    "slearner_rf.fit(X = df_train[features].values, \n",
    "                treatment = df_train['treatment_group_key'].values,\n",
    "                y = df_train[y_name].values)\n",
    "y_preds_t10 = slearner_rf.predict(df_test[features].values)"
   ]
  },
  {
   "cell_type": "code",
   "execution_count": 42,
   "metadata": {
    "ExecuteTime": {
     "end_time": "2021-11-29T23:28:56.526315Z",
     "start_time": "2021-11-29T23:27:14.667927Z"
    }
   },
   "outputs": [],
   "source": [
    "# using top 15 features\n",
    "features = top_15_features \n",
    "slearner_rf.fit(X = df_train[features].values, \n",
    "                treatment = df_train['treatment_group_key'].values,\n",
    "                y = df_train[y_name].values)\n",
    "y_preds_t15 = slearner_rf.predict(df_test[features].values)"
   ]
  },
  {
   "cell_type": "code",
   "execution_count": 43,
   "metadata": {
    "ExecuteTime": {
     "end_time": "2021-11-29T23:31:13.640303Z",
     "start_time": "2021-11-29T23:28:56.527765Z"
    }
   },
   "outputs": [],
   "source": [
    "# using top 20 features\n",
    "features = top_20_features \n",
    "slearner_rf.fit(X = df_train[features].values, \n",
    "                treatment = df_train['treatment_group_key'].values,\n",
    "                y = df_train[y_name].values)\n",
    "y_preds_t20 = slearner_rf.predict(df_test[features].values)"
   ]
  },
  {
   "cell_type": "markdown",
   "metadata": {},
   "source": [
    "### Print results for S Learner"
   ]
  },
  {
   "cell_type": "code",
   "execution_count": 44,
   "metadata": {
    "ExecuteTime": {
     "end_time": "2021-11-29T23:31:15.343770Z",
     "start_time": "2021-11-29T23:31:13.641802Z"
    }
   },
   "outputs": [
    {
     "data": {
      "image/png": "[encoded data removed]",
      "text/plain": [
       "<Figure size 800x800 with 1 Axes>"
      ]
     },
     "metadata": {},
     "output_type": "display_data"
    }
   ],
   "source": [
    "df_preds = pd.DataFrame([y_preds.ravel(), \n",
    "                         y_preds_t10.ravel(),\n",
    "                         y_preds_t15.ravel(),\n",
    "                         y_preds_t20.ravel(),\n",
    "                         treatments,\n",
    "                         df_test[y_name].ravel()],\n",
    "                        index=['All', 'Top 10', 'Top 15', 'Top 20', 'is_treated', y_name]).T\n",
    "\n",
    "plot_gain(df_preds, outcome_col=y_name, treatment_col='is_treated')"
   ]
  },
  {
   "cell_type": "code",
   "execution_count": 45,
   "metadata": {
    "ExecuteTime": {
     "end_time": "2021-11-29T23:31:15.523386Z",
     "start_time": "2021-11-29T23:31:15.346076Z"
    }
   },
   "outputs": [
    {
     "data": {
      "text/plain": [
       "All       0.824483\n",
       "Top 10    0.832872\n",
       "Top 15    0.817835\n",
       "Top 20    0.816149\n",
       "Random    0.506801\n",
       "dtype: float64"
      ]
     },
     "execution_count": 45,
     "metadata": {},
     "output_type": "execute_result"
    }
   ],
   "source": [
    "# print out AUUC score\n",
    "auuc_score(df_preds, outcome_col=y_name, treatment_col='is_treated')"
   ]
  },
  {
   "cell_type": "markdown",
   "metadata": {},
   "source": [
    "In this notebook, we demonstrated how our Filter method functions are able to select important features and enhance the AUUC performance (while the results might vary among different datasets, models and hyper-parameters)."
   ]
  },
  {
   "cell_type": "code",
   "execution_count": null,
   "metadata": {},
   "outputs": [],
   "source": []
  }
 ],
 "metadata": {
  "kernelspec": {
   "display_name": "causal3.9",
   "language": "python",
   "name": "causal3.9"
  },
  "language_info": {
   "codemirror_mode": {
    "name": "ipython",
    "version": 3
   },
   "file_extension": ".py",
   "mimetype": "text/x-python",
   "name": "python",
   "nbconvert_exporter": "python",
   "pygments_lexer": "ipython3",
   "version": "3.9.5"
  },
  "toc": {
   "base_numbering": 1,
   "nav_menu": {},
   "number_sections": true,
   "sideBar": true,
   "skip_h1_title": false,
   "title_cell": "Table of Contents",
   "title_sidebar": "Contents",
   "toc_cell": false,
   "toc_position": {},
   "toc_section_display": true,
   "toc_window_display": false
  }
 },
 "nbformat": 4,
 "nbformat_minor": 2
}
